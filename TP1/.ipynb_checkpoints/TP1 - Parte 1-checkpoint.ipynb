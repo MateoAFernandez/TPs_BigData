{
 "cells": [
  {
   "cell_type": "markdown",
   "metadata": {
    "collapsed": true,
    "id": "Dh8MkXaG-c9Y"
   },
   "source": [
    "# Curso de Big Data\n",
    "\n",
    "## Trabajo Práctico 1 - Parte 1\n",
    "\n",
    "### Grupo:  Armas Braithwaite, Fernández, Menta, Vargas Ochuza"
   ]
  },
  {
   "cell_type": "markdown",
   "metadata": {
    "id": "RhBlm6mZ-c9e"
   },
   "source": [
    "### Reglas de formato y presentación\n",
    "- El trabajo debe estar bien comentado (utilizando #) para que el código sea fácil de entender por sus compañeros y profesores.\n",
    "\n",
    "- El mismo debe ser completado en este Jupyter Notebook y entregado como tal, es decir en un archivo .ipynb\n"
   ]
  },
  {
   "cell_type": "markdown",
   "metadata": {
    "id": "ZEjGaa4U-c9g"
   },
   "source": [
    "### Fecha de entrega:\n",
    "Miércoles 4 de octubre a las 23:59hs"
   ]
  },
  {
   "cell_type": "markdown",
   "metadata": {
    "id": "N9TU2y7E-c9h"
   },
   "source": [
    "### Modalidad de entrega\n",
    "- Al finalizar el trabajo práctico deben hacer un último <i>commit</i> en su repositorio de GitHub con el mensaje “Entrega final del tp”. \n",
    "- Asegurense de haber creado una carpeta llamada TP1. Este Jupyter Notebook y el correspondiente al TP1 - Parte 2 deben estar dentro de esa carpeta.\n",
    "- También deben completar el link de su repositorio -para que pueda ser clonado y corregido- en la siguiente google sheet: https://docs.google.com/spreadsheets/d/11nJY1Frgla45sTgsPiSeOZM9iBM-XRWh/edit?usp=sharing&ouid=105815768529474116534&rtpof=true&sd=true\n",
    "- La última versión en el repositorio es la que será evaluada. Por lo que es importante que: \n",
    "    - No completen la google sheet hasta no haber terminado y estar seguros de que han hecho el <i>commit y push</i> a la versión final que quieren entregar. Debido a que se pueden tomar hasta 3 días de extensión a lo largo del curso, no se  corregirán sus tareas hasta no ver el link en la google sheet.\n",
    "    - No hagan nuevos <i>push</i> despues de haber entregado su versión final. Esto generaría confusión acerca de que versión es la que quieren que se les corrija. "
   ]
  },
  {
   "cell_type": "markdown",
   "metadata": {
    "id": "ZXbrPraa-c9i"
   },
   "source": [
    "#### Ejercicio 1\n",
    "Este ejercicio simplemente busca repasar lo que aprendimos sobre definición de variables. Definir dos variables con un nombre combinado (al menos dos palabras), una que se pueda crear y otra que tenga un nombre inaceptable (genera error). Explicar por qué ocurre el error."
   ]
  },
  {
   "cell_type": "code",
   "execution_count": 21,
   "metadata": {
    "id": "mb7PkXfN-c9j"
   },
   "outputs": [
    {
     "ename": "SyntaxError",
     "evalue": "invalid syntax (4066587883.py, line 12)",
     "output_type": "error",
     "traceback": [
      "\u001b[1;36m  Cell \u001b[1;32mIn[21], line 12\u001b[1;36m\u001b[0m\n\u001b[1;33m    indicc precio = 1\u001b[0m\n\u001b[1;37m           ^\u001b[0m\n\u001b[1;31mSyntaxError\u001b[0m\u001b[1;31m:\u001b[0m invalid syntax\n"
     ]
    }
   ],
   "source": [
    "# Caso A\n",
    "\n",
    "## Definimos la variable con nombre combinado correcta\n",
    "indc_precio = 1\n",
    "\n",
    "\n",
    "# Caso B \n",
    "\n",
    "## Definimos la variable con nombre combinado que va a generar error\n",
    "indicc precio = 1\n",
    "\n",
    "# Sintaxis inválida: No podemos definir una variable con un espacio.\n",
    "# Como reemplazo del espacio, podemos utilizar un guión bajo."
   ]
  },
  {
   "cell_type": "markdown",
   "metadata": {},
   "source": [
    "#### Ejercicio 2\n",
    "Importar módulos. Usando el módulo math impriman la tangente de 1. ¿Cuál es el resultado?\n",
    "Hagan este cálculo de dos formas: primero importando el módulo math y usando la función correspondiente y luego solo importando la función específica que precisan para el cálculo.\n"
   ]
  },
  {
   "cell_type": "code",
   "execution_count": 10,
   "metadata": {},
   "outputs": [
    {
     "name": "stdout",
     "output_type": "stream",
     "text": [
      "1.5574077246549023\n",
      "1.5574077246549023\n"
     ]
    }
   ],
   "source": [
    "# Caso A\n",
    "\n",
    "## Importamos el módulo math\n",
    "import math\n",
    "\n",
    "## calculamos la tangente de 1, \n",
    "tan1 = math.tan(1)\n",
    "print(tan1)\n",
    "\n",
    "\n",
    "# Caso B\n",
    "\n",
    "## Importamos el atributo del módulo math, ya no tenemos que utilizar 'math.' para acceder al atributo\n",
    "from math import tan\n",
    "\n",
    "## calculamos la tangente\n",
    "tan2 = tan(1)\n",
    "\n",
    "print(tan2)\n",
    "\n",
    "\n",
    "# Vemos que ambos funcionan de la misma manera y obtenemos el mismo resultado."
   ]
  },
  {
   "cell_type": "markdown",
   "metadata": {
    "id": "GlNh0fyv-c9l"
   },
   "source": [
    "#### Ejercicio 3 \n",
    "Este ejercicio trata sobre lograr el intercambio de valores entre dos variables utilizando una variable temporal para hacerlo. Las variables temporales y la sustitución de valores termina siendo útil en algunos loops. Los pasos a seguir son: (a) definir variables A y B (cuyos valores buscaremos invertir); (b) definir una variable temporal que resguarde el valor de B; (c) sustitución (asignar B igual a A y también A igual al valor original de B); (d) imprimir valores para verificar."
   ]
  },
  {
   "cell_type": "code",
   "execution_count": 11,
   "metadata": {
    "id": "uWalSYFC-c9m"
   },
   "outputs": [
    {
     "name": "stdout",
     "output_type": "stream",
     "text": [
      "2\n",
      "1\n"
     ]
    }
   ],
   "source": [
    "# a) Definir variables A y B, \n",
    "A = 1\n",
    "B = 2\n",
    "\n",
    "# b) Definir variable temporal \"tmp\" igual a B (la variable, no el valor)\n",
    "tmp = B\n",
    "\n",
    "# c) Ahora sustituir variables: variable B igual a variable A (la variable, no el\n",
    "# valor) y viceversa.\n",
    "B = A\n",
    "A = tmp\n",
    "\n",
    "# d) Verifiquemos resultados: imprimir variables A y B\n",
    "print(A)\n",
    "print(B)"
   ]
  },
  {
   "cell_type": "markdown",
   "metadata": {
    "id": "wXhAaRyN-c9p"
   },
   "source": [
    "#### Ejercicio 4\n",
    "En este ejercicio se busca poner en práctica el uso de range() en un for loop. \n",
    "\n",
    "Construir un for loop usando un range(). El range debe ser entre los valores que quieran (con una diferencia mínima de 15 entre start y stop), en incrementos de 3 unidades. Dentro del loop, implementar una sentencia condicional que imprima una leyenda indicando si el input es par o impar."
   ]
  },
  {
   "cell_type": "code",
   "execution_count": 1,
   "metadata": {
    "id": "_oE5sG0c-c9q"
   },
   "outputs": [
    {
     "name": "stdout",
     "output_type": "stream",
     "text": [
      "0 es un número par\n",
      "3 es un número impar\n",
      "6 es un número par\n",
      "9 es un número impar\n",
      "12 es un número par\n",
      "15 es un número impar\n",
      "18 es un número par\n",
      "21 es un número impar\n"
     ]
    }
   ],
   "source": [
    "# Primero definimos x como una secuencia de numeros que va de 0 a 22 con un salto de 3\n",
    "x = range(0,22,3)\n",
    "# Comenzamos el loop llamando a cada valor pertenenciente a la secuencia que cumple con estas caracteristicas.\n",
    "for n in x:\n",
    "# El loop chequea primero si el residuo del numero dividido por 2 es 0, en cuyo caso el argumento será \n",
    "# verdadero e imprimirá que el numero es par.    \n",
    "    if n%2 == 0:\n",
    "        print(str(n) + \" es un número par\")\n",
    "# Caso contrario, es decir, que el resto del numero dividido por 2 no sea 0, es decir, que no sea un numero par, \n",
    "# imprimirá que el numero es impar.        \n",
    "    else:\n",
    "        print(str(n) + \" es un número impar\")\n"
   ]
  },
  {
   "cell_type": "markdown",
   "metadata": {
    "id": "h3g5bXUB-c9u"
   },
   "source": [
    "#### Ejercicio 5\n",
    "Para practicar el uso de condiciones lógicas y la definición de funciones, construir una función con una sentencia condicional que verifique si un año es bisiesto o no. Para que un año sea bisiesto debe cumplir una de dos condiciones:\n",
    "\n",
    "(a) que sea divisible por 400; o\n",
    "\n",
    "(b) que sea divisible por 4 y no sea divisible por 100\n",
    "\n",
    "Notar que son dos condiciones, donde la segunda condición tiene dos componentes. Prueben la función con 3 valores para verificar que funcione."
   ]
  },
  {
   "cell_type": "code",
   "execution_count": 11,
   "metadata": {
    "id": "7_MnILdz-c9v"
   },
   "outputs": [
    {
     "name": "stdout",
     "output_type": "stream",
     "text": [
      "2000 es un año bisiesto\n",
      "2001 NO es un año bisiesto\n",
      "2002 NO es un año bisiesto\n"
     ]
    }
   ],
   "source": [
    "# definimos la función 'bisiesto' que evaluará si un año (representado por 'number') es bisiesto o no\n",
    "def bisiesto(number):\n",
    "    # inicializamos la variable 'string', su valor se sobrescribirá más adelante\n",
    "    string=\"soy texto\"\n",
    "    \n",
    "    # introducimos el condicional para verificar las condiciones para que un año sea bisiesto\n",
    "    # si el residuo de la división del número por 400 es 0 ó si el resto de la división por 4 (pero no por 100) es 0:\n",
    "    if (number % 400 == 0) or (number % 4 == 0 and number % 100 != 0):\n",
    "        # si cumple alguna de las condiciones anteriores, asignamos el mensaje de \"año bisiesto\" a 'string'\n",
    "        string = str(number) + \" es un año bisiesto\"\n",
    "    else:\n",
    "        # si no cumple ninguna de las condiciones, asignamos el mensaje de \"NO es un año bisiesto\" a 'string'\n",
    "        string = str(number) + \" NO es un año bisiesto\"\n",
    "\n",
    "    # devolvemos el resultado almacenado en 'string'\n",
    "    return string\n",
    "\n",
    "print(bisiesto(2000))\n",
    "print(bisiesto(2001))\n",
    "print(bisiesto(2002))\n"
   ]
  },
  {
   "cell_type": "markdown",
   "metadata": {
    "collapsed": true,
    "id": "P3a7bJkd-c9w"
   },
   "source": [
    "#### Ejercicio 6 \n",
    "Pongamos en práctica identificar el type() de cada variable. A continuación tenemos una lista con elementos de diferentes tipos. Construyan un for loop que itere sobre la lista e imprima un cartel indicando el tipo de dato u objeto que hay en cada caso."
   ]
  },
  {
   "cell_type": "code",
   "execution_count": 2,
   "metadata": {
    "id": "jDf4d_Wr-c9w"
   },
   "outputs": [],
   "source": [
    "mi_lista = [10, 34.5, 99999, 'abc', [1,2,3], ('ARG', 1810), {'pob': 45}, True]\n"
   ]
  },
  {
   "cell_type": "code",
   "execution_count": 4,
   "metadata": {
    "id": "SAJgEiNEFQAS"
   },
   "outputs": [
    {
     "name": "stdout",
     "output_type": "stream",
     "text": [
      "El elemento 10 es de tipo <class 'int'>\n",
      "El elemento 34.5 es de tipo <class 'float'>\n",
      "El elemento 99999 es de tipo <class 'int'>\n",
      "El elemento abc es de tipo <class 'str'>\n",
      "El elemento [1, 2, 3] es de tipo <class 'list'>\n",
      "El elemento ('ARG', 1810) es de tipo <class 'tuple'>\n",
      "El elemento {'pob': 45} es de tipo <class 'dict'>\n",
      "El elemento True es de tipo <class 'bool'>\n"
     ]
    }
   ],
   "source": [
    "# Hacemos un bucle donde los inputs serán los elementos de 'mi_lista'\n",
    "for element in mi_lista:\n",
    "# el bucle va a imprimir cada elemento de la lista y su tipo\n",
    "    print(f\"El elemento {element} es de tipo {type(element)}\")\n",
    "    "
   ]
  },
  {
   "cell_type": "markdown",
   "metadata": {
    "id": "y1lncitl-c9x"
   },
   "source": [
    "#### Ejercicio 7\n",
    "Ahora definan ustedes una nueva lista, en la que los primeros cuatro elementos sean palabras (strings), el quinto elemento no sea string, y el sexto sea string. Construyan un for loop que corra por la lista y que imprima la palabra y la longitud de la misma. Que el loop contenga una sentencia condicional que imprima un cartel \"Elemento no es un string: < el elemento > | < class del elemento >\" para los casos dónde el elemento evaluado no sea string."
   ]
  },
  {
   "cell_type": "code",
   "execution_count": 8,
   "metadata": {
    "id": "bFOk9Os0-c9x"
   },
   "outputs": [
    {
     "name": "stdout",
     "output_type": "stream",
     "text": [
      "hola. Su longitud es 4\n",
      "holaa. Su longitud es 5\n",
      "holaaa. Su longitud es 6\n",
      "holaaaa. Su longitud es 7\n",
      "Elemento no es un string: 10 | <class 'int'>\n",
      "holaaaaa. Su longitud es 8\n"
     ]
    }
   ],
   "source": [
    "# generamos la lista con los elementos\n",
    "lista = ['hola', 'holaa', 'holaaa', 'holaaaa', 10, 'holaaaaa']\n",
    "\n",
    "# armamos un bucle donde los inputs son los elementos en 'lista'\n",
    "for element in lista:\n",
    "# introducimos el condicional: verdadero si 'element' es un string    \n",
    "    if isinstance(element, str):\n",
    "        print(f\"{element}. Su longitud es {len(element)}\")\n",
    "# si el condicional es falso devuelve el elemento y su type\n",
    "    else:\n",
    "        print(f\"Elemento no es un string: {element} | {type(element)}\")\n"
   ]
  },
  {
   "cell_type": "markdown",
   "metadata": {
    "id": "PUpxDz72-c9x"
   },
   "source": [
    "#### Ejercicio 8\n",
    "Argentina tiene una representación legislativa proporcional en la cual la cantidad de diputados se debería ajustar según el tamaño de población de cada provincia. Otra característica de la representación legislativa del país es que hay una cantidad mínima de diputados por provincia (5). Esto genera un desbalance en la cantidad de ciudadanos por cada representante en el Congreso entre provincias.\n",
    "\n",
    "A continuación preparamos algunos ejemplos, dividiendo la población de cada provincia (según estimación para el 2022) por la cantidad de representantes en el Congreso para esa misma jurisdicción. También armamos el equivalente para el total país y una lista con los valores provinciales.\n",
    "\n",
    "En este ejercicio les pedimos que construyan un for loop que itere sobre el diccionario definido y compare cada valor provincial contra el valor de proporcionalidad directa (la variable argentina). El loop debe imprimir una leyenda que indique si la provincia está sobrerepresentada, subrepresentada o con representación proporcional. Además, queremos que el mismo loop compare los valores de las provincias sobrerepresentadas y que guarde el valor de la provincia con mayor sobrerepresentación. Luego del loop impriman este valor así podemos ver que haya funcionado.\n",
    "\n",
    "Fuente para población: https://es.wikipedia.org/wiki/Demograf%C3%ADa_de_Argentina\n",
    "\n",
    "Fuente para representantes: https://es.wikipedia.org/wiki/C%C3%A1mara_de_Diputados_de_la_Naci%C3%B3n_Argentina"
   ]
  },
  {
   "cell_type": "code",
   "execution_count": 13,
   "metadata": {
    "id": "hd8Z5AHs-c9y"
   },
   "outputs": [],
   "source": [
    "# Valor de referencia: proporcionalidad\n",
    "argentina = 46044703 / 257\n",
    "\n",
    "# Creamos variables para una selección de jurisdicciones\n",
    "cordoba = 3978984 / 18\n",
    "santa_fe = 3556522 / 19\n",
    "mendoza = 2014533 / 10\n",
    "buenos_aires = 17569053 / 70\n",
    "entre_rios =  1426426 / 9\n",
    "santa_cruz = 333473 / 5\n",
    "formosa = 606041 / 5\n",
    "\n",
    "# Definimos el diccionario para iterar\n",
    "dict_provincias = {\n",
    "    \"Córdoba\": cordoba,\n",
    "    \"Santa Fe\": santa_fe,\n",
    "    \"Mendoza\": mendoza,\n",
    "    \"Buenos Aires\": buenos_aires,\n",
    "    \"Entre Ríos\": entre_rios,\n",
    "    \"Santa Cruz\": santa_cruz,\n",
    "    \"Formosa\": formosa\n",
    "}\n"
   ]
  },
  {
   "cell_type": "code",
   "execution_count": 14,
   "metadata": {},
   "outputs": [
    {
     "name": "stdout",
     "output_type": "stream",
     "text": [
      "Córdoba está SUBREPRESENTADA. Cada diputado representa a 221055 personas. Bajo proporcionalidad, un diputado representaría a 179162 personas.\n",
      "Santa Fe está SUBREPRESENTADA. Cada diputado representa a 187185 personas. Bajo proporcionalidad, un diputado representaría a 179162 personas.\n",
      "Mendoza está SUBREPRESENTADA. Cada diputado representa a 201453 personas. Bajo proporcionalidad, un diputado representaría a 179162 personas.\n",
      "Buenos Aires está SUBREPRESENTADA. Cada diputado representa a 250986 personas. Bajo proporcionalidad, un diputado representaría a 179162 personas.\n",
      "Entre Ríos está SOBREREPRESENTADA. Cada diputado representa a 158492 personas. Bajo proporcionalidad, un diputado representaría a 179162 personas.\n",
      "Santa Cruz está SOBREREPRESENTADA. Cada diputado representa a 66695 personas. Bajo proporcionalidad, un diputado representaría a 179162 personas.\n",
      "Formosa está SOBREREPRESENTADA. Cada diputado representa a 121208 personas. Bajo proporcionalidad, un diputado representaría a 179162 personas.\n",
      "66694.6\n"
     ]
    }
   ],
   "source": [
    "# armamos un diccionario vacío 'sobrerep' que almacenará las provincias sobrerepresentadas y su respectiva proporción\n",
    "sobrerep = {}\n",
    "\n",
    "# creamos un loop sobre cada provincia (key) en el diccionario 'dict_provincias':\n",
    "for key in dict_provincias:\n",
    "    # si la proporción de representantes por persona en la provincia es MENOR que la proporción nacional ('argentina'):\n",
    "    if round(dict_provincias[key]) < round(argentina):\n",
    "        # imprimimos que la provincia está sobrerepresentada y mostramos las proporciones respectivas:\n",
    "        print(key + \" está SOBREREPRESENTADA. Cada diputado representa a \" + str(round(dict_provincias[key])) + \" personas. Bajo proporcionalidad, un diputado representaría a \" + str(round(argentina)) + \" personas.\")\n",
    "        \n",
    "        # agregamos la provincia y su proporción al diccionario 'sobrerep'\n",
    "        sobrerep[key] = dict_provincias[key]\n",
    "        \n",
    "        # calculamos y almacenamos el valor de la provincia más sobrerepresentada\n",
    "        maxrep = min(sobrerep.values())\n",
    "    \n",
    "    # si la proporción de representantes por persona en la provincia es MAYOR que la proporción nacional ('argentina'):\n",
    "    elif round(dict_provincias[key]) > round(argentina):\n",
    "        print(key + \" está SUBREPRESENTADA. Cada diputado representa a \" + str(round(dict_provincias[key])) + \" personas. Bajo proporcionalidad, un diputado representaría a \" + str(round(argentina)) + \" personas.\")\n",
    "    \n",
    "    # Si la provincia tiene una proporción de representantes por persona igual a la proporción nacional:\n",
    "    else:\n",
    "        print(key + \" tiene REPRESENTACIÓN PROPORCIONAL. Cada diputado representa a \" + str(round(dict_provincias[key])) + \" personas. Bajo proporcionalidad, un diputado representaría a \" + str(round(argentina)) + \" personas.\")\n",
    "\n",
    "# imprimimos el valor de la provincia con mayor sobrerepresentación.\n",
    "print(maxrep)\n"
   ]
  },
  {
   "cell_type": "markdown",
   "metadata": {
    "id": "GokZe5tV-c9z"
   },
   "source": [
    "#### Ejercicio 9\n",
    "Si buscáramos minimizar la subrepresentación de la provincia de Buenos Aires, ¿cuántos representantes debería tener según el Censo 2022? Usemos el mismo criterio de sub/sobrerepresentacion que en el ejercicio anterior: población sobre cantidad de representantes.\n",
    "\n",
    "Para responder esta pregunta construyan un while loop que incremente de a uno la cantidad de representantes de la Provincia hasta minimizar la subrepresentación. En cada iteración impriman un cartel que diga: \"Se agregó un representante, el total ahora es X\" dónde X es el número de representantes simulado."
   ]
  },
  {
   "cell_type": "code",
   "execution_count": 16,
   "metadata": {
    "id": "x9DvuXa_-c9z"
   },
   "outputs": [],
   "source": [
    "# Estos son los valores de la provincia\n",
    "representantes_pba = 70\n",
    "poblacion2010_pba = 17594428\n",
    "ba= poblacion2010_pba/representantes_pba\n",
    "\n",
    "# Y el valor de referencia nacional\n",
    "argentina = 46044703 / 257"
   ]
  },
  {
   "cell_type": "code",
   "execution_count": 29,
   "metadata": {
    "scrolled": true
   },
   "outputs": [
    {
     "name": "stdout",
     "output_type": "stream",
     "text": [
      "Se agregó un representante, el total ahora es 72\n",
      "Se agregó un representante, el total ahora es 73\n",
      "Se agregó un representante, el total ahora es 74\n",
      "Se agregó un representante, el total ahora es 75\n",
      "Se agregó un representante, el total ahora es 76\n",
      "Se agregó un representante, el total ahora es 77\n",
      "Se agregó un representante, el total ahora es 78\n",
      "Se agregó un representante, el total ahora es 79\n",
      "Se agregó un representante, el total ahora es 80\n",
      "Se agregó un representante, el total ahora es 81\n",
      "Se agregó un representante, el total ahora es 82\n",
      "Se agregó un representante, el total ahora es 83\n",
      "Se agregó un representante, el total ahora es 84\n",
      "Se agregó un representante, el total ahora es 85\n",
      "Se agregó un representante, el total ahora es 86\n",
      "Se agregó un representante, el total ahora es 87\n",
      "Se agregó un representante, el total ahora es 88\n",
      "Se agregó un representante, el total ahora es 89\n",
      "Se agregó un representante, el total ahora es 90\n",
      "Se agregó un representante, el total ahora es 91\n",
      "Se agregó un representante, el total ahora es 92\n",
      "Se agregó un representante, el total ahora es 93\n",
      "Se agregó un representante, el total ahora es 94\n",
      "Se agregó un representante, el total ahora es 95\n",
      "Se agregó un representante, el total ahora es 96\n",
      "Se agregó un representante, el total ahora es 97\n",
      "Se agregó un representante, el total ahora es 98\n",
      "Se agregó un representante, el total ahora es 99\n",
      "Se ha generado una sobrerepresentacion, por lo que nos quedamos con el N anterior: 98\n"
     ]
    }
   ],
   "source": [
    "# creamos un while loop que va a iterar mientras que la representación de ba sea superior o igual a la de argentina\n",
    "while ba >= argentina:\n",
    "# en cada iteración sumamos un representante a pba     \n",
    "    representantes_pba = representantes_pba+1\n",
    "    print(\"Se agregó un representante, el total ahora es \" + str(representantes_pba))\n",
    "# calculamos nuevamente el coeficiente para que sirva de base en la siguiente iteración    \n",
    "    ba=poblacion2010_pba/representantes_pba\n",
    "# nos quedamos con la cantidad de representantes previa a tener una sobrerepresentación    \n",
    "    if ba < argentina:\n",
    "        print(\"Se ha generado una sobrerepresentacion, por lo que nos quedamos con el N anterior: \" + str(representantes_pba-1))\n",
    "\n",
    "    "
   ]
  },
  {
   "cell_type": "markdown",
   "metadata": {},
   "source": [
    "#### Ejercicio 10\n",
    "Construyan una función llamada suma que tome una cantidad variable de parámetros y devuelva el resultado de la suma."
   ]
  },
  {
   "cell_type": "code",
   "execution_count": 17,
   "metadata": {},
   "outputs": [
    {
     "name": "stdout",
     "output_type": "stream",
     "text": [
      "15\n",
      "6\n"
     ]
    }
   ],
   "source": [
    "# generamos una funcion que se denomine 'suma'\n",
    "# el * permite indicar que habrá un número variable de argumentos posicionales para la función\n",
    "def suma(*args):\n",
    "# creamos una variable igual a cero    \n",
    "    suma=0\n",
    "# vamos llenando la variable a partir de sumar los parametros que introduzcamos\n",
    "    for arg in args:\n",
    "        suma=suma+arg\n",
    "    return suma\n",
    "\n",
    "print(suma(1,2,3,4,5))\n",
    "print(suma(1,2,3))\n",
    "\n",
    "# Esta función devuelve la suma de los números que le brindemos.\n",
    "# El usuario puede elegir la cantidad de números que desee sumar."
   ]
  },
  {
   "cell_type": "code",
   "execution_count": null,
   "metadata": {},
   "outputs": [],
   "source": []
  }
 ],
 "metadata": {
  "anaconda-cloud": {},
  "colab": {
   "name": "TP1 - Parte 1.ipynb",
   "provenance": []
  },
  "kernelspec": {
   "display_name": "Python 3 (ipykernel)",
   "language": "python",
   "name": "python3"
  },
  "language_info": {
   "codemirror_mode": {
    "name": "ipython",
    "version": 3
   },
   "file_extension": ".py",
   "mimetype": "text/x-python",
   "name": "python",
   "nbconvert_exporter": "python",
   "pygments_lexer": "ipython3",
   "version": "3.11.4"
  }
 },
 "nbformat": 4,
 "nbformat_minor": 1
}
