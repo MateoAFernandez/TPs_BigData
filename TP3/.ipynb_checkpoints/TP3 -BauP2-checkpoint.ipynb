{
 "cells": [
  {
   "cell_type": "markdown",
   "id": "6b9cd2d3",
   "metadata": {},
   "source": [
    "Curso de Big Data\n",
    "==============================\n",
    "\n",
    "Trabajo práctico 3\n",
    "------------------------------\n",
    "\n",
    "### Grupo: Armas Braithwaite, Fernández, Menta, Vargas Ochuza"
   ]
  },
  {
   "cell_type": "markdown",
   "id": "63417974",
   "metadata": {},
   "source": [
    "#### Parte 1: Análisis de la base de hogares y cálculo de pobreza\n",
    "##### Ahora que ya se han familiarizado con la Encuesta Permanente de Hogares (EPH) y con la tabla de adulto equivalente, vamos a complejizar un poco la construcción del índice de pobreza. Lo calcularemos a nivel de hogares, con sus respectivos factores de expansioón y realizaremos una limpieza de la base con mayor dedicación. A continuación, complementamos el trabajo hecho en el TP2 usando la encuesta a nivel hogares de la EPH."
   ]
  },
  {
   "cell_type": "markdown",
   "id": "773ef485",
   "metadata": {},
   "source": [
    "##### Inciso 1\n",
    "##### Exploren el diseño de registro de la base de hogar: a priori, ¿qué variables creen que pueden ser muy predictivas de pobreza y que sería muy útil incluir para perfeccionar el ejercicio del TP2?"
   ]
  },
  {
   "cell_type": "markdown",
   "id": "ea670de8",
   "metadata": {},
   "source": [
    "###### Las variables relevantes para explicar la pobreza creemos que son las siguientes:\n",
    "###### - ITF_hogar (Monto de ingreso total familiar)}: Evalúa la disponibilidad de recursos económicos en el hogar, lo que está estrechamente relacionado con la pobreza.\n",
    "###### - Región (REGION): La ubicación geográfica de un hogar puede tener un impacto significativo en su nivel de vida y acceso a recursos. Por lo tanto, la región en la que se encuentra el hogar es una variable importante.\n",
    "###### - Características de la vivienda (IV2, IV3, IV6, IV8, IV10, IV12_1, IV_12_2, IV12_3): Estas variables describen aspectos de la vivienda, como el número de habitaciones, el estado del piso, el acceso a agua, la presencia de baño, la proximidad a basurales, zonas inundables y villas de emergencia. Estas características pueden estar relacionadas con la calidad de vida y el nivel de pobreza.\n",
    "###### Características habitacionales del hogar (II1, II7, II8, II9): Estas variables describen el número de habitaciones en el hogar, el régimen de tenencia de la vivienda y el tipo de combustible utilizado para cocinar.\n",
    "###### Estrategias del hogar (V1, V2, V4, V5, V6, V12, V14, V17): Estas variables exploran cómo las personas del hogar obtienen ingresos y si han tenido que recurrir a estrategias como pedir préstamos, vender pertenencias o recibir ayuda social. Estas estrategias pueden indicar la vulnerabilidad económica del hogar.\n",
    "###### Resumen del hogar (IX_TOT): La cantidad de miembros en el hogar es un factor importante para evaluar la pobreza, ya que un hogar con más miembros puede requerir más recursos para satisfacer sus necesidades básicas.\n",
    "###### IPCF_hogar (Monto de ingreso per cápita familiar): Proporciona información sobre los recursos disponibles por persona en el hogar, lo que está relacionado con la pobreza."
   ]
  },
  {
   "cell_type": "markdown",
   "id": "1788b994",
   "metadata": {},
   "source": [
    "##### Inciso 2\n",
    "##### Descarguen la base de microdatos de la EPH correspondiente al primer trimestre de 2023 (la base de hogares se llama usu hogar T123.xls). Importen los datos de la encuesta de hogar y, al igual que en el TP2, conserven sólo las observaciones que corresponden a los aglomerados de Ciudad Autónoma de Buenos Aires o del Gran Buenos Aires"
   ]
  },
  {
   "cell_type": "code",
   "execution_count": 117,
   "id": "22a591f3",
   "metadata": {},
   "outputs": [],
   "source": [
    "# Importamos el módulo necesario para trabajar con la base de datos y otros propositos\n",
    "import pandas as pd\n",
    "import numpy as np\n",
    "import matplotlib.pyplot as plt\n",
    "import seaborn as sns"
   ]
  },
  {
   "cell_type": "code",
   "execution_count": 120,
   "id": "f7001c17",
   "metadata": {},
   "outputs": [],
   "source": [
    "# Seteamos el directorio donde vamos a trabajar\n",
    "import os\n",
    "\n",
    "#os.chdir(\"C:/Users/bauti/OneDrive/Documentos/Escritorio/Big Data/TP2/EPH_usu_1er_Trim_2023_xlsx\")\n",
    "os.chdir(\"C:/Users/Paula/Documents/BIGDATA/TPs_BigData/TP3\")"
   ]
  },
  {
   "cell_type": "code",
   "execution_count": 121,
   "id": "66689972",
   "metadata": {},
   "outputs": [],
   "source": [
    "# Cargamos las bases\n",
    "microdata_hogar = pd.read_excel(\"usu_hogar_T123.xlsx\")"
   ]
  },
  {
   "cell_type": "code",
   "execution_count": 122,
   "id": "8ce9eeda",
   "metadata": {},
   "outputs": [],
   "source": [
    "microdata_indv = pd.read_excel(\"usu_individual_T123.xlsx\")"
   ]
  },
  {
   "cell_type": "code",
   "execution_count": 123,
   "id": "e6e16d60",
   "metadata": {},
   "outputs": [
    {
     "data": {
      "text/plain": [
       "7619"
      ]
     },
     "execution_count": 123,
     "metadata": {},
     "output_type": "execute_result"
    }
   ],
   "source": [
    "# Del diccionario de variables sabemos que tenemos que quedarnos solamente con los valores 32 y 33\n",
    "# que son los correspondientes a Ciudad Autónoma de Buenos Aires o Gran Buenos Aires.\n",
    "\n",
    "# Filtramos el dataframe y lo renombramos\n",
    "microdata_indv_filtered = microdata_indv[(microdata_indv['AGLOMERADO'] == 32) | (microdata_indv['AGLOMERADO'] == 33)]\n",
    "len(microdata_indv_filtered)"
   ]
  },
  {
   "cell_type": "code",
   "execution_count": 124,
   "id": "d5885022",
   "metadata": {},
   "outputs": [
    {
     "data": {
      "text/plain": [
       "2736"
      ]
     },
     "execution_count": 124,
     "metadata": {},
     "output_type": "execute_result"
    }
   ],
   "source": [
    "# Filtramos el dataframe y lo renombramos\n",
    "microdata_hogar_filtered = microdata_hogar[(microdata_hogar['AGLOMERADO'] == 32) | (microdata_hogar['AGLOMERADO'] == 33)]\n",
    "len(microdata_hogar_filtered)\n"
   ]
  },
  {
   "cell_type": "markdown",
   "id": "bef1b850",
   "metadata": {},
   "source": [
    "##### Inciso 3: Unan la tabla de la encuesta individual con la de la encuesta de hogar."
   ]
  },
  {
   "cell_type": "code",
   "execution_count": 125,
   "id": "1e3869d7",
   "metadata": {
    "scrolled": true
   },
   "outputs": [],
   "source": [
    "# Realizamos un inner join de las bases para quedarnos solo con las filas cuyo identificador de hogar se encuentre en ambas bases\n",
    "# Importante remarcar que hacemos el merge por vivienda y hogar! ya que pueden haber 2 viviendas en un mismo hogar.\n",
    "\n",
    "merged_microdata = microdata_indv_filtered.merge(microdata_hogar_filtered, on=['CODUSU', \"NRO_HOGAR\"], how='inner')\n",
    "\n",
    "# Renombrar las columnas con sufijo \"_x\" a \"_indv\"\n",
    "merged_microdata.rename(columns=lambda x: x.replace(\"_x\", \"_indv\"), inplace=True)\n",
    "\n",
    "# Renombrar las columnas con sufijo \"_y\" a \"_hogar\"\n",
    "merged_microdata.rename(columns=lambda x: x.replace(\"_y\", \"_hogar\"), inplace=True)\n",
    "\n",
    "# Esto ultimo no es particularmente necesario pues muchos de los valores son duplicados."
   ]
  },
  {
   "cell_type": "code",
   "execution_count": 126,
   "id": "1cca3511",
   "metadata": {},
   "outputs": [
    {
     "data": {
      "text/plain": [
       "7619"
      ]
     },
     "execution_count": 126,
     "metadata": {},
     "output_type": "execute_result"
    }
   ],
   "source": [
    "# Chequeamos la dimension\n",
    "len(merged_microdata)"
   ]
  },
  {
   "cell_type": "markdown",
   "id": "222aa9bd",
   "metadata": {},
   "source": [
    "##### Inciso 4: Generen sus propias funciones para limpiar la base de datos o, si deciden utilizar funciones existentes en paquetes como numpy y pandas, mencionen cuáles usarán y de qué paquetes son.\n",
    "##### &\n",
    "##### Inciso 5: Limpien la base de datos tomando criterios que hagan sentido, tanto para el tratamiento de valores faltantes, de outliers, como así también decidan qué variables categóricas y strings usarían y transfórmenlas de forma que haga sentido para los ejercicios siguientes. Justifiquen sus decisiones."
   ]
  },
  {
   "cell_type": "code",
   "execution_count": 127,
   "id": "78c4497d",
   "metadata": {},
   "outputs": [
    {
     "name": "stdout",
     "output_type": "stream",
     "text": [
      "Variable: CH08, Cantidad de NaN: 1\n",
      "Variable: CH14, Cantidad de NaN: 3959\n",
      "Variable: CH15_COD, Cantidad de NaN: 6248\n",
      "Variable: CH16_COD, Cantidad de NaN: 7515\n",
      "Variable: IMPUTA, Cantidad de NaN: 7548\n",
      "Variable: PP03C, Cantidad de NaN: 4096\n",
      "Variable: PP03D, Cantidad de NaN: 4096\n",
      "Variable: PP3E_TOT, Cantidad de NaN: 4096\n",
      "Variable: PP3F_TOT, Cantidad de NaN: 4096\n",
      "Variable: PP03G, Cantidad de NaN: 4096\n",
      "Variable: PP03H, Cantidad de NaN: 4096\n",
      "Variable: PP03I, Cantidad de NaN: 4096\n",
      "Variable: PP03J, Cantidad de NaN: 4096\n",
      "Variable: INTENSI, Cantidad de NaN: 4096\n",
      "Variable: PP04A, Cantidad de NaN: 4096\n",
      "Variable: PP04B_COD, Cantidad de NaN: 4096\n",
      "Variable: PP04B1, Cantidad de NaN: 4096\n",
      "Variable: PP04B2, Cantidad de NaN: 4096\n",
      "Variable: PP04B3_MES, Cantidad de NaN: 4096\n",
      "Variable: PP04B3_ANO, Cantidad de NaN: 4096\n",
      "Variable: PP04B3_DIA, Cantidad de NaN: 4096\n",
      "Variable: PP04C, Cantidad de NaN: 4096\n",
      "Variable: PP04C99, Cantidad de NaN: 4096\n",
      "Variable: PP04D_COD, Cantidad de NaN: 4096\n",
      "Variable: PP04G, Cantidad de NaN: 4096\n",
      "Variable: PP05B2_MES, Cantidad de NaN: 4096\n",
      "Variable: PP05B2_ANO, Cantidad de NaN: 4096\n",
      "Variable: PP05B2_DIA, Cantidad de NaN: 4096\n",
      "Variable: PP05C_1, Cantidad de NaN: 4096\n",
      "Variable: PP05C_2, Cantidad de NaN: 4096\n",
      "Variable: PP05C_3, Cantidad de NaN: 4096\n",
      "Variable: PP05E, Cantidad de NaN: 4096\n",
      "Variable: PP05F, Cantidad de NaN: 4096\n",
      "Variable: PP05H, Cantidad de NaN: 4096\n",
      "Variable: PP06A, Cantidad de NaN: 4096\n",
      "Variable: PP06C, Cantidad de NaN: 4096\n",
      "Variable: PP06D, Cantidad de NaN: 4096\n",
      "Variable: PP06E, Cantidad de NaN: 4096\n",
      "Variable: PP06H, Cantidad de NaN: 4096\n",
      "Variable: PP07A, Cantidad de NaN: 4096\n",
      "Variable: PP07C, Cantidad de NaN: 4096\n",
      "Variable: PP07D, Cantidad de NaN: 4096\n",
      "Variable: PP07E, Cantidad de NaN: 4096\n",
      "Variable: PP07F1, Cantidad de NaN: 4096\n",
      "Variable: PP07F2, Cantidad de NaN: 4096\n",
      "Variable: PP07F3, Cantidad de NaN: 4096\n",
      "Variable: PP07F4, Cantidad de NaN: 4096\n",
      "Variable: PP07F5, Cantidad de NaN: 4096\n",
      "Variable: PP07G1, Cantidad de NaN: 4096\n",
      "Variable: PP07G2, Cantidad de NaN: 4096\n",
      "Variable: PP07G3, Cantidad de NaN: 4096\n",
      "Variable: PP07G4, Cantidad de NaN: 4096\n",
      "Variable: PP07G_59, Cantidad de NaN: 4096\n",
      "Variable: PP07H, Cantidad de NaN: 4096\n",
      "Variable: PP07I, Cantidad de NaN: 4096\n",
      "Variable: PP07J, Cantidad de NaN: 4096\n",
      "Variable: PP07K, Cantidad de NaN: 4096\n",
      "Variable: PP08D1, Cantidad de NaN: 4096\n",
      "Variable: PP08D4, Cantidad de NaN: 4096\n",
      "Variable: PP08F1, Cantidad de NaN: 4096\n",
      "Variable: PP08F2, Cantidad de NaN: 4096\n",
      "Variable: PP08J1, Cantidad de NaN: 4096\n",
      "Variable: PP08J2, Cantidad de NaN: 4096\n",
      "Variable: PP08J3, Cantidad de NaN: 4096\n",
      "Variable: PP09A, Cantidad de NaN: 4096\n",
      "Variable: PP09A_ESP, Cantidad de NaN: 7602\n",
      "Variable: PP09B, Cantidad de NaN: 4096\n",
      "Variable: PP09C, Cantidad de NaN: 4096\n",
      "Variable: PP09C_ESP, Cantidad de NaN: 7619\n",
      "Variable: PP10A, Cantidad de NaN: 7333\n",
      "Variable: PP10C, Cantidad de NaN: 7333\n",
      "Variable: PP10D, Cantidad de NaN: 7333\n",
      "Variable: PP10E, Cantidad de NaN: 7333\n",
      "Variable: PP11A, Cantidad de NaN: 7333\n",
      "Variable: PP11B_COD, Cantidad de NaN: 7333\n",
      "Variable: PP11B1, Cantidad de NaN: 7333\n",
      "Variable: PP11B2_MES, Cantidad de NaN: 7333\n",
      "Variable: PP11B2_ANO, Cantidad de NaN: 7333\n",
      "Variable: PP11B2_DIA, Cantidad de NaN: 7333\n",
      "Variable: PP11C, Cantidad de NaN: 7333\n",
      "Variable: PP11C99, Cantidad de NaN: 7333\n",
      "Variable: PP11D_COD, Cantidad de NaN: 7410\n",
      "Variable: PP11G_ANO, Cantidad de NaN: 7333\n",
      "Variable: PP11G_MES, Cantidad de NaN: 7333\n",
      "Variable: PP11G_DIA, Cantidad de NaN: 7333\n",
      "Variable: PP11L, Cantidad de NaN: 7333\n",
      "Variable: PP11L1, Cantidad de NaN: 7333\n",
      "Variable: PP11M, Cantidad de NaN: 7333\n",
      "Variable: PP11N, Cantidad de NaN: 7333\n",
      "Variable: PP11O, Cantidad de NaN: 7333\n",
      "Variable: PP11P, Cantidad de NaN: 7333\n",
      "Variable: PP11Q, Cantidad de NaN: 7333\n",
      "Variable: PP11R, Cantidad de NaN: 7333\n",
      "Variable: PP11S, Cantidad de NaN: 7333\n",
      "Variable: PP11T, Cantidad de NaN: 7333\n",
      "Variable: IDECOCUR, Cantidad de NaN: 7619\n",
      "Variable: PDECOCUR, Cantidad de NaN: 7619\n",
      "Variable: P47T, Cantidad de NaN: 24\n",
      "Variable: IDECINDR, Cantidad de NaN: 7619\n",
      "Variable: PDECINDR, Cantidad de NaN: 7619\n",
      "Variable: IDECIFR_indv, Cantidad de NaN: 7619\n",
      "Variable: PDECIFR_indv, Cantidad de NaN: 7619\n",
      "Variable: IDECCFR_indv, Cantidad de NaN: 7619\n",
      "Variable: PDECCFR_indv, Cantidad de NaN: 7619\n",
      "Variable: IV1_ESP, Cantidad de NaN: 7602\n",
      "Variable: IV3_ESP, Cantidad de NaN: 7608\n",
      "Variable: IV7_ESP, Cantidad de NaN: 7605\n",
      "Variable: II7_ESP, Cantidad de NaN: 7590\n",
      "Variable: II8_ESP, Cantidad de NaN: 7392\n",
      "Variable: IDECIFR_hogar, Cantidad de NaN: 7619\n",
      "Variable: PDECIFR_hogar, Cantidad de NaN: 7619\n",
      "Variable: IDECCFR_hogar, Cantidad de NaN: 7619\n",
      "Variable: PDECCFR_hogar, Cantidad de NaN: 7619\n"
     ]
    }
   ],
   "source": [
    "# Identificar variables con NaN y contar cuántos NaN\n",
    "# Utilizamos funciones de Pandas para identificar y limpiar NaN.\n",
    "\n",
    "variables_con_nan = merged_microdata.columns[merged_microdata.isna().any()].tolist()\n",
    "conteo_de_nans = merged_microdata[variables_con_nan].isna().sum()\n",
    "\n",
    "# Imprimir las variables con NaN y la cantidad de NaN en cada una\n",
    "for variable in variables_con_nan:\n",
    "    print(f'Variable: {variable}, Cantidad de NaN: {conteo_de_nans[variable]}')"
   ]
  },
  {
   "cell_type": "code",
   "execution_count": 128,
   "id": "95b8ff95",
   "metadata": {},
   "outputs": [
    {
     "data": {
      "text/html": [
       "<div>\n",
       "<style scoped>\n",
       "    .dataframe tbody tr th:only-of-type {\n",
       "        vertical-align: middle;\n",
       "    }\n",
       "\n",
       "    .dataframe tbody tr th {\n",
       "        vertical-align: top;\n",
       "    }\n",
       "\n",
       "    .dataframe thead th {\n",
       "        text-align: right;\n",
       "    }\n",
       "</style>\n",
       "<table border=\"1\" class=\"dataframe\">\n",
       "  <thead>\n",
       "    <tr style=\"text-align: right;\">\n",
       "      <th></th>\n",
       "      <th>CODUSU</th>\n",
       "      <th>ANO4_indv</th>\n",
       "      <th>TRIMESTRE_indv</th>\n",
       "      <th>NRO_HOGAR</th>\n",
       "      <th>COMPONENTE</th>\n",
       "      <th>H15</th>\n",
       "      <th>REGION_indv</th>\n",
       "      <th>MAS_500_indv</th>\n",
       "      <th>AGLOMERADO_indv</th>\n",
       "      <th>PONDERA_indv</th>\n",
       "      <th>...</th>\n",
       "      <th>RDECCFR_hogar</th>\n",
       "      <th>GDECCFR_hogar</th>\n",
       "      <th>ADECCFR_hogar</th>\n",
       "      <th>PONDIH_hogar</th>\n",
       "      <th>VII1_1</th>\n",
       "      <th>VII1_2</th>\n",
       "      <th>VII2_1</th>\n",
       "      <th>VII2_2</th>\n",
       "      <th>VII2_3</th>\n",
       "      <th>VII2_4</th>\n",
       "    </tr>\n",
       "  </thead>\n",
       "  <tbody>\n",
       "    <tr>\n",
       "      <th>0</th>\n",
       "      <td>TQRMNORUYHLMSMCDEIJAH00719364</td>\n",
       "      <td>2023</td>\n",
       "      <td>1</td>\n",
       "      <td>1</td>\n",
       "      <td>1</td>\n",
       "      <td>1</td>\n",
       "      <td>1</td>\n",
       "      <td>S</td>\n",
       "      <td>33</td>\n",
       "      <td>1545</td>\n",
       "      <td>...</td>\n",
       "      <td>5</td>\n",
       "      <td>5.0</td>\n",
       "      <td>6</td>\n",
       "      <td>2540</td>\n",
       "      <td>1</td>\n",
       "      <td>0</td>\n",
       "      <td>2</td>\n",
       "      <td>0</td>\n",
       "      <td>0</td>\n",
       "      <td>0</td>\n",
       "    </tr>\n",
       "    <tr>\n",
       "      <th>1</th>\n",
       "      <td>TQRMNORUYHLMSMCDEIJAH00719364</td>\n",
       "      <td>2023</td>\n",
       "      <td>1</td>\n",
       "      <td>1</td>\n",
       "      <td>2</td>\n",
       "      <td>1</td>\n",
       "      <td>1</td>\n",
       "      <td>S</td>\n",
       "      <td>33</td>\n",
       "      <td>1545</td>\n",
       "      <td>...</td>\n",
       "      <td>5</td>\n",
       "      <td>5.0</td>\n",
       "      <td>6</td>\n",
       "      <td>2540</td>\n",
       "      <td>1</td>\n",
       "      <td>0</td>\n",
       "      <td>2</td>\n",
       "      <td>0</td>\n",
       "      <td>0</td>\n",
       "      <td>0</td>\n",
       "    </tr>\n",
       "  </tbody>\n",
       "</table>\n",
       "<p>2 rows × 215 columns</p>\n",
       "</div>"
      ],
      "text/plain": [
       "                          CODUSU  ANO4_indv  TRIMESTRE_indv  NRO_HOGAR  \\\n",
       "0  TQRMNORUYHLMSMCDEIJAH00719364       2023               1          1   \n",
       "1  TQRMNORUYHLMSMCDEIJAH00719364       2023               1          1   \n",
       "\n",
       "   COMPONENTE  H15  REGION_indv MAS_500_indv  AGLOMERADO_indv  PONDERA_indv  \\\n",
       "0           1    1            1            S               33          1545   \n",
       "1           2    1            1            S               33          1545   \n",
       "\n",
       "   ...  RDECCFR_hogar  GDECCFR_hogar ADECCFR_hogar  PONDIH_hogar  VII1_1  \\\n",
       "0  ...              5            5.0             6          2540       1   \n",
       "1  ...              5            5.0             6          2540       1   \n",
       "\n",
       "   VII1_2  VII2_1  VII2_2  VII2_3  VII2_4  \n",
       "0       0       2       0       0       0  \n",
       "1       0       2       0       0       0  \n",
       "\n",
       "[2 rows x 215 columns]"
      ]
     },
     "execution_count": 128,
     "metadata": {},
     "output_type": "execute_result"
    }
   ],
   "source": [
    "# Establecer el umbral de 3500 para determinar qué columnas eliminar\n",
    "umbral = 3500\n",
    "\n",
    "# Eliminar columnas con más de 3500 valores NaN\n",
    "# Utilizamos la funcion de Pandas dropna\n",
    "\n",
    "merged_microdata = merged_microdata.dropna(thresh=umbral, axis=1)\n",
    "merged_microdata.head(2)"
   ]
  },
  {
   "cell_type": "code",
   "execution_count": 129,
   "id": "5847e44e",
   "metadata": {},
   "outputs": [
    {
     "data": {
      "text/plain": [
       "6363"
      ]
     },
     "execution_count": 129,
     "metadata": {},
     "output_type": "execute_result"
    }
   ],
   "source": [
    "# Definimos las variables que deseamos filtrar\n",
    "variables = ['ITF_hogar', 'ITF_indv', 'IPCF_hogar', 'IPCF_indv', 'P21', 'P47T']\n",
    "\n",
    "# Definir el umbral del percentil (en este caso, 97%)\n",
    "percentile_threshold = 0.97\n",
    "\n",
    "# Iterar sobre las variables y aplicar el filtrado utlizando Pandas.\n",
    "for variable in variables:\n",
    "    # Calcular el percentil umbral\n",
    "    percentile_value = merged_microdata[variable].quantile(percentile_threshold)\n",
    "    \n",
    "    # Filtrar el DataFrame para mantener solo los valores por debajo del percentil\n",
    "    merged_microdata = merged_microdata[merged_microdata[variable] <= percentile_value]\n",
    "\n",
    "len(merged_microdata)"
   ]
  },
  {
   "cell_type": "code",
   "execution_count": 130,
   "id": "b6cc4454",
   "metadata": {},
   "outputs": [
    {
     "data": {
      "text/plain": [
       "6335"
      ]
     },
     "execution_count": 130,
     "metadata": {},
     "output_type": "execute_result"
    }
   ],
   "source": [
    "# Limpiamos algunas variables con valores especificos utlizando Pandas\n",
    "\n",
    "merged_microdata = merged_microdata[merged_microdata['CH08'] != 9]\n",
    "merged_microdata = merged_microdata[merged_microdata['IV2'] != 99]\n",
    "merged_microdata = merged_microdata[merged_microdata['II1'] != 99]\n",
    "merged_microdata = merged_microdata[merged_microdata['II9'] > 0]\n",
    "merged_microdata = merged_microdata[merged_microdata['ITF_hogar'] >= 0]\n",
    "merged_microdata = merged_microdata[merged_microdata['ITF_indv'] >= 0]\n",
    "merged_microdata = merged_microdata[merged_microdata['IPCF_hogar'] >= 0]\n",
    "merged_microdata = merged_microdata[merged_microdata['IPCF_indv'] >= 0]\n",
    "\n",
    "\n",
    "len(merged_microdata)"
   ]
  },
  {
   "cell_type": "markdown",
   "id": "fc14dc0e",
   "metadata": {},
   "source": [
    "##### Inciso 6: Presenten estadísticas descriptivas de cinco variables de la encuesta de hogar que ustedes creen que pueden ser relevantes para predecir pobreza.\n",
    "\n",
    "**IV8** Tiene baño\n",
    "\n",
    "**IV3** Piso interior de la casa\n",
    "\n",
    "**V4** La cubierta exterior del techo es de...\n",
    "\n",
    "**IV11** El desague del baño es...\n",
    "\n",
    "**IPCF_hogar** Monto de ingreso per cápita familiar del hogar\n",
    "\n",
    "##### Separamos el analisis entre categoricas y no categoricas."
   ]
  },
  {
   "cell_type": "code",
   "execution_count": 131,
   "id": "f51967d5",
   "metadata": {},
   "outputs": [
    {
     "data": {
      "text/plain": [
       "count      6335.000000\n",
       "mean      25048.015656\n",
       "std       32095.284287\n",
       "min           0.000000\n",
       "25%           0.000000\n",
       "50%           0.000000\n",
       "75%       45480.000000\n",
       "max      125000.000000\n",
       "Name: IPCF_hogar, dtype: float64"
      ]
     },
     "execution_count": 131,
     "metadata": {},
     "output_type": "execute_result"
    }
   ],
   "source": [
    "merged_microdata['IPCF_hogar'].describe().T"
   ]
  },
  {
   "cell_type": "code",
   "execution_count": 132,
   "id": "8bf4f65a",
   "metadata": {},
   "outputs": [
    {
     "data": {
      "image/png": "[encoded data removed]",
      "text/plain": [
       "<Figure size 720x432 with 1 Axes>"
      ]
     },
     "metadata": {
      "needs_background": "light"
     },
     "output_type": "display_data"
    },
    {
     "name": "stdout",
     "output_type": "stream",
     "text": [
      "Porcentaje de cada categoría en IV8:\n",
      "1    99.73165\n",
      "2     0.26835\n",
      "Name: IV8, dtype: float64\n",
      "\n"
     ]
    },
    {
     "data": {
      "image/png": "[encoded data removed]",
      "text/plain": [
       "<Figure size 720x432 with 1 Axes>"
      ]
     },
     "metadata": {
      "needs_background": "light"
     },
     "output_type": "display_data"
    },
    {
     "name": "stdout",
     "output_type": "stream",
     "text": [
      "Porcentaje de cada categoría en V4:\n",
      "2    99.526440\n",
      "1     0.347277\n",
      "9     0.126283\n",
      "Name: V4, dtype: float64\n",
      "\n"
     ]
    },
    {
     "data": {
      "image/png": "[encoded data removed]",
      "text/plain": [
       "<Figure size 720x432 with 1 Axes>"
      ]
     },
     "metadata": {
      "needs_background": "light"
     },
     "output_type": "display_data"
    },
    {
     "name": "stdout",
     "output_type": "stream",
     "text": [
      "Porcentaje de cada categoría en IV3:\n",
      "1    86.566693\n",
      "2    13.149171\n",
      "3     0.205209\n",
      "4     0.078927\n",
      "Name: IV3, dtype: float64\n",
      "\n"
     ]
    },
    {
     "data": {
      "image/png": "[encoded data removed]",
      "text/plain": [
       "<Figure size 720x432 with 1 Axes>"
      ]
     },
     "metadata": {
      "needs_background": "light"
     },
     "output_type": "display_data"
    },
    {
     "name": "stdout",
     "output_type": "stream",
     "text": [
      "Porcentaje de cada categoría en IV11:\n",
      "1    68.034728\n",
      "2    22.304657\n",
      "3     9.171271\n",
      "0     0.268350\n",
      "4     0.220994\n",
      "Name: IV11, dtype: float64\n",
      "\n"
     ]
    }
   ],
   "source": [
    "variables = ['IV8', 'V4', 'IV3', 'IV11']\n",
    "\n",
    "for var in variables:\n",
    "    # Conteo de frecuencias\n",
    "    conteo_frecuencias = merged_microdata[var].value_counts()\n",
    "\n",
    "    # Gráfico de barras\n",
    "    plt.figure(figsize=(10, 6))\n",
    "    sns.countplot(data=merged_microdata, x=var)\n",
    "    plt.title(f'Gráfico de Barras - Frecuencia de Categorías en {var}')\n",
    "    plt.xticks(rotation=45)\n",
    "    plt.show()\n",
    "\n",
    "    # Porcentaje de cada categoría\n",
    "    porcentaje = merged_microdata[var].value_counts(normalize=True) * 100\n",
    "    print(f\"Porcentaje de cada categoría en {var}:\")\n",
    "    print(porcentaje)\n",
    "    print()"
   ]
  },
  {
   "cell_type": "code",
   "execution_count": 133,
   "id": "47adc7fa",
   "metadata": {},
   "outputs": [],
   "source": [
    "# Armamos una función para no tener que lidiar con el tedioso uso del archivo de Excel.\n",
    "\n",
    "# Esta función, asignar_valor, toma dos argumentos, edad y genero, y asigna un valor numérico basado en reglas condicionales\n",
    "# que dependen de estos dos argumentos. Las condiciones se prueban en orden y, cuando se encuentra una coincidencia, se\n",
    "# devuelve un valor específico. Si no se cumple ninguna condición, la función devuelve None.\n",
    "#Las condiciones están diseñadas para categorizar a las personas en grupos según su edad y género y asignarles un valor numérico basado en esas categorías.\n",
    "\n",
    "def asignar_valor(edad, genero):\n",
    "    if edad < 1:\n",
    "        if genero == 2:\n",
    "            return 0.35\n",
    "        elif genero == 1:\n",
    "            return 0.35\n",
    "    elif edad == 1:\n",
    "        if genero == 2:\n",
    "            return 0.37\n",
    "        elif genero == 1:\n",
    "            return 0.37\n",
    "    elif edad == 2:\n",
    "        if genero == 2:\n",
    "            return 0.46\n",
    "        elif genero == 1:\n",
    "            return 0.46\n",
    "    elif edad == 3:\n",
    "        if genero == 2:\n",
    "            return 0.51\n",
    "        elif genero == 1:\n",
    "            return 0.51\n",
    "    elif edad == 4:\n",
    "        if genero == 2:\n",
    "            return 0.55\n",
    "        elif genero == 1:\n",
    "            return 0.55\n",
    "    elif edad == 5:\n",
    "        if genero == 2:\n",
    "            return 0.60\n",
    "        elif genero == 1:\n",
    "            return 0.60\n",
    "    elif edad == 6:\n",
    "        if genero == 2:\n",
    "            return 0.64\n",
    "        elif genero == 1:\n",
    "            return 0.64\n",
    "    elif edad == 7:\n",
    "        if genero == 2:\n",
    "            return 0.66\n",
    "        elif genero == 1:\n",
    "            return 0.66\n",
    "    elif edad == 8:\n",
    "        if genero == 2:\n",
    "            return 0.68\n",
    "        elif genero == 1:\n",
    "            return 0.68\n",
    "    elif edad == 9:\n",
    "        if genero == 2:\n",
    "            return 0.69\n",
    "        elif genero == 1:\n",
    "            return 0.69\n",
    "    elif edad == 10:\n",
    "        if genero == 2:\n",
    "            return 0.70\n",
    "        elif genero == 1:\n",
    "            return 0.79\n",
    "    elif edad == 11:\n",
    "        if genero == 2:\n",
    "            return 0.72\n",
    "        elif genero == 1:\n",
    "            return 0.82\n",
    "    elif edad == 12:\n",
    "        if genero == 2:\n",
    "            return 0.74\n",
    "        elif genero == 1:\n",
    "            return 0.85\n",
    "    elif edad == 13:\n",
    "        if genero == 2:\n",
    "            return 0.76\n",
    "        elif genero == 1:\n",
    "            return 0.90\n",
    "    elif edad == 14:\n",
    "        if genero == 2:\n",
    "            return 0.76\n",
    "        elif genero == 1:\n",
    "            return 0.96\n",
    "    elif edad == 15:\n",
    "        if genero == 2:\n",
    "            return 0.77\n",
    "        elif genero == 1:\n",
    "            return 1.00\n",
    "    elif edad == 16:\n",
    "        if genero == 2:\n",
    "            return 0.77\n",
    "        elif genero == 1:\n",
    "            return 1.03\n",
    "    elif edad == 17:\n",
    "        if genero == 2:\n",
    "            return 0.77\n",
    "        elif genero == 1:\n",
    "            return 1.04\n",
    "    elif 18 <= edad <= 29:\n",
    "        if genero == 2:\n",
    "            return 0.76\n",
    "        elif genero == 1:\n",
    "            return 1.02\n",
    "    elif 30 <= edad <= 45:\n",
    "        if genero == 2:\n",
    "            return 0.77\n",
    "        elif genero == 1:\n",
    "            return 1.00\n",
    "    elif 46 <= edad <= 60:\n",
    "        if genero == 2:\n",
    "            return 0.76\n",
    "        elif genero == 1:\n",
    "            return 1.00\n",
    "    elif 61 <= edad <= 75:\n",
    "        if genero == 2:\n",
    "            return 0.67\n",
    "        elif genero == 1:\n",
    "            return 0.83\n",
    "    elif edad > 75:\n",
    "        if genero == 2:\n",
    "            return 0.63\n",
    "        elif genero == 1:\n",
    "            return 0.74\n",
    "    else:\n",
    "        return None  # En caso de que no haya una combinación válida"
   ]
  },
  {
   "cell_type": "markdown",
   "id": "abbbfa33",
   "metadata": {},
   "source": [
    "##### Inciso 7: Repitan el inciso 1.2.f del TP2 para construir la columna adulto equiv y la columna ad equiv hogar (pueden utilizar su código del TP2)."
   ]
  },
  {
   "cell_type": "code",
   "execution_count": 134,
   "id": "3eea9446",
   "metadata": {},
   "outputs": [],
   "source": [
    "# Aplicamos la funcion al data frame. Creamos una nueva columna llamada 'adulto_equiv' en el DataFrame 'microdata_filtered', donde se calculan y asignan valores equivalentes para adultos\n",
    "# a partir de las edades ('CH06') y géneros ('CH04') de cada fila utilizando una función llamada 'asignar_valor'.\n",
    "\n",
    "merged_microdata['adulto_equiv'] = merged_microdata.apply(lambda row: asignar_valor(row['CH06'], row['CH04']), axis=1)"
   ]
  },
  {
   "cell_type": "code",
   "execution_count": 135,
   "id": "a5c6c2c4",
   "metadata": {},
   "outputs": [],
   "source": [
    "# Limpiamos y Renombramos\n",
    "\n",
    "merged_microdata = merged_microdata.dropna(subset=['adulto_equiv'])\n",
    "\n",
    "result = merged_microdata.groupby(by=['CODUSU','NRO_HOGAR']).agg({'adulto_equiv': 'sum'}).reset_index()\n",
    "result.rename(columns={'adulto_equiv': 'ad_equiv_hogar'}, inplace=True)\n",
    "\n",
    "merged_microdata_FINAL = pd.merge(merged_microdata, result[['CODUSU','NRO_HOGAR', 'ad_equiv_hogar']],\n",
    "                     on=['CODUSU','NRO_HOGAR'],\n",
    "                     how='left')"
   ]
  },
  {
   "cell_type": "markdown",
   "id": "40a89131",
   "metadata": {},
   "source": [
    "##### Inciso 8: Repitan el inciso 1.3 y 1.4 del TP2 para dividir la base en dos dataframes donde: uno conserve las personas que no reportaron ITF (dataframe llamado respondieron) y otro conserve a las personas que no reportaron ITF (llamado norespondieron). Además, agreguen a la base respondieron una columna llamada ingreso necesario que sea el producto de la canasta básica por ad equiv hogar."
   ]
  },
  {
   "cell_type": "code",
   "execution_count": 136,
   "id": "898ed818",
   "metadata": {},
   "outputs": [
    {
     "name": "stdout",
     "output_type": "stream",
     "text": [
      "3132\n",
      "3203\n"
     ]
    }
   ],
   "source": [
    "# Definimos ambas bases según los criterios del enunciado, comprobando la condición sobre ITF.\n",
    "# Imprimimos la longitud del DataFrame para obtener las cantidades.\n",
    "\n",
    "# Reemplazar NaN por ceros en ITF_indv e ITF_hogar\n",
    "merged_microdata['ITF_indv'].fillna(0, inplace=True)\n",
    "merged_microdata['ITF_hogar'].fillna(0, inplace=True)\n",
    "\n",
    "respondieron = merged_microdata_FINAL[(merged_microdata_FINAL['ITF_indv'] != 0) | (merged_microdata_FINAL['ITF_hogar'] != 0)]\n",
    "print(len(respondieron))\n",
    "\n",
    "norespondieron = merged_microdata_FINAL[(merged_microdata_FINAL['ITF_indv'] == 0) & (merged_microdata_FINAL['ITF_hogar'] == 0)]\n",
    "print(len(norespondieron))"
   ]
  },
  {
   "cell_type": "code",
   "execution_count": 137,
   "id": "52c8ef20",
   "metadata": {
    "scrolled": true
   },
   "outputs": [
    {
     "name": "stderr",
     "output_type": "stream",
     "text": [
      "<ipython-input-137-313027d11416>:6: SettingWithCopyWarning: \n",
      "A value is trying to be set on a copy of a slice from a DataFrame.\n",
      "Try using .loc[row_indexer,col_indexer] = value instead\n",
      "\n",
      "See the caveats in the documentation: https://pandas.pydata.org/pandas-docs/stable/user_guide/indexing.html#returning-a-view-versus-a-copy\n",
      "  respondieron['ingreso_necesario'] = respondieron['ad_equiv_hogar'] * valor_canasta_basica\n"
     ]
    }
   ],
   "source": [
    "# Definimos el valor de la canasta básica y luego\n",
    "# seguimos las instrucciones del enunciado para añadir una columna que indique el ingreso necesario\n",
    "\n",
    "valor_canasta_basica = 57371.05\n",
    "\n",
    "respondieron['ingreso_necesario'] = respondieron['ad_equiv_hogar'] * valor_canasta_basica"
   ]
  },
  {
   "cell_type": "markdown",
   "id": "adebca69",
   "metadata": {},
   "source": [
    "##### Inciso 9: Agreguen a la base respondieron una columna llamada pobre, que tome valor 1 si el ITF es menor al ingreso necesario que necesita esa familia y 0 en caso contrario."
   ]
  },
  {
   "cell_type": "code",
   "execution_count": 138,
   "id": "0a2d1212",
   "metadata": {},
   "outputs": [
    {
     "name": "stdout",
     "output_type": "stream",
     "text": [
      "Número de pobres identificados: 1487\n",
      "0.47477650063856963\n"
     ]
    },
    {
     "name": "stderr",
     "output_type": "stream",
     "text": [
      "<ipython-input-138-3df45728e1cd>:5: SettingWithCopyWarning: \n",
      "A value is trying to be set on a copy of a slice from a DataFrame.\n",
      "Try using .loc[row_indexer,col_indexer] = value instead\n",
      "\n",
      "See the caveats in the documentation: https://pandas.pydata.org/pandas-docs/stable/user_guide/indexing.html#returning-a-view-versus-a-copy\n",
      "  respondieron['pobre'] = ((respondieron['ITF_hogar'] < respondieron['ingreso_necesario']) & (respondieron['ITF_indv'] < respondieron['ingreso_necesario'])).astype(int)\n"
     ]
    }
   ],
   "source": [
    "# Creamos una nueva columna llamada 'pobre' en el DataFrame 'respondieron',\n",
    "# donde se asigna un valor de 1 si el valor en la columna 'ITF' es menor que\n",
    "# el valor en la columna 'ingreso_necesario', y 0 en caso contrario, convirtiendo los resultados a enteros.\n",
    "\n",
    "respondieron['pobre'] = ((respondieron['ITF_hogar'] < respondieron['ingreso_necesario']) & (respondieron['ITF_indv'] < respondieron['ingreso_necesario'])).astype(int)\n",
    "\n",
    "# Sumamos todos los 1\n",
    "\n",
    "num_pobres = respondieron['pobre'].sum()\n",
    "\n",
    "print(f'Número de pobres identificados: {num_pobres}')\n",
    "\n",
    "# En %\n",
    "\n",
    "print(num_pobres/len(respondieron))\n",
    "\n"
   ]
  },
  {
   "cell_type": "code",
   "execution_count": 139,
   "id": "1d0f1b56",
   "metadata": {},
   "outputs": [],
   "source": [
    "# Guardamos como csv estas bases por si se desea correr Parte 3 de manera separada a la Parte 1. \n",
    "respondieron.to_csv('respondieron.csv', index=False)\n",
    "norespondieron.to_csv('norespondieron.csv', index=False)"
   ]
  },
  {
   "cell_type": "markdown",
   "id": "26585cfc",
   "metadata": {},
   "source": [
    "##### Inciso 10: En el TP2 calcularon los individuos bajo la línea de pobreza. Sin embargo, cuando se habla de pobreza el número más utilizado es el de la tasa de hogares bajo la línea de pobreza. Para calcularlo, utilicen una sola observación por hogar y sumen el ponderador PONDIH que permite expandir la muestra de la EPH al total de la población que representa. ¿Cuál es la tasa de hogares bajo la línea de pobreza para el GBA? ¿Se asemeja al que reporta el INDEC en sus informes?"
   ]
  },
  {
   "cell_type": "code",
   "execution_count": 140,
   "id": "fdcd45a4",
   "metadata": {},
   "outputs": [
    {
     "data": {
      "text/plain": [
       "0        2540\n",
       "1        2540\n",
       "2       14082\n",
       "3       14082\n",
       "4       14082\n",
       "        ...  \n",
       "6330     4220\n",
       "6331     4220\n",
       "6332        0\n",
       "6333        0\n",
       "6334        0\n",
       "Name: PONDIH_hogar, Length: 6335, dtype: int64"
      ]
     },
     "execution_count": 140,
     "metadata": {},
     "output_type": "execute_result"
    }
   ],
   "source": [
    "merged_microdata_FINAL['PONDIH_hogar']"
   ]
  },
  {
   "cell_type": "code",
   "execution_count": 141,
   "id": "71621bb1",
   "metadata": {},
   "outputs": [],
   "source": [
    "# Agrupar por hogar y utilizar el ponderador PONDIH para calcular la tasa de hogares pobres\n",
    "# Agrupamos los datos por el código del hogar (CODUSU)\n",
    "microdata_repres = respondieron.groupby('CODUSU').first().reset_index()\n"
   ]
  },
  {
   "cell_type": "code",
   "execution_count": 142,
   "id": "ee95edee",
   "metadata": {},
   "outputs": [],
   "source": [
    "# Ponderacion\n",
    "microdata_repres['ponderacion'] = microdata_repres['PONDIH_indv'] * microdata_repres['pobre']"
   ]
  },
  {
   "cell_type": "code",
   "execution_count": 143,
   "id": "dbbe843b",
   "metadata": {},
   "outputs": [],
   "source": [
    "pobres = microdata_repres['ponderacion'].sum()\n",
    "poblacion = microdata_repres['PONDIH_indv'].sum()\n",
    "porcentaje_pobres = (pobres / poblacion) * 100"
   ]
  },
  {
   "cell_type": "code",
   "execution_count": 144,
   "id": "901e648d",
   "metadata": {},
   "outputs": [
    {
     "name": "stdout",
     "output_type": "stream",
     "text": [
      "pobres: 1.439.914\n",
      "tasa 36.67%\n"
     ]
    }
   ],
   "source": [
    "pobres1 = '{:,}'.format(pobres).replace(',', '.')\n",
    "print(f\"pobres: {pobres1}\")\n",
    "print(f\"tasa {porcentaje_pobres:.2f}%\")"
   ]
  },
  {
   "cell_type": "markdown",
   "id": "36846408",
   "metadata": {},
   "source": [
    "#### La tasa de pobreza nos dio 6 PP mayor que la reportada por el INDEC. Creemos que esto puede ser debido a distintos criterios de limpieza de la base. Aun asi, la diferencia no es tan significativa."
   ]
  },
  {
   "cell_type": "markdown",
   "id": "447197d0",
   "metadata": {},
   "source": [
    "# Parte 2: Construcción de funciones"
   ]
  },
  {
   "cell_type": "code",
   "execution_count": 145,
   "id": "c271b078",
   "metadata": {},
   "outputs": [],
   "source": [
    "import pandas as pd\n",
    "import numpy as np\n",
    "#from ISLP import load_data\n",
    "\n",
    "from matplotlib import pyplot as plt\n",
    "\n",
    "from sklearn.model_selection import train_test_split\n",
    "from sklearn.linear_model import LinearRegression\n",
    "from sklearn.preprocessing import PolynomialFeatures \n",
    "from sklearn.metrics import mean_squared_error\n",
    "from sklearn.linear_model import LogisticRegression\n",
    "from sklearn.metrics import confusion_matrix, roc_curve, auc, accuracy_score\n",
    "from sklearn.datasets import load_breast_cancer\n",
    "from sklearn.model_selection import train_test_split\n",
    "from sklearn.model_selection import KFold\n",
    "from sklearn.discriminant_analysis import LinearDiscriminantAnalysis\n",
    "from sklearn.neighbors import KNeighborsClassifier\n",
    "import statsmodels.api as sm\n",
    "\n",
    "import os  \n",
    "import pandas as pd\n",
    "import numpy as np \n",
    "import matplotlib.pyplot as plt  \n",
    "import statsmodels.api as sm     \n",
    "\n",
    "from sklearn import datasets\n",
    "from sklearn.linear_model import LogisticRegression\n",
    "from sklearn.model_selection import train_test_split\n",
    "from sklearn.metrics import confusion_matrix\n",
    "from sklearn.metrics import accuracy_score, recall_score \n",
    "from sklearn.metrics import roc_curve\n",
    "from sklearn.metrics import roc_auc_score\n",
    "from sklearn.metrics import mean_squared_error\n",
    "from sklearn.metrics import RocCurveDisplay\n",
    "from sklearn.metrics import plot_roc_curve\n",
    "from sklearn.model_selection import KFold\n",
    "from sklearn.discriminant_analysis import LinearDiscriminantAnalysis as LDA\n",
    "from sklearn.neighbors import KNeighborsClassifier\n"
   ]
  },
  {
   "cell_type": "markdown",
   "id": "43603106",
   "metadata": {},
   "source": [
    "## Inciso 1"
   ]
  },
  {
   "cell_type": "markdown",
   "id": "98a36a48",
   "metadata": {},
   "source": [
    "#### Escriban una funcion, llamada evalua metodo, que reciba como argumentos un modelo y los datos de entrenamiento y prueba (X train, y train, X test,y test).\n",
    "#### La función debe ajustar el modelo con los datos de entrenamiento y calcular las métricas que considere necesarias para esta problem´atica (de mínima, deben reportar la matriz de confusión, las curvas ROC y los valores d eAUC y de accuracy score de cada método). \n",
    "#### El output de la función debe seruna colección con las métricas evaluadas.\n"
   ]
  },
  {
   "cell_type": "code",
   "execution_count": null,
   "id": "d9119fb7",
   "metadata": {},
   "outputs": [],
   "source": [
    "# Cargamos una base de internet para probar la función. \n",
    "url = \"https://raw.githubusercontent.com/datasciencedojo/datasets/master/titanic.csv\"\n",
    "titanic_df = pd.read_csv(url)"
   ]
  },
  {
   "cell_type": "code",
   "execution_count": null,
   "id": "612614a2",
   "metadata": {},
   "outputs": [],
   "source": [
    "# Quitamos todas las variables que sean string y todas las filas con NAs\n",
    "titanic_df = titanic_df.drop(titanic_df.select_dtypes(include=['object']).columns, axis=1)\n",
    "titanic_df=titanic_df.dropna()"
   ]
  },
  {
   "cell_type": "code",
   "execution_count": null,
   "id": "c5f8aea2",
   "metadata": {},
   "outputs": [],
   "source": [
    "# Formamos un df de variables explicativas y otro con la variable dependiente.\n",
    "X=titanic_df.drop(columns=['Survived'])\n",
    "y=titanic_df.Survived"
   ]
  },
  {
   "cell_type": "code",
   "execution_count": null,
   "id": "e570f2a7",
   "metadata": {},
   "outputs": [],
   "source": [
    "# Le agregamos una columna de 1s al dataframe X para que sirva como el intercepto.\n",
    "X = sm.add_constant(X)"
   ]
  },
  {
   "cell_type": "code",
   "execution_count": null,
   "id": "5691d513",
   "metadata": {},
   "outputs": [],
   "source": [
    "X_train, X_test, y_train, y_test = train_test_split(X, y, test_size=0.3, random_state=10)"
   ]
  },
  {
   "cell_type": "code",
   "execution_count": 146,
   "id": "bdbb14a9",
   "metadata": {},
   "outputs": [],
   "source": [
    "def evalua_metodo(model, X_train, y_train, X_test, y_test, plot=True, coef=False):\n",
    "    \n",
    "    model_to_evaluate = model\n",
    "\n",
    "    # Ajustar el modelo con los datos de entrenamiento\n",
    "    model_fit = model_to_evaluate.fit(X_train, y_train)\n",
    "\n",
    "    # Predecir en el conjunto de prueba\n",
    "    y_pred = model_fit.predict(X_test)\n",
    "\n",
    "    # Calcular el área bajo la curva ROC y trazar la curva ROC\n",
    "    auc = roc_auc_score(y_test, y_pred)\n",
    "    print('AUC: %.4f' % auc)\n",
    "    fpr, tpr, thresholds = roc_curve(y_test, y_pred)\n",
    "    \n",
    "    # Matriz de confusión\n",
    "    matriz_confusion = confusion_matrix(y_test, y_pred)\n",
    "\n",
    "    print('Confusion Matrix:')\n",
    "    print(matriz_confusion) \n",
    "\n",
    "    # Accuracy Score\n",
    "    accuracy = accuracy_score(y_test, y_pred)\n",
    "    print('Accuracy Score:', accuracy)\n",
    "\n",
    "    # Trazar la curva ROC\n",
    "    if plot:\n",
    "        plt.figure()\n",
    "        plt.plot(fpr, tpr, color='darkorange', label='Curva ROC (área = %0.2f)' % auc)\n",
    "        plt.plot([0, 1], [0, 1], color='navy', linestyle='--')\n",
    "        plt.xlabel('Tasa de falsos positivos')\n",
    "        plt.ylabel('Tasa de verdaderos positivos')\n",
    "        plt.title('Curva ROC')\n",
    "        plt.legend(loc=\"lower right\")\n",
    "        plt.show()\n",
    "    \n",
    "    # ECM\n",
    "    ecm = mean_squared_error(y_test, y_pred) # Deseamos tener esta métrica disponible para la siguiente función. \n",
    "    if coef:\n",
    "        coeficientes = dict(zip(X_train.columns, model_fit.coef_[0])) # Generamos un diccionario donde cada llave es el nombre de una variable y su valor es el coeficiente estimado.\n",
    "        proporcion_variables_cero = sum(value == 0 for value in model_fit.coef_[0]) / len(coeficientes) # Guardamos la proporción de variables con coeficiente estimado igual a cero.\n",
    "    \n",
    "    # Retornar las métricas evaluadas\n",
    "    metrics = {\n",
    "        'AUC': auc,\n",
    "        'Confusion Matrix': matriz_confusion,\n",
    "        'Accuracy Score': accuracy,\n",
    "        'ECM': ecm,\n",
    "    }\n",
    "    \n",
    "    if coef:\n",
    "        metrics['Coeficientes'] = coeficientes\n",
    "        metrics['Proporción de Variables con Coeficiente Cero'] = proporcion_variables_cero\n",
    "\n",
    "    return metrics"
   ]
  },
  {
   "cell_type": "code",
   "execution_count": null,
   "id": "d8e072bb",
   "metadata": {},
   "outputs": [],
   "source": [
    "# Vamos a probar la función con diferentes modelos e hiperparámetros."
   ]
  },
  {
   "cell_type": "code",
   "execution_count": null,
   "id": "611365d1",
   "metadata": {},
   "outputs": [],
   "source": [
    "\n",
    "modelo = LogisticRegression(max_iter=10000)\n",
    "# Usar la función evalua_metodo\n",
    "resultados = evalua_metodo(modelo, X_train, y_train, X_test, y_test,coef=True)\n",
    "print(resultados)"
   ]
  },
  {
   "cell_type": "code",
   "execution_count": null,
   "id": "6b9e26e3",
   "metadata": {},
   "outputs": [],
   "source": [
    "# Definir el modelo\n",
    "modelo = LogisticRegression(max_iter=10000)\n",
    "# Usar la función evalua_metodo\n",
    "resultados = evalua_metodo(modelo, X_train, y_train, X_test, y_test)\n",
    "print(resultados)"
   ]
  },
  {
   "cell_type": "code",
   "execution_count": null,
   "id": "c0a6d0a7",
   "metadata": {},
   "outputs": [],
   "source": [
    "# Definir el modelo\n",
    "knn = KNeighborsClassifier(n_neighbors=5)\n",
    "#Usar la función evalua_metodo\n",
    "resultados = evalua_metodo(knn, X_train, y_train, X_test, y_test)\n",
    "print(resultados)"
   ]
  },
  {
   "cell_type": "code",
   "execution_count": null,
   "id": "edf297a3",
   "metadata": {},
   "outputs": [],
   "source": [
    "# Definir el modelo\n",
    "modelo3= LinearDiscriminantAnalysis(n_components=1)\n",
    "#Usar la función evalua_metodo\n",
    "resultados = evalua_metodo(modelo3, X_train, y_train, X_test, y_test)\n",
    "print(resultados)"
   ]
  },
  {
   "cell_type": "markdown",
   "id": "f61b044f",
   "metadata": {},
   "source": [
    "## Inciso 2"
   ]
  },
  {
   "cell_type": "markdown",
   "id": "1feb28c4",
   "metadata": {},
   "source": [
    "#### Escriban una función, llamada cross validation, que realice validación cruzada con k iteraciones (k-fold CV), llamando a la función del  inciso anterior en cada una, pero para las k distintas particiones. \n",
    "#### La función debe recibir como argumentos el modelo, el valor de k y un dataset (es decir, s´olo X e y).\n",
    "#### Pueden ayudarse con la función KFold para generar las particiones necesarias"
   ]
  },
  {
   "cell_type": "code",
   "execution_count": null,
   "id": "c8459179",
   "metadata": {},
   "outputs": [],
   "source": [
    "from sklearn.preprocessing import StandardScaler"
   ]
  },
  {
   "cell_type": "code",
   "execution_count": null,
   "id": "b6c09312",
   "metadata": {},
   "outputs": [],
   "source": [
    "\"\"\"def cross_validation(modelo, k, x, y, std=True):\n",
    "    '''\n",
    "    Realiza validación cruzada de un modelo de clasificación y provee la distribución de varias métricas de precisión.\n",
    "    Input:\n",
    "    - modelo: modelo de clasificación ya instanciado (debe tener los métodos `fit`, `predict` y `predict_proba`).\n",
    "    - k: número de particiones\n",
    "    - x: variables explicativas. Ya debe contener una columnas con 1s y debe estar en formato dataframe o numpyarray.\n",
    "    - y: variable categórica a predecir. Debe estar en formato dataframe o numpyarray.\n",
    "    Output:\n",
    "    - Dataframe con las siguientes métricas:\n",
    "        * matriz_confusion: Matriz de confusión del modelo.\n",
    "        * valor_auc: Área bajo la curva ROC.\n",
    "        * accuracy: Precisión del modelo.\n",
    "        *ECM (MSE en inglés): error cuadrático medio\n",
    "    '''\n",
    "    # Convertimos la data en pandas dataframe en caso no lo haya estado originalmente.\n",
    "    if isinstance(x, np.ndarray):\n",
    "        x = pd.DataFrame(x)\n",
    "    if isinstance(y, np.ndarray):\n",
    "        y = pd.DataFrame(y)\n",
    "    \n",
    "    sc = StandardScaler()\n",
    "    kf = KFold(n_splits=k, shuffle=True)\n",
    "    output = []\n",
    "    for i, (train_index, test_index) in enumerate(kf.split(x)):\n",
    "        x_train, x_test = x.iloc[list(train_index)], x.iloc[list(test_index)]\n",
    "        y_train, y_test = y.iloc[list(train_index)], y.iloc[list(test_index)]\n",
    "        \n",
    "        if std == True:\n",
    "            # Estandarizamos las variables explicativas de las muestras de entrenamiento y de prueba\n",
    "            x_train = pd.DataFrame(sc.fit_transform(x_train), index=x_train.index, columns=x_train.columns)\n",
    "            x_test = pd.DataFrame(sc.transform(x_test), index=x_test.index, columns=x_test.columns)\n",
    "        \n",
    "        modelo.fit(x_train, y_train)\n",
    "        # Predicciones\n",
    "        y_pred = modelo.predict(x_test)\n",
    "        y_pred_prob = modelo.predict_proba(x_test)[:, 1]\n",
    "        \n",
    "        # Calculando métricas\n",
    "        matriz_confusion = confusion_matrix(y_test, y_pred)\n",
    "        fpr, tpr, thresholds = roc_curve(y_test, y_pred_prob)\n",
    "        valor_auc = auc(fpr, tpr)\n",
    "        accuracy = accuracy_score(y_test, y_pred)\n",
    "        ecm = mean_squared_error(y_test, y_pred)\n",
    "        \n",
    "        output.append((i+1, ecm, valor_auc, accuracy))\n",
    "        \n",
    "    output_df = pd.DataFrame(output, columns=[\"Particion\", \"MSE\", \"valor_auc\", \"accuracy\"])\n",
    "    return output_df\"\"\"\n"
   ]
  },
  {
   "cell_type": "code",
   "execution_count": null,
   "id": "ae309ba1",
   "metadata": {},
   "outputs": [],
   "source": [
    "from sklearn.model_selection import KFold\n",
    "\n",
    "def cross_validation(modelo, k, x, y, std=True):\n",
    "    if isinstance(x, np.ndarray):\n",
    "        x = pd.DataFrame(x)\n",
    "    if isinstance(y, np.ndarray):\n",
    "        y = pd.DataFrame(y)\n",
    "\n",
    "    sc = StandardScaler()\n",
    "    kf = KFold(n_splits=k, shuffle=True)\n",
    "    output = []\n",
    "\n",
    "    for i, (train_index, test_index) in enumerate(kf.split(x)):\n",
    "        x_train, x_test = x.iloc[list(train_index)], x.iloc[list(test_index)]\n",
    "        y_train, y_test = y.iloc[list(train_index)], y.iloc[list(test_index)]\n",
    "\n",
    "        if std:\n",
    "            x_train = pd.DataFrame(sc.fit_transform(x_train), index=x_train.index, columns=x_train.columns)\n",
    "            x_test = pd.DataFrame(sc.transform(x_test), index=x_test.index, columns=x_test.columns)\n",
    "\n",
    "        # Llamar a evalua_metodo para calcular las métricas\n",
    "        metrics = evalua_metodo(modelo, x_train, y_train, x_test, y_test,plot=False)\n",
    "\n",
    "        # Extraer las métricas calculadas en evalua_metodo\n",
    "        matriz_confusion = metrics['Confusion Matrix']\n",
    "        valor_auc = metrics['AUC']\n",
    "        accuracy = metrics['Accuracy Score']\n",
    "        ecm = metrics['ECM']\n",
    "\n",
    "        output.append((i+1, ecm, valor_auc, accuracy, matriz_confusion))\n",
    "\n",
    "    output_df = pd.DataFrame(output, columns=[\"Particion\", \"MSE\", \"valor_auc\", \"accuracy\", \"matriz_confusion\"])\n",
    "    return output_df\n"
   ]
  },
  {
   "cell_type": "code",
   "execution_count": 147,
   "id": "07cfe96f",
   "metadata": {},
   "outputs": [],
   "source": [
    "def cross_validation(modelo, k, x, y, std=True, coef=False):\n",
    "    if isinstance(x, np.ndarray):\n",
    "        x = pd.DataFrame(x)\n",
    "    if isinstance(y, np.ndarray):\n",
    "        y = pd.DataFrame(y)\n",
    "\n",
    "    sc = StandardScaler()\n",
    "    kf = KFold(n_splits=k, shuffle=True, random_state = 2023)\n",
    "    output = []\n",
    "\n",
    "    for i, (train_index, test_index) in enumerate(kf.split(x)):\n",
    "        x_train, x_test = x.iloc[list(train_index)], x.iloc[list(test_index)]\n",
    "        y_train, y_test = y.iloc[list(train_index)], y.iloc[list(test_index)]\n",
    "\n",
    "        if std:\n",
    "            x_train = pd.DataFrame(sc.fit_transform(x_train), index=x_train.index, columns=x_train.columns)\n",
    "            x_test = pd.DataFrame(sc.transform(x_test), index=x_test.index, columns=x_test.columns)\n",
    "\n",
    "        # Llamar a evalua_metodo para calcular las métricas\n",
    "        metrics = evalua_metodo(modelo, x_train, y_train, x_test, y_test, plot=False, coef=coef)\n",
    "\n",
    "        # Extraer las métricas calculadas en evalua_metodo\n",
    "        matriz_confusion = metrics['Confusion Matrix']\n",
    "        valor_auc = metrics['AUC']\n",
    "        accuracy = metrics['Accuracy Score']\n",
    "        ecm = metrics['ECM']\n",
    "\n",
    "        proporcion_variables_cero = None\n",
    "\n",
    "        if coef:\n",
    "            proporcion_variables_cero = metrics['Proporción de Variables con Coeficiente Cero']\n",
    "\n",
    "        output.append((i+1, ecm, valor_auc, accuracy, matriz_confusion, proporcion_variables_cero))\n",
    "\n",
    "    output_df = pd.DataFrame(output, columns=[\"Particion\", \"MSE\", \"valor_auc\", \"accuracy\", \"matriz_confusion\", \"proporcion_variables_cero\"])\n",
    "    return output_df"
   ]
  },
  {
   "cell_type": "code",
   "execution_count": null,
   "id": "537690e3",
   "metadata": {},
   "outputs": [],
   "source": [
    "# Ejemplo de la función con 5 particiones y sin estandarización. \n",
    "cross_validation(modelo,5,X,y,std=False,coef=True)"
   ]
  },
  {
   "cell_type": "markdown",
   "id": "832860c4",
   "metadata": {},
   "source": [
    "## Inciso 3"
   ]
  },
  {
   "cell_type": "markdown",
   "id": "24efd06e",
   "metadata": {},
   "source": [
    "#### Escriban una función, llamada evalua config que reciba una lista de configuraciones de hiperparámetros (los distintos valores a probar como hiper-parámetros podrian codificarse en diccionarios de Python)y utilizando la función cross validation obtenga el error cuadrado promedio para cada configuración."
   ]
  },
  {
   "cell_type": "code",
   "execution_count": 148,
   "id": "e841db4e",
   "metadata": {},
   "outputs": [],
   "source": [
    "def evalua_config(model_types, lambdas, X, y):\n",
    "    \"\"\"\n",
    "    Encuentra el valor óptimo de lambda (α) para Ridge, Lasso o ambos modelos en un modelo de clasificación.\n",
    "\n",
    "    Args:\n",
    "    - model_types: Lista de tipos de modelo ('ridge', 'lasso', o ambos).\n",
    "    - lambdas: Lista de valores de lambda (α) para evaluar.\n",
    "    - X: Variables explicativas.\n",
    "    - y: Variable objetivo (etiquetas binarias 0 y 1).\n",
    "\n",
    "    Returns:\n",
    "    - DataFrame que contiene los valores de lambda y los errores cuadráticos medios asociados para los modelos seleccionados.\n",
    "    \"\"\"\n",
    "\n",
    "    if not all(model_type in ['ridge', 'lasso'] for model_type in model_types):\n",
    "        raise ValueError(\"Los elementos en 'model_types' deben ser 'ridge', 'lasso', o ambos.\")\n",
    "\n",
    "    resultados_lambda = []\n",
    "\n",
    "    for model_type in model_types:\n",
    "        if model_type == 'ridge':\n",
    "            modelo = LogisticRegression(penalty='l2', solver='liblinear')\n",
    "        else:\n",
    "            modelo = LogisticRegression(penalty='l1', solver='liblinear')\n",
    "\n",
    "        for alpha in lambdas:\n",
    "            modelo.set_params(C=1/alpha)\n",
    "\n",
    "            # Realizar validación cruzada utilizando cross_validation\n",
    "            resultados = cross_validation(modelo, k=5, x=X, y=y, std=True)\n",
    "\n",
    "            # Calcular el Error Cuadrático Medio (ECM) promedio\n",
    "            ecm_promedio = np.mean(resultados['MSE'])\n",
    "\n",
    "            resultados_lambda.append((model_type, alpha, ecm_promedio))\n",
    "    # Crear un DataFrame a partir de la lista de tuplas\n",
    "    resultados_df = pd.DataFrame(resultados_lambda, columns=[\"Model Type\", \"Lambda\", \"ECM\"])\n",
    "    \n",
    "    return resultados_df"
   ]
  },
  {
   "cell_type": "code",
   "execution_count": null,
   "id": "fa95eecc",
   "metadata": {},
   "outputs": [],
   "source": [
    "from sklearn.linear_model import LogisticRegression\n",
    "import numpy as np\n",
    "import pandas as pd\n",
    "\"\"\"\n",
    "def evalua_config(model_type, lambdas, X, y):\n",
    "    \n",
    "    Encuentra el valor óptimo de lambda (α) para Ridge o Lasso Regression en un modelo de clasificación.\n",
    "\n",
    "    Args:\n",
    "    - model_type: 'ridge' o 'lasso' para seleccionar el tipo de modelo.\n",
    "    - lambdas: Lista de valores de lambda (α) para evaluar.\n",
    "    - X: Variables explicativas.\n",
    "    - y: Variable objetivo (etiquetas binarias 0 y 1).\n",
    "\n",
    "    Returns:\n",
    "    - DataFrame que contiene los valores de lambda y los errores cuadráticos medios asociados.\n",
    "\n",
    "    if model_type not in ['ridge', 'lasso']:\n",
    "        raise ValueError(\"El 'model_type' debe ser 'ridge' o 'lasso'.\")\n",
    "\n",
    "    if model_type == 'ridge':\n",
    "        modelo = LogisticRegression(penalty='l2', solver='liblinear')\n",
    "    else:\n",
    "        modelo = LogisticRegression(penalty='l1', solver='liblinear')\n",
    "\n",
    "    resultados_lambda = []\n",
    "\n",
    "    for alpha in lambdas:\n",
    "        modelo.set_params(C=1/alpha)\n",
    "\n",
    "        # Realizar validación cruzada utilizando cross_validation\n",
    "        resultados = cross_validation(modelo, k=5, x=X, y=y, std=True)\n",
    "\n",
    "        # Calcular el Error Cuadrático Medio (ECM) promedio\n",
    "        ecm_promedio = np.mean(resultados['MSE'])\n",
    "\n",
    "        resultados_lambda.append((alpha, ecm_promedio))\n",
    "\n",
    "    # Crear un DataFrame a partir de la lista de tuplas\n",
    "    resultados_df = pd.DataFrame(resultados_lambda, columns=[\"Lambda\", \"ECM\"])\n",
    "    \n",
    "    return resultados_df\n",
    "\"\"\""
   ]
  },
  {
   "cell_type": "code",
   "execution_count": null,
   "id": "2b3dcdb1",
   "metadata": {},
   "outputs": [],
   "source": [
    "# Ejemplo de uso para Ridge Regression (Regresión Logística con regularización Ridge):\n",
    "lambdas_ridge = [0.001, 0.01, 0.1, 1, 10, 50, 100, 1000, 10000]\n",
    "resultados_ridge = evalua_config(['ridge'], lambdas_ridge, X, y)\n"
   ]
  },
  {
   "cell_type": "code",
   "execution_count": null,
   "id": "d97cc070",
   "metadata": {},
   "outputs": [],
   "source": [
    "# Ejemplo de uso para Lasso Regression (Regresión Logística con regularización Lasso):\n",
    "lambdas_lasso = [0.001, 0.01, 0.1, 1, 10, 50, 100, 1000, 10000]\n",
    "resultados_lasso = evalua_config(['lasso'], lambdas_lasso, X, y)"
   ]
  },
  {
   "cell_type": "code",
   "execution_count": null,
   "id": "9bcdaef8",
   "metadata": {},
   "outputs": [],
   "source": [
    "# Ejemplo de uso para ambos métodos de regularización:\n",
    "lambdas_ambos = [0.001, 0.01, 0.1, 1, 10, 50, 100, 1000, 10000]\n",
    "resultados_ambos = evalua_config(['ridge','lasso'], lambdas_ambos, X, y)"
   ]
  },
  {
   "cell_type": "code",
   "execution_count": null,
   "id": "19b7502b",
   "metadata": {},
   "outputs": [],
   "source": [
    "# Mostrar el DataFrame asociado a Ridge\n",
    "print(\"Resultados para Ridge:\")\n",
    "print(resultados_ridge)\n",
    "\n",
    "# Lambda con menor ECM para Ridge\n",
    "mejor_lambda_ridge = resultados_ridge.loc[resultados_ridge['ECM'].idxmin()]['Lambda']\n",
    "print(\"Valor óptimo de lambda (Ridge):\", mejor_lambda_ridge)\n",
    "\n",
    "# Mostrar el DataFrame asociado a Lasso\n",
    "print(\"\\nResultados para Lasso:\")\n",
    "print(resultados_lasso)\n",
    "\n",
    "# Lambda con menor ECM para Lasso\n",
    "mejor_lambda_lasso = resultados_lasso.loc[resultados_lasso['ECM'].idxmin()]['Lambda']\n",
    "print(\"Valor óptimo de lambda (Lasso):\", mejor_lambda_lasso)\n",
    "\n",
    "# Mostrar el DataFrame asociado a Lasso\n",
    "print(\"\\nResultados para ambos:\")\n",
    "print(resultados_ambos)\n",
    "\n",
    "# Lambda con menor ECM para Lasso\n",
    "mejor_lambda_ambos = resultados_ambos.loc[resultados_ambos['ECM'].idxmin()]['Lambda']\n",
    "print(\"Valor óptimo de lambda (ambos):\", mejor_lambda_ambos)"
   ]
  },
  {
   "cell_type": "code",
   "execution_count": null,
   "id": "c3cb1bc4",
   "metadata": {},
   "outputs": [],
   "source": [
    "# Mostrar el DataFrame asociado a Ridge\n",
    "print(\"Resultados para Ridge:\")\n",
    "print(resultados_ridge)\n",
    "\n",
    "# Lambda con menor ECM para Ridge\n",
    "mejor_lambda_ridge = resultados_ridge.loc[resultados_ridge['ECM'].idxmin()]['Lambda']\n",
    "print(\"Valor óptimo de lambda (Ridge):\", mejor_lambda_ridge)\n",
    "\n",
    "# Mostrar el DataFrame asociado a Lasso\n",
    "print(\"\\nResultados para Lasso:\")\n",
    "print(resultados_lasso)\n",
    "\n",
    "# Lambda con menor ECM para Lasso\n",
    "mejor_lambda_lasso = resultados_lasso.loc[resultados_lasso['ECM'].idxmin()]['Lambda']\n",
    "print(\"Valor óptimo de lambda (Lasso):\", mejor_lambda_lasso)"
   ]
  },
  {
   "cell_type": "markdown",
   "id": "76899bb9",
   "metadata": {},
   "source": [
    "## Ejercicio 4"
   ]
  },
  {
   "cell_type": "markdown",
   "id": "4dc00c5c",
   "metadata": {},
   "source": [
    "## Inciso 4"
   ]
  },
  {
   "cell_type": "markdown",
   "id": "55e3adb6",
   "metadata": {},
   "source": [
    "#### Escriban una función llamada \"evalua multiples metodos\" que les permita implementar los siguiente métodos con los hiperparámetros que ustedes elijan. \n",
    "#### Para la regresión logística, aseg´urense de que esta función utilice su función.\n",
    "#### evalua config para optimizar el λ de la regularizaci´on. Finalmente, el output de la función debe ser una tabla donde las columnas sean las métricas que hayan evaluado (las que hayan incluido en la función evalua metodo) y las filas sean los modelos (con su configuraci´on de hiperpar´ametros asociada) que hayan corrido.\n",
    "#### Asegúrense de que la tabla incluya una columna con nombre del modelo y el valor de los hiperparámetros/configuración:"
   ]
  },
  {
   "cell_type": "code",
   "execution_count": null,
   "id": "3f41596e",
   "metadata": {},
   "outputs": [],
   "source": [
    "\"\"\"\n",
    "def evalua_multiples_metodos(X, y, metodos):\n",
    "\n",
    "    Evalúa varios métodos de clasificación con hiperparámetros personalizados y regresión logística con optimización de lambda.\n",
    "\n",
    "    Args:\n",
    "    - X: Variables explicativas.\n",
    "    - y: Variable objetivo (etiquetas binarias 0 y 1).\n",
    "    - metodos: Lista de diccionarios que especifican los métodos y sus hiperparámetros.\n",
    "\n",
    "    Returns:\n",
    "    - Lista de diccionarios que contienen las métricas evaluadas para cada modelo.\n",
    "\n",
    "    resultados = []\n",
    "\n",
    "    for metodo in metodos:\n",
    "        nombre_modelo = metodo['nombre']\n",
    "        hiperparametros = metodo['hiperparametros']\n",
    "        resultados_modelo = {}  # Inicializar resultados_modelo\n",
    "\n",
    "        if nombre_modelo == 'Regresión Logística':\n",
    "            # Optimizar lambda (α) para la regularización de la Regresión Logística\n",
    "            lambdas = hiperparametros.get('lambdas', [0.001, 0.01, 0.1, 1, 10, 50, 100, 1000, 10000])\n",
    "            resultados_ridge = evalua_config(['ridge'], lambdas, X, y)\n",
    "            mejor_lambda = resultados_ridge.loc[resultados_ridge['ECM'].idxmin()]['Lambda']\n",
    "            modelo = LogisticRegression(penalty='l2', C=1/mejor_lambda, solver='liblinear')\n",
    "\n",
    "            # Evaluar el modelo con el lambda óptimo\n",
    "            resultados_modelo = evalua_metodo(modelo, X_train, y_train, X_test, y_test)\n",
    "        elif nombre_modelo == 'Análisis de Discriminante Lineal':\n",
    "            # Crear el modelo de Análisis de Discriminante Lineal con los hiperparámetros personalizados\n",
    "            modelo = LinearDiscriminantAnalysis(**hiperparametros)\n",
    "            \n",
    "            # Evaluar el modelo\n",
    "            resultados_modelo = evalua_metodo(modelo, X_train, y_train, X_test, y_test)\n",
    "        elif nombre_modelo == 'KNN':\n",
    "            # Crear el modelo K-Nearest Neighbors (KNN) con los hiperparámetros personalizados\n",
    "            modelo = KNeighborsClassifier(**hiperparametros)\n",
    "            \n",
    "            # Evaluar el modelo\n",
    "            resultados_modelo = evalua_metodo(modelo, X_train, y_train, X_test, y_test)\n",
    "\n",
    "        # Agregar el nombre del modelo y los hiperparámetros/configuración\n",
    "        resultados_modelo['Modelo'] = nombre_modelo\n",
    "        resultados_modelo['Hiperparámetros'] = str(hiperparametros)\n",
    "\n",
    "        resultados.append(resultados_modelo)\n",
    "\n",
    "    return resultados\n",
    "    \"\"\""
   ]
  },
  {
   "cell_type": "code",
   "execution_count": 149,
   "id": "3e0d1141",
   "metadata": {},
   "outputs": [
    {
     "name": "stdout",
     "output_type": "stream",
     "text": [
      "AUC: 0.6833\n",
      "Confusion Matrix:\n",
      "[[73  5]\n",
      " [37 28]]\n",
      "Accuracy Score: 0.7062937062937062\n",
      "AUC: 0.6332\n",
      "Confusion Matrix:\n",
      "[[66 15]\n",
      " [34 28]]\n",
      "Accuracy Score: 0.6573426573426573\n",
      "AUC: 0.7180\n",
      "Confusion Matrix:\n",
      "[[78 14]\n",
      " [21 30]]\n",
      "Accuracy Score: 0.7552447552447552\n",
      "AUC: 0.7120\n",
      "Confusion Matrix:\n",
      "[[67 14]\n",
      " [25 37]]\n",
      "Accuracy Score: 0.7272727272727273\n",
      "AUC: 0.6459\n",
      "Confusion Matrix:\n",
      "[[71 21]\n",
      " [24 26]]\n",
      "Accuracy Score: 0.6830985915492958\n",
      "AUC: 0.6569\n",
      "Confusion Matrix:\n",
      "[[69 21]\n",
      " [24 29]]\n",
      "Accuracy Score: 0.6853146853146853\n",
      "AUC: 0.6678\n",
      "Confusion Matrix:\n",
      "[[61 12]\n",
      " [35 35]]\n",
      "Accuracy Score: 0.6713286713286714\n",
      "AUC: 0.6806\n",
      "Confusion Matrix:\n",
      "[[80 14]\n",
      " [24 25]]\n",
      "Accuracy Score: 0.7342657342657343\n",
      "AUC: 0.7249\n",
      "Confusion Matrix:\n",
      "[[73 16]\n",
      " [20 34]]\n",
      "Accuracy Score: 0.7482517482517482\n",
      "AUC: 0.6454\n",
      "Confusion Matrix:\n",
      "[[69  9]\n",
      " [38 26]]\n",
      "Accuracy Score: 0.6690140845070423\n",
      "AUC: 0.6261\n",
      "Confusion Matrix:\n",
      "[[67 21]\n",
      " [28 27]]\n",
      "Accuracy Score: 0.6573426573426573\n",
      "AUC: 0.6764\n",
      "Confusion Matrix:\n",
      "[[73  8]\n",
      " [34 28]]\n",
      "Accuracy Score: 0.7062937062937062\n",
      "AUC: 0.6464\n",
      "Confusion Matrix:\n",
      "[[63 19]\n",
      " [29 32]]\n",
      "Accuracy Score: 0.6643356643356644\n",
      "AUC: 0.7028\n",
      "Confusion Matrix:\n",
      "[[74 15]\n",
      " [23 31]]\n",
      "Accuracy Score: 0.7342657342657343\n",
      "AUC: 0.6753\n",
      "Confusion Matrix:\n",
      "[[70 14]\n",
      " [28 30]]\n",
      "Accuracy Score: 0.704225352112676\n",
      "AUC: 0.6788\n",
      "Confusion Matrix:\n",
      "[[78 14]\n",
      " [25 26]]\n",
      "Accuracy Score: 0.7272727272727273\n",
      "AUC: 0.6394\n",
      "Confusion Matrix:\n",
      "[[67 14]\n",
      " [34 28]]\n",
      "Accuracy Score: 0.6643356643356644\n",
      "AUC: 0.6569\n",
      "Confusion Matrix:\n",
      "[[62 19]\n",
      " [28 34]]\n",
      "Accuracy Score: 0.6713286713286714\n",
      "AUC: 0.7216\n",
      "Confusion Matrix:\n",
      "[[79 10]\n",
      " [24 30]]\n",
      "Accuracy Score: 0.7622377622377622\n",
      "AUC: 0.6698\n",
      "Confusion Matrix:\n",
      "[[70 11]\n",
      " [32 29]]\n",
      "Accuracy Score: 0.6971830985915493\n",
      "AUC: 0.6497\n",
      "Confusion Matrix:\n",
      "[[68 18]\n",
      " [28 29]]\n",
      "Accuracy Score: 0.6783216783216783\n",
      "AUC: 0.6833\n",
      "Confusion Matrix:\n",
      "[[67 11]\n",
      " [32 33]]\n",
      "Accuracy Score: 0.6993006993006993\n",
      "AUC: 0.7034\n",
      "Confusion Matrix:\n",
      "[[71 17]\n",
      " [22 33]]\n",
      "Accuracy Score: 0.7272727272727273\n",
      "AUC: 0.6963\n",
      "Confusion Matrix:\n",
      "[[73 13]\n",
      " [26 31]]\n",
      "Accuracy Score: 0.7272727272727273\n",
      "AUC: 0.6445\n",
      "Confusion Matrix:\n",
      "[[74 12]\n",
      " [32 24]]\n",
      "Accuracy Score: 0.6901408450704225\n",
      "AUC: 0.6600\n",
      "Confusion Matrix:\n",
      "[[76 11]\n",
      " [31 25]]\n",
      "Accuracy Score: 0.7062937062937062\n",
      "AUC: 0.7104\n",
      "Confusion Matrix:\n",
      "[[77 12]\n",
      " [24 30]]\n",
      "Accuracy Score: 0.7482517482517482\n",
      "AUC: 0.7135\n",
      "Confusion Matrix:\n",
      "[[74  8]\n",
      " [29 32]]\n",
      "Accuracy Score: 0.7412587412587412\n",
      "AUC: 0.6357\n",
      "Confusion Matrix:\n",
      "[[67 22]\n",
      " [26 28]]\n",
      "Accuracy Score: 0.6643356643356644\n",
      "AUC: 0.6428\n",
      "Confusion Matrix:\n",
      "[[67 10]\n",
      " [38 27]]\n",
      "Accuracy Score: 0.6619718309859155\n",
      "AUC: 0.6085\n",
      "Confusion Matrix:\n",
      "[[74 17]\n",
      " [31 21]]\n",
      "Accuracy Score: 0.6643356643356644\n",
      "AUC: 0.6886\n",
      "Confusion Matrix:\n",
      "[[78 14]\n",
      " [24 27]]\n",
      "Accuracy Score: 0.7342657342657343\n",
      "AUC: 0.6574\n",
      "Confusion Matrix:\n",
      "[[66 15]\n",
      " [31 31]]\n",
      "Accuracy Score: 0.6783216783216783\n",
      "AUC: 0.6598\n",
      "Confusion Matrix:\n",
      "[[69 12]\n",
      " [33 29]]\n",
      "Accuracy Score: 0.6853146853146853\n",
      "AUC: 0.6986\n",
      "Confusion Matrix:\n",
      "[[69 10]\n",
      " [30 33]]\n",
      "Accuracy Score: 0.7183098591549296\n",
      "AUC: 0.6579\n",
      "Confusion Matrix:\n",
      "[[70 11]\n",
      " [34 28]]\n",
      "Accuracy Score: 0.6853146853146853\n",
      "AUC: 0.6432\n",
      "Confusion Matrix:\n",
      "[[65 16]\n",
      " [32 30]]\n",
      "Accuracy Score: 0.6643356643356644\n",
      "AUC: 0.7308\n",
      "Confusion Matrix:\n",
      "[[77 14]\n",
      " [20 32]]\n",
      "Accuracy Score: 0.7622377622377622\n",
      "AUC: 0.6332\n",
      "Confusion Matrix:\n",
      "[[65 18]\n",
      " [31 29]]\n",
      "Accuracy Score: 0.6573426573426573\n",
      "AUC: 0.7024\n",
      "Confusion Matrix:\n",
      "[[78 10]\n",
      " [26 28]]\n",
      "Accuracy Score: 0.7464788732394366\n",
      "AUC: 0.6585\n",
      "Confusion Matrix:\n",
      "[[66 14]\n",
      " [32 31]]\n",
      "Accuracy Score: 0.6783216783216783\n",
      "AUC: 0.6622\n",
      "Confusion Matrix:\n",
      "[[73 12]\n",
      " [31 27]]\n",
      "Accuracy Score: 0.6993006993006993\n",
      "AUC: 0.6859\n",
      "Confusion Matrix:\n",
      "[[71 18]\n",
      " [23 31]]\n",
      "Accuracy Score: 0.7132867132867133\n",
      "AUC: 0.6649\n",
      "Confusion Matrix:\n",
      "[[72 13]\n",
      " [30 28]]\n",
      "Accuracy Score: 0.6993006993006993\n",
      "AUC: 0.6982\n",
      "Confusion Matrix:\n",
      "[[68 17]\n",
      " [23 34]]\n",
      "Accuracy Score: 0.7183098591549296\n",
      "AUC: 0.6626\n",
      "Confusion Matrix:\n",
      "[[76  9]\n",
      " [33 25]]\n",
      "Accuracy Score: 0.7062937062937062\n",
      "AUC: 0.6753\n",
      "Confusion Matrix:\n",
      "[[62 15]\n",
      " [30 36]]\n",
      "Accuracy Score: 0.6853146853146853\n",
      "AUC: 0.6581\n",
      "Confusion Matrix:\n",
      "[[71 18]\n",
      " [26 28]]\n",
      "Accuracy Score: 0.6923076923076923\n",
      "AUC: 0.6323\n",
      "Confusion Matrix:\n",
      "[[69 14]\n",
      " [34 26]]\n",
      "Accuracy Score: 0.6643356643356644\n",
      "AUC: 0.7173\n",
      "Confusion Matrix:\n",
      "[[72 18]\n",
      " [19 33]]\n",
      "Accuracy Score: 0.7394366197183099\n",
      "AUC: 0.7064\n",
      "Confusion Matrix:\n",
      "[[73 10]\n",
      " [28 32]]\n",
      "Accuracy Score: 0.7342657342657343\n",
      "AUC: 0.6934\n",
      "Confusion Matrix:\n",
      "[[74 12]\n",
      " [27 30]]\n",
      "Accuracy Score: 0.7272727272727273\n",
      "AUC: 0.6455\n",
      "Confusion Matrix:\n",
      "[[72 16]\n",
      " [29 26]]\n",
      "Accuracy Score: 0.6853146853146853\n",
      "AUC: 0.6702\n",
      "Confusion Matrix:\n",
      "[[67 19]\n",
      " [25 32]]\n",
      "Accuracy Score: 0.6923076923076923\n",
      "AUC: 0.6369\n",
      "Confusion Matrix:\n",
      "[[66 15]\n",
      " [33 28]]\n",
      "Accuracy Score: 0.6619718309859155\n",
      "AUC: 0.6624\n",
      "Confusion Matrix:\n",
      "[[71 11]\n",
      " [33 28]]\n",
      "Accuracy Score: 0.6923076923076923\n",
      "AUC: 0.6702\n",
      "Confusion Matrix:\n",
      "[[67 19]\n",
      " [25 32]]\n",
      "Accuracy Score: 0.6923076923076923\n",
      "AUC: 0.6847\n",
      "Confusion Matrix:\n",
      "[[71 15]\n",
      " [26 31]]\n",
      "Accuracy Score: 0.7132867132867133\n",
      "AUC: 0.6981\n",
      "Confusion Matrix:\n",
      "[[63 13]\n",
      " [29 38]]\n",
      "Accuracy Score: 0.7062937062937062\n",
      "AUC: 0.6128\n",
      "Confusion Matrix:\n",
      "[[78 16]\n",
      " [29 19]]\n",
      "Accuracy Score: 0.6830985915492958\n",
      "AUC: 0.6550\n",
      "Confusion Matrix:\n",
      "[[63 18]\n",
      " [29 33]]\n",
      "Accuracy Score: 0.6713286713286714\n",
      "AUC: 0.6466\n",
      "Confusion Matrix:\n",
      "[[69 18]\n",
      " [28 28]]\n",
      "Accuracy Score: 0.6783216783216783\n",
      "AUC: 0.6953\n",
      "Confusion Matrix:\n",
      "[[77 17]\n",
      " [21 28]]\n",
      "Accuracy Score: 0.7342657342657343\n",
      "AUC: 0.6647\n",
      "Confusion Matrix:\n",
      "[[60 15]\n",
      " [32 36]]\n",
      "Accuracy Score: 0.6713286713286714\n",
      "AUC: 0.6765\n",
      "Confusion Matrix:\n",
      "[[75 12]\n",
      " [28 27]]\n",
      "Accuracy Score: 0.7183098591549296\n",
      "AUC: 0.6801\n",
      "Confusion Matrix:\n",
      "[[54 27]\n",
      " [19 43]]\n",
      "Accuracy Score: 0.6783216783216783\n",
      "AUC: 0.6718\n",
      "Confusion Matrix:\n",
      "[[52 37]\n",
      " [13 41]]\n",
      "Accuracy Score: 0.6503496503496503\n",
      "AUC: 0.7184\n",
      "Confusion Matrix:\n",
      "[[57 26]\n",
      " [15 45]]\n",
      "Accuracy Score: 0.7132867132867133\n",
      "AUC: 0.6327\n",
      "Confusion Matrix:\n",
      "[[50 32]\n",
      " [21 40]]\n",
      "Accuracy Score: 0.6293706293706294\n",
      "AUC: 0.6598\n",
      "Confusion Matrix:\n",
      "[[57 32]\n",
      " [17 36]]\n",
      "Accuracy Score: 0.6549295774647887\n",
      "AUC: 0.6801\n",
      "Confusion Matrix:\n",
      "[[62 30]\n",
      " [16 35]]\n",
      "Accuracy Score: 0.6783216783216783\n",
      "AUC: 0.5880\n",
      "Confusion Matrix:\n",
      "[[44 38]\n",
      " [22 39]]\n",
      "Accuracy Score: 0.5804195804195804\n",
      "AUC: 0.6820\n",
      "Confusion Matrix:\n",
      "[[53 28]\n",
      " [18 44]]\n",
      "Accuracy Score: 0.6783216783216783\n",
      "AUC: 0.5000\n",
      "Confusion Matrix:\n",
      "[[87  0]\n",
      " [56  0]]\n",
      "Accuracy Score: 0.6083916083916084\n",
      "AUC: 0.5000\n",
      "Confusion Matrix:\n",
      "[[82  0]\n",
      " [60  0]]\n",
      "Accuracy Score: 0.5774647887323944\n",
      "AUC: 0.5000\n",
      "Confusion Matrix:\n",
      "[[84  0]\n",
      " [59  0]]\n",
      "Accuracy Score: 0.5874125874125874\n",
      "AUC: 0.5000\n",
      "Confusion Matrix:\n",
      "[[88  0]\n",
      " [55  0]]\n",
      "Accuracy Score: 0.6153846153846154\n",
      "AUC: 0.5000\n",
      "Confusion Matrix:\n",
      "[[82  0]\n",
      " [61  0]]\n",
      "Accuracy Score: 0.5734265734265734\n",
      "AUC: 0.5000\n",
      "Confusion Matrix:\n",
      "[[91  0]\n",
      " [52  0]]\n",
      "Accuracy Score: 0.6363636363636364\n",
      "AUC: 0.5000\n",
      "Confusion Matrix:\n",
      "[[79  0]\n",
      " [63  0]]\n",
      "Accuracy Score: 0.5563380281690141\n",
      "AUC: 0.6916\n",
      "Confusion Matrix:\n",
      "[[109  16]\n",
      " [ 44  46]]\n",
      "Accuracy Score: 0.7209302325581395\n"
     ]
    },
    {
     "data": {
      "image/png": "[encoded data removed]",
      "text/plain": [
       "<Figure size 432x288 with 1 Axes>"
      ]
     },
     "metadata": {
      "needs_background": "light"
     },
     "output_type": "display_data"
    },
    {
     "name": "stdout",
     "output_type": "stream",
     "text": [
      "AUC: 0.6860\n",
      "Confusion Matrix:\n",
      "[[109  16]\n",
      " [ 45  45]]\n",
      "Accuracy Score: 0.7162790697674418\n"
     ]
    },
    {
     "data": {
      "image/png": "[encoded data removed]",
      "text/plain": [
       "<Figure size 432x288 with 1 Axes>"
      ]
     },
     "metadata": {
      "needs_background": "light"
     },
     "output_type": "display_data"
    },
    {
     "name": "stdout",
     "output_type": "stream",
     "text": [
      "AUC: 0.6071\n",
      "Confusion Matrix:\n",
      "[[99 26]\n",
      " [52 38]]\n",
      "Accuracy Score: 0.6372093023255814\n"
     ]
    },
    {
     "data": {
      "image/png": "[encoded data removed]",
      "text/plain": [
       "<Figure size 432x288 with 1 Axes>"
      ]
     },
     "metadata": {
      "needs_background": "light"
     },
     "output_type": "display_data"
    }
   ],
   "source": [
    "from sklearn.linear_model import LogisticRegression\n",
    "from sklearn.discriminant_analysis import LinearDiscriminantAnalysis\n",
    "from sklearn.neighbors import KNeighborsClassifier\n",
    "\n",
    "# Definir los hiperparámetros para cada método\n",
    "hiperparametros_rl = {\n",
    "    'lambdas': [0.001, 0.01, 0.1, 1, 10, 50, 100, 1000],\n",
    "}\n",
    "\n",
    "hiperparametros_lda = {\n",
    "    'solver': 'lsqr',\n",
    "}\n",
    "\n",
    "hiperparametros_knn = {\n",
    "    'n_neighbors': 3,\n",
    "}\n",
    "\n",
    "# Lista de métodos y sus hiperparámetros\n",
    "metodos = [\n",
    "    {\n",
    "        'nombre': 'Regresión Logística',\n",
    "        'hiperparametros': hiperparametros_rl,\n",
    "    },\n",
    "    {\n",
    "        'nombre': 'Análisis de Discriminante Lineal',\n",
    "        'hiperparametros': hiperparametros_lda,\n",
    "    },\n",
    "    {\n",
    "        'nombre': 'KNN',\n",
    "        'hiperparametros': hiperparametros_knn,\n",
    "    },\n",
    "]\n",
    "\n",
    "# Utilizar la función evalua_multiples_metodos con datos de ejemplo\n",
    "resultados = evalua_multiples_metodos(X, y, metodos)"
   ]
  },
  {
   "cell_type": "code",
   "execution_count": null,
   "id": "1129caf3",
   "metadata": {},
   "outputs": [],
   "source": [
    "print(resultados)"
   ]
  },
  {
   "cell_type": "code",
   "execution_count": 150,
   "id": "6969e6b1",
   "metadata": {},
   "outputs": [],
   "source": [
    "from sklearn.linear_model import LogisticRegression\n",
    "from sklearn.discriminant_analysis import LinearDiscriminantAnalysis\n",
    "from sklearn.neighbors import KNeighborsClassifier\n",
    "\n",
    "def evalua_multiples_metodos(X, y, metodos):\n",
    "    \"\"\"\n",
    "    Evalúa varios métodos de clasificación con hiperparámetros personalizados y regresión logística con optimización de lambda.\n",
    "\n",
    "    Args:\n",
    "    - X: Variables explicativas.\n",
    "    - y: Variable objetivo (etiquetas binarias 0 y 1).\n",
    "    - metodos: Lista de diccionarios que especifican los métodos y sus hiperparámetros.\n",
    "\n",
    "    Returns:\n",
    "    - Lista de diccionarios que contienen las métricas evaluadas para cada modelo.\n",
    "    \"\"\"\n",
    "    resultados = []  # Resultados como una lista de diccionarios\n",
    "\n",
    "    for metodo in metodos:\n",
    "        nombre_modelo = metodo['nombre']\n",
    "        hiperparametros = metodo['hiperparametros']\n",
    "        resultados_modelo = {}  # Inicializar resultados_modelo\n",
    "\n",
    "        if nombre_modelo == 'Regresión Logística':\n",
    "            # Optimizar lambda (α) para la regularización de la Regresión Logística\n",
    "            lambdas = hiperparametros.get('lambdas', [0.001, 0.01, 0.1, 1, 10, 50, 100, 1000, 10000])\n",
    "            resultados_log = evalua_config(['ridge','lasso'], lambdas, X, y)\n",
    "            mejor_lambda = resultados_log.loc[resultados_log['ECM'].idxmin()]['Lambda']\n",
    "            mejor_metodo = resultados_log.loc[resultados_log['ECM'].idxmin()]['Model Type']\n",
    "            if mejor_metodo == \"ridge\":\n",
    "                modelo = LogisticRegression(penalty='l2', C=1/mejor_lambda, solver='liblinear')\n",
    "            else:\n",
    "                modelo = LogisticRegression(penalty='l1', C=1/mejor_lambda, solver='saga')\n",
    "            resultados_modelo = evalua_metodo(modelo, X_train, y_train, X_test, y_test)\n",
    "        elif nombre_modelo == 'Análisis de Discriminante Lineal':\n",
    "            # Crear el modelo de Análisis de Discriminante Lineal con los hiperparámetros personalizados\n",
    "            modelo = LinearDiscriminantAnalysis(**hiperparametros)\n",
    "            # Evaluar el modelo\n",
    "            resultados_modelo = evalua_metodo(modelo, X_train, y_train, X_test, y_test)\n",
    "        elif nombre_modelo == 'KNN':\n",
    "            # Crear el modelo K-Nearest Neighbors (KNN) con los hiperparámetros personalizados\n",
    "            modelo = KNeighborsClassifier(**hiperparametros)\n",
    "            \n",
    "            # Evaluar el modelo\n",
    "            resultados_modelo = evalua_metodo(modelo, X_train, y_train, X_test, y_test)\n",
    "\n",
    "        # Agregar el nombre del modelo y los hiperparámetros/configuración\n",
    "        resultados_modelo['Modelo'] = nombre_modelo\n",
    "        resultados_modelo['Hiperparámetros'] = str(hiperparametros)\n",
    "        resultados.append(resultados_modelo)\n",
    "    resultados_df = pd.DataFrame(resultados)\n",
    "    return resultados_df  # Resultados es un diccionario que contiene los resultados de cada modelo"
   ]
  },
  {
   "cell_type": "code",
   "execution_count": 151,
   "id": "6620b12f",
   "metadata": {},
   "outputs": [
    {
     "name": "stdout",
     "output_type": "stream",
     "text": [
      "AUC: 0.7110\n",
      "Confusion Matrix:\n",
      "[[74 13]\n",
      " [24 32]]\n",
      "Accuracy Score: 0.7412587412587412\n",
      "AUC: 0.6700\n",
      "Confusion Matrix:\n",
      "[[67 17]\n",
      " [27 32]]\n",
      "Accuracy Score: 0.6923076923076923\n",
      "AUC: 0.6433\n",
      "Confusion Matrix:\n",
      "[[70 19]\n",
      " [27 27]]\n",
      "Accuracy Score: 0.6783216783216783\n",
      "AUC: 0.6685\n",
      "Confusion Matrix:\n",
      "[[72 10]\n",
      " [33 28]]\n",
      "Accuracy Score: 0.6993006993006993\n",
      "AUC: 0.6402\n",
      "Confusion Matrix:\n",
      "[[64 18]\n",
      " [30 30]]\n",
      "Accuracy Score: 0.6619718309859155\n",
      "AUC: 0.6443\n",
      "Confusion Matrix:\n",
      "[[65 15]\n",
      " [33 30]]\n",
      "Accuracy Score: 0.6643356643356644\n",
      "AUC: 0.7209\n",
      "Confusion Matrix:\n",
      "[[82 11]\n",
      " [22 28]]\n",
      "Accuracy Score: 0.7692307692307693\n",
      "AUC: 0.6785\n",
      "Confusion Matrix:\n",
      "[[64 15]\n",
      " [29 35]]\n",
      "Accuracy Score: 0.6923076923076923\n",
      "AUC: 0.6297\n",
      "Confusion Matrix:\n",
      "[[60 19]\n",
      " [32 32]]\n",
      "Accuracy Score: 0.6433566433566433\n",
      "AUC: 0.6750\n",
      "Confusion Matrix:\n",
      "[[80 13]\n",
      " [25 24]]\n",
      "Accuracy Score: 0.7323943661971831\n",
      "AUC: 0.6810\n",
      "Confusion Matrix:\n",
      "[[66 18]\n",
      " [25 34]]\n",
      "Accuracy Score: 0.6993006993006993\n",
      "AUC: 0.6853\n",
      "Confusion Matrix:\n",
      "[[69  7]\n",
      " [36 31]]\n",
      "Accuracy Score: 0.6993006993006993\n",
      "AUC: 0.6170\n",
      "Confusion Matrix:\n",
      "[[75 13]\n",
      " [34 21]]\n",
      "Accuracy Score: 0.6713286713286714\n",
      "AUC: 0.6914\n",
      "Confusion Matrix:\n",
      "[[72 23]\n",
      " [18 30]]\n",
      "Accuracy Score: 0.7132867132867133\n",
      "AUC: 0.6964\n",
      "Confusion Matrix:\n",
      "[[69 12]\n",
      " [28 33]]\n",
      "Accuracy Score: 0.7183098591549296\n",
      "AUC: 0.6853\n",
      "Confusion Matrix:\n",
      "[[71 13]\n",
      " [28 31]]\n",
      "Accuracy Score: 0.7132867132867133\n",
      "AUC: 0.6930\n",
      "Confusion Matrix:\n",
      "[[70  9]\n",
      " [32 32]]\n",
      "Accuracy Score: 0.7132867132867133\n",
      "AUC: 0.6472\n",
      "Confusion Matrix:\n",
      "[[66 21]\n",
      " [26 30]]\n",
      "Accuracy Score: 0.6713286713286714\n",
      "AUC: 0.6209\n",
      "Confusion Matrix:\n",
      "[[71 20]\n",
      " [28 24]]\n",
      "Accuracy Score: 0.6643356643356644\n",
      "AUC: 0.6964\n",
      "Confusion Matrix:\n",
      "[[72 11]\n",
      " [28 31]]\n",
      "Accuracy Score: 0.7253521126760564\n",
      "AUC: 0.6865\n",
      "Confusion Matrix:\n",
      "[[77 18]\n",
      " [21 27]]\n",
      "Accuracy Score: 0.7272727272727273\n",
      "AUC: 0.6872\n",
      "Confusion Matrix:\n",
      "[[65 12]\n",
      " [31 35]]\n",
      "Accuracy Score: 0.6993006993006993\n",
      "AUC: 0.6217\n",
      "Confusion Matrix:\n",
      "[[67 15]\n",
      " [35 26]]\n",
      "Accuracy Score: 0.6503496503496503\n",
      "AUC: 0.7147\n",
      "Confusion Matrix:\n",
      "[[76 14]\n",
      " [22 31]]\n",
      "Accuracy Score: 0.7482517482517482\n",
      "AUC: 0.6974\n",
      "Confusion Matrix:\n",
      "[[69 11]\n",
      " [29 33]]\n",
      "Accuracy Score: 0.7183098591549296\n",
      "AUC: 0.6284\n",
      "Confusion Matrix:\n",
      "[[69 20]\n",
      " [28 26]]\n",
      "Accuracy Score: 0.6643356643356644\n",
      "AUC: 0.6406\n",
      "Confusion Matrix:\n",
      "[[80  6]\n",
      " [37 20]]\n",
      "Accuracy Score: 0.6993006993006993\n",
      "AUC: 0.7026\n",
      "Confusion Matrix:\n",
      "[[70  8]\n",
      " [32 33]]\n",
      "Accuracy Score: 0.7202797202797203\n",
      "AUC: 0.6619\n",
      "Confusion Matrix:\n",
      "[[67 16]\n",
      " [29 31]]\n",
      "Accuracy Score: 0.6853146853146853\n",
      "AUC: 0.7111\n",
      "Confusion Matrix:\n",
      "[[73 15]\n",
      " [22 32]]\n",
      "Accuracy Score: 0.7394366197183099\n",
      "AUC: 0.6154\n",
      "Confusion Matrix:\n",
      "[[77 14]\n",
      " [32 20]]\n",
      "Accuracy Score: 0.6783216783216783\n",
      "AUC: 0.6934\n",
      "Confusion Matrix:\n",
      "[[74 12]\n",
      " [27 30]]\n",
      "Accuracy Score: 0.7272727272727273\n",
      "AUC: 0.6319\n",
      "Confusion Matrix:\n",
      "[[73 18]\n",
      " [28 24]]\n",
      "Accuracy Score: 0.6783216783216783\n",
      "AUC: 0.6871\n",
      "Confusion Matrix:\n",
      "[[67  9]\n",
      " [34 33]]\n",
      "Accuracy Score: 0.6993006993006993\n",
      "AUC: 0.7054\n",
      "Confusion Matrix:\n",
      "[[69 11]\n",
      " [28 34]]\n",
      "Accuracy Score: 0.7253521126760564\n",
      "AUC: 0.6711\n",
      "Confusion Matrix:\n",
      "[[80 15]\n",
      " [24 24]]\n",
      "Accuracy Score: 0.7272727272727273\n",
      "AUC: 0.6987\n",
      "Confusion Matrix:\n",
      "[[61 17]\n",
      " [25 40]]\n",
      "Accuracy Score: 0.7062937062937062\n",
      "AUC: 0.6551\n",
      "Confusion Matrix:\n",
      "[[65 13]\n",
      " [34 31]]\n",
      "Accuracy Score: 0.6713286713286714\n",
      "AUC: 0.6847\n",
      "Confusion Matrix:\n",
      "[[74 16]\n",
      " [24 29]]\n",
      "Accuracy Score: 0.7202797202797203\n",
      "AUC: 0.6153\n",
      "Confusion Matrix:\n",
      "[[74  9]\n",
      " [39 20]]\n",
      "Accuracy Score: 0.6619718309859155\n",
      "AUC: 0.6809\n",
      "Confusion Matrix:\n",
      "[[70 12]\n",
      " [30 31]]\n",
      "Accuracy Score: 0.7062937062937062\n",
      "AUC: 0.6223\n",
      "Confusion Matrix:\n",
      "[[73 18]\n",
      " [29 23]]\n",
      "Accuracy Score: 0.6713286713286714\n",
      "AUC: 0.7313\n",
      "Confusion Matrix:\n",
      "[[76 10]\n",
      " [24 33]]\n",
      "Accuracy Score: 0.7622377622377622\n",
      "AUC: 0.6649\n",
      "Confusion Matrix:\n",
      "[[72 13]\n",
      " [30 28]]\n",
      "Accuracy Score: 0.6993006993006993\n",
      "AUC: 0.6573\n",
      "Confusion Matrix:\n",
      "[[60 20]\n",
      " [27 35]]\n",
      "Accuracy Score: 0.6690140845070423\n",
      "AUC: 0.6735\n",
      "Confusion Matrix:\n",
      "[[72 13]\n",
      " [29 29]]\n",
      "Accuracy Score: 0.7062937062937062\n",
      "AUC: 0.6731\n",
      "Confusion Matrix:\n",
      "[[73 10]\n",
      " [32 28]]\n",
      "Accuracy Score: 0.7062937062937062\n",
      "AUC: 0.7320\n",
      "Confusion Matrix:\n",
      "[[76  8]\n",
      " [26 33]]\n",
      "Accuracy Score: 0.7622377622377622\n",
      "AUC: 0.6051\n",
      "Confusion Matrix:\n",
      "[[68 19]\n",
      " [32 24]]\n",
      "Accuracy Score: 0.6433566433566433\n",
      "AUC: 0.7040\n",
      "Confusion Matrix:\n",
      "[[66 19]\n",
      " [21 36]]\n",
      "Accuracy Score: 0.7183098591549296\n",
      "AUC: 0.6525\n",
      "Confusion Matrix:\n",
      "[[75 15]\n",
      " [28 25]]\n",
      "Accuracy Score: 0.6993006993006993\n",
      "AUC: 0.6937\n",
      "Confusion Matrix:\n",
      "[[64 16]\n",
      " [26 37]]\n",
      "Accuracy Score: 0.7062937062937062\n",
      "AUC: 0.6504\n",
      "Confusion Matrix:\n",
      "[[64 13]\n",
      " [35 31]]\n",
      "Accuracy Score: 0.6643356643356644\n",
      "AUC: 0.6517\n",
      "Confusion Matrix:\n",
      "[[73 14]\n",
      " [30 26]]\n",
      "Accuracy Score: 0.6923076923076923\n",
      "AUC: 0.6718\n",
      "Confusion Matrix:\n",
      "[[69 21]\n",
      " [22 30]]\n",
      "Accuracy Score: 0.6971830985915493\n",
      "AUC: 0.6854\n",
      "Confusion Matrix:\n",
      "[[68 19]\n",
      " [23 33]]\n",
      "Accuracy Score: 0.7062937062937062\n",
      "AUC: 0.6205\n",
      "Confusion Matrix:\n",
      "[[65 15]\n",
      " [36 27]]\n",
      "Accuracy Score: 0.6433566433566433\n",
      "AUC: 0.7300\n",
      "Confusion Matrix:\n",
      "[[70 13]\n",
      " [23 37]]\n",
      "Accuracy Score: 0.7482517482517482\n",
      "AUC: 0.6908\n",
      "Confusion Matrix:\n",
      "[[72 13]\n",
      " [27 31]]\n",
      "Accuracy Score: 0.7202797202797203\n",
      "AUC: 0.6195\n",
      "Confusion Matrix:\n",
      "[[75 14]\n",
      " [32 21]]\n",
      "Accuracy Score: 0.676056338028169\n",
      "AUC: 0.7023\n",
      "Confusion Matrix:\n",
      "[[74 14]\n",
      " [24 31]]\n",
      "Accuracy Score: 0.7342657342657343\n",
      "AUC: 0.6469\n",
      "Confusion Matrix:\n",
      "[[66 19]\n",
      " [28 30]]\n",
      "Accuracy Score: 0.6713286713286714\n",
      "AUC: 0.7067\n",
      "Confusion Matrix:\n",
      "[[78 11]\n",
      " [25 29]]\n",
      "Accuracy Score: 0.7482517482517482\n",
      "AUC: 0.6832\n",
      "Confusion Matrix:\n",
      "[[65 17]\n",
      " [26 35]]\n",
      "Accuracy Score: 0.6993006993006993\n",
      "AUC: 0.6321\n",
      "Confusion Matrix:\n",
      "[[65 15]\n",
      " [34 28]]\n",
      "Accuracy Score: 0.6549295774647887\n",
      "AUC: 0.6838\n",
      "Confusion Matrix:\n",
      "[[53 29]\n",
      " [17 44]]\n",
      "Accuracy Score: 0.6783216783216783\n",
      "AUC: 0.6818\n",
      "Confusion Matrix:\n",
      "[[49 28]\n",
      " [18 48]]\n",
      "Accuracy Score: 0.6783216783216783\n",
      "AUC: 0.6202\n",
      "Confusion Matrix:\n",
      "[[56 33]\n",
      " [21 33]]\n",
      "Accuracy Score: 0.6223776223776224\n",
      "AUC: 0.6554\n",
      "Confusion Matrix:\n",
      "[[58 36]\n",
      " [15 34]]\n",
      "Accuracy Score: 0.6433566433566433\n",
      "AUC: 0.7126\n",
      "Confusion Matrix:\n",
      "[[54 28]\n",
      " [14 46]]\n",
      "Accuracy Score: 0.704225352112676\n",
      "AUC: 0.6716\n",
      "Confusion Matrix:\n",
      "[[59 29]\n",
      " [18 37]]\n",
      "Accuracy Score: 0.6713286713286714\n",
      "AUC: 0.6129\n",
      "Confusion Matrix:\n",
      "[[45 34]\n",
      " [22 42]]\n",
      "Accuracy Score: 0.6083916083916084\n",
      "AUC: 0.6752\n",
      "Confusion Matrix:\n",
      "[[61 34]\n",
      " [14 34]]\n",
      "Accuracy Score: 0.6643356643356644\n",
      "AUC: 0.6776\n",
      "Confusion Matrix:\n",
      "[[53 30]\n",
      " [17 43]]\n",
      "Accuracy Score: 0.6713286713286714\n",
      "AUC: 0.5000\n",
      "Confusion Matrix:\n",
      "[[79  0]\n",
      " [63  0]]\n",
      "Accuracy Score: 0.5563380281690141\n",
      "AUC: 0.5000\n",
      "Confusion Matrix:\n",
      "[[88  0]\n",
      " [55  0]]\n",
      "Accuracy Score: 0.6153846153846154\n",
      "AUC: 0.5000\n",
      "Confusion Matrix:\n",
      "[[88  0]\n",
      " [55  0]]\n",
      "Accuracy Score: 0.6153846153846154\n",
      "AUC: 0.5000\n",
      "Confusion Matrix:\n",
      "[[83  0]\n",
      " [60  0]]\n",
      "Accuracy Score: 0.5804195804195804\n",
      "AUC: 0.5000\n",
      "Confusion Matrix:\n",
      "[[79  0]\n",
      " [64  0]]\n",
      "Accuracy Score: 0.5524475524475524\n",
      "AUC: 0.5000\n",
      "Confusion Matrix:\n",
      "[[86  0]\n",
      " [56  0]]\n",
      "Accuracy Score: 0.6056338028169014\n",
      "AUC: 0.6847\n",
      "Confusion Matrix:\n",
      "[[117   8]\n",
      " [ 51  39]]\n",
      "Accuracy Score: 0.7255813953488373\n"
     ]
    },
    {
     "data": {
      "image/png": "[encoded data removed]",
      "text/plain": [
       "<Figure size 432x288 with 1 Axes>"
      ]
     },
     "metadata": {
      "needs_background": "light"
     },
     "output_type": "display_data"
    },
    {
     "name": "stdout",
     "output_type": "stream",
     "text": [
      "AUC: 0.6860\n",
      "Confusion Matrix:\n",
      "[[109  16]\n",
      " [ 45  45]]\n",
      "Accuracy Score: 0.7162790697674418\n"
     ]
    },
    {
     "data": {
      "image/png": "[encoded data removed]",
      "text/plain": [
       "<Figure size 432x288 with 1 Axes>"
      ]
     },
     "metadata": {
      "needs_background": "light"
     },
     "output_type": "display_data"
    },
    {
     "name": "stdout",
     "output_type": "stream",
     "text": [
      "AUC: 0.6071\n",
      "Confusion Matrix:\n",
      "[[99 26]\n",
      " [52 38]]\n",
      "Accuracy Score: 0.6372093023255814\n"
     ]
    },
    {
     "data": {
      "image/png": "[encoded data removed]",
      "text/plain": [
       "<Figure size 432x288 with 1 Axes>"
      ]
     },
     "metadata": {
      "needs_background": "light"
     },
     "output_type": "display_data"
    }
   ],
   "source": [
    "from sklearn.linear_model import LogisticRegression\n",
    "from sklearn.discriminant_analysis import LinearDiscriminantAnalysis\n",
    "from sklearn.neighbors import KNeighborsClassifier\n",
    "\n",
    "# Definir los hiperparámetros para cada método\n",
    "hiperparametros_rl = {\n",
    "    'lambdas': [0.001, 0.01, 0.1, 1, 10, 50, 100, 1000],\n",
    "}\n",
    "\n",
    "hiperparametros_lda = {\n",
    "    'solver': 'lsqr',\n",
    "}\n",
    "\n",
    "hiperparametros_knn = {\n",
    "    'n_neighbors': 3,\n",
    "}\n",
    "\n",
    "# Lista de métodos y sus hiperparámetros\n",
    "metodos = [\n",
    "    {\n",
    "        'nombre': 'Regresión Logística',\n",
    "        'hiperparametros': hiperparametros_rl,\n",
    "    },\n",
    "    {\n",
    "        'nombre': 'Análisis de Discriminante Lineal',\n",
    "        'hiperparametros': hiperparametros_lda,\n",
    "    },\n",
    "    {\n",
    "        'nombre': 'KNN',\n",
    "        'hiperparametros': hiperparametros_knn,\n",
    "    },\n",
    "]\n",
    "\n",
    "# Utilizar la función evalua_multiples_metodos con datos de ejemplo\n",
    "resultados = evalua_multiples_metodos(X, y, metodos)"
   ]
  },
  {
   "cell_type": "code",
   "execution_count": 152,
   "id": "db227e6c",
   "metadata": {
    "scrolled": true
   },
   "outputs": [
    {
     "name": "stdout",
     "output_type": "stream",
     "text": [
      "        AUC       Confusion Matrix  Accuracy Score       ECM  \\\n",
      "0  0.684667   [[117, 8], [51, 39]]        0.725581  0.274419   \n",
      "1  0.686000  [[109, 16], [45, 45]]        0.716279  0.283721   \n",
      "2  0.607111   [[99, 26], [52, 38]]        0.637209  0.362791   \n",
      "\n",
      "                             Modelo  \\\n",
      "0               Regresión Logística   \n",
      "1  Análisis de Discriminante Lineal   \n",
      "2                               KNN   \n",
      "\n",
      "                                     Hiperparámetros  \n",
      "0  {'lambdas': [0.001, 0.01, 0.1, 1, 10, 50, 100,...  \n",
      "1                                 {'solver': 'lsqr'}  \n",
      "2                                 {'n_neighbors': 3}  \n"
     ]
    }
   ],
   "source": [
    "print(resultados)"
   ]
  },
  {
   "cell_type": "markdown",
   "id": "e2db386e",
   "metadata": {},
   "source": [
    "# Parte 3: Análisis de la base de hogares y cálculo de pobreza"
   ]
  },
  {
   "cell_type": "code",
   "execution_count": 153,
   "id": "2986c02a",
   "metadata": {},
   "outputs": [],
   "source": [
    "import pandas as pd\n",
    "import numpy as np\n",
    "#from ISLP import load_data\n",
    "\n",
    "from matplotlib import pyplot as plt\n",
    "\n",
    "from sklearn.model_selection import train_test_split\n",
    "from sklearn.linear_model import LinearRegression\n",
    "from sklearn.preprocessing import PolynomialFeatures \n",
    "from sklearn.metrics import mean_squared_error\n",
    "from sklearn.linear_model import LogisticRegression\n",
    "from sklearn.metrics import confusion_matrix, roc_curve, auc, accuracy_score\n",
    "import matplotlib.pyplot as plt\n",
    "from sklearn.linear_model import LogisticRegression\n",
    "from sklearn.datasets import load_breast_cancer\n",
    "from sklearn.model_selection import train_test_split\n",
    "from sklearn.model_selection import KFold\n",
    "from sklearn.discriminant_analysis import LinearDiscriminantAnalysis\n",
    "from sklearn.neighbors import KNeighborsClassifier"
   ]
  },
  {
   "cell_type": "code",
   "execution_count": 175,
   "id": "a9fff0a8",
   "metadata": {},
   "outputs": [
    {
     "name": "stdout",
     "output_type": "stream",
     "text": [
      "CODUSU\n",
      "ANO4_indv\n",
      "TRIMESTRE_indv\n",
      "NRO_HOGAR\n",
      "COMPONENTE\n",
      "H15\n",
      "REGION_indv\n",
      "MAS_500_indv\n",
      "AGLOMERADO_indv\n",
      "PONDERA_indv\n",
      "CH03\n",
      "CH04\n",
      "CH05\n",
      "CH06\n",
      "CH07\n",
      "CH08\n",
      "CH09\n",
      "CH10\n",
      "CH11\n",
      "CH12\n",
      "CH13\n",
      "CH14\n",
      "CH15\n",
      "CH16\n",
      "NIVEL_ED\n",
      "ESTADO\n",
      "CAT_OCUP\n",
      "CAT_INAC\n",
      "PP02C1\n",
      "PP02C2\n",
      "PP02C3\n",
      "PP02C4\n",
      "PP02C5\n",
      "PP02C6\n",
      "PP02C7\n",
      "PP02C8\n",
      "PP02E\n",
      "PP02H\n",
      "PP02I\n",
      "PP03C\n",
      "PP03D\n",
      "PP3E_TOT\n",
      "PP3F_TOT\n",
      "PP03G\n",
      "PP03H\n",
      "PP03I\n",
      "PP03J\n",
      "INTENSI\n",
      "PP04A\n",
      "PP04B_COD\n",
      "PP04B1\n",
      "PP04B2\n",
      "PP04B3_MES\n",
      "PP04B3_ANO\n",
      "PP04B3_DIA\n",
      "PP04C\n",
      "PP04C99\n",
      "PP04D_COD\n",
      "PP04G\n",
      "PP05B2_MES\n",
      "PP05B2_ANO\n",
      "PP05B2_DIA\n",
      "PP05C_1\n",
      "PP05C_2\n",
      "PP05C_3\n",
      "PP05E\n",
      "PP05F\n",
      "PP05H\n",
      "PP06A\n",
      "PP06C\n",
      "PP06D\n",
      "PP06E\n",
      "PP06H\n",
      "PP07A\n",
      "PP07C\n",
      "PP07D\n",
      "PP07E\n",
      "PP07F1\n",
      "PP07F2\n",
      "PP07F3\n",
      "PP07F4\n",
      "PP07F5\n",
      "PP07G1\n",
      "PP07G2\n",
      "PP07G3\n",
      "PP07G4\n",
      "PP07G_59\n",
      "PP07H\n",
      "PP07I\n",
      "PP07J\n",
      "PP07K\n",
      "PP08D1\n",
      "PP08D4\n",
      "PP08F1\n",
      "PP08F2\n",
      "PP08J1\n",
      "PP08J2\n",
      "PP08J3\n",
      "PP09A\n",
      "PP09B\n",
      "PP09C\n",
      "P21\n",
      "DECOCUR\n",
      "RDECOCUR\n",
      "GDECOCUR\n",
      "ADECOCUR\n",
      "PONDIIO\n",
      "TOT_P12\n",
      "P47T\n",
      "DECINDR\n",
      "RDECINDR\n",
      "GDECINDR\n",
      "ADECINDR\n",
      "PONDII\n",
      "V2_M\n",
      "V3_M\n",
      "V4_M\n",
      "V5_M\n",
      "V8_M\n",
      "V9_M\n",
      "V10_M\n",
      "V11_M\n",
      "V12_M\n",
      "V18_M\n",
      "V19_AM\n",
      "V21_M\n",
      "T_VI\n",
      "ITF_indv\n",
      "DECIFR_indv\n",
      "RDECIFR_indv\n",
      "GDECIFR_indv\n",
      "ADECIFR_indv\n",
      "IPCF_indv\n",
      "DECCFR_indv\n",
      "RDECCFR_indv\n",
      "GDECCFR_indv\n",
      "ADECCFR_indv\n",
      "PONDIH_indv\n",
      "ANO4_hogar\n",
      "TRIMESTRE_hogar\n",
      "REALIZADA\n",
      "REGION_hogar\n",
      "MAS_500_hogar\n",
      "AGLOMERADO_hogar\n",
      "PONDERA_hogar\n",
      "IV1\n",
      "IV2\n",
      "IV3\n",
      "IV4\n",
      "IV5\n",
      "IV6\n",
      "IV7\n",
      "IV8\n",
      "IV9\n",
      "IV10\n",
      "IV11\n",
      "IV12_1\n",
      "IV12_2\n",
      "IV12_3\n",
      "II1\n",
      "II2\n",
      "II3\n",
      "II3_1\n",
      "II4_1\n",
      "II4_2\n",
      "II4_3\n",
      "II5\n",
      "II5_1\n",
      "II6\n",
      "II6_1\n",
      "II7\n",
      "II8\n",
      "II9\n",
      "V1\n",
      "V2\n",
      "V21\n",
      "V22\n",
      "V3\n",
      "V4\n",
      "V5\n",
      "V6\n",
      "V7\n",
      "V8\n",
      "V9\n",
      "V10\n",
      "V11\n",
      "V12\n",
      "V13\n",
      "V14\n",
      "V15\n",
      "V16\n",
      "V17\n",
      "V18\n",
      "V19_A\n",
      "V19_B\n",
      "IX_TOT\n",
      "IX_MEN10\n",
      "IX_MAYEQ10\n",
      "ITF_hogar\n",
      "DECIFR_hogar\n",
      "RDECIFR_hogar\n",
      "GDECIFR_hogar\n",
      "ADECIFR_hogar\n",
      "IPCF_hogar\n",
      "DECCFR_hogar\n",
      "RDECCFR_hogar\n",
      "GDECCFR_hogar\n",
      "ADECCFR_hogar\n",
      "PONDIH_hogar\n",
      "VII1_1\n",
      "VII1_2\n",
      "VII2_1\n",
      "VII2_2\n",
      "VII2_3\n",
      "VII2_4\n",
      "adulto_equiv\n",
      "ad_equiv_hogar\n"
     ]
    }
   ],
   "source": [
    "variables = respondieron.columns\n",
    "for variable in variables:\n",
    "   print(variable)"
   ]
  },
  {
   "cell_type": "code",
   "execution_count": 176,
   "id": "8fe00d55",
   "metadata": {},
   "outputs": [
    {
     "ename": "KeyError",
     "evalue": "'ingreso_necesario'",
     "output_type": "error",
     "traceback": [
      "\u001b[1;31m---------------------------------------------------------------------------\u001b[0m",
      "\u001b[1;31mKeyError\u001b[0m                                  Traceback (most recent call last)",
      "\u001b[1;32m~\\anaconda3\\lib\\site-packages\\pandas\\core\\indexes\\base.py\u001b[0m in \u001b[0;36mget_loc\u001b[1;34m(self, key, method, tolerance)\u001b[0m\n\u001b[0;32m   3079\u001b[0m             \u001b[1;32mtry\u001b[0m\u001b[1;33m:\u001b[0m\u001b[1;33m\u001b[0m\u001b[1;33m\u001b[0m\u001b[0m\n\u001b[1;32m-> 3080\u001b[1;33m                 \u001b[1;32mreturn\u001b[0m \u001b[0mself\u001b[0m\u001b[1;33m.\u001b[0m\u001b[0m_engine\u001b[0m\u001b[1;33m.\u001b[0m\u001b[0mget_loc\u001b[0m\u001b[1;33m(\u001b[0m\u001b[0mcasted_key\u001b[0m\u001b[1;33m)\u001b[0m\u001b[1;33m\u001b[0m\u001b[1;33m\u001b[0m\u001b[0m\n\u001b[0m\u001b[0;32m   3081\u001b[0m             \u001b[1;32mexcept\u001b[0m \u001b[0mKeyError\u001b[0m \u001b[1;32mas\u001b[0m \u001b[0merr\u001b[0m\u001b[1;33m:\u001b[0m\u001b[1;33m\u001b[0m\u001b[1;33m\u001b[0m\u001b[0m\n",
      "\u001b[1;32mpandas\\_libs\\index.pyx\u001b[0m in \u001b[0;36mpandas._libs.index.IndexEngine.get_loc\u001b[1;34m()\u001b[0m\n",
      "\u001b[1;32mpandas\\_libs\\index.pyx\u001b[0m in \u001b[0;36mpandas._libs.index.IndexEngine.get_loc\u001b[1;34m()\u001b[0m\n",
      "\u001b[1;32mpandas\\_libs\\hashtable_class_helper.pxi\u001b[0m in \u001b[0;36mpandas._libs.hashtable.PyObjectHashTable.get_item\u001b[1;34m()\u001b[0m\n",
      "\u001b[1;32mpandas\\_libs\\hashtable_class_helper.pxi\u001b[0m in \u001b[0;36mpandas._libs.hashtable.PyObjectHashTable.get_item\u001b[1;34m()\u001b[0m\n",
      "\u001b[1;31mKeyError\u001b[0m: 'ingreso_necesario'",
      "\nThe above exception was the direct cause of the following exception:\n",
      "\u001b[1;31mKeyError\u001b[0m                                  Traceback (most recent call last)",
      "\u001b[1;32m<ipython-input-176-57683dd6b88b>\u001b[0m in \u001b[0;36m<module>\u001b[1;34m\u001b[0m\n\u001b[0;32m     24\u001b[0m \u001b[1;31m# Ingresos de la ocupación principal\u001b[0m\u001b[1;33m\u001b[0m\u001b[1;33m\u001b[0m\u001b[1;33m\u001b[0m\u001b[0m\n\u001b[0;32m     25\u001b[0m \u001b[0mstart\u001b[0m \u001b[1;33m=\u001b[0m \u001b[0mrespondieron\u001b[0m\u001b[1;33m.\u001b[0m\u001b[0mcolumns\u001b[0m\u001b[1;33m.\u001b[0m\u001b[0mget_loc\u001b[0m\u001b[1;33m(\u001b[0m\u001b[1;34m'adulto_equiv'\u001b[0m\u001b[1;33m)\u001b[0m\u001b[1;33m\u001b[0m\u001b[1;33m\u001b[0m\u001b[0m\n\u001b[1;32m---> 26\u001b[1;33m \u001b[0mend\u001b[0m \u001b[1;33m=\u001b[0m \u001b[0mrespondieron\u001b[0m\u001b[1;33m.\u001b[0m\u001b[0mcolumns\u001b[0m\u001b[1;33m.\u001b[0m\u001b[0mget_loc\u001b[0m\u001b[1;33m(\u001b[0m\u001b[1;34m'ingreso_necesario'\u001b[0m\u001b[1;33m)\u001b[0m\u001b[1;33m\u001b[0m\u001b[1;33m\u001b[0m\u001b[0m\n\u001b[0m\u001b[0;32m     27\u001b[0m \u001b[1;33m\u001b[0m\u001b[0m\n\u001b[0;32m     28\u001b[0m \u001b[0mcolumns_to_drop\u001b[0m \u001b[1;33m=\u001b[0m \u001b[0mrespondieron\u001b[0m\u001b[1;33m.\u001b[0m\u001b[0mcolumns\u001b[0m\u001b[1;33m[\u001b[0m\u001b[0mstart\u001b[0m\u001b[1;33m:\u001b[0m\u001b[0mend\u001b[0m\u001b[1;33m+\u001b[0m\u001b[1;36m1\u001b[0m\u001b[1;33m]\u001b[0m\u001b[1;33m\u001b[0m\u001b[1;33m\u001b[0m\u001b[0m\n",
      "\u001b[1;32m~\\anaconda3\\lib\\site-packages\\pandas\\core\\indexes\\base.py\u001b[0m in \u001b[0;36mget_loc\u001b[1;34m(self, key, method, tolerance)\u001b[0m\n\u001b[0;32m   3080\u001b[0m                 \u001b[1;32mreturn\u001b[0m \u001b[0mself\u001b[0m\u001b[1;33m.\u001b[0m\u001b[0m_engine\u001b[0m\u001b[1;33m.\u001b[0m\u001b[0mget_loc\u001b[0m\u001b[1;33m(\u001b[0m\u001b[0mcasted_key\u001b[0m\u001b[1;33m)\u001b[0m\u001b[1;33m\u001b[0m\u001b[1;33m\u001b[0m\u001b[0m\n\u001b[0;32m   3081\u001b[0m             \u001b[1;32mexcept\u001b[0m \u001b[0mKeyError\u001b[0m \u001b[1;32mas\u001b[0m \u001b[0merr\u001b[0m\u001b[1;33m:\u001b[0m\u001b[1;33m\u001b[0m\u001b[1;33m\u001b[0m\u001b[0m\n\u001b[1;32m-> 3082\u001b[1;33m                 \u001b[1;32mraise\u001b[0m \u001b[0mKeyError\u001b[0m\u001b[1;33m(\u001b[0m\u001b[0mkey\u001b[0m\u001b[1;33m)\u001b[0m \u001b[1;32mfrom\u001b[0m \u001b[0merr\u001b[0m\u001b[1;33m\u001b[0m\u001b[1;33m\u001b[0m\u001b[0m\n\u001b[0m\u001b[0;32m   3083\u001b[0m \u001b[1;33m\u001b[0m\u001b[0m\n\u001b[0;32m   3084\u001b[0m         \u001b[1;32mif\u001b[0m \u001b[0mtolerance\u001b[0m \u001b[1;32mis\u001b[0m \u001b[1;32mnot\u001b[0m \u001b[1;32mNone\u001b[0m\u001b[1;33m:\u001b[0m\u001b[1;33m\u001b[0m\u001b[1;33m\u001b[0m\u001b[0m\n",
      "\u001b[1;31mKeyError\u001b[0m: 'ingreso_necesario'"
     ]
    }
   ],
   "source": [
    "# Eliminar columnas específicas\n",
    "respondieron = respondieron.drop(columns=['CODUSU','ANO4_indv','TRIMESTRE_indv','REGION_indv', 'MAS_500_indv','ANO4_hogar','TRIMESTRE_hogar','REGION_hogar', 'MAS_500_hogar', 'CH05','CH14'])\n",
    "\n",
    "# Eliminar un rango de columnas: ingresos de la ocupación principal de los asalariados\n",
    "respondieron = respondieron.drop(columns=[col for col in respondieron.columns if col.startswith('PP08')])\n",
    "\n",
    "# Eliminar un rango de columnas: Ingresos de la ocupación principal de los trabajadores independientes\n",
    "respondieron = respondieron.drop(columns=[col for col in respondieron.columns if col.startswith('PP06')])\n",
    "\n",
    "# Ingresos de la ocupación principal\n",
    "start = respondieron.columns.get_loc('PP03C')\n",
    "end = respondieron.columns.get_loc('PONDIH_indv')\n",
    "\n",
    "columns_to_drop = respondieron.columns[start:end+1]\n",
    "respondieron = respondieron.drop(columns=columns_to_drop)\n",
    "\n",
    "# Ingresos de la ocupación principal\n",
    "start = respondieron.columns.get_loc('ITF_hogar')\n",
    "end = respondieron.columns.get_loc('PONDIH_hogar')\n",
    "\n",
    "columns_to_drop = respondieron.columns[start:end+1]\n",
    "respondieron = respondieron.drop(columns=columns_to_drop)\n",
    "\n",
    "# Ingresos de la ocupación principal\n",
    "start = respondieron.columns.get_loc('adulto_equiv')\n",
    "end = respondieron.columns.get_loc('ingreso_necesario')\n",
    "\n",
    "columns_to_drop = respondieron.columns[start:end+1]\n",
    "respondieron = respondieron.drop(columns=columns_to_drop)"
   ]
  },
  {
   "cell_type": "code",
   "execution_count": 155,
   "id": "0c210db7",
   "metadata": {},
   "outputs": [],
   "source": [
    "# Eliminar columnas específicas\n",
    "norespondieron = norespondieron.drop(columns=['CODUSU','ANO4_indv','TRIMESTRE_indv','REGION_indv', 'MAS_500_indv','ANO4_hogar','TRIMESTRE_hogar','REGION_hogar', 'MAS_500_hogar', 'CH05','CH14'])\n",
    "\n",
    "# Eliminar un rango de columnas: ingresos de la ocupación principal de los asalariados\n",
    "norespondieron = norespondieron.drop(columns=[col for col in norespondieron.columns if col.startswith('PP08')])\n",
    "\n",
    "# Eliminar un rango de columnas: Ingresos de la ocupación principal de los trabajadores independientes\n",
    "norespondieron = norespondieron.drop(columns=[col for col in norespondieron.columns if col.startswith('PP06')])\n",
    "\n",
    "# Ingresos de la ocupación principal\n",
    "start = norespondieron.columns.get_loc('P21')\n",
    "end = norespondieron.columns.get_loc('PONDIH_indv')\n",
    "\n",
    "columns_to_drop = norespondieron.columns[start:end+1]\n",
    "norespondieron = norespondieron.drop(columns=columns_to_drop)\n",
    "\n",
    "# Ingresos de la ocupación principal\n",
    "start = norespondieron.columns.get_loc('ITF_hogar')\n",
    "end = norespondieron.columns.get_loc('PONDIH_hogar')\n",
    "\n",
    "columns_to_drop = norespondieron.columns[start:end+1]\n",
    "norespondieron = norespondieron.drop(columns=columns_to_drop)\n",
    "\n",
    "# Ingresos de la ocupación principal\n",
    "start = norespondieron.columns.get_loc('adulto_equiv')\n",
    "end = norespondieron.columns.get_loc('ad_equiv_hogar')\n",
    "\n",
    "columns_to_drop = norespondieron.columns[start:end+1]\n",
    "norespondieron = norespondieron.drop(columns=columns_to_drop)"
   ]
  },
  {
   "cell_type": "code",
   "execution_count": null,
   "id": "ff37cff4",
   "metadata": {},
   "outputs": [],
   "source": [
    "variables = respondieron.columns\n",
    "for variable in variables:\n",
    "   print(variable)"
   ]
  },
  {
   "cell_type": "code",
   "execution_count": 156,
   "id": "63e2bab7",
   "metadata": {},
   "outputs": [
    {
     "name": "stdout",
     "output_type": "stream",
     "text": [
      "['CH08']\n"
     ]
    }
   ],
   "source": [
    "# To check before running the models\n",
    "# Obtener el nombre de las columnas que tienen al menos un NaN\n",
    "columnas_con_nas = respondieron.columns[respondieron.isna().any()].tolist()\n",
    "\n",
    "# Imprimir las columnas\n",
    "print(columnas_con_nas)\n"
   ]
  },
  {
   "cell_type": "code",
   "execution_count": 157,
   "id": "49a1c715",
   "metadata": {},
   "outputs": [],
   "source": [
    "# Eliminar las observaciones con NaN en 'column_name' directamente en el DataFrame original\n",
    "respondieron.dropna(subset=['CH08'], inplace=True)\n"
   ]
  },
  {
   "cell_type": "code",
   "execution_count": 158,
   "id": "46e8a116",
   "metadata": {},
   "outputs": [],
   "source": [
    "# Definimos la matriz de Xs \n",
    "X = respondieron.drop(['pobre'], axis=1)\n",
    "y = respondieron.pobre"
   ]
  },
  {
   "cell_type": "markdown",
   "id": "7384fff4",
   "metadata": {},
   "source": [
    "## Ejercicio 2"
   ]
  },
  {
   "cell_type": "code",
   "execution_count": 161,
   "id": "89b80265",
   "metadata": {},
   "outputs": [
    {
     "name": "stdout",
     "output_type": "stream",
     "text": [
      "AUC: 0.7819\n",
      "Confusion Matrix:\n",
      "[[269  68]\n",
      " [ 68 222]]\n",
      "Accuracy Score: 0.7830940988835726\n",
      "AUC: 0.7883\n",
      "Confusion Matrix:\n",
      "[[264  64]\n",
      " [ 68 230]]\n",
      "Accuracy Score: 0.7891373801916933\n",
      "AUC: 0.7808\n",
      "Confusion Matrix:\n",
      "[[261  54]\n",
      " [ 83 228]]\n",
      "Accuracy Score: 0.7811501597444089\n",
      "AUC: 0.7839\n",
      "Confusion Matrix:\n",
      "[[281  59]\n",
      " [ 74 212]]\n",
      "Accuracy Score: 0.7875399361022364\n",
      "AUC: 0.7846\n",
      "Confusion Matrix:\n",
      "[[280  45]\n",
      " [ 88 213]]\n",
      "Accuracy Score: 0.7875399361022364\n",
      "AUC: 0.7790\n",
      "Confusion Matrix:\n",
      "[[255  54]\n",
      " [ 85 233]]\n",
      "Accuracy Score: 0.7783094098883573\n",
      "AUC: 0.7881\n",
      "Confusion Matrix:\n",
      "[[285  56]\n",
      " [ 74 211]]\n",
      "Accuracy Score: 0.792332268370607\n",
      "AUC: 0.7744\n",
      "Confusion Matrix:\n",
      "[[254  64]\n",
      " [ 77 231]]\n",
      "Accuracy Score: 0.7747603833865815\n",
      "AUC: 0.7846\n",
      "Confusion Matrix:\n",
      "[[269  75]\n",
      " [ 60 222]]\n",
      "Accuracy Score: 0.7843450479233227\n",
      "AUC: 0.7781\n",
      "Confusion Matrix:\n",
      "[[275  58]\n",
      " [ 79 214]]\n",
      "Accuracy Score: 0.7811501597444089\n",
      "AUC: 0.7802\n",
      "Confusion Matrix:\n",
      "[[265  61]\n",
      " [ 76 225]]\n",
      "Accuracy Score: 0.7814992025518341\n",
      "AUC: 0.7881\n",
      "Confusion Matrix:\n",
      "[[291  49]\n",
      " [ 80 206]]\n",
      "Accuracy Score: 0.7939297124600639\n",
      "AUC: 0.7678\n",
      "Confusion Matrix:\n",
      "[[257  60]\n",
      " [ 85 224]]\n",
      "Accuracy Score: 0.768370607028754\n",
      "AUC: 0.7993\n",
      "Confusion Matrix:\n",
      "[[272  47]\n",
      " [ 78 229]]\n",
      "Accuracy Score: 0.8003194888178914\n",
      "AUC: 0.7730\n",
      "Confusion Matrix:\n",
      "[[277  66]\n",
      " [ 74 209]]\n",
      "Accuracy Score: 0.7763578274760383\n",
      "AUC: 0.7835\n",
      "Confusion Matrix:\n",
      "[[287  42]\n",
      " [ 91 207]]\n",
      "Accuracy Score: 0.7878787878787878\n",
      "AUC: 0.7827\n",
      "Confusion Matrix:\n",
      "[[254  70]\n",
      " [ 66 236]]\n",
      "Accuracy Score: 0.7827476038338658\n",
      "AUC: 0.7689\n",
      "Confusion Matrix:\n",
      "[[259  68]\n",
      " [ 76 223]]\n",
      "Accuracy Score: 0.7699680511182109\n",
      "AUC: 0.7828\n",
      "Confusion Matrix:\n",
      "[[277  54]\n",
      " [ 80 215]]\n",
      "Accuracy Score: 0.7859424920127795\n",
      "AUC: 0.7745\n",
      "Confusion Matrix:\n",
      "[[268  66]\n",
      " [ 74 218]]\n",
      "Accuracy Score: 0.7763578274760383\n",
      "AUC: 0.7579\n",
      "Confusion Matrix:\n",
      "[[258  67]\n",
      " [ 84 218]]\n",
      "Accuracy Score: 0.759170653907496\n",
      "AUC: 0.7798\n",
      "Confusion Matrix:\n",
      "[[271  70]\n",
      " [ 67 218]]\n",
      "Accuracy Score: 0.7811501597444089\n",
      "AUC: 0.8030\n",
      "Confusion Matrix:\n",
      "[[278  48]\n",
      " [ 74 226]]\n",
      "Accuracy Score: 0.805111821086262\n",
      "AUC: 0.7744\n",
      "Confusion Matrix:\n",
      "[[275  72]\n",
      " [ 68 211]]\n",
      "Accuracy Score: 0.7763578274760383\n",
      "AUC: 0.7621\n",
      "Confusion Matrix:\n",
      "[[257  49]\n",
      " [101 219]]\n",
      "Accuracy Score: 0.7603833865814696\n",
      "AUC: 0.7479\n",
      "Confusion Matrix:\n",
      "[[274  65]\n",
      " [ 90 198]]\n",
      "Accuracy Score: 0.7527910685805422\n",
      "AUC: 0.7362\n",
      "Confusion Matrix:\n",
      "[[254  72]\n",
      " [ 92 208]]\n",
      "Accuracy Score: 0.7380191693290735\n",
      "AUC: 0.7377\n",
      "Confusion Matrix:\n",
      "[[263  57]\n",
      " [106 200]]\n",
      "Accuracy Score: 0.7396166134185304\n",
      "AUC: 0.7765\n",
      "Confusion Matrix:\n",
      "[[270  50]\n",
      " [ 89 217]]\n",
      "Accuracy Score: 0.7779552715654952\n",
      "AUC: 0.7704\n",
      "Confusion Matrix:\n",
      "[[273  67]\n",
      " [ 75 211]]\n",
      "Accuracy Score: 0.7731629392971247\n",
      "AUC: 0.6789\n",
      "Confusion Matrix:\n",
      "[[110  15]\n",
      " [ 47  43]]\n",
      "Accuracy Score: 0.7116279069767442\n"
     ]
    },
    {
     "data": {
      "image/png": "[encoded data removed]",
      "text/plain": [
       "<Figure size 432x288 with 1 Axes>"
      ]
     },
     "metadata": {
      "needs_background": "light"
     },
     "output_type": "display_data"
    },
    {
     "name": "stdout",
     "output_type": "stream",
     "text": [
      "AUC: 0.6860\n",
      "Confusion Matrix:\n",
      "[[109  16]\n",
      " [ 45  45]]\n",
      "Accuracy Score: 0.7162790697674418\n"
     ]
    },
    {
     "data": {
      "image/png": "[encoded data removed]",
      "text/plain": [
       "<Figure size 432x288 with 1 Axes>"
      ]
     },
     "metadata": {
      "needs_background": "light"
     },
     "output_type": "display_data"
    },
    {
     "name": "stdout",
     "output_type": "stream",
     "text": [
      "AUC: 0.5978\n",
      "Confusion Matrix:\n",
      "[[105  20]\n",
      " [ 58  32]]\n",
      "Accuracy Score: 0.6372093023255814\n"
     ]
    },
    {
     "data": {
      "image/png": "[encoded data removed]",
      "text/plain": [
       "<Figure size 432x288 with 1 Axes>"
      ]
     },
     "metadata": {
      "needs_background": "light"
     },
     "output_type": "display_data"
    },
    {
     "name": "stdout",
     "output_type": "stream",
     "text": [
      "        AUC       Confusion Matrix  Accuracy Score       ECM  \\\n",
      "0  0.678889  [[110, 15], [47, 43]]        0.711628  0.288372   \n",
      "1  0.686000  [[109, 16], [45, 45]]        0.716279  0.283721   \n",
      "2  0.597778  [[105, 20], [58, 32]]        0.637209  0.362791   \n",
      "\n",
      "                             Modelo           Hiperparámetros  \n",
      "0               Regresión Logística  {'lambdas': [1, 10, 50]}  \n",
      "1  Análisis de Discriminante Lineal        {'solver': 'lsqr'}  \n",
      "2                               KNN        {'n_neighbors': 5}  \n"
     ]
    }
   ],
   "source": [
    "#Corran la funcion evalua multiples metodos (de la Parte 2) con la base respondieron, con \n",
    "# al menos un hiperparámetro para regularizar y al menos un valor de \\lambda. \n",
    "\n",
    "\n",
    "from sklearn.linear_model import LogisticRegression\n",
    "from sklearn.discriminant_analysis import LinearDiscriminantAnalysis\n",
    "from sklearn.neighbors import KNeighborsClassifier\n",
    "\n",
    "# Definir los hiperparámetros para cada método\n",
    "hiperparametros_rl = {\n",
    "    'lambdas': [ 1, 10, 50],\n",
    "}\n",
    "\n",
    "hiperparametros_lda = {\n",
    "    'solver': 'lsqr',\n",
    "}\n",
    "\n",
    "hiperparametros_knn = {\n",
    "    'n_neighbors': 5,\n",
    "}\n",
    "\n",
    "# Lista de métodos y sus hiperparámetros\n",
    "metodos = [\n",
    "    {\n",
    "        'nombre': 'Regresión Logística',\n",
    "        'hiperparametros': hiperparametros_rl,\n",
    "    },\n",
    "    {\n",
    "        'nombre': 'Análisis de Discriminante Lineal',\n",
    "        'hiperparametros': hiperparametros_lda,\n",
    "    },\n",
    "    {\n",
    "        'nombre': 'KNN',\n",
    "        'hiperparametros': hiperparametros_knn,\n",
    "    },\n",
    "]\n",
    "\n",
    "\n",
    "\n",
    "\n",
    "\n",
    "\n",
    "# Ahora llamamos a la función\n",
    "resultados_df=evalua_multiples_metodos(X, y, metodos)\n",
    "# Ver los resultados\n",
    "\n"
   ]
  },
  {
   "cell_type": "code",
   "execution_count": 162,
   "id": "b182e04e",
   "metadata": {},
   "outputs": [
    {
     "name": "stdout",
     "output_type": "stream",
     "text": [
      "        AUC       Confusion Matrix  Accuracy Score       ECM  \\\n",
      "0  0.678889  [[110, 15], [47, 43]]        0.711628  0.288372   \n",
      "1  0.686000  [[109, 16], [45, 45]]        0.716279  0.283721   \n",
      "2  0.597778  [[105, 20], [58, 32]]        0.637209  0.362791   \n",
      "\n",
      "                             Modelo           Hiperparámetros  \n",
      "0               Regresión Logística  {'lambdas': [1, 10, 50]}  \n",
      "1  Análisis de Discriminante Lineal        {'solver': 'lsqr'}  \n",
      "2                               KNN        {'n_neighbors': 5}  \n"
     ]
    }
   ],
   "source": [
    "print(resultados_df)\n"
   ]
  },
  {
   "cell_type": "markdown",
   "id": "ca6b1c74",
   "metadata": {},
   "source": [
    "## Ejercicio 3"
   ]
  },
  {
   "cell_type": "markdown",
   "id": "6c6866f0",
   "metadata": {},
   "source": [
    "#### En el ejercicio de regularización, lambda actúa de manera similar tanto en regresión lineal como en regresión logística y clasificación. Lo que hace lambda es penalizar la minimización de la función de costo. La idea detrás de esto es reducir el overfitting: se establece un trade-off entre sesgar ligeramente nuestra estimación original en el conjunto de entrenamiento y reducir la varianza una vez que se aplica el modelo en el conjunto de prueba.Ahora bien, considerando que un valor alto de lambda hace que el modelo sea menos sensible a las variaciones en las variables explicativas, mientras que un valor bajo de lambda se acerca más a un modelo sin regularización, surge la pregunta de cómo elegir el valor adecuado de lambda. La mejor manera de abordar esta elección es mediante la validación cruzada, que implica probar distintos valores de lambda en un conjunto de entrenamiento y validación, eligiendo aquel que minimice la varianza en este último conjunto antes de evaluar el rendimiento en el conjunto de prueba.Es importante destacar que no se debe utilizar el conjunto de prueba para seleccionar el valor de lambda, ya que esto introduciría sesgo en la evaluación del rendimiento del modelo. Ajustar hiperparámetros en el conjunto de prueba haría que el modelo parezca funcionar mejor en datos no vistos de lo que sería en la práctica. En cambio, la validación cruzada nos permite evaluar diferentes valores de lambda en el conjunto de entrenamiento y validación sin involucrar el conjunto de prueba. Esto garantiza una estimación más realista del rendimiento del modelo en datos no vistos, ya que el conjunto de prueba se mantiene aislado y no se utiliza en la selección de hiperparámetros."
   ]
  },
  {
   "cell_type": "markdown",
   "id": "fe00351a",
   "metadata": {},
   "source": [
    "## Ejercicio 4"
   ]
  },
  {
   "cell_type": "markdown",
   "id": "4ddcec98",
   "metadata": {},
   "source": [
    "##### El método de K-fold cross-validation se utiliza para evaluar el rendimiento de modelos en machine learning dividiendo el conjunto de datos en K partes y probando iterativamente con una de ellas como conjunto de test y las demás como conjunto de entrenamiento.\n",
    "\n",
    "##### Problema de usar un K muy pequeño: La evaluación puede ser sensible a la partición específica de los datos, lo que podría llevar a sobreajustar el modelo a ciertas peculiaridades y no generalizar bien a otros datos no vistos. \n",
    "\n",
    "##### Problema de usar un K muy grande (p. ej., K=n, LOOCV): En el extremo, esto implica una validación cruzada \"leave-one-out,\" donde se deja una sola muestra como conjunto de test en cada iteración. Aunque proporciona estimaciones de rendimiento más estables, puede ser costoso en términos computacionales, especialmente en conjuntos de datos grandes.\n",
    "\n",
    "##### Cuando K=n (LOOCV), se estima el modelo n veces, una vez por cada muestra en el conjunto de datos, entrenando en todas las muestras excepto una en cada iteración, y dejando la observación individual como testeo. Esto proporciona una estimación precisa del rendimiento, pero puede ser computacionalmente costoso y propenso a alta varianza en los resultados de los modelos. La alta variabilidad en las estimaciones de rendimiento significa que los resultados de cada iteración de LOOCV pueden diferir considerablemente entre sí. Esto puede hacer que sea más difícil confiar en las estimaciones de rendimiento y comparar diferentes configuraciones de modelos o hiperparámetros."
   ]
  },
  {
   "cell_type": "markdown",
   "id": "c50682c7",
   "metadata": {},
   "source": [
    "## Ejercicio 5"
   ]
  },
  {
   "cell_type": "markdown",
   "id": "4b719696",
   "metadata": {},
   "source": [
    "#### Realicen un barrido en λ = 10^n con n ∈ {−5, −4, −3 . . . , +4, +5} y utilicen 10 fold CV para elegir el λ optimo en regresion logistica con Ridge y con LASSO.\n",
    "#### ¿Qué λ seleccionó en cada caso? Generen box-plots mostrando la distribución del error de predicci´on para cada λ. Cada box debe corresponder a un valor de λ y contener como observaciones el error medio de validaci´on para cada partici´on.\n",
    "#### Ademas, para la regularizacion LASSO, genere un box-plot similar, pero ahora graficando la proporci´on de variables ignoradas por el modelo en funci´on de λ, es decir la proporcion de variables para las cuales el coeficiente asociado es cero.\n"
   ]
  },
  {
   "cell_type": "code",
   "execution_count": 163,
   "id": "2e3a96a3",
   "metadata": {},
   "outputs": [],
   "source": [
    "lambda_values = [10**i for i in range(-5, 6)]\n",
    "configuraciones_lasso = []\n",
    "configuraciones_ridge = []\n",
    "\n",
    "for l in lambda_values:\n",
    "    # Para Lasso\n",
    "    config_l = {'penalty': 'l1', 'C': 1/l, 'solver': 'saga'}\n",
    "    configuraciones_lasso.append(config_l)\n",
    "    \n",
    "    # Para Ridge\n",
    "    config_r = {'penalty': 'l2', 'C': 1/l}\n",
    "    configuraciones_ridge.append(config_r) "
   ]
  },
  {
   "cell_type": "code",
   "execution_count": 167,
   "id": "3574e088",
   "metadata": {},
   "outputs": [
    {
     "name": "stdout",
     "output_type": "stream",
     "text": [
      "AUC: 0.7890\n",
      "Confusion Matrix:\n",
      "[[260  64]\n",
      " [ 68 235]]\n",
      "Accuracy Score: 0.7894736842105263\n",
      "AUC: 0.7644\n",
      "Confusion Matrix:\n",
      "[[265  78]\n",
      " [ 69 214]]\n",
      "Accuracy Score: 0.7651757188498403\n",
      "AUC: 0.7779\n",
      "Confusion Matrix:\n",
      "[[276  56]\n",
      " [ 81 213]]\n",
      "Accuracy Score: 0.7811501597444089\n",
      "AUC: 0.7826\n",
      "Confusion Matrix:\n",
      "[[257  57]\n",
      " [ 79 233]]\n",
      "Accuracy Score: 0.7827476038338658\n",
      "AUC: 0.7762\n",
      "Confusion Matrix:\n",
      "[[285  47]\n",
      " [ 90 204]]\n",
      "Accuracy Score: 0.7811501597444089\n",
      "AUC: 0.7904\n",
      "Confusion Matrix:\n",
      "[[252  53]\n",
      " [ 79 243]]\n",
      "Accuracy Score: 0.7894736842105263\n",
      "AUC: 0.7656\n",
      "Confusion Matrix:\n",
      "[[259  64]\n",
      " [ 82 221]]\n",
      "Accuracy Score: 0.7667731629392971\n",
      "AUC: 0.7906\n",
      "Confusion Matrix:\n",
      "[[288  48]\n",
      " [ 80 210]]\n",
      "Accuracy Score: 0.7955271565495208\n",
      "AUC: 0.7915\n",
      "Confusion Matrix:\n",
      "[[289  61]\n",
      " [ 67 209]]\n",
      "Accuracy Score: 0.7955271565495208\n",
      "AUC: 0.7523\n",
      "Confusion Matrix:\n",
      "[[259  72]\n",
      " [ 82 213]]\n",
      "Accuracy Score: 0.7539936102236422\n",
      "AUC: 0.7427\n",
      "Confusion Matrix:\n",
      "[[259  76]\n",
      " [ 84 208]]\n",
      "Accuracy Score: 0.74481658692185\n",
      "AUC: 0.7864\n",
      "Confusion Matrix:\n",
      "[[267  64]\n",
      " [ 69 226]]\n",
      "Accuracy Score: 0.7875399361022364\n",
      "AUC: 0.7909\n",
      "Confusion Matrix:\n",
      "[[281  59]\n",
      " [ 70 216]]\n",
      "Accuracy Score: 0.7939297124600639\n",
      "AUC: 0.7798\n",
      "Confusion Matrix:\n",
      "[[275  57]\n",
      " [ 79 215]]\n",
      "Accuracy Score: 0.7827476038338658\n",
      "AUC: 0.7756\n",
      "Confusion Matrix:\n",
      "[[251  56]\n",
      " [ 85 234]]\n",
      "Accuracy Score: 0.7747603833865815\n",
      "AUC: 0.7993\n",
      "Confusion Matrix:\n",
      "[[282  51]\n",
      " [ 73 221]]\n",
      "Accuracy Score: 0.8022328548644339\n",
      "AUC: 0.7596\n",
      "Confusion Matrix:\n",
      "[[258  60]\n",
      " [ 90 218]]\n",
      "Accuracy Score: 0.7603833865814696\n",
      "AUC: 0.7882\n",
      "Confusion Matrix:\n",
      "[[276  52]\n",
      " [ 79 219]]\n",
      "Accuracy Score: 0.7907348242811502\n",
      "AUC: 0.7600\n",
      "Confusion Matrix:\n",
      "[[251  75]\n",
      " [ 75 225]]\n",
      "Accuracy Score: 0.7603833865814696\n",
      "AUC: 0.7765\n",
      "Confusion Matrix:\n",
      "[[276  64]\n",
      " [ 74 212]]\n",
      "Accuracy Score: 0.7795527156549521\n",
      "AUC: 0.7774\n",
      "Confusion Matrix:\n",
      "[[278  69]\n",
      " [ 69 211]]\n",
      "Accuracy Score: 0.7799043062200957\n",
      "AUC: 0.7674\n",
      "Confusion Matrix:\n",
      "[[258  65]\n",
      " [ 80 223]]\n",
      "Accuracy Score: 0.768370607028754\n",
      "AUC: 0.7717\n",
      "Confusion Matrix:\n",
      "[[273  61]\n",
      " [ 80 212]]\n",
      "Accuracy Score: 0.7747603833865815\n",
      "AUC: 0.8085\n",
      "Confusion Matrix:\n",
      "[[275  49]\n",
      " [ 70 232]]\n",
      "Accuracy Score: 0.8099041533546326\n",
      "AUC: 0.7597\n",
      "Confusion Matrix:\n",
      "[[257  60]\n",
      " [ 90 219]]\n",
      "Accuracy Score: 0.7603833865814696\n",
      "AUC: 0.8061\n",
      "Confusion Matrix:\n",
      "[[294  55]\n",
      " [ 64 214]]\n",
      "Accuracy Score: 0.810207336523126\n",
      "AUC: 0.7819\n",
      "Confusion Matrix:\n",
      "[[283  61]\n",
      " [ 73 209]]\n",
      "Accuracy Score: 0.7859424920127795\n",
      "AUC: 0.7593\n",
      "Confusion Matrix:\n",
      "[[243  65]\n",
      " [ 86 232]]\n",
      "Accuracy Score: 0.7587859424920128\n",
      "AUC: 0.7618\n",
      "Confusion Matrix:\n",
      "[[250  65]\n",
      " [ 84 227]]\n",
      "Accuracy Score: 0.7619808306709265\n",
      "AUC: 0.7556\n",
      "Confusion Matrix:\n",
      "[[269  60]\n",
      " [ 91 206]]\n",
      "Accuracy Score: 0.7587859424920128\n",
      "AUC: 0.7824\n",
      "Confusion Matrix:\n",
      "[[273  60]\n",
      " [ 75 219]]\n",
      "Accuracy Score: 0.784688995215311\n",
      "AUC: 0.7805\n",
      "Confusion Matrix:\n",
      "[[275  48]\n",
      " [ 88 215]]\n",
      "Accuracy Score: 0.7827476038338658\n",
      "AUC: 0.7752\n",
      "Confusion Matrix:\n",
      "[[263  68]\n",
      " [ 72 223]]\n",
      "Accuracy Score: 0.7763578274760383\n",
      "AUC: 0.7834\n",
      "Confusion Matrix:\n",
      "[[279  66]\n",
      " [ 68 213]]\n",
      "Accuracy Score: 0.7859424920127795\n",
      "AUC: 0.7843\n",
      "Confusion Matrix:\n",
      "[[256  57]\n",
      " [ 78 235]]\n",
      "Accuracy Score: 0.7843450479233227\n",
      "AUC: 0.7666\n",
      "Confusion Matrix:\n",
      "[[275  61]\n",
      " [ 83 208]]\n",
      "Accuracy Score: 0.7703349282296651\n",
      "AUC: 0.7428\n",
      "Confusion Matrix:\n",
      "[[278  60]\n",
      " [ 97 191]]\n",
      "Accuracy Score: 0.7492012779552716\n",
      "AUC: 0.7307\n",
      "Confusion Matrix:\n",
      "[[243  66]\n",
      " [103 214]]\n",
      "Accuracy Score: 0.7300319488817891\n",
      "AUC: 0.7666\n",
      "Confusion Matrix:\n",
      "[[275  52]\n",
      " [ 92 207]]\n",
      "Accuracy Score: 0.7699680511182109\n",
      "AUC: 0.7183\n",
      "Confusion Matrix:\n",
      "[[266  69]\n",
      " [104 187]]\n",
      "Accuracy Score: 0.7236421725239617\n",
      "AUC: 0.5000\n",
      "Confusion Matrix:\n",
      "[[353   0]\n",
      " [274   0]]\n",
      "Accuracy Score: 0.5629984051036683\n",
      "AUC: 0.5000\n",
      "Confusion Matrix:\n",
      "[[321   0]\n",
      " [305   0]]\n",
      "Accuracy Score: 0.512779552715655\n",
      "AUC: 0.5000\n",
      "Confusion Matrix:\n",
      "[[324   0]\n",
      " [302   0]]\n",
      "Accuracy Score: 0.5175718849840255\n",
      "AUC: 0.5000\n",
      "Confusion Matrix:\n",
      "[[317   0]\n",
      " [309   0]]\n",
      "Accuracy Score: 0.5063897763578274\n",
      "AUC: 0.5000\n",
      "Confusion Matrix:\n",
      "[[330   0]\n",
      " [296   0]]\n",
      "Accuracy Score: 0.5271565495207667\n",
      "AUC: 0.5000\n",
      "Confusion Matrix:\n",
      "[[325   0]\n",
      " [302   0]]\n",
      "Accuracy Score: 0.518341307814992\n",
      "AUC: 0.5000\n",
      "Confusion Matrix:\n",
      "[[311   0]\n",
      " [315   0]]\n",
      "Accuracy Score: 0.4968051118210863\n",
      "AUC: 0.5000\n",
      "Confusion Matrix:\n",
      "[[336   0]\n",
      " [290   0]]\n",
      "Accuracy Score: 0.536741214057508\n",
      "AUC: 0.5000\n",
      "Confusion Matrix:\n",
      "[[318   0]\n",
      " [308   0]]\n",
      "Accuracy Score: 0.5079872204472844\n",
      "AUC: 0.5000\n",
      "Confusion Matrix:\n",
      "[[355   0]\n",
      " [271   0]]\n",
      "Accuracy Score: 0.5670926517571885\n",
      "AUC: 0.5000\n",
      "Confusion Matrix:\n",
      "[[323   0]\n",
      " [304   0]]\n",
      "Accuracy Score: 0.5151515151515151\n",
      "AUC: 0.5000\n",
      "Confusion Matrix:\n",
      "[[341   0]\n",
      " [285   0]]\n",
      "Accuracy Score: 0.5447284345047924\n",
      "AUC: 0.5000\n",
      "Confusion Matrix:\n",
      "[[330   0]\n",
      " [296   0]]\n",
      "Accuracy Score: 0.5271565495207667\n",
      "AUC: 0.5000\n",
      "Confusion Matrix:\n",
      "[[329   0]\n",
      " [297   0]]\n",
      "Accuracy Score: 0.5255591054313099\n",
      "AUC: 0.5000\n",
      "Confusion Matrix:\n",
      "[[322   0]\n",
      " [304   0]]\n",
      "Accuracy Score: 0.5143769968051118\n",
      "AUC: 0.7570\n",
      "Confusion Matrix:\n",
      "[[251  71]\n",
      " [ 81 224]]\n",
      "Accuracy Score: 0.7575757575757576\n",
      "AUC: 0.7803\n",
      "Confusion Matrix:\n",
      "[[281  57]\n",
      " [ 78 210]]\n",
      "Accuracy Score: 0.7843450479233227\n",
      "AUC: 0.7893\n",
      "Confusion Matrix:\n",
      "[[280  47]\n",
      " [ 83 216]]\n",
      "Accuracy Score: 0.792332268370607\n",
      "AUC: 0.7633\n",
      "Confusion Matrix:\n",
      "[[264  69]\n",
      " [ 78 215]]\n",
      "Accuracy Score: 0.7651757188498403\n",
      "AUC: 0.7945\n",
      "Confusion Matrix:\n",
      "[[267  58]\n",
      " [ 70 231]]\n",
      "Accuracy Score: 0.7955271565495208\n",
      "AUC: 0.7754\n",
      "Confusion Matrix:\n",
      "[[274  62]\n",
      " [ 77 214]]\n",
      "Accuracy Score: 0.7783094098883573\n",
      "AUC: 0.7540\n",
      "Confusion Matrix:\n",
      "[[259  54]\n",
      " [100 213]]\n",
      "Accuracy Score: 0.7539936102236422\n",
      "AUC: 0.7587\n",
      "Confusion Matrix:\n",
      "[[265  76]\n",
      " [ 74 211]]\n",
      "Accuracy Score: 0.7603833865814696\n",
      "AUC: 0.7990\n",
      "Confusion Matrix:\n",
      "[[272  50]\n",
      " [ 75 229]]\n",
      "Accuracy Score: 0.8003194888178914\n",
      "AUC: 0.8030\n",
      "Confusion Matrix:\n",
      "[[270  63]\n",
      " [ 60 233]]\n",
      "Accuracy Score: 0.8035143769968051\n",
      "AUC: 0.7916\n",
      "Confusion Matrix:\n",
      "[[278  52]\n",
      " [ 77 220]]\n",
      "Accuracy Score: 0.7942583732057417\n",
      "AUC: 0.7569\n",
      "Confusion Matrix:\n",
      "[[270  64]\n",
      " [ 86 206]]\n",
      "Accuracy Score: 0.7603833865814696\n",
      "AUC: 0.7670\n",
      "Confusion Matrix:\n",
      "[[265  55]\n",
      " [ 90 216]]\n",
      "Accuracy Score: 0.768370607028754\n",
      "AUC: 0.7949\n",
      "Confusion Matrix:\n",
      "[[263  61]\n",
      " [ 67 235]]\n",
      "Accuracy Score: 0.7955271565495208\n",
      "AUC: 0.7797\n",
      "Confusion Matrix:\n",
      "[[276  61]\n",
      " [ 75 214]]\n",
      "Accuracy Score: 0.7827476038338658\n",
      "AUC: 0.7636\n",
      "Confusion Matrix:\n",
      "[[265  61]\n",
      " [ 86 215]]\n",
      "Accuracy Score: 0.7655502392344498\n",
      "AUC: 0.7722\n",
      "Confusion Matrix:\n",
      "[[271  57]\n",
      " [ 84 214]]\n",
      "Accuracy Score: 0.7747603833865815\n",
      "AUC: 0.7697\n",
      "Confusion Matrix:\n",
      "[[250  68]\n",
      " [ 76 232]]\n",
      "Accuracy Score: 0.7699680511182109\n",
      "AUC: 0.7818\n",
      "Confusion Matrix:\n",
      "[[289  56]\n",
      " [ 77 204]]\n",
      "Accuracy Score: 0.7875399361022364\n",
      "AUC: 0.7912\n",
      "Confusion Matrix:\n",
      "[[267  61]\n",
      " [ 69 229]]\n",
      "Accuracy Score: 0.792332268370607\n",
      "AUC: 0.7817\n",
      "Confusion Matrix:\n",
      "[[270  51]\n",
      " [ 85 221]]\n",
      "Accuracy Score: 0.7830940988835726\n",
      "AUC: 0.7694\n",
      "Confusion Matrix:\n",
      "[[254  69]\n",
      " [ 75 228]]\n",
      "Accuracy Score: 0.7699680511182109\n",
      "AUC: 0.7639\n",
      "Confusion Matrix:\n",
      "[[260  62]\n",
      " [ 85 219]]\n",
      "Accuracy Score: 0.7651757188498403\n",
      "AUC: 0.8089\n",
      "Confusion Matrix:\n",
      "[[289  58]\n",
      " [ 60 219]]\n",
      "Accuracy Score: 0.8115015974440895\n",
      "AUC: 0.7560\n",
      "Confusion Matrix:\n",
      "[[266  66]\n",
      " [ 85 209]]\n",
      "Accuracy Score: 0.7587859424920128\n",
      "AUC: 0.7865\n",
      "Confusion Matrix:\n",
      "[[268  57]\n",
      " [ 76 226]]\n",
      "Accuracy Score: 0.7878787878787878\n",
      "AUC: 0.7647\n",
      "Confusion Matrix:\n",
      "[[281  61]\n",
      " [ 83 201]]\n",
      "Accuracy Score: 0.7699680511182109\n",
      "AUC: 0.7980\n",
      "Confusion Matrix:\n",
      "[[268  62]\n",
      " [ 64 232]]\n",
      "Accuracy Score: 0.7987220447284346\n",
      "AUC: 0.7765\n",
      "Confusion Matrix:\n",
      "[[253  59]\n",
      " [ 81 233]]\n",
      "Accuracy Score: 0.7763578274760383\n",
      "AUC: 0.7792\n",
      "Confusion Matrix:\n",
      "[[278  58]\n",
      " [ 78 212]]\n",
      "Accuracy Score: 0.7827476038338658\n",
      "AUC: 0.7938\n",
      "Confusion Matrix:\n",
      "[[257  49]\n",
      " [ 81 240]]\n",
      "Accuracy Score: 0.7926634768740032\n",
      "AUC: 0.7844\n",
      "Confusion Matrix:\n",
      "[[278  51]\n",
      " [ 82 215]]\n",
      "Accuracy Score: 0.7875399361022364\n",
      "AUC: 0.7700\n",
      "Confusion Matrix:\n",
      "[[263  63]\n",
      " [ 80 220]]\n",
      "Accuracy Score: 0.7715654952076677\n",
      "AUC: 0.7886\n",
      "Confusion Matrix:\n",
      "[[269  69]\n",
      " [ 63 225]]\n",
      "Accuracy Score: 0.7891373801916933\n",
      "AUC: 0.7473\n",
      "Confusion Matrix:\n",
      "[[270  76]\n",
      " [ 80 200]]\n",
      "Accuracy Score: 0.7507987220447284\n",
      "AUC: 0.7675\n",
      "Confusion Matrix:\n",
      "[[261  68]\n",
      " [ 77 221]]\n",
      "Accuracy Score: 0.7687400318979266\n",
      "AUC: 0.7886\n",
      "Confusion Matrix:\n",
      "[[276  47]\n",
      " [ 84 219]]\n",
      "Accuracy Score: 0.7907348242811502\n",
      "AUC: 0.7693\n",
      "Confusion Matrix:\n",
      "[[277  64]\n",
      " [ 78 207]]\n",
      "Accuracy Score: 0.7731629392971247\n",
      "AUC: 0.8022\n",
      "Confusion Matrix:\n",
      "[[272  54]\n",
      " [ 69 231]]\n",
      "Accuracy Score: 0.8035143769968051\n"
     ]
    },
    {
     "name": "stdout",
     "output_type": "stream",
     "text": [
      "AUC: 0.7663\n",
      "Confusion Matrix:\n",
      "[[266  60]\n",
      " [ 85 215]]\n",
      "Accuracy Score: 0.768370607028754\n",
      "AUC: 0.7679\n",
      "Confusion Matrix:\n",
      "[[274  49]\n",
      " [ 95 209]]\n",
      "Accuracy Score: 0.7703349282296651\n",
      "AUC: 0.7411\n",
      "Confusion Matrix:\n",
      "[[281  76]\n",
      " [ 82 187]]\n",
      "Accuracy Score: 0.7476038338658147\n",
      "AUC: 0.7591\n",
      "Confusion Matrix:\n",
      "[[261  59]\n",
      " [ 91 215]]\n",
      "Accuracy Score: 0.7603833865814696\n",
      "AUC: 0.7571\n",
      "Confusion Matrix:\n",
      "[[246  68]\n",
      " [ 84 228]]\n",
      "Accuracy Score: 0.7571884984025559\n",
      "AUC: 0.7538\n",
      "Confusion Matrix:\n",
      "[[260  71]\n",
      " [ 82 213]]\n",
      "Accuracy Score: 0.755591054313099\n",
      "AUC: 0.7368\n",
      "Confusion Matrix:\n",
      "[[236  79]\n",
      " [ 86 226]]\n",
      "Accuracy Score: 0.7368421052631579\n",
      "AUC: 0.7193\n",
      "Confusion Matrix:\n",
      "[[245  77]\n",
      " [ 98 206]]\n",
      "Accuracy Score: 0.7204472843450479\n",
      "AUC: 0.7101\n",
      "Confusion Matrix:\n",
      "[[249  84]\n",
      " [ 96 197]]\n",
      "Accuracy Score: 0.7124600638977636\n",
      "AUC: 0.7280\n",
      "Confusion Matrix:\n",
      "[[262  79]\n",
      " [ 89 196]]\n",
      "Accuracy Score: 0.731629392971246\n",
      "AUC: 0.7356\n",
      "Confusion Matrix:\n",
      "[[250  84]\n",
      " [ 81 211]]\n",
      "Accuracy Score: 0.7364217252396166\n",
      "AUC: 0.7351\n",
      "Confusion Matrix:\n",
      "[[239  84]\n",
      " [ 82 222]]\n",
      "Accuracy Score: 0.7352472089314195\n",
      "AUC: 0.7065\n",
      "Confusion Matrix:\n",
      "[[254  93]\n",
      " [ 89 190]]\n",
      "Accuracy Score: 0.7092651757188498\n",
      "AUC: 0.6933\n",
      "Confusion Matrix:\n",
      "[[225  88]\n",
      " [104 209]]\n",
      "Accuracy Score: 0.6932907348242812\n",
      "AUC: 0.7111\n",
      "Confusion Matrix:\n",
      "[[244  89]\n",
      " [ 91 202]]\n",
      "Accuracy Score: 0.7124600638977636\n",
      "AUC: 0.7222\n",
      "Confusion Matrix:\n",
      "[[247  82]\n",
      " [ 91 206]]\n",
      "Accuracy Score: 0.7236421725239617\n"
     ]
    }
   ],
   "source": [
    "config_opt_lasso = evalua_config([\"lasso\"],lambda_values, X, y)\n",
    "config_opt_ridge = evalua_config([\"ridge\"],lambda_values, X, y)"
   ]
  },
  {
   "cell_type": "code",
   "execution_count": 168,
   "id": "08798951",
   "metadata": {},
   "outputs": [
    {
     "name": "stdout",
     "output_type": "stream",
     "text": [
      "   Model Type        Lambda       ECM\n",
      "0       lasso       0.00001  0.220061\n",
      "1       lasso       0.00010  0.219741\n",
      "2       lasso       0.00100  0.223241\n",
      "3       lasso       0.01000  0.221343\n",
      "4       lasso       0.10000  0.221335\n",
      "5       lasso       1.00000  0.224859\n",
      "6       lasso      10.00000  0.217184\n",
      "7       lasso     100.00000  0.251364\n",
      "8       lasso    1000.00000  0.474621\n",
      "9       lasso   10000.00000  0.474606\n",
      "10      lasso  100000.00000  0.474605\n"
     ]
    }
   ],
   "source": [
    "print(config_opt_lasso)"
   ]
  },
  {
   "cell_type": "code",
   "execution_count": 169,
   "id": "880db614",
   "metadata": {},
   "outputs": [
    {
     "name": "stdout",
     "output_type": "stream",
     "text": [
      "AUC: 0.7920\n",
      "Confusion Matrix:\n",
      "[[125  20]\n",
      " [ 47 122]]\n",
      "Accuracy Score: 0.7866242038216561\n"
     ]
    },
    {
     "name": "stderr",
     "output_type": "stream",
     "text": [
      "C:\\Users\\Paula\\anaconda3\\lib\\site-packages\\sklearn\\linear_model\\_sag.py:328: ConvergenceWarning: The max_iter was reached which means the coef_ did not converge\n",
      "  warnings.warn(\"The max_iter was reached which means \"\n",
      "C:\\Users\\Paula\\anaconda3\\lib\\site-packages\\sklearn\\linear_model\\_sag.py:328: ConvergenceWarning: The max_iter was reached which means the coef_ did not converge\n",
      "  warnings.warn(\"The max_iter was reached which means \"\n"
     ]
    },
    {
     "name": "stdout",
     "output_type": "stream",
     "text": [
      "AUC: 0.7536\n",
      "Confusion Matrix:\n",
      "[[126  32]\n",
      " [ 45 110]]\n",
      "Accuracy Score: 0.7539936102236422\n"
     ]
    },
    {
     "name": "stderr",
     "output_type": "stream",
     "text": [
      "C:\\Users\\Paula\\anaconda3\\lib\\site-packages\\sklearn\\linear_model\\_sag.py:328: ConvergenceWarning: The max_iter was reached which means the coef_ did not converge\n",
      "  warnings.warn(\"The max_iter was reached which means \"\n"
     ]
    },
    {
     "name": "stdout",
     "output_type": "stream",
     "text": [
      "AUC: 0.7934\n",
      "Confusion Matrix:\n",
      "[[139  38]\n",
      " [ 27 109]]\n",
      "Accuracy Score: 0.792332268370607\n",
      "AUC: 0.7989\n",
      "Confusion Matrix:\n",
      "[[132  24]\n",
      " [ 39 118]]\n",
      "Accuracy Score: 0.7987220447284346\n"
     ]
    },
    {
     "name": "stderr",
     "output_type": "stream",
     "text": [
      "C:\\Users\\Paula\\anaconda3\\lib\\site-packages\\sklearn\\linear_model\\_sag.py:328: ConvergenceWarning: The max_iter was reached which means the coef_ did not converge\n",
      "  warnings.warn(\"The max_iter was reached which means \"\n",
      "C:\\Users\\Paula\\anaconda3\\lib\\site-packages\\sklearn\\linear_model\\_sag.py:328: ConvergenceWarning: The max_iter was reached which means the coef_ did not converge\n",
      "  warnings.warn(\"The max_iter was reached which means \"\n"
     ]
    },
    {
     "name": "stdout",
     "output_type": "stream",
     "text": [
      "AUC: 0.7619\n",
      "Confusion Matrix:\n",
      "[[131  31]\n",
      " [ 43 108]]\n",
      "Accuracy Score: 0.7635782747603834\n"
     ]
    },
    {
     "name": "stderr",
     "output_type": "stream",
     "text": [
      "C:\\Users\\Paula\\anaconda3\\lib\\site-packages\\sklearn\\linear_model\\_sag.py:328: ConvergenceWarning: The max_iter was reached which means the coef_ did not converge\n",
      "  warnings.warn(\"The max_iter was reached which means \"\n"
     ]
    },
    {
     "name": "stdout",
     "output_type": "stream",
     "text": [
      "AUC: 0.7776\n",
      "Confusion Matrix:\n",
      "[[135  27]\n",
      " [ 42 109]]\n",
      "Accuracy Score: 0.7795527156549521\n"
     ]
    },
    {
     "name": "stderr",
     "output_type": "stream",
     "text": [
      "C:\\Users\\Paula\\anaconda3\\lib\\site-packages\\sklearn\\linear_model\\_sag.py:328: ConvergenceWarning: The max_iter was reached which means the coef_ did not converge\n",
      "  warnings.warn(\"The max_iter was reached which means \"\n"
     ]
    },
    {
     "name": "stdout",
     "output_type": "stream",
     "text": [
      "AUC: 0.8079\n",
      "Confusion Matrix:\n",
      "[[144  22]\n",
      " [ 37 110]]\n",
      "Accuracy Score: 0.8115015974440895\n"
     ]
    },
    {
     "name": "stderr",
     "output_type": "stream",
     "text": [
      "C:\\Users\\Paula\\anaconda3\\lib\\site-packages\\sklearn\\linear_model\\_sag.py:328: ConvergenceWarning: The max_iter was reached which means the coef_ did not converge\n",
      "  warnings.warn(\"The max_iter was reached which means \"\n"
     ]
    },
    {
     "name": "stdout",
     "output_type": "stream",
     "text": [
      "AUC: 0.7731\n",
      "Confusion Matrix:\n",
      "[[124  34]\n",
      " [ 37 118]]\n",
      "Accuracy Score: 0.7731629392971247\n"
     ]
    },
    {
     "name": "stderr",
     "output_type": "stream",
     "text": [
      "C:\\Users\\Paula\\anaconda3\\lib\\site-packages\\sklearn\\linear_model\\_sag.py:328: ConvergenceWarning: The max_iter was reached which means the coef_ did not converge\n",
      "  warnings.warn(\"The max_iter was reached which means \"\n"
     ]
    },
    {
     "name": "stdout",
     "output_type": "stream",
     "text": [
      "AUC: 0.8098\n",
      "Confusion Matrix:\n",
      "[[139  23]\n",
      " [ 36 115]]\n",
      "Accuracy Score: 0.8115015974440895\n"
     ]
    },
    {
     "name": "stderr",
     "output_type": "stream",
     "text": [
      "C:\\Users\\Paula\\anaconda3\\lib\\site-packages\\sklearn\\linear_model\\_sag.py:328: ConvergenceWarning: The max_iter was reached which means the coef_ did not converge\n",
      "  warnings.warn(\"The max_iter was reached which means \"\n"
     ]
    },
    {
     "name": "stdout",
     "output_type": "stream",
     "text": [
      "AUC: 0.7767\n",
      "Confusion Matrix:\n",
      "[[159  40]\n",
      " [ 28  86]]\n",
      "Accuracy Score: 0.7827476038338658\n"
     ]
    },
    {
     "name": "stderr",
     "output_type": "stream",
     "text": [
      "C:\\Users\\Paula\\anaconda3\\lib\\site-packages\\sklearn\\linear_model\\_sag.py:328: ConvergenceWarning: The max_iter was reached which means the coef_ did not converge\n",
      "  warnings.warn(\"The max_iter was reached which means \"\n"
     ]
    },
    {
     "name": "stdout",
     "output_type": "stream",
     "text": [
      "AUC: 0.8094\n",
      "Confusion Matrix:\n",
      "[[139  17]\n",
      " [ 43 115]]\n",
      "Accuracy Score: 0.8089171974522293\n"
     ]
    },
    {
     "name": "stderr",
     "output_type": "stream",
     "text": [
      "C:\\Users\\Paula\\anaconda3\\lib\\site-packages\\sklearn\\linear_model\\_sag.py:328: ConvergenceWarning: The max_iter was reached which means the coef_ did not converge\n",
      "  warnings.warn(\"The max_iter was reached which means \"\n"
     ]
    },
    {
     "name": "stdout",
     "output_type": "stream",
     "text": [
      "AUC: 0.8057\n",
      "Confusion Matrix:\n",
      "[[141  23]\n",
      " [ 37 112]]\n",
      "Accuracy Score: 0.8083067092651757\n"
     ]
    },
    {
     "name": "stderr",
     "output_type": "stream",
     "text": [
      "C:\\Users\\Paula\\anaconda3\\lib\\site-packages\\sklearn\\linear_model\\_sag.py:328: ConvergenceWarning: The max_iter was reached which means the coef_ did not converge\n",
      "  warnings.warn(\"The max_iter was reached which means \"\n"
     ]
    },
    {
     "name": "stdout",
     "output_type": "stream",
     "text": [
      "AUC: 0.7530\n",
      "Confusion Matrix:\n",
      "[[127  34]\n",
      " [ 43 109]]\n",
      "Accuracy Score: 0.7539936102236422\n"
     ]
    },
    {
     "name": "stderr",
     "output_type": "stream",
     "text": [
      "C:\\Users\\Paula\\anaconda3\\lib\\site-packages\\sklearn\\linear_model\\_sag.py:328: ConvergenceWarning: The max_iter was reached which means the coef_ did not converge\n",
      "  warnings.warn(\"The max_iter was reached which means \"\n"
     ]
    },
    {
     "name": "stdout",
     "output_type": "stream",
     "text": [
      "AUC: 0.7923\n",
      "Confusion Matrix:\n",
      "[[126  31]\n",
      " [ 34 122]]\n",
      "Accuracy Score: 0.792332268370607\n"
     ]
    },
    {
     "name": "stderr",
     "output_type": "stream",
     "text": [
      "C:\\Users\\Paula\\anaconda3\\lib\\site-packages\\sklearn\\linear_model\\_sag.py:328: ConvergenceWarning: The max_iter was reached which means the coef_ did not converge\n",
      "  warnings.warn(\"The max_iter was reached which means \"\n"
     ]
    },
    {
     "name": "stdout",
     "output_type": "stream",
     "text": [
      "AUC: 0.7745\n",
      "Confusion Matrix:\n",
      "[[141  38]\n",
      " [ 32 102]]\n",
      "Accuracy Score: 0.7763578274760383\n"
     ]
    },
    {
     "name": "stderr",
     "output_type": "stream",
     "text": [
      "C:\\Users\\Paula\\anaconda3\\lib\\site-packages\\sklearn\\linear_model\\_sag.py:328: ConvergenceWarning: The max_iter was reached which means the coef_ did not converge\n",
      "  warnings.warn(\"The max_iter was reached which means \"\n"
     ]
    },
    {
     "name": "stdout",
     "output_type": "stream",
     "text": [
      "AUC: 0.7821\n",
      "Confusion Matrix:\n",
      "[[131  28]\n",
      " [ 40 114]]\n",
      "Accuracy Score: 0.7827476038338658\n"
     ]
    },
    {
     "name": "stderr",
     "output_type": "stream",
     "text": [
      "C:\\Users\\Paula\\anaconda3\\lib\\site-packages\\sklearn\\linear_model\\_sag.py:328: ConvergenceWarning: The max_iter was reached which means the coef_ did not converge\n",
      "  warnings.warn(\"The max_iter was reached which means \"\n"
     ]
    },
    {
     "name": "stdout",
     "output_type": "stream",
     "text": [
      "AUC: 0.7770\n",
      "Confusion Matrix:\n",
      "[[136  29]\n",
      " [ 40 108]]\n",
      "Accuracy Score: 0.7795527156549521\n"
     ]
    },
    {
     "name": "stderr",
     "output_type": "stream",
     "text": [
      "C:\\Users\\Paula\\anaconda3\\lib\\site-packages\\sklearn\\linear_model\\_sag.py:328: ConvergenceWarning: The max_iter was reached which means the coef_ did not converge\n",
      "  warnings.warn(\"The max_iter was reached which means \"\n"
     ]
    },
    {
     "name": "stdout",
     "output_type": "stream",
     "text": [
      "AUC: 0.7634\n",
      "Confusion Matrix:\n",
      "[[136  31]\n",
      " [ 42 104]]\n",
      "Accuracy Score: 0.7667731629392971\n"
     ]
    },
    {
     "name": "stderr",
     "output_type": "stream",
     "text": [
      "C:\\Users\\Paula\\anaconda3\\lib\\site-packages\\sklearn\\linear_model\\_sag.py:328: ConvergenceWarning: The max_iter was reached which means the coef_ did not converge\n",
      "  warnings.warn(\"The max_iter was reached which means \"\n"
     ]
    },
    {
     "name": "stdout",
     "output_type": "stream",
     "text": [
      "AUC: 0.7593\n",
      "Confusion Matrix:\n",
      "[[129  37]\n",
      " [ 38 109]]\n",
      "Accuracy Score: 0.7603833865814696\n"
     ]
    },
    {
     "name": "stderr",
     "output_type": "stream",
     "text": [
      "C:\\Users\\Paula\\anaconda3\\lib\\site-packages\\sklearn\\linear_model\\_sag.py:328: ConvergenceWarning: The max_iter was reached which means the coef_ did not converge\n",
      "  warnings.warn(\"The max_iter was reached which means \"\n"
     ]
    },
    {
     "name": "stdout",
     "output_type": "stream",
     "text": [
      "AUC: 0.8171\n",
      "Confusion Matrix:\n",
      "[[147  24]\n",
      " [ 32 110]]\n",
      "Accuracy Score: 0.8210862619808307\n"
     ]
    },
    {
     "name": "stderr",
     "output_type": "stream",
     "text": [
      "C:\\Users\\Paula\\anaconda3\\lib\\site-packages\\sklearn\\linear_model\\_sag.py:328: ConvergenceWarning: The max_iter was reached which means the coef_ did not converge\n",
      "  warnings.warn(\"The max_iter was reached which means \"\n"
     ]
    },
    {
     "name": "stdout",
     "output_type": "stream",
     "text": [
      "AUC: 0.7907\n",
      "Confusion Matrix:\n",
      "[[142  19]\n",
      " [ 46 107]]\n",
      "Accuracy Score: 0.7929936305732485\n"
     ]
    },
    {
     "name": "stderr",
     "output_type": "stream",
     "text": [
      "C:\\Users\\Paula\\anaconda3\\lib\\site-packages\\sklearn\\linear_model\\_sag.py:328: ConvergenceWarning: The max_iter was reached which means the coef_ did not converge\n",
      "  warnings.warn(\"The max_iter was reached which means \"\n"
     ]
    },
    {
     "name": "stdout",
     "output_type": "stream",
     "text": [
      "AUC: 0.7845\n",
      "Confusion Matrix:\n",
      "[[135  33]\n",
      " [ 34 111]]\n",
      "Accuracy Score: 0.7859424920127795\n"
     ]
    },
    {
     "name": "stderr",
     "output_type": "stream",
     "text": [
      "C:\\Users\\Paula\\anaconda3\\lib\\site-packages\\sklearn\\linear_model\\_sag.py:328: ConvergenceWarning: The max_iter was reached which means the coef_ did not converge\n",
      "  warnings.warn(\"The max_iter was reached which means \"\n"
     ]
    },
    {
     "name": "stdout",
     "output_type": "stream",
     "text": [
      "AUC: 0.7973\n",
      "Confusion Matrix:\n",
      "[[143  34]\n",
      " [ 29 107]]\n",
      "Accuracy Score: 0.7987220447284346\n"
     ]
    },
    {
     "name": "stderr",
     "output_type": "stream",
     "text": [
      "C:\\Users\\Paula\\anaconda3\\lib\\site-packages\\sklearn\\linear_model\\_sag.py:328: ConvergenceWarning: The max_iter was reached which means the coef_ did not converge\n",
      "  warnings.warn(\"The max_iter was reached which means \"\n"
     ]
    },
    {
     "name": "stdout",
     "output_type": "stream",
     "text": [
      "AUC: 0.7905\n",
      "Confusion Matrix:\n",
      "[[138  32]\n",
      " [ 33 110]]\n",
      "Accuracy Score: 0.792332268370607\n"
     ]
    },
    {
     "name": "stderr",
     "output_type": "stream",
     "text": [
      "C:\\Users\\Paula\\anaconda3\\lib\\site-packages\\sklearn\\linear_model\\_sag.py:328: ConvergenceWarning: The max_iter was reached which means the coef_ did not converge\n",
      "  warnings.warn(\"The max_iter was reached which means \"\n"
     ]
    },
    {
     "name": "stdout",
     "output_type": "stream",
     "text": [
      "AUC: 0.7807\n",
      "Confusion Matrix:\n",
      "[[152  31]\n",
      " [ 35  95]]\n",
      "Accuracy Score: 0.7891373801916933\n"
     ]
    },
    {
     "name": "stderr",
     "output_type": "stream",
     "text": [
      "C:\\Users\\Paula\\anaconda3\\lib\\site-packages\\sklearn\\linear_model\\_sag.py:328: ConvergenceWarning: The max_iter was reached which means the coef_ did not converge\n",
      "  warnings.warn(\"The max_iter was reached which means \"\n"
     ]
    },
    {
     "name": "stdout",
     "output_type": "stream",
     "text": [
      "AUC: 0.7567\n",
      "Confusion Matrix:\n",
      "[[126  25]\n",
      " [ 52 110]]\n",
      "Accuracy Score: 0.7539936102236422\n"
     ]
    },
    {
     "name": "stderr",
     "output_type": "stream",
     "text": [
      "C:\\Users\\Paula\\anaconda3\\lib\\site-packages\\sklearn\\linear_model\\_sag.py:328: ConvergenceWarning: The max_iter was reached which means the coef_ did not converge\n",
      "  warnings.warn(\"The max_iter was reached which means \"\n"
     ]
    },
    {
     "name": "stdout",
     "output_type": "stream",
     "text": [
      "AUC: 0.7740\n",
      "Confusion Matrix:\n",
      "[[146  34]\n",
      " [ 35  98]]\n",
      "Accuracy Score: 0.7795527156549521\n"
     ]
    },
    {
     "name": "stderr",
     "output_type": "stream",
     "text": [
      "C:\\Users\\Paula\\anaconda3\\lib\\site-packages\\sklearn\\linear_model\\_sag.py:328: ConvergenceWarning: The max_iter was reached which means the coef_ did not converge\n",
      "  warnings.warn(\"The max_iter was reached which means \"\n"
     ]
    },
    {
     "name": "stdout",
     "output_type": "stream",
     "text": [
      "AUC: 0.7686\n",
      "Confusion Matrix:\n",
      "[[111  30]\n",
      " [ 43 129]]\n",
      "Accuracy Score: 0.7667731629392971\n"
     ]
    },
    {
     "name": "stderr",
     "output_type": "stream",
     "text": [
      "C:\\Users\\Paula\\anaconda3\\lib\\site-packages\\sklearn\\linear_model\\_sag.py:328: ConvergenceWarning: The max_iter was reached which means the coef_ did not converge\n",
      "  warnings.warn(\"The max_iter was reached which means \"\n"
     ]
    },
    {
     "name": "stdout",
     "output_type": "stream",
     "text": [
      "AUC: 0.7784\n",
      "Confusion Matrix:\n",
      "[[132  33]\n",
      " [ 36 112]]\n",
      "Accuracy Score: 0.7795527156549521\n"
     ]
    },
    {
     "name": "stderr",
     "output_type": "stream",
     "text": [
      "C:\\Users\\Paula\\anaconda3\\lib\\site-packages\\sklearn\\linear_model\\_sag.py:328: ConvergenceWarning: The max_iter was reached which means the coef_ did not converge\n",
      "  warnings.warn(\"The max_iter was reached which means \"\n"
     ]
    },
    {
     "name": "stdout",
     "output_type": "stream",
     "text": [
      "AUC: 0.7905\n",
      "Confusion Matrix:\n",
      "[[122  27]\n",
      " [ 39 125]]\n",
      "Accuracy Score: 0.7891373801916933\n"
     ]
    },
    {
     "name": "stderr",
     "output_type": "stream",
     "text": [
      "C:\\Users\\Paula\\anaconda3\\lib\\site-packages\\sklearn\\linear_model\\_sag.py:328: ConvergenceWarning: The max_iter was reached which means the coef_ did not converge\n",
      "  warnings.warn(\"The max_iter was reached which means \"\n"
     ]
    },
    {
     "name": "stdout",
     "output_type": "stream",
     "text": [
      "AUC: 0.8050\n",
      "Confusion Matrix:\n",
      "[[139  32]\n",
      " [ 29 114]]\n",
      "Accuracy Score: 0.8057324840764332\n"
     ]
    },
    {
     "name": "stderr",
     "output_type": "stream",
     "text": [
      "C:\\Users\\Paula\\anaconda3\\lib\\site-packages\\sklearn\\linear_model\\_sag.py:328: ConvergenceWarning: The max_iter was reached which means the coef_ did not converge\n",
      "  warnings.warn(\"The max_iter was reached which means \"\n"
     ]
    },
    {
     "name": "stdout",
     "output_type": "stream",
     "text": [
      "AUC: 0.7822\n",
      "Confusion Matrix:\n",
      "[[132  35]\n",
      " [ 33 113]]\n",
      "Accuracy Score: 0.7827476038338658\n"
     ]
    },
    {
     "name": "stderr",
     "output_type": "stream",
     "text": [
      "C:\\Users\\Paula\\anaconda3\\lib\\site-packages\\sklearn\\linear_model\\_sag.py:328: ConvergenceWarning: The max_iter was reached which means the coef_ did not converge\n",
      "  warnings.warn(\"The max_iter was reached which means \"\n"
     ]
    },
    {
     "name": "stdout",
     "output_type": "stream",
     "text": [
      "AUC: 0.7333\n",
      "Confusion Matrix:\n",
      "[[116  34]\n",
      " [ 50 113]]\n",
      "Accuracy Score: 0.731629392971246\n"
     ]
    },
    {
     "name": "stderr",
     "output_type": "stream",
     "text": [
      "C:\\Users\\Paula\\anaconda3\\lib\\site-packages\\sklearn\\linear_model\\_sag.py:328: ConvergenceWarning: The max_iter was reached which means the coef_ did not converge\n",
      "  warnings.warn(\"The max_iter was reached which means \"\n"
     ]
    },
    {
     "name": "stdout",
     "output_type": "stream",
     "text": [
      "AUC: 0.7897\n",
      "Confusion Matrix:\n",
      "[[139  24]\n",
      " [ 41 109]]\n",
      "Accuracy Score: 0.792332268370607\n"
     ]
    },
    {
     "name": "stderr",
     "output_type": "stream",
     "text": [
      "C:\\Users\\Paula\\anaconda3\\lib\\site-packages\\sklearn\\linear_model\\_sag.py:328: ConvergenceWarning: The max_iter was reached which means the coef_ did not converge\n",
      "  warnings.warn(\"The max_iter was reached which means \"\n"
     ]
    },
    {
     "name": "stdout",
     "output_type": "stream",
     "text": [
      "AUC: 0.8055\n",
      "Confusion Matrix:\n",
      "[[147  31]\n",
      " [ 29 106]]\n",
      "Accuracy Score: 0.8083067092651757\n"
     ]
    },
    {
     "name": "stderr",
     "output_type": "stream",
     "text": [
      "C:\\Users\\Paula\\anaconda3\\lib\\site-packages\\sklearn\\linear_model\\_sag.py:328: ConvergenceWarning: The max_iter was reached which means the coef_ did not converge\n",
      "  warnings.warn(\"The max_iter was reached which means \"\n"
     ]
    },
    {
     "name": "stdout",
     "output_type": "stream",
     "text": [
      "AUC: 0.7771\n",
      "Confusion Matrix:\n",
      "[[137  33]\n",
      " [ 36 107]]\n",
      "Accuracy Score: 0.7795527156549521\n"
     ]
    },
    {
     "name": "stderr",
     "output_type": "stream",
     "text": [
      "C:\\Users\\Paula\\anaconda3\\lib\\site-packages\\sklearn\\linear_model\\_sag.py:328: ConvergenceWarning: The max_iter was reached which means the coef_ did not converge\n",
      "  warnings.warn(\"The max_iter was reached which means \"\n"
     ]
    },
    {
     "name": "stdout",
     "output_type": "stream",
     "text": [
      "AUC: 0.7692\n",
      "Confusion Matrix:\n",
      "[[150  24]\n",
      " [ 45  94]]\n",
      "Accuracy Score: 0.7795527156549521\n"
     ]
    },
    {
     "name": "stderr",
     "output_type": "stream",
     "text": [
      "C:\\Users\\Paula\\anaconda3\\lib\\site-packages\\sklearn\\linear_model\\_sag.py:328: ConvergenceWarning: The max_iter was reached which means the coef_ did not converge\n",
      "  warnings.warn(\"The max_iter was reached which means \"\n"
     ]
    },
    {
     "name": "stdout",
     "output_type": "stream",
     "text": [
      "AUC: 0.7574\n",
      "Confusion Matrix:\n",
      "[[127  29]\n",
      " [ 47 110]]\n",
      "Accuracy Score: 0.7571884984025559\n"
     ]
    },
    {
     "name": "stderr",
     "output_type": "stream",
     "text": [
      "C:\\Users\\Paula\\anaconda3\\lib\\site-packages\\sklearn\\linear_model\\_sag.py:328: ConvergenceWarning: The max_iter was reached which means the coef_ did not converge\n",
      "  warnings.warn(\"The max_iter was reached which means \"\n"
     ]
    },
    {
     "name": "stdout",
     "output_type": "stream",
     "text": [
      "AUC: 0.7765\n",
      "Confusion Matrix:\n",
      "[[129  27]\n",
      " [ 43 114]]\n",
      "Accuracy Score: 0.7763578274760383\n"
     ]
    },
    {
     "name": "stderr",
     "output_type": "stream",
     "text": [
      "C:\\Users\\Paula\\anaconda3\\lib\\site-packages\\sklearn\\linear_model\\_sag.py:328: ConvergenceWarning: The max_iter was reached which means the coef_ did not converge\n",
      "  warnings.warn(\"The max_iter was reached which means \"\n"
     ]
    },
    {
     "name": "stdout",
     "output_type": "stream",
     "text": [
      "AUC: 0.7980\n",
      "Confusion Matrix:\n",
      "[[133  27]\n",
      " [ 36 117]]\n",
      "Accuracy Score: 0.7987220447284346\n"
     ]
    },
    {
     "name": "stderr",
     "output_type": "stream",
     "text": [
      "C:\\Users\\Paula\\anaconda3\\lib\\site-packages\\sklearn\\linear_model\\_sag.py:328: ConvergenceWarning: The max_iter was reached which means the coef_ did not converge\n",
      "  warnings.warn(\"The max_iter was reached which means \"\n"
     ]
    },
    {
     "name": "stdout",
     "output_type": "stream",
     "text": [
      "AUC: 0.7553\n",
      "Confusion Matrix:\n",
      "[[123  42]\n",
      " [ 35 114]]\n",
      "Accuracy Score: 0.7547770700636943\n"
     ]
    },
    {
     "name": "stderr",
     "output_type": "stream",
     "text": [
      "C:\\Users\\Paula\\anaconda3\\lib\\site-packages\\sklearn\\linear_model\\_sag.py:328: ConvergenceWarning: The max_iter was reached which means the coef_ did not converge\n",
      "  warnings.warn(\"The max_iter was reached which means \"\n"
     ]
    },
    {
     "name": "stdout",
     "output_type": "stream",
     "text": [
      "AUC: 0.7899\n",
      "Confusion Matrix:\n",
      "[[138  29]\n",
      " [ 36 110]]\n",
      "Accuracy Score: 0.792332268370607\n"
     ]
    },
    {
     "name": "stderr",
     "output_type": "stream",
     "text": [
      "C:\\Users\\Paula\\anaconda3\\lib\\site-packages\\sklearn\\linear_model\\_sag.py:328: ConvergenceWarning: The max_iter was reached which means the coef_ did not converge\n",
      "  warnings.warn(\"The max_iter was reached which means \"\n"
     ]
    },
    {
     "name": "stdout",
     "output_type": "stream",
     "text": [
      "AUC: 0.7438\n",
      "Confusion Matrix:\n",
      "[[127  31]\n",
      " [ 49 106]]\n",
      "Accuracy Score: 0.744408945686901\n"
     ]
    },
    {
     "name": "stderr",
     "output_type": "stream",
     "text": [
      "C:\\Users\\Paula\\anaconda3\\lib\\site-packages\\sklearn\\linear_model\\_sag.py:328: ConvergenceWarning: The max_iter was reached which means the coef_ did not converge\n",
      "  warnings.warn(\"The max_iter was reached which means \"\n"
     ]
    },
    {
     "name": "stdout",
     "output_type": "stream",
     "text": [
      "AUC: 0.7949\n",
      "Confusion Matrix:\n",
      "[[149  24]\n",
      " [ 38 102]]\n",
      "Accuracy Score: 0.8019169329073482\n"
     ]
    },
    {
     "name": "stderr",
     "output_type": "stream",
     "text": [
      "C:\\Users\\Paula\\anaconda3\\lib\\site-packages\\sklearn\\linear_model\\_sag.py:328: ConvergenceWarning: The max_iter was reached which means the coef_ did not converge\n",
      "  warnings.warn(\"The max_iter was reached which means \"\n"
     ]
    },
    {
     "name": "stdout",
     "output_type": "stream",
     "text": [
      "AUC: 0.8100\n",
      "Confusion Matrix:\n",
      "[[127  18]\n",
      " [ 43 125]]\n",
      "Accuracy Score: 0.805111821086262\n"
     ]
    },
    {
     "name": "stderr",
     "output_type": "stream",
     "text": [
      "C:\\Users\\Paula\\anaconda3\\lib\\site-packages\\sklearn\\linear_model\\_sag.py:328: ConvergenceWarning: The max_iter was reached which means the coef_ did not converge\n",
      "  warnings.warn(\"The max_iter was reached which means \"\n"
     ]
    },
    {
     "name": "stdout",
     "output_type": "stream",
     "text": [
      "AUC: 0.7921\n",
      "Confusion Matrix:\n",
      "[[141  24]\n",
      " [ 40 108]]\n",
      "Accuracy Score: 0.7955271565495208\n"
     ]
    },
    {
     "name": "stderr",
     "output_type": "stream",
     "text": [
      "C:\\Users\\Paula\\anaconda3\\lib\\site-packages\\sklearn\\linear_model\\_sag.py:328: ConvergenceWarning: The max_iter was reached which means the coef_ did not converge\n",
      "  warnings.warn(\"The max_iter was reached which means \"\n"
     ]
    },
    {
     "name": "stdout",
     "output_type": "stream",
     "text": [
      "AUC: 0.8075\n",
      "Confusion Matrix:\n",
      "[[145  21]\n",
      " [ 38 109]]\n",
      "Accuracy Score: 0.8115015974440895\n"
     ]
    },
    {
     "name": "stderr",
     "output_type": "stream",
     "text": [
      "C:\\Users\\Paula\\anaconda3\\lib\\site-packages\\sklearn\\linear_model\\_sag.py:328: ConvergenceWarning: The max_iter was reached which means the coef_ did not converge\n",
      "  warnings.warn(\"The max_iter was reached which means \"\n"
     ]
    },
    {
     "name": "stdout",
     "output_type": "stream",
     "text": [
      "AUC: 0.7562\n",
      "Confusion Matrix:\n",
      "[[137  34]\n",
      " [ 41 101]]\n",
      "Accuracy Score: 0.7603833865814696\n"
     ]
    },
    {
     "name": "stderr",
     "output_type": "stream",
     "text": [
      "C:\\Users\\Paula\\anaconda3\\lib\\site-packages\\sklearn\\linear_model\\_sag.py:328: ConvergenceWarning: The max_iter was reached which means the coef_ did not converge\n",
      "  warnings.warn(\"The max_iter was reached which means \"\n"
     ]
    },
    {
     "name": "stdout",
     "output_type": "stream",
     "text": [
      "AUC: 0.7834\n",
      "Confusion Matrix:\n",
      "[[131  38]\n",
      " [ 30 114]]\n",
      "Accuracy Score: 0.7827476038338658\n"
     ]
    },
    {
     "name": "stderr",
     "output_type": "stream",
     "text": [
      "C:\\Users\\Paula\\anaconda3\\lib\\site-packages\\sklearn\\linear_model\\_sag.py:328: ConvergenceWarning: The max_iter was reached which means the coef_ did not converge\n",
      "  warnings.warn(\"The max_iter was reached which means \"\n"
     ]
    },
    {
     "name": "stdout",
     "output_type": "stream",
     "text": [
      "AUC: 0.7687\n",
      "Confusion Matrix:\n",
      "[[131  35]\n",
      " [ 37 110]]\n",
      "Accuracy Score: 0.7699680511182109\n"
     ]
    },
    {
     "name": "stderr",
     "output_type": "stream",
     "text": [
      "C:\\Users\\Paula\\anaconda3\\lib\\site-packages\\sklearn\\linear_model\\_sag.py:328: ConvergenceWarning: The max_iter was reached which means the coef_ did not converge\n",
      "  warnings.warn(\"The max_iter was reached which means \"\n"
     ]
    },
    {
     "name": "stdout",
     "output_type": "stream",
     "text": [
      "AUC: 0.7926\n",
      "Confusion Matrix:\n",
      "[[152  30]\n",
      " [ 33  99]]\n",
      "Accuracy Score: 0.7993630573248408\n"
     ]
    },
    {
     "name": "stderr",
     "output_type": "stream",
     "text": [
      "C:\\Users\\Paula\\anaconda3\\lib\\site-packages\\sklearn\\linear_model\\_sag.py:328: ConvergenceWarning: The max_iter was reached which means the coef_ did not converge\n",
      "  warnings.warn(\"The max_iter was reached which means \"\n"
     ]
    },
    {
     "name": "stdout",
     "output_type": "stream",
     "text": [
      "AUC: 0.7765\n",
      "Confusion Matrix:\n",
      "[[117  33]\n",
      " [ 37 126]]\n",
      "Accuracy Score: 0.7763578274760383\n"
     ]
    },
    {
     "name": "stderr",
     "output_type": "stream",
     "text": [
      "C:\\Users\\Paula\\anaconda3\\lib\\site-packages\\sklearn\\linear_model\\_sag.py:328: ConvergenceWarning: The max_iter was reached which means the coef_ did not converge\n",
      "  warnings.warn(\"The max_iter was reached which means \"\n"
     ]
    },
    {
     "name": "stdout",
     "output_type": "stream",
     "text": [
      "AUC: 0.7462\n",
      "Confusion Matrix:\n",
      "[[137  37]\n",
      " [ 41  98]]\n",
      "Accuracy Score: 0.7507987220447284\n"
     ]
    },
    {
     "name": "stderr",
     "output_type": "stream",
     "text": [
      "C:\\Users\\Paula\\anaconda3\\lib\\site-packages\\sklearn\\linear_model\\_sag.py:328: ConvergenceWarning: The max_iter was reached which means the coef_ did not converge\n",
      "  warnings.warn(\"The max_iter was reached which means \"\n"
     ]
    },
    {
     "name": "stdout",
     "output_type": "stream",
     "text": [
      "AUC: 0.7848\n",
      "Confusion Matrix:\n",
      "[[133  32]\n",
      " [ 35 113]]\n",
      "Accuracy Score: 0.7859424920127795\n"
     ]
    },
    {
     "name": "stderr",
     "output_type": "stream",
     "text": [
      "C:\\Users\\Paula\\anaconda3\\lib\\site-packages\\sklearn\\linear_model\\_sag.py:328: ConvergenceWarning: The max_iter was reached which means the coef_ did not converge\n",
      "  warnings.warn(\"The max_iter was reached which means \"\n"
     ]
    },
    {
     "name": "stdout",
     "output_type": "stream",
     "text": [
      "AUC: 0.8067\n",
      "Confusion Matrix:\n",
      "[[138  24]\n",
      " [ 36 115]]\n",
      "Accuracy Score: 0.8083067092651757\n"
     ]
    },
    {
     "name": "stderr",
     "output_type": "stream",
     "text": [
      "C:\\Users\\Paula\\anaconda3\\lib\\site-packages\\sklearn\\linear_model\\_sag.py:328: ConvergenceWarning: The max_iter was reached which means the coef_ did not converge\n",
      "  warnings.warn(\"The max_iter was reached which means \"\n"
     ]
    },
    {
     "name": "stdout",
     "output_type": "stream",
     "text": [
      "AUC: 0.7593\n",
      "Confusion Matrix:\n",
      "[[129  31]\n",
      " [ 44 109]]\n",
      "Accuracy Score: 0.7603833865814696\n"
     ]
    },
    {
     "name": "stderr",
     "output_type": "stream",
     "text": [
      "C:\\Users\\Paula\\anaconda3\\lib\\site-packages\\sklearn\\linear_model\\_sag.py:328: ConvergenceWarning: The max_iter was reached which means the coef_ did not converge\n",
      "  warnings.warn(\"The max_iter was reached which means \"\n"
     ]
    },
    {
     "name": "stdout",
     "output_type": "stream",
     "text": [
      "AUC: 0.7670\n",
      "Confusion Matrix:\n",
      "[[129  27]\n",
      " [ 46 111]]\n",
      "Accuracy Score: 0.7667731629392971\n"
     ]
    },
    {
     "name": "stderr",
     "output_type": "stream",
     "text": [
      "C:\\Users\\Paula\\anaconda3\\lib\\site-packages\\sklearn\\linear_model\\_sag.py:328: ConvergenceWarning: The max_iter was reached which means the coef_ did not converge\n",
      "  warnings.warn(\"The max_iter was reached which means \"\n"
     ]
    },
    {
     "name": "stdout",
     "output_type": "stream",
     "text": [
      "AUC: 0.7632\n",
      "Confusion Matrix:\n",
      "[[143  28]\n",
      " [ 44  98]]\n",
      "Accuracy Score: 0.7699680511182109\n"
     ]
    },
    {
     "name": "stderr",
     "output_type": "stream",
     "text": [
      "C:\\Users\\Paula\\anaconda3\\lib\\site-packages\\sklearn\\linear_model\\_sag.py:328: ConvergenceWarning: The max_iter was reached which means the coef_ did not converge\n",
      "  warnings.warn(\"The max_iter was reached which means \"\n"
     ]
    },
    {
     "name": "stdout",
     "output_type": "stream",
     "text": [
      "AUC: 0.8110\n",
      "Confusion Matrix:\n",
      "[[136  30]\n",
      " [ 29 118]]\n",
      "Accuracy Score: 0.8115015974440895\n"
     ]
    },
    {
     "name": "stderr",
     "output_type": "stream",
     "text": [
      "C:\\Users\\Paula\\anaconda3\\lib\\site-packages\\sklearn\\linear_model\\_sag.py:328: ConvergenceWarning: The max_iter was reached which means the coef_ did not converge\n",
      "  warnings.warn(\"The max_iter was reached which means \"\n"
     ]
    },
    {
     "name": "stdout",
     "output_type": "stream",
     "text": [
      "AUC: 0.7693\n",
      "Confusion Matrix:\n",
      "[[129  30]\n",
      " [ 42 112]]\n",
      "Accuracy Score: 0.7699680511182109\n"
     ]
    },
    {
     "name": "stderr",
     "output_type": "stream",
     "text": [
      "C:\\Users\\Paula\\anaconda3\\lib\\site-packages\\sklearn\\linear_model\\_sag.py:328: ConvergenceWarning: The max_iter was reached which means the coef_ did not converge\n",
      "  warnings.warn(\"The max_iter was reached which means \"\n"
     ]
    },
    {
     "name": "stdout",
     "output_type": "stream",
     "text": [
      "AUC: 0.7833\n",
      "Confusion Matrix:\n",
      "[[128  30]\n",
      " [ 38 118]]\n",
      "Accuracy Score: 0.7834394904458599\n"
     ]
    },
    {
     "name": "stderr",
     "output_type": "stream",
     "text": [
      "C:\\Users\\Paula\\anaconda3\\lib\\site-packages\\sklearn\\linear_model\\_sag.py:328: ConvergenceWarning: The max_iter was reached which means the coef_ did not converge\n",
      "  warnings.warn(\"The max_iter was reached which means \"\n"
     ]
    },
    {
     "name": "stdout",
     "output_type": "stream",
     "text": [
      "AUC: 0.7803\n",
      "Confusion Matrix:\n",
      "[[144  28]\n",
      " [ 39 102]]\n",
      "Accuracy Score: 0.7859424920127795\n"
     ]
    },
    {
     "name": "stderr",
     "output_type": "stream",
     "text": [
      "C:\\Users\\Paula\\anaconda3\\lib\\site-packages\\sklearn\\linear_model\\_sag.py:328: ConvergenceWarning: The max_iter was reached which means the coef_ did not converge\n",
      "  warnings.warn(\"The max_iter was reached which means \"\n"
     ]
    },
    {
     "name": "stdout",
     "output_type": "stream",
     "text": [
      "AUC: 0.7894\n",
      "Confusion Matrix:\n",
      "[[127  28]\n",
      " [ 38 120]]\n",
      "Accuracy Score: 0.7891373801916933\n"
     ]
    },
    {
     "name": "stderr",
     "output_type": "stream",
     "text": [
      "C:\\Users\\Paula\\anaconda3\\lib\\site-packages\\sklearn\\linear_model\\_sag.py:328: ConvergenceWarning: The max_iter was reached which means the coef_ did not converge\n",
      "  warnings.warn(\"The max_iter was reached which means \"\n"
     ]
    },
    {
     "name": "stdout",
     "output_type": "stream",
     "text": [
      "AUC: 0.7731\n",
      "Confusion Matrix:\n",
      "[[127  37]\n",
      " [ 34 115]]\n",
      "Accuracy Score: 0.7731629392971247\n"
     ]
    },
    {
     "name": "stderr",
     "output_type": "stream",
     "text": [
      "C:\\Users\\Paula\\anaconda3\\lib\\site-packages\\sklearn\\linear_model\\_sag.py:328: ConvergenceWarning: The max_iter was reached which means the coef_ did not converge\n",
      "  warnings.warn(\"The max_iter was reached which means \"\n"
     ]
    },
    {
     "name": "stdout",
     "output_type": "stream",
     "text": [
      "AUC: 0.7720\n",
      "Confusion Matrix:\n",
      "[[132  28]\n",
      " [ 43 110]]\n",
      "Accuracy Score: 0.7731629392971247\n"
     ]
    },
    {
     "name": "stderr",
     "output_type": "stream",
     "text": [
      "C:\\Users\\Paula\\anaconda3\\lib\\site-packages\\sklearn\\linear_model\\_sag.py:328: ConvergenceWarning: The max_iter was reached which means the coef_ did not converge\n",
      "  warnings.warn(\"The max_iter was reached which means \"\n"
     ]
    },
    {
     "name": "stdout",
     "output_type": "stream",
     "text": [
      "AUC: 0.8050\n",
      "Confusion Matrix:\n",
      "[[141  34]\n",
      " [ 27 111]]\n",
      "Accuracy Score: 0.805111821086262\n"
     ]
    },
    {
     "name": "stderr",
     "output_type": "stream",
     "text": [
      "C:\\Users\\Paula\\anaconda3\\lib\\site-packages\\sklearn\\linear_model\\_sag.py:328: ConvergenceWarning: The max_iter was reached which means the coef_ did not converge\n",
      "  warnings.warn(\"The max_iter was reached which means \"\n"
     ]
    },
    {
     "name": "stdout",
     "output_type": "stream",
     "text": [
      "AUC: 0.7558\n",
      "Confusion Matrix:\n",
      "[[144  32]\n",
      " [ 42  95]]\n",
      "Accuracy Score: 0.7635782747603834\n"
     ]
    },
    {
     "name": "stderr",
     "output_type": "stream",
     "text": [
      "C:\\Users\\Paula\\anaconda3\\lib\\site-packages\\sklearn\\linear_model\\_sag.py:328: ConvergenceWarning: The max_iter was reached which means the coef_ did not converge\n",
      "  warnings.warn(\"The max_iter was reached which means \"\n"
     ]
    },
    {
     "name": "stdout",
     "output_type": "stream",
     "text": [
      "AUC: 0.7509\n",
      "Confusion Matrix:\n",
      "[[136  26]\n",
      " [ 51 100]]\n",
      "Accuracy Score: 0.7539936102236422\n"
     ]
    },
    {
     "name": "stderr",
     "output_type": "stream",
     "text": [
      "C:\\Users\\Paula\\anaconda3\\lib\\site-packages\\sklearn\\linear_model\\_sag.py:328: ConvergenceWarning: The max_iter was reached which means the coef_ did not converge\n",
      "  warnings.warn(\"The max_iter was reached which means \"\n"
     ]
    },
    {
     "name": "stdout",
     "output_type": "stream",
     "text": [
      "AUC: 0.7660\n",
      "Confusion Matrix:\n",
      "[[128  32]\n",
      " [ 41 112]]\n",
      "Accuracy Score: 0.7667731629392971\n"
     ]
    },
    {
     "name": "stderr",
     "output_type": "stream",
     "text": [
      "C:\\Users\\Paula\\anaconda3\\lib\\site-packages\\sklearn\\linear_model\\_sag.py:328: ConvergenceWarning: The max_iter was reached which means the coef_ did not converge\n",
      "  warnings.warn(\"The max_iter was reached which means \"\n"
     ]
    },
    {
     "name": "stdout",
     "output_type": "stream",
     "text": [
      "AUC: 0.7830\n",
      "Confusion Matrix:\n",
      "[[139  24]\n",
      " [ 43 107]]\n",
      "Accuracy Score: 0.7859424920127795\n",
      "AUC: 0.7310\n",
      "Confusion Matrix:\n",
      "[[140  31]\n",
      " [ 51  92]]\n",
      "Accuracy Score: 0.7388535031847133\n",
      "AUC: 0.7302\n",
      "Confusion Matrix:\n",
      "[[137  26]\n",
      " [ 57  93]]\n",
      "Accuracy Score: 0.7348242811501597\n",
      "AUC: 0.7689\n",
      "Confusion Matrix:\n",
      "[[132  21]\n",
      " [ 52 108]]\n",
      "Accuracy Score: 0.7667731629392971\n",
      "AUC: 0.7711\n",
      "Confusion Matrix:\n",
      "[[138  22]\n",
      " [ 49 104]]\n",
      "Accuracy Score: 0.7731629392971247\n",
      "AUC: 0.7337\n",
      "Confusion Matrix:\n",
      "[[155  18]\n",
      " [ 60  80]]\n",
      "Accuracy Score: 0.7507987220447284\n",
      "AUC: 0.7383\n",
      "Confusion Matrix:\n",
      "[[130  26]\n",
      " [ 56 101]]\n",
      "Accuracy Score: 0.7380191693290735\n",
      "AUC: 0.7206\n",
      "Confusion Matrix:\n",
      "[[133  32]\n",
      " [ 54  94]]\n",
      "Accuracy Score: 0.7252396166134185\n",
      "AUC: 0.7472\n",
      "Confusion Matrix:\n",
      "[[136  27]\n",
      " [ 51  99]]\n",
      "Accuracy Score: 0.7507987220447284\n",
      "AUC: 0.7429\n",
      "Confusion Matrix:\n",
      "[[136  36]\n",
      " [ 43  98]]\n",
      "Accuracy Score: 0.7476038338658147\n",
      "AUC: 0.7361\n",
      "Confusion Matrix:\n",
      "[[142  27]\n",
      " [ 53  91]]\n",
      "Accuracy Score: 0.744408945686901\n",
      "AUC: 0.5000\n",
      "Confusion Matrix:\n",
      "[[163   0]\n",
      " [151   0]]\n",
      "Accuracy Score: 0.5191082802547771\n",
      "AUC: 0.5000\n",
      "Confusion Matrix:\n",
      "[[160   0]\n",
      " [153   0]]\n",
      "Accuracy Score: 0.5111821086261981\n",
      "AUC: 0.5000\n",
      "Confusion Matrix:\n",
      "[[167   0]\n",
      " [146   0]]\n",
      "Accuracy Score: 0.5335463258785943\n",
      "AUC: 0.5000\n",
      "Confusion Matrix:\n",
      "[[160   0]\n",
      " [153   0]]\n",
      "Accuracy Score: 0.5111821086261981\n",
      "AUC: 0.5000\n",
      "Confusion Matrix:\n",
      "[[170   0]\n",
      " [143   0]]\n",
      "Accuracy Score: 0.5431309904153354\n",
      "AUC: 0.5000\n",
      "Confusion Matrix:\n",
      "[[170   0]\n",
      " [143   0]]\n",
      "Accuracy Score: 0.5431309904153354\n",
      "AUC: 0.5000\n",
      "Confusion Matrix:\n",
      "[[159   0]\n",
      " [154   0]]\n",
      "Accuracy Score: 0.5079872204472844\n",
      "AUC: 0.5000\n",
      "Confusion Matrix:\n",
      "[[168   0]\n",
      " [145   0]]\n",
      "Accuracy Score: 0.536741214057508\n",
      "AUC: 0.5000\n",
      "Confusion Matrix:\n",
      "[[168   0]\n",
      " [145   0]]\n",
      "Accuracy Score: 0.536741214057508\n",
      "AUC: 0.5000\n",
      "Confusion Matrix:\n",
      "[[160   0]\n",
      " [153   0]]\n",
      "Accuracy Score: 0.5111821086261981\n",
      "AUC: 0.5000\n",
      "Confusion Matrix:\n",
      "[[170   0]\n",
      " [144   0]]\n",
      "Accuracy Score: 0.5414012738853503\n",
      "AUC: 0.5000\n",
      "Confusion Matrix:\n",
      "[[171   0]\n",
      " [142   0]]\n",
      "Accuracy Score: 0.5463258785942492\n",
      "AUC: 0.5000\n",
      "Confusion Matrix:\n",
      "[[176   0]\n",
      " [137   0]]\n",
      "Accuracy Score: 0.5623003194888179\n",
      "AUC: 0.5000\n",
      "Confusion Matrix:\n",
      "[[145   0]\n",
      " [168   0]]\n",
      "Accuracy Score: 0.46325878594249204\n",
      "AUC: 0.5000\n",
      "Confusion Matrix:\n",
      "[[157   0]\n",
      " [156   0]]\n",
      "Accuracy Score: 0.5015974440894568\n",
      "AUC: 0.5000\n",
      "Confusion Matrix:\n",
      "[[157   0]\n",
      " [156   0]]\n",
      "Accuracy Score: 0.5015974440894568\n",
      "AUC: 0.5000\n",
      "Confusion Matrix:\n",
      "[[157   0]\n",
      " [156   0]]\n",
      "Accuracy Score: 0.5015974440894568\n",
      "AUC: 0.5000\n",
      "Confusion Matrix:\n",
      "[[164   0]\n",
      " [149   0]]\n",
      "Accuracy Score: 0.5239616613418531\n",
      "AUC: 0.5000\n",
      "Confusion Matrix:\n",
      "[[167   0]\n",
      " [146   0]]\n",
      "Accuracy Score: 0.5335463258785943\n",
      "AUC: 0.5000\n",
      "Confusion Matrix:\n",
      "[[181   0]\n",
      " [132   0]]\n",
      "Accuracy Score: 0.5782747603833865\n",
      "AUC: 0.5000\n",
      "Confusion Matrix:\n",
      "[[171   0]\n",
      " [143   0]]\n",
      "Accuracy Score: 0.5445859872611465\n",
      "AUC: 0.5000\n",
      "Confusion Matrix:\n",
      "[[148   0]\n",
      " [165   0]]\n",
      "Accuracy Score: 0.4728434504792332\n",
      "AUC: 0.5000\n",
      "Confusion Matrix:\n",
      "[[169   0]\n",
      " [144   0]]\n",
      "Accuracy Score: 0.5399361022364217\n",
      "AUC: 0.5000\n",
      "Confusion Matrix:\n",
      "[[169   0]\n",
      " [144   0]]\n",
      "Accuracy Score: 0.5399361022364217\n",
      "AUC: 0.5000\n",
      "Confusion Matrix:\n",
      "[[158   0]\n",
      " [155   0]]\n",
      "Accuracy Score: 0.5047923322683706\n"
     ]
    },
    {
     "ename": "KeyboardInterrupt",
     "evalue": "",
     "output_type": "error",
     "traceback": [
      "\u001b[1;31m---------------------------------------------------------------------------\u001b[0m",
      "\u001b[1;31mKeyboardInterrupt\u001b[0m                         Traceback (most recent call last)",
      "\u001b[1;32m<ipython-input-169-e5568781110a>\u001b[0m in \u001b[0;36m<module>\u001b[1;34m\u001b[0m\n\u001b[0;32m      5\u001b[0m \u001b[1;32mfor\u001b[0m \u001b[0mconfig\u001b[0m \u001b[1;32min\u001b[0m \u001b[0mconfiguraciones_lasso\u001b[0m\u001b[1;33m:\u001b[0m\u001b[1;33m\u001b[0m\u001b[1;33m\u001b[0m\u001b[0m\n\u001b[0;32m      6\u001b[0m     \u001b[0mmodelo\u001b[0m \u001b[1;33m=\u001b[0m \u001b[0mLogisticRegression\u001b[0m\u001b[1;33m(\u001b[0m\u001b[0mmax_iter\u001b[0m\u001b[1;33m=\u001b[0m\u001b[1;36m500\u001b[0m\u001b[1;33m,\u001b[0m \u001b[1;33m**\u001b[0m\u001b[0mconfig\u001b[0m\u001b[1;33m)\u001b[0m\u001b[1;33m\u001b[0m\u001b[1;33m\u001b[0m\u001b[0m\n\u001b[1;32m----> 7\u001b[1;33m     \u001b[0mresultados\u001b[0m \u001b[1;33m=\u001b[0m \u001b[0mcross_validation\u001b[0m\u001b[1;33m(\u001b[0m\u001b[0mmodelo\u001b[0m\u001b[1;33m,\u001b[0m \u001b[0mk\u001b[0m\u001b[1;33m,\u001b[0m \u001b[0mX\u001b[0m\u001b[1;33m,\u001b[0m \u001b[0my\u001b[0m\u001b[1;33m)\u001b[0m\u001b[1;33m\u001b[0m\u001b[1;33m\u001b[0m\u001b[0m\n\u001b[0m\u001b[0;32m      8\u001b[0m     \u001b[0mecm_part\u001b[0m \u001b[1;33m=\u001b[0m \u001b[0mresultados\u001b[0m\u001b[1;33m[\u001b[0m\u001b[1;33m[\u001b[0m\u001b[1;34m'Particion'\u001b[0m\u001b[1;33m,\u001b[0m \u001b[1;34m'MSE'\u001b[0m\u001b[1;33m]\u001b[0m\u001b[1;33m]\u001b[0m\u001b[1;33m\u001b[0m\u001b[1;33m\u001b[0m\u001b[0m\n\u001b[0;32m      9\u001b[0m     \u001b[0mdist_lasso\u001b[0m\u001b[1;33m.\u001b[0m\u001b[0mappend\u001b[0m\u001b[1;33m(\u001b[0m\u001b[0mecm_part\u001b[0m\u001b[1;33m)\u001b[0m\u001b[1;33m\u001b[0m\u001b[1;33m\u001b[0m\u001b[0m\n",
      "\u001b[1;32m<ipython-input-147-698d8aa760b8>\u001b[0m in \u001b[0;36mcross_validation\u001b[1;34m(modelo, k, x, y, std, coef)\u001b[0m\n\u001b[0;32m     18\u001b[0m \u001b[1;33m\u001b[0m\u001b[0m\n\u001b[0;32m     19\u001b[0m         \u001b[1;31m# Llamar a evalua_metodo para calcular las métricas\u001b[0m\u001b[1;33m\u001b[0m\u001b[1;33m\u001b[0m\u001b[1;33m\u001b[0m\u001b[0m\n\u001b[1;32m---> 20\u001b[1;33m         \u001b[0mmetrics\u001b[0m \u001b[1;33m=\u001b[0m \u001b[0mevalua_metodo\u001b[0m\u001b[1;33m(\u001b[0m\u001b[0mmodelo\u001b[0m\u001b[1;33m,\u001b[0m \u001b[0mx_train\u001b[0m\u001b[1;33m,\u001b[0m \u001b[0my_train\u001b[0m\u001b[1;33m,\u001b[0m \u001b[0mx_test\u001b[0m\u001b[1;33m,\u001b[0m \u001b[0my_test\u001b[0m\u001b[1;33m,\u001b[0m \u001b[0mplot\u001b[0m\u001b[1;33m=\u001b[0m\u001b[1;32mFalse\u001b[0m\u001b[1;33m,\u001b[0m \u001b[0mcoef\u001b[0m\u001b[1;33m=\u001b[0m\u001b[0mcoef\u001b[0m\u001b[1;33m)\u001b[0m\u001b[1;33m\u001b[0m\u001b[1;33m\u001b[0m\u001b[0m\n\u001b[0m\u001b[0;32m     21\u001b[0m \u001b[1;33m\u001b[0m\u001b[0m\n\u001b[0;32m     22\u001b[0m         \u001b[1;31m# Extraer las métricas calculadas en evalua_metodo\u001b[0m\u001b[1;33m\u001b[0m\u001b[1;33m\u001b[0m\u001b[1;33m\u001b[0m\u001b[0m\n",
      "\u001b[1;32m<ipython-input-146-4b8df517db9d>\u001b[0m in \u001b[0;36mevalua_metodo\u001b[1;34m(model, X_train, y_train, X_test, y_test, plot, coef)\u001b[0m\n\u001b[0;32m      4\u001b[0m \u001b[1;33m\u001b[0m\u001b[0m\n\u001b[0;32m      5\u001b[0m     \u001b[1;31m# Ajustar el modelo con los datos de entrenamiento\u001b[0m\u001b[1;33m\u001b[0m\u001b[1;33m\u001b[0m\u001b[1;33m\u001b[0m\u001b[0m\n\u001b[1;32m----> 6\u001b[1;33m     \u001b[0mmodel_fit\u001b[0m \u001b[1;33m=\u001b[0m \u001b[0mmodel_to_evaluate\u001b[0m\u001b[1;33m.\u001b[0m\u001b[0mfit\u001b[0m\u001b[1;33m(\u001b[0m\u001b[0mX_train\u001b[0m\u001b[1;33m,\u001b[0m \u001b[0my_train\u001b[0m\u001b[1;33m)\u001b[0m\u001b[1;33m\u001b[0m\u001b[1;33m\u001b[0m\u001b[0m\n\u001b[0m\u001b[0;32m      7\u001b[0m \u001b[1;33m\u001b[0m\u001b[0m\n\u001b[0;32m      8\u001b[0m     \u001b[1;31m# Predecir en el conjunto de prueba\u001b[0m\u001b[1;33m\u001b[0m\u001b[1;33m\u001b[0m\u001b[1;33m\u001b[0m\u001b[0m\n",
      "\u001b[1;32m~\\anaconda3\\lib\\site-packages\\sklearn\\linear_model\\_logistic.py\u001b[0m in \u001b[0;36mfit\u001b[1;34m(self, X, y, sample_weight)\u001b[0m\n\u001b[0;32m   1404\u001b[0m         \u001b[1;32melse\u001b[0m\u001b[1;33m:\u001b[0m\u001b[1;33m\u001b[0m\u001b[1;33m\u001b[0m\u001b[0m\n\u001b[0;32m   1405\u001b[0m             \u001b[0mprefer\u001b[0m \u001b[1;33m=\u001b[0m \u001b[1;34m'processes'\u001b[0m\u001b[1;33m\u001b[0m\u001b[1;33m\u001b[0m\u001b[0m\n\u001b[1;32m-> 1406\u001b[1;33m         fold_coefs_ = Parallel(n_jobs=self.n_jobs, verbose=self.verbose,\n\u001b[0m\u001b[0;32m   1407\u001b[0m                                \u001b[1;33m**\u001b[0m\u001b[0m_joblib_parallel_args\u001b[0m\u001b[1;33m(\u001b[0m\u001b[0mprefer\u001b[0m\u001b[1;33m=\u001b[0m\u001b[0mprefer\u001b[0m\u001b[1;33m)\u001b[0m\u001b[1;33m)\u001b[0m\u001b[1;33m(\u001b[0m\u001b[1;33m\u001b[0m\u001b[1;33m\u001b[0m\u001b[0m\n\u001b[0;32m   1408\u001b[0m             path_func(X, y, pos_class=class_, Cs=[C_],\n",
      "\u001b[1;32m~\\anaconda3\\lib\\site-packages\\joblib\\parallel.py\u001b[0m in \u001b[0;36m__call__\u001b[1;34m(self, iterable)\u001b[0m\n\u001b[0;32m   1039\u001b[0m             \u001b[1;31m# remaining jobs.\u001b[0m\u001b[1;33m\u001b[0m\u001b[1;33m\u001b[0m\u001b[1;33m\u001b[0m\u001b[0m\n\u001b[0;32m   1040\u001b[0m             \u001b[0mself\u001b[0m\u001b[1;33m.\u001b[0m\u001b[0m_iterating\u001b[0m \u001b[1;33m=\u001b[0m \u001b[1;32mFalse\u001b[0m\u001b[1;33m\u001b[0m\u001b[1;33m\u001b[0m\u001b[0m\n\u001b[1;32m-> 1041\u001b[1;33m             \u001b[1;32mif\u001b[0m \u001b[0mself\u001b[0m\u001b[1;33m.\u001b[0m\u001b[0mdispatch_one_batch\u001b[0m\u001b[1;33m(\u001b[0m\u001b[0miterator\u001b[0m\u001b[1;33m)\u001b[0m\u001b[1;33m:\u001b[0m\u001b[1;33m\u001b[0m\u001b[1;33m\u001b[0m\u001b[0m\n\u001b[0m\u001b[0;32m   1042\u001b[0m                 \u001b[0mself\u001b[0m\u001b[1;33m.\u001b[0m\u001b[0m_iterating\u001b[0m \u001b[1;33m=\u001b[0m \u001b[0mself\u001b[0m\u001b[1;33m.\u001b[0m\u001b[0m_original_iterator\u001b[0m \u001b[1;32mis\u001b[0m \u001b[1;32mnot\u001b[0m \u001b[1;32mNone\u001b[0m\u001b[1;33m\u001b[0m\u001b[1;33m\u001b[0m\u001b[0m\n\u001b[0;32m   1043\u001b[0m \u001b[1;33m\u001b[0m\u001b[0m\n",
      "\u001b[1;32m~\\anaconda3\\lib\\site-packages\\joblib\\parallel.py\u001b[0m in \u001b[0;36mdispatch_one_batch\u001b[1;34m(self, iterator)\u001b[0m\n\u001b[0;32m    857\u001b[0m                 \u001b[1;32mreturn\u001b[0m \u001b[1;32mFalse\u001b[0m\u001b[1;33m\u001b[0m\u001b[1;33m\u001b[0m\u001b[0m\n\u001b[0;32m    858\u001b[0m             \u001b[1;32melse\u001b[0m\u001b[1;33m:\u001b[0m\u001b[1;33m\u001b[0m\u001b[1;33m\u001b[0m\u001b[0m\n\u001b[1;32m--> 859\u001b[1;33m                 \u001b[0mself\u001b[0m\u001b[1;33m.\u001b[0m\u001b[0m_dispatch\u001b[0m\u001b[1;33m(\u001b[0m\u001b[0mtasks\u001b[0m\u001b[1;33m)\u001b[0m\u001b[1;33m\u001b[0m\u001b[1;33m\u001b[0m\u001b[0m\n\u001b[0m\u001b[0;32m    860\u001b[0m                 \u001b[1;32mreturn\u001b[0m \u001b[1;32mTrue\u001b[0m\u001b[1;33m\u001b[0m\u001b[1;33m\u001b[0m\u001b[0m\n\u001b[0;32m    861\u001b[0m \u001b[1;33m\u001b[0m\u001b[0m\n",
      "\u001b[1;32m~\\anaconda3\\lib\\site-packages\\joblib\\parallel.py\u001b[0m in \u001b[0;36m_dispatch\u001b[1;34m(self, batch)\u001b[0m\n\u001b[0;32m    775\u001b[0m         \u001b[1;32mwith\u001b[0m \u001b[0mself\u001b[0m\u001b[1;33m.\u001b[0m\u001b[0m_lock\u001b[0m\u001b[1;33m:\u001b[0m\u001b[1;33m\u001b[0m\u001b[1;33m\u001b[0m\u001b[0m\n\u001b[0;32m    776\u001b[0m             \u001b[0mjob_idx\u001b[0m \u001b[1;33m=\u001b[0m \u001b[0mlen\u001b[0m\u001b[1;33m(\u001b[0m\u001b[0mself\u001b[0m\u001b[1;33m.\u001b[0m\u001b[0m_jobs\u001b[0m\u001b[1;33m)\u001b[0m\u001b[1;33m\u001b[0m\u001b[1;33m\u001b[0m\u001b[0m\n\u001b[1;32m--> 777\u001b[1;33m             \u001b[0mjob\u001b[0m \u001b[1;33m=\u001b[0m \u001b[0mself\u001b[0m\u001b[1;33m.\u001b[0m\u001b[0m_backend\u001b[0m\u001b[1;33m.\u001b[0m\u001b[0mapply_async\u001b[0m\u001b[1;33m(\u001b[0m\u001b[0mbatch\u001b[0m\u001b[1;33m,\u001b[0m \u001b[0mcallback\u001b[0m\u001b[1;33m=\u001b[0m\u001b[0mcb\u001b[0m\u001b[1;33m)\u001b[0m\u001b[1;33m\u001b[0m\u001b[1;33m\u001b[0m\u001b[0m\n\u001b[0m\u001b[0;32m    778\u001b[0m             \u001b[1;31m# A job can complete so quickly than its callback is\u001b[0m\u001b[1;33m\u001b[0m\u001b[1;33m\u001b[0m\u001b[1;33m\u001b[0m\u001b[0m\n\u001b[0;32m    779\u001b[0m             \u001b[1;31m# called before we get here, causing self._jobs to\u001b[0m\u001b[1;33m\u001b[0m\u001b[1;33m\u001b[0m\u001b[1;33m\u001b[0m\u001b[0m\n",
      "\u001b[1;32m~\\anaconda3\\lib\\site-packages\\joblib\\_parallel_backends.py\u001b[0m in \u001b[0;36mapply_async\u001b[1;34m(self, func, callback)\u001b[0m\n\u001b[0;32m    206\u001b[0m     \u001b[1;32mdef\u001b[0m \u001b[0mapply_async\u001b[0m\u001b[1;33m(\u001b[0m\u001b[0mself\u001b[0m\u001b[1;33m,\u001b[0m \u001b[0mfunc\u001b[0m\u001b[1;33m,\u001b[0m \u001b[0mcallback\u001b[0m\u001b[1;33m=\u001b[0m\u001b[1;32mNone\u001b[0m\u001b[1;33m)\u001b[0m\u001b[1;33m:\u001b[0m\u001b[1;33m\u001b[0m\u001b[1;33m\u001b[0m\u001b[0m\n\u001b[0;32m    207\u001b[0m         \u001b[1;34m\"\"\"Schedule a func to be run\"\"\"\u001b[0m\u001b[1;33m\u001b[0m\u001b[1;33m\u001b[0m\u001b[0m\n\u001b[1;32m--> 208\u001b[1;33m         \u001b[0mresult\u001b[0m \u001b[1;33m=\u001b[0m \u001b[0mImmediateResult\u001b[0m\u001b[1;33m(\u001b[0m\u001b[0mfunc\u001b[0m\u001b[1;33m)\u001b[0m\u001b[1;33m\u001b[0m\u001b[1;33m\u001b[0m\u001b[0m\n\u001b[0m\u001b[0;32m    209\u001b[0m         \u001b[1;32mif\u001b[0m \u001b[0mcallback\u001b[0m\u001b[1;33m:\u001b[0m\u001b[1;33m\u001b[0m\u001b[1;33m\u001b[0m\u001b[0m\n\u001b[0;32m    210\u001b[0m             \u001b[0mcallback\u001b[0m\u001b[1;33m(\u001b[0m\u001b[0mresult\u001b[0m\u001b[1;33m)\u001b[0m\u001b[1;33m\u001b[0m\u001b[1;33m\u001b[0m\u001b[0m\n",
      "\u001b[1;32m~\\anaconda3\\lib\\site-packages\\joblib\\_parallel_backends.py\u001b[0m in \u001b[0;36m__init__\u001b[1;34m(self, batch)\u001b[0m\n\u001b[0;32m    570\u001b[0m         \u001b[1;31m# Don't delay the application, to avoid keeping the input\u001b[0m\u001b[1;33m\u001b[0m\u001b[1;33m\u001b[0m\u001b[1;33m\u001b[0m\u001b[0m\n\u001b[0;32m    571\u001b[0m         \u001b[1;31m# arguments in memory\u001b[0m\u001b[1;33m\u001b[0m\u001b[1;33m\u001b[0m\u001b[1;33m\u001b[0m\u001b[0m\n\u001b[1;32m--> 572\u001b[1;33m         \u001b[0mself\u001b[0m\u001b[1;33m.\u001b[0m\u001b[0mresults\u001b[0m \u001b[1;33m=\u001b[0m \u001b[0mbatch\u001b[0m\u001b[1;33m(\u001b[0m\u001b[1;33m)\u001b[0m\u001b[1;33m\u001b[0m\u001b[1;33m\u001b[0m\u001b[0m\n\u001b[0m\u001b[0;32m    573\u001b[0m \u001b[1;33m\u001b[0m\u001b[0m\n\u001b[0;32m    574\u001b[0m     \u001b[1;32mdef\u001b[0m \u001b[0mget\u001b[0m\u001b[1;33m(\u001b[0m\u001b[0mself\u001b[0m\u001b[1;33m)\u001b[0m\u001b[1;33m:\u001b[0m\u001b[1;33m\u001b[0m\u001b[1;33m\u001b[0m\u001b[0m\n",
      "\u001b[1;32m~\\anaconda3\\lib\\site-packages\\joblib\\parallel.py\u001b[0m in \u001b[0;36m__call__\u001b[1;34m(self)\u001b[0m\n\u001b[0;32m    260\u001b[0m         \u001b[1;31m# change the default number of processes to -1\u001b[0m\u001b[1;33m\u001b[0m\u001b[1;33m\u001b[0m\u001b[1;33m\u001b[0m\u001b[0m\n\u001b[0;32m    261\u001b[0m         \u001b[1;32mwith\u001b[0m \u001b[0mparallel_backend\u001b[0m\u001b[1;33m(\u001b[0m\u001b[0mself\u001b[0m\u001b[1;33m.\u001b[0m\u001b[0m_backend\u001b[0m\u001b[1;33m,\u001b[0m \u001b[0mn_jobs\u001b[0m\u001b[1;33m=\u001b[0m\u001b[0mself\u001b[0m\u001b[1;33m.\u001b[0m\u001b[0m_n_jobs\u001b[0m\u001b[1;33m)\u001b[0m\u001b[1;33m:\u001b[0m\u001b[1;33m\u001b[0m\u001b[1;33m\u001b[0m\u001b[0m\n\u001b[1;32m--> 262\u001b[1;33m             return [func(*args, **kwargs)\n\u001b[0m\u001b[0;32m    263\u001b[0m                     for func, args, kwargs in self.items]\n\u001b[0;32m    264\u001b[0m \u001b[1;33m\u001b[0m\u001b[0m\n",
      "\u001b[1;32m~\\anaconda3\\lib\\site-packages\\joblib\\parallel.py\u001b[0m in \u001b[0;36m<listcomp>\u001b[1;34m(.0)\u001b[0m\n\u001b[0;32m    260\u001b[0m         \u001b[1;31m# change the default number of processes to -1\u001b[0m\u001b[1;33m\u001b[0m\u001b[1;33m\u001b[0m\u001b[1;33m\u001b[0m\u001b[0m\n\u001b[0;32m    261\u001b[0m         \u001b[1;32mwith\u001b[0m \u001b[0mparallel_backend\u001b[0m\u001b[1;33m(\u001b[0m\u001b[0mself\u001b[0m\u001b[1;33m.\u001b[0m\u001b[0m_backend\u001b[0m\u001b[1;33m,\u001b[0m \u001b[0mn_jobs\u001b[0m\u001b[1;33m=\u001b[0m\u001b[0mself\u001b[0m\u001b[1;33m.\u001b[0m\u001b[0m_n_jobs\u001b[0m\u001b[1;33m)\u001b[0m\u001b[1;33m:\u001b[0m\u001b[1;33m\u001b[0m\u001b[1;33m\u001b[0m\u001b[0m\n\u001b[1;32m--> 262\u001b[1;33m             return [func(*args, **kwargs)\n\u001b[0m\u001b[0;32m    263\u001b[0m                     for func, args, kwargs in self.items]\n\u001b[0;32m    264\u001b[0m \u001b[1;33m\u001b[0m\u001b[0m\n",
      "\u001b[1;32m~\\anaconda3\\lib\\site-packages\\sklearn\\utils\\fixes.py\u001b[0m in \u001b[0;36m__call__\u001b[1;34m(self, *args, **kwargs)\u001b[0m\n\u001b[0;32m    220\u001b[0m     \u001b[1;32mdef\u001b[0m \u001b[0m__call__\u001b[0m\u001b[1;33m(\u001b[0m\u001b[0mself\u001b[0m\u001b[1;33m,\u001b[0m \u001b[1;33m*\u001b[0m\u001b[0margs\u001b[0m\u001b[1;33m,\u001b[0m \u001b[1;33m**\u001b[0m\u001b[0mkwargs\u001b[0m\u001b[1;33m)\u001b[0m\u001b[1;33m:\u001b[0m\u001b[1;33m\u001b[0m\u001b[1;33m\u001b[0m\u001b[0m\n\u001b[0;32m    221\u001b[0m         \u001b[1;32mwith\u001b[0m \u001b[0mconfig_context\u001b[0m\u001b[1;33m(\u001b[0m\u001b[1;33m**\u001b[0m\u001b[0mself\u001b[0m\u001b[1;33m.\u001b[0m\u001b[0mconfig\u001b[0m\u001b[1;33m)\u001b[0m\u001b[1;33m:\u001b[0m\u001b[1;33m\u001b[0m\u001b[1;33m\u001b[0m\u001b[0m\n\u001b[1;32m--> 222\u001b[1;33m             \u001b[1;32mreturn\u001b[0m \u001b[0mself\u001b[0m\u001b[1;33m.\u001b[0m\u001b[0mfunction\u001b[0m\u001b[1;33m(\u001b[0m\u001b[1;33m*\u001b[0m\u001b[0margs\u001b[0m\u001b[1;33m,\u001b[0m \u001b[1;33m**\u001b[0m\u001b[0mkwargs\u001b[0m\u001b[1;33m)\u001b[0m\u001b[1;33m\u001b[0m\u001b[1;33m\u001b[0m\u001b[0m\n\u001b[0m",
      "\u001b[1;32m~\\anaconda3\\lib\\site-packages\\sklearn\\linear_model\\_logistic.py\u001b[0m in \u001b[0;36m_logistic_regression_path\u001b[1;34m(X, y, pos_class, Cs, fit_intercept, max_iter, tol, verbose, solver, coef, class_weight, dual, penalty, intercept_scaling, multi_class, random_state, check_input, max_squared_sum, sample_weight, l1_ratio)\u001b[0m\n\u001b[0;32m    796\u001b[0m                 \u001b[0mbeta\u001b[0m \u001b[1;33m=\u001b[0m \u001b[1;33m(\u001b[0m\u001b[1;36m1.\u001b[0m \u001b[1;33m/\u001b[0m \u001b[0mC\u001b[0m\u001b[1;33m)\u001b[0m \u001b[1;33m*\u001b[0m \u001b[0ml1_ratio\u001b[0m\u001b[1;33m\u001b[0m\u001b[1;33m\u001b[0m\u001b[0m\n\u001b[0;32m    797\u001b[0m \u001b[1;33m\u001b[0m\u001b[0m\n\u001b[1;32m--> 798\u001b[1;33m             w0, n_iter_i, warm_start_sag = sag_solver(\n\u001b[0m\u001b[0;32m    799\u001b[0m                 \u001b[0mX\u001b[0m\u001b[1;33m,\u001b[0m \u001b[0mtarget\u001b[0m\u001b[1;33m,\u001b[0m \u001b[0msample_weight\u001b[0m\u001b[1;33m,\u001b[0m \u001b[0mloss\u001b[0m\u001b[1;33m,\u001b[0m \u001b[0malpha\u001b[0m\u001b[1;33m,\u001b[0m\u001b[1;33m\u001b[0m\u001b[1;33m\u001b[0m\u001b[0m\n\u001b[0;32m    800\u001b[0m                 \u001b[0mbeta\u001b[0m\u001b[1;33m,\u001b[0m \u001b[0mmax_iter\u001b[0m\u001b[1;33m,\u001b[0m \u001b[0mtol\u001b[0m\u001b[1;33m,\u001b[0m\u001b[1;33m\u001b[0m\u001b[1;33m\u001b[0m\u001b[0m\n",
      "\u001b[1;32m~\\anaconda3\\lib\\site-packages\\sklearn\\utils\\validation.py\u001b[0m in \u001b[0;36minner_f\u001b[1;34m(*args, **kwargs)\u001b[0m\n\u001b[0;32m     61\u001b[0m             \u001b[0mextra_args\u001b[0m \u001b[1;33m=\u001b[0m \u001b[0mlen\u001b[0m\u001b[1;33m(\u001b[0m\u001b[0margs\u001b[0m\u001b[1;33m)\u001b[0m \u001b[1;33m-\u001b[0m \u001b[0mlen\u001b[0m\u001b[1;33m(\u001b[0m\u001b[0mall_args\u001b[0m\u001b[1;33m)\u001b[0m\u001b[1;33m\u001b[0m\u001b[1;33m\u001b[0m\u001b[0m\n\u001b[0;32m     62\u001b[0m             \u001b[1;32mif\u001b[0m \u001b[0mextra_args\u001b[0m \u001b[1;33m<=\u001b[0m \u001b[1;36m0\u001b[0m\u001b[1;33m:\u001b[0m\u001b[1;33m\u001b[0m\u001b[1;33m\u001b[0m\u001b[0m\n\u001b[1;32m---> 63\u001b[1;33m                 \u001b[1;32mreturn\u001b[0m \u001b[0mf\u001b[0m\u001b[1;33m(\u001b[0m\u001b[1;33m*\u001b[0m\u001b[0margs\u001b[0m\u001b[1;33m,\u001b[0m \u001b[1;33m**\u001b[0m\u001b[0mkwargs\u001b[0m\u001b[1;33m)\u001b[0m\u001b[1;33m\u001b[0m\u001b[1;33m\u001b[0m\u001b[0m\n\u001b[0m\u001b[0;32m     64\u001b[0m \u001b[1;33m\u001b[0m\u001b[0m\n\u001b[0;32m     65\u001b[0m             \u001b[1;31m# extra_args > 0\u001b[0m\u001b[1;33m\u001b[0m\u001b[1;33m\u001b[0m\u001b[1;33m\u001b[0m\u001b[0m\n",
      "\u001b[1;32m~\\anaconda3\\lib\\site-packages\\sklearn\\linear_model\\_sag.py\u001b[0m in \u001b[0;36msag_solver\u001b[1;34m(X, y, sample_weight, loss, alpha, beta, max_iter, tol, verbose, random_state, check_input, max_squared_sum, warm_start_mem, is_saga)\u001b[0m\n\u001b[0;32m    308\u001b[0m \u001b[1;33m\u001b[0m\u001b[0m\n\u001b[0;32m    309\u001b[0m     \u001b[0msag\u001b[0m \u001b[1;33m=\u001b[0m \u001b[0msag64\u001b[0m \u001b[1;32mif\u001b[0m \u001b[0mX\u001b[0m\u001b[1;33m.\u001b[0m\u001b[0mdtype\u001b[0m \u001b[1;33m==\u001b[0m \u001b[0mnp\u001b[0m\u001b[1;33m.\u001b[0m\u001b[0mfloat64\u001b[0m \u001b[1;32melse\u001b[0m \u001b[0msag32\u001b[0m\u001b[1;33m\u001b[0m\u001b[1;33m\u001b[0m\u001b[0m\n\u001b[1;32m--> 310\u001b[1;33m     num_seen, n_iter_ = sag(dataset, coef_init,\n\u001b[0m\u001b[0;32m    311\u001b[0m                             \u001b[0mintercept_init\u001b[0m\u001b[1;33m,\u001b[0m \u001b[0mn_samples\u001b[0m\u001b[1;33m,\u001b[0m\u001b[1;33m\u001b[0m\u001b[1;33m\u001b[0m\u001b[0m\n\u001b[0;32m    312\u001b[0m                             \u001b[0mn_features\u001b[0m\u001b[1;33m,\u001b[0m \u001b[0mn_classes\u001b[0m\u001b[1;33m,\u001b[0m \u001b[0mtol\u001b[0m\u001b[1;33m,\u001b[0m\u001b[1;33m\u001b[0m\u001b[1;33m\u001b[0m\u001b[0m\n",
      "\u001b[1;31mKeyboardInterrupt\u001b[0m: "
     ]
    }
   ],
   "source": [
    "k = 10\n",
    "dist_lasso = []\n",
    "\n",
    "# Generaremos dos gráficos, uno por método. En cada gráfico, se muestra la distribución del error de predicción (definido como MSE) según el hiperparámetro lambda.\n",
    "for config in configuraciones_lasso:\n",
    "    modelo = LogisticRegression(max_iter=500, **config)\n",
    "    resultados = cross_validation(modelo, k, X, y)\n",
    "    ecm_part = resultados[['Particion', 'MSE']]\n",
    "    dist_lasso.append(ecm_part)\n",
    "\n",
    "# Crear un gráfico con 10 boxplots\n",
    "fig, ax = plt.subplots(figsize=(10, 6))\n",
    "# Recopilar todas las distribuciones de MSE\n",
    "mse_data = [ecm_part['MSE'].values for ecm_part in dist_lasso]\n",
    "\n",
    "# Crear los boxplots y agregarlos al gráfico\n",
    "boxplots = ax.boxplot(mse_data, patch_artist=True)\n",
    "\n",
    "# Personalizar los colores de los boxplots\n",
    "colors = ['lightblue', 'lightgreen', 'lightcoral', 'lightpink', 'lightyellow', 'lightgray', 'lightcyan', 'lightmagenta', 'lightsalmon', 'lightseagreen']\n",
    "for patch, color in zip(boxplots['boxes'], colors):\n",
    "    patch.set_facecolor(color)\n",
    "# Lista de etiquetas para los boxplots\n",
    "ax.xaxis.set(ticklabels=[0.00001,0.0001,0.001,0.01,0.1,1,10,100,1000,10000,100000])\n",
    "# Configurar el gráfico\n",
    "ax.set(title='Distribuciones de MSE, según el parámetro lambda', xlabel='Lambdas', ylabel='MSE')\n",
    "\n"
   ]
  },
  {
   "cell_type": "code",
   "execution_count": null,
   "id": "74b8cc7a",
   "metadata": {},
   "outputs": [],
   "source": [
    "k = 10\n",
    "dist_ridge = []\n",
    "\n",
    "# Generaremos dos gráficos, uno por método. En cada gráfico, se muestra la distribución del error de predicción (definido como MSE) según el hiperparámetro lambda.\n",
    "for config in configuraciones_ridge:\n",
    "    modelo = LogisticRegression(max_iter=500, **config)\n",
    "    resultados = cross_validation(modelo, k, X, y)\n",
    "    ecm_part = resultados[['Particion', 'MSE']]\n",
    "    dist_ridge.append(ecm_part)\n",
    "\n",
    "# Crear un gráfico con 10 boxplots\n",
    "fig, ax = plt.subplots(figsize=(10, 6))\n",
    "\n",
    "# Lista de etiquetas para los boxplots\n",
    "#labels = [f'DataFrame {i + 1}' for i in range(10)]\n",
    "\n",
    "# Recopilar todas las distribuciones de MSE\n",
    "mse_data = [ecm_part['MSE'].values for ecm_part in dist_ridge]\n",
    "\n",
    "# Crear los boxplots y agregarlos al gráfico\n",
    "boxplots = ax.boxplot(mse_data, patch_artist=True)\n",
    "\n",
    "# Personalizar los colores de los boxplots\n",
    "colors = ['lightblue', 'lightgreen', 'lightcoral', 'lightpink', 'lightyellow', 'lightgray', 'lightcyan', 'lightmagenta', 'lightsalmon', 'lightseagreen']\n",
    "for patch, color in zip(boxplots['boxes'], colors):\n",
    "    patch.set_facecolor(color)\n",
    "\n",
    "# Configurar el gráfico\n",
    "ax.set(title='Distribuciones de MSE, según el parámetro lambda', xlabel='Lambdas', ylabel='MSE')"
   ]
  },
  {
   "cell_type": "code",
   "execution_count": null,
   "id": "b1c2124a",
   "metadata": {},
   "outputs": [],
   "source": [
    "for config in configuraciones_lasso\n",
    "    modelo = LogisticRegression(max_iter=500, **config)\n",
    "    resultados = cross_validation(modelo, 10, X, y,coef=True)\n",
    "    prop_part = resultados[['Particion','proporcion_variables_cero']]\n",
    "    dist_lasso.append(prop_part) \n",
    "\n",
    "# Crear un gráfico con 10 boxplots\n",
    "fig, ax = plt.subplots(figsize=(10, 6))\n",
    "\n",
    "# Recopilar todas las distribuciones de MSE\n",
    "prop_data = [prop_part['proporcion_variables_cero'].values for prop_part in dist_lasso]\n",
    "\n",
    "# Crear los boxplots y agregarlos al gráfico\n",
    "boxplots = ax.boxplot(prop_data, patch_artist=True)\n",
    "\n",
    "# Personalizar los colores de los boxplots\n",
    "colors = ['lightblue', 'lightgreen', 'lightcoral', 'lightpink', 'lightyellow', 'lightgray', 'lightcyan', 'lightmagenta', 'lightsalmon', 'lightseagreen']\n",
    "for patch, color in zip(boxplots['boxes'], colors):\n",
    "    patch.set_facecolor(color)\n",
    "# Lista de etiquetas para los boxplots\n",
    "ax.xaxis.set(ticklabels=[0.00001,0.0001,0.001,0.01,0.1,1,10,100,1000,10000,100000])\n",
    "# Configurar el gráfico\n",
    "ax.set(title='Distribuciones de proporción de coeficientes estimados iguales a 0, según el parámetro lambda', xlabel='Lambdas', ylabel='MSE')"
   ]
  },
  {
   "cell_type": "markdown",
   "id": "93e47838",
   "metadata": {},
   "source": [
    "## Ejercicio 6"
   ]
  },
  {
   "cell_type": "code",
   "execution_count": null,
   "id": "7289a672",
   "metadata": {},
   "outputs": [],
   "source": [
    "## Respondemos esto en el reporte"
   ]
  },
  {
   "cell_type": "markdown",
   "id": "8051b208",
   "metadata": {},
   "source": [
    "## Ejercicio 7"
   ]
  },
  {
   "cell_type": "code",
   "execution_count": null,
   "id": "29c1a567",
   "metadata": {},
   "outputs": [],
   "source": [
    "## No se si hacer full texto o si correr algo aqui"
   ]
  },
  {
   "cell_type": "markdown",
   "id": "72857e90",
   "metadata": {},
   "source": [
    "## Ejercicio 8"
   ]
  },
  {
   "cell_type": "code",
   "execution_count": null,
   "id": "3bf79410",
   "metadata": {},
   "outputs": [],
   "source": [
    "## No se si hacer full texto o si correr algo aqui"
   ]
  },
  {
   "cell_type": "markdown",
   "id": "54d82894",
   "metadata": {},
   "source": [
    "## Ejercicio 9"
   ]
  },
  {
   "cell_type": "code",
   "execution_count": null,
   "id": "26f8aaf4",
   "metadata": {},
   "outputs": [],
   "source": [
    "#Con el metodo que seleccionaron, predigan qu´e personas son pobres dentro de la base norespondieron. ¿Qu´e proporci´on de los hogares son pobres en esa\n",
    "#submuestra?"
   ]
  }
 ],
 "metadata": {
  "kernelspec": {
   "display_name": "Python 3",
   "language": "python",
   "name": "python3"
  },
  "language_info": {
   "codemirror_mode": {
    "name": "ipython",
    "version": 3
   },
   "file_extension": ".py",
   "mimetype": "text/x-python",
   "name": "python",
   "nbconvert_exporter": "python",
   "pygments_lexer": "ipython3",
   "version": "3.8.8"
  }
 },
 "nbformat": 4,
 "nbformat_minor": 5
}
