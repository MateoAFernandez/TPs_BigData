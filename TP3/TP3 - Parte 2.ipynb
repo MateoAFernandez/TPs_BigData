{
 "cells": [
  {
   "cell_type": "markdown",
   "metadata": {
    "collapsed": true,
    "id": "Dh8MkXaG-c9Y"
   },
   "source": [
    "## Curso de Big Data\n",
    "\n",
    "## Trabajo Práctico 3 - Parte 2\n",
    "\n",
    "### Grupo:  Armas Braithwaite, Fernández, Menta, Vargas Ochuza"
   ]
  },
  {
   "cell_type": "code",
   "execution_count": 66,
   "metadata": {},
   "outputs": [],
   "source": [
    "import pandas as pd\n",
    "import numpy as np\n",
    "#from ISLP import load_data\n",
    "\n",
    "from matplotlib import pyplot as plt\n",
    "\n",
    "from sklearn.model_selection import train_test_split\n",
    "from sklearn.linear_model import LinearRegression\n",
    "from sklearn.preprocessing import PolynomialFeatures \n",
    "from sklearn.metrics import mean_squared_error\n",
    "from sklearn.linear_model import LogisticRegression\n",
    "from sklearn.metrics import confusion_matrix, roc_curve, auc, accuracy_score\n",
    "from sklearn.datasets import load_breast_cancer\n",
    "from sklearn.model_selection import train_test_split\n",
    "from sklearn.model_selection import KFold\n",
    "from sklearn.discriminant_analysis import LinearDiscriminantAnalysis\n",
    "from sklearn.neighbors import KNeighborsClassifier\n",
    "import statsmodels.api as sm"
   ]
  },
  {
   "cell_type": "markdown",
   "metadata": {},
   "source": [
    "## Ejercicio 1"
   ]
  },
  {
   "cell_type": "code",
   "execution_count": 61,
   "metadata": {},
   "outputs": [],
   "source": [
    "# Cargamos una base de internet para probar la función. \n",
    "url = \"https://raw.githubusercontent.com/datasciencedojo/datasets/master/titanic.csv\"\n",
    "titanic_df = pd.read_csv(url)"
   ]
  },
  {
   "cell_type": "code",
   "execution_count": 62,
   "metadata": {},
   "outputs": [
    {
     "data": {
      "text/html": [
       "<div>\n",
       "<style scoped>\n",
       "    .dataframe tbody tr th:only-of-type {\n",
       "        vertical-align: middle;\n",
       "    }\n",
       "\n",
       "    .dataframe tbody tr th {\n",
       "        vertical-align: top;\n",
       "    }\n",
       "\n",
       "    .dataframe thead th {\n",
       "        text-align: right;\n",
       "    }\n",
       "</style>\n",
       "<table border=\"1\" class=\"dataframe\">\n",
       "  <thead>\n",
       "    <tr style=\"text-align: right;\">\n",
       "      <th></th>\n",
       "      <th>PassengerId</th>\n",
       "      <th>Survived</th>\n",
       "      <th>Pclass</th>\n",
       "      <th>Name</th>\n",
       "      <th>Sex</th>\n",
       "      <th>Age</th>\n",
       "      <th>SibSp</th>\n",
       "      <th>Parch</th>\n",
       "      <th>Ticket</th>\n",
       "      <th>Fare</th>\n",
       "      <th>Cabin</th>\n",
       "      <th>Embarked</th>\n",
       "    </tr>\n",
       "  </thead>\n",
       "  <tbody>\n",
       "    <tr>\n",
       "      <th>0</th>\n",
       "      <td>1</td>\n",
       "      <td>0</td>\n",
       "      <td>3</td>\n",
       "      <td>Braund, Mr. Owen Harris</td>\n",
       "      <td>male</td>\n",
       "      <td>22.0</td>\n",
       "      <td>1</td>\n",
       "      <td>0</td>\n",
       "      <td>A/5 21171</td>\n",
       "      <td>7.2500</td>\n",
       "      <td>NaN</td>\n",
       "      <td>S</td>\n",
       "    </tr>\n",
       "    <tr>\n",
       "      <th>1</th>\n",
       "      <td>2</td>\n",
       "      <td>1</td>\n",
       "      <td>1</td>\n",
       "      <td>Cumings, Mrs. John Bradley (Florence Briggs Th...</td>\n",
       "      <td>female</td>\n",
       "      <td>38.0</td>\n",
       "      <td>1</td>\n",
       "      <td>0</td>\n",
       "      <td>PC 17599</td>\n",
       "      <td>71.2833</td>\n",
       "      <td>C85</td>\n",
       "      <td>C</td>\n",
       "    </tr>\n",
       "    <tr>\n",
       "      <th>2</th>\n",
       "      <td>3</td>\n",
       "      <td>1</td>\n",
       "      <td>3</td>\n",
       "      <td>Heikkinen, Miss. Laina</td>\n",
       "      <td>female</td>\n",
       "      <td>26.0</td>\n",
       "      <td>0</td>\n",
       "      <td>0</td>\n",
       "      <td>STON/O2. 3101282</td>\n",
       "      <td>7.9250</td>\n",
       "      <td>NaN</td>\n",
       "      <td>S</td>\n",
       "    </tr>\n",
       "    <tr>\n",
       "      <th>3</th>\n",
       "      <td>4</td>\n",
       "      <td>1</td>\n",
       "      <td>1</td>\n",
       "      <td>Futrelle, Mrs. Jacques Heath (Lily May Peel)</td>\n",
       "      <td>female</td>\n",
       "      <td>35.0</td>\n",
       "      <td>1</td>\n",
       "      <td>0</td>\n",
       "      <td>113803</td>\n",
       "      <td>53.1000</td>\n",
       "      <td>C123</td>\n",
       "      <td>S</td>\n",
       "    </tr>\n",
       "    <tr>\n",
       "      <th>4</th>\n",
       "      <td>5</td>\n",
       "      <td>0</td>\n",
       "      <td>3</td>\n",
       "      <td>Allen, Mr. William Henry</td>\n",
       "      <td>male</td>\n",
       "      <td>35.0</td>\n",
       "      <td>0</td>\n",
       "      <td>0</td>\n",
       "      <td>373450</td>\n",
       "      <td>8.0500</td>\n",
       "      <td>NaN</td>\n",
       "      <td>S</td>\n",
       "    </tr>\n",
       "    <tr>\n",
       "      <th>...</th>\n",
       "      <td>...</td>\n",
       "      <td>...</td>\n",
       "      <td>...</td>\n",
       "      <td>...</td>\n",
       "      <td>...</td>\n",
       "      <td>...</td>\n",
       "      <td>...</td>\n",
       "      <td>...</td>\n",
       "      <td>...</td>\n",
       "      <td>...</td>\n",
       "      <td>...</td>\n",
       "      <td>...</td>\n",
       "    </tr>\n",
       "    <tr>\n",
       "      <th>886</th>\n",
       "      <td>887</td>\n",
       "      <td>0</td>\n",
       "      <td>2</td>\n",
       "      <td>Montvila, Rev. Juozas</td>\n",
       "      <td>male</td>\n",
       "      <td>27.0</td>\n",
       "      <td>0</td>\n",
       "      <td>0</td>\n",
       "      <td>211536</td>\n",
       "      <td>13.0000</td>\n",
       "      <td>NaN</td>\n",
       "      <td>S</td>\n",
       "    </tr>\n",
       "    <tr>\n",
       "      <th>887</th>\n",
       "      <td>888</td>\n",
       "      <td>1</td>\n",
       "      <td>1</td>\n",
       "      <td>Graham, Miss. Margaret Edith</td>\n",
       "      <td>female</td>\n",
       "      <td>19.0</td>\n",
       "      <td>0</td>\n",
       "      <td>0</td>\n",
       "      <td>112053</td>\n",
       "      <td>30.0000</td>\n",
       "      <td>B42</td>\n",
       "      <td>S</td>\n",
       "    </tr>\n",
       "    <tr>\n",
       "      <th>888</th>\n",
       "      <td>889</td>\n",
       "      <td>0</td>\n",
       "      <td>3</td>\n",
       "      <td>Johnston, Miss. Catherine Helen \"Carrie\"</td>\n",
       "      <td>female</td>\n",
       "      <td>NaN</td>\n",
       "      <td>1</td>\n",
       "      <td>2</td>\n",
       "      <td>W./C. 6607</td>\n",
       "      <td>23.4500</td>\n",
       "      <td>NaN</td>\n",
       "      <td>S</td>\n",
       "    </tr>\n",
       "    <tr>\n",
       "      <th>889</th>\n",
       "      <td>890</td>\n",
       "      <td>1</td>\n",
       "      <td>1</td>\n",
       "      <td>Behr, Mr. Karl Howell</td>\n",
       "      <td>male</td>\n",
       "      <td>26.0</td>\n",
       "      <td>0</td>\n",
       "      <td>0</td>\n",
       "      <td>111369</td>\n",
       "      <td>30.0000</td>\n",
       "      <td>C148</td>\n",
       "      <td>C</td>\n",
       "    </tr>\n",
       "    <tr>\n",
       "      <th>890</th>\n",
       "      <td>891</td>\n",
       "      <td>0</td>\n",
       "      <td>3</td>\n",
       "      <td>Dooley, Mr. Patrick</td>\n",
       "      <td>male</td>\n",
       "      <td>32.0</td>\n",
       "      <td>0</td>\n",
       "      <td>0</td>\n",
       "      <td>370376</td>\n",
       "      <td>7.7500</td>\n",
       "      <td>NaN</td>\n",
       "      <td>Q</td>\n",
       "    </tr>\n",
       "  </tbody>\n",
       "</table>\n",
       "<p>891 rows × 12 columns</p>\n",
       "</div>"
      ],
      "text/plain": [
       "     PassengerId  Survived  Pclass  \\\n",
       "0              1         0       3   \n",
       "1              2         1       1   \n",
       "2              3         1       3   \n",
       "3              4         1       1   \n",
       "4              5         0       3   \n",
       "..           ...       ...     ...   \n",
       "886          887         0       2   \n",
       "887          888         1       1   \n",
       "888          889         0       3   \n",
       "889          890         1       1   \n",
       "890          891         0       3   \n",
       "\n",
       "                                                  Name     Sex   Age  SibSp  \\\n",
       "0                              Braund, Mr. Owen Harris    male  22.0      1   \n",
       "1    Cumings, Mrs. John Bradley (Florence Briggs Th...  female  38.0      1   \n",
       "2                               Heikkinen, Miss. Laina  female  26.0      0   \n",
       "3         Futrelle, Mrs. Jacques Heath (Lily May Peel)  female  35.0      1   \n",
       "4                             Allen, Mr. William Henry    male  35.0      0   \n",
       "..                                                 ...     ...   ...    ...   \n",
       "886                              Montvila, Rev. Juozas    male  27.0      0   \n",
       "887                       Graham, Miss. Margaret Edith  female  19.0      0   \n",
       "888           Johnston, Miss. Catherine Helen \"Carrie\"  female   NaN      1   \n",
       "889                              Behr, Mr. Karl Howell    male  26.0      0   \n",
       "890                                Dooley, Mr. Patrick    male  32.0      0   \n",
       "\n",
       "     Parch            Ticket     Fare Cabin Embarked  \n",
       "0        0         A/5 21171   7.2500   NaN        S  \n",
       "1        0          PC 17599  71.2833   C85        C  \n",
       "2        0  STON/O2. 3101282   7.9250   NaN        S  \n",
       "3        0            113803  53.1000  C123        S  \n",
       "4        0            373450   8.0500   NaN        S  \n",
       "..     ...               ...      ...   ...      ...  \n",
       "886      0            211536  13.0000   NaN        S  \n",
       "887      0            112053  30.0000   B42        S  \n",
       "888      2        W./C. 6607  23.4500   NaN        S  \n",
       "889      0            111369  30.0000  C148        C  \n",
       "890      0            370376   7.7500   NaN        Q  \n",
       "\n",
       "[891 rows x 12 columns]"
      ]
     },
     "execution_count": 62,
     "metadata": {},
     "output_type": "execute_result"
    }
   ],
   "source": [
    "titanic_df"
   ]
  },
  {
   "cell_type": "code",
   "execution_count": 63,
   "metadata": {},
   "outputs": [],
   "source": [
    "# Quitamos todas las variables que sean string y todas las filas con NAs\n",
    "titanic_df = titanic_df.drop(titanic_df.select_dtypes(include=['object']).columns, axis=1)\n",
    "titanic_df=titanic_df.dropna()"
   ]
  },
  {
   "cell_type": "code",
   "execution_count": 64,
   "metadata": {},
   "outputs": [],
   "source": [
    "X=titanic_df.drop(columns=['Survived'])\n",
    "y=titanic_df.Survived"
   ]
  },
  {
   "cell_type": "code",
   "execution_count": 67,
   "metadata": {},
   "outputs": [],
   "source": [
    "X = sm.add_constant(X)\n"
   ]
  },
  {
   "cell_type": "code",
   "execution_count": 68,
   "metadata": {},
   "outputs": [],
   "source": [
    "X_train, X_test, y_train, y_test = train_test_split(X, y, test_size=0.3, random_state=10)"
   ]
  },
  {
   "cell_type": "code",
   "execution_count": 72,
   "metadata": {},
   "outputs": [],
   "source": [
    "def evalua_metodo(modelo, X_train, y_train, X_test, y_test, h_l=0.0001, h_k=5):\n",
    "    \n",
    "    '''\n",
    "    Evalua un modelo de clasificación proporcionando métricas clave y visualizando la curva ROC.\n",
    "    \n",
    "    Input:\n",
    "    - modelo: modelo de clasificación ya instanciado (debe tener los métodos `fit`, `predict` y `predict_proba`).\n",
    "    - X_train, y_train: datos de entrenamiento.\n",
    "    - X_test, y_test: datos de prueba.\n",
    "    \n",
    "    Output:\n",
    "    - Diccionario con las siguientes métricas:\n",
    "        * matriz_confusion: Matriz de confusión del modelo.\n",
    "        * valor_auc: Área bajo la curva ROC.\n",
    "        * accuracy: Precisión del modelo.\n",
    "    - Gráfico de la curva ROC.\n",
    "    '''\n",
    "    # Entrenando el modelo\n",
    "    if modelo==KNeighborsClassifier:\n",
    "        y = modelo(h_k).fit(X_train, y_train)\n",
    "    elif modelo== LogisticRegression:\n",
    "        y = modelo(C=1/h_l).fit(X_train, y_train)\n",
    "    elif modelo== LinearDiscriminantAnalysis:\n",
    "        y = modelo().fit(X_train, y_train)\n",
    "    else:\n",
    "        y = modelo.fit(X_train, y_train)    \n",
    "    # Predicciones\n",
    "    y_pred = modelo.predict(X_test)\n",
    "    y_pred_prob = modelo.predict_proba(X_test)[:, 1]\n",
    "    \n",
    "    # Calculando métricas\n",
    "    matriz_confusion = confusion_matrix(y_test, y_pred)\n",
    "    fpr, tpr, thresholds = roc_curve(y_test, y_pred_prob)\n",
    "    valor_auc = auc(fpr, tpr)\n",
    "    accuracy = accuracy_score(y_test, y_pred)\n",
    "    ecm = mean_squared_error(y_test, y_pred) # Deseamos tener esta métrica disponible para la siguiente función. \n",
    "    # Dibujando la curva ROC\n",
    "    plt.figure()\n",
    "    plt.plot(fpr, tpr, color='darkorange', label='Curva ROC (área = %0.2f)' % valor_auc)\n",
    "    plt.plot([0, 1], [0, 1], color='navy', linestyle='--')\n",
    "    plt.xlabel('Tasa de falsos positivos')\n",
    "    plt.ylabel('Tasa de verdaderos positivos')\n",
    "    plt.title('Curva ROC')\n",
    "    plt.legend(loc=\"lower right\")\n",
    "    plt.show()\n",
    "    \n",
    "    # Retornando métricas\n",
    "    return {\n",
    "        'matriz_confusion': matriz_confusion,\n",
    "        'valor_auc': valor_auc,\n",
    "        'accuracy': accuracy,\n",
    "        'ecm': ecm,\n",
    "    }\n"
   ]
  },
  {
   "cell_type": "code",
   "execution_count": 73,
   "metadata": {},
   "outputs": [
    {
     "data": {
      "image/png": "[encoded data removed]",
      "text/plain": [
       "<Figure size 432x288 with 1 Axes>"
      ]
     },
     "metadata": {
      "needs_background": "light"
     },
     "output_type": "display_data"
    },
    {
     "name": "stdout",
     "output_type": "stream",
     "text": [
      "{'matriz_confusion': array([[109,  16],\n",
      "       [ 45,  45]], dtype=int64), 'valor_auc': 0.7657777777777779, 'accuracy': 0.7162790697674418, 'ecm': 0.2837209302325581}\n"
     ]
    }
   ],
   "source": [
    "# Definir el modelo\n",
    "modelo = LogisticRegression(max_iter=10000)\n",
    "# Usar la función evalua_metodo\n",
    "resultados = evalua_metodo(modelo, X_train, y_train, X_test, y_test)\n",
    "print(resultados)"
   ]
  },
  {
   "cell_type": "code",
   "execution_count": 74,
   "metadata": {},
   "outputs": [
    {
     "data": {
      "image/png": "[encoded data removed]",
      "text/plain": [
       "<Figure size 432x288 with 1 Axes>"
      ]
     },
     "metadata": {
      "needs_background": "light"
     },
     "output_type": "display_data"
    },
    {
     "name": "stdout",
     "output_type": "stream",
     "text": [
      "{'matriz_confusion': array([[109,  16],\n",
      "       [ 45,  45]], dtype=int64), 'valor_auc': 0.7657777777777779, 'accuracy': 0.7162790697674418, 'ecm': 0.2837209302325581}\n"
     ]
    }
   ],
   "source": [
    "# Definir el modelo\n",
    "modelo = LogisticRegression(max_iter=10000)\n",
    "# Usar la función evalua_metodo\n",
    "resultados = evalua_metodo(modelo, X_train, y_train, X_test, y_test,h_l=10)\n",
    "print(resultados)"
   ]
  },
  {
   "cell_type": "code",
   "execution_count": 199,
   "metadata": {},
   "outputs": [
    {
     "data": {
      "image/png": "[encoded data removed]",
      "text/plain": [
       "<Figure size 432x288 with 1 Axes>"
      ]
     },
     "metadata": {
      "needs_background": "light"
     },
     "output_type": "display_data"
    },
    {
     "name": "stdout",
     "output_type": "stream",
     "text": [
      "{'matriz_confusion': array([[105,  20],\n",
      "       [ 58,  32]], dtype=int64), 'valor_auc': 0.6350222222222222, 'accuracy': 0.6372093023255814, 'ecm': 0.3627906976744186}\n"
     ]
    }
   ],
   "source": [
    "# Definir el modelo\n",
    "knn = KNeighborsClassifier(n_neighbors=5)\n",
    "modelo2=knn.fit(X_train, y_train)\n",
    "#Usar la función evalua_metodo\n",
    "resultados = evalua_metodo(modelo2, X_train, y_train, X_test, y_test)\n",
    "print(resultados)"
   ]
  },
  {
   "cell_type": "code",
   "execution_count": 200,
   "metadata": {},
   "outputs": [
    {
     "data": {
      "image/png": "[encoded data removed]",
      "text/plain": [
       "<Figure size 432x288 with 1 Axes>"
      ]
     },
     "metadata": {
      "needs_background": "light"
     },
     "output_type": "display_data"
    },
    {
     "name": "stdout",
     "output_type": "stream",
     "text": [
      "{'matriz_confusion': array([[109,  16],\n",
      "       [ 45,  45]], dtype=int64), 'valor_auc': 0.7654222222222222, 'accuracy': 0.7162790697674418, 'ecm': 0.2837209302325581}\n"
     ]
    }
   ],
   "source": [
    "# Definir el modelo\n",
    "modelo3= LinearDiscriminantAnalysis(n_components=1)\n",
    "#Usar la función evalua_metodo\n",
    "resultados = evalua_metodo(modelo3, X_train, y_train, X_test, y_test)\n",
    "print(resultados)"
   ]
  },
  {
   "cell_type": "markdown",
   "metadata": {},
   "source": [
    "####  PAULA PROBLEMA: Deberia cambiar el resultado segun el lambda pero no cambia, asi que debe estar mal la especificacion. Trate de hacerlo\n",
    "#### de otro modo y tampoco me salia distinto."
   ]
  },
  {
   "cell_type": "markdown",
   "metadata": {},
   "source": [
    "## Ejercicio 2"
   ]
  },
  {
   "cell_type": "code",
   "execution_count": 82,
   "metadata": {},
   "outputs": [],
   "source": [
    "from sklearn.preprocessing szeimport StandardScaler\n",
    "import pandas as pd"
   ]
  },
  {
   "cell_type": "code",
   "execution_count": 90,
   "metadata": {},
   "outputs": [],
   "source": [
    "## Vamos a definir un parámetro extra asociado a si deseamos estandarizar o no las variables. Estandarizar solo se vuelve necesario\n",
    "# si vamos a regularizar luego el modelo. \n",
    "def cross_validation(modelo, k, x, y,reg=False):\n",
    "    #Convertimos la data en pandas dataframe en caso no lo haya estado originalmente. \n",
    "    if isinstance(x, np.ndarray):\n",
    "        x = pd.DataFrame(x)\n",
    "    if isinstance(y, np.ndarray):\n",
    "        y = pd.DataFrame(y)\n",
    "    sc = StandardScaler()\n",
    "    kf = KFold(n_splits=k, shuffle=True)\n",
    "    output = [] \n",
    "    #ecm = []\n",
    "    for i, (train_index, test_index) in enumerate(kf.split(x)):   \n",
    "        x_train, x_test = x.iloc[list(train_index)], x.iloc[list(test_index)]\n",
    "        y_train, y_test = y.iloc[list(train_index)], y.iloc[list(test_index)]\n",
    "        # Hacemos esto para tener a cada submuestra en formato dataframe y así podemos aplicar la función de estandarización aprendida\n",
    "        if reg == True:\n",
    "            # Estandarizamos las observaciones de entrenamiento\n",
    "            x_train = pd.DataFrame(sc.fit_transform(x_train), index=x_train.index, columns=x_train.columns)\n",
    "            # Estandarizamos las observaciones de test\n",
    "            x_test = pd.DataFrame(sc.transform(x_test), index=x_test.index, columns=x_test.columns)\n",
    "        #model=LogisticRegression(max_iter=10000)\n",
    "        modelo.fit(x_train, y_train)\n",
    "  # Predicciones\n",
    "        y_pred = modelo.predict(x_test)\n",
    "        y_pred_prob = modelo.predict_proba(x_test)[:, 1]\n",
    "    # Calculando métricas\n",
    "        matriz_confusion = confusion_matrix(y_test, y_pred)\n",
    "        fpr, tpr, thresholds = roc_curve(y_test, y_pred_prob)\n",
    "        valor_auc = auc(fpr, tpr)\n",
    "        accuracy = accuracy_score(y_test, y_pred)\n",
    "        ecm = mean_squared_error(y_test, y_pred) \n",
    "        output.append((i+1, ecm))\n",
    "    output_df = pd.DataFrame(output, columns=[\"Particion\", \"MSE\"])\n",
    "        \n",
    "    return output_df #aqui devuelve el df de mean squared errors"
   ]
  },
  {
   "cell_type": "code",
   "execution_count": 91,
   "metadata": {},
   "outputs": [
    {
     "data": {
      "text/html": [
       "<div>\n",
       "<style scoped>\n",
       "    .dataframe tbody tr th:only-of-type {\n",
       "        vertical-align: middle;\n",
       "    }\n",
       "\n",
       "    .dataframe tbody tr th {\n",
       "        vertical-align: top;\n",
       "    }\n",
       "\n",
       "    .dataframe thead th {\n",
       "        text-align: right;\n",
       "    }\n",
       "</style>\n",
       "<table border=\"1\" class=\"dataframe\">\n",
       "  <thead>\n",
       "    <tr style=\"text-align: right;\">\n",
       "      <th></th>\n",
       "      <th>Particion</th>\n",
       "      <th>MSE</th>\n",
       "    </tr>\n",
       "  </thead>\n",
       "  <tbody>\n",
       "    <tr>\n",
       "      <th>0</th>\n",
       "      <td>1</td>\n",
       "      <td>0.251748</td>\n",
       "    </tr>\n",
       "    <tr>\n",
       "      <th>1</th>\n",
       "      <td>2</td>\n",
       "      <td>0.314685</td>\n",
       "    </tr>\n",
       "    <tr>\n",
       "      <th>2</th>\n",
       "      <td>3</td>\n",
       "      <td>0.370629</td>\n",
       "    </tr>\n",
       "    <tr>\n",
       "      <th>3</th>\n",
       "      <td>4</td>\n",
       "      <td>0.307692</td>\n",
       "    </tr>\n",
       "    <tr>\n",
       "      <th>4</th>\n",
       "      <td>5</td>\n",
       "      <td>0.274648</td>\n",
       "    </tr>\n",
       "  </tbody>\n",
       "</table>\n",
       "</div>"
      ],
      "text/plain": [
       "   Particion       MSE\n",
       "0          1  0.251748\n",
       "1          2  0.314685\n",
       "2          3  0.370629\n",
       "3          4  0.307692\n",
       "4          5  0.274648"
      ]
     },
     "execution_count": 91,
     "metadata": {},
     "output_type": "execute_result"
    }
   ],
   "source": [
    "cross_validation(modelo,5,X,y,reg=False)"
   ]
  },
  {
   "cell_type": "markdown",
   "metadata": {},
   "source": [
    "## Ejercicio 3"
   ]
  },
  {
   "cell_type": "markdown",
   "metadata": {},
   "source": [
    "### La version anterior"
   ]
  },
  {
   "cell_type": "code",
   "execution_count": 95,
   "metadata": {},
   "outputs": [],
   "source": [
    "def evalua_config(configuraciones, X, y,k):\n",
    "    ##Voy a explicar que significaria cada aspecto de la configuración.\n",
    "    \"\"\"\n",
    "    Evalúa diferentes configuraciones de hiperparámetros para un modelo  de regresión logística y devuelve la mejor configuración.\n",
    "    \n",
    "    Parámetros:\n",
    "    - configuraciones (list): Lista de diccionarios con las diferentes configuraciones de hiperparámetros.\n",
    "    - X: variables independientes del conjunto de datos.\n",
    "    - y: variable dependiente (target) del conjunto de datos.\n",
    "    \n",
    "    Devoluciones:\n",
    "    - Diccionario con la mejor configuración y su correspondiente precisión promedio.\n",
    "    \"\"\"\n",
    "    \n",
    "    mejor_configuracion = None\n",
    "    menor_ecm = 1000\n",
    "    \n",
    "    for config in configuraciones:\n",
    "        modelo = LogisticRegression(max_iter=10000, **config)\n",
    "        resultados = cross_validation(modelo, k, X, y)\n",
    "        ecm_promedio = resultados['MSE'].mean()  \n",
    "        if ecm_promedio < menor_ecm:\n",
    "            menor_ecm=ecm_promedio\n",
    "            mejor_configuracion=config \n",
    "        \n",
    "        #if accuracy_promedio > mejor_accuracy:\n",
    "            #mejor_accuracy = accuracy_promedio\n",
    "            #mejor_configuracion = config\n",
    "    \n",
    "    return {\n",
    "        'mejor_configuracion': mejor_configuracion,\n",
    "        #'mejor_accuracy': mejor_accuracy\n",
    "        'menor_ecm': menor_ecm \n",
    "    }\n",
    "\n",
    "\n",
    "\n"
   ]
  },
  {
   "cell_type": "code",
   "execution_count": 98,
   "metadata": {},
   "outputs": [
    {
     "name": "stdout",
     "output_type": "stream",
     "text": [
      "{'mejor_configuracion': {'penalty': 'l2', 'C': 1.0}, 'menor_ecm': 0.29391627543036}\n"
     ]
    }
   ],
   "source": [
    "configuraciones = [\n",
    "    {'penalty': 'l2', 'C': 1.0},\n",
    "    {'penalty': 'l1', 'C': 1.0, 'solver': 'saga'},\n",
    "    {'penalty': 'l2', 'C': 0.5},\n",
    "    ]\n",
    "\n",
    "resultado = evalua_config(configuraciones, X, y,10)\n",
    "print(resultado)\n"
   ]
  },
  {
   "cell_type": "markdown",
   "metadata": {},
   "source": [
    "## Ejercicio 4"
   ]
  },
  {
   "cell_type": "markdown",
   "metadata": {},
   "source": [
    "## Original"
   ]
  },
  {
   "cell_type": "code",
   "execution_count": null,
   "metadata": {},
   "outputs": [],
   "source": [
    "def evalua_multiples_metodos(X, y):\n",
    "    modelos = {\n",
    "        \"Regresion Logistica\": LogisticRegression(max_iter=10000),\n",
    "        \"LDA\": LinearDiscriminantAnalysis(),\n",
    "        \"KNN\": KNeighborsClassifier(n_neighbors=5) # ISSUE 1: hay que flexibilizar numero de vecinos. SOLUCION FACIL\n",
    "    }\n",
    "\n",
    "    # Optimización de hiperparámetros para Regresión Logística\n",
    "    configuraciones_rl = [\n",
    "        {'penalty': 'l2', 'C': 1.0},\n",
    "        {'penalty': 'l1', 'C': 1.0, 'solver': 'saga'},\n",
    "        {'penalty': 'l2', 'C': 0.5},\n",
    "        ] # ISSUE 2: hay que dejar que el usuario elige la lista de configuracion. \n",
    "          # SOLUCION DIFICIL (hay que cambiar evaluar config para eso o entender bien diccionarios) o facil: pedirle el diccionario\n",
    "        # de configuraciones\n",
    "    mejor_config = evalua_config(configuraciones_rl, X, y)['mejor_configuracion']\n",
    "    modelos[\"Regresion Logistica\"].set_params(**mejor_config)\n",
    "\n",
    "    # Almacenar resultados\n",
    "    resultados = []  \n",
    "\n",
    "    for nombre, modelo in modelos.items():\n",
    "        metricas = cross_validation(modelo, 5, X, y) ## ISSUE 3: hay que permitir cambiar el número de particiones \n",
    "        accuracy_promedio = metricas['accuracy'].mean() \n",
    "        valor_auc_promedio = metricas['valor_auc'].mean()\n",
    "          # ISSUE 4: Hay que incluir el ECM \n",
    "        resultados.append({\n",
    "            \"Modelo\": nombre + \" \" + str(modelo.get_params()),\n",
    "            \"accuracy_promedio\": accuracy_promedio,\n",
    "            \"valor_auc_promedio\": valor_auc_promedio\n",
    "        })\n",
    "\n",
    "    return pd.DataFrame(resultados)"
   ]
  },
  {
   "cell_type": "code",
   "execution_count": null,
   "metadata": {},
   "outputs": [],
   "source": [
    "# Ejemplo de uso:\n",
    "resultados_modelos = evalua_multiples_metodos(X, y)\n",
    "print(resultados_modelos)"
   ]
  },
  {
   "cell_type": "markdown",
   "metadata": {},
   "source": [
    "## Haciendole cambios"
   ]
  },
  {
   "cell_type": "code",
   "execution_count": null,
   "metadata": {},
   "outputs": [],
   "source": [
    "def evalua_multiples_metodos(X, y,h_n):\n",
    "    modelos = {\n",
    "        \"Regresion Logistica\": LogisticRegression(max_iter=10000),\n",
    "        \"LDA\": LinearDiscriminantAnalysis(),\n",
    "        \"KNN\": KNeighborsClassifier(n_neighbors=h_n) \n",
    "    }\n",
    "\n",
    "    # Optimización de hiperparámetros para Regresión Logística\n",
    "    configuraciones_rl = [\n",
    "        {'penalty': 'l2', 'C': 1.0},\n",
    "        {'penalty': 'l1', 'C': 1.0, 'solver': 'saga'},\n",
    "        {'penalty': 'l2', 'C': 0.5},\n",
    "        ]\n",
    "    mejor_config = evalua_config(configuraciones_rl, X, y)['mejor_configuracion']\n",
    "    modelos[\"Regresion Logistica\"].set_params(**mejor_config)\n",
    "\n",
    "    # Almacenar resultados\n",
    "    resultados = []\n",
    "\n",
    "    for nombre, modelo in modelos.items():\n",
    "        metricas = cross_validation(modelo, 5, X, y)\n",
    "        accuracy_promedio = metricas['accuracy'].mean()\n",
    "        valor_auc_promedio = metricas['valor_auc'].mean()\n",
    "\n",
    "        resultados.append({\n",
    "            \"Modelo\": nombre + \" \" + str(modelo.get_params()),\n",
    "            \"accuracy_promedio\": accuracy_promedio,\n",
    "            \"valor_auc_promedio\": valor_auc_promedio\n",
    "        })\n",
    "\n",
    "    return pd.DataFrame(resultados)"
   ]
  }
 ],
 "metadata": {
  "anaconda-cloud": {},
  "colab": {
   "provenance": []
  },
  "kernelspec": {
   "display_name": "Python 3",
   "language": "python",
   "name": "python3"
  },
  "language_info": {
   "codemirror_mode": {
    "name": "ipython",
    "version": 3
   },
   "file_extension": ".py",
   "mimetype": "text/x-python",
   "name": "python",
   "nbconvert_exporter": "python",
   "pygments_lexer": "ipython3",
   "version": "3.8.8"
  }
 },
 "nbformat": 4,
 "nbformat_minor": 1
}
