{
 "cells": [
  {
   "cell_type": "markdown",
   "id": "6b9cd2d3",
   "metadata": {},
   "source": [
    "Curso de Big Data\n",
    "==============================\n",
    "\n",
    "Trabajo práctico 3\n",
    "------------------------------\n",
    "\n",
    "### Grupo: Armas Braithwaite, Fernández, Menta, Vargas Ochuza"
   ]
  },
  {
   "cell_type": "markdown",
   "id": "63417974",
   "metadata": {},
   "source": [
    "## Parte 1: Análisis de la base de hogares y cálculo de pobreza\n"
   ]
  },
  {
   "cell_type": "markdown",
   "id": "773ef485",
   "metadata": {},
   "source": [
    "### Inciso 1"
   ]
  },
  {
   "cell_type": "markdown",
   "id": "ea670de8",
   "metadata": {},
   "source": [
    "###### Las variables relevantes para explicar la pobreza creemos que son las siguientes:\n",
    "###### - ITF_hogar (Monto de ingreso total familiar)}: Evalúa la disponibilidad de recursos económicos en el hogar, lo que está estrechamente relacionado con la pobreza.\n",
    "###### - Región (REGION): La ubicación geográfica de un hogar puede tener un impacto significativo en su nivel de vida y acceso a recursos. Por lo tanto, la región en la que se encuentra el hogar es una variable importante.\n",
    "###### - Características de la vivienda (IV2, IV3, IV6, IV8, IV10, IV12_1, IV_12_2, IV12_3): Estas variables describen aspectos de la vivienda, como el número de habitaciones, el estado del piso, el acceso a agua, la presencia de baño, la proximidad a basurales, zonas inundables y villas de emergencia. Estas características pueden estar relacionadas con la calidad de vida y el nivel de pobreza.\n",
    "###### - Características habitacionales del hogar (II1, II7, II8, II9): Estas variables describen el número de habitaciones en el hogar, el régimen de tenencia de la vivienda y el tipo de combustible utilizado para cocinar.\n",
    "###### - Estrategias del hogar (V1, V2, V4, V5, V6, V12, V14, V17): Estas variables exploran cómo las personas del hogar obtienen ingresos y si han tenido que recurrir a estrategias como pedir préstamos, vender pertenencias o recibir ayuda social. Estas estrategias pueden indicar la vulnerabilidad económica del hogar.\n",
    "###### - Resumen del hogar (IX_TOT): La cantidad de miembros en el hogar es un factor importante para evaluar la pobreza, ya que un hogar con más miembros puede requerir más recursos para satisfacer sus necesidades básicas.\n",
    "###### - IPCF_hogar (Monto de ingreso per cápita familiar): Proporciona información sobre los recursos disponibles por persona en el hogar, lo que está relacionado con la pobreza."
   ]
  },
  {
   "cell_type": "markdown",
   "id": "1788b994",
   "metadata": {},
   "source": [
    "### Inciso 2"
   ]
  },
  {
   "cell_type": "code",
   "execution_count": 1,
   "id": "22a591f3",
   "metadata": {},
   "outputs": [],
   "source": [
    "# Importamos los módulos necesarios para trabajar con la base de datos\n",
    "import pandas as pd\n",
    "import numpy as np\n",
    "import matplotlib.pyplot as plt\n",
    "import seaborn as sns"
   ]
  },
  {
   "cell_type": "code",
   "execution_count": 2,
   "id": "66689972",
   "metadata": {},
   "outputs": [],
   "source": [
    "# Cargamos las bases\n",
    "microdata_hogar = pd.read_excel(\"usu_hogar_T123.xlsx\")\n",
    "microdata_indv = pd.read_excel(\"usu_individual_T123.xlsx\")"
   ]
  },
  {
   "cell_type": "code",
   "execution_count": 3,
   "id": "e6e16d60",
   "metadata": {},
   "outputs": [
    {
     "data": {
      "text/plain": [
       "7619"
      ]
     },
     "execution_count": 3,
     "metadata": {},
     "output_type": "execute_result"
    }
   ],
   "source": [
    "# Del diccionario de variables sabemos que tenemos que quedarnos solamente con los valores 32 y 33\n",
    "# que son los correspondientes a Ciudad Autónoma de Buenos Aires o Gran Buenos Aires.\n",
    "\n",
    "# Filtramos el dataframe y lo renombramos\n",
    "microdata_indv_filtered = microdata_indv[(microdata_indv['AGLOMERADO'] == 32) | (microdata_indv['AGLOMERADO'] == 33)]\n",
    "len(microdata_indv_filtered)"
   ]
  },
  {
   "cell_type": "code",
   "execution_count": 4,
   "id": "d5885022",
   "metadata": {},
   "outputs": [
    {
     "data": {
      "text/plain": [
       "2736"
      ]
     },
     "execution_count": 4,
     "metadata": {},
     "output_type": "execute_result"
    }
   ],
   "source": [
    "# Filtramos el dataframe y lo renombramos\n",
    "microdata_hogar_filtered = microdata_hogar[(microdata_hogar['AGLOMERADO'] == 32) | (microdata_hogar['AGLOMERADO'] == 33)]\n",
    "len(microdata_hogar_filtered)\n"
   ]
  },
  {
   "cell_type": "markdown",
   "id": "bef1b850",
   "metadata": {},
   "source": [
    "### Inciso 3"
   ]
  },
  {
   "cell_type": "code",
   "execution_count": 5,
   "id": "1e3869d7",
   "metadata": {
    "scrolled": true
   },
   "outputs": [],
   "source": [
    "# Realizamos un inner join de las bases para quedarnos solo con las filas cuyo identificador de hogar se encuentre en ambas bases\n",
    "# Importante remarcar que hacemos el merge por vivienda y hogar! ya que pueden haber 2 viviendas en un mismo hogar.\n",
    "\n",
    "merged_microdata = microdata_indv_filtered.merge(microdata_hogar_filtered, on=['CODUSU', \"NRO_HOGAR\"], how='inner')\n",
    "\n",
    "# Renombrar las columnas con sufijo \"_x\" a \"_indv\"\n",
    "merged_microdata.rename(columns=lambda x: x.replace(\"_x\", \"_indv\"), inplace=True)\n",
    "\n",
    "# Renombrar las columnas con sufijo \"_y\" a \"_hogar\"\n",
    "merged_microdata.rename(columns=lambda x: x.replace(\"_y\", \"_hogar\"), inplace=True)\n",
    "\n",
    "# Esto ultimo no es particularmente necesario pues muchos de los valores son duplicados."
   ]
  },
  {
   "cell_type": "code",
   "execution_count": 6,
   "id": "1cca3511",
   "metadata": {},
   "outputs": [
    {
     "data": {
      "text/plain": [
       "7619"
      ]
     },
     "execution_count": 6,
     "metadata": {},
     "output_type": "execute_result"
    }
   ],
   "source": [
    "# Chequeamos la dimension\n",
    "len(merged_microdata)"
   ]
  },
  {
   "cell_type": "code",
   "execution_count": 7,
   "id": "9dd0083a",
   "metadata": {},
   "outputs": [
    {
     "data": {
      "text/plain": [
       "263"
      ]
     },
     "execution_count": 7,
     "metadata": {},
     "output_type": "execute_result"
    }
   ],
   "source": [
    "# Chequeamos la dimension\n",
    "len(merged_microdata.columns)"
   ]
  },
  {
   "cell_type": "markdown",
   "id": "222aa9bd",
   "metadata": {},
   "source": [
    "### Inciso 4 e Inciso 5"
   ]
  },
  {
   "cell_type": "code",
   "execution_count": 8,
   "id": "78c4497d",
   "metadata": {},
   "outputs": [
    {
     "name": "stdout",
     "output_type": "stream",
     "text": [
      "Variable: CH08, Cantidad de NaN: 1\n",
      "Variable: CH14, Cantidad de NaN: 3959\n",
      "Variable: CH15_COD, Cantidad de NaN: 6248\n",
      "Variable: CH16_COD, Cantidad de NaN: 7515\n",
      "Variable: IMPUTA, Cantidad de NaN: 7548\n",
      "Variable: PP03C, Cantidad de NaN: 4096\n",
      "Variable: PP03D, Cantidad de NaN: 4096\n",
      "Variable: PP3E_TOT, Cantidad de NaN: 4096\n",
      "Variable: PP3F_TOT, Cantidad de NaN: 4096\n",
      "Variable: PP03G, Cantidad de NaN: 4096\n",
      "Variable: PP03H, Cantidad de NaN: 4096\n",
      "Variable: PP03I, Cantidad de NaN: 4096\n",
      "Variable: PP03J, Cantidad de NaN: 4096\n",
      "Variable: INTENSI, Cantidad de NaN: 4096\n",
      "Variable: PP04A, Cantidad de NaN: 4096\n",
      "Variable: PP04B_COD, Cantidad de NaN: 4096\n",
      "Variable: PP04B1, Cantidad de NaN: 4096\n",
      "Variable: PP04B2, Cantidad de NaN: 4096\n",
      "Variable: PP04B3_MES, Cantidad de NaN: 4096\n",
      "Variable: PP04B3_ANO, Cantidad de NaN: 4096\n",
      "Variable: PP04B3_DIA, Cantidad de NaN: 4096\n",
      "Variable: PP04C, Cantidad de NaN: 4096\n",
      "Variable: PP04C99, Cantidad de NaN: 4096\n",
      "Variable: PP04D_COD, Cantidad de NaN: 4096\n",
      "Variable: PP04G, Cantidad de NaN: 4096\n",
      "Variable: PP05B2_MES, Cantidad de NaN: 4096\n",
      "Variable: PP05B2_ANO, Cantidad de NaN: 4096\n",
      "Variable: PP05B2_DIA, Cantidad de NaN: 4096\n",
      "Variable: PP05C_1, Cantidad de NaN: 4096\n",
      "Variable: PP05C_2, Cantidad de NaN: 4096\n",
      "Variable: PP05C_3, Cantidad de NaN: 4096\n",
      "Variable: PP05E, Cantidad de NaN: 4096\n",
      "Variable: PP05F, Cantidad de NaN: 4096\n",
      "Variable: PP05H, Cantidad de NaN: 4096\n",
      "Variable: PP06A, Cantidad de NaN: 4096\n",
      "Variable: PP06C, Cantidad de NaN: 4096\n",
      "Variable: PP06D, Cantidad de NaN: 4096\n",
      "Variable: PP06E, Cantidad de NaN: 4096\n",
      "Variable: PP06H, Cantidad de NaN: 4096\n",
      "Variable: PP07A, Cantidad de NaN: 4096\n",
      "Variable: PP07C, Cantidad de NaN: 4096\n",
      "Variable: PP07D, Cantidad de NaN: 4096\n",
      "Variable: PP07E, Cantidad de NaN: 4096\n",
      "Variable: PP07F1, Cantidad de NaN: 4096\n",
      "Variable: PP07F2, Cantidad de NaN: 4096\n",
      "Variable: PP07F3, Cantidad de NaN: 4096\n",
      "Variable: PP07F4, Cantidad de NaN: 4096\n",
      "Variable: PP07F5, Cantidad de NaN: 4096\n",
      "Variable: PP07G1, Cantidad de NaN: 4096\n",
      "Variable: PP07G2, Cantidad de NaN: 4096\n",
      "Variable: PP07G3, Cantidad de NaN: 4096\n",
      "Variable: PP07G4, Cantidad de NaN: 4096\n",
      "Variable: PP07G_59, Cantidad de NaN: 4096\n",
      "Variable: PP07H, Cantidad de NaN: 4096\n",
      "Variable: PP07I, Cantidad de NaN: 4096\n",
      "Variable: PP07J, Cantidad de NaN: 4096\n",
      "Variable: PP07K, Cantidad de NaN: 4096\n",
      "Variable: PP08D1, Cantidad de NaN: 4096\n",
      "Variable: PP08D4, Cantidad de NaN: 4096\n",
      "Variable: PP08F1, Cantidad de NaN: 4096\n",
      "Variable: PP08F2, Cantidad de NaN: 4096\n",
      "Variable: PP08J1, Cantidad de NaN: 4096\n",
      "Variable: PP08J2, Cantidad de NaN: 4096\n",
      "Variable: PP08J3, Cantidad de NaN: 4096\n",
      "Variable: PP09A, Cantidad de NaN: 4096\n",
      "Variable: PP09A_ESP, Cantidad de NaN: 7602\n",
      "Variable: PP09B, Cantidad de NaN: 4096\n",
      "Variable: PP09C, Cantidad de NaN: 4096\n",
      "Variable: PP09C_ESP, Cantidad de NaN: 7619\n",
      "Variable: PP10A, Cantidad de NaN: 7333\n",
      "Variable: PP10C, Cantidad de NaN: 7333\n",
      "Variable: PP10D, Cantidad de NaN: 7333\n",
      "Variable: PP10E, Cantidad de NaN: 7333\n",
      "Variable: PP11A, Cantidad de NaN: 7333\n",
      "Variable: PP11B_COD, Cantidad de NaN: 7333\n",
      "Variable: PP11B1, Cantidad de NaN: 7333\n",
      "Variable: PP11B2_MES, Cantidad de NaN: 7333\n",
      "Variable: PP11B2_ANO, Cantidad de NaN: 7333\n",
      "Variable: PP11B2_DIA, Cantidad de NaN: 7333\n",
      "Variable: PP11C, Cantidad de NaN: 7333\n",
      "Variable: PP11C99, Cantidad de NaN: 7333\n",
      "Variable: PP11D_COD, Cantidad de NaN: 7410\n",
      "Variable: PP11G_ANO, Cantidad de NaN: 7333\n",
      "Variable: PP11G_MES, Cantidad de NaN: 7333\n",
      "Variable: PP11G_DIA, Cantidad de NaN: 7333\n",
      "Variable: PP11L, Cantidad de NaN: 7333\n",
      "Variable: PP11L1, Cantidad de NaN: 7333\n",
      "Variable: PP11M, Cantidad de NaN: 7333\n",
      "Variable: PP11N, Cantidad de NaN: 7333\n",
      "Variable: PP11O, Cantidad de NaN: 7333\n",
      "Variable: PP11P, Cantidad de NaN: 7333\n",
      "Variable: PP11Q, Cantidad de NaN: 7333\n",
      "Variable: PP11R, Cantidad de NaN: 7333\n",
      "Variable: PP11S, Cantidad de NaN: 7333\n",
      "Variable: PP11T, Cantidad de NaN: 7333\n",
      "Variable: IDECOCUR, Cantidad de NaN: 7619\n",
      "Variable: PDECOCUR, Cantidad de NaN: 7619\n",
      "Variable: P47T, Cantidad de NaN: 24\n",
      "Variable: IDECINDR, Cantidad de NaN: 7619\n",
      "Variable: PDECINDR, Cantidad de NaN: 7619\n",
      "Variable: IDECIFR_indv, Cantidad de NaN: 7619\n",
      "Variable: PDECIFR_indv, Cantidad de NaN: 7619\n",
      "Variable: IDECCFR_indv, Cantidad de NaN: 7619\n",
      "Variable: PDECCFR_indv, Cantidad de NaN: 7619\n",
      "Variable: IV1_ESP, Cantidad de NaN: 7602\n",
      "Variable: IV3_ESP, Cantidad de NaN: 7608\n",
      "Variable: IV7_ESP, Cantidad de NaN: 7605\n",
      "Variable: II7_ESP, Cantidad de NaN: 7590\n",
      "Variable: II8_ESP, Cantidad de NaN: 7392\n",
      "Variable: IDECIFR_hogar, Cantidad de NaN: 7619\n",
      "Variable: PDECIFR_hogar, Cantidad de NaN: 7619\n",
      "Variable: IDECCFR_hogar, Cantidad de NaN: 7619\n",
      "Variable: PDECCFR_hogar, Cantidad de NaN: 7619\n"
     ]
    }
   ],
   "source": [
    "# Identificar variables con NaN y contar cuántos NaN\n",
    "# Utilizamos funciones de Pandas para identificar y limpiar NaN.\n",
    "\n",
    "variables_con_nan = merged_microdata.columns[merged_microdata.isna().any()].tolist()\n",
    "conteo_de_nans = merged_microdata[variables_con_nan].isna().sum()\n",
    "\n",
    "# Imprimir las variables con NaN y la cantidad de NaN en cada una\n",
    "for variable in variables_con_nan:\n",
    "    print(f'Variable: {variable}, Cantidad de NaN: {conteo_de_nans[variable]}')"
   ]
  },
  {
   "cell_type": "code",
   "execution_count": 9,
   "id": "95b8ff95",
   "metadata": {},
   "outputs": [
    {
     "name": "stdout",
     "output_type": "stream",
     "text": [
      "7619\n",
      "152\n"
     ]
    }
   ],
   "source": [
    "# Establecer el umbral para determinar qué columnas eliminar\n",
    "# El umbral aquí es el número mínimo de valores no-NaN que debe tener la columna para no ser eliminada\n",
    "total_filas = len(merged_microdata)\n",
    "umbral = total_filas - 3500\n",
    "\n",
    "# Eliminar columnas con más de 3500 valores NaN\n",
    "merged_microdata = merged_microdata.dropna(thresh=umbral, axis=1)\n",
    "\n",
    "print(len(merged_microdata))  # Esto imprime el número de filas.\n",
    "print(len(merged_microdata.columns))  # Esto imprime el número de columnas restantes.\n"
   ]
  },
  {
   "cell_type": "code",
   "execution_count": 10,
   "id": "afdf4e2d",
   "metadata": {},
   "outputs": [
    {
     "name": "stdout",
     "output_type": "stream",
     "text": [
      "Variable: CH08, Cantidad de NaN: 1\n",
      "Variable: P47T, Cantidad de NaN: 24\n"
     ]
    }
   ],
   "source": [
    "# Identificar variables con NaN y contar cuántos NaN\n",
    "# Utilizamos funciones de Pandas para identificar y limpiar NaN.\n",
    "\n",
    "variables_con_nan = merged_microdata.columns[merged_microdata.isna().any()].tolist()\n",
    "conteo_de_nans = merged_microdata[variables_con_nan].isna().sum()\n",
    "\n",
    "# Imprimir las variables con NaN y la cantidad de NaN en cada una\n",
    "for variable in variables_con_nan:\n",
    "    print(f'Variable: {variable}, Cantidad de NaN: {conteo_de_nans[variable]}')"
   ]
  },
  {
   "cell_type": "code",
   "execution_count": 11,
   "id": "f1e89f55",
   "metadata": {},
   "outputs": [],
   "source": [
    "# Eliminar las observaciones con NaN \n",
    "merged_microdata.dropna(subset=['CH08'], inplace=True)\n",
    "merged_microdata.dropna(subset=['P47T'], inplace=True)"
   ]
  },
  {
   "cell_type": "code",
   "execution_count": 12,
   "id": "f0dc5c9f",
   "metadata": {},
   "outputs": [
    {
     "name": "stdout",
     "output_type": "stream",
     "text": [
      "7594\n",
      "152\n"
     ]
    }
   ],
   "source": [
    "print(len(merged_microdata))  \n",
    "print(len(merged_microdata.columns))  "
   ]
  },
  {
   "cell_type": "code",
   "execution_count": 13,
   "id": "5847e44e",
   "metadata": {},
   "outputs": [
    {
     "data": {
      "text/plain": [
       "6362"
      ]
     },
     "execution_count": 13,
     "metadata": {},
     "output_type": "execute_result"
    }
   ],
   "source": [
    "# Definimos las variables que deseamos filtrar\n",
    "variables = ['ITF_hogar', 'ITF_indv', 'IPCF_hogar', 'IPCF_indv', 'P21', 'P47T']\n",
    "\n",
    "# Definir el umbral del percentil (en este caso, 97%)\n",
    "percentile_threshold = 0.97\n",
    "\n",
    "# Iterar sobre las variables y aplicar el filtrado utlizando Pandas.\n",
    "for variable in variables:\n",
    "    # Calcular el percentil umbral\n",
    "    percentile_value = merged_microdata[variable].quantile(percentile_threshold)\n",
    "    \n",
    "    # Filtrar el DataFrame para mantener solo los valores por debajo del percentil\n",
    "    merged_microdata = merged_microdata[merged_microdata[variable] <= percentile_value]\n",
    "\n",
    "len(merged_microdata)"
   ]
  },
  {
   "cell_type": "code",
   "execution_count": 14,
   "id": "6db7c6d9",
   "metadata": {},
   "outputs": [],
   "source": [
    "# Eliminar aquellas columnas que contienen string y no aportan al análisis, y aquellas variables que tienen\n",
    "# los mismos valores para todas las observaciones debido a que pueden generar multicolinealidad y no\n",
    "# aportan variabilidad\n",
    "merged_microdata = merged_microdata.drop(columns=['ANO4_indv','TRIMESTRE_indv','REGION_indv','ANO4_hogar','TRIMESTRE_hogar','REGION_hogar', 'CH05', 'MAS_500_indv', 'MAS_500_hogar'])\n"
   ]
  },
  {
   "cell_type": "code",
   "execution_count": 15,
   "id": "2f1c212d",
   "metadata": {},
   "outputs": [],
   "source": [
    "# Transformamos las variables categóricas enteras en dummies\n",
    "\n",
    "# Lista de columnas categóricas para convertir a dummies\n",
    "columns_to_dummies = ['NIVEL_ED', 'CH07', 'CH08', 'CH09', 'CH12', 'CH15', 'CH16', 'ESTADO', 'CAT_OCUP', 'CAT_INAC']\n",
    "\n",
    "# Crear dummies y concatenar con el DataFrame original excluyendo las columnas originales\n",
    "merged_microdata = pd.get_dummies(merged_microdata, columns=columns_to_dummies)\n",
    "\n",
    "# merged_microdata_with_dummies ahora tiene las variables originales más las dummies.\n"
   ]
  },
  {
   "cell_type": "code",
   "execution_count": 16,
   "id": "4f04dbce",
   "metadata": {},
   "outputs": [
    {
     "data": {
      "text/plain": [
       "198"
      ]
     },
     "execution_count": 16,
     "metadata": {},
     "output_type": "execute_result"
    }
   ],
   "source": [
    "len(merged_microdata.columns)"
   ]
  },
  {
   "cell_type": "code",
   "execution_count": 17,
   "id": "b6cc4454",
   "metadata": {},
   "outputs": [
    {
     "data": {
      "text/plain": [
       "6360"
      ]
     },
     "execution_count": 17,
     "metadata": {},
     "output_type": "execute_result"
    }
   ],
   "source": [
    "# Limpiamos algunas variables con valores especificos utlizando Pandas\n",
    "\n",
    "merged_microdata = merged_microdata[merged_microdata['IV2'] != 99]\n",
    "merged_microdata = merged_microdata[merged_microdata['II1'] != 99]\n",
    "merged_microdata = merged_microdata[merged_microdata['II9'] > 0]\n",
    "merged_microdata = merged_microdata[merged_microdata['ITF_hogar'] >= 0]\n",
    "merged_microdata = merged_microdata[merged_microdata['ITF_indv'] >= 0]\n",
    "merged_microdata = merged_microdata[merged_microdata['IPCF_hogar'] >= 0]\n",
    "merged_microdata = merged_microdata[merged_microdata['IPCF_indv'] >= 0]\n",
    "\n",
    "\n",
    "len(merged_microdata)"
   ]
  },
  {
   "cell_type": "markdown",
   "id": "fc14dc0e",
   "metadata": {},
   "source": [
    "### Inciso 6\n",
    "\n",
    "**IV8** Tiene baño\n",
    "\n",
    "**IV3** Piso interior de la casa\n",
    "\n",
    "**V4** La cubierta exterior del techo es de...\n",
    "\n",
    "**IV11** El desague del baño es...\n",
    "\n",
    "**IPCF_hogar** Monto de ingreso per cápita familiar del hogar\n",
    "\n",
    "##### Separamos el analisis entre categoricas y no categoricas."
   ]
  },
  {
   "cell_type": "code",
   "execution_count": 18,
   "id": "f51967d5",
   "metadata": {},
   "outputs": [
    {
     "data": {
      "text/plain": [
       "count      6360.000000\n",
       "mean      25018.267167\n",
       "std       32090.617716\n",
       "min           0.000000\n",
       "25%           0.000000\n",
       "50%           0.000000\n",
       "75%       45480.000000\n",
       "max      125000.000000\n",
       "Name: IPCF_hogar, dtype: float64"
      ]
     },
     "execution_count": 18,
     "metadata": {},
     "output_type": "execute_result"
    }
   ],
   "source": [
    "merged_microdata['IPCF_hogar'].describe().T"
   ]
  },
  {
   "cell_type": "code",
   "execution_count": 19,
   "id": "8bf4f65a",
   "metadata": {},
   "outputs": [
    {
     "data": {
      "image/png": "[encoded data removed]",
      "text/plain": [
       "<Figure size 720x432 with 1 Axes>"
      ]
     },
     "metadata": {
      "needs_background": "light"
     },
     "output_type": "display_data"
    },
    {
     "name": "stdout",
     "output_type": "stream",
     "text": [
      "Porcentaje de cada categoría en IV8:\n",
      "1    99.732704\n",
      "2     0.267296\n",
      "Name: IV8, dtype: float64\n",
      "\n"
     ]
    },
    {
     "data": {
      "image/png": "[encoded data removed]",
      "text/plain": [
       "<Figure size 720x432 with 1 Axes>"
      ]
     },
     "metadata": {
      "needs_background": "light"
     },
     "output_type": "display_data"
    },
    {
     "name": "stdout",
     "output_type": "stream",
     "text": [
      "Porcentaje de cada categoría en V4:\n",
      "2    99.496855\n",
      "1     0.345912\n",
      "9     0.157233\n",
      "Name: V4, dtype: float64\n",
      "\n"
     ]
    },
    {
     "data": {
      "image/png": "[encoded data removed]",
      "text/plain": [
       "<Figure size 720x432 with 1 Axes>"
      ]
     },
     "metadata": {
      "needs_background": "light"
     },
     "output_type": "display_data"
    },
    {
     "name": "stdout",
     "output_type": "stream",
     "text": [
      "Porcentaje de cada categoría en IV3:\n",
      "1    86.525157\n",
      "2    13.191824\n",
      "3     0.204403\n",
      "4     0.078616\n",
      "Name: IV3, dtype: float64\n",
      "\n"
     ]
    },
    {
     "data": {
      "image/png": "[encoded data removed]",
      "text/plain": [
       "<Figure size 720x432 with 1 Axes>"
      ]
     },
     "metadata": {
      "needs_background": "light"
     },
     "output_type": "display_data"
    },
    {
     "name": "stdout",
     "output_type": "stream",
     "text": [
      "Porcentaje de cada categoría en IV11:\n",
      "1    68.113208\n",
      "2    22.264151\n",
      "3     9.135220\n",
      "0     0.267296\n",
      "4     0.220126\n",
      "Name: IV11, dtype: float64\n",
      "\n"
     ]
    }
   ],
   "source": [
    "variables = ['IV8', 'V4', 'IV3', 'IV11']\n",
    "\n",
    "for var in variables:\n",
    "    # Conteo de frecuencias\n",
    "    conteo_frecuencias = merged_microdata[var].value_counts()\n",
    "\n",
    "    # Gráfico de barras\n",
    "    plt.figure(figsize=(10, 6))\n",
    "    sns.countplot(data=merged_microdata, x=var)\n",
    "    plt.title(f'Gráfico de Barras - Frecuencia de Categorías en {var}')\n",
    "    plt.xticks(rotation=45)\n",
    "    plt.show()\n",
    "\n",
    "    # Porcentaje de cada categoría\n",
    "    porcentaje = merged_microdata[var].value_counts(normalize=True) * 100\n",
    "    print(f\"Porcentaje de cada categoría en {var}:\")\n",
    "    print(porcentaje)\n",
    "    print()"
   ]
  },
  {
   "cell_type": "code",
   "execution_count": 20,
   "id": "47adc7fa",
   "metadata": {},
   "outputs": [],
   "source": [
    "# Armamos una función para no tener que lidiar con el tedioso uso del archivo de Excel.\n",
    "\n",
    "# Esta función, asignar_valor, toma dos argumentos, edad y genero, y asigna un valor numérico basado en reglas condicionales\n",
    "# que dependen de estos dos argumentos. Las condiciones se prueban en orden y, cuando se encuentra una coincidencia, se\n",
    "# devuelve un valor específico. Si no se cumple ninguna condición, la función devuelve None.\n",
    "#Las condiciones están diseñadas para categorizar a las personas en grupos según su edad y género y asignarles un valor numérico basado en esas categorías.\n",
    "\n",
    "def asignar_valor(edad, genero):\n",
    "    if edad < 1:\n",
    "        if genero == 2:\n",
    "            return 0.35\n",
    "        elif genero == 1:\n",
    "            return 0.35\n",
    "    elif edad == 1:\n",
    "        if genero == 2:\n",
    "            return 0.37\n",
    "        elif genero == 1:\n",
    "            return 0.37\n",
    "    elif edad == 2:\n",
    "        if genero == 2:\n",
    "            return 0.46\n",
    "        elif genero == 1:\n",
    "            return 0.46\n",
    "    elif edad == 3:\n",
    "        if genero == 2:\n",
    "            return 0.51\n",
    "        elif genero == 1:\n",
    "            return 0.51\n",
    "    elif edad == 4:\n",
    "        if genero == 2:\n",
    "            return 0.55\n",
    "        elif genero == 1:\n",
    "            return 0.55\n",
    "    elif edad == 5:\n",
    "        if genero == 2:\n",
    "            return 0.60\n",
    "        elif genero == 1:\n",
    "            return 0.60\n",
    "    elif edad == 6:\n",
    "        if genero == 2:\n",
    "            return 0.64\n",
    "        elif genero == 1:\n",
    "            return 0.64\n",
    "    elif edad == 7:\n",
    "        if genero == 2:\n",
    "            return 0.66\n",
    "        elif genero == 1:\n",
    "            return 0.66\n",
    "    elif edad == 8:\n",
    "        if genero == 2:\n",
    "            return 0.68\n",
    "        elif genero == 1:\n",
    "            return 0.68\n",
    "    elif edad == 9:\n",
    "        if genero == 2:\n",
    "            return 0.69\n",
    "        elif genero == 1:\n",
    "            return 0.69\n",
    "    elif edad == 10:\n",
    "        if genero == 2:\n",
    "            return 0.70\n",
    "        elif genero == 1:\n",
    "            return 0.79\n",
    "    elif edad == 11:\n",
    "        if genero == 2:\n",
    "            return 0.72\n",
    "        elif genero == 1:\n",
    "            return 0.82\n",
    "    elif edad == 12:\n",
    "        if genero == 2:\n",
    "            return 0.74\n",
    "        elif genero == 1:\n",
    "            return 0.85\n",
    "    elif edad == 13:\n",
    "        if genero == 2:\n",
    "            return 0.76\n",
    "        elif genero == 1:\n",
    "            return 0.90\n",
    "    elif edad == 14:\n",
    "        if genero == 2:\n",
    "            return 0.76\n",
    "        elif genero == 1:\n",
    "            return 0.96\n",
    "    elif edad == 15:\n",
    "        if genero == 2:\n",
    "            return 0.77\n",
    "        elif genero == 1:\n",
    "            return 1.00\n",
    "    elif edad == 16:\n",
    "        if genero == 2:\n",
    "            return 0.77\n",
    "        elif genero == 1:\n",
    "            return 1.03\n",
    "    elif edad == 17:\n",
    "        if genero == 2:\n",
    "            return 0.77\n",
    "        elif genero == 1:\n",
    "            return 1.04\n",
    "    elif 18 <= edad <= 29:\n",
    "        if genero == 2:\n",
    "            return 0.76\n",
    "        elif genero == 1:\n",
    "            return 1.02\n",
    "    elif 30 <= edad <= 45:\n",
    "        if genero == 2:\n",
    "            return 0.77\n",
    "        elif genero == 1:\n",
    "            return 1.00\n",
    "    elif 46 <= edad <= 60:\n",
    "        if genero == 2:\n",
    "            return 0.76\n",
    "        elif genero == 1:\n",
    "            return 1.00\n",
    "    elif 61 <= edad <= 75:\n",
    "        if genero == 2:\n",
    "            return 0.67\n",
    "        elif genero == 1:\n",
    "            return 0.83\n",
    "    elif edad > 75:\n",
    "        if genero == 2:\n",
    "            return 0.63\n",
    "        elif genero == 1:\n",
    "            return 0.74\n",
    "    else:\n",
    "        return None  # En caso de que no haya una combinación válida"
   ]
  },
  {
   "cell_type": "markdown",
   "id": "abbbfa33",
   "metadata": {},
   "source": [
    "### Inciso 7"
   ]
  },
  {
   "cell_type": "code",
   "execution_count": 21,
   "id": "3eea9446",
   "metadata": {},
   "outputs": [],
   "source": [
    "# Aplicamos la funcion al data frame. Creamos una nueva columna llamada 'adulto_equiv' en el DataFrame 'microdata_filtered', donde se calculan y asignan valores equivalentes para adultos\n",
    "# a partir de las edades ('CH06') y géneros ('CH04') de cada fila utilizando una función llamada 'asignar_valor'.\n",
    "\n",
    "merged_microdata['adulto_equiv'] = merged_microdata.apply(lambda row: asignar_valor(row['CH06'], row['CH04']), axis=1)"
   ]
  },
  {
   "cell_type": "code",
   "execution_count": 22,
   "id": "a5c6c2c4",
   "metadata": {},
   "outputs": [],
   "source": [
    "# Limpiamos y Renombramos\n",
    "\n",
    "merged_microdata = merged_microdata.dropna(subset=['adulto_equiv'])\n",
    "\n",
    "result = merged_microdata.groupby(by=['CODUSU','NRO_HOGAR']).agg({'adulto_equiv': 'sum'}).reset_index()\n",
    "result.rename(columns={'adulto_equiv': 'ad_equiv_hogar'}, inplace=True)\n",
    "\n",
    "merged_microdata_FINAL = pd.merge(merged_microdata, result[['CODUSU','NRO_HOGAR', 'ad_equiv_hogar']],\n",
    "                     on=['CODUSU','NRO_HOGAR'],\n",
    "                     how='left')"
   ]
  },
  {
   "cell_type": "markdown",
   "id": "40a89131",
   "metadata": {},
   "source": [
    "### Inciso 8"
   ]
  },
  {
   "cell_type": "code",
   "execution_count": 23,
   "id": "898ed818",
   "metadata": {},
   "outputs": [
    {
     "name": "stdout",
     "output_type": "stream",
     "text": [
      "3138\n",
      "3222\n"
     ]
    }
   ],
   "source": [
    "# Definimos ambas bases según los criterios del enunciado, comprobando la condición sobre ITF.\n",
    "# Imprimimos la longitud del DataFrame para obtener las cantidades.\n",
    "\n",
    "# Reemplazar NaN por ceros en ITF_indv e ITF_hogar\n",
    "merged_microdata['ITF_indv'].fillna(0, inplace=True)\n",
    "merged_microdata['ITF_hogar'].fillna(0, inplace=True)\n",
    "\n",
    "respondieron = merged_microdata_FINAL[(merged_microdata_FINAL['ITF_indv'] != 0) | (merged_microdata_FINAL['ITF_hogar'] != 0)]\n",
    "print(len(respondieron))\n",
    "\n"
   ]
  },
  {
   "cell_type": "code",
   "execution_count": 92,
   "id": "ae571161",
   "metadata": {},
   "outputs": [
    {
     "name": "stdout",
     "output_type": "stream",
     "text": [
      "3222\n"
     ]
    }
   ],
   "source": [
    "norespondieron = merged_microdata_FINAL[(merged_microdata_FINAL['ITF_indv'] == 0) & (merged_microdata_FINAL['ITF_hogar'] == 0)]\n",
    "print(len(norespondieron))"
   ]
  },
  {
   "cell_type": "code",
   "execution_count": 24,
   "id": "52c8ef20",
   "metadata": {
    "scrolled": true
   },
   "outputs": [
    {
     "name": "stderr",
     "output_type": "stream",
     "text": [
      "<ipython-input-24-313027d11416>:6: SettingWithCopyWarning: \n",
      "A value is trying to be set on a copy of a slice from a DataFrame.\n",
      "Try using .loc[row_indexer,col_indexer] = value instead\n",
      "\n",
      "See the caveats in the documentation: https://pandas.pydata.org/pandas-docs/stable/user_guide/indexing.html#returning-a-view-versus-a-copy\n",
      "  respondieron['ingreso_necesario'] = respondieron['ad_equiv_hogar'] * valor_canasta_basica\n"
     ]
    }
   ],
   "source": [
    "# Definimos el valor de la canasta básica y luego\n",
    "# seguimos las instrucciones del enunciado para añadir una columna que indique el ingreso necesario\n",
    "\n",
    "valor_canasta_basica = 57371.05\n",
    "\n",
    "respondieron['ingreso_necesario'] = respondieron['ad_equiv_hogar'] * valor_canasta_basica"
   ]
  },
  {
   "cell_type": "markdown",
   "id": "adebca69",
   "metadata": {},
   "source": [
    "### Inciso 9"
   ]
  },
  {
   "cell_type": "code",
   "execution_count": 25,
   "id": "0a2d1212",
   "metadata": {},
   "outputs": [
    {
     "name": "stdout",
     "output_type": "stream",
     "text": [
      "Número de pobres identificados: 1486\n",
      "0.4735500318674315\n"
     ]
    },
    {
     "name": "stderr",
     "output_type": "stream",
     "text": [
      "<ipython-input-25-3df45728e1cd>:5: SettingWithCopyWarning: \n",
      "A value is trying to be set on a copy of a slice from a DataFrame.\n",
      "Try using .loc[row_indexer,col_indexer] = value instead\n",
      "\n",
      "See the caveats in the documentation: https://pandas.pydata.org/pandas-docs/stable/user_guide/indexing.html#returning-a-view-versus-a-copy\n",
      "  respondieron['pobre'] = ((respondieron['ITF_hogar'] < respondieron['ingreso_necesario']) & (respondieron['ITF_indv'] < respondieron['ingreso_necesario'])).astype(int)\n"
     ]
    }
   ],
   "source": [
    "# Creamos una nueva columna llamada 'pobre' en el DataFrame 'respondieron',\n",
    "# donde se asigna un valor de 1 si el valor en la columna 'ITF' es menor que\n",
    "# el valor en la columna 'ingreso_necesario', y 0 en caso contrario, convirtiendo los resultados a enteros.\n",
    "\n",
    "respondieron['pobre'] = ((respondieron['ITF_hogar'] < respondieron['ingreso_necesario']) & (respondieron['ITF_indv'] < respondieron['ingreso_necesario'])).astype(int)\n",
    "\n",
    "# Sumamos todos los 1\n",
    "\n",
    "num_pobres = respondieron['pobre'].sum()\n",
    "\n",
    "print(f'Número de pobres identificados: {num_pobres}')\n",
    "\n",
    "# En %\n",
    "\n",
    "print(num_pobres/len(respondieron))\n",
    "\n"
   ]
  },
  {
   "cell_type": "code",
   "execution_count": 26,
   "id": "1d0f1b56",
   "metadata": {},
   "outputs": [],
   "source": [
    "# Guardamos como csv estas bases por si se desea correr Parte 3 de manera separada a la Parte 1. \n",
    "respondieron.to_csv('respondieron.csv', index=False)\n",
    "norespondieron.to_csv('norespondieron.csv', index=False)"
   ]
  },
  {
   "cell_type": "markdown",
   "id": "26585cfc",
   "metadata": {},
   "source": [
    "### Inciso 10"
   ]
  },
  {
   "cell_type": "code",
   "execution_count": 27,
   "id": "fdcd45a4",
   "metadata": {},
   "outputs": [
    {
     "data": {
      "text/plain": [
       "0        2540\n",
       "1        2540\n",
       "2       14082\n",
       "3       14082\n",
       "4       14082\n",
       "        ...  \n",
       "6355     4220\n",
       "6356     4220\n",
       "6357        0\n",
       "6358        0\n",
       "6359        0\n",
       "Name: PONDIH_hogar, Length: 6360, dtype: int64"
      ]
     },
     "execution_count": 27,
     "metadata": {},
     "output_type": "execute_result"
    }
   ],
   "source": [
    "merged_microdata_FINAL['PONDIH_hogar']"
   ]
  },
  {
   "cell_type": "code",
   "execution_count": 28,
   "id": "71621bb1",
   "metadata": {},
   "outputs": [],
   "source": [
    "# Agrupar por hogar y utilizar el ponderador PONDIH para calcular la tasa de hogares pobres\n",
    "# Agrupamos los datos por el código del hogar (CODUSU)\n",
    "microdata_repres = respondieron.groupby('CODUSU').first().reset_index()\n"
   ]
  },
  {
   "cell_type": "code",
   "execution_count": 29,
   "id": "ee95edee",
   "metadata": {},
   "outputs": [],
   "source": [
    "# Ponderacion\n",
    "microdata_repres['ponderacion'] = microdata_repres['PONDIH_indv'] * microdata_repres['pobre']"
   ]
  },
  {
   "cell_type": "code",
   "execution_count": 30,
   "id": "dbbe843b",
   "metadata": {},
   "outputs": [],
   "source": [
    "pobres = microdata_repres['ponderacion'].sum()\n",
    "poblacion = microdata_repres['PONDIH_indv'].sum()\n",
    "porcentaje_pobres = (pobres / poblacion) * 100"
   ]
  },
  {
   "cell_type": "code",
   "execution_count": 31,
   "id": "901e648d",
   "metadata": {
    "scrolled": true
   },
   "outputs": [
    {
     "name": "stdout",
     "output_type": "stream",
     "text": [
      "pobres: 1.439.914\n",
      "tasa 36.66%\n"
     ]
    }
   ],
   "source": [
    "pobres1 = '{:,}'.format(pobres).replace(',', '.')\n",
    "print(f\"pobres: {pobres1}\")\n",
    "print(f\"tasa {porcentaje_pobres:.2f}%\")"
   ]
  },
  {
   "cell_type": "markdown",
   "id": "36846408",
   "metadata": {},
   "source": [
    "#### La tasa de pobreza nos dio 6 PP mayor que la reportada por el INDEC. Creemos que esto puede ser debido a distintos criterios de limpieza de la base. Aun asi, la diferencia no es tan significativa."
   ]
  },
  {
   "cell_type": "markdown",
   "id": "447197d0",
   "metadata": {},
   "source": [
    "# Parte 2: Construcción de funciones"
   ]
  },
  {
   "cell_type": "code",
   "execution_count": 35,
   "id": "c271b078",
   "metadata": {},
   "outputs": [],
   "source": [
    "import pandas as pd\n",
    "import numpy as np\n",
    "#from ISLP import load_data\n",
    "\n",
    "from matplotlib import pyplot as plt\n",
    "\n",
    "from sklearn.model_selection import train_test_split\n",
    "from sklearn.linear_model import LinearRegression\n",
    "from sklearn.preprocessing import PolynomialFeatures \n",
    "from sklearn.metrics import mean_squared_error\n",
    "from sklearn.linear_model import LogisticRegression\n",
    "from sklearn.metrics import confusion_matrix, roc_curve, auc, accuracy_score\n",
    "from sklearn.datasets import load_breast_cancer\n",
    "from sklearn.model_selection import train_test_split\n",
    "from sklearn.model_selection import KFold\n",
    "from sklearn.discriminant_analysis import LinearDiscriminantAnalysis\n",
    "from sklearn.neighbors import KNeighborsClassifier\n",
    "import statsmodels.api as sm\n",
    "\n",
    "import os  \n",
    "import pandas as pd\n",
    "import numpy as np \n",
    "import matplotlib.pyplot as plt  \n",
    "import statsmodels.api as sm     \n",
    "\n",
    "from sklearn import datasets\n",
    "from sklearn.linear_model import LogisticRegression\n",
    "from sklearn.model_selection import train_test_split\n",
    "from sklearn.metrics import confusion_matrix\n",
    "from sklearn.metrics import accuracy_score, recall_score \n",
    "from sklearn.metrics import roc_auc_score\n",
    "from sklearn.metrics import mean_squared_error\n",
    "from sklearn.metrics import RocCurveDisplay\n",
    "from sklearn.model_selection import KFold\n",
    "from sklearn.discriminant_analysis import LinearDiscriminantAnalysis as LDA\n",
    "from sklearn.neighbors import KNeighborsClassifier\n"
   ]
  },
  {
   "cell_type": "markdown",
   "id": "43603106",
   "metadata": {},
   "source": [
    "## Inciso 1"
   ]
  },
  {
   "cell_type": "markdown",
   "id": "952be314",
   "metadata": {},
   "source": [
    "#### Escriban una funcion, llamada evalua metodo, que reciba como argumentos un modelo y los datos de entrenamiento y prueba (X train, y train, X test,y test).\n",
    "#### La función debe ajustar el modelo con los datos de entrenamiento y calcular las métricas que considere necesarias para esta problem´atica (de mínima, deben reportar la matriz de confusión, las curvas ROC y los valores d eAUC y de accuracy score de cada método). \n",
    "#### El output de la función debe se runa colección con las métricas evaluadas.\n"
   ]
  },
  {
   "cell_type": "code",
   "execution_count": 36,
   "id": "c6195527",
   "metadata": {},
   "outputs": [],
   "source": [
    "def evalua_metodo(model, X_train, y_train, X_test, y_test, plot=True, coef=False):\n",
    "    '''\n",
    "    Evalua un modelo de clasificación proporcionando métricas clave y visualizando la curva ROC. \n",
    "    También puede proveer los coeficientes estimados en el modelo y la proporción de coeficientes iguales a cero.\n",
    "\n",
    "    Input:\n",
    "    - modelo: modelo de clasificación ya instanciado (debe tener los métodos `fit`, `predict` y `predict_proba`).\n",
    "    - X_train, y_train: datos de entrenamiento.\n",
    "    - X_test, y_test: datos de prueba.\n",
    "    - plot (default=True): argumento booleano. \n",
    "    - coef(default=False): argumento booleano. \n",
    "    Output:\n",
    "    - Diccionario con las siguientes métricas:\n",
    "        * matriz_confusion: Matriz de confusión del modelo.\n",
    "        * valor_auc: Área bajo la curva ROC.\n",
    "        * accuracy: Precisión del modelo.\n",
    "        En caso coef=True, también incluye:\n",
    "        * Diccionario de variables y sus coeficientes estimados.\n",
    "        * Proporción de variables con coeficientes estimados iguales a cero. \n",
    "    - Gráfico de la curva ROC si plot=True. \n",
    "    '''\n",
    "    model_to_evaluate = model\n",
    "    # Ajustar el modelo con los datos de entrenamiento\n",
    "    model_fit = model_to_evaluate.fit(X_train, y_train)\n",
    "\n",
    "    # Predecir en el conjunto de prueba\n",
    "    y_pred = model_fit.predict(X_test)\n",
    "\n",
    "    # Calcular el área bajo la curva ROC y trazar la curva ROC\n",
    "    auc = roc_auc_score(y_test, y_pred)\n",
    "    fpr, tpr, thresholds = roc_curve(y_test, y_pred)\n",
    "\n",
    "    # Matriz de confusión\n",
    "    matriz_confusion = confusion_matrix(y_test, y_pred)\n",
    "\n",
    "    # Accuracy Score\n",
    "    accuracy = accuracy_score(y_test, y_pred)\n",
    "\n",
    "    # Trazar la curva ROC\n",
    "    if plot:\n",
    "        plt.figure()\n",
    "        plt.plot(fpr, tpr, color='darkorange', label='Curva ROC (área = %0.2f)' % auc)\n",
    "        plt.plot([0, 1], [0, 1], color='navy', linestyle='--')\n",
    "        plt.xlabel('Tasa de falsos positivos')\n",
    "        plt.ylabel('Tasa de verdaderos positivos')\n",
    "        plt.title('Curva ROC')\n",
    "        plt.legend(loc=\"lower right\")\n",
    "        plt.show()\n",
    "\n",
    "    # ECM\n",
    "    ecm = mean_squared_error(y_test, y_pred) # Deseamos tener esta métrica disponible para la siguiente función. \n",
    "    if coef:\n",
    "        coeficientes = dict(zip(X_train.columns, model_fit.coef_[0])) # Generamos un diccionario donde cada llave es el nombre de una variable y su valor es el coeficiente estimado.\n",
    "        proporcion_variables_cero = sum(value == 0 for value in model_fit.coef_[0]) / len(coeficientes) # Guardamos la proporción de variables con coeficiente estimado igual a cero.\n",
    "\n",
    "    # Retornar las métricas evaluadas\n",
    "    metrics = {\n",
    "        'AUC': auc,\n",
    "        'Confusion Matrix': matriz_confusion,\n",
    "        'Accuracy Score': accuracy,\n",
    "        'ECM': ecm,\n",
    "    }\n",
    "\n",
    "    if coef:\n",
    "        metrics['Coeficientes'] = coeficientes\n",
    "        metrics['Proporción de Variables con Coeficiente Cero'] = proporcion_variables_cero\n",
    "\n",
    "    return metrics"
   ]
  },
  {
   "cell_type": "markdown",
   "id": "f61b044f",
   "metadata": {},
   "source": [
    "## Inciso 2"
   ]
  },
  {
   "cell_type": "markdown",
   "id": "1feb28c4",
   "metadata": {},
   "source": [
    "#### Escriban una función, llamada cross validation, que realice validación cruzada con k iteraciones (k-fold CV), llamando a la función del  inciso anterior en cada una, pero para las k distintas particiones. \n",
    "#### La función debe recibir como argumentos el modelo, el valor de k y un dataset (es decir, s´olo X e y).\n",
    "#### Pueden ayudarse con la función KFold para generar las particiones necesarias"
   ]
  },
  {
   "cell_type": "code",
   "execution_count": 37,
   "id": "c8459179",
   "metadata": {},
   "outputs": [],
   "source": [
    "from sklearn.preprocessing import StandardScaler\n",
    "from sklearn.model_selection import KFold"
   ]
  },
  {
   "cell_type": "code",
   "execution_count": 38,
   "id": "07cfe96f",
   "metadata": {},
   "outputs": [],
   "source": [
    "def cross_validation(modelo, k, x, y, std=True, coef=False):\n",
    "    if isinstance(x, np.ndarray):\n",
    "        x = pd.DataFrame(x)\n",
    "    if isinstance(y, np.ndarray):\n",
    "        y = pd.DataFrame(y)\n",
    "\n",
    "    \"\"\"\n",
    "    Realiza validación cruzada k-fold y evalúa un modelo de clasificación en cada partición.\n",
    "    \n",
    "    Inputs:\n",
    "    - modelo: modelo de clasificación ya instanciado.\n",
    "    - k: número de particiones para la validación cruzada.\n",
    "    - X: variables independientes del conjunto de datos. Para nuestros fines predictivos, debería ser la muestra de entrenamiento. \n",
    "    - y: variable dependiente (target) del conjunto de datos. Para nuestros fines predictivos, debería ser la muestra de entrenamiento.\n",
    "    - std: argumento booleano.\n",
    "            Si std= True estandarizamos las variables explicativas. Esto es necesario al momento de regularizar por Lasso o Ridge.\n",
    "    - coef: argumento booleano. \n",
    "    Outputs:\n",
    "    - Un DataFrame con k filas, una para cada iteración de la validación cruzada. Tiene las siguientes columnas:\n",
    "        - partición: número de partición \n",
    "        - el error cuadrático medio (ECM)    \n",
    "        - Si Coef=True, reportamos la proporción de variables iguales a cero. \n",
    "        Esto nos sirve para analizar el resultado de regularizar vía Lasso.\n",
    "    \n",
    "    \"\"\"\n",
    "    sc = StandardScaler()\n",
    "    kf = KFold(n_splits=k, shuffle=True, random_state=2023)\n",
    "    output = []\n",
    "\n",
    "    for i, (train_index, test_index) in enumerate(kf.split(x)):\n",
    "        x_train, x_test = x.iloc[list(train_index)], x.iloc[list(test_index)]\n",
    "        y_train, y_test = y.iloc[list(train_index)], y.iloc[list(test_index)]\n",
    "\n",
    "        if std:\n",
    "            x_train = pd.DataFrame(sc.fit_transform(x_train), index=x_train.index, columns=x_train.columns)\n",
    "            x_test = pd.DataFrame(sc.transform(x_test), index=x_test.index, columns=x_test.columns)\n",
    "\n",
    "        # Llamar a evalua_metodo para calcular las métricas\n",
    "        metrics = evalua_metodo(modelo, x_train, y_train, x_test, y_test, plot=False, coef=coef)\n",
    "\n",
    "        # Extraer las métricas calculadas en evalua_metodo\n",
    "        matriz_confusion = metrics['Confusion Matrix']\n",
    "        valor_auc = metrics['AUC']\n",
    "        accuracy = metrics['Accuracy Score']\n",
    "        ecm = metrics['ECM']\n",
    "\n",
    "        proporcion_variables_cero = None\n",
    "\n",
    "        if coef:\n",
    "            proporcion_variables_cero = metrics['Proporción de Variables con Coeficiente Cero']\n",
    "\n",
    "        output.append((i + 1, ecm, valor_auc, accuracy, matriz_confusion, proporcion_variables_cero))\n",
    "\n",
    "    output_df = pd.DataFrame(output, columns=[\"Particion\", \"MSE\", \"valor_auc\", \"accuracy\", \"matriz_confusion\", \"proporcion_variables_cero\"])\n",
    "    return output_df"
   ]
  },
  {
   "cell_type": "markdown",
   "id": "832860c4",
   "metadata": {},
   "source": [
    "## Inciso 3"
   ]
  },
  {
   "cell_type": "markdown",
   "id": "24efd06e",
   "metadata": {},
   "source": [
    "#### Escriban una función, llamada evalua config que reciba una lista de configuraciones de hiperparámetros (los distintos valores a probar como hiper-parámetros podrian codificarse en diccionarios de Python)y utilizando la función cross validation obtenga el error cuadrado promedio para cada configuración."
   ]
  },
  {
   "cell_type": "code",
   "execution_count": 39,
   "id": "20798665",
   "metadata": {},
   "outputs": [],
   "source": [
    "def evalua_config(model_types, lambdas, X_T, y_T, declar=True):\n",
    "    \"\"\"\n",
    "    Encuentra el valor óptimo de lambda para Ridge, Lasso o ambos modelos en un modelo de clasificación.\n",
    "    Inputs:\n",
    "    - model_types: Lista de tipos de modelo ('ridge', 'lasso', o ambos). Si no es ('ridge', 'lasso', o ambos), no se regulariza. \n",
    "    - lambdas: Lista de valores de lambda para evaluar.\n",
    "    - X_T: Variables explicativas. Debería ser la muestra de entrenamiento. \n",
    "    - y_T: Variable objetivo (etiquetas binarias 0 y 1). Debería ser la muestra de entrenamiento.\n",
    "    - declar: argumento booleano que imprime la configuración óptima if True. No lo hace d.o.m.\n",
    "    Outputs:\n",
    "    - DataFrame que contiene: el método de regularización, los valores de lambda y los errores cuadráticos medios para los modelos seleccionados.\n",
    "    \n",
    "    \"\"\"\n",
    "\n",
    "    if not all(model_type in ['ridge', 'lasso'] for model_type in model_types):\n",
    "        raise ValueError(\"Los elementos en 'model_types' deben ser 'ridge', 'lasso', o ambos.\")\n",
    "\n",
    "    resultados_lambda = []\n",
    "\n",
    "    for model_type in model_types:\n",
    "        if model_type == 'ridge':\n",
    "            modelo = LogisticRegression(penalty='l2', solver='liblinear')\n",
    "        else:\n",
    "            modelo = LogisticRegression(penalty='l1', solver='liblinear')\n",
    "\n",
    "        for alpha in lambdas:\n",
    "            modelo.set_params(C=1/alpha)\n",
    "\n",
    "            # Realizar validación cruzada utilizando cross_validation\n",
    "            resultados = cross_validation(modelo, k=5, x=X_T, y=y_T, std=True)\n",
    "\n",
    "            # Calcular el Error Cuadrático Medio (ECM) promedio\n",
    "            ecm_promedio = np.mean(resultados['MSE'])\n",
    "\n",
    "            resultados_lambda.append((model_type, alpha, ecm_promedio))\n",
    "    # Crear un DataFrame a partir de la lista de tuplas\n",
    "    resultados_df = pd.DataFrame(resultados_lambda, columns=[\"Model Type\", \"Lambda\", \"ECM\"])\n",
    "    #min_ecm = resultados_df['ECM'].min()\n",
    "    #resultados_df['config. óptima'] = resultados_df['ECM'] == min_ecm\n",
    "    optimal_configuration = resultados_df.loc[resultados_df['ECM'].idxmin()]\n",
    "    optimal_lambda = optimal_configuration['Lambda']\n",
    "    optimal_model_type = optimal_configuration['Model Type']\n",
    "    if declar:\n",
    "        print(f\"La configuración óptima es: Lambda = {optimal_lambda}, Model Type = {optimal_model_type}\")\n",
    "    return resultados_df"
   ]
  },
  {
   "cell_type": "markdown",
   "id": "4dc00c5c",
   "metadata": {},
   "source": [
    "## Inciso 4"
   ]
  },
  {
   "cell_type": "markdown",
   "id": "55e3adb6",
   "metadata": {},
   "source": [
    "#### Escriban una función llamada \"evalua multiples metodos\" que les permita implementar los siguiente métodos con los hiperparámetros que ustedes elijan. \n",
    "#### Para la regresión logística, aseg´urense de que esta función utilice su función.\n",
    "#### evalua config para optimizar el λ de la regularizaci´on. Finalmente, el output de la función debe ser una tabla donde las columnas sean las métricas que hayan evaluado (las que hayan incluido en la función evalua metodo) y las filas sean los modelos (con su configuraci´on de hiperpar´ametros asociada) que hayan corrido.\n",
    "#### Asegúrense de que la tabla incluya una columna con nombre del modelo y el valor de los hiperparámetros/configuración:"
   ]
  },
  {
   "cell_type": "code",
   "execution_count": 40,
   "id": "90e40891",
   "metadata": {},
   "outputs": [],
   "source": [
    "from sklearn.linear_model import LogisticRegression\n",
    "from sklearn.discriminant_analysis import LinearDiscriminantAnalysis\n",
    "from sklearn.neighbors import KNeighborsClassifier\n",
    "\n",
    "def evalua_multiples_metodos(X_train, y_train, X_test, y_test, metodos):\n",
    "    \"\"\"\n",
    "    Evalúa varios métodos de clasificación con hiperparámetros personalizados y regresión logística con optimización de lambda.\n",
    "\n",
    "    Inputs:\n",
    "    - X_train: variables explicativas, datos de la muestra de entrenamiento \n",
    "    - X_test: variables explicativas, datos de la muestra de prueba\n",
    "    - Y_train: variable objetivo binaria, datos de la muestra de entrenamiento \n",
    "    - Y_test: variable objetivo binaria, datos de la muestra de prueba  \n",
    "    - metodos: Lista de diccionarios que especifican los modelos (Regresión Logística, KNN y ADL) y sus hiperparámetros.\n",
    "    Outputs:\n",
    "    - DataFrame que contiene las métricas evaluadas para cada modelo, el nombre del modelo, los hiperparámetros utilizados, el método de regularización para el modelo logit y el número del hiperparámetro óptimo para el modelo logit.\n",
    "    Nota: estandarizamos las variables explicativas en dos instancias. Primero, evalua_config estandariza las variables explicativas dentro de cada submuestra como\n",
    "    parte de la configuración de su función interna cross_validation. Luego, para comparar la performance de los modelos, los corremos utilizando las variables estandarizadas dentro\n",
    "    de la muestra de entrenamiento y de prueba. \n",
    "    \"\"\"\n",
    "    resultados = []  # Resultados como una lista de diccionarios\n",
    "    \n",
    "    for metodo in metodos:\n",
    "        nombre_modelo = metodo['nombre']\n",
    "        hiperparametros = metodo['hiperparametros']\n",
    "        resultados_modelo = {}  # Inicializar resultados_modelo\n",
    "        sc = StandardScaler()\n",
    "        X_train_std = pd.DataFrame(sc.fit_transform(X_train), index=X_train.index, columns=X_train.columns)\n",
    "        X_test_std = pd.DataFrame(sc.transform(X_test), index=X_test.index, columns=X_test.columns)\n",
    "        \n",
    "        if nombre_modelo == 'Regresión Logística':\n",
    "            # Optimizar lambda (α) para la regularización de la Regresión Logística\n",
    "            lambdas = hiperparametros.get('lambdas', [0.00001, 0.0001, 0.001, 0.01, 0.1, 1, 10, 100, 1000, 10000, 100000]) ## Default de lambdas a evaluar.\n",
    "            resultados_log = evalua_config(['ridge', 'lasso'], lambdas, X_train, y_train,declar=False)\n",
    "            mejor_lambda = resultados_log.loc[resultados_log['ECM'].idxmin()]['Lambda']\n",
    "            mejor_metodo = resultados_log.loc[resultados_log['ECM'].idxmin()]['Model Type']\n",
    "            if mejor_metodo == \"ridge\":\n",
    "                modelo = LogisticRegression(penalty='l2', C=1/mejor_lambda, solver='liblinear')\n",
    "            else:\n",
    "                modelo = LogisticRegression(penalty='l1', C=1/mejor_lambda, solver='liblinear')\n",
    "            \n",
    "            resultados_modelo = evalua_metodo(modelo, X_train_std, y_train, X_test_std, y_test, plot=False)\n",
    "        elif nombre_modelo == 'Análisis de Discriminante Lineal':\n",
    "            # Crear el modelo de Análisis de Discriminante Lineal con los hiperparámetros personalizados\n",
    "            modelo = LinearDiscriminantAnalysis(**hiperparametros)\n",
    "            # Evaluar el modelo\n",
    "            resultados_modelo = evalua_metodo(modelo, X_train_std, y_train, X_test_std, y_test, plot=False)\n",
    "        elif nombre_modelo == 'KNN':\n",
    "            # Crear el modelo K-Nearest Neighbors (KNN) con los hiperparámetros personalizados\n",
    "            modelo = KNeighborsClassifier(**hiperparametros)\n",
    "            # Evaluar el modelo\n",
    "            resultados_modelo = evalua_metodo(modelo, X_train_std, y_train, X_test_std, y_test, plot=False)\n",
    "        \n",
    "        # Agregar el nombre del modelo y los hiperparámetros/configuración\n",
    "        resultados_modelo['Modelo'] = nombre_modelo\n",
    "        resultados_modelo['Hiperparámetros'] = str(hiperparametros)\n",
    "        \n",
    "        if nombre_modelo == 'Regresión Logística':\n",
    "            resultados_modelo['Método de Regularización'] = mejor_metodo\n",
    "            resultados_modelo['Hiperparámetro Óptimo'] = mejor_lambda\n",
    "        else:\n",
    "            resultados_modelo['Método de Regularización'] = None\n",
    "            resultados_modelo['Hiperparámetro Óptimo'] = None\n",
    "        \n",
    "        resultados.append(resultados_modelo)\n",
    "    \n",
    "    resultados_df = pd.DataFrame(resultados)\n",
    "    return resultados_df  # Resultados es un DataFrame que contiene los resultados de cada modelo"
   ]
  },
  {
   "cell_type": "markdown",
   "id": "e2db386e",
   "metadata": {},
   "source": [
    "# Parte 3: Análisis de la base de hogares y cálculo de pobreza"
   ]
  },
  {
   "cell_type": "code",
   "execution_count": 41,
   "id": "2986c02a",
   "metadata": {},
   "outputs": [],
   "source": [
    "import pandas as pd\n",
    "import numpy as np\n",
    "#from ISLP import load_data\n",
    "\n",
    "from matplotlib import pyplot as plt\n",
    "\n",
    "from sklearn.model_selection import train_test_split\n",
    "from sklearn.linear_model import LinearRegression\n",
    "from sklearn.preprocessing import PolynomialFeatures \n",
    "from sklearn.metrics import mean_squared_error\n",
    "from sklearn.linear_model import LogisticRegression\n",
    "from sklearn.metrics import confusion_matrix, roc_curve, auc, accuracy_score\n",
    "import matplotlib.pyplot as plt\n",
    "from sklearn.linear_model import LogisticRegression\n",
    "from sklearn.datasets import load_breast_cancer\n",
    "from sklearn.model_selection import train_test_split\n",
    "from sklearn.model_selection import KFold\n",
    "from sklearn.discriminant_analysis import LinearDiscriminantAnalysis\n",
    "from sklearn.neighbors import KNeighborsClassifier"
   ]
  },
  {
   "cell_type": "markdown",
   "id": "05c4981b",
   "metadata": {},
   "source": [
    "## Inciso 1"
   ]
  },
  {
   "cell_type": "markdown",
   "id": "eb302823",
   "metadata": {},
   "source": [
    "#### Eliminen de ambas bases (respondieron, norespondieron) todas las variables relacionadas a ingresos. Eliminen también las columnas adulto equiv, ad equiv hogar e ingreso necesario.\n",
    "#### Establezcan a la variable pobre como su variable dependiente (vector y). El resto de las variables serán las variables independientes (matriz X). \n",
    "#### Dependiendo de la función que usen, no se olviden de agregar la columna de 1 cuando sea necesario."
   ]
  },
  {
   "cell_type": "code",
   "execution_count": 42,
   "id": "a9fff0a8",
   "metadata": {},
   "outputs": [
    {
     "name": "stdout",
     "output_type": "stream",
     "text": [
      "CODUSU\n",
      "NRO_HOGAR\n",
      "COMPONENTE\n",
      "H15\n",
      "AGLOMERADO_indv\n",
      "PONDERA_indv\n",
      "CH03\n",
      "CH04\n",
      "CH06\n",
      "CH10\n",
      "CH11\n",
      "CH13\n",
      "PP02C1\n",
      "PP02C2\n",
      "PP02C3\n",
      "PP02C4\n",
      "PP02C5\n",
      "PP02C6\n",
      "PP02C7\n",
      "PP02C8\n",
      "PP02E\n",
      "PP02H\n",
      "PP02I\n",
      "P21\n",
      "DECOCUR\n",
      "RDECOCUR\n",
      "GDECOCUR\n",
      "ADECOCUR\n",
      "PONDIIO\n",
      "TOT_P12\n",
      "P47T\n",
      "DECINDR\n",
      "RDECINDR\n",
      "GDECINDR\n",
      "ADECINDR\n",
      "PONDII\n",
      "V2_M\n",
      "V3_M\n",
      "V4_M\n",
      "V5_M\n",
      "V8_M\n",
      "V9_M\n",
      "V10_M\n",
      "V11_M\n",
      "V12_M\n",
      "V18_M\n",
      "V19_AM\n",
      "V21_M\n",
      "T_VI\n",
      "ITF_indv\n",
      "DECIFR_indv\n",
      "RDECIFR_indv\n",
      "GDECIFR_indv\n",
      "ADECIFR_indv\n",
      "IPCF_indv\n",
      "DECCFR_indv\n",
      "RDECCFR_indv\n",
      "GDECCFR_indv\n",
      "ADECCFR_indv\n",
      "PONDIH_indv\n",
      "REALIZADA\n",
      "AGLOMERADO_hogar\n",
      "PONDERA_hogar\n",
      "IV1\n",
      "IV2\n",
      "IV3\n",
      "IV4\n",
      "IV5\n",
      "IV6\n",
      "IV7\n",
      "IV8\n",
      "IV9\n",
      "IV10\n",
      "IV11\n",
      "IV12_1\n",
      "IV12_2\n",
      "IV12_3\n",
      "II1\n",
      "II2\n",
      "II3\n",
      "II3_1\n",
      "II4_1\n",
      "II4_2\n",
      "II4_3\n",
      "II5\n",
      "II5_1\n",
      "II6\n",
      "II6_1\n",
      "II7\n",
      "II8\n",
      "II9\n",
      "V1\n",
      "V2\n",
      "V21\n",
      "V22\n",
      "V3\n",
      "V4\n",
      "V5\n",
      "V6\n",
      "V7\n",
      "V8\n",
      "V9\n",
      "V10\n",
      "V11\n",
      "V12\n",
      "V13\n",
      "V14\n",
      "V15\n",
      "V16\n",
      "V17\n",
      "V18\n",
      "V19_A\n",
      "V19_B\n",
      "IX_TOT\n",
      "IX_MEN10\n",
      "IX_MAYEQ10\n",
      "ITF_hogar\n",
      "DECIFR_hogar\n",
      "RDECIFR_hogar\n",
      "GDECIFR_hogar\n",
      "ADECIFR_hogar\n",
      "IPCF_hogar\n",
      "DECCFR_hogar\n",
      "RDECCFR_hogar\n",
      "GDECCFR_hogar\n",
      "ADECCFR_hogar\n",
      "PONDIH_hogar\n",
      "VII1_1\n",
      "VII1_2\n",
      "VII2_1\n",
      "VII2_2\n",
      "VII2_3\n",
      "VII2_4\n",
      "NIVEL_ED_1\n",
      "NIVEL_ED_2\n",
      "NIVEL_ED_3\n",
      "NIVEL_ED_4\n",
      "NIVEL_ED_5\n",
      "NIVEL_ED_6\n",
      "NIVEL_ED_7\n",
      "CH07_1\n",
      "CH07_2\n",
      "CH07_3\n",
      "CH07_4\n",
      "CH07_5\n",
      "CH07_9\n",
      "CH08_1.0\n",
      "CH08_2.0\n",
      "CH08_3.0\n",
      "CH08_4.0\n",
      "CH08_9.0\n",
      "CH08_12.0\n",
      "CH09_1\n",
      "CH09_2\n",
      "CH09_3\n",
      "CH12_0\n",
      "CH12_1\n",
      "CH12_2\n",
      "CH12_3\n",
      "CH12_4\n",
      "CH12_5\n",
      "CH12_6\n",
      "CH12_7\n",
      "CH12_8\n",
      "CH12_9\n",
      "CH12_99\n",
      "CH15_1\n",
      "CH15_2\n",
      "CH15_3\n",
      "CH15_4\n",
      "CH15_5\n",
      "CH15_9\n",
      "CH16_0\n",
      "CH16_1\n",
      "CH16_2\n",
      "CH16_3\n",
      "CH16_4\n",
      "CH16_5\n",
      "CH16_6\n",
      "CH16_9\n",
      "ESTADO_1\n",
      "ESTADO_2\n",
      "ESTADO_3\n",
      "ESTADO_4\n",
      "CAT_OCUP_0\n",
      "CAT_OCUP_1\n",
      "CAT_OCUP_2\n",
      "CAT_OCUP_3\n",
      "CAT_OCUP_4\n",
      "CAT_OCUP_9\n",
      "CAT_INAC_0\n",
      "CAT_INAC_1\n",
      "CAT_INAC_2\n",
      "CAT_INAC_3\n",
      "CAT_INAC_4\n",
      "CAT_INAC_5\n",
      "CAT_INAC_6\n",
      "CAT_INAC_7\n",
      "adulto_equiv\n",
      "ad_equiv_hogar\n",
      "ingreso_necesario\n",
      "pobre\n"
     ]
    }
   ],
   "source": [
    "variables = respondieron.columns\n",
    "for variable in variables:\n",
    "   print(variable)"
   ]
  },
  {
   "cell_type": "code",
   "execution_count": 43,
   "id": "8fe00d55",
   "metadata": {},
   "outputs": [],
   "source": [
    "# Eliminar columnas específicas\n",
    "respondieron = respondieron.drop(columns=['CODUSU'])\n",
    "\n",
    "# Eliminar un rango de columnas: ingresos de la ocupación principal de los asalariados\n",
    "respondieron = respondieron.drop(columns=[col for col in respondieron.columns if col.startswith('PP08')])\n",
    "\n",
    "# Eliminar un rango de columnas: Ingresos de la ocupación principal de los trabajadores independientes\n",
    "respondieron = respondieron.drop(columns=[col for col in respondieron.columns if col.startswith('PP06')])\n",
    "\n",
    "# Ingresos de la ocupación principal\n",
    "start = respondieron.columns.get_loc('P21')\n",
    "end = respondieron.columns.get_loc('PONDIH_indv')\n",
    "\n",
    "columns_to_drop = respondieron.columns[start:end+1]\n",
    "respondieron = respondieron.drop(columns=columns_to_drop)\n",
    "\n",
    "# Ingresos de la ocupación principal\n",
    "start = respondieron.columns.get_loc('ITF_hogar')\n",
    "end = respondieron.columns.get_loc('PONDIH_hogar')\n",
    "\n",
    "columns_to_drop = respondieron.columns[start:end+1]\n",
    "respondieron = respondieron.drop(columns=columns_to_drop)\n",
    "\n",
    "# Ingresos de la ocupación principal\n",
    "start = respondieron.columns.get_loc('adulto_equiv')\n",
    "end = respondieron.columns.get_loc('ingreso_necesario')\n",
    "\n",
    "columns_to_drop = respondieron.columns[start:end+1]\n",
    "respondieron = respondieron.drop(columns=columns_to_drop)"
   ]
  },
  {
   "cell_type": "code",
   "execution_count": 95,
   "id": "0c210db7",
   "metadata": {},
   "outputs": [],
   "source": [
    "# Eliminar columnas específicas\n",
    "norespondieron = norespondieron.drop(columns=['CODUSU'])\n",
    "\n",
    "# Las columnas ingresos de la ocupación principal de los asalariados e Ingresos de la ocupación principal de \n",
    "# los trabajadores independientes fueron eliminadas previamente en la Parte 1 por su alto contenido de NAs\n",
    "\n",
    "# Ingresos de la ocupación principal\n",
    "start = norespondieron.columns.get_loc('P21')\n",
    "end = norespondieron.columns.get_loc('PONDIH_indv')\n",
    "\n",
    "columns_to_drop = norespondieron.columns[start:end+1]\n",
    "norespondieron = norespondieron.drop(columns=columns_to_drop)\n",
    "\n",
    "# Ingresos de la ocupación principal\n",
    "start = norespondieron.columns.get_loc('ITF_hogar')\n",
    "end = norespondieron.columns.get_loc('PONDIH_hogar')\n",
    "\n",
    "columns_to_drop = norespondieron.columns[start:end+1]\n",
    "norespondieron = norespondieron.drop(columns=columns_to_drop)\n",
    "\n",
    "# Ingresos de la ocupación principal\n",
    "start = norespondieron.columns.get_loc('adulto_equiv')\n",
    "end = norespondieron.columns.get_loc('ad_equiv_hogar')\n",
    "\n",
    "columns_to_drop = norespondieron.columns[start:end+1]\n",
    "norespondieron = norespondieron.drop(columns=columns_to_drop)"
   ]
  },
  {
   "cell_type": "code",
   "execution_count": 45,
   "id": "46e8a116",
   "metadata": {},
   "outputs": [],
   "source": [
    "# Definimos la matriz de Xs \n",
    "X = respondieron.drop(['pobre'], axis=1)\n",
    "y = respondieron.pobre"
   ]
  },
  {
   "cell_type": "markdown",
   "id": "e796196f",
   "metadata": {},
   "source": [
    "## Inciso 2"
   ]
  },
  {
   "cell_type": "markdown",
   "id": "d9fd4d67",
   "metadata": {},
   "source": [
    "#### Corran la funcion evalua multiples metodos (de la Parte 2) con la base respondieron, con al menos un hiperparámetro para regularizar y al menos un valor de \\lambda. "
   ]
  },
  {
   "cell_type": "code",
   "execution_count": 46,
   "id": "89b80265",
   "metadata": {},
   "outputs": [],
   "source": [
    "from sklearn.linear_model import LogisticRegression\n",
    "from sklearn.discriminant_analysis import LinearDiscriminantAnalysis\n",
    "from sklearn.neighbors import KNeighborsClassifier\n",
    "\n",
    "# Primero, definimos los hiperparámetros para cada método\n",
    "hiperparametros_rl = {\n",
    "    'lambdas': [ 1, 10, 100],\n",
    "}\n",
    "\n",
    "hiperparametros_lda = {\n",
    "    'solver': 'lsqr',\n",
    "}\n",
    "\n",
    "hiperparametros_knn = {\n",
    "    'n_neighbors': 5,\n",
    "}\n",
    "\n",
    "# Lista de métodos y sus hiperparámetros\n",
    "metodos = [\n",
    "    {\n",
    "        'nombre': 'Regresión Logística',\n",
    "        'hiperparametros': hiperparametros_rl,\n",
    "    },\n",
    "    {\n",
    "        'nombre': 'Análisis de Discriminante Lineal',\n",
    "        'hiperparametros': hiperparametros_lda,\n",
    "    },\n",
    "    {\n",
    "        'nombre': 'KNN',\n",
    "        'hiperparametros': hiperparametros_knn,\n",
    "    },\n",
    "]\n"
   ]
  },
  {
   "cell_type": "code",
   "execution_count": 47,
   "id": "b35b0111",
   "metadata": {},
   "outputs": [],
   "source": [
    "### Segundo, definimos la muestra de entrenamiento y de prueba. \n",
    "# Para probar evalúa_metodo vamos a separar la muestra en train y test. \n",
    "X_train, X_test, y_train, y_test = train_test_split(X, y, test_size=0.3, random_state=10)\n",
    "# Ahora llamamos a la función\n",
    "resultados_df=evalua_multiples_metodos(X_train,y_train,X_test,y_test, metodos)\n",
    "# Ver los resultados"
   ]
  },
  {
   "cell_type": "code",
   "execution_count": 48,
   "id": "bcea515f",
   "metadata": {},
   "outputs": [
    {
     "data": {
      "text/html": [
       "<div>\n",
       "<style scoped>\n",
       "    .dataframe tbody tr th:only-of-type {\n",
       "        vertical-align: middle;\n",
       "    }\n",
       "\n",
       "    .dataframe tbody tr th {\n",
       "        vertical-align: top;\n",
       "    }\n",
       "\n",
       "    .dataframe thead th {\n",
       "        text-align: right;\n",
       "    }\n",
       "</style>\n",
       "<table border=\"1\" class=\"dataframe\">\n",
       "  <thead>\n",
       "    <tr style=\"text-align: right;\">\n",
       "      <th></th>\n",
       "      <th>AUC</th>\n",
       "      <th>Confusion Matrix</th>\n",
       "      <th>Accuracy Score</th>\n",
       "      <th>ECM</th>\n",
       "      <th>Modelo</th>\n",
       "      <th>Hiperparámetros</th>\n",
       "      <th>Método de Regularización</th>\n",
       "      <th>Hiperparámetro Óptimo</th>\n",
       "    </tr>\n",
       "  </thead>\n",
       "  <tbody>\n",
       "    <tr>\n",
       "      <th>0</th>\n",
       "      <td>0.767991</td>\n",
       "      <td>[[403, 118], [100, 321]]</td>\n",
       "      <td>0.768577</td>\n",
       "      <td>0.231423</td>\n",
       "      <td>Regresión Logística</td>\n",
       "      <td>{'lambdas': [1, 10, 100]}</td>\n",
       "      <td>ridge</td>\n",
       "      <td>1.0</td>\n",
       "    </tr>\n",
       "    <tr>\n",
       "      <th>1</th>\n",
       "      <td>0.768087</td>\n",
       "      <td>[[413, 108], [108, 313]]</td>\n",
       "      <td>0.770701</td>\n",
       "      <td>0.229299</td>\n",
       "      <td>Análisis de Discriminante Lineal</td>\n",
       "      <td>{'solver': 'lsqr'}</td>\n",
       "      <td>None</td>\n",
       "      <td>NaN</td>\n",
       "    </tr>\n",
       "    <tr>\n",
       "      <th>2</th>\n",
       "      <td>0.751041</td>\n",
       "      <td>[[394, 127], [107, 314]]</td>\n",
       "      <td>0.751592</td>\n",
       "      <td>0.248408</td>\n",
       "      <td>KNN</td>\n",
       "      <td>{'n_neighbors': 5}</td>\n",
       "      <td>None</td>\n",
       "      <td>NaN</td>\n",
       "    </tr>\n",
       "  </tbody>\n",
       "</table>\n",
       "</div>"
      ],
      "text/plain": [
       "        AUC          Confusion Matrix  Accuracy Score       ECM  \\\n",
       "0  0.767991  [[403, 118], [100, 321]]        0.768577  0.231423   \n",
       "1  0.768087  [[413, 108], [108, 313]]        0.770701  0.229299   \n",
       "2  0.751041  [[394, 127], [107, 314]]        0.751592  0.248408   \n",
       "\n",
       "                             Modelo            Hiperparámetros  \\\n",
       "0               Regresión Logística  {'lambdas': [1, 10, 100]}   \n",
       "1  Análisis de Discriminante Lineal         {'solver': 'lsqr'}   \n",
       "2                               KNN         {'n_neighbors': 5}   \n",
       "\n",
       "  Método de Regularización  Hiperparámetro Óptimo  \n",
       "0                    ridge                    1.0  \n",
       "1                     None                    NaN  \n",
       "2                     None                    NaN  "
      ]
     },
     "execution_count": 48,
     "metadata": {},
     "output_type": "execute_result"
    }
   ],
   "source": [
    "resultados_df"
   ]
  },
  {
   "cell_type": "markdown",
   "id": "72087962",
   "metadata": {},
   "source": [
    "## Inciso 3"
   ]
  },
  {
   "cell_type": "markdown",
   "id": "4327dba1",
   "metadata": {},
   "source": [
    "#### En el ejercicio de regularización, lambda actúa de manera similar tanto en regresión lineal como en regresión logística y clasificación. Lo que hace lambda es penalizar la minimización de la función de costo. La idea detrás de esto es reducir el overfitting: se establece un trade-off entre sesgar ligeramente nuestra estimación original en el conjunto de entrenamiento y reducir la varianza una vez que se aplica el modelo en el conjunto de prueba.Ahora bien, considerando que un valor alto de lambda hace que el modelo sea menos sensible a las variaciones en las variables explicativas, mientras que un valor bajo de lambda se acerca más a un modelo sin regularización, surge la pregunta de cómo elegir el valor adecuado de lambda. La mejor manera de abordar esta elección es mediante la validación cruzada, que implica probar distintos valores de lambda en un conjunto de entrenamiento y validación, eligiendo aquel que minimice la varianza en este último conjunto antes de evaluar el rendimiento en el conjunto de prueba.Es importante destacar que no se debe utilizar el conjunto de prueba para seleccionar el valor de lambda, ya que esto introduciría sesgo en la evaluación del rendimiento del modelo. \n",
    "#### Ajustar hiperparámetros en el conjunto de prueba haría que el modelo parezca funcionar mejor en datos no vistos de lo que sería en la práctica. En cambio, la validación cruzada nos permite evaluar diferentes valores de lambda en el conjunto de entrenamiento y validación sin involucrar el conjunto de prueba. Esto garantiza una estimación más realista del rendimiento del modelo en datos no vistos, ya que el conjunto de prueba se mantiene aislado y no se utiliza en la selección de hiperparámetros."
   ]
  },
  {
   "cell_type": "markdown",
   "id": "fe00351a",
   "metadata": {},
   "source": [
    "## Ejercicio 4"
   ]
  },
  {
   "cell_type": "markdown",
   "id": "4ddcec98",
   "metadata": {},
   "source": [
    "##### El método de K-fold cross-validation se utiliza para evaluar el rendimiento de modelos en machine learning dividiendo el conjunto de datos en K partes y probando iterativamente con una de ellas como conjunto de test y las demás como conjunto de entrenamiento.\n",
    "\n",
    "##### Problema de usar un K muy pequeño: La evaluación puede ser sensible a la partición específica de los datos, lo que podría llevar a sobreajustar el modelo a ciertas peculiaridades y no generalizar bien a otros datos no vistos. \n",
    "\n",
    "##### Problema de usar un K muy grande (p. ej., K=n, LOOCV): En el extremo, esto implica una validación cruzada \"leave-one-out,\" donde se deja una sola muestra como conjunto de test en cada iteración. Aunque proporciona estimaciones de rendimiento más estables, puede ser costoso en términos computacionales, especialmente en conjuntos de datos grandes.\n",
    "\n",
    "##### Cuando K=n (LOOCV), se estima el modelo n veces, una vez por cada muestra en el conjunto de datos, entrenando en todas las muestras excepto una en cada iteración, y dejando la observación individual como testeo. Esto proporciona una estimación precisa del rendimiento, pero puede ser computacionalmente costoso y propenso a alta varianza en los resultados de los modelos. La alta variabilidad en las estimaciones de rendimiento significa que los resultados de cada iteración de LOOCV pueden diferir considerablemente entre sí. Esto puede hacer que sea más difícil confiar en las estimaciones de rendimiento y comparar diferentes configuraciones de modelos o hiperparámetros."
   ]
  },
  {
   "cell_type": "markdown",
   "id": "6475fbaf",
   "metadata": {},
   "source": [
    "## Inciso 5"
   ]
  },
  {
   "cell_type": "markdown",
   "id": "4b719696",
   "metadata": {},
   "source": [
    "#### Realicen un barrido en λ = 10^n con n ∈ {−5, −4, −3 . . . , +4, +5} y utilicen 10 fold CV para elegir el λ optimo en regresion logistica con Ridge y con LASSO.\n",
    "#### ¿Qué λ seleccionó en cada caso? Generen box-plots mostrando la distribución del error de predicci´on para cada λ. Cada box debe corresponder a un valor de λ y contener como observaciones el error medio de validaci´on para cada partici´on.\n",
    "#### Ademas, para la regularizacion LASSO, genere un box-plot similar, pero ahora graficando la proporci´on de variables ignoradas por el modelo en funci´on de λ, es decir la proporcion de variables para las cuales el coeficiente asociado es cero.\n"
   ]
  },
  {
   "cell_type": "markdown",
   "id": "4e493c2c",
   "metadata": {},
   "source": [
    "### Primero identificamos el Lambda óptimo. "
   ]
  },
  {
   "cell_type": "code",
   "execution_count": 49,
   "id": "2e3a96a3",
   "metadata": {},
   "outputs": [],
   "source": [
    "lambda_values = [10**i for i in range(-5, 6)]\n",
    "configuraciones_lasso = []\n",
    "configuraciones_ridge = []\n",
    "\n",
    "for l in lambda_values:\n",
    "    # Para Lasso\n",
    "    config_l = {'penalty': 'l1', 'C': 1/l, 'solver': 'saga'}\n",
    "    configuraciones_lasso.append(config_l)\n",
    "    \n",
    "    # Para Ridge\n",
    "    config_r = {'penalty': 'l2', 'C': 1/l}\n",
    "    configuraciones_ridge.append(config_r) "
   ]
  },
  {
   "cell_type": "code",
   "execution_count": 50,
   "id": "3574e088",
   "metadata": {},
   "outputs": [
    {
     "name": "stdout",
     "output_type": "stream",
     "text": [
      "La configuración óptima es: Lambda = 1.0, Model Type = lasso\n",
      "La configuración óptima es: Lambda = 10.0, Model Type = ridge\n"
     ]
    }
   ],
   "source": [
    "config_opt_lasso = evalua_config([\"lasso\"],lambda_values, X, y)\n",
    "config_opt_ridge = evalua_config([\"ridge\"],lambda_values, X, y)\n"
   ]
  },
  {
   "cell_type": "code",
   "execution_count": 51,
   "id": "08798951",
   "metadata": {},
   "outputs": [
    {
     "name": "stdout",
     "output_type": "stream",
     "text": [
      "   Model Type        Lambda       ECM\n",
      "0       lasso       0.00001  0.207132\n",
      "1       lasso       0.00010  0.207132\n",
      "2       lasso       0.00100  0.207132\n",
      "3       lasso       0.01000  0.207132\n",
      "4       lasso       0.10000  0.207132\n",
      "5       lasso       1.00000  0.205857\n",
      "6       lasso      10.00000  0.212547\n",
      "7       lasso     100.00000  0.247925\n",
      "8       lasso    1000.00000  0.473550\n",
      "9       lasso   10000.00000  0.473550\n",
      "10      lasso  100000.00000  0.473550\n"
     ]
    }
   ],
   "source": [
    "print(config_opt_lasso)"
   ]
  },
  {
   "cell_type": "code",
   "execution_count": 52,
   "id": "2a0fe979",
   "metadata": {},
   "outputs": [
    {
     "name": "stdout",
     "output_type": "stream",
     "text": [
      "   Model Type        Lambda       ECM\n",
      "0       ridge       0.00001  0.207132\n",
      "1       ridge       0.00010  0.207132\n",
      "2       ridge       0.00100  0.207132\n",
      "3       ridge       0.01000  0.207132\n",
      "4       ridge       0.10000  0.207451\n",
      "5       ridge       1.00000  0.206495\n",
      "6       ridge      10.00000  0.204900\n",
      "7       ridge     100.00000  0.210637\n",
      "8       ridge    1000.00000  0.232623\n",
      "9       ridge   10000.00000  0.270232\n",
      "10      ridge  100000.00000  0.285209\n"
     ]
    }
   ],
   "source": [
    "print(config_opt_ridge)"
   ]
  },
  {
   "cell_type": "code",
   "execution_count": 59,
   "id": "146b105c",
   "metadata": {},
   "outputs": [],
   "source": [
    "# Guardamos el lambda optimo en una variable\n",
    "min_ecm_row = config_opt_lasso[config_opt_lasso['ECM'] == config_opt_lasso['ECM'].min()]\n",
    "mejor_lambda_lasso = min_ecm_row['Lambda'].values[0]"
   ]
  },
  {
   "cell_type": "code",
   "execution_count": 61,
   "id": "4edaacf1",
   "metadata": {},
   "outputs": [],
   "source": [
    "# Guardamos el lambda optimo en una variable\n",
    "min_ecm_row = config_opt_ridge[config_opt_ridge['ECM'] == config_opt_ridge['ECM'].min()]\n",
    "mejor_lambda_ridge = min_ecm_row['Lambda'].values[0]"
   ]
  },
  {
   "cell_type": "markdown",
   "id": "a4a1a07a",
   "metadata": {},
   "source": [
    "#### Ahora armaremos tres gráficos. "
   ]
  },
  {
   "cell_type": "markdown",
   "id": "f6532690",
   "metadata": {},
   "source": [
    "## Gráfico 1: Distribución de ECM según el hiperparámetro Lambda, bajo el método Ridge"
   ]
  },
  {
   "cell_type": "code",
   "execution_count": 53,
   "id": "fe96447f",
   "metadata": {},
   "outputs": [],
   "source": [
    "k = 10\n",
    "dist_ridge = []\n",
    "\n",
    "# Generaremos dos gráficos, uno por método. En cada gráfico, se muestra la distribución del error de predicción (definido como MSE) según el hiperparámetro lambda.\n",
    "for config in configuraciones_ridge:\n",
    "    modelo = LogisticRegression(max_iter=1000, **config)\n",
    "    resultados = cross_validation(modelo, k, X, y)\n",
    "    ecm_part = resultados[['Particion', 'MSE']]\n",
    "    dist_ridge.append(ecm_part)\n"
   ]
  },
  {
   "cell_type": "code",
   "execution_count": 79,
   "id": "7f523ddf",
   "metadata": {},
   "outputs": [
    {
     "data": {
      "image/png": "[encoded data removed]",
      "text/plain": [
       "<Figure size 720x432 with 1 Axes>"
      ]
     },
     "metadata": {
      "needs_background": "light"
     },
     "output_type": "display_data"
    }
   ],
   "source": [
    "# Crear un gráfico con 10 boxplots\n",
    "fig, ax = plt.subplots(figsize=(10, 6))\n",
    "\n",
    "# Recopilar todas las distribuciones de MSE\n",
    "mse_data = [ecm_part['MSE'].values for ecm_part in dist_ridge]\n",
    "\n",
    "# Crear los boxplots y agregarlos al gráfico\n",
    "boxplots = ax.boxplot(mse_data, patch_artist=True)\n",
    "\n",
    "# Personalizar los colores de los boxplots (asegúrate de que todos los colores sean válidos)\n",
    "colors = ['lightblue', 'lightgreen', 'lightcoral', 'lightpink', 'lightyellow', \n",
    "          'lightgray', 'lightcyan', 'violet', 'lightsalmon', 'lightseagreen']\n",
    "for patch, color in zip(boxplots['boxes'], colors):\n",
    "    patch.set_facecolor(color)\n",
    "\n",
    "# Configurar las etiquetas de los ticks del eje x con los valores de lambda\n",
    "lambda_values = ['10^-5', '10^-4', '10^-3', '10^-2', '10^-1', '10^0', '10^1', '10^2', '10^3', '10^4', '10^5']\n",
    "ax.set_xticklabels(lambda_values)\n",
    "\n",
    "# Configurar las etiquetas de los ejes\n",
    "ax.set_xlabel('Lambda', fontsize=14)\n",
    "ax.set_ylabel('Valor ECM', fontsize=14)\n",
    "\n",
    "# Configurar el título del gráfico\n",
    "ax.set_title('Distribución del error de predicción para cada λ bajo Ridge', fontsize=16)\n",
    "\n",
    "# Mostrar el gráfico\n",
    "plt.show()"
   ]
  },
  {
   "cell_type": "markdown",
   "id": "6ad2b720",
   "metadata": {},
   "source": [
    "## Gráficos 2 y 3: Distribución de ECM y de proporción de variables con coeficiente igual a cero, según Lambda, bajo metodología LASSO"
   ]
  },
  {
   "cell_type": "code",
   "execution_count": 55,
   "id": "fe374ad1",
   "metadata": {},
   "outputs": [
    {
     "name": "stderr",
     "output_type": "stream",
     "text": [
      "C:\\Users\\Paula\\anaconda3\\lib\\site-packages\\sklearn\\linear_model\\_sag.py:350: ConvergenceWarning: The max_iter was reached which means the coef_ did not converge\n",
      "  warnings.warn(\n",
      "C:\\Users\\Paula\\anaconda3\\lib\\site-packages\\sklearn\\linear_model\\_sag.py:350: ConvergenceWarning: The max_iter was reached which means the coef_ did not converge\n",
      "  warnings.warn(\n",
      "C:\\Users\\Paula\\anaconda3\\lib\\site-packages\\sklearn\\linear_model\\_sag.py:350: ConvergenceWarning: The max_iter was reached which means the coef_ did not converge\n",
      "  warnings.warn(\n",
      "C:\\Users\\Paula\\anaconda3\\lib\\site-packages\\sklearn\\linear_model\\_sag.py:350: ConvergenceWarning: The max_iter was reached which means the coef_ did not converge\n",
      "  warnings.warn(\n",
      "C:\\Users\\Paula\\anaconda3\\lib\\site-packages\\sklearn\\linear_model\\_sag.py:350: ConvergenceWarning: The max_iter was reached which means the coef_ did not converge\n",
      "  warnings.warn(\n",
      "C:\\Users\\Paula\\anaconda3\\lib\\site-packages\\sklearn\\linear_model\\_sag.py:350: ConvergenceWarning: The max_iter was reached which means the coef_ did not converge\n",
      "  warnings.warn(\n",
      "C:\\Users\\Paula\\anaconda3\\lib\\site-packages\\sklearn\\linear_model\\_sag.py:350: ConvergenceWarning: The max_iter was reached which means the coef_ did not converge\n",
      "  warnings.warn(\n",
      "C:\\Users\\Paula\\anaconda3\\lib\\site-packages\\sklearn\\linear_model\\_sag.py:350: ConvergenceWarning: The max_iter was reached which means the coef_ did not converge\n",
      "  warnings.warn(\n",
      "C:\\Users\\Paula\\anaconda3\\lib\\site-packages\\sklearn\\linear_model\\_sag.py:350: ConvergenceWarning: The max_iter was reached which means the coef_ did not converge\n",
      "  warnings.warn(\n",
      "C:\\Users\\Paula\\anaconda3\\lib\\site-packages\\sklearn\\linear_model\\_sag.py:350: ConvergenceWarning: The max_iter was reached which means the coef_ did not converge\n",
      "  warnings.warn(\n",
      "C:\\Users\\Paula\\anaconda3\\lib\\site-packages\\sklearn\\linear_model\\_sag.py:350: ConvergenceWarning: The max_iter was reached which means the coef_ did not converge\n",
      "  warnings.warn(\n",
      "C:\\Users\\Paula\\anaconda3\\lib\\site-packages\\sklearn\\linear_model\\_sag.py:350: ConvergenceWarning: The max_iter was reached which means the coef_ did not converge\n",
      "  warnings.warn(\n",
      "C:\\Users\\Paula\\anaconda3\\lib\\site-packages\\sklearn\\linear_model\\_sag.py:350: ConvergenceWarning: The max_iter was reached which means the coef_ did not converge\n",
      "  warnings.warn(\n",
      "C:\\Users\\Paula\\anaconda3\\lib\\site-packages\\sklearn\\linear_model\\_sag.py:350: ConvergenceWarning: The max_iter was reached which means the coef_ did not converge\n",
      "  warnings.warn(\n",
      "C:\\Users\\Paula\\anaconda3\\lib\\site-packages\\sklearn\\linear_model\\_sag.py:350: ConvergenceWarning: The max_iter was reached which means the coef_ did not converge\n",
      "  warnings.warn(\n",
      "C:\\Users\\Paula\\anaconda3\\lib\\site-packages\\sklearn\\linear_model\\_sag.py:350: ConvergenceWarning: The max_iter was reached which means the coef_ did not converge\n",
      "  warnings.warn(\n",
      "C:\\Users\\Paula\\anaconda3\\lib\\site-packages\\sklearn\\linear_model\\_sag.py:350: ConvergenceWarning: The max_iter was reached which means the coef_ did not converge\n",
      "  warnings.warn(\n",
      "C:\\Users\\Paula\\anaconda3\\lib\\site-packages\\sklearn\\linear_model\\_sag.py:350: ConvergenceWarning: The max_iter was reached which means the coef_ did not converge\n",
      "  warnings.warn(\n",
      "C:\\Users\\Paula\\anaconda3\\lib\\site-packages\\sklearn\\linear_model\\_sag.py:350: ConvergenceWarning: The max_iter was reached which means the coef_ did not converge\n",
      "  warnings.warn(\n",
      "C:\\Users\\Paula\\anaconda3\\lib\\site-packages\\sklearn\\linear_model\\_sag.py:350: ConvergenceWarning: The max_iter was reached which means the coef_ did not converge\n",
      "  warnings.warn(\n",
      "C:\\Users\\Paula\\anaconda3\\lib\\site-packages\\sklearn\\linear_model\\_sag.py:350: ConvergenceWarning: The max_iter was reached which means the coef_ did not converge\n",
      "  warnings.warn(\n",
      "C:\\Users\\Paula\\anaconda3\\lib\\site-packages\\sklearn\\linear_model\\_sag.py:350: ConvergenceWarning: The max_iter was reached which means the coef_ did not converge\n",
      "  warnings.warn(\n",
      "C:\\Users\\Paula\\anaconda3\\lib\\site-packages\\sklearn\\linear_model\\_sag.py:350: ConvergenceWarning: The max_iter was reached which means the coef_ did not converge\n",
      "  warnings.warn(\n",
      "C:\\Users\\Paula\\anaconda3\\lib\\site-packages\\sklearn\\linear_model\\_sag.py:350: ConvergenceWarning: The max_iter was reached which means the coef_ did not converge\n",
      "  warnings.warn(\n",
      "C:\\Users\\Paula\\anaconda3\\lib\\site-packages\\sklearn\\linear_model\\_sag.py:350: ConvergenceWarning: The max_iter was reached which means the coef_ did not converge\n",
      "  warnings.warn(\n",
      "C:\\Users\\Paula\\anaconda3\\lib\\site-packages\\sklearn\\linear_model\\_sag.py:350: ConvergenceWarning: The max_iter was reached which means the coef_ did not converge\n",
      "  warnings.warn(\n",
      "C:\\Users\\Paula\\anaconda3\\lib\\site-packages\\sklearn\\linear_model\\_sag.py:350: ConvergenceWarning: The max_iter was reached which means the coef_ did not converge\n",
      "  warnings.warn(\n",
      "C:\\Users\\Paula\\anaconda3\\lib\\site-packages\\sklearn\\linear_model\\_sag.py:350: ConvergenceWarning: The max_iter was reached which means the coef_ did not converge\n",
      "  warnings.warn(\n",
      "C:\\Users\\Paula\\anaconda3\\lib\\site-packages\\sklearn\\linear_model\\_sag.py:350: ConvergenceWarning: The max_iter was reached which means the coef_ did not converge\n",
      "  warnings.warn(\n",
      "C:\\Users\\Paula\\anaconda3\\lib\\site-packages\\sklearn\\linear_model\\_sag.py:350: ConvergenceWarning: The max_iter was reached which means the coef_ did not converge\n",
      "  warnings.warn(\n",
      "C:\\Users\\Paula\\anaconda3\\lib\\site-packages\\sklearn\\linear_model\\_sag.py:350: ConvergenceWarning: The max_iter was reached which means the coef_ did not converge\n",
      "  warnings.warn(\n",
      "C:\\Users\\Paula\\anaconda3\\lib\\site-packages\\sklearn\\linear_model\\_sag.py:350: ConvergenceWarning: The max_iter was reached which means the coef_ did not converge\n",
      "  warnings.warn(\n",
      "C:\\Users\\Paula\\anaconda3\\lib\\site-packages\\sklearn\\linear_model\\_sag.py:350: ConvergenceWarning: The max_iter was reached which means the coef_ did not converge\n",
      "  warnings.warn(\n",
      "C:\\Users\\Paula\\anaconda3\\lib\\site-packages\\sklearn\\linear_model\\_sag.py:350: ConvergenceWarning: The max_iter was reached which means the coef_ did not converge\n",
      "  warnings.warn(\n",
      "C:\\Users\\Paula\\anaconda3\\lib\\site-packages\\sklearn\\linear_model\\_sag.py:350: ConvergenceWarning: The max_iter was reached which means the coef_ did not converge\n",
      "  warnings.warn(\n",
      "C:\\Users\\Paula\\anaconda3\\lib\\site-packages\\sklearn\\linear_model\\_sag.py:350: ConvergenceWarning: The max_iter was reached which means the coef_ did not converge\n",
      "  warnings.warn(\n",
      "C:\\Users\\Paula\\anaconda3\\lib\\site-packages\\sklearn\\linear_model\\_sag.py:350: ConvergenceWarning: The max_iter was reached which means the coef_ did not converge\n",
      "  warnings.warn(\n",
      "C:\\Users\\Paula\\anaconda3\\lib\\site-packages\\sklearn\\linear_model\\_sag.py:350: ConvergenceWarning: The max_iter was reached which means the coef_ did not converge\n",
      "  warnings.warn(\n",
      "C:\\Users\\Paula\\anaconda3\\lib\\site-packages\\sklearn\\linear_model\\_sag.py:350: ConvergenceWarning: The max_iter was reached which means the coef_ did not converge\n",
      "  warnings.warn(\n",
      "C:\\Users\\Paula\\anaconda3\\lib\\site-packages\\sklearn\\linear_model\\_sag.py:350: ConvergenceWarning: The max_iter was reached which means the coef_ did not converge\n",
      "  warnings.warn(\n",
      "C:\\Users\\Paula\\anaconda3\\lib\\site-packages\\sklearn\\linear_model\\_sag.py:350: ConvergenceWarning: The max_iter was reached which means the coef_ did not converge\n",
      "  warnings.warn(\n",
      "C:\\Users\\Paula\\anaconda3\\lib\\site-packages\\sklearn\\linear_model\\_sag.py:350: ConvergenceWarning: The max_iter was reached which means the coef_ did not converge\n",
      "  warnings.warn(\n",
      "C:\\Users\\Paula\\anaconda3\\lib\\site-packages\\sklearn\\linear_model\\_sag.py:350: ConvergenceWarning: The max_iter was reached which means the coef_ did not converge\n",
      "  warnings.warn(\n",
      "C:\\Users\\Paula\\anaconda3\\lib\\site-packages\\sklearn\\linear_model\\_sag.py:350: ConvergenceWarning: The max_iter was reached which means the coef_ did not converge\n",
      "  warnings.warn(\n",
      "C:\\Users\\Paula\\anaconda3\\lib\\site-packages\\sklearn\\linear_model\\_sag.py:350: ConvergenceWarning: The max_iter was reached which means the coef_ did not converge\n",
      "  warnings.warn(\n",
      "C:\\Users\\Paula\\anaconda3\\lib\\site-packages\\sklearn\\linear_model\\_sag.py:350: ConvergenceWarning: The max_iter was reached which means the coef_ did not converge\n",
      "  warnings.warn(\n",
      "C:\\Users\\Paula\\anaconda3\\lib\\site-packages\\sklearn\\linear_model\\_sag.py:350: ConvergenceWarning: The max_iter was reached which means the coef_ did not converge\n",
      "  warnings.warn(\n"
     ]
    },
    {
     "name": "stderr",
     "output_type": "stream",
     "text": [
      "C:\\Users\\Paula\\anaconda3\\lib\\site-packages\\sklearn\\linear_model\\_sag.py:350: ConvergenceWarning: The max_iter was reached which means the coef_ did not converge\n",
      "  warnings.warn(\n",
      "C:\\Users\\Paula\\anaconda3\\lib\\site-packages\\sklearn\\linear_model\\_sag.py:350: ConvergenceWarning: The max_iter was reached which means the coef_ did not converge\n",
      "  warnings.warn(\n",
      "C:\\Users\\Paula\\anaconda3\\lib\\site-packages\\sklearn\\linear_model\\_sag.py:350: ConvergenceWarning: The max_iter was reached which means the coef_ did not converge\n",
      "  warnings.warn(\n",
      "C:\\Users\\Paula\\anaconda3\\lib\\site-packages\\sklearn\\linear_model\\_sag.py:350: ConvergenceWarning: The max_iter was reached which means the coef_ did not converge\n",
      "  warnings.warn(\n",
      "C:\\Users\\Paula\\anaconda3\\lib\\site-packages\\sklearn\\linear_model\\_sag.py:350: ConvergenceWarning: The max_iter was reached which means the coef_ did not converge\n",
      "  warnings.warn(\n",
      "C:\\Users\\Paula\\anaconda3\\lib\\site-packages\\sklearn\\linear_model\\_sag.py:350: ConvergenceWarning: The max_iter was reached which means the coef_ did not converge\n",
      "  warnings.warn(\n",
      "C:\\Users\\Paula\\anaconda3\\lib\\site-packages\\sklearn\\linear_model\\_sag.py:350: ConvergenceWarning: The max_iter was reached which means the coef_ did not converge\n",
      "  warnings.warn(\n",
      "C:\\Users\\Paula\\anaconda3\\lib\\site-packages\\sklearn\\linear_model\\_sag.py:350: ConvergenceWarning: The max_iter was reached which means the coef_ did not converge\n",
      "  warnings.warn(\n",
      "C:\\Users\\Paula\\anaconda3\\lib\\site-packages\\sklearn\\linear_model\\_sag.py:350: ConvergenceWarning: The max_iter was reached which means the coef_ did not converge\n",
      "  warnings.warn(\n",
      "C:\\Users\\Paula\\anaconda3\\lib\\site-packages\\sklearn\\linear_model\\_sag.py:350: ConvergenceWarning: The max_iter was reached which means the coef_ did not converge\n",
      "  warnings.warn(\n",
      "C:\\Users\\Paula\\anaconda3\\lib\\site-packages\\sklearn\\linear_model\\_sag.py:350: ConvergenceWarning: The max_iter was reached which means the coef_ did not converge\n",
      "  warnings.warn(\n",
      "C:\\Users\\Paula\\anaconda3\\lib\\site-packages\\sklearn\\linear_model\\_sag.py:350: ConvergenceWarning: The max_iter was reached which means the coef_ did not converge\n",
      "  warnings.warn(\n",
      "C:\\Users\\Paula\\anaconda3\\lib\\site-packages\\sklearn\\linear_model\\_sag.py:350: ConvergenceWarning: The max_iter was reached which means the coef_ did not converge\n",
      "  warnings.warn(\n",
      "C:\\Users\\Paula\\anaconda3\\lib\\site-packages\\sklearn\\linear_model\\_sag.py:350: ConvergenceWarning: The max_iter was reached which means the coef_ did not converge\n",
      "  warnings.warn(\n",
      "C:\\Users\\Paula\\anaconda3\\lib\\site-packages\\sklearn\\linear_model\\_sag.py:350: ConvergenceWarning: The max_iter was reached which means the coef_ did not converge\n",
      "  warnings.warn(\n",
      "C:\\Users\\Paula\\anaconda3\\lib\\site-packages\\sklearn\\linear_model\\_sag.py:350: ConvergenceWarning: The max_iter was reached which means the coef_ did not converge\n",
      "  warnings.warn(\n",
      "C:\\Users\\Paula\\anaconda3\\lib\\site-packages\\sklearn\\linear_model\\_sag.py:350: ConvergenceWarning: The max_iter was reached which means the coef_ did not converge\n",
      "  warnings.warn(\n",
      "C:\\Users\\Paula\\anaconda3\\lib\\site-packages\\sklearn\\linear_model\\_sag.py:350: ConvergenceWarning: The max_iter was reached which means the coef_ did not converge\n",
      "  warnings.warn(\n",
      "C:\\Users\\Paula\\anaconda3\\lib\\site-packages\\sklearn\\linear_model\\_sag.py:350: ConvergenceWarning: The max_iter was reached which means the coef_ did not converge\n",
      "  warnings.warn(\n",
      "C:\\Users\\Paula\\anaconda3\\lib\\site-packages\\sklearn\\linear_model\\_sag.py:350: ConvergenceWarning: The max_iter was reached which means the coef_ did not converge\n",
      "  warnings.warn(\n",
      "C:\\Users\\Paula\\anaconda3\\lib\\site-packages\\sklearn\\linear_model\\_sag.py:350: ConvergenceWarning: The max_iter was reached which means the coef_ did not converge\n",
      "  warnings.warn(\n",
      "C:\\Users\\Paula\\anaconda3\\lib\\site-packages\\sklearn\\linear_model\\_sag.py:350: ConvergenceWarning: The max_iter was reached which means the coef_ did not converge\n",
      "  warnings.warn(\n",
      "C:\\Users\\Paula\\anaconda3\\lib\\site-packages\\sklearn\\linear_model\\_sag.py:350: ConvergenceWarning: The max_iter was reached which means the coef_ did not converge\n",
      "  warnings.warn(\n"
     ]
    }
   ],
   "source": [
    "# Primero, obtenemos la distribución del MSE por partición. \n",
    "k = 10\n",
    "dist_ecm_lasso = []\n",
    "dist_prop_lasso=[]\n",
    "for config in configuraciones_lasso:\n",
    "    modelo = LogisticRegression(max_iter=1000, **config)\n",
    "    resultados = cross_validation(modelo, k, X, y,coef=True)\n",
    "    ecm_part = resultados[['Particion', 'MSE']]\n",
    "    dist_ecm_lasso.append(ecm_part)\n",
    "    prop_part = resultados[['Particion','proporcion_variables_cero']]\n",
    "    dist_prop_lasso.append(prop_part) "
   ]
  },
  {
   "cell_type": "markdown",
   "id": "50cd087e",
   "metadata": {},
   "source": [
    "### Gráfico 2"
   ]
  },
  {
   "cell_type": "code",
   "execution_count": 80,
   "id": "880db614",
   "metadata": {},
   "outputs": [
    {
     "data": {
      "image/png": "[encoded data removed]",
      "text/plain": [
       "<Figure size 720x432 with 1 Axes>"
      ]
     },
     "metadata": {
      "needs_background": "light"
     },
     "output_type": "display_data"
    }
   ],
   "source": [
    "# Crear un gráfico con 10 boxplots\n",
    "fig, ax = plt.subplots(figsize=(10, 6))\n",
    "\n",
    "# Recopilar todas las distribuciones de MSE\n",
    "mse_data = [ecm_part['MSE'].values for ecm_part in dist_ecm_lasso]\n",
    "\n",
    "# Crear los boxplots y agregarlos al gráfico\n",
    "boxplots = ax.boxplot(mse_data, patch_artist=True)\n",
    "\n",
    "# Personalizar los colores de los boxplots (asegúrate de que todos los colores sean válidos)\n",
    "colors = ['lightblue', 'lightgreen', 'lightcoral', 'lightpink', 'lightyellow', \n",
    "          'lightgray', 'lightcyan', 'violet', 'lightsalmon', 'lightseagreen']\n",
    "for patch, color in zip(boxplots['boxes'], colors):\n",
    "    patch.set_facecolor(color)\n",
    "\n",
    "# Configurar las etiquetas de los ticks del eje x con los valores de lambda\n",
    "lambda_values = ['10^-5', '10^-4', '10^-3', '10^-2', '10^-1', '10^0', '10^1', '10^2', '10^3', '10^4', '10^5']\n",
    "ax.set_xticklabels(lambda_values)\n",
    "\n",
    "# Configurar las etiquetas de los ejes\n",
    "ax.set_xlabel('Lambda', fontsize=14)\n",
    "ax.set_ylabel('Valor ECM', fontsize=14)\n",
    "\n",
    "# Configurar el título del gráfico\n",
    "ax.set_title('Distribución del error de predicción para cada λ bajo LASSO', fontsize=16)\n",
    "\n",
    "# Mostrar el gráfico\n",
    "plt.show()\n",
    "\n"
   ]
  },
  {
   "cell_type": "code",
   "execution_count": 81,
   "id": "b1c2124a",
   "metadata": {},
   "outputs": [
    {
     "data": {
      "image/png": "[encoded data removed]",
      "text/plain": [
       "<Figure size 720x432 with 1 Axes>"
      ]
     },
     "metadata": {
      "needs_background": "light"
     },
     "output_type": "display_data"
    }
   ],
   "source": [
    "# Crear un gráfico con 10 boxplots\n",
    "fig, ax = plt.subplots(figsize=(10, 6))\n",
    "\n",
    "# Recopilar todas las distribuciones de MSE\n",
    "prop_data = [prop_part['proporcion_variables_cero'].values for prop_part in dist_prop_lasso]\n",
    "\n",
    "# Crear los boxplots y agregarlos al gráfico\n",
    "boxplots = ax.boxplot(mse_data, patch_artist=True)\n",
    "\n",
    "# Personalizar los colores de los boxplots (asegúrate de que todos los colores sean válidos)\n",
    "colors = ['lightblue', 'lightgreen', 'lightcoral', 'lightpink', 'lightyellow', \n",
    "          'lightgray', 'lightcyan', 'violet', 'lightsalmon', 'lightseagreen']\n",
    "for patch, color in zip(boxplots['boxes'], colors):\n",
    "    patch.set_facecolor(color)\n",
    "\n",
    "# Configurar las etiquetas de los ticks del eje x con los valores de lambda\n",
    "lambda_values = ['10^-5', '10^-4', '10^-3', '10^-2', '10^-1', '10^0', '10^1', '10^2', '10^3', '10^4', '10^5']\n",
    "ax.set_xticklabels(lambda_values)\n",
    "\n",
    "# Configurar las etiquetas de los ejes\n",
    "ax.set_xlabel('Lambda', fontsize=14)\n",
    "ax.set_ylabel('Proporción', fontsize=14)\n",
    "\n",
    "# Configurar el título del gráfico\n",
    "ax.set_title('Proporción de variables con coef=0', fontsize=16)\n",
    "\n",
    "# Mostrar el gráfico\n",
    "plt.show()"
   ]
  },
  {
   "cell_type": "markdown",
   "id": "dd81ad0d",
   "metadata": {},
   "source": [
    "##### ¿Qué variables estamos excluyendo bajo el Lambda óptimo en LASSO?"
   ]
  },
  {
   "cell_type": "code",
   "execution_count": 82,
   "id": "325f85ff",
   "metadata": {},
   "outputs": [
    {
     "name": "stdout",
     "output_type": "stream",
     "text": [
      "0.3825503355704698\n"
     ]
    }
   ],
   "source": [
    "# Definir el modelo\n",
    "modelo = LogisticRegression(penalty='l1', C=1/mejor_lambda_lasso, solver='liblinear')\n",
    "# Usar la función evalua_metodo\n",
    "resultados = evalua_metodo(modelo, X_train, y_train, X_test, y_test, plot=False,coef=True)\n",
    "print(resultados['Proporción de Variables con Coeficiente Cero'])"
   ]
  },
  {
   "cell_type": "code",
   "execution_count": 83,
   "id": "970bf186",
   "metadata": {},
   "outputs": [
    {
     "name": "stdout",
     "output_type": "stream",
     "text": [
      "['NRO_HOGAR', 'H15', 'PP02C1', 'PP02C3', 'PP02C4', 'PP02C7', 'PP02C8', 'PP02E', 'PP02I', 'REALIZADA', 'AGLOMERADO_hogar', 'IV12_3', 'II3_1', 'II5', 'V2', 'V7', 'IX_MEN10', 'VII2_4', 'NIVEL_ED_1', 'NIVEL_ED_4', 'CH07_1', 'CH07_2', 'CH07_3', 'CH07_9', 'CH08_1.0', 'CH08_3.0', 'CH08_9.0', 'CH09_1', 'CH12_0', 'CH12_1', 'CH12_4', 'CH12_6', 'CH12_8', 'CH12_9', 'CH12_99', 'CH15_2', 'CH15_4', 'CH15_5', 'CH15_9', 'CH16_0', 'CH16_1', 'CH16_2', 'CH16_4', 'CH16_5', 'CH16_6', 'CH16_9', 'ESTADO_1', 'ESTADO_2', 'ESTADO_4', 'CAT_OCUP_0', 'CAT_OCUP_3', 'CAT_OCUP_4', 'CAT_OCUP_9', 'CAT_INAC_2', 'CAT_INAC_4', 'CAT_INAC_5', 'CAT_INAC_7']\n"
     ]
    }
   ],
   "source": [
    "dic_var=resultados['Coeficientes']\n",
    "variables_con_valor_cero = [key for key, value in dic_var.items() if value == 0.0]\n",
    "print(variables_con_valor_cero)"
   ]
  },
  {
   "cell_type": "code",
   "execution_count": 84,
   "id": "6e924077",
   "metadata": {},
   "outputs": [
    {
     "name": "stdout",
     "output_type": "stream",
     "text": [
      "['COMPONENTE', 'AGLOMERADO_indv', 'PONDERA_indv', 'CH03', 'CH04', 'CH06', 'CH10', 'CH11', 'CH13', 'PP02C2', 'PP02C5', 'PP02C6', 'PP02H', 'PONDERA_hogar', 'IV1', 'IV2', 'IV3', 'IV4', 'IV5', 'IV6', 'IV7', 'IV8', 'IV9', 'IV10', 'IV11', 'IV12_1', 'IV12_2', 'II1', 'II2', 'II3', 'II4_1', 'II4_2', 'II4_3', 'II5_1', 'II6', 'II6_1', 'II7', 'II8', 'II9', 'V1', 'V21', 'V22', 'V3', 'V4', 'V5', 'V6', 'V8', 'V9', 'V10', 'V11', 'V12', 'V13', 'V14', 'V15', 'V16', 'V17', 'V18', 'V19_A', 'V19_B', 'IX_TOT', 'IX_MAYEQ10', 'VII1_1', 'VII1_2', 'VII2_1', 'VII2_2', 'VII2_3', 'NIVEL_ED_2', 'NIVEL_ED_3', 'NIVEL_ED_5', 'NIVEL_ED_6', 'NIVEL_ED_7', 'CH07_4', 'CH07_5', 'CH08_2.0', 'CH08_4.0', 'CH08_12.0', 'CH09_2', 'CH09_3', 'CH12_2', 'CH12_3', 'CH12_5', 'CH12_7', 'CH15_1', 'CH15_3', 'CH16_3', 'ESTADO_3', 'CAT_OCUP_1', 'CAT_OCUP_2', 'CAT_INAC_0', 'CAT_INAC_1', 'CAT_INAC_3', 'CAT_INAC_6']\n"
     ]
    }
   ],
   "source": [
    "variables_sin_valor_cero = [key for key, value in dic_var.items() if value != 0.0]\n",
    "print(variables_sin_valor_cero)"
   ]
  },
  {
   "cell_type": "markdown",
   "id": "2e5c2e58",
   "metadata": {},
   "source": [
    "## Inciso 6"
   ]
  },
  {
   "cell_type": "markdown",
   "id": "7c1690cd",
   "metadata": {},
   "source": [
    "#### En la sección previa se detallan las variables que se han descartado en nuestro análisis. En la sección 1, destacamos varias variables que anticipábamos podrían tener un papel significativo en la predicción de la pobreza, como las características de la vivienda, las condiciones habitacionales y las estrategias del hogar. Omitimos las variables de ingresos, dado que las filtramos en etapas anteriores. A partir de este análisis, hemos confirmado que, en general, nuestra hipótesis inicial era acertada, aunque con algunas excepciones. Principalmente, nuestra intuición falló en algunas de las estrategias del hogar, que corresponden a la fuente de ingresos en los últimos 3 meses, luego, los resultados se encuentran en línea con nuestra hipótesis a priori. \n",
    "#### Una de las variables que nosotros no consideramos relevantes para predecir la pobreza y parece ser bastante influyente son los niveles de educación, donde casi todas las variables dummy son importantes en nuestra evaluación"
   ]
  },
  {
   "cell_type": "markdown",
   "id": "58094c6a",
   "metadata": {},
   "source": [
    "## Inciso 7"
   ]
  },
  {
   "cell_type": "markdown",
   "id": "c4254396",
   "metadata": {},
   "source": [
    "###### A partir de los resultados Logit obtenidos en el inciso 5, funcionó mejor el método Ridge ya que su ECM es de 0.2049 bajo su valor óptimo de hiperparámetro mientras que el método Lasso arroja un ECM de 0.206176 bajo su hiperparámetro óptimo.\n",
    "###### Un menor Error Cuadrático Medio es indicativo de un mejor ajuste a los datos de prueba, que en este caso son una submuestra de la base de respondieron. \n",
    "##### Si bien Ridge resulta ser un mejor método, los gráficos 1 y 2 nos muestran que las diferencias en magnitudes de ECM son relativamente bajas y la evolución del ECM según el parámetro lambda (costo de complejidad) es muy similar bajo ambos métodos."
   ]
  },
  {
   "cell_type": "markdown",
   "id": "5158ba5f",
   "metadata": {},
   "source": [
    "## Inciso 8"
   ]
  },
  {
   "cell_type": "markdown",
   "id": "24107016",
   "metadata": {},
   "source": [
    "#### ¿Cuál de todos los métodos evaluados predice mejor? ¿Con qué hiperparámetros? \n",
    "#### Justifiquen detalladamente utilizando las medidas de precisión que conocen."
   ]
  },
  {
   "cell_type": "code",
   "execution_count": null,
   "id": "bf697284",
   "metadata": {},
   "outputs": [],
   "source": [
    "###### Las métricas AUC, Accuracy Score y ECM nos ayudan a captar la calidad de predicción de los diferentes modelos.  \n",
    "##### El AUC, que mide el Área Bajo la Curva ROC, se utiliza comúnmente en la evaluación de modelos de clasificación,\n",
    "##### Los resultados de las tres métricas sugieren que el modelo ADL predice mejor pues tiene los mayores AUC y Accuracy Score y el menor ECM.  \n",
    "###### No hemos evaluado la capacidad de predicción de este modelo bajo distintos hiperparámetros, por lo que no podemos concluir que esta sea la configuración óptima. "
   ]
  },
  {
   "cell_type": "markdown",
   "id": "de370a71",
   "metadata": {},
   "source": [
    "## Inciso 9"
   ]
  },
  {
   "cell_type": "markdown",
   "id": "1f5e60c7",
   "metadata": {},
   "source": [
    "#### Con el método que seleccionaron, predigan qué personas son pobres dentro de la base norespondieron. ¿Qué proporción de los hogares son pobres en esa submuestra?"
   ]
  },
  {
   "cell_type": "code",
   "execution_count": 86,
   "id": "ec0fb1db",
   "metadata": {},
   "outputs": [
    {
     "data": {
      "text/html": [
       "<style>#sk-container-id-1 {color: black;}#sk-container-id-1 pre{padding: 0;}#sk-container-id-1 div.sk-toggleable {background-color: white;}#sk-container-id-1 label.sk-toggleable__label {cursor: pointer;display: block;width: 100%;margin-bottom: 0;padding: 0.3em;box-sizing: border-box;text-align: center;}#sk-container-id-1 label.sk-toggleable__label-arrow:before {content: \"▸\";float: left;margin-right: 0.25em;color: #696969;}#sk-container-id-1 label.sk-toggleable__label-arrow:hover:before {color: black;}#sk-container-id-1 div.sk-estimator:hover label.sk-toggleable__label-arrow:before {color: black;}#sk-container-id-1 div.sk-toggleable__content {max-height: 0;max-width: 0;overflow: hidden;text-align: left;background-color: #f0f8ff;}#sk-container-id-1 div.sk-toggleable__content pre {margin: 0.2em;color: black;border-radius: 0.25em;background-color: #f0f8ff;}#sk-container-id-1 input.sk-toggleable__control:checked~div.sk-toggleable__content {max-height: 200px;max-width: 100%;overflow: auto;}#sk-container-id-1 input.sk-toggleable__control:checked~label.sk-toggleable__label-arrow:before {content: \"▾\";}#sk-container-id-1 div.sk-estimator input.sk-toggleable__control:checked~label.sk-toggleable__label {background-color: #d4ebff;}#sk-container-id-1 div.sk-label input.sk-toggleable__control:checked~label.sk-toggleable__label {background-color: #d4ebff;}#sk-container-id-1 input.sk-hidden--visually {border: 0;clip: rect(1px 1px 1px 1px);clip: rect(1px, 1px, 1px, 1px);height: 1px;margin: -1px;overflow: hidden;padding: 0;position: absolute;width: 1px;}#sk-container-id-1 div.sk-estimator {font-family: monospace;background-color: #f0f8ff;border: 1px dotted black;border-radius: 0.25em;box-sizing: border-box;margin-bottom: 0.5em;}#sk-container-id-1 div.sk-estimator:hover {background-color: #d4ebff;}#sk-container-id-1 div.sk-parallel-item::after {content: \"\";width: 100%;border-bottom: 1px solid gray;flex-grow: 1;}#sk-container-id-1 div.sk-label:hover label.sk-toggleable__label {background-color: #d4ebff;}#sk-container-id-1 div.sk-serial::before {content: \"\";position: absolute;border-left: 1px solid gray;box-sizing: border-box;top: 0;bottom: 0;left: 50%;z-index: 0;}#sk-container-id-1 div.sk-serial {display: flex;flex-direction: column;align-items: center;background-color: white;padding-right: 0.2em;padding-left: 0.2em;position: relative;}#sk-container-id-1 div.sk-item {position: relative;z-index: 1;}#sk-container-id-1 div.sk-parallel {display: flex;align-items: stretch;justify-content: center;background-color: white;position: relative;}#sk-container-id-1 div.sk-item::before, #sk-container-id-1 div.sk-parallel-item::before {content: \"\";position: absolute;border-left: 1px solid gray;box-sizing: border-box;top: 0;bottom: 0;left: 50%;z-index: -1;}#sk-container-id-1 div.sk-parallel-item {display: flex;flex-direction: column;z-index: 1;position: relative;background-color: white;}#sk-container-id-1 div.sk-parallel-item:first-child::after {align-self: flex-end;width: 50%;}#sk-container-id-1 div.sk-parallel-item:last-child::after {align-self: flex-start;width: 50%;}#sk-container-id-1 div.sk-parallel-item:only-child::after {width: 0;}#sk-container-id-1 div.sk-dashed-wrapped {border: 1px dashed gray;margin: 0 0.4em 0.5em 0.4em;box-sizing: border-box;padding-bottom: 0.4em;background-color: white;}#sk-container-id-1 div.sk-label label {font-family: monospace;font-weight: bold;display: inline-block;line-height: 1.2em;}#sk-container-id-1 div.sk-label-container {text-align: center;}#sk-container-id-1 div.sk-container {/* jupyter's `normalize.less` sets `[hidden] { display: none; }` but bootstrap.min.css set `[hidden] { display: none !important; }` so we also need the `!important` here to be able to override the default hidden behavior on the sphinx rendered scikit-learn.org. See: https://github.com/scikit-learn/scikit-learn/issues/21755 */display: inline-block !important;position: relative;}#sk-container-id-1 div.sk-text-repr-fallback {display: none;}</style><div id=\"sk-container-id-1\" class=\"sk-top-container\"><div class=\"sk-text-repr-fallback\"><pre>LinearDiscriminantAnalysis()</pre><b>In a Jupyter environment, please rerun this cell to show the HTML representation or trust the notebook. <br />On GitHub, the HTML representation is unable to render, please try loading this page with nbviewer.org.</b></div><div class=\"sk-container\" hidden><div class=\"sk-item\"><div class=\"sk-estimator sk-toggleable\"><input class=\"sk-toggleable__control sk-hidden--visually\" id=\"sk-estimator-id-1\" type=\"checkbox\" checked><label for=\"sk-estimator-id-1\" class=\"sk-toggleable__label sk-toggleable__label-arrow\">LinearDiscriminantAnalysis</label><div class=\"sk-toggleable__content\"><pre>LinearDiscriminantAnalysis()</pre></div></div></div></div></div>"
      ],
      "text/plain": [
       "LinearDiscriminantAnalysis()"
      ]
     },
     "execution_count": 86,
     "metadata": {},
     "output_type": "execute_result"
    }
   ],
   "source": [
    "from sklearn.discriminant_analysis import LinearDiscriminantAnalysis\n",
    "\n",
    "# Crear una instancia del modelo LDA\n",
    "modelo_lda = LinearDiscriminantAnalysis()\n",
    "\n",
    "# Ajustar el modelo LDA con los datos de entrenamiento\n",
    "modelo_lda.fit(X_train, y_train)"
   ]
  },
  {
   "cell_type": "code",
   "execution_count": 96,
   "id": "de45dd2a",
   "metadata": {},
   "outputs": [
    {
     "name": "stdout",
     "output_type": "stream",
     "text": [
      "Proporción de hogares pobres en la submuestra 'norespondieron': 0.3659217877094972\n"
     ]
    }
   ],
   "source": [
    "# Supongamos que tienes la muestra \"norespondieron\" en un DataFrame llamado \"norespondieron_df\"\n",
    "\n",
    "# Realiza predicciones en la submuestra \"norespondieron\"\n",
    "norespondieron_sin_codusu = norespondieron.drop(columns=['CODUSU']).copy()\n",
    "\n",
    "predicciones = modelo_lda.predict(norespondieron_sin_codusu)\n",
    "\n",
    "# Calcula la proporción de hogares pobres en la submuestra\n",
    "proporcion_pobres = sum(predicciones) / len(predicciones)\n",
    "\n",
    "print(\"Proporción de hogares pobres en la submuestra 'norespondieron':\", proporcion_pobres)"
   ]
  },
  {
   "cell_type": "code",
   "execution_count": 98,
   "id": "49b718fa",
   "metadata": {},
   "outputs": [],
   "source": [
    "norespondieron['pobre'] = predicciones"
   ]
  },
  {
   "cell_type": "code",
   "execution_count": 99,
   "id": "692637cd",
   "metadata": {},
   "outputs": [
    {
     "name": "stdout",
     "output_type": "stream",
     "text": [
      "pobres: 34.509\n",
      "tasa 60.56%\n"
     ]
    }
   ],
   "source": [
    "merged_data1 = merged_microdata_FINAL.merge(norespondieron, on='CODUSU', how='inner')\n",
    "# Agrupar por hogar y utilizar el ponderador PONDIH para calcular la tasa de hogares pobres\n",
    "# Agrupamos los datos por el código del hogar (CODUSU)\n",
    "microdata_repres = merged_data1.groupby('CODUSU').first().reset_index()\n",
    "# Ponderacion\n",
    "microdata_repres['ponderacion'] = microdata_repres['PONDIH_indv'] * microdata_repres['pobre']\n",
    "pobres = microdata_repres['ponderacion'].sum()\n",
    "poblacion = microdata_repres['PONDIH_indv'].sum()\n",
    "porcentaje_pobres = (pobres / poblacion) * 100\n",
    "pobres1 = '{:,}'.format(pobres).replace(',', '.')\n",
    "print(f\"pobres: {pobres1}\")\n",
    "print(f\"tasa {porcentaje_pobres:.2f}%\")"
   ]
  },
  {
   "cell_type": "markdown",
   "id": "12313d29",
   "metadata": {},
   "source": [
    "# Apéndice"
   ]
  },
  {
   "cell_type": "code",
   "execution_count": null,
   "id": "9a45aedf",
   "metadata": {},
   "outputs": [],
   "source": [
    "# Probamos las funciones con una base de datos simple como parte del proceso de diseñarlas. "
   ]
  },
  {
   "cell_type": "code",
   "execution_count": null,
   "id": "756d7080",
   "metadata": {},
   "outputs": [],
   "source": [
    "# Cargamos una base pública de internet.\n",
    "url = \"https://raw.githubusercontent.com/datasciencedojo/datasets/master/titanic.csv\"\n",
    "titanic_df = pd.read_csv(url)"
   ]
  },
  {
   "cell_type": "code",
   "execution_count": null,
   "id": "aa133c88",
   "metadata": {},
   "outputs": [],
   "source": [
    "# Quitamos todas las variables que sean string y todas las filas con NAs\n",
    "titanic_df = titanic_df.drop(titanic_df.select_dtypes(include=['object']).columns, axis=1)\n",
    "titanic_df=titanic_df.dropna()"
   ]
  },
  {
   "cell_type": "code",
   "execution_count": null,
   "id": "f7a8f8ea",
   "metadata": {},
   "outputs": [],
   "source": [
    "# Formamos un df de variables explicativas y otro con la variable dependiente.\n",
    "X=titanic_df.drop(columns=['Survived'])\n",
    "y=titanic_df.Survived"
   ]
  },
  {
   "cell_type": "code",
   "execution_count": null,
   "id": "75b98b0e",
   "metadata": {},
   "outputs": [],
   "source": [
    "# Le agregamos una columna de 1s al dataframe X para que sirva como el intercepto.\n",
    "X = sm.add_constant(X)"
   ]
  },
  {
   "cell_type": "markdown",
   "id": "730647f9",
   "metadata": {},
   "source": [
    "#### Probando evalua_metodo"
   ]
  },
  {
   "cell_type": "code",
   "execution_count": null,
   "id": "49ae4f6d",
   "metadata": {},
   "outputs": [],
   "source": [
    "# Para probar evalúa_metodo vamos a separar la muestra en train y test. \n",
    "X_train, X_test, y_train, y_test = train_test_split(X, y, test_size=0.3, random_state=10)"
   ]
  },
  {
   "cell_type": "markdown",
   "id": "f2f5b885",
   "metadata": {},
   "source": [
    "#### Vamos a probar la función con diferentes modelos."
   ]
  },
  {
   "cell_type": "code",
   "execution_count": null,
   "id": "cb722a8b",
   "metadata": {},
   "outputs": [],
   "source": [
    "# Definir el modelo\n",
    "modelo = LogisticRegression(max_iter=10000)\n",
    "# Usar la función evalua_metodo\n",
    "resultados = evalua_metodo(modelo, X_train, y_train, X_test, y_test)\n",
    "print(resultados)"
   ]
  },
  {
   "cell_type": "code",
   "execution_count": null,
   "id": "963ee04c",
   "metadata": {},
   "outputs": [],
   "source": [
    "# Definir el modelo\n",
    "knn = KNeighborsClassifier(n_neighbors=5)\n",
    "#Usar la función evalua_metodo\n",
    "resultados = evalua_metodo(knn, X_train, y_train, X_test, y_test)\n",
    "print(resultados)"
   ]
  },
  {
   "cell_type": "code",
   "execution_count": null,
   "id": "6034cf96",
   "metadata": {},
   "outputs": [],
   "source": [
    "# Definir el modelo\n",
    "modelo3= LinearDiscriminantAnalysis()\n",
    "#Usar la función evalua_metodo\n",
    "resultados = evalua_metodo(modelo3, X_train, y_train, X_test, y_test)\n",
    "print(resultados)"
   ]
  },
  {
   "cell_type": "markdown",
   "id": "94edfdd4",
   "metadata": {},
   "source": [
    "#### Probando la función cross_validation"
   ]
  },
  {
   "cell_type": "code",
   "execution_count": null,
   "id": "0f94756e",
   "metadata": {},
   "outputs": [],
   "source": [
    "# Ejemplo de la función con 5 particiones,sin estandarización y sin reporte de la proporción de variables con coeficientes estimados iguales a cero.. \n",
    "cross_validation(modelo,5,X,y,std=False,coef=False)"
   ]
  },
  {
   "cell_type": "markdown",
   "id": "ddffd4f2",
   "metadata": {},
   "source": [
    "#### Probando evalua_config"
   ]
  },
  {
   "cell_type": "code",
   "execution_count": null,
   "id": "29b666f9",
   "metadata": {},
   "outputs": [],
   "source": [
    "# Ejemplo de uso para ambos métodos de regularización:\n",
    "lambdas_ambos = [0.001, 0.01, 0.1, 1, 10, 100, 1000, 10000]\n",
    "resultados_ambos = evalua_config(['ridge','lasso'], lambdas_ambos, X, y)"
   ]
  },
  {
   "cell_type": "code",
   "execution_count": null,
   "id": "89c48ad3",
   "metadata": {},
   "outputs": [],
   "source": [
    "print(resultados_ambos)\n"
   ]
  },
  {
   "cell_type": "markdown",
   "id": "4228b289",
   "metadata": {},
   "source": [
    "#### Probando evalua_multiples_metodos"
   ]
  },
  {
   "cell_type": "code",
   "execution_count": null,
   "id": "0b204b11",
   "metadata": {},
   "outputs": [],
   "source": [
    "from sklearn.linear_model import LogisticRegression\n",
    "from sklearn.discriminant_analysis import LinearDiscriminantAnalysis\n",
    "from sklearn.neighbors import KNeighborsClassifier\n",
    "\n",
    "# Definir los hiperparámetros para cada método\n",
    "hiperparametros_rl = {\n",
    "    'lambdas': [0.1, 1, 10, 50],\n",
    "}\n",
    "\n",
    "hiperparametros_lda = {\n",
    "    'solver': 'lsqr',\n",
    "}\n",
    "\n",
    "hiperparametros_knn = {\n",
    "    'n_neighbors': 3,\n",
    "}\n",
    "\n",
    "# Lista de métodos y sus hiperparámetros\n",
    "metodos = [\n",
    "    {\n",
    "        'nombre': 'Regresión Logística',\n",
    "        'hiperparametros': hiperparametros_rl,\n",
    "    },\n",
    "    {\n",
    "        'nombre': 'Análisis de Discriminante Lineal',\n",
    "        'hiperparametros': hiperparametros_lda,\n",
    "    },\n",
    "    {\n",
    "        'nombre': 'KNN',\n",
    "        'hiperparametros': hiperparametros_knn,\n",
    "    },\n",
    "]\n"
   ]
  },
  {
   "cell_type": "code",
   "execution_count": null,
   "id": "99898c15",
   "metadata": {},
   "outputs": [],
   "source": [
    "# Utilizar la función evalua_multiples_metodos con datos de ejemplo\n",
    "resultados = evalua_multiples_metodos(X_train,y_train, X_test,y_test, metodos)"
   ]
  },
  {
   "cell_type": "code",
   "execution_count": null,
   "id": "2ef1732a",
   "metadata": {
    "scrolled": true
   },
   "outputs": [],
   "source": [
    "resultados"
   ]
  },
  {
   "cell_type": "code",
   "execution_count": null,
   "id": "e6fa0f82",
   "metadata": {},
   "outputs": [],
   "source": []
  }
 ],
 "metadata": {
  "kernelspec": {
   "display_name": "Python 3",
   "language": "python",
   "name": "python3"
  },
  "language_info": {
   "codemirror_mode": {
    "name": "ipython",
    "version": 3
   },
   "file_extension": ".py",
   "mimetype": "text/x-python",
   "name": "python",
   "nbconvert_exporter": "python",
   "pygments_lexer": "ipython3",
   "version": "3.8.8"
  }
 },
 "nbformat": 4,
 "nbformat_minor": 5
}
