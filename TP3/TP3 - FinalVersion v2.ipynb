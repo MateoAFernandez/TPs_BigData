{
 "cells": [
  {
   "cell_type": "markdown",
   "id": "6b9cd2d3",
   "metadata": {},
   "source": [
    "Curso de Big Data\n",
    "==============================\n",
    "\n",
    "Trabajo práctico 3\n",
    "------------------------------\n",
    "\n",
    "### Grupo: Armas Braithwaite, Fernández, Menta, Vargas Ochuza"
   ]
  },
  {
   "cell_type": "markdown",
   "id": "63417974",
   "metadata": {},
   "source": [
    "#### Parte 1: Análisis de la base de hogares y cálculo de pobreza\n",
    "##### Ahora que ya se han familiarizado con la Encuesta Permanente de Hogares (EPH) y con la tabla de adulto equivalente, vamos a complejizar un poco la construcción del índice de pobreza. Lo calcularemos a nivel de hogares, con sus respectivos factores de expansioón y realizaremos una limpieza de la base con mayor dedicación. A continuación, complementamos el trabajo hecho en el TP2 usando la encuesta a nivel hogares de la EPH."
   ]
  },
  {
   "cell_type": "markdown",
   "id": "773ef485",
   "metadata": {},
   "source": [
    "##### Inciso 1\n",
    "##### Exploren el diseño de registro de la base de hogar: a priori, ¿qué variables creen que pueden ser muy predictivas de pobreza y que sería muy útil incluir para perfeccionar el ejercicio del TP2?"
   ]
  },
  {
   "cell_type": "markdown",
   "id": "ea670de8",
   "metadata": {},
   "source": [
    "###### Las variables relevantes para explicar la pobreza creemos que son las siguientes:\n",
    "###### - ITF_hogar (Monto de ingreso total familiar)}: Evalúa la disponibilidad de recursos económicos en el hogar, lo que está estrechamente relacionado con la pobreza.\n",
    "###### - Región (REGION): La ubicación geográfica de un hogar puede tener un impacto significativo en su nivel de vida y acceso a recursos. Por lo tanto, la región en la que se encuentra el hogar es una variable importante.\n",
    "###### - Características de la vivienda (IV2, IV3, IV6, IV8, IV10, IV12_1, IV_12_2, IV12_3): Estas variables describen aspectos de la vivienda, como el número de habitaciones, el estado del piso, el acceso a agua, la presencia de baño, la proximidad a basurales, zonas inundables y villas de emergencia. Estas características pueden estar relacionadas con la calidad de vida y el nivel de pobreza.\n",
    "###### Características habitacionales del hogar (II1, II7, II8, II9): Estas variables describen el número de habitaciones en el hogar, el régimen de tenencia de la vivienda y el tipo de combustible utilizado para cocinar.\n",
    "###### Estrategias del hogar (V1, V2, V4, V5, V6, V12, V14, V17): Estas variables exploran cómo las personas del hogar obtienen ingresos y si han tenido que recurrir a estrategias como pedir préstamos, vender pertenencias o recibir ayuda social. Estas estrategias pueden indicar la vulnerabilidad económica del hogar.\n",
    "###### Resumen del hogar (IX_TOT): La cantidad de miembros en el hogar es un factor importante para evaluar la pobreza, ya que un hogar con más miembros puede requerir más recursos para satisfacer sus necesidades básicas.\n",
    "###### IPCF_hogar (Monto de ingreso per cápita familiar): Proporciona información sobre los recursos disponibles por persona en el hogar, lo que está relacionado con la pobreza."
   ]
  },
  {
   "cell_type": "markdown",
   "id": "1788b994",
   "metadata": {},
   "source": [
    "##### Inciso 2\n",
    "##### Descarguen la base de microdatos de la EPH correspondiente al primer trimestre de 2023 (la base de hogares se llama usu hogar T123.xls). Importen los datos de la encuesta de hogar y, al igual que en el TP2, conserven sólo las observaciones que corresponden a los aglomerados de Ciudad Autónoma de Buenos Aires o del Gran Buenos Aires"
   ]
  },
  {
   "cell_type": "code",
   "execution_count": 1,
   "id": "22a591f3",
   "metadata": {},
   "outputs": [],
   "source": [
    "# Importamos el módulo necesario para trabajar con la base de datos y otros propositos\n",
    "import pandas as pd\n",
    "import numpy as np\n",
    "import matplotlib.pyplot as plt\n",
    "import seaborn as sns"
   ]
  },
  {
   "cell_type": "code",
   "execution_count": 2,
   "id": "f7001c17",
   "metadata": {},
   "outputs": [],
   "source": [
    "# Seteamos el directorio donde vamos a trabajar\n",
    "import os\n",
    "\n",
    "#os.chdir(\"C:/Users/bauti/OneDrive/Documentos/Escritorio/Big Data/TP2/EPH_usu_1er_Trim_2023_xlsx\")\n",
    "#os.chdir(\"C:/Users/Paula/Documents/BIGDATA/TPs_BigData/TP3\")"
   ]
  },
  {
   "cell_type": "code",
   "execution_count": 3,
   "id": "66689972",
   "metadata": {},
   "outputs": [],
   "source": [
    "# Cargamos las bases\n",
    "microdata_hogar = pd.read_excel(\"usu_hogar_T123.xlsx\")"
   ]
  },
  {
   "cell_type": "code",
   "execution_count": 4,
   "id": "8ce9eeda",
   "metadata": {},
   "outputs": [],
   "source": [
    "microdata_indv = pd.read_excel(\"usu_individual_T123.xlsx\")"
   ]
  },
  {
   "cell_type": "code",
   "execution_count": 5,
   "id": "e6e16d60",
   "metadata": {},
   "outputs": [
    {
     "data": {
      "text/plain": [
       "7619"
      ]
     },
     "execution_count": 5,
     "metadata": {},
     "output_type": "execute_result"
    }
   ],
   "source": [
    "# Del diccionario de variables sabemos que tenemos que quedarnos solamente con los valores 32 y 33\n",
    "# que son los correspondientes a Ciudad Autónoma de Buenos Aires o Gran Buenos Aires.\n",
    "\n",
    "# Filtramos el dataframe y lo renombramos\n",
    "microdata_indv_filtered = microdata_indv[(microdata_indv['AGLOMERADO'] == 32) | (microdata_indv['AGLOMERADO'] == 33)]\n",
    "len(microdata_indv_filtered)"
   ]
  },
  {
   "cell_type": "code",
   "execution_count": 6,
   "id": "d5885022",
   "metadata": {},
   "outputs": [
    {
     "data": {
      "text/plain": [
       "2736"
      ]
     },
     "execution_count": 6,
     "metadata": {},
     "output_type": "execute_result"
    }
   ],
   "source": [
    "# Filtramos el dataframe y lo renombramos\n",
    "microdata_hogar_filtered = microdata_hogar[(microdata_hogar['AGLOMERADO'] == 32) | (microdata_hogar['AGLOMERADO'] == 33)]\n",
    "len(microdata_hogar_filtered)\n"
   ]
  },
  {
   "cell_type": "markdown",
   "id": "bef1b850",
   "metadata": {},
   "source": [
    "##### Inciso 3: Unan la tabla de la encuesta individual con la de la encuesta de hogar."
   ]
  },
  {
   "cell_type": "code",
   "execution_count": 7,
   "id": "1e3869d7",
   "metadata": {
    "scrolled": true
   },
   "outputs": [],
   "source": [
    "# Realizamos un inner join de las bases para quedarnos solo con las filas cuyo identificador de hogar se encuentre en ambas bases\n",
    "# Importante remarcar que hacemos el merge por vivienda y hogar! ya que pueden haber 2 viviendas en un mismo hogar.\n",
    "\n",
    "merged_microdata = microdata_indv_filtered.merge(microdata_hogar_filtered, on=['CODUSU', \"NRO_HOGAR\"], how='inner')\n",
    "\n",
    "# Renombrar las columnas con sufijo \"_x\" a \"_indv\"\n",
    "merged_microdata.rename(columns=lambda x: x.replace(\"_x\", \"_indv\"), inplace=True)\n",
    "\n",
    "# Renombrar las columnas con sufijo \"_y\" a \"_hogar\"\n",
    "merged_microdata.rename(columns=lambda x: x.replace(\"_y\", \"_hogar\"), inplace=True)\n",
    "\n",
    "# Esto ultimo no es particularmente necesario pues muchos de los valores son duplicados."
   ]
  },
  {
   "cell_type": "code",
   "execution_count": 8,
   "id": "1cca3511",
   "metadata": {},
   "outputs": [
    {
     "data": {
      "text/plain": [
       "7619"
      ]
     },
     "execution_count": 8,
     "metadata": {},
     "output_type": "execute_result"
    }
   ],
   "source": [
    "# Chequeamos la dimension\n",
    "len(merged_microdata)"
   ]
  },
  {
   "cell_type": "markdown",
   "id": "222aa9bd",
   "metadata": {},
   "source": [
    "##### Inciso 4: Generen sus propias funciones para limpiar la base de datos o, si deciden utilizar funciones existentes en paquetes como numpy y pandas, mencionen cuáles usarán y de qué paquetes son.\n",
    "##### &\n",
    "##### Inciso 5: Limpien la base de datos tomando criterios que hagan sentido, tanto para el tratamiento de valores faltantes, de outliers, como así también decidan qué variables categóricas y strings usarían y transfórmenlas de forma que haga sentido para los ejercicios siguientes. Justifiquen sus decisiones."
   ]
  },
  {
   "cell_type": "code",
   "execution_count": 9,
   "id": "78c4497d",
   "metadata": {},
   "outputs": [
    {
     "name": "stdout",
     "output_type": "stream",
     "text": [
      "Variable: CH08, Cantidad de NaN: 1\n",
      "Variable: CH14, Cantidad de NaN: 3959\n",
      "Variable: CH15_COD, Cantidad de NaN: 6248\n",
      "Variable: CH16_COD, Cantidad de NaN: 7515\n",
      "Variable: IMPUTA, Cantidad de NaN: 7548\n",
      "Variable: PP03C, Cantidad de NaN: 4096\n",
      "Variable: PP03D, Cantidad de NaN: 4096\n",
      "Variable: PP3E_TOT, Cantidad de NaN: 4096\n",
      "Variable: PP3F_TOT, Cantidad de NaN: 4096\n",
      "Variable: PP03G, Cantidad de NaN: 4096\n",
      "Variable: PP03H, Cantidad de NaN: 4096\n",
      "Variable: PP03I, Cantidad de NaN: 4096\n",
      "Variable: PP03J, Cantidad de NaN: 4096\n",
      "Variable: INTENSI, Cantidad de NaN: 4096\n",
      "Variable: PP04A, Cantidad de NaN: 4096\n",
      "Variable: PP04B_COD, Cantidad de NaN: 4096\n",
      "Variable: PP04B1, Cantidad de NaN: 4096\n",
      "Variable: PP04B2, Cantidad de NaN: 4096\n",
      "Variable: PP04B3_MES, Cantidad de NaN: 4096\n",
      "Variable: PP04B3_ANO, Cantidad de NaN: 4096\n",
      "Variable: PP04B3_DIA, Cantidad de NaN: 4096\n",
      "Variable: PP04C, Cantidad de NaN: 4096\n",
      "Variable: PP04C99, Cantidad de NaN: 4096\n",
      "Variable: PP04D_COD, Cantidad de NaN: 4096\n",
      "Variable: PP04G, Cantidad de NaN: 4096\n",
      "Variable: PP05B2_MES, Cantidad de NaN: 4096\n",
      "Variable: PP05B2_ANO, Cantidad de NaN: 4096\n",
      "Variable: PP05B2_DIA, Cantidad de NaN: 4096\n",
      "Variable: PP05C_1, Cantidad de NaN: 4096\n",
      "Variable: PP05C_2, Cantidad de NaN: 4096\n",
      "Variable: PP05C_3, Cantidad de NaN: 4096\n",
      "Variable: PP05E, Cantidad de NaN: 4096\n",
      "Variable: PP05F, Cantidad de NaN: 4096\n",
      "Variable: PP05H, Cantidad de NaN: 4096\n",
      "Variable: PP06A, Cantidad de NaN: 4096\n",
      "Variable: PP06C, Cantidad de NaN: 4096\n",
      "Variable: PP06D, Cantidad de NaN: 4096\n",
      "Variable: PP06E, Cantidad de NaN: 4096\n",
      "Variable: PP06H, Cantidad de NaN: 4096\n",
      "Variable: PP07A, Cantidad de NaN: 4096\n",
      "Variable: PP07C, Cantidad de NaN: 4096\n",
      "Variable: PP07D, Cantidad de NaN: 4096\n",
      "Variable: PP07E, Cantidad de NaN: 4096\n",
      "Variable: PP07F1, Cantidad de NaN: 4096\n",
      "Variable: PP07F2, Cantidad de NaN: 4096\n",
      "Variable: PP07F3, Cantidad de NaN: 4096\n",
      "Variable: PP07F4, Cantidad de NaN: 4096\n",
      "Variable: PP07F5, Cantidad de NaN: 4096\n",
      "Variable: PP07G1, Cantidad de NaN: 4096\n",
      "Variable: PP07G2, Cantidad de NaN: 4096\n",
      "Variable: PP07G3, Cantidad de NaN: 4096\n",
      "Variable: PP07G4, Cantidad de NaN: 4096\n",
      "Variable: PP07G_59, Cantidad de NaN: 4096\n",
      "Variable: PP07H, Cantidad de NaN: 4096\n",
      "Variable: PP07I, Cantidad de NaN: 4096\n",
      "Variable: PP07J, Cantidad de NaN: 4096\n",
      "Variable: PP07K, Cantidad de NaN: 4096\n",
      "Variable: PP08D1, Cantidad de NaN: 4096\n",
      "Variable: PP08D4, Cantidad de NaN: 4096\n",
      "Variable: PP08F1, Cantidad de NaN: 4096\n",
      "Variable: PP08F2, Cantidad de NaN: 4096\n",
      "Variable: PP08J1, Cantidad de NaN: 4096\n",
      "Variable: PP08J2, Cantidad de NaN: 4096\n",
      "Variable: PP08J3, Cantidad de NaN: 4096\n",
      "Variable: PP09A, Cantidad de NaN: 4096\n",
      "Variable: PP09A_ESP, Cantidad de NaN: 7602\n",
      "Variable: PP09B, Cantidad de NaN: 4096\n",
      "Variable: PP09C, Cantidad de NaN: 4096\n",
      "Variable: PP09C_ESP, Cantidad de NaN: 7619\n",
      "Variable: PP10A, Cantidad de NaN: 7333\n",
      "Variable: PP10C, Cantidad de NaN: 7333\n",
      "Variable: PP10D, Cantidad de NaN: 7333\n",
      "Variable: PP10E, Cantidad de NaN: 7333\n",
      "Variable: PP11A, Cantidad de NaN: 7333\n",
      "Variable: PP11B_COD, Cantidad de NaN: 7333\n",
      "Variable: PP11B1, Cantidad de NaN: 7333\n",
      "Variable: PP11B2_MES, Cantidad de NaN: 7333\n",
      "Variable: PP11B2_ANO, Cantidad de NaN: 7333\n",
      "Variable: PP11B2_DIA, Cantidad de NaN: 7333\n",
      "Variable: PP11C, Cantidad de NaN: 7333\n",
      "Variable: PP11C99, Cantidad de NaN: 7333\n",
      "Variable: PP11D_COD, Cantidad de NaN: 7410\n",
      "Variable: PP11G_ANO, Cantidad de NaN: 7333\n",
      "Variable: PP11G_MES, Cantidad de NaN: 7333\n",
      "Variable: PP11G_DIA, Cantidad de NaN: 7333\n",
      "Variable: PP11L, Cantidad de NaN: 7333\n",
      "Variable: PP11L1, Cantidad de NaN: 7333\n",
      "Variable: PP11M, Cantidad de NaN: 7333\n",
      "Variable: PP11N, Cantidad de NaN: 7333\n",
      "Variable: PP11O, Cantidad de NaN: 7333\n",
      "Variable: PP11P, Cantidad de NaN: 7333\n",
      "Variable: PP11Q, Cantidad de NaN: 7333\n",
      "Variable: PP11R, Cantidad de NaN: 7333\n",
      "Variable: PP11S, Cantidad de NaN: 7333\n",
      "Variable: PP11T, Cantidad de NaN: 7333\n",
      "Variable: IDECOCUR, Cantidad de NaN: 7619\n",
      "Variable: PDECOCUR, Cantidad de NaN: 7619\n",
      "Variable: P47T, Cantidad de NaN: 24\n",
      "Variable: IDECINDR, Cantidad de NaN: 7619\n",
      "Variable: PDECINDR, Cantidad de NaN: 7619\n",
      "Variable: IDECIFR_indv, Cantidad de NaN: 7619\n",
      "Variable: PDECIFR_indv, Cantidad de NaN: 7619\n",
      "Variable: IDECCFR_indv, Cantidad de NaN: 7619\n",
      "Variable: PDECCFR_indv, Cantidad de NaN: 7619\n",
      "Variable: IV1_ESP, Cantidad de NaN: 7602\n",
      "Variable: IV3_ESP, Cantidad de NaN: 7608\n",
      "Variable: IV7_ESP, Cantidad de NaN: 7605\n",
      "Variable: II7_ESP, Cantidad de NaN: 7590\n",
      "Variable: II8_ESP, Cantidad de NaN: 7392\n",
      "Variable: IDECIFR_hogar, Cantidad de NaN: 7619\n",
      "Variable: PDECIFR_hogar, Cantidad de NaN: 7619\n",
      "Variable: IDECCFR_hogar, Cantidad de NaN: 7619\n",
      "Variable: PDECCFR_hogar, Cantidad de NaN: 7619\n"
     ]
    }
   ],
   "source": [
    "# Identificar variables con NaN y contar cuántos NaN\n",
    "# Utilizamos funciones de Pandas para identificar y limpiar NaN.\n",
    "\n",
    "variables_con_nan = merged_microdata.columns[merged_microdata.isna().any()].tolist()\n",
    "conteo_de_nans = merged_microdata[variables_con_nan].isna().sum()\n",
    "\n",
    "# Imprimir las variables con NaN y la cantidad de NaN en cada una\n",
    "for variable in variables_con_nan:\n",
    "    print(f'Variable: {variable}, Cantidad de NaN: {conteo_de_nans[variable]}')"
   ]
  },
  {
   "cell_type": "code",
   "execution_count": 10,
   "id": "95b8ff95",
   "metadata": {},
   "outputs": [
    {
     "data": {
      "text/html": [
       "<div>\n",
       "<style scoped>\n",
       "    .dataframe tbody tr th:only-of-type {\n",
       "        vertical-align: middle;\n",
       "    }\n",
       "\n",
       "    .dataframe tbody tr th {\n",
       "        vertical-align: top;\n",
       "    }\n",
       "\n",
       "    .dataframe thead th {\n",
       "        text-align: right;\n",
       "    }\n",
       "</style>\n",
       "<table border=\"1\" class=\"dataframe\">\n",
       "  <thead>\n",
       "    <tr style=\"text-align: right;\">\n",
       "      <th></th>\n",
       "      <th>CODUSU</th>\n",
       "      <th>ANO4_indv</th>\n",
       "      <th>TRIMESTRE_indv</th>\n",
       "      <th>NRO_HOGAR</th>\n",
       "      <th>COMPONENTE</th>\n",
       "      <th>H15</th>\n",
       "      <th>REGION_indv</th>\n",
       "      <th>MAS_500_indv</th>\n",
       "      <th>AGLOMERADO_indv</th>\n",
       "      <th>PONDERA_indv</th>\n",
       "      <th>...</th>\n",
       "      <th>RDECCFR_hogar</th>\n",
       "      <th>GDECCFR_hogar</th>\n",
       "      <th>ADECCFR_hogar</th>\n",
       "      <th>PONDIH_hogar</th>\n",
       "      <th>VII1_1</th>\n",
       "      <th>VII1_2</th>\n",
       "      <th>VII2_1</th>\n",
       "      <th>VII2_2</th>\n",
       "      <th>VII2_3</th>\n",
       "      <th>VII2_4</th>\n",
       "    </tr>\n",
       "  </thead>\n",
       "  <tbody>\n",
       "    <tr>\n",
       "      <th>0</th>\n",
       "      <td>TQRMNORUYHLMSMCDEIJAH00719364</td>\n",
       "      <td>2023</td>\n",
       "      <td>1</td>\n",
       "      <td>1</td>\n",
       "      <td>1</td>\n",
       "      <td>1</td>\n",
       "      <td>1</td>\n",
       "      <td>S</td>\n",
       "      <td>33</td>\n",
       "      <td>1545</td>\n",
       "      <td>...</td>\n",
       "      <td>5</td>\n",
       "      <td>5.0</td>\n",
       "      <td>6</td>\n",
       "      <td>2540</td>\n",
       "      <td>1</td>\n",
       "      <td>0</td>\n",
       "      <td>2</td>\n",
       "      <td>0</td>\n",
       "      <td>0</td>\n",
       "      <td>0</td>\n",
       "    </tr>\n",
       "    <tr>\n",
       "      <th>1</th>\n",
       "      <td>TQRMNORUYHLMSMCDEIJAH00719364</td>\n",
       "      <td>2023</td>\n",
       "      <td>1</td>\n",
       "      <td>1</td>\n",
       "      <td>2</td>\n",
       "      <td>1</td>\n",
       "      <td>1</td>\n",
       "      <td>S</td>\n",
       "      <td>33</td>\n",
       "      <td>1545</td>\n",
       "      <td>...</td>\n",
       "      <td>5</td>\n",
       "      <td>5.0</td>\n",
       "      <td>6</td>\n",
       "      <td>2540</td>\n",
       "      <td>1</td>\n",
       "      <td>0</td>\n",
       "      <td>2</td>\n",
       "      <td>0</td>\n",
       "      <td>0</td>\n",
       "      <td>0</td>\n",
       "    </tr>\n",
       "  </tbody>\n",
       "</table>\n",
       "<p>2 rows × 215 columns</p>\n",
       "</div>"
      ],
      "text/plain": [
       "                          CODUSU  ANO4_indv  TRIMESTRE_indv  NRO_HOGAR  \\\n",
       "0  TQRMNORUYHLMSMCDEIJAH00719364       2023               1          1   \n",
       "1  TQRMNORUYHLMSMCDEIJAH00719364       2023               1          1   \n",
       "\n",
       "   COMPONENTE  H15  REGION_indv MAS_500_indv  AGLOMERADO_indv  PONDERA_indv  \\\n",
       "0           1    1            1            S               33          1545   \n",
       "1           2    1            1            S               33          1545   \n",
       "\n",
       "   ...  RDECCFR_hogar  GDECCFR_hogar ADECCFR_hogar  PONDIH_hogar  VII1_1  \\\n",
       "0  ...              5            5.0             6          2540       1   \n",
       "1  ...              5            5.0             6          2540       1   \n",
       "\n",
       "   VII1_2  VII2_1  VII2_2  VII2_3  VII2_4  \n",
       "0       0       2       0       0       0  \n",
       "1       0       2       0       0       0  \n",
       "\n",
       "[2 rows x 215 columns]"
      ]
     },
     "execution_count": 10,
     "metadata": {},
     "output_type": "execute_result"
    }
   ],
   "source": [
    "# Establecer el umbral de 3500 para determinar qué columnas eliminar\n",
    "umbral = 3500\n",
    "\n",
    "# Eliminar columnas con más de 3500 valores NaN\n",
    "# Utilizamos la funcion de Pandas dropna\n",
    "\n",
    "merged_microdata = merged_microdata.dropna(thresh=umbral, axis=1)\n",
    "merged_microdata.head(2)"
   ]
  },
  {
   "cell_type": "code",
   "execution_count": 11,
   "id": "5847e44e",
   "metadata": {},
   "outputs": [
    {
     "data": {
      "text/plain": [
       "6363"
      ]
     },
     "execution_count": 11,
     "metadata": {},
     "output_type": "execute_result"
    }
   ],
   "source": [
    "# Definimos las variables que deseamos filtrar\n",
    "variables = ['ITF_hogar', 'ITF_indv', 'IPCF_hogar', 'IPCF_indv', 'P21', 'P47T']\n",
    "\n",
    "# Definir el umbral del percentil (en este caso, 97%)\n",
    "percentile_threshold = 0.97\n",
    "\n",
    "# Iterar sobre las variables y aplicar el filtrado utlizando Pandas.\n",
    "for variable in variables:\n",
    "    # Calcular el percentil umbral\n",
    "    percentile_value = merged_microdata[variable].quantile(percentile_threshold)\n",
    "    \n",
    "    # Filtrar el DataFrame para mantener solo los valores por debajo del percentil\n",
    "    merged_microdata = merged_microdata[merged_microdata[variable] <= percentile_value]\n",
    "\n",
    "len(merged_microdata)"
   ]
  },
  {
   "cell_type": "code",
   "execution_count": 12,
   "id": "b6cc4454",
   "metadata": {},
   "outputs": [
    {
     "data": {
      "text/plain": [
       "6335"
      ]
     },
     "execution_count": 12,
     "metadata": {},
     "output_type": "execute_result"
    }
   ],
   "source": [
    "# Limpiamos algunas variables con valores especificos utlizando Pandas\n",
    "\n",
    "merged_microdata = merged_microdata[merged_microdata['CH08'] != 9]\n",
    "merged_microdata = merged_microdata[merged_microdata['IV2'] != 99]\n",
    "merged_microdata = merged_microdata[merged_microdata['II1'] != 99]\n",
    "merged_microdata = merged_microdata[merged_microdata['II9'] > 0]\n",
    "merged_microdata = merged_microdata[merged_microdata['ITF_hogar'] >= 0]\n",
    "merged_microdata = merged_microdata[merged_microdata['ITF_indv'] >= 0]\n",
    "merged_microdata = merged_microdata[merged_microdata['IPCF_hogar'] >= 0]\n",
    "merged_microdata = merged_microdata[merged_microdata['IPCF_indv'] >= 0]\n",
    "\n",
    "\n",
    "len(merged_microdata)"
   ]
  },
  {
   "cell_type": "markdown",
   "id": "fc14dc0e",
   "metadata": {},
   "source": [
    "##### Inciso 6: Presenten estadísticas descriptivas de cinco variables de la encuesta de hogar que ustedes creen que pueden ser relevantes para predecir pobreza.\n",
    "\n",
    "**IV8** Tiene baño\n",
    "\n",
    "**IV3** Piso interior de la casa\n",
    "\n",
    "**V4** La cubierta exterior del techo es de...\n",
    "\n",
    "**IV11** El desague del baño es...\n",
    "\n",
    "**IPCF_hogar** Monto de ingreso per cápita familiar del hogar\n",
    "\n",
    "##### Separamos el analisis entre categoricas y no categoricas."
   ]
  },
  {
   "cell_type": "code",
   "execution_count": 13,
   "id": "f51967d5",
   "metadata": {},
   "outputs": [
    {
     "data": {
      "text/plain": [
       "count      6335.000000\n",
       "mean      25048.015656\n",
       "std       32095.284287\n",
       "min           0.000000\n",
       "25%           0.000000\n",
       "50%           0.000000\n",
       "75%       45480.000000\n",
       "max      125000.000000\n",
       "Name: IPCF_hogar, dtype: float64"
      ]
     },
     "execution_count": 13,
     "metadata": {},
     "output_type": "execute_result"
    }
   ],
   "source": [
    "merged_microdata['IPCF_hogar'].describe().T"
   ]
  },
  {
   "cell_type": "code",
   "execution_count": 14,
   "id": "8bf4f65a",
   "metadata": {},
   "outputs": [
    {
     "name": "stderr",
     "output_type": "stream",
     "text": [
      "C:\\Users\\mateo\\anaconda3\\Lib\\site-packages\\seaborn\\_oldcore.py:1498: FutureWarning: is_categorical_dtype is deprecated and will be removed in a future version. Use isinstance(dtype, CategoricalDtype) instead\n",
      "  if pd.api.types.is_categorical_dtype(vector):\n",
      "C:\\Users\\mateo\\anaconda3\\Lib\\site-packages\\seaborn\\_oldcore.py:1498: FutureWarning: is_categorical_dtype is deprecated and will be removed in a future version. Use isinstance(dtype, CategoricalDtype) instead\n",
      "  if pd.api.types.is_categorical_dtype(vector):\n",
      "C:\\Users\\mateo\\anaconda3\\Lib\\site-packages\\seaborn\\_oldcore.py:1498: FutureWarning: is_categorical_dtype is deprecated and will be removed in a future version. Use isinstance(dtype, CategoricalDtype) instead\n",
      "  if pd.api.types.is_categorical_dtype(vector):\n"
     ]
    },
    {
     "data": {
      "image/png": "[encoded data removed]",
      "text/plain": [
       "<Figure size 1000x600 with 1 Axes>"
      ]
     },
     "metadata": {},
     "output_type": "display_data"
    },
    {
     "name": "stdout",
     "output_type": "stream",
     "text": [
      "Porcentaje de cada categoría en IV8:\n",
      "IV8\n",
      "1    99.73165\n",
      "2     0.26835\n",
      "Name: proportion, dtype: float64\n",
      "\n"
     ]
    },
    {
     "name": "stderr",
     "output_type": "stream",
     "text": [
      "C:\\Users\\mateo\\anaconda3\\Lib\\site-packages\\seaborn\\_oldcore.py:1498: FutureWarning: is_categorical_dtype is deprecated and will be removed in a future version. Use isinstance(dtype, CategoricalDtype) instead\n",
      "  if pd.api.types.is_categorical_dtype(vector):\n",
      "C:\\Users\\mateo\\anaconda3\\Lib\\site-packages\\seaborn\\_oldcore.py:1498: FutureWarning: is_categorical_dtype is deprecated and will be removed in a future version. Use isinstance(dtype, CategoricalDtype) instead\n",
      "  if pd.api.types.is_categorical_dtype(vector):\n",
      "C:\\Users\\mateo\\anaconda3\\Lib\\site-packages\\seaborn\\_oldcore.py:1498: FutureWarning: is_categorical_dtype is deprecated and will be removed in a future version. Use isinstance(dtype, CategoricalDtype) instead\n",
      "  if pd.api.types.is_categorical_dtype(vector):\n"
     ]
    },
    {
     "data": {
      "image/png": "[encoded data removed]",
      "text/plain": [
       "<Figure size 1000x600 with 1 Axes>"
      ]
     },
     "metadata": {},
     "output_type": "display_data"
    },
    {
     "name": "stdout",
     "output_type": "stream",
     "text": [
      "Porcentaje de cada categoría en V4:\n",
      "V4\n",
      "2    99.526440\n",
      "1     0.347277\n",
      "9     0.126283\n",
      "Name: proportion, dtype: float64\n",
      "\n"
     ]
    },
    {
     "name": "stderr",
     "output_type": "stream",
     "text": [
      "C:\\Users\\mateo\\anaconda3\\Lib\\site-packages\\seaborn\\_oldcore.py:1498: FutureWarning: is_categorical_dtype is deprecated and will be removed in a future version. Use isinstance(dtype, CategoricalDtype) instead\n",
      "  if pd.api.types.is_categorical_dtype(vector):\n",
      "C:\\Users\\mateo\\anaconda3\\Lib\\site-packages\\seaborn\\_oldcore.py:1498: FutureWarning: is_categorical_dtype is deprecated and will be removed in a future version. Use isinstance(dtype, CategoricalDtype) instead\n",
      "  if pd.api.types.is_categorical_dtype(vector):\n",
      "C:\\Users\\mateo\\anaconda3\\Lib\\site-packages\\seaborn\\_oldcore.py:1498: FutureWarning: is_categorical_dtype is deprecated and will be removed in a future version. Use isinstance(dtype, CategoricalDtype) instead\n",
      "  if pd.api.types.is_categorical_dtype(vector):\n"
     ]
    },
    {
     "data": {
      "image/png": "[encoded data removed]",
      "text/plain": [
       "<Figure size 1000x600 with 1 Axes>"
      ]
     },
     "metadata": {},
     "output_type": "display_data"
    },
    {
     "name": "stdout",
     "output_type": "stream",
     "text": [
      "Porcentaje de cada categoría en IV3:\n",
      "IV3\n",
      "1    86.566693\n",
      "2    13.149171\n",
      "3     0.205209\n",
      "4     0.078927\n",
      "Name: proportion, dtype: float64\n",
      "\n"
     ]
    },
    {
     "name": "stderr",
     "output_type": "stream",
     "text": [
      "C:\\Users\\mateo\\anaconda3\\Lib\\site-packages\\seaborn\\_oldcore.py:1498: FutureWarning: is_categorical_dtype is deprecated and will be removed in a future version. Use isinstance(dtype, CategoricalDtype) instead\n",
      "  if pd.api.types.is_categorical_dtype(vector):\n",
      "C:\\Users\\mateo\\anaconda3\\Lib\\site-packages\\seaborn\\_oldcore.py:1498: FutureWarning: is_categorical_dtype is deprecated and will be removed in a future version. Use isinstance(dtype, CategoricalDtype) instead\n",
      "  if pd.api.types.is_categorical_dtype(vector):\n",
      "C:\\Users\\mateo\\anaconda3\\Lib\\site-packages\\seaborn\\_oldcore.py:1498: FutureWarning: is_categorical_dtype is deprecated and will be removed in a future version. Use isinstance(dtype, CategoricalDtype) instead\n",
      "  if pd.api.types.is_categorical_dtype(vector):\n"
     ]
    },
    {
     "data": {
      "image/png": "[encoded data removed]",
      "text/plain": [
       "<Figure size 1000x600 with 1 Axes>"
      ]
     },
     "metadata": {},
     "output_type": "display_data"
    },
    {
     "name": "stdout",
     "output_type": "stream",
     "text": [
      "Porcentaje de cada categoría en IV11:\n",
      "IV11\n",
      "1    68.034728\n",
      "2    22.304657\n",
      "3     9.171271\n",
      "0     0.268350\n",
      "4     0.220994\n",
      "Name: proportion, dtype: float64\n",
      "\n"
     ]
    }
   ],
   "source": [
    "variables = ['IV8', 'V4', 'IV3', 'IV11']\n",
    "\n",
    "for var in variables:\n",
    "    # Conteo de frecuencias\n",
    "    conteo_frecuencias = merged_microdata[var].value_counts()\n",
    "\n",
    "    # Gráfico de barras\n",
    "    plt.figure(figsize=(10, 6))\n",
    "    sns.countplot(data=merged_microdata, x=var)\n",
    "    plt.title(f'Gráfico de Barras - Frecuencia de Categorías en {var}')\n",
    "    plt.xticks(rotation=45)\n",
    "    plt.show()\n",
    "\n",
    "    # Porcentaje de cada categoría\n",
    "    porcentaje = merged_microdata[var].value_counts(normalize=True) * 100\n",
    "    print(f\"Porcentaje de cada categoría en {var}:\")\n",
    "    print(porcentaje)\n",
    "    print()"
   ]
  },
  {
   "cell_type": "code",
   "execution_count": 15,
   "id": "47adc7fa",
   "metadata": {},
   "outputs": [],
   "source": [
    "# Armamos una función para no tener que lidiar con el tedioso uso del archivo de Excel.\n",
    "\n",
    "# Esta función, asignar_valor, toma dos argumentos, edad y genero, y asigna un valor numérico basado en reglas condicionales\n",
    "# que dependen de estos dos argumentos. Las condiciones se prueban en orden y, cuando se encuentra una coincidencia, se\n",
    "# devuelve un valor específico. Si no se cumple ninguna condición, la función devuelve None.\n",
    "#Las condiciones están diseñadas para categorizar a las personas en grupos según su edad y género y asignarles un valor numérico basado en esas categorías.\n",
    "\n",
    "def asignar_valor(edad, genero):\n",
    "    if edad < 1:\n",
    "        if genero == 2:\n",
    "            return 0.35\n",
    "        elif genero == 1:\n",
    "            return 0.35\n",
    "    elif edad == 1:\n",
    "        if genero == 2:\n",
    "            return 0.37\n",
    "        elif genero == 1:\n",
    "            return 0.37\n",
    "    elif edad == 2:\n",
    "        if genero == 2:\n",
    "            return 0.46\n",
    "        elif genero == 1:\n",
    "            return 0.46\n",
    "    elif edad == 3:\n",
    "        if genero == 2:\n",
    "            return 0.51\n",
    "        elif genero == 1:\n",
    "            return 0.51\n",
    "    elif edad == 4:\n",
    "        if genero == 2:\n",
    "            return 0.55\n",
    "        elif genero == 1:\n",
    "            return 0.55\n",
    "    elif edad == 5:\n",
    "        if genero == 2:\n",
    "            return 0.60\n",
    "        elif genero == 1:\n",
    "            return 0.60\n",
    "    elif edad == 6:\n",
    "        if genero == 2:\n",
    "            return 0.64\n",
    "        elif genero == 1:\n",
    "            return 0.64\n",
    "    elif edad == 7:\n",
    "        if genero == 2:\n",
    "            return 0.66\n",
    "        elif genero == 1:\n",
    "            return 0.66\n",
    "    elif edad == 8:\n",
    "        if genero == 2:\n",
    "            return 0.68\n",
    "        elif genero == 1:\n",
    "            return 0.68\n",
    "    elif edad == 9:\n",
    "        if genero == 2:\n",
    "            return 0.69\n",
    "        elif genero == 1:\n",
    "            return 0.69\n",
    "    elif edad == 10:\n",
    "        if genero == 2:\n",
    "            return 0.70\n",
    "        elif genero == 1:\n",
    "            return 0.79\n",
    "    elif edad == 11:\n",
    "        if genero == 2:\n",
    "            return 0.72\n",
    "        elif genero == 1:\n",
    "            return 0.82\n",
    "    elif edad == 12:\n",
    "        if genero == 2:\n",
    "            return 0.74\n",
    "        elif genero == 1:\n",
    "            return 0.85\n",
    "    elif edad == 13:\n",
    "        if genero == 2:\n",
    "            return 0.76\n",
    "        elif genero == 1:\n",
    "            return 0.90\n",
    "    elif edad == 14:\n",
    "        if genero == 2:\n",
    "            return 0.76\n",
    "        elif genero == 1:\n",
    "            return 0.96\n",
    "    elif edad == 15:\n",
    "        if genero == 2:\n",
    "            return 0.77\n",
    "        elif genero == 1:\n",
    "            return 1.00\n",
    "    elif edad == 16:\n",
    "        if genero == 2:\n",
    "            return 0.77\n",
    "        elif genero == 1:\n",
    "            return 1.03\n",
    "    elif edad == 17:\n",
    "        if genero == 2:\n",
    "            return 0.77\n",
    "        elif genero == 1:\n",
    "            return 1.04\n",
    "    elif 18 <= edad <= 29:\n",
    "        if genero == 2:\n",
    "            return 0.76\n",
    "        elif genero == 1:\n",
    "            return 1.02\n",
    "    elif 30 <= edad <= 45:\n",
    "        if genero == 2:\n",
    "            return 0.77\n",
    "        elif genero == 1:\n",
    "            return 1.00\n",
    "    elif 46 <= edad <= 60:\n",
    "        if genero == 2:\n",
    "            return 0.76\n",
    "        elif genero == 1:\n",
    "            return 1.00\n",
    "    elif 61 <= edad <= 75:\n",
    "        if genero == 2:\n",
    "            return 0.67\n",
    "        elif genero == 1:\n",
    "            return 0.83\n",
    "    elif edad > 75:\n",
    "        if genero == 2:\n",
    "            return 0.63\n",
    "        elif genero == 1:\n",
    "            return 0.74\n",
    "    else:\n",
    "        return None  # En caso de que no haya una combinación válida"
   ]
  },
  {
   "cell_type": "markdown",
   "id": "abbbfa33",
   "metadata": {},
   "source": [
    "##### Inciso 7: Repitan el inciso 1.2.f del TP2 para construir la columna adulto equiv y la columna ad equiv hogar (pueden utilizar su código del TP2)."
   ]
  },
  {
   "cell_type": "code",
   "execution_count": 16,
   "id": "3eea9446",
   "metadata": {},
   "outputs": [],
   "source": [
    "# Aplicamos la funcion al data frame. Creamos una nueva columna llamada 'adulto_equiv' en el DataFrame 'microdata_filtered', donde se calculan y asignan valores equivalentes para adultos\n",
    "# a partir de las edades ('CH06') y géneros ('CH04') de cada fila utilizando una función llamada 'asignar_valor'.\n",
    "\n",
    "merged_microdata['adulto_equiv'] = merged_microdata.apply(lambda row: asignar_valor(row['CH06'], row['CH04']), axis=1)"
   ]
  },
  {
   "cell_type": "code",
   "execution_count": 17,
   "id": "a5c6c2c4",
   "metadata": {},
   "outputs": [],
   "source": [
    "# Limpiamos y Renombramos\n",
    "\n",
    "merged_microdata = merged_microdata.dropna(subset=['adulto_equiv'])\n",
    "\n",
    "result = merged_microdata.groupby(by=['CODUSU','NRO_HOGAR']).agg({'adulto_equiv': 'sum'}).reset_index()\n",
    "result.rename(columns={'adulto_equiv': 'ad_equiv_hogar'}, inplace=True)\n",
    "\n",
    "merged_microdata_FINAL = pd.merge(merged_microdata, result[['CODUSU','NRO_HOGAR', 'ad_equiv_hogar']],\n",
    "                     on=['CODUSU','NRO_HOGAR'],\n",
    "                     how='left')"
   ]
  },
  {
   "cell_type": "markdown",
   "id": "40a89131",
   "metadata": {},
   "source": [
    "##### Inciso 8: Repitan el inciso 1.3 y 1.4 del TP2 para dividir la base en dos dataframes donde: uno conserve las personas que no reportaron ITF (dataframe llamado respondieron) y otro conserve a las personas que no reportaron ITF (llamado norespondieron). Además, agreguen a la base respondieron una columna llamada ingreso necesario que sea el producto de la canasta básica por ad equiv hogar."
   ]
  },
  {
   "cell_type": "code",
   "execution_count": 18,
   "id": "898ed818",
   "metadata": {},
   "outputs": [
    {
     "name": "stdout",
     "output_type": "stream",
     "text": [
      "3132\n",
      "3203\n"
     ]
    }
   ],
   "source": [
    "# Definimos ambas bases según los criterios del enunciado, comprobando la condición sobre ITF.\n",
    "# Imprimimos la longitud del DataFrame para obtener las cantidades.\n",
    "\n",
    "# Reemplazar NaN por ceros en ITF_indv e ITF_hogar\n",
    "merged_microdata['ITF_indv'].fillna(0, inplace=True)\n",
    "merged_microdata['ITF_hogar'].fillna(0, inplace=True)\n",
    "\n",
    "respondieron = merged_microdata_FINAL[(merged_microdata_FINAL['ITF_indv'] != 0) | (merged_microdata_FINAL['ITF_hogar'] != 0)]\n",
    "print(len(respondieron))\n",
    "\n",
    "norespondieron = merged_microdata_FINAL[(merged_microdata_FINAL['ITF_indv'] == 0) & (merged_microdata_FINAL['ITF_hogar'] == 0)]\n",
    "print(len(norespondieron))"
   ]
  },
  {
   "cell_type": "code",
   "execution_count": 19,
   "id": "52c8ef20",
   "metadata": {
    "scrolled": true
   },
   "outputs": [
    {
     "name": "stderr",
     "output_type": "stream",
     "text": [
      "C:\\Users\\mateo\\AppData\\Local\\Temp\\ipykernel_19260\\2316923591.py:6: SettingWithCopyWarning: \n",
      "A value is trying to be set on a copy of a slice from a DataFrame.\n",
      "Try using .loc[row_indexer,col_indexer] = value instead\n",
      "\n",
      "See the caveats in the documentation: https://pandas.pydata.org/pandas-docs/stable/user_guide/indexing.html#returning-a-view-versus-a-copy\n",
      "  respondieron['ingreso_necesario'] = respondieron['ad_equiv_hogar'] * valor_canasta_basica\n"
     ]
    }
   ],
   "source": [
    "# Definimos el valor de la canasta básica y luego\n",
    "# seguimos las instrucciones del enunciado para añadir una columna que indique el ingreso necesario\n",
    "\n",
    "valor_canasta_basica = 57371.05\n",
    "\n",
    "respondieron['ingreso_necesario'] = respondieron['ad_equiv_hogar'] * valor_canasta_basica"
   ]
  },
  {
   "cell_type": "markdown",
   "id": "adebca69",
   "metadata": {},
   "source": [
    "##### Inciso 9: Agreguen a la base respondieron una columna llamada pobre, que tome valor 1 si el ITF es menor al ingreso necesario que necesita esa familia y 0 en caso contrario."
   ]
  },
  {
   "cell_type": "code",
   "execution_count": 20,
   "id": "0a2d1212",
   "metadata": {},
   "outputs": [
    {
     "name": "stdout",
     "output_type": "stream",
     "text": [
      "Número de pobres identificados: 1487\n",
      "0.47477650063856963\n"
     ]
    },
    {
     "name": "stderr",
     "output_type": "stream",
     "text": [
      "C:\\Users\\mateo\\AppData\\Local\\Temp\\ipykernel_19260\\4235357720.py:5: SettingWithCopyWarning: \n",
      "A value is trying to be set on a copy of a slice from a DataFrame.\n",
      "Try using .loc[row_indexer,col_indexer] = value instead\n",
      "\n",
      "See the caveats in the documentation: https://pandas.pydata.org/pandas-docs/stable/user_guide/indexing.html#returning-a-view-versus-a-copy\n",
      "  respondieron['pobre'] = ((respondieron['ITF_hogar'] < respondieron['ingreso_necesario']) & (respondieron['ITF_indv'] < respondieron['ingreso_necesario'])).astype(int)\n"
     ]
    }
   ],
   "source": [
    "# Creamos una nueva columna llamada 'pobre' en el DataFrame 'respondieron',\n",
    "# donde se asigna un valor de 1 si el valor en la columna 'ITF' es menor que\n",
    "# el valor en la columna 'ingreso_necesario', y 0 en caso contrario, convirtiendo los resultados a enteros.\n",
    "\n",
    "respondieron['pobre'] = ((respondieron['ITF_hogar'] < respondieron['ingreso_necesario']) & (respondieron['ITF_indv'] < respondieron['ingreso_necesario'])).astype(int)\n",
    "\n",
    "# Sumamos todos los 1\n",
    "\n",
    "num_pobres = respondieron['pobre'].sum()\n",
    "\n",
    "print(f'Número de pobres identificados: {num_pobres}')\n",
    "\n",
    "# En %\n",
    "\n",
    "print(num_pobres/len(respondieron))\n",
    "\n"
   ]
  },
  {
   "cell_type": "markdown",
   "id": "26585cfc",
   "metadata": {},
   "source": [
    "##### Inciso 10: En el TP2 calcularon los individuos bajo la línea de pobreza. Sin embargo, cuando se habla de pobreza el número más utilizado es el de la tasa de hogares bajo la línea de pobreza. Para calcularlo, utilicen una sola observación por hogar y sumen el ponderador PONDIH que permite expandir la muestra de la EPH al total de la población que representa. ¿Cuál es la tasa de hogares bajo la línea de pobreza para el GBA? ¿Se asemeja al que reporta el INDEC en sus informes?"
   ]
  },
  {
   "cell_type": "code",
   "execution_count": 21,
   "id": "fdcd45a4",
   "metadata": {},
   "outputs": [
    {
     "data": {
      "text/plain": [
       "0        2540\n",
       "1        2540\n",
       "2       14082\n",
       "3       14082\n",
       "4       14082\n",
       "        ...  \n",
       "6330     4220\n",
       "6331     4220\n",
       "6332        0\n",
       "6333        0\n",
       "6334        0\n",
       "Name: PONDIH_hogar, Length: 6335, dtype: int64"
      ]
     },
     "execution_count": 21,
     "metadata": {},
     "output_type": "execute_result"
    }
   ],
   "source": [
    "merged_microdata_FINAL['PONDIH_hogar']"
   ]
  },
  {
   "cell_type": "code",
   "execution_count": 22,
   "id": "71621bb1",
   "metadata": {},
   "outputs": [],
   "source": [
    "# Agrupar por hogar y utilizar el ponderador PONDIH para calcular la tasa de hogares pobres\n",
    "# Agrupamos los datos por el código del hogar (CODUSU)\n",
    "microdata_repres = respondieron.groupby('CODUSU').first().reset_index()\n"
   ]
  },
  {
   "cell_type": "code",
   "execution_count": 23,
   "id": "ee95edee",
   "metadata": {},
   "outputs": [],
   "source": [
    "# Ponderacion\n",
    "microdata_repres['ponderacion'] = microdata_repres['PONDIH_indv'] * microdata_repres['pobre']"
   ]
  },
  {
   "cell_type": "code",
   "execution_count": 24,
   "id": "dbbe843b",
   "metadata": {},
   "outputs": [],
   "source": [
    "pobres = microdata_repres['ponderacion'].sum()\n",
    "poblacion = microdata_repres['PONDIH_indv'].sum()\n",
    "porcentaje_pobres = (pobres / poblacion) * 100"
   ]
  },
  {
   "cell_type": "code",
   "execution_count": 25,
   "id": "901e648d",
   "metadata": {},
   "outputs": [
    {
     "name": "stdout",
     "output_type": "stream",
     "text": [
      "pobres: 1.439.914\n",
      "tasa 36.67%\n"
     ]
    }
   ],
   "source": [
    "pobres1 = '{:,}'.format(pobres).replace(',', '.')\n",
    "print(f\"pobres: {pobres1}\")\n",
    "print(f\"tasa {porcentaje_pobres:.2f}%\")"
   ]
  },
  {
   "cell_type": "markdown",
   "id": "36846408",
   "metadata": {},
   "source": [
    "#### La tasa de pobreza nos dio 6 PP mayor que la reportada por el INDEC. Creemos que esto puede ser debido a distintos criterios de limpieza de la base. Aun asi, la diferencia no es tan significativa."
   ]
  },
  {
   "cell_type": "markdown",
   "id": "447197d0",
   "metadata": {},
   "source": [
    "# Parte 2: Construcción de funciones"
   ]
  },
  {
   "cell_type": "code",
   "execution_count": 26,
   "id": "c271b078",
   "metadata": {},
   "outputs": [],
   "source": [
    "import pandas as pd\n",
    "import numpy as np\n",
    "#from ISLP import load_data\n",
    "\n",
    "from matplotlib import pyplot as plt\n",
    "\n",
    "from sklearn.model_selection import train_test_split\n",
    "from sklearn.linear_model import LinearRegression\n",
    "from sklearn.preprocessing import PolynomialFeatures \n",
    "from sklearn.metrics import mean_squared_error\n",
    "from sklearn.linear_model import LogisticRegression\n",
    "from sklearn.metrics import confusion_matrix, roc_curve, auc, accuracy_score\n",
    "from sklearn.datasets import load_breast_cancer\n",
    "from sklearn.model_selection import train_test_split\n",
    "from sklearn.model_selection import KFold\n",
    "from sklearn.discriminant_analysis import LinearDiscriminantAnalysis\n",
    "from sklearn.neighbors import KNeighborsClassifier\n",
    "import statsmodels.api as sm"
   ]
  },
  {
   "cell_type": "markdown",
   "id": "43603106",
   "metadata": {},
   "source": [
    "## Inciso 1"
   ]
  },
  {
   "cell_type": "markdown",
   "id": "98a36a48",
   "metadata": {},
   "source": [
    "#### Escriban una funcion, llamada evalua metodo, que reciba como argumentos un modelo y los datos de entrenamiento y prueba (X train, y train, X test,y test).\n",
    "#### La función debe ajustar el modelo con los datos de entrenamiento y calcular las métricas que considere necesarias para esta problem´atica (de mínima, deben reportar la matriz de confusión, las curvas ROC y los valores d eAUC y de accuracy score de cada método). \n",
    "#### El output de la función debe seruna colección con las métricas evaluadas.\n"
   ]
  },
  {
   "cell_type": "code",
   "execution_count": 27,
   "id": "d9119fb7",
   "metadata": {},
   "outputs": [],
   "source": [
    "# Cargamos una base de internet para probar la función. \n",
    "url = \"https://raw.githubusercontent.com/datasciencedojo/datasets/master/titanic.csv\"\n",
    "titanic_df = pd.read_csv(url)"
   ]
  },
  {
   "cell_type": "code",
   "execution_count": 28,
   "id": "612614a2",
   "metadata": {},
   "outputs": [],
   "source": [
    "# Quitamos todas las variables que sean string y todas las filas con NAs\n",
    "titanic_df = titanic_df.drop(titanic_df.select_dtypes(include=['object']).columns, axis=1)\n",
    "titanic_df=titanic_df.dropna()"
   ]
  },
  {
   "cell_type": "code",
   "execution_count": 29,
   "id": "c5f8aea2",
   "metadata": {},
   "outputs": [],
   "source": [
    "# Formamos un df de variables explicativas y otro con la variable dependiente.\n",
    "X=titanic_df.drop(columns=['Survived'])\n",
    "y=titanic_df.Survived"
   ]
  },
  {
   "cell_type": "code",
   "execution_count": 30,
   "id": "e570f2a7",
   "metadata": {},
   "outputs": [],
   "source": [
    "# Le agregamos una columna de 1s al dataframe X para que sirva como el intercepto.\n",
    "X = sm.add_constant(X)"
   ]
  },
  {
   "cell_type": "code",
   "execution_count": 31,
   "id": "5691d513",
   "metadata": {},
   "outputs": [],
   "source": [
    "X_train, X_test, y_train, y_test = train_test_split(X, y, test_size=0.3, random_state=10)"
   ]
  },
  {
   "cell_type": "markdown",
   "id": "577c8626",
   "metadata": {},
   "source": [
    "## PROBLEMA AÚN: parametros h_l, h_k"
   ]
  },
  {
   "cell_type": "code",
   "execution_count": 32,
   "id": "a7facec4",
   "metadata": {},
   "outputs": [],
   "source": [
    "def evalua_metodo(modelo, X_train, y_train, X_test, y_test, h_l=0.0001, h_k=5):\n",
    "    \n",
    "    '''\n",
    "    Evalua un modelo de clasificación proporcionando métricas clave y visualizando la curva ROC.\n",
    "    \n",
    "    Input:\n",
    "    - modelo: modelo de clasificación ya instanciado (debe tener los métodos `fit`, `predict` y `predict_proba`).\n",
    "    - X_train, y_train: datos de entrenamiento.\n",
    "    - X_test, y_test: datos de prueba.\n",
    "    \n",
    "    Output:\n",
    "    - Diccionario con las siguientes métricas:\n",
    "        * matriz_confusion: Matriz de confusión del modelo.\n",
    "        * valor_auc: Área bajo la curva ROC.\n",
    "        * accuracy: Precisión del modelo.\n",
    "        *ECM (MSE en inglés): error cuadrático medio\n",
    "    - Gráfico de la curva ROC.\n",
    "    '''\n",
    "    # Entrenando el modelo\n",
    "    if modelo==KNeighborsClassifier:\n",
    "        y = modelo(h_k).fit(X_train, y_train)\n",
    "    elif modelo== LogisticRegression:\n",
    "        y = modelo(C=1/h_l).fit(X_train, y_train)\n",
    "    elif modelo== LinearDiscriminantAnalysis:\n",
    "        y = modelo().fit(X_train, y_train)\n",
    "    else:\n",
    "        y = modelo.fit(X_train, y_train)    \n",
    "    # Predicciones\n",
    "    y_pred = modelo.predict(X_test)\n",
    "    y_pred_prob = modelo.predict_proba(X_test)[:, 1]\n",
    "    \n",
    "    # Calculando métricas\n",
    "    matriz_confusion = confusion_matrix(y_test, y_pred)\n",
    "    fpr, tpr, thresholds = roc_curve(y_test, y_pred_prob)\n",
    "    valor_auc = auc(fpr, tpr)\n",
    "    accuracy = accuracy_score(y_test, y_pred)\n",
    "    ecm = mean_squared_error(y_test, y_pred) # Deseamos tener esta métrica disponible para la siguiente función. \n",
    "    # Dibujando la curva ROC\n",
    "    plt.figure()\n",
    "    plt.plot(fpr, tpr, color='darkorange', label='Curva ROC (área = %0.2f)' % valor_auc)\n",
    "    plt.plot([0, 1], [0, 1], color='navy', linestyle='--')\n",
    "    plt.xlabel('Tasa de falsos positivos')\n",
    "    plt.ylabel('Tasa de verdaderos positivos')\n",
    "    plt.title('Curva ROC')\n",
    "    plt.legend(loc=\"lower right\")\n",
    "    plt.show()\n",
    "    \n",
    "    # Retornando métricas\n",
    "    return {\n",
    "        'matriz_confusion': matriz_confusion,\n",
    "        'valor_auc': valor_auc,\n",
    "        'accuracy': accuracy,\n",
    "        'ecm': ecm,\n",
    "    }\n"
   ]
  },
  {
   "cell_type": "code",
   "execution_count": 33,
   "id": "d8e072bb",
   "metadata": {},
   "outputs": [],
   "source": [
    "# Vamos a probar la función con diferentes modelos e hiperparámetros."
   ]
  },
  {
   "cell_type": "code",
   "execution_count": 34,
   "id": "611365d1",
   "metadata": {},
   "outputs": [
    {
     "data": {
      "image/png": "[encoded data removed]",
      "text/plain": [
       "<Figure size 640x480 with 1 Axes>"
      ]
     },
     "metadata": {},
     "output_type": "display_data"
    },
    {
     "name": "stdout",
     "output_type": "stream",
     "text": [
      "{'matriz_confusion': array([[109,  16],\n",
      "       [ 45,  45]], dtype=int64), 'valor_auc': 0.7658666666666667, 'accuracy': 0.7162790697674418, 'ecm': 0.2837209302325581}\n"
     ]
    }
   ],
   "source": [
    "\n",
    "modelo = LogisticRegression(max_iter=10000)\n",
    "# Usar la función evalua_metodo\n",
    "resultados = evalua_metodo(modelo, X_train, y_train, X_test, y_test)\n",
    "print(resultados)"
   ]
  },
  {
   "cell_type": "code",
   "execution_count": 35,
   "id": "6b9e26e3",
   "metadata": {},
   "outputs": [
    {
     "data": {
      "image/png": "[encoded data removed]",
      "text/plain": [
       "<Figure size 640x480 with 1 Axes>"
      ]
     },
     "metadata": {},
     "output_type": "display_data"
    },
    {
     "name": "stdout",
     "output_type": "stream",
     "text": [
      "{'matriz_confusion': array([[109,  16],\n",
      "       [ 45,  45]], dtype=int64), 'valor_auc': 0.7658666666666667, 'accuracy': 0.7162790697674418, 'ecm': 0.2837209302325581}\n"
     ]
    }
   ],
   "source": [
    "# Definir el modelo\n",
    "modelo = LogisticRegression(max_iter=10000)\n",
    "# Usar la función evalua_metodo\n",
    "resultados = evalua_metodo(modelo, X_train, y_train, X_test, y_test,h_l=10)\n",
    "print(resultados)"
   ]
  },
  {
   "cell_type": "code",
   "execution_count": 36,
   "id": "c0a6d0a7",
   "metadata": {},
   "outputs": [
    {
     "data": {
      "image/png": "[encoded data removed]",
      "text/plain": [
       "<Figure size 640x480 with 1 Axes>"
      ]
     },
     "metadata": {},
     "output_type": "display_data"
    },
    {
     "name": "stdout",
     "output_type": "stream",
     "text": [
      "{'matriz_confusion': array([[105,  20],\n",
      "       [ 58,  32]], dtype=int64), 'valor_auc': 0.6350222222222222, 'accuracy': 0.6372093023255814, 'ecm': 0.3627906976744186}\n"
     ]
    }
   ],
   "source": [
    "# Definir el modelo\n",
    "knn = KNeighborsClassifier(n_neighbors=5)\n",
    "modelo2=knn.fit(X_train, y_train)\n",
    "#Usar la función evalua_metodo\n",
    "resultados = evalua_metodo(modelo2, X_train, y_train, X_test, y_test)\n",
    "print(resultados)"
   ]
  },
  {
   "cell_type": "code",
   "execution_count": 37,
   "id": "edf297a3",
   "metadata": {},
   "outputs": [
    {
     "data": {
      "image/png": "[encoded data removed]",
      "text/plain": [
       "<Figure size 640x480 with 1 Axes>"
      ]
     },
     "metadata": {},
     "output_type": "display_data"
    },
    {
     "name": "stdout",
     "output_type": "stream",
     "text": [
      "{'matriz_confusion': array([[109,  16],\n",
      "       [ 45,  45]], dtype=int64), 'valor_auc': 0.7654222222222222, 'accuracy': 0.7162790697674418, 'ecm': 0.2837209302325581}\n"
     ]
    }
   ],
   "source": [
    "# Definir el modelo\n",
    "modelo3= LinearDiscriminantAnalysis(n_components=1)\n",
    "#Usar la función evalua_metodo\n",
    "resultados = evalua_metodo(modelo3, X_train, y_train, X_test, y_test)\n",
    "print(resultados)"
   ]
  },
  {
   "cell_type": "markdown",
   "id": "f61b044f",
   "metadata": {},
   "source": [
    "## Inciso 2"
   ]
  },
  {
   "cell_type": "markdown",
   "id": "1feb28c4",
   "metadata": {},
   "source": [
    "#### Escriban una función, llamada cross validation, que realice validación cruzada con k iteraciones (k-fold CV), llamando a la función del  inciso anterior en cada una, pero para las k distintas particiones. \n",
    "#### La función debe recibir como argumentos el modelo, el valor de k y un dataset (es decir, s´olo X e y).\n",
    "#### Pueden ayudarse con la función KFold para generar las particiones necesarias"
   ]
  },
  {
   "cell_type": "code",
   "execution_count": 38,
   "id": "c8459179",
   "metadata": {},
   "outputs": [],
   "source": [
    "from sklearn.preprocessing import StandardScaler"
   ]
  },
  {
   "cell_type": "code",
   "execution_count": 43,
   "id": "b6c09312",
   "metadata": {},
   "outputs": [],
   "source": [
    "def cross_validation(modelo, k, x, y, std=True):\n",
    "    '''\n",
    "    Realiza validación cruzada de un modelo de clasificación y provee la distribución de varias métricas de precisión.\n",
    "    Input:\n",
    "    - modelo: modelo de clasificación ya instanciado (debe tener los métodos `fit`, `predict` y `predict_proba`).\n",
    "    - k: número de particiones\n",
    "    - x: variables explicativas. Ya debe contener una columnas con 1s y debe estar en formato dataframe o numpyarray.\n",
    "    - y: variable categórica a predecir. Debe estar en formato dataframe o numpyarray.\n",
    "    Output:\n",
    "    - Dataframe con las siguientes métricas:\n",
    "        * matriz_confusion: Matriz de confusión del modelo.\n",
    "        * valor_auc: Área bajo la curva ROC.\n",
    "        * accuracy: Precisión del modelo.\n",
    "        *ECM (MSE en inglés): error cuadrático medio\n",
    "    '''\n",
    "    # Convertimos la data en pandas dataframe en caso no lo haya estado originalmente.\n",
    "    if isinstance(x, np.ndarray):\n",
    "        x = pd.DataFrame(x)\n",
    "    if isinstance(y, np.ndarray):\n",
    "        y = pd.DataFrame(y)\n",
    "    \n",
    "    sc = StandardScaler()\n",
    "    kf = KFold(n_splits=k, shuffle=True)\n",
    "    output = []\n",
    "    for i, (train_index, test_index) in enumerate(kf.split(x)):\n",
    "        x_train, x_test = x.iloc[list(train_index)], x.iloc[list(test_index)]\n",
    "        y_train, y_test = y.iloc[list(train_index)], y.iloc[list(test_index)]\n",
    "        \n",
    "        if std == True:\n",
    "            # Estandarizamos las variables explicativas de las muestras de entrenamiento y de prueba\n",
    "            x_train = pd.DataFrame(sc.fit_transform(x_train), index=x_train.index, columns=x_train.columns)\n",
    "            x_test = pd.DataFrame(sc.transform(x_test), index=x_test.index, columns=x_test.columns)\n",
    "        \n",
    "        modelo.fit(x_train, y_train)\n",
    "        # Predicciones\n",
    "        y_pred = modelo.predict(x_test)\n",
    "        y_pred_prob = modelo.predict_proba(x_test)[:, 1]\n",
    "        \n",
    "        # Calculando métricas\n",
    "        matriz_confusion = confusion_matrix(y_test, y_pred)\n",
    "        fpr, tpr, thresholds = roc_curve(y_test, y_pred_prob)\n",
    "        valor_auc = auc(fpr, tpr)\n",
    "        accuracy = accuracy_score(y_test, y_pred)\n",
    "        ecm = mean_squared_error(y_test, y_pred)\n",
    "        \n",
    "        output.append((i+1, ecm, valor_auc, accuracy))\n",
    "        \n",
    "    output_df = pd.DataFrame(output, columns=[\"Particion\", \"MSE\", \"valor_auc\", \"accuracy\"])\n",
    "    return output_df\n"
   ]
  },
  {
   "cell_type": "code",
   "execution_count": 44,
   "id": "537690e3",
   "metadata": {},
   "outputs": [
    {
     "data": {
      "text/html": [
       "<div>\n",
       "<style scoped>\n",
       "    .dataframe tbody tr th:only-of-type {\n",
       "        vertical-align: middle;\n",
       "    }\n",
       "\n",
       "    .dataframe tbody tr th {\n",
       "        vertical-align: top;\n",
       "    }\n",
       "\n",
       "    .dataframe thead th {\n",
       "        text-align: right;\n",
       "    }\n",
       "</style>\n",
       "<table border=\"1\" class=\"dataframe\">\n",
       "  <thead>\n",
       "    <tr style=\"text-align: right;\">\n",
       "      <th></th>\n",
       "      <th>Particion</th>\n",
       "      <th>MSE</th>\n",
       "      <th>valor_auc</th>\n",
       "      <th>accuracy</th>\n",
       "    </tr>\n",
       "  </thead>\n",
       "  <tbody>\n",
       "    <tr>\n",
       "      <th>0</th>\n",
       "      <td>1</td>\n",
       "      <td>0.258741</td>\n",
       "      <td>0.789876</td>\n",
       "      <td>0.741259</td>\n",
       "    </tr>\n",
       "    <tr>\n",
       "      <th>1</th>\n",
       "      <td>2</td>\n",
       "      <td>0.314685</td>\n",
       "      <td>0.769976</td>\n",
       "      <td>0.685315</td>\n",
       "    </tr>\n",
       "    <tr>\n",
       "      <th>2</th>\n",
       "      <td>3</td>\n",
       "      <td>0.321678</td>\n",
       "      <td>0.712235</td>\n",
       "      <td>0.678322</td>\n",
       "    </tr>\n",
       "    <tr>\n",
       "      <th>3</th>\n",
       "      <td>4</td>\n",
       "      <td>0.279720</td>\n",
       "      <td>0.743026</td>\n",
       "      <td>0.720280</td>\n",
       "    </tr>\n",
       "    <tr>\n",
       "      <th>4</th>\n",
       "      <td>5</td>\n",
       "      <td>0.288732</td>\n",
       "      <td>0.750849</td>\n",
       "      <td>0.711268</td>\n",
       "    </tr>\n",
       "  </tbody>\n",
       "</table>\n",
       "</div>"
      ],
      "text/plain": [
       "   Particion       MSE  valor_auc  accuracy\n",
       "0          1  0.258741   0.789876  0.741259\n",
       "1          2  0.314685   0.769976  0.685315\n",
       "2          3  0.321678   0.712235  0.678322\n",
       "3          4  0.279720   0.743026  0.720280\n",
       "4          5  0.288732   0.750849  0.711268"
      ]
     },
     "execution_count": 44,
     "metadata": {},
     "output_type": "execute_result"
    }
   ],
   "source": [
    "# Ejemplo de la función con 5 particiones y sin estandarización. \n",
    "cross_validation(modelo,5,X,y,std=False)"
   ]
  },
  {
   "cell_type": "markdown",
   "id": "832860c4",
   "metadata": {},
   "source": [
    "## Inciso 3"
   ]
  },
  {
   "cell_type": "markdown",
   "id": "24efd06e",
   "metadata": {},
   "source": [
    "#### Escriban una función, llamada evalua config que reciba una lista de configuraciones de hiperparámetros (los distintos valores a probar como hiper-parámetros podrian codificarse en diccionarios de Python)y utilizando la función cross validation obtenga el error cuadrado promedio para cada configuración."
   ]
  },
  {
   "cell_type": "code",
   "execution_count": 45,
   "id": "fa95eecc",
   "metadata": {},
   "outputs": [],
   "source": [
    "def evalua_config(configuraciones, X, y,k):\n",
    "    \"\"\"\n",
    "    Evalúa diferentes configuraciones de hiperparámetros para un modelo  de regresión logística y devuelve la mejor configuración\n",
    "    bajo el criterio del mínimo error cuadrático medio. \n",
    "    Input:\n",
    "    - configuraciones (list): Lista de diccionarios con las diferentes configuraciones de hiperparámetros.\n",
    "    - X: variables independientes del conjunto de datos.\n",
    "    - y: variable dependiente (target) del conjunto de datos.\n",
    "    - k: número de particiones que se utiliza\n",
    "    - Funciones auxiliares:\n",
    "    - cross_validation\n",
    "    - evalua_metodo (definida dentro de cross_validation)\n",
    "    Output:\n",
    "    - Diccionario con la mejor configuración y su correspondiente precisión promedio.\n",
    "    \"\"\"\n",
    "    \n",
    "    mejor_configuracion = None\n",
    "    menor_ecm = 10000 \n",
    "    \n",
    "    for config in configuraciones:\n",
    "        modelo = LogisticRegression(max_iter=500, **config)\n",
    "        resultados = cross_validation(modelo, k, X, y)\n",
    "        ecm_promedio = resultados['MSE'].mean()  \n",
    "        if ecm_promedio < menor_ecm:\n",
    "            menor_ecm=ecm_promedio\n",
    "            mejor_configuracion=config \n",
    "        #if accuracy_promedio > mejor_accuracy:\n",
    "            #mejor_accuracy = accuracy_promedio\n",
    "            #mejor_configuracion = config\n",
    "    \n",
    "    return {\n",
    "        'mejor_configuracion': mejor_configuracion,\n",
    "        #'mejor_accuracy': mejor_accuracy\n",
    "        'menor_ecm': menor_ecm \n",
    "    }\n",
    "\n"
   ]
  },
  {
   "cell_type": "code",
   "execution_count": 46,
   "id": "f641bc87",
   "metadata": {},
   "outputs": [
    {
     "name": "stdout",
     "output_type": "stream",
     "text": [
      "{'mejor_configuracion': {'penalty': 'l2', 'C': 0.5}, 'menor_ecm': 0.29550078247261347}\n"
     ]
    }
   ],
   "source": [
    "configuraciones = [\n",
    "    {'penalty': 'l2', 'C': 1.0},\n",
    "    {'penalty': 'l1', 'C': 1.0, 'solver': 'saga'},\n",
    "    {'penalty': 'l2', 'C': 0.5},\n",
    "    ]\n",
    "\n",
    "resultado = evalua_config(configuraciones, X, y,10)\n",
    "print(resultado)\n"
   ]
  },
  {
   "cell_type": "markdown",
   "id": "76899bb9",
   "metadata": {},
   "source": [
    "## Ejercicio 4"
   ]
  },
  {
   "cell_type": "markdown",
   "id": "4dc00c5c",
   "metadata": {},
   "source": [
    "## Inciso 4"
   ]
  },
  {
   "cell_type": "markdown",
   "id": "55e3adb6",
   "metadata": {},
   "source": [
    "#### Escriban una función llamada \"evalua multiples metodos\" que les permita implementar los siguiente métodos con los hiperparámetros que ustedes elijan. \n",
    "#### Para la regresión logística, aseg´urense de que esta función utilice su función.\n",
    "#### evalua config para optimizar el λ de la regularizaci´on. Finalmente, el output de la función debe ser una tabla donde las columnas sean las métricas que hayan evaluado (las que hayan incluido en la función evalua metodo) y las filas sean los modelos (con su configuraci´on de hiperpar´ametros asociada) que hayan corrido.\n",
    "#### Asegúrense de que la tabla incluya una columna con nombre del modelo y el valor de los hiperparámetros/configuración:"
   ]
  },
  {
   "cell_type": "code",
   "execution_count": 47,
   "id": "8edc5813",
   "metadata": {},
   "outputs": [],
   "source": [
    "def evalua_multiples_metodos(X, y, configuraciones_rl, k, h_n=5):\n",
    "    \"\"\"\n",
    "    Evalúa diferentes métodos, entre ellos, Regresión Logistica bajo la manera óptima de regularizacion (Lasso o Ridge, y el lambda óptimo).\n",
    "    \n",
    "    Parámetros:\n",
    "    - X: variables independientes del conjunto de datos.\n",
    "    - y: variable dependiente (target) del conjunto de datos.\n",
    "    - configuraciones_rl (list): Lista de diccionarios con las diferentes configuraciones de hiperparámetros.\n",
    "    - k: el número de particiones\n",
    "    - h_n: número de vecinos. \n",
    "    Devoluciones:\n",
    "    - Dataframe con los indicadores de precisión de cada modelo y, de ser RegLog, su modo óptimo de regularización.\n",
    "    \"\"\"\n",
    "    modelos = {\n",
    "        \"Regresión Logística\": LogisticRegression(max_iter=500),\n",
    "        \"LDA\": LinearDiscriminantAnalysis(),\n",
    "        \"KNN\": KNeighborsClassifier(n_neighbors=h_n)}\n",
    "\n",
    "    # Optimización de hiperparámetros para Regresión Logística\n",
    "    mejor_config = evalua_config(configuraciones_rl, X, y, k)['mejor_configuracion']\n",
    "    modelos[\"Regresión Logística\"].set_params(**mejor_config)\n",
    "\n",
    "    # Almacenar resultados\n",
    "    resultados = []\n",
    "\n",
    "    for nombre, modelo in modelos.items():\n",
    "        metricas = cross_validation(modelo, k, X, y)\n",
    "        ecm_promedio = metricas[\"MSE\"].mean()\n",
    "        accuracy_promedio=metricas[\"accuracy\"].mean()\n",
    "        if nombre == \"Regresión Logística\":\n",
    "            penalty_value = mejor_config['penalty']\n",
    "            hiper_l = 1 / mejor_config['C']\n",
    "        else:\n",
    "            penalty_value = \"\"\n",
    "            hiper_l = \"\"\n",
    "        resultados.append({\n",
    "            \"Modelo\": nombre,\n",
    "            \"ecm_promedio\": ecm_promedio,\n",
    "            \"Accuracy\": accuracy_promedio,\n",
    "            \"Método de reg.\": penalty_value,\n",
    "            \"Lambda\": hiper_l\n",
    "        })\n",
    "\n",
    "    return pd.DataFrame(resultados)"
   ]
  },
  {
   "cell_type": "markdown",
   "id": "e2db386e",
   "metadata": {},
   "source": [
    "# Parte 3: Análisis de la base de hogares y cálculo de pobreza"
   ]
  },
  {
   "cell_type": "code",
   "execution_count": 48,
   "id": "2986c02a",
   "metadata": {},
   "outputs": [],
   "source": [
    "import pandas as pd\n",
    "import numpy as np\n",
    "#from ISLP import load_data\n",
    "\n",
    "from matplotlib import pyplot as plt\n",
    "\n",
    "from sklearn.model_selection import train_test_split\n",
    "from sklearn.linear_model import LinearRegression\n",
    "from sklearn.preprocessing import PolynomialFeatures \n",
    "from sklearn.metrics import mean_squared_error\n",
    "from sklearn.linear_model import LogisticRegression\n",
    "from sklearn.metrics import confusion_matrix, roc_curve, auc, accuracy_score\n",
    "import matplotlib.pyplot as plt\n",
    "from sklearn.linear_model import LogisticRegression\n",
    "from sklearn.datasets import load_breast_cancer\n",
    "from sklearn.model_selection import train_test_split\n",
    "from sklearn.model_selection import KFold\n",
    "from sklearn.discriminant_analysis import LinearDiscriminantAnalysis\n",
    "from sklearn.neighbors import KNeighborsClassifier"
   ]
  },
  {
   "cell_type": "code",
   "execution_count": 49,
   "id": "a9fff0a8",
   "metadata": {},
   "outputs": [
    {
     "name": "stdout",
     "output_type": "stream",
     "text": [
      "CODUSU\n",
      "ANO4_indv\n",
      "TRIMESTRE_indv\n",
      "NRO_HOGAR\n",
      "COMPONENTE\n",
      "H15\n",
      "REGION_indv\n",
      "MAS_500_indv\n",
      "AGLOMERADO_indv\n",
      "PONDERA_indv\n",
      "CH03\n",
      "CH04\n",
      "CH05\n",
      "CH06\n",
      "CH07\n",
      "CH08\n",
      "CH09\n",
      "CH10\n",
      "CH11\n",
      "CH12\n",
      "CH13\n",
      "CH14\n",
      "CH15\n",
      "CH16\n",
      "NIVEL_ED\n",
      "ESTADO\n",
      "CAT_OCUP\n",
      "CAT_INAC\n",
      "PP02C1\n",
      "PP02C2\n",
      "PP02C3\n",
      "PP02C4\n",
      "PP02C5\n",
      "PP02C6\n",
      "PP02C7\n",
      "PP02C8\n",
      "PP02E\n",
      "PP02H\n",
      "PP02I\n",
      "PP03C\n",
      "PP03D\n",
      "PP3E_TOT\n",
      "PP3F_TOT\n",
      "PP03G\n",
      "PP03H\n",
      "PP03I\n",
      "PP03J\n",
      "INTENSI\n",
      "PP04A\n",
      "PP04B_COD\n",
      "PP04B1\n",
      "PP04B2\n",
      "PP04B3_MES\n",
      "PP04B3_ANO\n",
      "PP04B3_DIA\n",
      "PP04C\n",
      "PP04C99\n",
      "PP04D_COD\n",
      "PP04G\n",
      "PP05B2_MES\n",
      "PP05B2_ANO\n",
      "PP05B2_DIA\n",
      "PP05C_1\n",
      "PP05C_2\n",
      "PP05C_3\n",
      "PP05E\n",
      "PP05F\n",
      "PP05H\n",
      "PP06A\n",
      "PP06C\n",
      "PP06D\n",
      "PP06E\n",
      "PP06H\n",
      "PP07A\n",
      "PP07C\n",
      "PP07D\n",
      "PP07E\n",
      "PP07F1\n",
      "PP07F2\n",
      "PP07F3\n",
      "PP07F4\n",
      "PP07F5\n",
      "PP07G1\n",
      "PP07G2\n",
      "PP07G3\n",
      "PP07G4\n",
      "PP07G_59\n",
      "PP07H\n",
      "PP07I\n",
      "PP07J\n",
      "PP07K\n",
      "PP08D1\n",
      "PP08D4\n",
      "PP08F1\n",
      "PP08F2\n",
      "PP08J1\n",
      "PP08J2\n",
      "PP08J3\n",
      "PP09A\n",
      "PP09B\n",
      "PP09C\n",
      "P21\n",
      "DECOCUR\n",
      "RDECOCUR\n",
      "GDECOCUR\n",
      "ADECOCUR\n",
      "PONDIIO\n",
      "TOT_P12\n",
      "P47T\n",
      "DECINDR\n",
      "RDECINDR\n",
      "GDECINDR\n",
      "ADECINDR\n",
      "PONDII\n",
      "V2_M\n",
      "V3_M\n",
      "V4_M\n",
      "V5_M\n",
      "V8_M\n",
      "V9_M\n",
      "V10_M\n",
      "V11_M\n",
      "V12_M\n",
      "V18_M\n",
      "V19_AM\n",
      "V21_M\n",
      "T_VI\n",
      "ITF_indv\n",
      "DECIFR_indv\n",
      "RDECIFR_indv\n",
      "GDECIFR_indv\n",
      "ADECIFR_indv\n",
      "IPCF_indv\n",
      "DECCFR_indv\n",
      "RDECCFR_indv\n",
      "GDECCFR_indv\n",
      "ADECCFR_indv\n",
      "PONDIH_indv\n",
      "ANO4_hogar\n",
      "TRIMESTRE_hogar\n",
      "REALIZADA\n",
      "REGION_hogar\n",
      "MAS_500_hogar\n",
      "AGLOMERADO_hogar\n",
      "PONDERA_hogar\n",
      "IV1\n",
      "IV2\n",
      "IV3\n",
      "IV4\n",
      "IV5\n",
      "IV6\n",
      "IV7\n",
      "IV8\n",
      "IV9\n",
      "IV10\n",
      "IV11\n",
      "IV12_1\n",
      "IV12_2\n",
      "IV12_3\n",
      "II1\n",
      "II2\n",
      "II3\n",
      "II3_1\n",
      "II4_1\n",
      "II4_2\n",
      "II4_3\n",
      "II5\n",
      "II5_1\n",
      "II6\n",
      "II6_1\n",
      "II7\n",
      "II8\n",
      "II9\n",
      "V1\n",
      "V2\n",
      "V21\n",
      "V22\n",
      "V3\n",
      "V4\n",
      "V5\n",
      "V6\n",
      "V7\n",
      "V8\n",
      "V9\n",
      "V10\n",
      "V11\n",
      "V12\n",
      "V13\n",
      "V14\n",
      "V15\n",
      "V16\n",
      "V17\n",
      "V18\n",
      "V19_A\n",
      "V19_B\n",
      "IX_TOT\n",
      "IX_MEN10\n",
      "IX_MAYEQ10\n",
      "ITF_hogar\n",
      "DECIFR_hogar\n",
      "RDECIFR_hogar\n",
      "GDECIFR_hogar\n",
      "ADECIFR_hogar\n",
      "IPCF_hogar\n",
      "DECCFR_hogar\n",
      "RDECCFR_hogar\n",
      "GDECCFR_hogar\n",
      "ADECCFR_hogar\n",
      "PONDIH_hogar\n",
      "VII1_1\n",
      "VII1_2\n",
      "VII2_1\n",
      "VII2_2\n",
      "VII2_3\n",
      "VII2_4\n",
      "adulto_equiv\n",
      "ad_equiv_hogar\n",
      "ingreso_necesario\n",
      "pobre\n"
     ]
    }
   ],
   "source": [
    "variables = respondieron.columns\n",
    "for variable in variables:\n",
    "   print(variable)"
   ]
  },
  {
   "cell_type": "code",
   "execution_count": 50,
   "id": "8fe00d55",
   "metadata": {},
   "outputs": [],
   "source": [
    "# Eliminar columnas específicas\n",
    "respondieron = respondieron.drop(columns=['CODUSU','ANO4_indv','TRIMESTRE_indv','REGION_indv', 'MAS_500_indv','ANO4_hogar','TRIMESTRE_hogar','REGION_hogar', 'MAS_500_hogar', 'CH05','CH14'])\n",
    "\n",
    "# Eliminar un rango de columnas: ingresos de la ocupación principal de los asalariados\n",
    "respondieron = respondieron.drop(columns=[col for col in respondieron.columns if col.startswith('PP08')])\n",
    "\n",
    "# Eliminar un rango de columnas: Ingresos de la ocupación principal de los trabajadores independientes\n",
    "respondieron = respondieron.drop(columns=[col for col in respondieron.columns if col.startswith('PP06')])\n",
    "\n",
    "# Ingresos de la ocupación principal\n",
    "start = respondieron.columns.get_loc('PP03C')\n",
    "end = respondieron.columns.get_loc('PONDIH_indv')\n",
    "\n",
    "columns_to_drop = respondieron.columns[start:end+1]\n",
    "respondieron = respondieron.drop(columns=columns_to_drop)\n",
    "\n",
    "# Ingresos de la ocupación principal\n",
    "start = respondieron.columns.get_loc('ITF_hogar')\n",
    "end = respondieron.columns.get_loc('PONDIH_hogar')\n",
    "\n",
    "columns_to_drop = respondieron.columns[start:end+1]\n",
    "respondieron = respondieron.drop(columns=columns_to_drop)\n",
    "\n",
    "# Ingresos de la ocupación principal\n",
    "start = respondieron.columns.get_loc('adulto_equiv')\n",
    "end = respondieron.columns.get_loc('ingreso_necesario')\n",
    "\n",
    "columns_to_drop = respondieron.columns[start:end+1]\n",
    "respondieron = respondieron.drop(columns=columns_to_drop)"
   ]
  },
  {
   "cell_type": "code",
   "execution_count": 51,
   "id": "0c210db7",
   "metadata": {},
   "outputs": [],
   "source": [
    "# Eliminar columnas específicas\n",
    "norespondieron = norespondieron.drop(columns=['CODUSU','ANO4_indv','TRIMESTRE_indv','REGION_indv', 'MAS_500_indv','ANO4_hogar','TRIMESTRE_hogar','REGION_hogar', 'MAS_500_hogar', 'CH05','CH14'])\n",
    "\n",
    "# Eliminar un rango de columnas: ingresos de la ocupación principal de los asalariados\n",
    "norespondieron = norespondieron.drop(columns=[col for col in norespondieron.columns if col.startswith('PP08')])\n",
    "\n",
    "# Eliminar un rango de columnas: Ingresos de la ocupación principal de los trabajadores independientes\n",
    "norespondieron = norespondieron.drop(columns=[col for col in norespondieron.columns if col.startswith('PP06')])\n",
    "\n",
    "# Ingresos de la ocupación principal\n",
    "start = norespondieron.columns.get_loc('P21')\n",
    "end = norespondieron.columns.get_loc('PONDIH_indv')\n",
    "\n",
    "columns_to_drop = norespondieron.columns[start:end+1]\n",
    "norespondieron = norespondieron.drop(columns=columns_to_drop)\n",
    "\n",
    "# Ingresos de la ocupación principal\n",
    "start = norespondieron.columns.get_loc('ITF_hogar')\n",
    "end = norespondieron.columns.get_loc('PONDIH_hogar')\n",
    "\n",
    "columns_to_drop = norespondieron.columns[start:end+1]\n",
    "norespondieron = norespondieron.drop(columns=columns_to_drop)\n",
    "\n",
    "# Ingresos de la ocupación principal\n",
    "start = norespondieron.columns.get_loc('adulto_equiv')\n",
    "end = norespondieron.columns.get_loc('ad_equiv_hogar')\n",
    "\n",
    "columns_to_drop = norespondieron.columns[start:end+1]\n",
    "norespondieron = norespondieron.drop(columns=columns_to_drop)"
   ]
  },
  {
   "cell_type": "code",
   "execution_count": 52,
   "id": "ff37cff4",
   "metadata": {},
   "outputs": [
    {
     "name": "stdout",
     "output_type": "stream",
     "text": [
      "NRO_HOGAR\n",
      "COMPONENTE\n",
      "H15\n",
      "AGLOMERADO_indv\n",
      "PONDERA_indv\n",
      "CH03\n",
      "CH04\n",
      "CH06\n",
      "CH07\n",
      "CH08\n",
      "CH09\n",
      "CH10\n",
      "CH11\n",
      "CH12\n",
      "CH13\n",
      "CH15\n",
      "CH16\n",
      "NIVEL_ED\n",
      "ESTADO\n",
      "CAT_OCUP\n",
      "CAT_INAC\n",
      "PP02C1\n",
      "PP02C2\n",
      "PP02C3\n",
      "PP02C4\n",
      "PP02C5\n",
      "PP02C6\n",
      "PP02C7\n",
      "PP02C8\n",
      "PP02E\n",
      "PP02H\n",
      "PP02I\n",
      "REALIZADA\n",
      "AGLOMERADO_hogar\n",
      "PONDERA_hogar\n",
      "IV1\n",
      "IV2\n",
      "IV3\n",
      "IV4\n",
      "IV5\n",
      "IV6\n",
      "IV7\n",
      "IV8\n",
      "IV9\n",
      "IV10\n",
      "IV11\n",
      "IV12_1\n",
      "IV12_2\n",
      "IV12_3\n",
      "II1\n",
      "II2\n",
      "II3\n",
      "II3_1\n",
      "II4_1\n",
      "II4_2\n",
      "II4_3\n",
      "II5\n",
      "II5_1\n",
      "II6\n",
      "II6_1\n",
      "II7\n",
      "II8\n",
      "II9\n",
      "V1\n",
      "V2\n",
      "V21\n",
      "V22\n",
      "V3\n",
      "V4\n",
      "V5\n",
      "V6\n",
      "V7\n",
      "V8\n",
      "V9\n",
      "V10\n",
      "V11\n",
      "V12\n",
      "V13\n",
      "V14\n",
      "V15\n",
      "V16\n",
      "V17\n",
      "V18\n",
      "V19_A\n",
      "V19_B\n",
      "IX_TOT\n",
      "IX_MEN10\n",
      "IX_MAYEQ10\n",
      "VII1_1\n",
      "VII1_2\n",
      "VII2_1\n",
      "VII2_2\n",
      "VII2_3\n",
      "VII2_4\n",
      "pobre\n"
     ]
    }
   ],
   "source": [
    "variables = respondieron.columns\n",
    "for variable in variables:\n",
    "   print(variable)"
   ]
  },
  {
   "cell_type": "code",
   "execution_count": 53,
   "id": "63e2bab7",
   "metadata": {},
   "outputs": [
    {
     "name": "stdout",
     "output_type": "stream",
     "text": [
      "['CH08']\n"
     ]
    }
   ],
   "source": [
    "# To check before running the models\n",
    "# Obtener el nombre de las columnas que tienen al menos un NaN\n",
    "columnas_con_nas = respondieron.columns[respondieron.isna().any()].tolist()\n",
    "\n",
    "# Imprimir las columnas\n",
    "print(columnas_con_nas)\n"
   ]
  },
  {
   "cell_type": "code",
   "execution_count": 54,
   "id": "49a1c715",
   "metadata": {},
   "outputs": [],
   "source": [
    "# Eliminar las observaciones con NaN en 'column_name' directamente en el DataFrame original\n",
    "respondieron.dropna(subset=['CH08'], inplace=True)\n"
   ]
  },
  {
   "cell_type": "code",
   "execution_count": 55,
   "id": "46e8a116",
   "metadata": {},
   "outputs": [],
   "source": [
    "# Definimos la matriz de Xs \n",
    "X = respondieron.drop(['pobre'], axis=1)\n",
    "y = respondieron.pobre"
   ]
  },
  {
   "cell_type": "markdown",
   "id": "7384fff4",
   "metadata": {},
   "source": [
    "## Ejercicio 2"
   ]
  },
  {
   "cell_type": "code",
   "execution_count": 56,
   "id": "89b80265",
   "metadata": {},
   "outputs": [
    {
     "name": "stderr",
     "output_type": "stream",
     "text": [
      "C:\\Users\\mateo\\anaconda3\\Lib\\site-packages\\sklearn\\linear_model\\_sag.py:350: ConvergenceWarning: The max_iter was reached which means the coef_ did not converge\n",
      "  warnings.warn(\n",
      "C:\\Users\\mateo\\anaconda3\\Lib\\site-packages\\sklearn\\linear_model\\_sag.py:350: ConvergenceWarning: The max_iter was reached which means the coef_ did not converge\n",
      "  warnings.warn(\n",
      "C:\\Users\\mateo\\anaconda3\\Lib\\site-packages\\sklearn\\linear_model\\_sag.py:350: ConvergenceWarning: The max_iter was reached which means the coef_ did not converge\n",
      "  warnings.warn(\n",
      "C:\\Users\\mateo\\anaconda3\\Lib\\site-packages\\sklearn\\linear_model\\_sag.py:350: ConvergenceWarning: The max_iter was reached which means the coef_ did not converge\n",
      "  warnings.warn(\n",
      "C:\\Users\\mateo\\anaconda3\\Lib\\site-packages\\sklearn\\linear_model\\_sag.py:350: ConvergenceWarning: The max_iter was reached which means the coef_ did not converge\n",
      "  warnings.warn(\n"
     ]
    },
    {
     "name": "stdout",
     "output_type": "stream",
     "text": [
      "                Modelo  ecm_promedio  Accuracy Método de reg. Lambda\n",
      "0  Regresión Logística      0.219415  0.780585             l2    2.0\n",
      "1                  LDA      0.223571  0.776429                      \n",
      "2                  KNN      0.200582  0.799418                      \n"
     ]
    }
   ],
   "source": [
    "#Corran la funcion evalua multiples metodos (de la Parte 2) con la base respondieron, con \n",
    "# al menos un hiperparámetro para regularizar y al menos un valor de \\lambda. \n",
    "\n",
    "# Debes decidir el valor de h_n, digamos que es 5 para este ejemplo\n",
    "h_n = 5\n",
    "k = 5\n",
    "# Ahora llamamos a la función\n",
    "resultados_df=evalua_multiples_metodos(X, y, configuraciones, 5)\n",
    "# Ver los resultados\n",
    "print(resultados_df)\n"
   ]
  },
  {
   "cell_type": "markdown",
   "id": "ca6b1c74",
   "metadata": {},
   "source": [
    "## Ejercicio 3"
   ]
  },
  {
   "cell_type": "markdown",
   "id": "f1e46cb3",
   "metadata": {},
   "source": [
    "##### En el ejercicio de regularización, lambda lo que hace es penalizar la minimización de la suma de residuos al cuadrado. La idea es reducir el overfitting: imponemos un trade-off entre sesgar un poco nuestra estimación original de MCO en el conjunto de entrenamiento con el fin de reducir la varianza una vez que pasamos al conjunto de testeo. Ahora bien, considerando que un lambda alto hace que la sensibilidad del resultado ante variaciones en las variables explicativas sea menor, mientras que un valor menor de lambda hace que la aproximación se acerque a la de MCO, ¿cómo elegimos lambda? La mejor manera es realizar validación cruzada para distintos valores de lambda en un conjunto de entrenamiento y validación, elegiendo aquel que minimice la varianza en este último antes de probar en el conjunto de test. No debemos usar el conjunto de testeo para elegir el valor de lambda, ya que esto introduciría sesgo en la evaluación del rendimiento del modelo. Utilizar el conjunto de testeo para ajustar hiperparámetros haría que el modelo parezca funcionar mejor en datos no vistos de lo que realmente sería en la práctica. En cambio, la validación cruzada nos permite evaluar diferentes valores de lambda en el conjunto de entrenamiento y validación si así lo decidimos, sin involucrar el conjunto de testeo. Esto garantiza una estimación más realista del rendimiento del modelo en datos no vistos, ya que el conjunto de testeo se mantiene aislado y no se utiliza en la selección de hiperparámetros."
   ]
  },
  {
   "cell_type": "markdown",
   "id": "fe00351a",
   "metadata": {},
   "source": [
    "## Ejercicio 4"
   ]
  },
  {
   "cell_type": "markdown",
   "id": "4ddcec98",
   "metadata": {},
   "source": [
    "##### El método de K-fold cross-validation se utiliza para evaluar el rendimiento de modelos en machine learning dividiendo el conjunto de datos en K partes y probando iterativamente con una de ellas como conjunto de test y las demás como conjunto de entrenamiento.\n",
    "\n",
    "##### Problema de usar un K muy pequeño: La evaluación puede ser sensible a la partición específica de los datos, lo que podría llevar a sobreajustar el modelo a ciertas peculiaridades y no generalizar bien a otros datos no vistos. \n",
    "\n",
    "##### Problema de usar un K muy grande (p. ej., K=n, LOOCV): En el extremo, esto implica una validación cruzada \"leave-one-out,\" donde se deja una sola muestra como conjunto de test en cada iteración. Aunque proporciona estimaciones de rendimiento más estables, puede ser costoso en términos computacionales, especialmente en conjuntos de datos grandes.\n",
    "\n",
    "##### Cuando K=n (LOOCV), se estima el modelo n veces, una vez por cada muestra en el conjunto de datos, entrenando en todas las muestras excepto una en cada iteración, y dejando la observación individual como testeo. Esto proporciona una estimación precisa del rendimiento, pero puede ser computacionalmente costoso y propenso a alta varianza en los resultados de los modelos. La alta variabilidad en las estimaciones de rendimiento significa que los resultados de cada iteración de LOOCV pueden diferir considerablemente entre sí. Esto puede hacer que sea más difícil confiar en las estimaciones de rendimiento y comparar diferentes configuraciones de modelos o hiperparámetros."
   ]
  },
  {
   "cell_type": "markdown",
   "id": "c50682c7",
   "metadata": {},
   "source": [
    "## Ejercicio 5"
   ]
  },
  {
   "cell_type": "markdown",
   "id": "4b719696",
   "metadata": {},
   "source": [
    "#### Realicen un barrido en λ = 10^n con n ∈ {−5, −4, −3 . . . , +4, +5} y utilicen 10 fold CV para elegir el λ optimo en regresion logistica con Ridge y con LASSO.\n",
    "#### ¿Qué λ seleccionó en cada caso? Generen box-plots mostrando la distribución del error de predicci´on para cada λ. Cada box debe corresponder a un valor de λ y contener como observaciones el error medio de validaci´on para cada partici´on.\n",
    "#### Ademas, para la regularizacion LASSO, genere un box-plot similar, pero ahora graficando la proporci´on de variables ignoradas por el modelo en funci´on de λ, es decir la proporcion de variables para las cuales el coeficiente asociado es cero.\n"
   ]
  },
  {
   "cell_type": "code",
   "execution_count": 57,
   "id": "2e3a96a3",
   "metadata": {},
   "outputs": [],
   "source": [
    "lambda_values = [10**i for i in range(-5, 6)]\n",
    "configuraciones_lasso = []\n",
    "configuraciones_ridge = []\n",
    "\n",
    "for l in lambda_values:\n",
    "    # Para Lasso\n",
    "    config_l = {'penalty': 'l1', 'C': 1/l, 'solver': 'saga'}\n",
    "    configuraciones_lasso.append(config_l)\n",
    "    \n",
    "    # Para Ridge\n",
    "    config_r = {'penalty': 'l2', 'C': 1/l}\n",
    "    configuraciones_ridge.append(config_r) "
   ]
  },
  {
   "cell_type": "code",
   "execution_count": 58,
   "id": "3574e088",
   "metadata": {},
   "outputs": [
    {
     "name": "stderr",
     "output_type": "stream",
     "text": [
      "C:\\Users\\mateo\\anaconda3\\Lib\\site-packages\\sklearn\\linear_model\\_sag.py:350: ConvergenceWarning: The max_iter was reached which means the coef_ did not converge\n",
      "  warnings.warn(\n",
      "C:\\Users\\mateo\\anaconda3\\Lib\\site-packages\\sklearn\\linear_model\\_sag.py:350: ConvergenceWarning: The max_iter was reached which means the coef_ did not converge\n",
      "  warnings.warn(\n",
      "C:\\Users\\mateo\\anaconda3\\Lib\\site-packages\\sklearn\\linear_model\\_sag.py:350: ConvergenceWarning: The max_iter was reached which means the coef_ did not converge\n",
      "  warnings.warn(\n",
      "C:\\Users\\mateo\\anaconda3\\Lib\\site-packages\\sklearn\\linear_model\\_sag.py:350: ConvergenceWarning: The max_iter was reached which means the coef_ did not converge\n",
      "  warnings.warn(\n",
      "C:\\Users\\mateo\\anaconda3\\Lib\\site-packages\\sklearn\\linear_model\\_sag.py:350: ConvergenceWarning: The max_iter was reached which means the coef_ did not converge\n",
      "  warnings.warn(\n",
      "C:\\Users\\mateo\\anaconda3\\Lib\\site-packages\\sklearn\\linear_model\\_sag.py:350: ConvergenceWarning: The max_iter was reached which means the coef_ did not converge\n",
      "  warnings.warn(\n",
      "C:\\Users\\mateo\\anaconda3\\Lib\\site-packages\\sklearn\\linear_model\\_sag.py:350: ConvergenceWarning: The max_iter was reached which means the coef_ did not converge\n",
      "  warnings.warn(\n",
      "C:\\Users\\mateo\\anaconda3\\Lib\\site-packages\\sklearn\\linear_model\\_sag.py:350: ConvergenceWarning: The max_iter was reached which means the coef_ did not converge\n",
      "  warnings.warn(\n",
      "C:\\Users\\mateo\\anaconda3\\Lib\\site-packages\\sklearn\\linear_model\\_sag.py:350: ConvergenceWarning: The max_iter was reached which means the coef_ did not converge\n",
      "  warnings.warn(\n",
      "C:\\Users\\mateo\\anaconda3\\Lib\\site-packages\\sklearn\\linear_model\\_sag.py:350: ConvergenceWarning: The max_iter was reached which means the coef_ did not converge\n",
      "  warnings.warn(\n",
      "C:\\Users\\mateo\\anaconda3\\Lib\\site-packages\\sklearn\\linear_model\\_sag.py:350: ConvergenceWarning: The max_iter was reached which means the coef_ did not converge\n",
      "  warnings.warn(\n",
      "C:\\Users\\mateo\\anaconda3\\Lib\\site-packages\\sklearn\\linear_model\\_sag.py:350: ConvergenceWarning: The max_iter was reached which means the coef_ did not converge\n",
      "  warnings.warn(\n",
      "C:\\Users\\mateo\\anaconda3\\Lib\\site-packages\\sklearn\\linear_model\\_sag.py:350: ConvergenceWarning: The max_iter was reached which means the coef_ did not converge\n",
      "  warnings.warn(\n",
      "C:\\Users\\mateo\\anaconda3\\Lib\\site-packages\\sklearn\\linear_model\\_sag.py:350: ConvergenceWarning: The max_iter was reached which means the coef_ did not converge\n",
      "  warnings.warn(\n",
      "C:\\Users\\mateo\\anaconda3\\Lib\\site-packages\\sklearn\\linear_model\\_sag.py:350: ConvergenceWarning: The max_iter was reached which means the coef_ did not converge\n",
      "  warnings.warn(\n",
      "C:\\Users\\mateo\\anaconda3\\Lib\\site-packages\\sklearn\\linear_model\\_sag.py:350: ConvergenceWarning: The max_iter was reached which means the coef_ did not converge\n",
      "  warnings.warn(\n",
      "C:\\Users\\mateo\\anaconda3\\Lib\\site-packages\\sklearn\\linear_model\\_sag.py:350: ConvergenceWarning: The max_iter was reached which means the coef_ did not converge\n",
      "  warnings.warn(\n",
      "C:\\Users\\mateo\\anaconda3\\Lib\\site-packages\\sklearn\\linear_model\\_sag.py:350: ConvergenceWarning: The max_iter was reached which means the coef_ did not converge\n",
      "  warnings.warn(\n",
      "C:\\Users\\mateo\\anaconda3\\Lib\\site-packages\\sklearn\\linear_model\\_sag.py:350: ConvergenceWarning: The max_iter was reached which means the coef_ did not converge\n",
      "  warnings.warn(\n",
      "C:\\Users\\mateo\\anaconda3\\Lib\\site-packages\\sklearn\\linear_model\\_sag.py:350: ConvergenceWarning: The max_iter was reached which means the coef_ did not converge\n",
      "  warnings.warn(\n",
      "C:\\Users\\mateo\\anaconda3\\Lib\\site-packages\\sklearn\\linear_model\\_sag.py:350: ConvergenceWarning: The max_iter was reached which means the coef_ did not converge\n",
      "  warnings.warn(\n",
      "C:\\Users\\mateo\\anaconda3\\Lib\\site-packages\\sklearn\\linear_model\\_sag.py:350: ConvergenceWarning: The max_iter was reached which means the coef_ did not converge\n",
      "  warnings.warn(\n",
      "C:\\Users\\mateo\\anaconda3\\Lib\\site-packages\\sklearn\\linear_model\\_sag.py:350: ConvergenceWarning: The max_iter was reached which means the coef_ did not converge\n",
      "  warnings.warn(\n",
      "C:\\Users\\mateo\\anaconda3\\Lib\\site-packages\\sklearn\\linear_model\\_sag.py:350: ConvergenceWarning: The max_iter was reached which means the coef_ did not converge\n",
      "  warnings.warn(\n",
      "C:\\Users\\mateo\\anaconda3\\Lib\\site-packages\\sklearn\\linear_model\\_sag.py:350: ConvergenceWarning: The max_iter was reached which means the coef_ did not converge\n",
      "  warnings.warn(\n",
      "C:\\Users\\mateo\\anaconda3\\Lib\\site-packages\\sklearn\\linear_model\\_sag.py:350: ConvergenceWarning: The max_iter was reached which means the coef_ did not converge\n",
      "  warnings.warn(\n",
      "C:\\Users\\mateo\\anaconda3\\Lib\\site-packages\\sklearn\\linear_model\\_sag.py:350: ConvergenceWarning: The max_iter was reached which means the coef_ did not converge\n",
      "  warnings.warn(\n",
      "C:\\Users\\mateo\\anaconda3\\Lib\\site-packages\\sklearn\\linear_model\\_sag.py:350: ConvergenceWarning: The max_iter was reached which means the coef_ did not converge\n",
      "  warnings.warn(\n",
      "C:\\Users\\mateo\\anaconda3\\Lib\\site-packages\\sklearn\\linear_model\\_sag.py:350: ConvergenceWarning: The max_iter was reached which means the coef_ did not converge\n",
      "  warnings.warn(\n",
      "C:\\Users\\mateo\\anaconda3\\Lib\\site-packages\\sklearn\\linear_model\\_sag.py:350: ConvergenceWarning: The max_iter was reached which means the coef_ did not converge\n",
      "  warnings.warn(\n",
      "C:\\Users\\mateo\\anaconda3\\Lib\\site-packages\\sklearn\\linear_model\\_sag.py:350: ConvergenceWarning: The max_iter was reached which means the coef_ did not converge\n",
      "  warnings.warn(\n",
      "C:\\Users\\mateo\\anaconda3\\Lib\\site-packages\\sklearn\\linear_model\\_sag.py:350: ConvergenceWarning: The max_iter was reached which means the coef_ did not converge\n",
      "  warnings.warn(\n",
      "C:\\Users\\mateo\\anaconda3\\Lib\\site-packages\\sklearn\\linear_model\\_sag.py:350: ConvergenceWarning: The max_iter was reached which means the coef_ did not converge\n",
      "  warnings.warn(\n",
      "C:\\Users\\mateo\\anaconda3\\Lib\\site-packages\\sklearn\\linear_model\\_sag.py:350: ConvergenceWarning: The max_iter was reached which means the coef_ did not converge\n",
      "  warnings.warn(\n",
      "C:\\Users\\mateo\\anaconda3\\Lib\\site-packages\\sklearn\\linear_model\\_sag.py:350: ConvergenceWarning: The max_iter was reached which means the coef_ did not converge\n",
      "  warnings.warn(\n"
     ]
    }
   ],
   "source": [
    "config_opt_lasso = evalua_config(configuraciones_lasso, X, y,5)\n",
    "config_opt_ridge = evalua_config(configuraciones_ridge, X, y,5)"
   ]
  },
  {
   "cell_type": "code",
   "execution_count": 62,
   "id": "880db614",
   "metadata": {},
   "outputs": [
    {
     "name": "stderr",
     "output_type": "stream",
     "text": [
      "C:\\Users\\mateo\\anaconda3\\Lib\\site-packages\\sklearn\\linear_model\\_sag.py:350: ConvergenceWarning: The max_iter was reached which means the coef_ did not converge\n",
      "  warnings.warn(\n",
      "C:\\Users\\mateo\\anaconda3\\Lib\\site-packages\\sklearn\\linear_model\\_sag.py:350: ConvergenceWarning: The max_iter was reached which means the coef_ did not converge\n",
      "  warnings.warn(\n",
      "C:\\Users\\mateo\\anaconda3\\Lib\\site-packages\\sklearn\\linear_model\\_sag.py:350: ConvergenceWarning: The max_iter was reached which means the coef_ did not converge\n",
      "  warnings.warn(\n",
      "C:\\Users\\mateo\\anaconda3\\Lib\\site-packages\\sklearn\\linear_model\\_sag.py:350: ConvergenceWarning: The max_iter was reached which means the coef_ did not converge\n",
      "  warnings.warn(\n",
      "C:\\Users\\mateo\\anaconda3\\Lib\\site-packages\\sklearn\\linear_model\\_sag.py:350: ConvergenceWarning: The max_iter was reached which means the coef_ did not converge\n",
      "  warnings.warn(\n",
      "C:\\Users\\mateo\\anaconda3\\Lib\\site-packages\\sklearn\\linear_model\\_sag.py:350: ConvergenceWarning: The max_iter was reached which means the coef_ did not converge\n",
      "  warnings.warn(\n",
      "C:\\Users\\mateo\\anaconda3\\Lib\\site-packages\\sklearn\\linear_model\\_sag.py:350: ConvergenceWarning: The max_iter was reached which means the coef_ did not converge\n",
      "  warnings.warn(\n",
      "C:\\Users\\mateo\\anaconda3\\Lib\\site-packages\\sklearn\\linear_model\\_sag.py:350: ConvergenceWarning: The max_iter was reached which means the coef_ did not converge\n",
      "  warnings.warn(\n",
      "C:\\Users\\mateo\\anaconda3\\Lib\\site-packages\\sklearn\\linear_model\\_sag.py:350: ConvergenceWarning: The max_iter was reached which means the coef_ did not converge\n",
      "  warnings.warn(\n",
      "C:\\Users\\mateo\\anaconda3\\Lib\\site-packages\\sklearn\\linear_model\\_sag.py:350: ConvergenceWarning: The max_iter was reached which means the coef_ did not converge\n",
      "  warnings.warn(\n",
      "C:\\Users\\mateo\\anaconda3\\Lib\\site-packages\\sklearn\\linear_model\\_sag.py:350: ConvergenceWarning: The max_iter was reached which means the coef_ did not converge\n",
      "  warnings.warn(\n",
      "C:\\Users\\mateo\\anaconda3\\Lib\\site-packages\\sklearn\\linear_model\\_sag.py:350: ConvergenceWarning: The max_iter was reached which means the coef_ did not converge\n",
      "  warnings.warn(\n",
      "C:\\Users\\mateo\\anaconda3\\Lib\\site-packages\\sklearn\\linear_model\\_sag.py:350: ConvergenceWarning: The max_iter was reached which means the coef_ did not converge\n",
      "  warnings.warn(\n",
      "C:\\Users\\mateo\\anaconda3\\Lib\\site-packages\\sklearn\\linear_model\\_sag.py:350: ConvergenceWarning: The max_iter was reached which means the coef_ did not converge\n",
      "  warnings.warn(\n",
      "C:\\Users\\mateo\\anaconda3\\Lib\\site-packages\\sklearn\\linear_model\\_sag.py:350: ConvergenceWarning: The max_iter was reached which means the coef_ did not converge\n",
      "  warnings.warn(\n",
      "C:\\Users\\mateo\\anaconda3\\Lib\\site-packages\\sklearn\\linear_model\\_sag.py:350: ConvergenceWarning: The max_iter was reached which means the coef_ did not converge\n",
      "  warnings.warn(\n",
      "C:\\Users\\mateo\\anaconda3\\Lib\\site-packages\\sklearn\\linear_model\\_sag.py:350: ConvergenceWarning: The max_iter was reached which means the coef_ did not converge\n",
      "  warnings.warn(\n",
      "C:\\Users\\mateo\\anaconda3\\Lib\\site-packages\\sklearn\\linear_model\\_sag.py:350: ConvergenceWarning: The max_iter was reached which means the coef_ did not converge\n",
      "  warnings.warn(\n",
      "C:\\Users\\mateo\\anaconda3\\Lib\\site-packages\\sklearn\\linear_model\\_sag.py:350: ConvergenceWarning: The max_iter was reached which means the coef_ did not converge\n",
      "  warnings.warn(\n",
      "C:\\Users\\mateo\\anaconda3\\Lib\\site-packages\\sklearn\\linear_model\\_sag.py:350: ConvergenceWarning: The max_iter was reached which means the coef_ did not converge\n",
      "  warnings.warn(\n",
      "C:\\Users\\mateo\\anaconda3\\Lib\\site-packages\\sklearn\\linear_model\\_sag.py:350: ConvergenceWarning: The max_iter was reached which means the coef_ did not converge\n",
      "  warnings.warn(\n",
      "C:\\Users\\mateo\\anaconda3\\Lib\\site-packages\\sklearn\\linear_model\\_sag.py:350: ConvergenceWarning: The max_iter was reached which means the coef_ did not converge\n",
      "  warnings.warn(\n",
      "C:\\Users\\mateo\\anaconda3\\Lib\\site-packages\\sklearn\\linear_model\\_sag.py:350: ConvergenceWarning: The max_iter was reached which means the coef_ did not converge\n",
      "  warnings.warn(\n",
      "C:\\Users\\mateo\\anaconda3\\Lib\\site-packages\\sklearn\\linear_model\\_sag.py:350: ConvergenceWarning: The max_iter was reached which means the coef_ did not converge\n",
      "  warnings.warn(\n",
      "C:\\Users\\mateo\\anaconda3\\Lib\\site-packages\\sklearn\\linear_model\\_sag.py:350: ConvergenceWarning: The max_iter was reached which means the coef_ did not converge\n",
      "  warnings.warn(\n",
      "C:\\Users\\mateo\\anaconda3\\Lib\\site-packages\\sklearn\\linear_model\\_sag.py:350: ConvergenceWarning: The max_iter was reached which means the coef_ did not converge\n",
      "  warnings.warn(\n",
      "C:\\Users\\mateo\\anaconda3\\Lib\\site-packages\\sklearn\\linear_model\\_sag.py:350: ConvergenceWarning: The max_iter was reached which means the coef_ did not converge\n",
      "  warnings.warn(\n",
      "C:\\Users\\mateo\\anaconda3\\Lib\\site-packages\\sklearn\\linear_model\\_sag.py:350: ConvergenceWarning: The max_iter was reached which means the coef_ did not converge\n",
      "  warnings.warn(\n",
      "C:\\Users\\mateo\\anaconda3\\Lib\\site-packages\\sklearn\\linear_model\\_sag.py:350: ConvergenceWarning: The max_iter was reached which means the coef_ did not converge\n",
      "  warnings.warn(\n",
      "C:\\Users\\mateo\\anaconda3\\Lib\\site-packages\\sklearn\\linear_model\\_sag.py:350: ConvergenceWarning: The max_iter was reached which means the coef_ did not converge\n",
      "  warnings.warn(\n",
      "C:\\Users\\mateo\\anaconda3\\Lib\\site-packages\\sklearn\\linear_model\\_sag.py:350: ConvergenceWarning: The max_iter was reached which means the coef_ did not converge\n",
      "  warnings.warn(\n",
      "C:\\Users\\mateo\\anaconda3\\Lib\\site-packages\\sklearn\\linear_model\\_sag.py:350: ConvergenceWarning: The max_iter was reached which means the coef_ did not converge\n",
      "  warnings.warn(\n",
      "C:\\Users\\mateo\\anaconda3\\Lib\\site-packages\\sklearn\\linear_model\\_sag.py:350: ConvergenceWarning: The max_iter was reached which means the coef_ did not converge\n",
      "  warnings.warn(\n",
      "C:\\Users\\mateo\\anaconda3\\Lib\\site-packages\\sklearn\\linear_model\\_sag.py:350: ConvergenceWarning: The max_iter was reached which means the coef_ did not converge\n",
      "  warnings.warn(\n",
      "C:\\Users\\mateo\\anaconda3\\Lib\\site-packages\\sklearn\\linear_model\\_sag.py:350: ConvergenceWarning: The max_iter was reached which means the coef_ did not converge\n",
      "  warnings.warn(\n",
      "C:\\Users\\mateo\\anaconda3\\Lib\\site-packages\\sklearn\\linear_model\\_sag.py:350: ConvergenceWarning: The max_iter was reached which means the coef_ did not converge\n",
      "  warnings.warn(\n",
      "C:\\Users\\mateo\\anaconda3\\Lib\\site-packages\\sklearn\\linear_model\\_sag.py:350: ConvergenceWarning: The max_iter was reached which means the coef_ did not converge\n",
      "  warnings.warn(\n",
      "C:\\Users\\mateo\\anaconda3\\Lib\\site-packages\\sklearn\\linear_model\\_sag.py:350: ConvergenceWarning: The max_iter was reached which means the coef_ did not converge\n",
      "  warnings.warn(\n",
      "C:\\Users\\mateo\\anaconda3\\Lib\\site-packages\\sklearn\\linear_model\\_sag.py:350: ConvergenceWarning: The max_iter was reached which means the coef_ did not converge\n",
      "  warnings.warn(\n",
      "C:\\Users\\mateo\\anaconda3\\Lib\\site-packages\\sklearn\\linear_model\\_sag.py:350: ConvergenceWarning: The max_iter was reached which means the coef_ did not converge\n",
      "  warnings.warn(\n",
      "C:\\Users\\mateo\\anaconda3\\Lib\\site-packages\\sklearn\\linear_model\\_sag.py:350: ConvergenceWarning: The max_iter was reached which means the coef_ did not converge\n",
      "  warnings.warn(\n",
      "C:\\Users\\mateo\\anaconda3\\Lib\\site-packages\\sklearn\\linear_model\\_sag.py:350: ConvergenceWarning: The max_iter was reached which means the coef_ did not converge\n",
      "  warnings.warn(\n",
      "C:\\Users\\mateo\\anaconda3\\Lib\\site-packages\\sklearn\\linear_model\\_sag.py:350: ConvergenceWarning: The max_iter was reached which means the coef_ did not converge\n",
      "  warnings.warn(\n",
      "C:\\Users\\mateo\\anaconda3\\Lib\\site-packages\\sklearn\\linear_model\\_sag.py:350: ConvergenceWarning: The max_iter was reached which means the coef_ did not converge\n",
      "  warnings.warn(\n",
      "C:\\Users\\mateo\\anaconda3\\Lib\\site-packages\\sklearn\\linear_model\\_sag.py:350: ConvergenceWarning: The max_iter was reached which means the coef_ did not converge\n",
      "  warnings.warn(\n",
      "C:\\Users\\mateo\\anaconda3\\Lib\\site-packages\\sklearn\\linear_model\\_sag.py:350: ConvergenceWarning: The max_iter was reached which means the coef_ did not converge\n",
      "  warnings.warn(\n",
      "C:\\Users\\mateo\\anaconda3\\Lib\\site-packages\\sklearn\\linear_model\\_sag.py:350: ConvergenceWarning: The max_iter was reached which means the coef_ did not converge\n",
      "  warnings.warn(\n"
     ]
    },
    {
     "name": "stderr",
     "output_type": "stream",
     "text": [
      "C:\\Users\\mateo\\anaconda3\\Lib\\site-packages\\sklearn\\linear_model\\_sag.py:350: ConvergenceWarning: The max_iter was reached which means the coef_ did not converge\n",
      "  warnings.warn(\n",
      "C:\\Users\\mateo\\anaconda3\\Lib\\site-packages\\sklearn\\linear_model\\_sag.py:350: ConvergenceWarning: The max_iter was reached which means the coef_ did not converge\n",
      "  warnings.warn(\n",
      "C:\\Users\\mateo\\anaconda3\\Lib\\site-packages\\sklearn\\linear_model\\_sag.py:350: ConvergenceWarning: The max_iter was reached which means the coef_ did not converge\n",
      "  warnings.warn(\n",
      "C:\\Users\\mateo\\anaconda3\\Lib\\site-packages\\sklearn\\linear_model\\_sag.py:350: ConvergenceWarning: The max_iter was reached which means the coef_ did not converge\n",
      "  warnings.warn(\n",
      "C:\\Users\\mateo\\anaconda3\\Lib\\site-packages\\sklearn\\linear_model\\_sag.py:350: ConvergenceWarning: The max_iter was reached which means the coef_ did not converge\n",
      "  warnings.warn(\n",
      "C:\\Users\\mateo\\anaconda3\\Lib\\site-packages\\sklearn\\linear_model\\_sag.py:350: ConvergenceWarning: The max_iter was reached which means the coef_ did not converge\n",
      "  warnings.warn(\n",
      "C:\\Users\\mateo\\anaconda3\\Lib\\site-packages\\sklearn\\linear_model\\_sag.py:350: ConvergenceWarning: The max_iter was reached which means the coef_ did not converge\n",
      "  warnings.warn(\n",
      "C:\\Users\\mateo\\anaconda3\\Lib\\site-packages\\sklearn\\linear_model\\_sag.py:350: ConvergenceWarning: The max_iter was reached which means the coef_ did not converge\n",
      "  warnings.warn(\n",
      "C:\\Users\\mateo\\anaconda3\\Lib\\site-packages\\sklearn\\linear_model\\_sag.py:350: ConvergenceWarning: The max_iter was reached which means the coef_ did not converge\n",
      "  warnings.warn(\n",
      "C:\\Users\\mateo\\anaconda3\\Lib\\site-packages\\sklearn\\linear_model\\_sag.py:350: ConvergenceWarning: The max_iter was reached which means the coef_ did not converge\n",
      "  warnings.warn(\n",
      "C:\\Users\\mateo\\anaconda3\\Lib\\site-packages\\sklearn\\linear_model\\_sag.py:350: ConvergenceWarning: The max_iter was reached which means the coef_ did not converge\n",
      "  warnings.warn(\n",
      "C:\\Users\\mateo\\anaconda3\\Lib\\site-packages\\sklearn\\linear_model\\_sag.py:350: ConvergenceWarning: The max_iter was reached which means the coef_ did not converge\n",
      "  warnings.warn(\n",
      "C:\\Users\\mateo\\anaconda3\\Lib\\site-packages\\sklearn\\linear_model\\_sag.py:350: ConvergenceWarning: The max_iter was reached which means the coef_ did not converge\n",
      "  warnings.warn(\n",
      "C:\\Users\\mateo\\anaconda3\\Lib\\site-packages\\sklearn\\linear_model\\_sag.py:350: ConvergenceWarning: The max_iter was reached which means the coef_ did not converge\n",
      "  warnings.warn(\n",
      "C:\\Users\\mateo\\anaconda3\\Lib\\site-packages\\sklearn\\linear_model\\_sag.py:350: ConvergenceWarning: The max_iter was reached which means the coef_ did not converge\n",
      "  warnings.warn(\n",
      "C:\\Users\\mateo\\anaconda3\\Lib\\site-packages\\sklearn\\linear_model\\_sag.py:350: ConvergenceWarning: The max_iter was reached which means the coef_ did not converge\n",
      "  warnings.warn(\n",
      "C:\\Users\\mateo\\anaconda3\\Lib\\site-packages\\sklearn\\linear_model\\_sag.py:350: ConvergenceWarning: The max_iter was reached which means the coef_ did not converge\n",
      "  warnings.warn(\n",
      "C:\\Users\\mateo\\anaconda3\\Lib\\site-packages\\sklearn\\linear_model\\_sag.py:350: ConvergenceWarning: The max_iter was reached which means the coef_ did not converge\n",
      "  warnings.warn(\n",
      "C:\\Users\\mateo\\anaconda3\\Lib\\site-packages\\sklearn\\linear_model\\_sag.py:350: ConvergenceWarning: The max_iter was reached which means the coef_ did not converge\n",
      "  warnings.warn(\n",
      "C:\\Users\\mateo\\anaconda3\\Lib\\site-packages\\sklearn\\linear_model\\_sag.py:350: ConvergenceWarning: The max_iter was reached which means the coef_ did not converge\n",
      "  warnings.warn(\n",
      "C:\\Users\\mateo\\anaconda3\\Lib\\site-packages\\sklearn\\linear_model\\_sag.py:350: ConvergenceWarning: The max_iter was reached which means the coef_ did not converge\n",
      "  warnings.warn(\n",
      "C:\\Users\\mateo\\anaconda3\\Lib\\site-packages\\sklearn\\linear_model\\_sag.py:350: ConvergenceWarning: The max_iter was reached which means the coef_ did not converge\n",
      "  warnings.warn(\n",
      "C:\\Users\\mateo\\anaconda3\\Lib\\site-packages\\sklearn\\linear_model\\_sag.py:350: ConvergenceWarning: The max_iter was reached which means the coef_ did not converge\n",
      "  warnings.warn(\n"
     ]
    },
    {
     "ename": "ValueError",
     "evalue": "Invalid RGBA argument: 'lightmagenta'",
     "output_type": "error",
     "traceback": [
      "\u001b[1;31m---------------------------------------------------------------------------\u001b[0m",
      "\u001b[1;31mValueError\u001b[0m                                Traceback (most recent call last)",
      "Cell \u001b[1;32mIn[62], line 26\u001b[0m\n\u001b[0;32m     24\u001b[0m colors \u001b[38;5;241m=\u001b[39m [\u001b[38;5;124m'\u001b[39m\u001b[38;5;124mlightblue\u001b[39m\u001b[38;5;124m'\u001b[39m, \u001b[38;5;124m'\u001b[39m\u001b[38;5;124mlightgreen\u001b[39m\u001b[38;5;124m'\u001b[39m, \u001b[38;5;124m'\u001b[39m\u001b[38;5;124mlightcoral\u001b[39m\u001b[38;5;124m'\u001b[39m, \u001b[38;5;124m'\u001b[39m\u001b[38;5;124mlightpink\u001b[39m\u001b[38;5;124m'\u001b[39m, \u001b[38;5;124m'\u001b[39m\u001b[38;5;124mlightyellow\u001b[39m\u001b[38;5;124m'\u001b[39m, \u001b[38;5;124m'\u001b[39m\u001b[38;5;124mlightgray\u001b[39m\u001b[38;5;124m'\u001b[39m, \u001b[38;5;124m'\u001b[39m\u001b[38;5;124mlightcyan\u001b[39m\u001b[38;5;124m'\u001b[39m, \u001b[38;5;124m'\u001b[39m\u001b[38;5;124mlightmagenta\u001b[39m\u001b[38;5;124m'\u001b[39m, \u001b[38;5;124m'\u001b[39m\u001b[38;5;124mlightsalmon\u001b[39m\u001b[38;5;124m'\u001b[39m, \u001b[38;5;124m'\u001b[39m\u001b[38;5;124mlightseagreen\u001b[39m\u001b[38;5;124m'\u001b[39m]\n\u001b[0;32m     25\u001b[0m \u001b[38;5;28;01mfor\u001b[39;00m patch, color \u001b[38;5;129;01min\u001b[39;00m \u001b[38;5;28mzip\u001b[39m(boxplots[\u001b[38;5;124m'\u001b[39m\u001b[38;5;124mboxes\u001b[39m\u001b[38;5;124m'\u001b[39m], colors):\n\u001b[1;32m---> 26\u001b[0m     patch\u001b[38;5;241m.\u001b[39mset_facecolor(color)\n\u001b[0;32m     28\u001b[0m \u001b[38;5;66;03m# Configurar el gráfico\u001b[39;00m\n\u001b[0;32m     29\u001b[0m ax\u001b[38;5;241m.\u001b[39mset(title\u001b[38;5;241m=\u001b[39m\u001b[38;5;124m'\u001b[39m\u001b[38;5;124mDistribuciones de MSE, según el parámetro lambda\u001b[39m\u001b[38;5;124m'\u001b[39m, xlabel\u001b[38;5;241m=\u001b[39m\u001b[38;5;124m'\u001b[39m\u001b[38;5;124mLambdas\u001b[39m\u001b[38;5;124m'\u001b[39m, ylabel\u001b[38;5;241m=\u001b[39m\u001b[38;5;124m'\u001b[39m\u001b[38;5;124mMSE\u001b[39m\u001b[38;5;124m'\u001b[39m)\n",
      "File \u001b[1;32m~\\anaconda3\\Lib\\site-packages\\matplotlib\\patches.py:359\u001b[0m, in \u001b[0;36mPatch.set_facecolor\u001b[1;34m(self, color)\u001b[0m\n\u001b[0;32m    351\u001b[0m \u001b[38;5;250m\u001b[39m\u001b[38;5;124;03m\"\"\"\u001b[39;00m\n\u001b[0;32m    352\u001b[0m \u001b[38;5;124;03mSet the patch face color.\u001b[39;00m\n\u001b[0;32m    353\u001b[0m \n\u001b[1;32m   (...)\u001b[0m\n\u001b[0;32m    356\u001b[0m \u001b[38;5;124;03mcolor : color or None\u001b[39;00m\n\u001b[0;32m    357\u001b[0m \u001b[38;5;124;03m\"\"\"\u001b[39;00m\n\u001b[0;32m    358\u001b[0m \u001b[38;5;28mself\u001b[39m\u001b[38;5;241m.\u001b[39m_original_facecolor \u001b[38;5;241m=\u001b[39m color\n\u001b[1;32m--> 359\u001b[0m \u001b[38;5;28mself\u001b[39m\u001b[38;5;241m.\u001b[39m_set_facecolor(color)\n",
      "File \u001b[1;32m~\\anaconda3\\Lib\\site-packages\\matplotlib\\patches.py:347\u001b[0m, in \u001b[0;36mPatch._set_facecolor\u001b[1;34m(self, color)\u001b[0m\n\u001b[0;32m    345\u001b[0m     color \u001b[38;5;241m=\u001b[39m mpl\u001b[38;5;241m.\u001b[39mrcParams[\u001b[38;5;124m'\u001b[39m\u001b[38;5;124mpatch.facecolor\u001b[39m\u001b[38;5;124m'\u001b[39m]\n\u001b[0;32m    346\u001b[0m alpha \u001b[38;5;241m=\u001b[39m \u001b[38;5;28mself\u001b[39m\u001b[38;5;241m.\u001b[39m_alpha \u001b[38;5;28;01mif\u001b[39;00m \u001b[38;5;28mself\u001b[39m\u001b[38;5;241m.\u001b[39m_fill \u001b[38;5;28;01melse\u001b[39;00m \u001b[38;5;241m0\u001b[39m\n\u001b[1;32m--> 347\u001b[0m \u001b[38;5;28mself\u001b[39m\u001b[38;5;241m.\u001b[39m_facecolor \u001b[38;5;241m=\u001b[39m colors\u001b[38;5;241m.\u001b[39mto_rgba(color, alpha)\n\u001b[0;32m    348\u001b[0m \u001b[38;5;28mself\u001b[39m\u001b[38;5;241m.\u001b[39mstale \u001b[38;5;241m=\u001b[39m \u001b[38;5;28;01mTrue\u001b[39;00m\n",
      "File \u001b[1;32m~\\anaconda3\\Lib\\site-packages\\matplotlib\\colors.py:299\u001b[0m, in \u001b[0;36mto_rgba\u001b[1;34m(c, alpha)\u001b[0m\n\u001b[0;32m    297\u001b[0m     rgba \u001b[38;5;241m=\u001b[39m \u001b[38;5;28;01mNone\u001b[39;00m\n\u001b[0;32m    298\u001b[0m \u001b[38;5;28;01mif\u001b[39;00m rgba \u001b[38;5;129;01mis\u001b[39;00m \u001b[38;5;28;01mNone\u001b[39;00m:  \u001b[38;5;66;03m# Suppress exception chaining of cache lookup failure.\u001b[39;00m\n\u001b[1;32m--> 299\u001b[0m     rgba \u001b[38;5;241m=\u001b[39m _to_rgba_no_colorcycle(c, alpha)\n\u001b[0;32m    300\u001b[0m     \u001b[38;5;28;01mtry\u001b[39;00m:\n\u001b[0;32m    301\u001b[0m         _colors_full_map\u001b[38;5;241m.\u001b[39mcache[c, alpha] \u001b[38;5;241m=\u001b[39m rgba\n",
      "File \u001b[1;32m~\\anaconda3\\Lib\\site-packages\\matplotlib\\colors.py:374\u001b[0m, in \u001b[0;36m_to_rgba_no_colorcycle\u001b[1;34m(c, alpha)\u001b[0m\n\u001b[0;32m    370\u001b[0m             \u001b[38;5;28;01mraise\u001b[39;00m \u001b[38;5;167;01mValueError\u001b[39;00m(\n\u001b[0;32m    371\u001b[0m                 \u001b[38;5;124mf\u001b[39m\u001b[38;5;124m\"\u001b[39m\u001b[38;5;124mInvalid string grayscale value \u001b[39m\u001b[38;5;132;01m{\u001b[39;00morig_c\u001b[38;5;132;01m!r}\u001b[39;00m\u001b[38;5;124m. \u001b[39m\u001b[38;5;124m\"\u001b[39m\n\u001b[0;32m    372\u001b[0m                 \u001b[38;5;124mf\u001b[39m\u001b[38;5;124m\"\u001b[39m\u001b[38;5;124mValue must be within 0-1 range\u001b[39m\u001b[38;5;124m\"\u001b[39m)\n\u001b[0;32m    373\u001b[0m         \u001b[38;5;28;01mreturn\u001b[39;00m c, c, c, alpha \u001b[38;5;28;01mif\u001b[39;00m alpha \u001b[38;5;129;01mis\u001b[39;00m \u001b[38;5;129;01mnot\u001b[39;00m \u001b[38;5;28;01mNone\u001b[39;00m \u001b[38;5;28;01melse\u001b[39;00m \u001b[38;5;241m1.\u001b[39m\n\u001b[1;32m--> 374\u001b[0m     \u001b[38;5;28;01mraise\u001b[39;00m \u001b[38;5;167;01mValueError\u001b[39;00m(\u001b[38;5;124mf\u001b[39m\u001b[38;5;124m\"\u001b[39m\u001b[38;5;124mInvalid RGBA argument: \u001b[39m\u001b[38;5;132;01m{\u001b[39;00morig_c\u001b[38;5;132;01m!r}\u001b[39;00m\u001b[38;5;124m\"\u001b[39m)\n\u001b[0;32m    375\u001b[0m \u001b[38;5;66;03m# turn 2-D array into 1-D array\u001b[39;00m\n\u001b[0;32m    376\u001b[0m \u001b[38;5;28;01mif\u001b[39;00m \u001b[38;5;28misinstance\u001b[39m(c, np\u001b[38;5;241m.\u001b[39mndarray):\n",
      "\u001b[1;31mValueError\u001b[0m: Invalid RGBA argument: 'lightmagenta'"
     ]
    },
    {
     "data": {
      "image/png": "[encoded data removed]",
      "text/plain": [
       "<Figure size 1000x600 with 1 Axes>"
      ]
     },
     "metadata": {},
     "output_type": "display_data"
    }
   ],
   "source": [
    "k = 10\n",
    "dist_lasso = []\n",
    "\n",
    "# Generaremos dos gráficos, uno por método. En cada gráfico, se muestra la distribución del error de predicción (definido como MSE) según el hiperparámetro lambda.\n",
    "for config in configuraciones_lasso:\n",
    "    modelo = LogisticRegression(max_iter=500, **config)\n",
    "    resultados = cross_validation(modelo, k, X, y)\n",
    "    ecm_part = resultados[['Particion', 'MSE']]\n",
    "    dist_lasso.append(ecm_part)\n",
    "\n",
    "# Crear un gráfico con 10 boxplots\n",
    "fig, ax = plt.subplots(figsize=(10, 6))\n",
    "\n",
    "# Lista de etiquetas para los boxplots\n",
    "#labels = [f'DataFrame {i + 1}' for i in range(10)]\n",
    "\n",
    "# Recopilar todas las distribuciones de MSE\n",
    "mse_data = [ecm_part['MSE'].values for ecm_part in dist_lasso]\n",
    "\n",
    "# Crear los boxplots y agregarlos al gráfico\n",
    "boxplots = ax.boxplot(mse_data, patch_artist=True)\n",
    "\n",
    "# Personalizar los colores de los boxplots\n",
    "colors = ['lightblue', 'lightgreen', 'lightcoral', 'lightpink', 'lightyellow', 'lightgray', 'lightcyan', 'lightmagenta', 'lightsalmon', 'lightseagreen']\n",
    "for patch, color in zip(boxplots['boxes'], colors):\n",
    "    patch.set_facecolor(color)\n",
    "\n",
    "# Configurar el gráfico\n",
    "ax.set(title='Distribuciones de MSE, según el parámetro lambda', xlabel='Lambdas', ylabel='MSE')\n",
    "\n"
   ]
  },
  {
   "cell_type": "code",
   "execution_count": 63,
   "id": "74b8cc7a",
   "metadata": {},
   "outputs": [
    {
     "name": "stderr",
     "output_type": "stream",
     "text": [
      "C:\\Users\\mateo\\anaconda3\\Lib\\site-packages\\sklearn\\linear_model\\_logistic.py:460: ConvergenceWarning: lbfgs failed to converge (status=1):\n",
      "STOP: TOTAL NO. of ITERATIONS REACHED LIMIT.\n",
      "\n",
      "Increase the number of iterations (max_iter) or scale the data as shown in:\n",
      "    https://scikit-learn.org/stable/modules/preprocessing.html\n",
      "Please also refer to the documentation for alternative solver options:\n",
      "    https://scikit-learn.org/stable/modules/linear_model.html#logistic-regression\n",
      "  n_iter_i = _check_optimize_result(\n",
      "C:\\Users\\mateo\\anaconda3\\Lib\\site-packages\\sklearn\\linear_model\\_logistic.py:460: ConvergenceWarning: lbfgs failed to converge (status=1):\n",
      "STOP: TOTAL NO. of ITERATIONS REACHED LIMIT.\n",
      "\n",
      "Increase the number of iterations (max_iter) or scale the data as shown in:\n",
      "    https://scikit-learn.org/stable/modules/preprocessing.html\n",
      "Please also refer to the documentation for alternative solver options:\n",
      "    https://scikit-learn.org/stable/modules/linear_model.html#logistic-regression\n",
      "  n_iter_i = _check_optimize_result(\n"
     ]
    },
    {
     "ename": "ValueError",
     "evalue": "Invalid RGBA argument: 'lightmagenta'",
     "output_type": "error",
     "traceback": [
      "\u001b[1;31m---------------------------------------------------------------------------\u001b[0m",
      "\u001b[1;31mValueError\u001b[0m                                Traceback (most recent call last)",
      "Cell \u001b[1;32mIn[63], line 26\u001b[0m\n\u001b[0;32m     24\u001b[0m colors \u001b[38;5;241m=\u001b[39m [\u001b[38;5;124m'\u001b[39m\u001b[38;5;124mlightblue\u001b[39m\u001b[38;5;124m'\u001b[39m, \u001b[38;5;124m'\u001b[39m\u001b[38;5;124mlightgreen\u001b[39m\u001b[38;5;124m'\u001b[39m, \u001b[38;5;124m'\u001b[39m\u001b[38;5;124mlightcoral\u001b[39m\u001b[38;5;124m'\u001b[39m, \u001b[38;5;124m'\u001b[39m\u001b[38;5;124mlightpink\u001b[39m\u001b[38;5;124m'\u001b[39m, \u001b[38;5;124m'\u001b[39m\u001b[38;5;124mlightyellow\u001b[39m\u001b[38;5;124m'\u001b[39m, \u001b[38;5;124m'\u001b[39m\u001b[38;5;124mlightgray\u001b[39m\u001b[38;5;124m'\u001b[39m, \u001b[38;5;124m'\u001b[39m\u001b[38;5;124mlightcyan\u001b[39m\u001b[38;5;124m'\u001b[39m, \u001b[38;5;124m'\u001b[39m\u001b[38;5;124mlightmagenta\u001b[39m\u001b[38;5;124m'\u001b[39m, \u001b[38;5;124m'\u001b[39m\u001b[38;5;124mlightsalmon\u001b[39m\u001b[38;5;124m'\u001b[39m, \u001b[38;5;124m'\u001b[39m\u001b[38;5;124mlightseagreen\u001b[39m\u001b[38;5;124m'\u001b[39m]\n\u001b[0;32m     25\u001b[0m \u001b[38;5;28;01mfor\u001b[39;00m patch, color \u001b[38;5;129;01min\u001b[39;00m \u001b[38;5;28mzip\u001b[39m(boxplots[\u001b[38;5;124m'\u001b[39m\u001b[38;5;124mboxes\u001b[39m\u001b[38;5;124m'\u001b[39m], colors):\n\u001b[1;32m---> 26\u001b[0m     patch\u001b[38;5;241m.\u001b[39mset_facecolor(color)\n\u001b[0;32m     28\u001b[0m \u001b[38;5;66;03m# Configurar el gráfico\u001b[39;00m\n\u001b[0;32m     29\u001b[0m ax\u001b[38;5;241m.\u001b[39mset(title\u001b[38;5;241m=\u001b[39m\u001b[38;5;124m'\u001b[39m\u001b[38;5;124mDistribuciones de MSE, según el parámetro lambda\u001b[39m\u001b[38;5;124m'\u001b[39m, xlabel\u001b[38;5;241m=\u001b[39m\u001b[38;5;124m'\u001b[39m\u001b[38;5;124mLambdas\u001b[39m\u001b[38;5;124m'\u001b[39m, ylabel\u001b[38;5;241m=\u001b[39m\u001b[38;5;124m'\u001b[39m\u001b[38;5;124mMSE\u001b[39m\u001b[38;5;124m'\u001b[39m)\n",
      "File \u001b[1;32m~\\anaconda3\\Lib\\site-packages\\matplotlib\\patches.py:359\u001b[0m, in \u001b[0;36mPatch.set_facecolor\u001b[1;34m(self, color)\u001b[0m\n\u001b[0;32m    351\u001b[0m \u001b[38;5;250m\u001b[39m\u001b[38;5;124;03m\"\"\"\u001b[39;00m\n\u001b[0;32m    352\u001b[0m \u001b[38;5;124;03mSet the patch face color.\u001b[39;00m\n\u001b[0;32m    353\u001b[0m \n\u001b[1;32m   (...)\u001b[0m\n\u001b[0;32m    356\u001b[0m \u001b[38;5;124;03mcolor : color or None\u001b[39;00m\n\u001b[0;32m    357\u001b[0m \u001b[38;5;124;03m\"\"\"\u001b[39;00m\n\u001b[0;32m    358\u001b[0m \u001b[38;5;28mself\u001b[39m\u001b[38;5;241m.\u001b[39m_original_facecolor \u001b[38;5;241m=\u001b[39m color\n\u001b[1;32m--> 359\u001b[0m \u001b[38;5;28mself\u001b[39m\u001b[38;5;241m.\u001b[39m_set_facecolor(color)\n",
      "File \u001b[1;32m~\\anaconda3\\Lib\\site-packages\\matplotlib\\patches.py:347\u001b[0m, in \u001b[0;36mPatch._set_facecolor\u001b[1;34m(self, color)\u001b[0m\n\u001b[0;32m    345\u001b[0m     color \u001b[38;5;241m=\u001b[39m mpl\u001b[38;5;241m.\u001b[39mrcParams[\u001b[38;5;124m'\u001b[39m\u001b[38;5;124mpatch.facecolor\u001b[39m\u001b[38;5;124m'\u001b[39m]\n\u001b[0;32m    346\u001b[0m alpha \u001b[38;5;241m=\u001b[39m \u001b[38;5;28mself\u001b[39m\u001b[38;5;241m.\u001b[39m_alpha \u001b[38;5;28;01mif\u001b[39;00m \u001b[38;5;28mself\u001b[39m\u001b[38;5;241m.\u001b[39m_fill \u001b[38;5;28;01melse\u001b[39;00m \u001b[38;5;241m0\u001b[39m\n\u001b[1;32m--> 347\u001b[0m \u001b[38;5;28mself\u001b[39m\u001b[38;5;241m.\u001b[39m_facecolor \u001b[38;5;241m=\u001b[39m colors\u001b[38;5;241m.\u001b[39mto_rgba(color, alpha)\n\u001b[0;32m    348\u001b[0m \u001b[38;5;28mself\u001b[39m\u001b[38;5;241m.\u001b[39mstale \u001b[38;5;241m=\u001b[39m \u001b[38;5;28;01mTrue\u001b[39;00m\n",
      "File \u001b[1;32m~\\anaconda3\\Lib\\site-packages\\matplotlib\\colors.py:299\u001b[0m, in \u001b[0;36mto_rgba\u001b[1;34m(c, alpha)\u001b[0m\n\u001b[0;32m    297\u001b[0m     rgba \u001b[38;5;241m=\u001b[39m \u001b[38;5;28;01mNone\u001b[39;00m\n\u001b[0;32m    298\u001b[0m \u001b[38;5;28;01mif\u001b[39;00m rgba \u001b[38;5;129;01mis\u001b[39;00m \u001b[38;5;28;01mNone\u001b[39;00m:  \u001b[38;5;66;03m# Suppress exception chaining of cache lookup failure.\u001b[39;00m\n\u001b[1;32m--> 299\u001b[0m     rgba \u001b[38;5;241m=\u001b[39m _to_rgba_no_colorcycle(c, alpha)\n\u001b[0;32m    300\u001b[0m     \u001b[38;5;28;01mtry\u001b[39;00m:\n\u001b[0;32m    301\u001b[0m         _colors_full_map\u001b[38;5;241m.\u001b[39mcache[c, alpha] \u001b[38;5;241m=\u001b[39m rgba\n",
      "File \u001b[1;32m~\\anaconda3\\Lib\\site-packages\\matplotlib\\colors.py:374\u001b[0m, in \u001b[0;36m_to_rgba_no_colorcycle\u001b[1;34m(c, alpha)\u001b[0m\n\u001b[0;32m    370\u001b[0m             \u001b[38;5;28;01mraise\u001b[39;00m \u001b[38;5;167;01mValueError\u001b[39;00m(\n\u001b[0;32m    371\u001b[0m                 \u001b[38;5;124mf\u001b[39m\u001b[38;5;124m\"\u001b[39m\u001b[38;5;124mInvalid string grayscale value \u001b[39m\u001b[38;5;132;01m{\u001b[39;00morig_c\u001b[38;5;132;01m!r}\u001b[39;00m\u001b[38;5;124m. \u001b[39m\u001b[38;5;124m\"\u001b[39m\n\u001b[0;32m    372\u001b[0m                 \u001b[38;5;124mf\u001b[39m\u001b[38;5;124m\"\u001b[39m\u001b[38;5;124mValue must be within 0-1 range\u001b[39m\u001b[38;5;124m\"\u001b[39m)\n\u001b[0;32m    373\u001b[0m         \u001b[38;5;28;01mreturn\u001b[39;00m c, c, c, alpha \u001b[38;5;28;01mif\u001b[39;00m alpha \u001b[38;5;129;01mis\u001b[39;00m \u001b[38;5;129;01mnot\u001b[39;00m \u001b[38;5;28;01mNone\u001b[39;00m \u001b[38;5;28;01melse\u001b[39;00m \u001b[38;5;241m1.\u001b[39m\n\u001b[1;32m--> 374\u001b[0m     \u001b[38;5;28;01mraise\u001b[39;00m \u001b[38;5;167;01mValueError\u001b[39;00m(\u001b[38;5;124mf\u001b[39m\u001b[38;5;124m\"\u001b[39m\u001b[38;5;124mInvalid RGBA argument: \u001b[39m\u001b[38;5;132;01m{\u001b[39;00morig_c\u001b[38;5;132;01m!r}\u001b[39;00m\u001b[38;5;124m\"\u001b[39m)\n\u001b[0;32m    375\u001b[0m \u001b[38;5;66;03m# turn 2-D array into 1-D array\u001b[39;00m\n\u001b[0;32m    376\u001b[0m \u001b[38;5;28;01mif\u001b[39;00m \u001b[38;5;28misinstance\u001b[39m(c, np\u001b[38;5;241m.\u001b[39mndarray):\n",
      "\u001b[1;31mValueError\u001b[0m: Invalid RGBA argument: 'lightmagenta'"
     ]
    },
    {
     "data": {
      "image/png": "[encoded data removed]",
      "text/plain": [
       "<Figure size 1000x600 with 1 Axes>"
      ]
     },
     "metadata": {},
     "output_type": "display_data"
    }
   ],
   "source": [
    "k = 10\n",
    "dist_ridge = []\n",
    "\n",
    "# Generaremos dos gráficos, uno por método. En cada gráfico, se muestra la distribución del error de predicción (definido como MSE) según el hiperparámetro lambda.\n",
    "for config in configuraciones_ridge:\n",
    "    modelo = LogisticRegression(max_iter=500, **config)\n",
    "    resultados = cross_validation(modelo, k, X, y)\n",
    "    ecm_part = resultados[['Particion', 'MSE']]\n",
    "    dist_ridge.append(ecm_part)\n",
    "\n",
    "# Crear un gráfico con 10 boxplots\n",
    "fig, ax = plt.subplots(figsize=(10, 6))\n",
    "\n",
    "# Lista de etiquetas para los boxplots\n",
    "#labels = [f'DataFrame {i + 1}' for i in range(10)]\n",
    "\n",
    "# Recopilar todas las distribuciones de MSE\n",
    "mse_data = [ecm_part['MSE'].values for ecm_part in dist_ridge]\n",
    "\n",
    "# Crear los boxplots y agregarlos al gráfico\n",
    "boxplots = ax.boxplot(mse_data, patch_artist=True)\n",
    "\n",
    "# Personalizar los colores de los boxplots\n",
    "colors = ['lightblue', 'lightgreen', 'lightcoral', 'lightpink', 'lightyellow', 'lightgray', 'lightcyan', 'lightmagenta', 'lightsalmon', 'lightseagreen']\n",
    "for patch, color in zip(boxplots['boxes'], colors):\n",
    "    patch.set_facecolor(color)\n",
    "\n",
    "# Configurar el gráfico\n",
    "ax.set(title='Distribuciones de MSE, según el parámetro lambda', xlabel='Lambdas', ylabel='MSE')"
   ]
  },
  {
   "cell_type": "code",
   "execution_count": 64,
   "id": "7839a7ee",
   "metadata": {},
   "outputs": [
    {
     "name": "stderr",
     "output_type": "stream",
     "text": [
      "C:\\Users\\mateo\\anaconda3\\Lib\\site-packages\\sklearn\\linear_model\\_sag.py:350: ConvergenceWarning: The max_iter was reached which means the coef_ did not converge\n",
      "  warnings.warn(\n",
      "C:\\Users\\mateo\\anaconda3\\Lib\\site-packages\\sklearn\\linear_model\\_sag.py:350: ConvergenceWarning: The max_iter was reached which means the coef_ did not converge\n",
      "  warnings.warn(\n",
      "C:\\Users\\mateo\\anaconda3\\Lib\\site-packages\\sklearn\\linear_model\\_sag.py:350: ConvergenceWarning: The max_iter was reached which means the coef_ did not converge\n",
      "  warnings.warn(\n",
      "C:\\Users\\mateo\\anaconda3\\Lib\\site-packages\\sklearn\\linear_model\\_sag.py:350: ConvergenceWarning: The max_iter was reached which means the coef_ did not converge\n",
      "  warnings.warn(\n",
      "C:\\Users\\mateo\\anaconda3\\Lib\\site-packages\\sklearn\\linear_model\\_sag.py:350: ConvergenceWarning: The max_iter was reached which means the coef_ did not converge\n",
      "  warnings.warn(\n",
      "C:\\Users\\mateo\\anaconda3\\Lib\\site-packages\\sklearn\\linear_model\\_sag.py:350: ConvergenceWarning: The max_iter was reached which means the coef_ did not converge\n",
      "  warnings.warn(\n",
      "C:\\Users\\mateo\\anaconda3\\Lib\\site-packages\\sklearn\\linear_model\\_sag.py:350: ConvergenceWarning: The max_iter was reached which means the coef_ did not converge\n",
      "  warnings.warn(\n",
      "C:\\Users\\mateo\\anaconda3\\Lib\\site-packages\\sklearn\\linear_model\\_sag.py:350: ConvergenceWarning: The max_iter was reached which means the coef_ did not converge\n",
      "  warnings.warn(\n",
      "C:\\Users\\mateo\\anaconda3\\Lib\\site-packages\\sklearn\\linear_model\\_sag.py:350: ConvergenceWarning: The max_iter was reached which means the coef_ did not converge\n",
      "  warnings.warn(\n"
     ]
    },
    {
     "data": {
      "image/png": "[encoded data removed]",
      "text/plain": [
       "<Figure size 1000x600 with 1 Axes>"
      ]
     },
     "metadata": {},
     "output_type": "display_data"
    }
   ],
   "source": [
    "proporciones_lasso = []\n",
    "\n",
    "# Calcular la proporción de coeficientes a cero para cada valor de lambda en LASSO\n",
    "for config in configuraciones_lasso:\n",
    "    modelo = LogisticRegression(max_iter=500, **config)\n",
    "    modelo.fit(X, y)  # Ajustar el modelo con todo el conjunto de datos para obtener los coeficientes\n",
    "    coef_cero = sum(modelo.coef_ == 0)  # Contar coeficientes iguales a cero\n",
    "    total_coef = modelo.coef_.size  # Contar total de coeficientes\n",
    "    prop_coef_cero = coef_cero / total_coef  # Calcular proporción\n",
    "    proporciones_lasso.append(prop_coef_cero)\n",
    "\n",
    "# Crear un nuevo gráfico para mostrar la proporción de coeficientes a cero por valor de lambda en LASSO\n",
    "fig, ax = plt.subplots(figsize=(10, 6))\n",
    "ax.plot(lambda_values, proporciones_lasso, marker='o', linestyle='-')\n",
    "\n",
    "# Configurar el gráfico\n",
    "ax.set(title='Proporción de coeficientes a cero en LASSO por valor de lambda', xlabel='Valor de lambda (log scale)', ylabel='Proporción de coeficientes a cero')\n",
    "ax.set_xscale('log')  # Utilizar escala logarítmica en el eje x\n",
    "\n",
    "# Mostrar el gráfico\n",
    "plt.show()\n"
   ]
  },
  {
   "cell_type": "markdown",
   "id": "93e47838",
   "metadata": {},
   "source": [
    "## Ejercicio 6"
   ]
  },
  {
   "cell_type": "code",
   "execution_count": null,
   "id": "7289a672",
   "metadata": {},
   "outputs": [],
   "source": [
    "## Respondemos esto en el reporte"
   ]
  },
  {
   "cell_type": "markdown",
   "id": "8051b208",
   "metadata": {},
   "source": [
    "## Ejercicio 7"
   ]
  },
  {
   "cell_type": "code",
   "execution_count": null,
   "id": "29c1a567",
   "metadata": {},
   "outputs": [],
   "source": [
    "## No se si hacer full texto o si correr algo aqui"
   ]
  },
  {
   "cell_type": "markdown",
   "id": "72857e90",
   "metadata": {},
   "source": [
    "## Ejercicio 8"
   ]
  },
  {
   "cell_type": "code",
   "execution_count": null,
   "id": "3bf79410",
   "metadata": {},
   "outputs": [],
   "source": [
    "## No se si hacer full texto o si correr algo aqui"
   ]
  },
  {
   "cell_type": "markdown",
   "id": "54d82894",
   "metadata": {},
   "source": [
    "## Ejercicio 9"
   ]
  },
  {
   "cell_type": "code",
   "execution_count": null,
   "id": "26f8aaf4",
   "metadata": {},
   "outputs": [],
   "source": [
    "#Con el metodo que seleccionaron, predigan qu´e personas son pobres dentro de la base norespondieron. ¿Qu´e proporci´on de los hogares son pobres en esa\n",
    "#submuestra?"
   ]
  }
 ],
 "metadata": {
  "kernelspec": {
   "display_name": "Python 3 (ipykernel)",
   "language": "python",
   "name": "python3"
  },
  "language_info": {
   "codemirror_mode": {
    "name": "ipython",
    "version": 3
   },
   "file_extension": ".py",
   "mimetype": "text/x-python",
   "name": "python",
   "nbconvert_exporter": "python",
   "pygments_lexer": "ipython3",
   "version": "3.11.5"
  }
 },
 "nbformat": 4,
 "nbformat_minor": 5
}
