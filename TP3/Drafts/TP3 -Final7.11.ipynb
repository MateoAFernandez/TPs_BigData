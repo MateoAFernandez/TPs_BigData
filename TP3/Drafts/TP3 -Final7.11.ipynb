{
 "cells": [
  {
   "cell_type": "markdown",
   "id": "6b9cd2d3",
   "metadata": {},
   "source": [
    "Curso de Big Data\n",
    "==============================\n",
    "\n",
    "Trabajo práctico 3\n",
    "------------------------------\n",
    "\n",
    "### Grupo: Armas Braithwaite, Fernández, Menta, Vargas Ochuza"
   ]
  },
  {
   "cell_type": "markdown",
   "id": "63417974",
   "metadata": {},
   "source": [
    "#### Parte 1: Análisis de la base de hogares y cálculo de pobreza\n",
    "##### Ahora que ya se han familiarizado con la Encuesta Permanente de Hogares (EPH) y con la tabla de adulto equivalente, vamos a complejizar un poco la construcción del índice de pobreza. Lo calcularemos a nivel de hogares, con sus respectivos factores de expansioón y realizaremos una limpieza de la base con mayor dedicación. A continuación, complementamos el trabajo hecho en el TP2 usando la encuesta a nivel hogares de la EPH."
   ]
  },
  {
   "cell_type": "markdown",
   "id": "773ef485",
   "metadata": {},
   "source": [
    "##### Inciso 1\n",
    "##### Exploren el diseño de registro de la base de hogar: a priori, ¿qué variables creen que pueden ser muy predictivas de pobreza y que sería muy útil incluir para perfeccionar el ejercicio del TP2?"
   ]
  },
  {
   "cell_type": "markdown",
   "id": "ea670de8",
   "metadata": {},
   "source": [
    "###### Las variables relevantes para explicar la pobreza creemos que son las siguientes:\n",
    "###### - ITF_hogar (Monto de ingreso total familiar)}: Evalúa la disponibilidad de recursos económicos en el hogar, lo que está estrechamente relacionado con la pobreza.\n",
    "###### - Región (REGION): La ubicación geográfica de un hogar puede tener un impacto significativo en su nivel de vida y acceso a recursos. Por lo tanto, la región en la que se encuentra el hogar es una variable importante.\n",
    "###### - Características de la vivienda (IV2, IV3, IV6, IV8, IV10, IV12_1, IV_12_2, IV12_3): Estas variables describen aspectos de la vivienda, como el número de habitaciones, el estado del piso, el acceso a agua, la presencia de baño, la proximidad a basurales, zonas inundables y villas de emergencia. Estas características pueden estar relacionadas con la calidad de vida y el nivel de pobreza.\n",
    "###### Características habitacionales del hogar (II1, II7, II8, II9): Estas variables describen el número de habitaciones en el hogar, el régimen de tenencia de la vivienda y el tipo de combustible utilizado para cocinar.\n",
    "###### Estrategias del hogar (V1, V2, V4, V5, V6, V12, V14, V17): Estas variables exploran cómo las personas del hogar obtienen ingresos y si han tenido que recurrir a estrategias como pedir préstamos, vender pertenencias o recibir ayuda social. Estas estrategias pueden indicar la vulnerabilidad económica del hogar.\n",
    "###### Resumen del hogar (IX_TOT): La cantidad de miembros en el hogar es un factor importante para evaluar la pobreza, ya que un hogar con más miembros puede requerir más recursos para satisfacer sus necesidades básicas.\n",
    "###### IPCF_hogar (Monto de ingreso per cápita familiar): Proporciona información sobre los recursos disponibles por persona en el hogar, lo que está relacionado con la pobreza."
   ]
  },
  {
   "cell_type": "markdown",
   "id": "1788b994",
   "metadata": {},
   "source": [
    "##### Inciso 2\n",
    "##### Descarguen la base de microdatos de la EPH correspondiente al primer trimestre de 2023 (la base de hogares se llama usu hogar T123.xls). Importen los datos de la encuesta de hogar y, al igual que en el TP2, conserven sólo las observaciones que corresponden a los aglomerados de Ciudad Autónoma de Buenos Aires o del Gran Buenos Aires"
   ]
  },
  {
   "cell_type": "code",
   "execution_count": 1,
   "id": "22a591f3",
   "metadata": {},
   "outputs": [],
   "source": [
    "# Importamos el módulo necesario para trabajar con la base de datos y otros propositos\n",
    "import pandas as pd\n",
    "import numpy as np\n",
    "import matplotlib.pyplot as plt\n",
    "import seaborn as sns"
   ]
  },
  {
   "cell_type": "code",
   "execution_count": 2,
   "id": "f7001c17",
   "metadata": {},
   "outputs": [],
   "source": [
    "# Seteamos el directorio donde vamos a trabajar\n",
    "import os\n",
    "\n",
    "#os.chdir(\"C:/Users/bauti/OneDrive/Documentos/Escritorio/Big Data/TP2/EPH_usu_1er_Trim_2023_xlsx\")\n",
    "os.chdir(\"C:/Users/Paula/Documents/BIGDATA/TPs_BigData/TP3\")"
   ]
  },
  {
   "cell_type": "code",
   "execution_count": 3,
   "id": "66689972",
   "metadata": {},
   "outputs": [],
   "source": [
    "# Cargamos las bases\n",
    "microdata_hogar = pd.read_excel(\"usu_hogar_T123.xlsx\")"
   ]
  },
  {
   "cell_type": "code",
   "execution_count": 4,
   "id": "8ce9eeda",
   "metadata": {},
   "outputs": [],
   "source": [
    "microdata_indv = pd.read_excel(\"usu_individual_T123.xlsx\")"
   ]
  },
  {
   "cell_type": "code",
   "execution_count": 5,
   "id": "e6e16d60",
   "metadata": {},
   "outputs": [
    {
     "data": {
      "text/plain": [
       "7619"
      ]
     },
     "execution_count": 5,
     "metadata": {},
     "output_type": "execute_result"
    }
   ],
   "source": [
    "# Del diccionario de variables sabemos que tenemos que quedarnos solamente con los valores 32 y 33\n",
    "# que son los correspondientes a Ciudad Autónoma de Buenos Aires o Gran Buenos Aires.\n",
    "\n",
    "# Filtramos el dataframe y lo renombramos\n",
    "microdata_indv_filtered = microdata_indv[(microdata_indv['AGLOMERADO'] == 32) | (microdata_indv['AGLOMERADO'] == 33)]\n",
    "len(microdata_indv_filtered)"
   ]
  },
  {
   "cell_type": "code",
   "execution_count": 6,
   "id": "d5885022",
   "metadata": {},
   "outputs": [
    {
     "data": {
      "text/plain": [
       "2736"
      ]
     },
     "execution_count": 6,
     "metadata": {},
     "output_type": "execute_result"
    }
   ],
   "source": [
    "# Filtramos el dataframe y lo renombramos\n",
    "microdata_hogar_filtered = microdata_hogar[(microdata_hogar['AGLOMERADO'] == 32) | (microdata_hogar['AGLOMERADO'] == 33)]\n",
    "len(microdata_hogar_filtered)\n"
   ]
  },
  {
   "cell_type": "markdown",
   "id": "bef1b850",
   "metadata": {},
   "source": [
    "##### Inciso 3: Unan la tabla de la encuesta individual con la de la encuesta de hogar."
   ]
  },
  {
   "cell_type": "code",
   "execution_count": 7,
   "id": "1e3869d7",
   "metadata": {
    "scrolled": true
   },
   "outputs": [],
   "source": [
    "# Realizamos un inner join de las bases para quedarnos solo con las filas cuyo identificador de hogar se encuentre en ambas bases\n",
    "# Importante remarcar que hacemos el merge por vivienda y hogar! ya que pueden haber 2 viviendas en un mismo hogar.\n",
    "\n",
    "merged_microdata = microdata_indv_filtered.merge(microdata_hogar_filtered, on=['CODUSU', \"NRO_HOGAR\"], how='inner')\n",
    "\n",
    "# Renombrar las columnas con sufijo \"_x\" a \"_indv\"\n",
    "merged_microdata.rename(columns=lambda x: x.replace(\"_x\", \"_indv\"), inplace=True)\n",
    "\n",
    "# Renombrar las columnas con sufijo \"_y\" a \"_hogar\"\n",
    "merged_microdata.rename(columns=lambda x: x.replace(\"_y\", \"_hogar\"), inplace=True)\n",
    "\n",
    "# Esto ultimo no es particularmente necesario pues muchos de los valores son duplicados."
   ]
  },
  {
   "cell_type": "code",
   "execution_count": 8,
   "id": "1cca3511",
   "metadata": {},
   "outputs": [
    {
     "data": {
      "text/plain": [
       "7619"
      ]
     },
     "execution_count": 8,
     "metadata": {},
     "output_type": "execute_result"
    }
   ],
   "source": [
    "# Chequeamos la dimension\n",
    "len(merged_microdata)"
   ]
  },
  {
   "cell_type": "markdown",
   "id": "222aa9bd",
   "metadata": {},
   "source": [
    "##### Inciso 4: Generen sus propias funciones para limpiar la base de datos o, si deciden utilizar funciones existentes en paquetes como numpy y pandas, mencionen cuáles usarán y de qué paquetes son.\n",
    "##### &\n",
    "##### Inciso 5: Limpien la base de datos tomando criterios que hagan sentido, tanto para el tratamiento de valores faltantes, de outliers, como así también decidan qué variables categóricas y strings usarían y transfórmenlas de forma que haga sentido para los ejercicios siguientes. Justifiquen sus decisiones."
   ]
  },
  {
   "cell_type": "code",
   "execution_count": 9,
   "id": "78c4497d",
   "metadata": {},
   "outputs": [
    {
     "name": "stdout",
     "output_type": "stream",
     "text": [
      "Variable: CH08, Cantidad de NaN: 1\n",
      "Variable: CH14, Cantidad de NaN: 3959\n",
      "Variable: CH15_COD, Cantidad de NaN: 6248\n",
      "Variable: CH16_COD, Cantidad de NaN: 7515\n",
      "Variable: IMPUTA, Cantidad de NaN: 7548\n",
      "Variable: PP03C, Cantidad de NaN: 4096\n",
      "Variable: PP03D, Cantidad de NaN: 4096\n",
      "Variable: PP3E_TOT, Cantidad de NaN: 4096\n",
      "Variable: PP3F_TOT, Cantidad de NaN: 4096\n",
      "Variable: PP03G, Cantidad de NaN: 4096\n",
      "Variable: PP03H, Cantidad de NaN: 4096\n",
      "Variable: PP03I, Cantidad de NaN: 4096\n",
      "Variable: PP03J, Cantidad de NaN: 4096\n",
      "Variable: INTENSI, Cantidad de NaN: 4096\n",
      "Variable: PP04A, Cantidad de NaN: 4096\n",
      "Variable: PP04B_COD, Cantidad de NaN: 4096\n",
      "Variable: PP04B1, Cantidad de NaN: 4096\n",
      "Variable: PP04B2, Cantidad de NaN: 4096\n",
      "Variable: PP04B3_MES, Cantidad de NaN: 4096\n",
      "Variable: PP04B3_ANO, Cantidad de NaN: 4096\n",
      "Variable: PP04B3_DIA, Cantidad de NaN: 4096\n",
      "Variable: PP04C, Cantidad de NaN: 4096\n",
      "Variable: PP04C99, Cantidad de NaN: 4096\n",
      "Variable: PP04D_COD, Cantidad de NaN: 4096\n",
      "Variable: PP04G, Cantidad de NaN: 4096\n",
      "Variable: PP05B2_MES, Cantidad de NaN: 4096\n",
      "Variable: PP05B2_ANO, Cantidad de NaN: 4096\n",
      "Variable: PP05B2_DIA, Cantidad de NaN: 4096\n",
      "Variable: PP05C_1, Cantidad de NaN: 4096\n",
      "Variable: PP05C_2, Cantidad de NaN: 4096\n",
      "Variable: PP05C_3, Cantidad de NaN: 4096\n",
      "Variable: PP05E, Cantidad de NaN: 4096\n",
      "Variable: PP05F, Cantidad de NaN: 4096\n",
      "Variable: PP05H, Cantidad de NaN: 4096\n",
      "Variable: PP06A, Cantidad de NaN: 4096\n",
      "Variable: PP06C, Cantidad de NaN: 4096\n",
      "Variable: PP06D, Cantidad de NaN: 4096\n",
      "Variable: PP06E, Cantidad de NaN: 4096\n",
      "Variable: PP06H, Cantidad de NaN: 4096\n",
      "Variable: PP07A, Cantidad de NaN: 4096\n",
      "Variable: PP07C, Cantidad de NaN: 4096\n",
      "Variable: PP07D, Cantidad de NaN: 4096\n",
      "Variable: PP07E, Cantidad de NaN: 4096\n",
      "Variable: PP07F1, Cantidad de NaN: 4096\n",
      "Variable: PP07F2, Cantidad de NaN: 4096\n",
      "Variable: PP07F3, Cantidad de NaN: 4096\n",
      "Variable: PP07F4, Cantidad de NaN: 4096\n",
      "Variable: PP07F5, Cantidad de NaN: 4096\n",
      "Variable: PP07G1, Cantidad de NaN: 4096\n",
      "Variable: PP07G2, Cantidad de NaN: 4096\n",
      "Variable: PP07G3, Cantidad de NaN: 4096\n",
      "Variable: PP07G4, Cantidad de NaN: 4096\n",
      "Variable: PP07G_59, Cantidad de NaN: 4096\n",
      "Variable: PP07H, Cantidad de NaN: 4096\n",
      "Variable: PP07I, Cantidad de NaN: 4096\n",
      "Variable: PP07J, Cantidad de NaN: 4096\n",
      "Variable: PP07K, Cantidad de NaN: 4096\n",
      "Variable: PP08D1, Cantidad de NaN: 4096\n",
      "Variable: PP08D4, Cantidad de NaN: 4096\n",
      "Variable: PP08F1, Cantidad de NaN: 4096\n",
      "Variable: PP08F2, Cantidad de NaN: 4096\n",
      "Variable: PP08J1, Cantidad de NaN: 4096\n",
      "Variable: PP08J2, Cantidad de NaN: 4096\n",
      "Variable: PP08J3, Cantidad de NaN: 4096\n",
      "Variable: PP09A, Cantidad de NaN: 4096\n",
      "Variable: PP09A_ESP, Cantidad de NaN: 7602\n",
      "Variable: PP09B, Cantidad de NaN: 4096\n",
      "Variable: PP09C, Cantidad de NaN: 4096\n",
      "Variable: PP09C_ESP, Cantidad de NaN: 7619\n",
      "Variable: PP10A, Cantidad de NaN: 7333\n",
      "Variable: PP10C, Cantidad de NaN: 7333\n",
      "Variable: PP10D, Cantidad de NaN: 7333\n",
      "Variable: PP10E, Cantidad de NaN: 7333\n",
      "Variable: PP11A, Cantidad de NaN: 7333\n",
      "Variable: PP11B_COD, Cantidad de NaN: 7333\n",
      "Variable: PP11B1, Cantidad de NaN: 7333\n",
      "Variable: PP11B2_MES, Cantidad de NaN: 7333\n",
      "Variable: PP11B2_ANO, Cantidad de NaN: 7333\n",
      "Variable: PP11B2_DIA, Cantidad de NaN: 7333\n",
      "Variable: PP11C, Cantidad de NaN: 7333\n",
      "Variable: PP11C99, Cantidad de NaN: 7333\n",
      "Variable: PP11D_COD, Cantidad de NaN: 7410\n",
      "Variable: PP11G_ANO, Cantidad de NaN: 7333\n",
      "Variable: PP11G_MES, Cantidad de NaN: 7333\n",
      "Variable: PP11G_DIA, Cantidad de NaN: 7333\n",
      "Variable: PP11L, Cantidad de NaN: 7333\n",
      "Variable: PP11L1, Cantidad de NaN: 7333\n",
      "Variable: PP11M, Cantidad de NaN: 7333\n",
      "Variable: PP11N, Cantidad de NaN: 7333\n",
      "Variable: PP11O, Cantidad de NaN: 7333\n",
      "Variable: PP11P, Cantidad de NaN: 7333\n",
      "Variable: PP11Q, Cantidad de NaN: 7333\n",
      "Variable: PP11R, Cantidad de NaN: 7333\n",
      "Variable: PP11S, Cantidad de NaN: 7333\n",
      "Variable: PP11T, Cantidad de NaN: 7333\n",
      "Variable: IDECOCUR, Cantidad de NaN: 7619\n",
      "Variable: PDECOCUR, Cantidad de NaN: 7619\n",
      "Variable: P47T, Cantidad de NaN: 24\n",
      "Variable: IDECINDR, Cantidad de NaN: 7619\n",
      "Variable: PDECINDR, Cantidad de NaN: 7619\n",
      "Variable: IDECIFR_indv, Cantidad de NaN: 7619\n",
      "Variable: PDECIFR_indv, Cantidad de NaN: 7619\n",
      "Variable: IDECCFR_indv, Cantidad de NaN: 7619\n",
      "Variable: PDECCFR_indv, Cantidad de NaN: 7619\n",
      "Variable: IV1_ESP, Cantidad de NaN: 7602\n",
      "Variable: IV3_ESP, Cantidad de NaN: 7608\n",
      "Variable: IV7_ESP, Cantidad de NaN: 7605\n",
      "Variable: II7_ESP, Cantidad de NaN: 7590\n",
      "Variable: II8_ESP, Cantidad de NaN: 7392\n",
      "Variable: IDECIFR_hogar, Cantidad de NaN: 7619\n",
      "Variable: PDECIFR_hogar, Cantidad de NaN: 7619\n",
      "Variable: IDECCFR_hogar, Cantidad de NaN: 7619\n",
      "Variable: PDECCFR_hogar, Cantidad de NaN: 7619\n"
     ]
    }
   ],
   "source": [
    "# Identificar variables con NaN y contar cuántos NaN\n",
    "# Utilizamos funciones de Pandas para identificar y limpiar NaN.\n",
    "\n",
    "variables_con_nan = merged_microdata.columns[merged_microdata.isna().any()].tolist()\n",
    "conteo_de_nans = merged_microdata[variables_con_nan].isna().sum()\n",
    "\n",
    "# Imprimir las variables con NaN y la cantidad de NaN en cada una\n",
    "for variable in variables_con_nan:\n",
    "    print(f'Variable: {variable}, Cantidad de NaN: {conteo_de_nans[variable]}')"
   ]
  },
  {
   "cell_type": "code",
   "execution_count": 10,
   "id": "95b8ff95",
   "metadata": {},
   "outputs": [
    {
     "data": {
      "text/html": [
       "<div>\n",
       "<style scoped>\n",
       "    .dataframe tbody tr th:only-of-type {\n",
       "        vertical-align: middle;\n",
       "    }\n",
       "\n",
       "    .dataframe tbody tr th {\n",
       "        vertical-align: top;\n",
       "    }\n",
       "\n",
       "    .dataframe thead th {\n",
       "        text-align: right;\n",
       "    }\n",
       "</style>\n",
       "<table border=\"1\" class=\"dataframe\">\n",
       "  <thead>\n",
       "    <tr style=\"text-align: right;\">\n",
       "      <th></th>\n",
       "      <th>CODUSU</th>\n",
       "      <th>ANO4_indv</th>\n",
       "      <th>TRIMESTRE_indv</th>\n",
       "      <th>NRO_HOGAR</th>\n",
       "      <th>COMPONENTE</th>\n",
       "      <th>H15</th>\n",
       "      <th>REGION_indv</th>\n",
       "      <th>MAS_500_indv</th>\n",
       "      <th>AGLOMERADO_indv</th>\n",
       "      <th>PONDERA_indv</th>\n",
       "      <th>...</th>\n",
       "      <th>RDECCFR_hogar</th>\n",
       "      <th>GDECCFR_hogar</th>\n",
       "      <th>ADECCFR_hogar</th>\n",
       "      <th>PONDIH_hogar</th>\n",
       "      <th>VII1_1</th>\n",
       "      <th>VII1_2</th>\n",
       "      <th>VII2_1</th>\n",
       "      <th>VII2_2</th>\n",
       "      <th>VII2_3</th>\n",
       "      <th>VII2_4</th>\n",
       "    </tr>\n",
       "  </thead>\n",
       "  <tbody>\n",
       "    <tr>\n",
       "      <th>0</th>\n",
       "      <td>TQRMNORUYHLMSMCDEIJAH00719364</td>\n",
       "      <td>2023</td>\n",
       "      <td>1</td>\n",
       "      <td>1</td>\n",
       "      <td>1</td>\n",
       "      <td>1</td>\n",
       "      <td>1</td>\n",
       "      <td>S</td>\n",
       "      <td>33</td>\n",
       "      <td>1545</td>\n",
       "      <td>...</td>\n",
       "      <td>5</td>\n",
       "      <td>5.0</td>\n",
       "      <td>6</td>\n",
       "      <td>2540</td>\n",
       "      <td>1</td>\n",
       "      <td>0</td>\n",
       "      <td>2</td>\n",
       "      <td>0</td>\n",
       "      <td>0</td>\n",
       "      <td>0</td>\n",
       "    </tr>\n",
       "    <tr>\n",
       "      <th>1</th>\n",
       "      <td>TQRMNORUYHLMSMCDEIJAH00719364</td>\n",
       "      <td>2023</td>\n",
       "      <td>1</td>\n",
       "      <td>1</td>\n",
       "      <td>2</td>\n",
       "      <td>1</td>\n",
       "      <td>1</td>\n",
       "      <td>S</td>\n",
       "      <td>33</td>\n",
       "      <td>1545</td>\n",
       "      <td>...</td>\n",
       "      <td>5</td>\n",
       "      <td>5.0</td>\n",
       "      <td>6</td>\n",
       "      <td>2540</td>\n",
       "      <td>1</td>\n",
       "      <td>0</td>\n",
       "      <td>2</td>\n",
       "      <td>0</td>\n",
       "      <td>0</td>\n",
       "      <td>0</td>\n",
       "    </tr>\n",
       "  </tbody>\n",
       "</table>\n",
       "<p>2 rows × 215 columns</p>\n",
       "</div>"
      ],
      "text/plain": [
       "                          CODUSU  ANO4_indv  TRIMESTRE_indv  NRO_HOGAR  \\\n",
       "0  TQRMNORUYHLMSMCDEIJAH00719364       2023               1          1   \n",
       "1  TQRMNORUYHLMSMCDEIJAH00719364       2023               1          1   \n",
       "\n",
       "   COMPONENTE  H15  REGION_indv MAS_500_indv  AGLOMERADO_indv  PONDERA_indv  \\\n",
       "0           1    1            1            S               33          1545   \n",
       "1           2    1            1            S               33          1545   \n",
       "\n",
       "   ...  RDECCFR_hogar  GDECCFR_hogar ADECCFR_hogar  PONDIH_hogar  VII1_1  \\\n",
       "0  ...              5            5.0             6          2540       1   \n",
       "1  ...              5            5.0             6          2540       1   \n",
       "\n",
       "   VII1_2  VII2_1  VII2_2  VII2_3  VII2_4  \n",
       "0       0       2       0       0       0  \n",
       "1       0       2       0       0       0  \n",
       "\n",
       "[2 rows x 215 columns]"
      ]
     },
     "execution_count": 10,
     "metadata": {},
     "output_type": "execute_result"
    }
   ],
   "source": [
    "# Establecer el umbral de 3500 para determinar qué columnas eliminar\n",
    "umbral = 3500\n",
    "\n",
    "# Eliminar columnas con más de 3500 valores NaN\n",
    "# Utilizamos la funcion de Pandas dropna\n",
    "\n",
    "merged_microdata = merged_microdata.dropna(thresh=umbral, axis=1)\n",
    "merged_microdata.head(2)"
   ]
  },
  {
   "cell_type": "code",
   "execution_count": 11,
   "id": "5847e44e",
   "metadata": {},
   "outputs": [
    {
     "data": {
      "text/plain": [
       "6363"
      ]
     },
     "execution_count": 11,
     "metadata": {},
     "output_type": "execute_result"
    }
   ],
   "source": [
    "# Definimos las variables que deseamos filtrar\n",
    "variables = ['ITF_hogar', 'ITF_indv', 'IPCF_hogar', 'IPCF_indv', 'P21', 'P47T']\n",
    "\n",
    "# Definir el umbral del percentil (en este caso, 97%)\n",
    "percentile_threshold = 0.97\n",
    "\n",
    "# Iterar sobre las variables y aplicar el filtrado utlizando Pandas.\n",
    "for variable in variables:\n",
    "    # Calcular el percentil umbral\n",
    "    percentile_value = merged_microdata[variable].quantile(percentile_threshold)\n",
    "    \n",
    "    # Filtrar el DataFrame para mantener solo los valores por debajo del percentil\n",
    "    merged_microdata = merged_microdata[merged_microdata[variable] <= percentile_value]\n",
    "\n",
    "len(merged_microdata)"
   ]
  },
  {
   "cell_type": "code",
   "execution_count": 12,
   "id": "b6cc4454",
   "metadata": {},
   "outputs": [
    {
     "data": {
      "text/plain": [
       "6335"
      ]
     },
     "execution_count": 12,
     "metadata": {},
     "output_type": "execute_result"
    }
   ],
   "source": [
    "# Limpiamos algunas variables con valores especificos utlizando Pandas\n",
    "\n",
    "merged_microdata = merged_microdata[merged_microdata['CH08'] != 9]\n",
    "merged_microdata = merged_microdata[merged_microdata['IV2'] != 99]\n",
    "merged_microdata = merged_microdata[merged_microdata['II1'] != 99]\n",
    "merged_microdata = merged_microdata[merged_microdata['II9'] > 0]\n",
    "merged_microdata = merged_microdata[merged_microdata['ITF_hogar'] >= 0]\n",
    "merged_microdata = merged_microdata[merged_microdata['ITF_indv'] >= 0]\n",
    "merged_microdata = merged_microdata[merged_microdata['IPCF_hogar'] >= 0]\n",
    "merged_microdata = merged_microdata[merged_microdata['IPCF_indv'] >= 0]\n",
    "\n",
    "\n",
    "len(merged_microdata)"
   ]
  },
  {
   "cell_type": "markdown",
   "id": "fc14dc0e",
   "metadata": {},
   "source": [
    "##### Inciso 6: Presenten estadísticas descriptivas de cinco variables de la encuesta de hogar que ustedes creen que pueden ser relevantes para predecir pobreza.\n",
    "\n",
    "**IV8** Tiene baño\n",
    "\n",
    "**IV3** Piso interior de la casa\n",
    "\n",
    "**V4** La cubierta exterior del techo es de...\n",
    "\n",
    "**IV11** El desague del baño es...\n",
    "\n",
    "**IPCF_hogar** Monto de ingreso per cápita familiar del hogar\n",
    "\n",
    "##### Separamos el analisis entre categoricas y no categoricas."
   ]
  },
  {
   "cell_type": "code",
   "execution_count": 13,
   "id": "f51967d5",
   "metadata": {},
   "outputs": [
    {
     "data": {
      "text/plain": [
       "count      6335.000000\n",
       "mean      25048.015656\n",
       "std       32095.284287\n",
       "min           0.000000\n",
       "25%           0.000000\n",
       "50%           0.000000\n",
       "75%       45480.000000\n",
       "max      125000.000000\n",
       "Name: IPCF_hogar, dtype: float64"
      ]
     },
     "execution_count": 13,
     "metadata": {},
     "output_type": "execute_result"
    }
   ],
   "source": [
    "merged_microdata['IPCF_hogar'].describe().T"
   ]
  },
  {
   "cell_type": "code",
   "execution_count": 14,
   "id": "8bf4f65a",
   "metadata": {},
   "outputs": [
    {
     "data": {
      "image/png": "[encoded data removed]",
      "text/plain": [
       "<Figure size 720x432 with 1 Axes>"
      ]
     },
     "metadata": {
      "needs_background": "light"
     },
     "output_type": "display_data"
    },
    {
     "name": "stdout",
     "output_type": "stream",
     "text": [
      "Porcentaje de cada categoría en IV8:\n",
      "1    99.73165\n",
      "2     0.26835\n",
      "Name: IV8, dtype: float64\n",
      "\n"
     ]
    },
    {
     "data": {
      "image/png": "[encoded data removed]",
      "text/plain": [
       "<Figure size 720x432 with 1 Axes>"
      ]
     },
     "metadata": {
      "needs_background": "light"
     },
     "output_type": "display_data"
    },
    {
     "name": "stdout",
     "output_type": "stream",
     "text": [
      "Porcentaje de cada categoría en V4:\n",
      "2    99.526440\n",
      "1     0.347277\n",
      "9     0.126283\n",
      "Name: V4, dtype: float64\n",
      "\n"
     ]
    },
    {
     "data": {
      "image/png": "[encoded data removed]",
      "text/plain": [
       "<Figure size 720x432 with 1 Axes>"
      ]
     },
     "metadata": {
      "needs_background": "light"
     },
     "output_type": "display_data"
    },
    {
     "name": "stdout",
     "output_type": "stream",
     "text": [
      "Porcentaje de cada categoría en IV3:\n",
      "1    86.566693\n",
      "2    13.149171\n",
      "3     0.205209\n",
      "4     0.078927\n",
      "Name: IV3, dtype: float64\n",
      "\n"
     ]
    },
    {
     "data": {
      "image/png": "[encoded data removed]",
      "text/plain": [
       "<Figure size 720x432 with 1 Axes>"
      ]
     },
     "metadata": {
      "needs_background": "light"
     },
     "output_type": "display_data"
    },
    {
     "name": "stdout",
     "output_type": "stream",
     "text": [
      "Porcentaje de cada categoría en IV11:\n",
      "1    68.034728\n",
      "2    22.304657\n",
      "3     9.171271\n",
      "0     0.268350\n",
      "4     0.220994\n",
      "Name: IV11, dtype: float64\n",
      "\n"
     ]
    }
   ],
   "source": [
    "variables = ['IV8', 'V4', 'IV3', 'IV11']\n",
    "\n",
    "for var in variables:\n",
    "    # Conteo de frecuencias\n",
    "    conteo_frecuencias = merged_microdata[var].value_counts()\n",
    "\n",
    "    # Gráfico de barras\n",
    "    plt.figure(figsize=(10, 6))\n",
    "    sns.countplot(data=merged_microdata, x=var)\n",
    "    plt.title(f'Gráfico de Barras - Frecuencia de Categorías en {var}')\n",
    "    plt.xticks(rotation=45)\n",
    "    plt.show()\n",
    "\n",
    "    # Porcentaje de cada categoría\n",
    "    porcentaje = merged_microdata[var].value_counts(normalize=True) * 100\n",
    "    print(f\"Porcentaje de cada categoría en {var}:\")\n",
    "    print(porcentaje)\n",
    "    print()"
   ]
  },
  {
   "cell_type": "code",
   "execution_count": 15,
   "id": "47adc7fa",
   "metadata": {},
   "outputs": [],
   "source": [
    "# Armamos una función para no tener que lidiar con el tedioso uso del archivo de Excel.\n",
    "\n",
    "# Esta función, asignar_valor, toma dos argumentos, edad y genero, y asigna un valor numérico basado en reglas condicionales\n",
    "# que dependen de estos dos argumentos. Las condiciones se prueban en orden y, cuando se encuentra una coincidencia, se\n",
    "# devuelve un valor específico. Si no se cumple ninguna condición, la función devuelve None.\n",
    "#Las condiciones están diseñadas para categorizar a las personas en grupos según su edad y género y asignarles un valor numérico basado en esas categorías.\n",
    "\n",
    "def asignar_valor(edad, genero):\n",
    "    if edad < 1:\n",
    "        if genero == 2:\n",
    "            return 0.35\n",
    "        elif genero == 1:\n",
    "            return 0.35\n",
    "    elif edad == 1:\n",
    "        if genero == 2:\n",
    "            return 0.37\n",
    "        elif genero == 1:\n",
    "            return 0.37\n",
    "    elif edad == 2:\n",
    "        if genero == 2:\n",
    "            return 0.46\n",
    "        elif genero == 1:\n",
    "            return 0.46\n",
    "    elif edad == 3:\n",
    "        if genero == 2:\n",
    "            return 0.51\n",
    "        elif genero == 1:\n",
    "            return 0.51\n",
    "    elif edad == 4:\n",
    "        if genero == 2:\n",
    "            return 0.55\n",
    "        elif genero == 1:\n",
    "            return 0.55\n",
    "    elif edad == 5:\n",
    "        if genero == 2:\n",
    "            return 0.60\n",
    "        elif genero == 1:\n",
    "            return 0.60\n",
    "    elif edad == 6:\n",
    "        if genero == 2:\n",
    "            return 0.64\n",
    "        elif genero == 1:\n",
    "            return 0.64\n",
    "    elif edad == 7:\n",
    "        if genero == 2:\n",
    "            return 0.66\n",
    "        elif genero == 1:\n",
    "            return 0.66\n",
    "    elif edad == 8:\n",
    "        if genero == 2:\n",
    "            return 0.68\n",
    "        elif genero == 1:\n",
    "            return 0.68\n",
    "    elif edad == 9:\n",
    "        if genero == 2:\n",
    "            return 0.69\n",
    "        elif genero == 1:\n",
    "            return 0.69\n",
    "    elif edad == 10:\n",
    "        if genero == 2:\n",
    "            return 0.70\n",
    "        elif genero == 1:\n",
    "            return 0.79\n",
    "    elif edad == 11:\n",
    "        if genero == 2:\n",
    "            return 0.72\n",
    "        elif genero == 1:\n",
    "            return 0.82\n",
    "    elif edad == 12:\n",
    "        if genero == 2:\n",
    "            return 0.74\n",
    "        elif genero == 1:\n",
    "            return 0.85\n",
    "    elif edad == 13:\n",
    "        if genero == 2:\n",
    "            return 0.76\n",
    "        elif genero == 1:\n",
    "            return 0.90\n",
    "    elif edad == 14:\n",
    "        if genero == 2:\n",
    "            return 0.76\n",
    "        elif genero == 1:\n",
    "            return 0.96\n",
    "    elif edad == 15:\n",
    "        if genero == 2:\n",
    "            return 0.77\n",
    "        elif genero == 1:\n",
    "            return 1.00\n",
    "    elif edad == 16:\n",
    "        if genero == 2:\n",
    "            return 0.77\n",
    "        elif genero == 1:\n",
    "            return 1.03\n",
    "    elif edad == 17:\n",
    "        if genero == 2:\n",
    "            return 0.77\n",
    "        elif genero == 1:\n",
    "            return 1.04\n",
    "    elif 18 <= edad <= 29:\n",
    "        if genero == 2:\n",
    "            return 0.76\n",
    "        elif genero == 1:\n",
    "            return 1.02\n",
    "    elif 30 <= edad <= 45:\n",
    "        if genero == 2:\n",
    "            return 0.77\n",
    "        elif genero == 1:\n",
    "            return 1.00\n",
    "    elif 46 <= edad <= 60:\n",
    "        if genero == 2:\n",
    "            return 0.76\n",
    "        elif genero == 1:\n",
    "            return 1.00\n",
    "    elif 61 <= edad <= 75:\n",
    "        if genero == 2:\n",
    "            return 0.67\n",
    "        elif genero == 1:\n",
    "            return 0.83\n",
    "    elif edad > 75:\n",
    "        if genero == 2:\n",
    "            return 0.63\n",
    "        elif genero == 1:\n",
    "            return 0.74\n",
    "    else:\n",
    "        return None  # En caso de que no haya una combinación válida"
   ]
  },
  {
   "cell_type": "markdown",
   "id": "abbbfa33",
   "metadata": {},
   "source": [
    "##### Inciso 7: Repitan el inciso 1.2.f del TP2 para construir la columna adulto equiv y la columna ad equiv hogar (pueden utilizar su código del TP2)."
   ]
  },
  {
   "cell_type": "code",
   "execution_count": 16,
   "id": "3eea9446",
   "metadata": {},
   "outputs": [],
   "source": [
    "# Aplicamos la funcion al data frame. Creamos una nueva columna llamada 'adulto_equiv' en el DataFrame 'microdata_filtered', donde se calculan y asignan valores equivalentes para adultos\n",
    "# a partir de las edades ('CH06') y géneros ('CH04') de cada fila utilizando una función llamada 'asignar_valor'.\n",
    "\n",
    "merged_microdata['adulto_equiv'] = merged_microdata.apply(lambda row: asignar_valor(row['CH06'], row['CH04']), axis=1)"
   ]
  },
  {
   "cell_type": "code",
   "execution_count": 17,
   "id": "a5c6c2c4",
   "metadata": {},
   "outputs": [],
   "source": [
    "# Limpiamos y Renombramos\n",
    "\n",
    "merged_microdata = merged_microdata.dropna(subset=['adulto_equiv'])\n",
    "\n",
    "result = merged_microdata.groupby(by=['CODUSU','NRO_HOGAR']).agg({'adulto_equiv': 'sum'}).reset_index()\n",
    "result.rename(columns={'adulto_equiv': 'ad_equiv_hogar'}, inplace=True)\n",
    "\n",
    "merged_microdata_FINAL = pd.merge(merged_microdata, result[['CODUSU','NRO_HOGAR', 'ad_equiv_hogar']],\n",
    "                     on=['CODUSU','NRO_HOGAR'],\n",
    "                     how='left')"
   ]
  },
  {
   "cell_type": "markdown",
   "id": "40a89131",
   "metadata": {},
   "source": [
    "##### Inciso 8: Repitan el inciso 1.3 y 1.4 del TP2 para dividir la base en dos dataframes donde: uno conserve las personas que no reportaron ITF (dataframe llamado respondieron) y otro conserve a las personas que no reportaron ITF (llamado norespondieron). Además, agreguen a la base respondieron una columna llamada ingreso necesario que sea el producto de la canasta básica por ad equiv hogar."
   ]
  },
  {
   "cell_type": "code",
   "execution_count": 18,
   "id": "898ed818",
   "metadata": {},
   "outputs": [
    {
     "name": "stdout",
     "output_type": "stream",
     "text": [
      "3132\n",
      "3203\n"
     ]
    }
   ],
   "source": [
    "# Definimos ambas bases según los criterios del enunciado, comprobando la condición sobre ITF.\n",
    "# Imprimimos la longitud del DataFrame para obtener las cantidades.\n",
    "\n",
    "# Reemplazar NaN por ceros en ITF_indv e ITF_hogar\n",
    "merged_microdata['ITF_indv'].fillna(0, inplace=True)\n",
    "merged_microdata['ITF_hogar'].fillna(0, inplace=True)\n",
    "\n",
    "respondieron = merged_microdata_FINAL[(merged_microdata_FINAL['ITF_indv'] != 0) | (merged_microdata_FINAL['ITF_hogar'] != 0)]\n",
    "print(len(respondieron))\n",
    "\n",
    "norespondieron = merged_microdata_FINAL[(merged_microdata_FINAL['ITF_indv'] == 0) & (merged_microdata_FINAL['ITF_hogar'] == 0)]\n",
    "print(len(norespondieron))"
   ]
  },
  {
   "cell_type": "code",
   "execution_count": 19,
   "id": "52c8ef20",
   "metadata": {
    "scrolled": true
   },
   "outputs": [
    {
     "name": "stderr",
     "output_type": "stream",
     "text": [
      "<ipython-input-19-313027d11416>:6: SettingWithCopyWarning: \n",
      "A value is trying to be set on a copy of a slice from a DataFrame.\n",
      "Try using .loc[row_indexer,col_indexer] = value instead\n",
      "\n",
      "See the caveats in the documentation: https://pandas.pydata.org/pandas-docs/stable/user_guide/indexing.html#returning-a-view-versus-a-copy\n",
      "  respondieron['ingreso_necesario'] = respondieron['ad_equiv_hogar'] * valor_canasta_basica\n"
     ]
    }
   ],
   "source": [
    "# Definimos el valor de la canasta básica y luego\n",
    "# seguimos las instrucciones del enunciado para añadir una columna que indique el ingreso necesario\n",
    "\n",
    "valor_canasta_basica = 57371.05\n",
    "\n",
    "respondieron['ingreso_necesario'] = respondieron['ad_equiv_hogar'] * valor_canasta_basica"
   ]
  },
  {
   "cell_type": "markdown",
   "id": "adebca69",
   "metadata": {},
   "source": [
    "##### Inciso 9: Agreguen a la base respondieron una columna llamada pobre, que tome valor 1 si el ITF es menor al ingreso necesario que necesita esa familia y 0 en caso contrario."
   ]
  },
  {
   "cell_type": "code",
   "execution_count": 20,
   "id": "0a2d1212",
   "metadata": {},
   "outputs": [
    {
     "name": "stdout",
     "output_type": "stream",
     "text": [
      "Número de pobres identificados: 1487\n",
      "0.47477650063856963\n"
     ]
    },
    {
     "name": "stderr",
     "output_type": "stream",
     "text": [
      "<ipython-input-20-3df45728e1cd>:5: SettingWithCopyWarning: \n",
      "A value is trying to be set on a copy of a slice from a DataFrame.\n",
      "Try using .loc[row_indexer,col_indexer] = value instead\n",
      "\n",
      "See the caveats in the documentation: https://pandas.pydata.org/pandas-docs/stable/user_guide/indexing.html#returning-a-view-versus-a-copy\n",
      "  respondieron['pobre'] = ((respondieron['ITF_hogar'] < respondieron['ingreso_necesario']) & (respondieron['ITF_indv'] < respondieron['ingreso_necesario'])).astype(int)\n"
     ]
    }
   ],
   "source": [
    "# Creamos una nueva columna llamada 'pobre' en el DataFrame 'respondieron',\n",
    "# donde se asigna un valor de 1 si el valor en la columna 'ITF' es menor que\n",
    "# el valor en la columna 'ingreso_necesario', y 0 en caso contrario, convirtiendo los resultados a enteros.\n",
    "\n",
    "respondieron['pobre'] = ((respondieron['ITF_hogar'] < respondieron['ingreso_necesario']) & (respondieron['ITF_indv'] < respondieron['ingreso_necesario'])).astype(int)\n",
    "\n",
    "# Sumamos todos los 1\n",
    "\n",
    "num_pobres = respondieron['pobre'].sum()\n",
    "\n",
    "print(f'Número de pobres identificados: {num_pobres}')\n",
    "\n",
    "# En %\n",
    "\n",
    "print(num_pobres/len(respondieron))\n",
    "\n"
   ]
  },
  {
   "cell_type": "code",
   "execution_count": 21,
   "id": "1d0f1b56",
   "metadata": {},
   "outputs": [],
   "source": [
    "# Guardamos como csv estas bases por si se desea correr Parte 3 de manera separada a la Parte 1. \n",
    "respondieron.to_csv('respondieron.csv', index=False)\n",
    "norespondieron.to_csv('norespondieron.csv', index=False)"
   ]
  },
  {
   "cell_type": "markdown",
   "id": "26585cfc",
   "metadata": {},
   "source": [
    "##### Inciso 10: En el TP2 calcularon los individuos bajo la línea de pobreza. Sin embargo, cuando se habla de pobreza el número más utilizado es el de la tasa de hogares bajo la línea de pobreza. Para calcularlo, utilicen una sola observación por hogar y sumen el ponderador PONDIH que permite expandir la muestra de la EPH al total de la población que representa. ¿Cuál es la tasa de hogares bajo la línea de pobreza para el GBA? ¿Se asemeja al que reporta el INDEC en sus informes?"
   ]
  },
  {
   "cell_type": "code",
   "execution_count": 22,
   "id": "fdcd45a4",
   "metadata": {},
   "outputs": [
    {
     "data": {
      "text/plain": [
       "0        2540\n",
       "1        2540\n",
       "2       14082\n",
       "3       14082\n",
       "4       14082\n",
       "        ...  \n",
       "6330     4220\n",
       "6331     4220\n",
       "6332        0\n",
       "6333        0\n",
       "6334        0\n",
       "Name: PONDIH_hogar, Length: 6335, dtype: int64"
      ]
     },
     "execution_count": 22,
     "metadata": {},
     "output_type": "execute_result"
    }
   ],
   "source": [
    "merged_microdata_FINAL['PONDIH_hogar']"
   ]
  },
  {
   "cell_type": "code",
   "execution_count": 23,
   "id": "71621bb1",
   "metadata": {},
   "outputs": [],
   "source": [
    "# Agrupar por hogar y utilizar el ponderador PONDIH para calcular la tasa de hogares pobres\n",
    "# Agrupamos los datos por el código del hogar (CODUSU)\n",
    "microdata_repres = respondieron.groupby('CODUSU').first().reset_index()\n"
   ]
  },
  {
   "cell_type": "code",
   "execution_count": 24,
   "id": "ee95edee",
   "metadata": {},
   "outputs": [],
   "source": [
    "# Ponderacion\n",
    "microdata_repres['ponderacion'] = microdata_repres['PONDIH_indv'] * microdata_repres['pobre']"
   ]
  },
  {
   "cell_type": "code",
   "execution_count": 25,
   "id": "dbbe843b",
   "metadata": {},
   "outputs": [],
   "source": [
    "pobres = microdata_repres['ponderacion'].sum()\n",
    "poblacion = microdata_repres['PONDIH_indv'].sum()\n",
    "porcentaje_pobres = (pobres / poblacion) * 100"
   ]
  },
  {
   "cell_type": "code",
   "execution_count": 26,
   "id": "901e648d",
   "metadata": {},
   "outputs": [
    {
     "name": "stdout",
     "output_type": "stream",
     "text": [
      "pobres: 1.439.914\n",
      "tasa 36.67%\n"
     ]
    }
   ],
   "source": [
    "pobres1 = '{:,}'.format(pobres).replace(',', '.')\n",
    "print(f\"pobres: {pobres1}\")\n",
    "print(f\"tasa {porcentaje_pobres:.2f}%\")"
   ]
  },
  {
   "cell_type": "markdown",
   "id": "36846408",
   "metadata": {},
   "source": [
    "#### La tasa de pobreza nos dio 6 PP mayor que la reportada por el INDEC. Creemos que esto puede ser debido a distintos criterios de limpieza de la base. Aun asi, la diferencia no es tan significativa."
   ]
  },
  {
   "cell_type": "markdown",
   "id": "447197d0",
   "metadata": {},
   "source": [
    "# Parte 2: Construcción de funciones"
   ]
  },
  {
   "cell_type": "code",
   "execution_count": 27,
   "id": "c271b078",
   "metadata": {},
   "outputs": [],
   "source": [
    "import pandas as pd\n",
    "import numpy as np\n",
    "#from ISLP import load_data\n",
    "\n",
    "from matplotlib import pyplot as plt\n",
    "\n",
    "from sklearn.model_selection import train_test_split\n",
    "from sklearn.linear_model import LinearRegression\n",
    "from sklearn.preprocessing import PolynomialFeatures \n",
    "from sklearn.metrics import mean_squared_error\n",
    "from sklearn.linear_model import LogisticRegression\n",
    "from sklearn.metrics import confusion_matrix, roc_curve, auc, accuracy_score\n",
    "from sklearn.datasets import load_breast_cancer\n",
    "from sklearn.model_selection import train_test_split\n",
    "from sklearn.model_selection import KFold\n",
    "from sklearn.discriminant_analysis import LinearDiscriminantAnalysis\n",
    "from sklearn.neighbors import KNeighborsClassifier\n",
    "import statsmodels.api as sm\n",
    "\n",
    "import os  \n",
    "import pandas as pd\n",
    "import numpy as np \n",
    "import matplotlib.pyplot as plt  \n",
    "import statsmodels.api as sm     \n",
    "\n",
    "from sklearn import datasets\n",
    "from sklearn.linear_model import LogisticRegression\n",
    "from sklearn.model_selection import train_test_split\n",
    "from sklearn.metrics import confusion_matrix\n",
    "from sklearn.metrics import accuracy_score, recall_score \n",
    "from sklearn.metrics import roc_curve\n",
    "from sklearn.metrics import roc_auc_score\n",
    "from sklearn.metrics import mean_squared_error\n",
    "from sklearn.metrics import RocCurveDisplay\n",
    "from sklearn.metrics import plot_roc_curve\n",
    "from sklearn.model_selection import KFold\n",
    "from sklearn.discriminant_analysis import LinearDiscriminantAnalysis as LDA\n",
    "from sklearn.neighbors import KNeighborsClassifier\n"
   ]
  },
  {
   "cell_type": "markdown",
   "id": "43603106",
   "metadata": {},
   "source": [
    "## Inciso 1"
   ]
  },
  {
   "cell_type": "markdown",
   "id": "98a36a48",
   "metadata": {},
   "source": [
    "#### Escriban una funcion, llamada evalua metodo, que reciba como argumentos un modelo y los datos de entrenamiento y prueba (X train, y train, X test,y test).\n",
    "#### La función debe ajustar el modelo con los datos de entrenamiento y calcular las métricas que considere necesarias para esta problem´atica (de mínima, deben reportar la matriz de confusión, las curvas ROC y los valores d eAUC y de accuracy score de cada método). \n",
    "#### El output de la función debe seruna colección con las métricas evaluadas.\n"
   ]
  },
  {
   "cell_type": "code",
   "execution_count": 28,
   "id": "d9119fb7",
   "metadata": {},
   "outputs": [],
   "source": [
    "# Cargamos una base de internet para probar la función. \n",
    "url = \"https://raw.githubusercontent.com/datasciencedojo/datasets/master/titanic.csv\"\n",
    "titanic_df = pd.read_csv(url)"
   ]
  },
  {
   "cell_type": "code",
   "execution_count": 29,
   "id": "612614a2",
   "metadata": {},
   "outputs": [],
   "source": [
    "# Quitamos todas las variables que sean string y todas las filas con NAs\n",
    "titanic_df = titanic_df.drop(titanic_df.select_dtypes(include=['object']).columns, axis=1)\n",
    "titanic_df=titanic_df.dropna()"
   ]
  },
  {
   "cell_type": "code",
   "execution_count": 30,
   "id": "c5f8aea2",
   "metadata": {},
   "outputs": [],
   "source": [
    "# Formamos un df de variables explicativas y otro con la variable dependiente.\n",
    "X=titanic_df.drop(columns=['Survived'])\n",
    "y=titanic_df.Survived"
   ]
  },
  {
   "cell_type": "code",
   "execution_count": 31,
   "id": "e570f2a7",
   "metadata": {},
   "outputs": [],
   "source": [
    "# Le agregamos una columna de 1s al dataframe X para que sirva como el intercepto.\n",
    "X = sm.add_constant(X)"
   ]
  },
  {
   "cell_type": "code",
   "execution_count": 32,
   "id": "5691d513",
   "metadata": {},
   "outputs": [],
   "source": [
    "X_train, X_test, y_train, y_test = train_test_split(X, y, test_size=0.3, random_state=10)"
   ]
  },
  {
   "cell_type": "code",
   "execution_count": 33,
   "id": "bdbb14a9",
   "metadata": {},
   "outputs": [],
   "source": [
    "def evalua_metodo(model, X_train, y_train, X_test, y_test, plot=True, coef=False):\n",
    "    \n",
    "    model_to_evaluate = model\n",
    "\n",
    "    # Ajustar el modelo con los datos de entrenamiento\n",
    "    model_fit = model_to_evaluate.fit(X_train, y_train)\n",
    "\n",
    "    # Predecir en el conjunto de prueba\n",
    "    y_pred = model_fit.predict(X_test)\n",
    "\n",
    "    # Calcular el área bajo la curva ROC y trazar la curva ROC\n",
    "    auc = roc_auc_score(y_test, y_pred)\n",
    "    print('AUC: %.4f' % auc)\n",
    "    fpr, tpr, thresholds = roc_curve(y_test, y_pred)\n",
    "    \n",
    "    # Matriz de confusión\n",
    "    matriz_confusion = confusion_matrix(y_test, y_pred)\n",
    "\n",
    "    print('Confusion Matrix:')\n",
    "    print(matriz_confusion) \n",
    "\n",
    "    # Accuracy Score\n",
    "    accuracy = accuracy_score(y_test, y_pred)\n",
    "    print('Accuracy Score:', accuracy)\n",
    "\n",
    "    # Trazar la curva ROC\n",
    "    if plot:\n",
    "        plt.figure()\n",
    "        plt.plot(fpr, tpr, color='darkorange', label='Curva ROC (área = %0.2f)' % auc)\n",
    "        plt.plot([0, 1], [0, 1], color='navy', linestyle='--')\n",
    "        plt.xlabel('Tasa de falsos positivos')\n",
    "        plt.ylabel('Tasa de verdaderos positivos')\n",
    "        plt.title('Curva ROC')\n",
    "        plt.legend(loc=\"lower right\")\n",
    "        plt.show()\n",
    "    \n",
    "    # ECM\n",
    "    ecm = mean_squared_error(y_test, y_pred) # Deseamos tener esta métrica disponible para la siguiente función. \n",
    "    if coef:\n",
    "        coeficientes = dict(zip(X_train.columns, model_fit.coef_[0])) # Generamos un diccionario donde cada llave es el nombre de una variable y su valor es el coeficiente estimado.\n",
    "        proporcion_variables_cero = sum(value == 0 for value in model_fit.coef_[0]) / len(coeficientes) # Guardamos la proporción de variables con coeficiente estimado igual a cero.\n",
    "    \n",
    "    # Retornar las métricas evaluadas\n",
    "    metrics = {\n",
    "        'AUC': auc,\n",
    "        'Confusion Matrix': matriz_confusion,\n",
    "        'Accuracy Score': accuracy,\n",
    "        'ECM': ecm,\n",
    "    }\n",
    "    \n",
    "    if coef:\n",
    "        metrics['Coeficientes'] = coeficientes\n",
    "        metrics['Proporción de Variables con Coeficiente Cero'] = proporcion_variables_cero\n",
    "\n",
    "    return metrics"
   ]
  },
  {
   "cell_type": "code",
   "execution_count": 34,
   "id": "d8e072bb",
   "metadata": {},
   "outputs": [],
   "source": [
    "# Vamos a probar la función con diferentes modelos e hiperparámetros."
   ]
  },
  {
   "cell_type": "code",
   "execution_count": 36,
   "id": "6b9e26e3",
   "metadata": {},
   "outputs": [
    {
     "name": "stdout",
     "output_type": "stream",
     "text": [
      "AUC: 0.6860\n",
      "Confusion Matrix:\n",
      "[[109  16]\n",
      " [ 45  45]]\n",
      "Accuracy Score: 0.7162790697674418\n"
     ]
    },
    {
     "data": {
      "image/png": "[encoded data removed]",
      "text/plain": [
       "<Figure size 432x288 with 1 Axes>"
      ]
     },
     "metadata": {
      "needs_background": "light"
     },
     "output_type": "display_data"
    },
    {
     "name": "stdout",
     "output_type": "stream",
     "text": [
      "{'AUC': 0.686, 'Confusion Matrix': array([[109,  16],\n",
      "       [ 45,  45]], dtype=int64), 'Accuracy Score': 0.7162790697674418, 'ECM': 0.2837209302325581}\n"
     ]
    }
   ],
   "source": [
    "# Definir el modelo\n",
    "modelo = LogisticRegression(max_iter=10000)\n",
    "# Usar la función evalua_metodo\n",
    "resultados = evalua_metodo(modelo, X_train, y_train, X_test, y_test)\n",
    "print(resultados)"
   ]
  },
  {
   "cell_type": "code",
   "execution_count": 37,
   "id": "c0a6d0a7",
   "metadata": {},
   "outputs": [
    {
     "name": "stdout",
     "output_type": "stream",
     "text": [
      "AUC: 0.5978\n",
      "Confusion Matrix:\n",
      "[[105  20]\n",
      " [ 58  32]]\n",
      "Accuracy Score: 0.6372093023255814\n"
     ]
    },
    {
     "data": {
      "image/png": "[encoded data removed]",
      "text/plain": [
       "<Figure size 432x288 with 1 Axes>"
      ]
     },
     "metadata": {
      "needs_background": "light"
     },
     "output_type": "display_data"
    },
    {
     "name": "stdout",
     "output_type": "stream",
     "text": [
      "{'AUC': 0.5977777777777779, 'Confusion Matrix': array([[105,  20],\n",
      "       [ 58,  32]], dtype=int64), 'Accuracy Score': 0.6372093023255814, 'ECM': 0.3627906976744186}\n"
     ]
    }
   ],
   "source": [
    "# Definir el modelo\n",
    "knn = KNeighborsClassifier(n_neighbors=5)\n",
    "#Usar la función evalua_metodo\n",
    "resultados = evalua_metodo(knn, X_train, y_train, X_test, y_test)\n",
    "print(resultados)"
   ]
  },
  {
   "cell_type": "code",
   "execution_count": 38,
   "id": "edf297a3",
   "metadata": {},
   "outputs": [
    {
     "name": "stdout",
     "output_type": "stream",
     "text": [
      "AUC: 0.6860\n",
      "Confusion Matrix:\n",
      "[[109  16]\n",
      " [ 45  45]]\n",
      "Accuracy Score: 0.7162790697674418\n"
     ]
    },
    {
     "data": {
      "image/png": "[encoded data removed]",
      "text/plain": [
       "<Figure size 432x288 with 1 Axes>"
      ]
     },
     "metadata": {
      "needs_background": "light"
     },
     "output_type": "display_data"
    },
    {
     "name": "stdout",
     "output_type": "stream",
     "text": [
      "{'AUC': 0.686, 'Confusion Matrix': array([[109,  16],\n",
      "       [ 45,  45]], dtype=int64), 'Accuracy Score': 0.7162790697674418, 'ECM': 0.2837209302325581}\n"
     ]
    }
   ],
   "source": [
    "# Definir el modelo\n",
    "modelo3= LinearDiscriminantAnalysis(n_components=1)\n",
    "#Usar la función evalua_metodo\n",
    "resultados = evalua_metodo(modelo3, X_train, y_train, X_test, y_test)\n",
    "print(resultados)"
   ]
  },
  {
   "cell_type": "markdown",
   "id": "f61b044f",
   "metadata": {},
   "source": [
    "## Inciso 2"
   ]
  },
  {
   "cell_type": "markdown",
   "id": "1feb28c4",
   "metadata": {},
   "source": [
    "#### Escriban una función, llamada cross validation, que realice validación cruzada con k iteraciones (k-fold CV), llamando a la función del  inciso anterior en cada una, pero para las k distintas particiones. \n",
    "#### La función debe recibir como argumentos el modelo, el valor de k y un dataset (es decir, s´olo X e y).\n",
    "#### Pueden ayudarse con la función KFold para generar las particiones necesarias"
   ]
  },
  {
   "cell_type": "code",
   "execution_count": 39,
   "id": "c8459179",
   "metadata": {},
   "outputs": [],
   "source": [
    "from sklearn.preprocessing import StandardScaler\n",
    "from sklearn.model_selection import KFold"
   ]
  },
  {
   "cell_type": "code",
   "execution_count": 42,
   "id": "07cfe96f",
   "metadata": {},
   "outputs": [],
   "source": [
    "def cross_validation(modelo, k, x, y, std=True, coef=False):\n",
    "    if isinstance(x, np.ndarray):\n",
    "        x = pd.DataFrame(x)\n",
    "    if isinstance(y, np.ndarray):\n",
    "        y = pd.DataFrame(y)\n",
    "\n",
    "    sc = StandardScaler()\n",
    "    kf = KFold(n_splits=k, shuffle=True, random_state = 2023)\n",
    "    output = []\n",
    "\n",
    "    for i, (train_index, test_index) in enumerate(kf.split(x)):\n",
    "        x_train, x_test = x.iloc[list(train_index)], x.iloc[list(test_index)]\n",
    "        y_train, y_test = y.iloc[list(train_index)], y.iloc[list(test_index)]\n",
    "\n",
    "        if std:\n",
    "            x_train = pd.DataFrame(sc.fit_transform(x_train), index=x_train.index, columns=x_train.columns)\n",
    "            x_test = pd.DataFrame(sc.transform(x_test), index=x_test.index, columns=x_test.columns)\n",
    "\n",
    "        # Llamar a evalua_metodo para calcular las métricas\n",
    "        metrics = evalua_metodo(modelo, x_train, y_train, x_test, y_test, plot=False, coef=coef)\n",
    "\n",
    "        # Extraer las métricas calculadas en evalua_metodo\n",
    "        matriz_confusion = metrics['Confusion Matrix']\n",
    "        valor_auc = metrics['AUC']\n",
    "        accuracy = metrics['Accuracy Score']\n",
    "        ecm = metrics['ECM']\n",
    "\n",
    "        proporcion_variables_cero = None\n",
    "\n",
    "        if coef:\n",
    "            proporcion_variables_cero = metrics['Proporción de Variables con Coeficiente Cero']\n",
    "\n",
    "        output.append((i+1, ecm, valor_auc, accuracy, matriz_confusion, proporcion_variables_cero))\n",
    "\n",
    "    output_df = pd.DataFrame(output, columns=[\"Particion\", \"MSE\", \"valor_auc\", \"accuracy\", \"matriz_confusion\", \"proporcion_variables_cero\"])\n",
    "    return output_df"
   ]
  },
  {
   "cell_type": "code",
   "execution_count": null,
   "id": "537690e3",
   "metadata": {},
   "outputs": [],
   "source": [
    "# Ejemplo de la función con 5 particiones,sin estandarización y sin reporte de la proporción de variables con coeficientes estimados iguales a cero.. \n",
    "cross_validation(modelo,5,X,y,std=False,coef=False)"
   ]
  },
  {
   "cell_type": "markdown",
   "id": "832860c4",
   "metadata": {},
   "source": [
    "## Inciso 3"
   ]
  },
  {
   "cell_type": "markdown",
   "id": "24efd06e",
   "metadata": {},
   "source": [
    "#### Escriban una función, llamada evalua config que reciba una lista de configuraciones de hiperparámetros (los distintos valores a probar como hiper-parámetros podrian codificarse en diccionarios de Python)y utilizando la función cross validation obtenga el error cuadrado promedio para cada configuración."
   ]
  },
  {
   "cell_type": "code",
   "execution_count": 44,
   "id": "e841db4e",
   "metadata": {},
   "outputs": [],
   "source": [
    "def evalua_config(model_types, lambdas, X, y):\n",
    "    \"\"\"\n",
    "    Encuentra el valor óptimo de lambda (α) para Ridge, Lasso o ambos modelos en un modelo de clasificación.\n",
    "\n",
    "    Args:\n",
    "    - model_types: Lista de tipos de modelo ('ridge', 'lasso', o ambos).\n",
    "    - lambdas: Lista de valores de lambda (α) para evaluar.\n",
    "    - X: Variables explicativas.\n",
    "    - y: Variable objetivo (etiquetas binarias 0 y 1).\n",
    "\n",
    "    Returns:\n",
    "    - DataFrame que contiene los valores de lambda y los errores cuadráticos medios asociados para los modelos seleccionados.\n",
    "    \"\"\"\n",
    "\n",
    "    if not all(model_type in ['ridge', 'lasso'] for model_type in model_types):\n",
    "        raise ValueError(\"Los elementos en 'model_types' deben ser 'ridge', 'lasso', o ambos.\")\n",
    "\n",
    "    resultados_lambda = []\n",
    "\n",
    "    for model_type in model_types:\n",
    "        if model_type == 'ridge':\n",
    "            modelo = LogisticRegression(penalty='l2', solver='liblinear')\n",
    "        else:\n",
    "            modelo = LogisticRegression(penalty='l1', solver='liblinear')\n",
    "\n",
    "        for alpha in lambdas:\n",
    "            modelo.set_params(C=1/alpha)\n",
    "\n",
    "            # Realizar validación cruzada utilizando cross_validation\n",
    "            resultados = cross_validation(modelo, k=5, x=X, y=y, std=True)\n",
    "\n",
    "            # Calcular el Error Cuadrático Medio (ECM) promedio\n",
    "            ecm_promedio = np.mean(resultados['MSE'])\n",
    "\n",
    "            resultados_lambda.append((model_type, alpha, ecm_promedio))\n",
    "    # Crear un DataFrame a partir de la lista de tuplas\n",
    "    resultados_df = pd.DataFrame(resultados_lambda, columns=[\"Model Type\", \"Lambda\", \"ECM\"])\n",
    "    \n",
    "    return resultados_df"
   ]
  },
  {
   "cell_type": "code",
   "execution_count": 48,
   "id": "9bcdaef8",
   "metadata": {},
   "outputs": [
    {
     "name": "stdout",
     "output_type": "stream",
     "text": [
      "AUC: 0.6675\n",
      "Confusion Matrix:\n",
      "[[76 14]\n",
      " [27 26]]\n",
      "Accuracy Score: 0.7132867132867133\n",
      "AUC: 0.6763\n",
      "Confusion Matrix:\n",
      "[[71 14]\n",
      " [28 30]]\n",
      "Accuracy Score: 0.7062937062937062\n",
      "AUC: 0.6811\n",
      "Confusion Matrix:\n",
      "[[73 19]\n",
      " [22 29]]\n",
      "Accuracy Score: 0.7132867132867133\n",
      "AUC: 0.6988\n",
      "Confusion Matrix:\n",
      "[[69 15]\n",
      " [25 34]]\n",
      "Accuracy Score: 0.7202797202797203\n",
      "AUC: 0.6143\n",
      "Confusion Matrix:\n",
      "[[59 14]\n",
      " [40 29]]\n",
      "Accuracy Score: 0.6197183098591549\n",
      "AUC: 0.6675\n",
      "Confusion Matrix:\n",
      "[[76 14]\n",
      " [27 26]]\n",
      "Accuracy Score: 0.7132867132867133\n",
      "AUC: 0.6763\n",
      "Confusion Matrix:\n",
      "[[71 14]\n",
      " [28 30]]\n",
      "Accuracy Score: 0.7062937062937062\n",
      "AUC: 0.6811\n",
      "Confusion Matrix:\n",
      "[[73 19]\n",
      " [22 29]]\n",
      "Accuracy Score: 0.7132867132867133\n",
      "AUC: 0.6988\n",
      "Confusion Matrix:\n",
      "[[69 15]\n",
      " [25 34]]\n",
      "Accuracy Score: 0.7202797202797203\n",
      "AUC: 0.6143\n",
      "Confusion Matrix:\n",
      "[[59 14]\n",
      " [40 29]]\n",
      "Accuracy Score: 0.6197183098591549\n",
      "AUC: 0.6675\n",
      "Confusion Matrix:\n",
      "[[76 14]\n",
      " [27 26]]\n",
      "Accuracy Score: 0.7132867132867133\n",
      "AUC: 0.6763\n",
      "Confusion Matrix:\n",
      "[[71 14]\n",
      " [28 30]]\n",
      "Accuracy Score: 0.7062937062937062\n",
      "AUC: 0.6811\n",
      "Confusion Matrix:\n",
      "[[73 19]\n",
      " [22 29]]\n",
      "Accuracy Score: 0.7132867132867133\n",
      "AUC: 0.6988\n",
      "Confusion Matrix:\n",
      "[[69 15]\n",
      " [25 34]]\n",
      "Accuracy Score: 0.7202797202797203\n",
      "AUC: 0.6143\n",
      "Confusion Matrix:\n",
      "[[59 14]\n",
      " [40 29]]\n",
      "Accuracy Score: 0.6197183098591549\n",
      "AUC: 0.6675\n",
      "Confusion Matrix:\n",
      "[[76 14]\n",
      " [27 26]]\n",
      "Accuracy Score: 0.7132867132867133\n",
      "AUC: 0.6763\n",
      "Confusion Matrix:\n",
      "[[71 14]\n",
      " [28 30]]\n",
      "Accuracy Score: 0.7062937062937062\n",
      "AUC: 0.6811\n",
      "Confusion Matrix:\n",
      "[[73 19]\n",
      " [22 29]]\n",
      "Accuracy Score: 0.7132867132867133\n",
      "AUC: 0.6988\n",
      "Confusion Matrix:\n",
      "[[69 15]\n",
      " [25 34]]\n",
      "Accuracy Score: 0.7202797202797203\n",
      "AUC: 0.6139\n",
      "Confusion Matrix:\n",
      "[[60 13]\n",
      " [41 28]]\n",
      "Accuracy Score: 0.6197183098591549\n",
      "AUC: 0.6675\n",
      "Confusion Matrix:\n",
      "[[76 14]\n",
      " [27 26]]\n",
      "Accuracy Score: 0.7132867132867133\n",
      "AUC: 0.6763\n",
      "Confusion Matrix:\n",
      "[[71 14]\n",
      " [28 30]]\n",
      "Accuracy Score: 0.7062937062937062\n",
      "AUC: 0.6811\n",
      "Confusion Matrix:\n",
      "[[73 19]\n",
      " [22 29]]\n",
      "Accuracy Score: 0.7132867132867133\n",
      "AUC: 0.7048\n",
      "Confusion Matrix:\n",
      "[[70 14]\n",
      " [25 34]]\n",
      "Accuracy Score: 0.7272727272727273\n",
      "AUC: 0.6139\n",
      "Confusion Matrix:\n",
      "[[60 13]\n",
      " [41 28]]\n",
      "Accuracy Score: 0.6197183098591549\n",
      "AUC: 0.6709\n",
      "Confusion Matrix:\n",
      "[[80 10]\n",
      " [29 24]]\n",
      "Accuracy Score: 0.7272727272727273\n",
      "AUC: 0.6618\n",
      "Confusion Matrix:\n",
      "[[70 15]\n",
      " [29 29]]\n",
      "Accuracy Score: 0.6923076923076923\n",
      "AUC: 0.6473\n",
      "Confusion Matrix:\n",
      "[[74 18]\n",
      " [26 25]]\n",
      "Accuracy Score: 0.6923076923076923\n",
      "AUC: 0.7167\n",
      "Confusion Matrix:\n",
      "[[72 12]\n",
      " [25 34]]\n",
      "Accuracy Score: 0.7412587412587412\n",
      "AUC: 0.6272\n",
      "Confusion Matrix:\n",
      "[[63 10]\n",
      " [42 27]]\n",
      "Accuracy Score: 0.6338028169014085\n",
      "AUC: 0.6670\n",
      "Confusion Matrix:\n",
      "[[81  9]\n",
      " [30 23]]\n",
      "Accuracy Score: 0.7272727272727273\n",
      "AUC: 0.6849\n",
      "Confusion Matrix:\n",
      "[[71 14]\n",
      " [27 31]]\n",
      "Accuracy Score: 0.7132867132867133\n",
      "AUC: 0.6473\n",
      "Confusion Matrix:\n",
      "[[74 18]\n",
      " [26 25]]\n",
      "Accuracy Score: 0.6923076923076923\n",
      "AUC: 0.7227\n",
      "Confusion Matrix:\n",
      "[[73 11]\n",
      " [25 34]]\n",
      "Accuracy Score: 0.7482517482517482\n",
      "AUC: 0.6417\n",
      "Confusion Matrix:\n",
      "[[63 10]\n",
      " [40 29]]\n",
      "Accuracy Score: 0.647887323943662\n",
      "AUC: 0.6653\n",
      "Confusion Matrix:\n",
      "[[79 11]\n",
      " [29 24]]\n",
      "Accuracy Score: 0.7202797202797203\n",
      "AUC: 0.6731\n",
      "Confusion Matrix:\n",
      "[[69 16]\n",
      " [27 31]]\n",
      "Accuracy Score: 0.6993006993006993\n",
      "AUC: 0.6310\n",
      "Confusion Matrix:\n",
      "[[71 21]\n",
      " [26 25]]\n",
      "Accuracy Score: 0.6713286713286714\n",
      "AUC: 0.7073\n",
      "Confusion Matrix:\n",
      "[[69 15]\n",
      " [24 35]]\n",
      "Accuracy Score: 0.7272727272727273\n",
      "AUC: 0.6557\n",
      "Confusion Matrix:\n",
      "[[64  9]\n",
      " [39 30]]\n",
      "Accuracy Score: 0.6619718309859155\n",
      "AUC: 0.6653\n",
      "Confusion Matrix:\n",
      "[[79 11]\n",
      " [29 24]]\n",
      "Accuracy Score: 0.7202797202797203\n",
      "AUC: 0.6731\n",
      "Confusion Matrix:\n",
      "[[69 16]\n",
      " [27 31]]\n",
      "Accuracy Score: 0.6993006993006993\n",
      "AUC: 0.6310\n",
      "Confusion Matrix:\n",
      "[[71 21]\n",
      " [26 25]]\n",
      "Accuracy Score: 0.6713286713286714\n",
      "AUC: 0.7158\n",
      "Confusion Matrix:\n",
      "[[69 15]\n",
      " [23 36]]\n",
      "Accuracy Score: 0.7342657342657343\n",
      "AUC: 0.6348\n",
      "Confusion Matrix:\n",
      "[[62 11]\n",
      " [40 29]]\n",
      "Accuracy Score: 0.6408450704225352\n",
      "AUC: 0.6675\n",
      "Confusion Matrix:\n",
      "[[76 14]\n",
      " [27 26]]\n",
      "Accuracy Score: 0.7132867132867133\n",
      "AUC: 0.6763\n",
      "Confusion Matrix:\n",
      "[[71 14]\n",
      " [28 30]]\n",
      "Accuracy Score: 0.7062937062937062\n",
      "AUC: 0.6811\n",
      "Confusion Matrix:\n",
      "[[73 19]\n",
      " [22 29]]\n",
      "Accuracy Score: 0.7132867132867133\n",
      "AUC: 0.6988\n",
      "Confusion Matrix:\n",
      "[[69 15]\n",
      " [25 34]]\n",
      "Accuracy Score: 0.7202797202797203\n",
      "AUC: 0.6143\n",
      "Confusion Matrix:\n",
      "[[59 14]\n",
      " [40 29]]\n",
      "Accuracy Score: 0.6197183098591549\n",
      "AUC: 0.6675\n",
      "Confusion Matrix:\n",
      "[[76 14]\n",
      " [27 26]]\n",
      "Accuracy Score: 0.7132867132867133\n",
      "AUC: 0.6763\n",
      "Confusion Matrix:\n",
      "[[71 14]\n",
      " [28 30]]\n",
      "Accuracy Score: 0.7062937062937062\n",
      "AUC: 0.6811\n",
      "Confusion Matrix:\n",
      "[[73 19]\n",
      " [22 29]]\n",
      "Accuracy Score: 0.7132867132867133\n",
      "AUC: 0.6988\n",
      "Confusion Matrix:\n",
      "[[69 15]\n",
      " [25 34]]\n",
      "Accuracy Score: 0.7202797202797203\n",
      "AUC: 0.6143\n",
      "Confusion Matrix:\n",
      "[[59 14]\n",
      " [40 29]]\n",
      "Accuracy Score: 0.6197183098591549\n",
      "AUC: 0.6675\n",
      "Confusion Matrix:\n",
      "[[76 14]\n",
      " [27 26]]\n",
      "Accuracy Score: 0.7132867132867133\n",
      "AUC: 0.6763\n",
      "Confusion Matrix:\n",
      "[[71 14]\n",
      " [28 30]]\n",
      "Accuracy Score: 0.7062937062937062\n",
      "AUC: 0.6811\n",
      "Confusion Matrix:\n",
      "[[73 19]\n",
      " [22 29]]\n",
      "Accuracy Score: 0.7132867132867133\n",
      "AUC: 0.6988\n",
      "Confusion Matrix:\n",
      "[[69 15]\n",
      " [25 34]]\n",
      "Accuracy Score: 0.7202797202797203\n",
      "AUC: 0.6143\n",
      "Confusion Matrix:\n",
      "[[59 14]\n",
      " [40 29]]\n",
      "Accuracy Score: 0.6197183098591549\n",
      "AUC: 0.6769\n",
      "Confusion Matrix:\n",
      "[[76 14]\n",
      " [26 27]]\n",
      "Accuracy Score: 0.7202797202797203\n",
      "AUC: 0.6763\n",
      "Confusion Matrix:\n",
      "[[71 14]\n",
      " [28 30]]\n",
      "Accuracy Score: 0.7062937062937062\n",
      "AUC: 0.6811\n",
      "Confusion Matrix:\n",
      "[[73 19]\n",
      " [22 29]]\n",
      "Accuracy Score: 0.7132867132867133\n",
      "AUC: 0.6988\n",
      "Confusion Matrix:\n",
      "[[69 15]\n",
      " [25 34]]\n",
      "Accuracy Score: 0.7202797202797203\n",
      "AUC: 0.6139\n",
      "Confusion Matrix:\n",
      "[[60 13]\n",
      " [41 28]]\n",
      "Accuracy Score: 0.6197183098591549\n",
      "AUC: 0.6714\n",
      "Confusion Matrix:\n",
      "[[75 15]\n",
      " [26 27]]\n",
      "Accuracy Score: 0.7132867132867133\n",
      "AUC: 0.6759\n",
      "Confusion Matrix:\n",
      "[[68 17]\n",
      " [26 32]]\n",
      "Accuracy Score: 0.6993006993006993\n",
      "AUC: 0.6441\n",
      "Confusion Matrix:\n",
      "[[68 24]\n",
      " [23 28]]\n",
      "Accuracy Score: 0.6713286713286714\n",
      "AUC: 0.7048\n",
      "Confusion Matrix:\n",
      "[[70 14]\n",
      " [25 34]]\n",
      "Accuracy Score: 0.7272727272727273\n",
      "AUC: 0.6420\n",
      "Confusion Matrix:\n",
      "[[62 11]\n",
      " [39 30]]\n",
      "Accuracy Score: 0.647887323943662\n",
      "AUC: 0.6807\n",
      "Confusion Matrix:\n",
      "[[58 32]\n",
      " [15 38]]\n",
      "Accuracy Score: 0.6713286713286714\n",
      "AUC: 0.6511\n",
      "Confusion Matrix:\n",
      "[[55 30]\n",
      " [20 38]]\n",
      "Accuracy Score: 0.6503496503496503\n",
      "AUC: 0.6573\n",
      "Confusion Matrix:\n",
      "[[56 36]\n",
      " [15 36]]\n",
      "Accuracy Score: 0.6433566433566433\n",
      "AUC: 0.6858\n",
      "Confusion Matrix:\n",
      "[[54 30]\n",
      " [16 43]]\n",
      "Accuracy Score: 0.6783216783216783\n",
      "AUC: 0.6066\n",
      "Confusion Matrix:\n",
      "[[60 13]\n",
      " [42 27]]\n",
      "Accuracy Score: 0.6126760563380281\n",
      "AUC: 0.5000\n",
      "Confusion Matrix:\n",
      "[[90  0]\n",
      " [53  0]]\n",
      "Accuracy Score: 0.6293706293706294\n",
      "AUC: 0.6511\n",
      "Confusion Matrix:\n",
      "[[55 30]\n",
      " [20 38]]\n",
      "Accuracy Score: 0.6503496503496503\n",
      "AUC: 0.6573\n",
      "Confusion Matrix:\n",
      "[[56 36]\n",
      " [15 36]]\n",
      "Accuracy Score: 0.6433566433566433\n",
      "AUC: 0.5000\n",
      "Confusion Matrix:\n",
      "[[84  0]\n",
      " [59  0]]\n",
      "Accuracy Score: 0.5874125874125874\n",
      "AUC: 0.6842\n",
      "Confusion Matrix:\n",
      "[[47 26]\n",
      " [19 50]]\n",
      "Accuracy Score: 0.6830985915492958\n",
      "AUC: 0.5000\n",
      "Confusion Matrix:\n",
      "[[90  0]\n",
      " [53  0]]\n",
      "Accuracy Score: 0.6293706293706294\n",
      "AUC: 0.5000\n",
      "Confusion Matrix:\n",
      "[[85  0]\n",
      " [58  0]]\n",
      "Accuracy Score: 0.5944055944055944\n",
      "AUC: 0.5000\n",
      "Confusion Matrix:\n",
      "[[92  0]\n",
      " [51  0]]\n",
      "Accuracy Score: 0.6433566433566433\n",
      "AUC: 0.5000\n",
      "Confusion Matrix:\n",
      "[[84  0]\n",
      " [59  0]]\n",
      "Accuracy Score: 0.5874125874125874\n",
      "AUC: 0.5000\n",
      "Confusion Matrix:\n",
      "[[73  0]\n",
      " [69  0]]\n",
      "Accuracy Score: 0.5140845070422535\n",
      "AUC: 0.5000\n",
      "Confusion Matrix:\n",
      "[[90  0]\n",
      " [53  0]]\n",
      "Accuracy Score: 0.6293706293706294\n",
      "AUC: 0.5000\n",
      "Confusion Matrix:\n",
      "[[85  0]\n",
      " [58  0]]\n",
      "Accuracy Score: 0.5944055944055944\n",
      "AUC: 0.5000\n",
      "Confusion Matrix:\n",
      "[[92  0]\n",
      " [51  0]]\n",
      "Accuracy Score: 0.6433566433566433\n",
      "AUC: 0.5000\n",
      "Confusion Matrix:\n",
      "[[84  0]\n",
      " [59  0]]\n",
      "Accuracy Score: 0.5874125874125874\n",
      "AUC: 0.5000\n",
      "Confusion Matrix:\n",
      "[[73  0]\n",
      " [69  0]]\n",
      "Accuracy Score: 0.5140845070422535\n"
     ]
    }
   ],
   "source": [
    "# Ejemplo de uso para ambos métodos de regularización:\n",
    "lambdas_ambos = [0.001, 0.01, 0.1, 1, 10, 50, 100, 1000, 10000]\n",
    "resultados_ambos = evalua_config(['ridge','lasso'], lambdas_ambos, X, y)"
   ]
  },
  {
   "cell_type": "code",
   "execution_count": null,
   "id": "19b7502b",
   "metadata": {},
   "outputs": [],
   "source": [
    "print(\"\\nResultados para ambos:\")\n",
    "print(resultados_ambos)\n",
    "\n",
    "mejor_lambda = resultados_ambos.loc[resultados_ambos['ECM'].idxmin()]['Lambda']\n",
    "mejor_metodo = resultados_ambos.loc[resultados_ambos['ECM'].idxmin()]['Model Type']\n",
    "print(\"Valor óptimo de lambda (ambos):\", mejor_lambda_ambos)\n"
   ]
  },
  {
   "cell_type": "code",
   "execution_count": 50,
   "id": "c3cb1bc4",
   "metadata": {},
   "outputs": [
    {
     "name": "stdout",
     "output_type": "stream",
     "text": [
      "Resultados para Ridge:\n",
      "  Model Type     Lambda       ECM\n",
      "0      ridge      0.001  0.305427\n",
      "1      ridge      0.010  0.305427\n",
      "2      ridge      0.100  0.305427\n",
      "3      ridge      1.000  0.305427\n",
      "4      ridge     10.000  0.304028\n",
      "5      ridge     50.000  0.302610\n",
      "6      ridge    100.000  0.294199\n",
      "7      ridge   1000.000  0.303969\n",
      "8      ridge  10000.000  0.306796\n",
      "Valor óptimo de lambda (Ridge): 100.0\n",
      "\n",
      "Resultados para Lasso:\n",
      "  Model Type     Lambda       ECM\n",
      "0      lasso      0.001  0.305427\n",
      "1      lasso      0.010  0.305427\n",
      "2      lasso      0.100  0.305427\n",
      "3      lasso      1.000  0.304028\n",
      "4      lasso     10.000  0.308185\n",
      "5      lasso     50.000  0.348793\n",
      "6      lasso    100.000  0.361282\n",
      "7      lasso   1000.000  0.406274\n",
      "8      lasso  10000.000  0.406274\n",
      "Valor óptimo de lambda (Lasso): 1.0\n"
     ]
    }
   ],
   "source": [
    "# Mostrar el DataFrame asociado a Ridge\n",
    "print(\"Resultados para Ridge:\")\n",
    "print(resultados_ridge)\n",
    "\n",
    "# Lambda con menor ECM para Ridge\n",
    "mejor_lambda_ridge = resultados_ridge.loc[resultados_ridge['ECM'].idxmin()]['Lambda']\n",
    "print(\"Valor óptimo de lambda (Ridge):\", mejor_lambda_ridge)\n",
    "\n",
    "# Mostrar el DataFrame asociado a Lasso\n",
    "print(\"\\nResultados para Lasso:\")\n",
    "print(resultados_lasso)\n",
    "\n",
    "# Lambda con menor ECM para Lasso\n",
    "mejor_lambda_lasso = resultados_lasso.loc[resultados_lasso['ECM'].idxmin()]['Lambda']\n",
    "print(\"Valor óptimo de lambda (Lasso):\", mejor_lambda_lasso)"
   ]
  },
  {
   "cell_type": "markdown",
   "id": "76899bb9",
   "metadata": {},
   "source": [
    "## Ejercicio 4"
   ]
  },
  {
   "cell_type": "markdown",
   "id": "4dc00c5c",
   "metadata": {},
   "source": [
    "## Inciso 4"
   ]
  },
  {
   "cell_type": "markdown",
   "id": "55e3adb6",
   "metadata": {},
   "source": [
    "#### Escriban una función llamada \"evalua multiples metodos\" que les permita implementar los siguiente métodos con los hiperparámetros que ustedes elijan. \n",
    "#### Para la regresión logística, aseg´urense de que esta función utilice su función.\n",
    "#### evalua config para optimizar el λ de la regularizaci´on. Finalmente, el output de la función debe ser una tabla donde las columnas sean las métricas que hayan evaluado (las que hayan incluido en la función evalua metodo) y las filas sean los modelos (con su configuraci´on de hiperpar´ametros asociada) que hayan corrido.\n",
    "#### Asegúrense de que la tabla incluya una columna con nombre del modelo y el valor de los hiperparámetros/configuración:"
   ]
  },
  {
   "cell_type": "code",
   "execution_count": 82,
   "id": "433f13b9",
   "metadata": {},
   "outputs": [],
   "source": [
    "from sklearn.linear_model import LogisticRegression\n",
    "from sklearn.discriminant_analysis import LinearDiscriminantAnalysis\n",
    "from sklearn.neighbors import KNeighborsClassifier\n",
    "\n",
    "def evalua_multiples_metodos(X, y, metodos):\n",
    "    \"\"\"\n",
    "    Evalúa varios métodos de clasificación con hiperparámetros personalizados y regresión logística con optimización de lambda.\n",
    "\n",
    "    Args:\n",
    "    - X: Variables explicativas.\n",
    "    - y: Variable objetivo (etiquetas binarias 0 y 1).\n",
    "    - metodos: Lista de diccionarios que especifican los métodos y sus hiperparámetros.\n",
    "\n",
    "    Returns:\n",
    "    - Lista de diccionarios que contienen las métricas evaluadas para cada modelo.\n",
    "    \"\"\"\n",
    "    resultados = []  # Resultados como una lista de diccionarios\n",
    "\n",
    "    for metodo in metodos:\n",
    "        nombre_modelo = metodo['nombre']\n",
    "        hiperparametros = metodo['hiperparametros']\n",
    "        resultados_modelo = {}  # Inicializar resultados_modelo\n",
    "\n",
    "        if nombre_modelo == 'Regresión Logística':\n",
    "            # Optimizar lambda (α) para la regularización de la Regresión Logística\n",
    "            lambdas = hiperparametros.get('lambdas', [0.00001, 0.0001, 0.001, 0.01, 0.1, 1, 10, 100, 1000, 10000, 100000]) ## Su default de lambdas es este.\n",
    "            resultados_log = evalua_config(['ridge','lasso'], lambdas, X, y)\n",
    "            mejor_lambda = resultados_log.loc[resultados_log['ECM'].idxmin()]['Lambda']\n",
    "            mejor_metodo = resultados_log.loc[resultados_log['ECM'].idxmin()]['Model Type']\n",
    "            if mejor_metodo == \"ridge\":\n",
    "                modelo = LogisticRegression(penalty='l2', C=1/mejor_lambda, solver='liblinear')\n",
    "            else:\n",
    "                modelo = LogisticRegression(penalty='l1', C=1/mejor_lambda, solver='saga')\n",
    "            resultados_modelo = evalua_metodo(modelo, X_train, y_train, X_test, y_test)\n",
    "        elif nombre_modelo == 'Análisis de Discriminante Lineal':\n",
    "            # Crear el modelo de Análisis de Discriminante Lineal con los hiperparámetros personalizados\n",
    "            modelo = LinearDiscriminantAnalysis(**hiperparametros)\n",
    "            # Evaluar el modelo\n",
    "            resultados_modelo = evalua_metodo(modelo, X_train, y_train, X_test, y_test)\n",
    "        elif nombre_modelo == 'KNN':\n",
    "            # Crear el modelo K-Nearest Neighbors (KNN) con los hiperparámetros personalizados\n",
    "            modelo = KNeighborsClassifier(**hiperparametros)\n",
    "            \n",
    "            # Evaluar el modelo\n",
    "            resultados_modelo = evalua_metodo(modelo, X_train, y_train, X_test, y_test)\n",
    "\n",
    "        # Agregar el nombre del modelo y los hiperparámetros/configuración\n",
    "        resultados_modelo['Modelo'] = nombre_modelo\n",
    "        resultados_modelo['Hiperparámetros'] = str(hiperparametros)\n",
    "        resultados.append(resultados_modelo)\n",
    "    resultados_df = pd.DataFrame(resultados)\n",
    "    return resultados_df, mejor_metodo, mejor_lambda  # Resultados es un diccionario que contiene los resultados de cada modelo"
   ]
  },
  {
   "cell_type": "code",
   "execution_count": 83,
   "id": "6620b12f",
   "metadata": {},
   "outputs": [
    {
     "name": "stdout",
     "output_type": "stream",
     "text": [
      "AUC: 0.7485\n",
      "Confusion Matrix:\n",
      "[[264  70]\n",
      " [ 86 207]]\n",
      "Accuracy Score: 0.7511961722488039\n",
      "AUC: 0.7827\n",
      "Confusion Matrix:\n",
      "[[286  58]\n",
      " [ 75 207]]\n",
      "Accuracy Score: 0.7875399361022364\n",
      "AUC: 0.8144\n",
      "Confusion Matrix:\n",
      "[[266  57]\n",
      " [ 59 244]]\n",
      "Accuracy Score: 0.8146964856230032\n",
      "AUC: 0.8037\n",
      "Confusion Matrix:\n",
      "[[274  49]\n",
      " [ 73 230]]\n",
      "Accuracy Score: 0.805111821086262\n",
      "AUC: 0.7475\n",
      "Confusion Matrix:\n",
      "[[261  60]\n",
      " [ 97 208]]\n",
      "Accuracy Score: 0.7492012779552716\n",
      "AUC: 0.7517\n",
      "Confusion Matrix:\n",
      "[[265  69]\n",
      " [ 85 208]]\n",
      "Accuracy Score: 0.7543859649122807\n",
      "AUC: 0.7895\n",
      "Confusion Matrix:\n",
      "[[287  57]\n",
      " [ 72 210]]\n",
      "Accuracy Score: 0.7939297124600639\n",
      "AUC: 0.8162\n",
      "Confusion Matrix:\n",
      "[[265  58]\n",
      " [ 57 246]]\n",
      "Accuracy Score: 0.8162939297124601\n",
      "AUC: 0.8053\n",
      "Confusion Matrix:\n",
      "[[274  49]\n",
      " [ 72 231]]\n",
      "Accuracy Score: 0.8067092651757188\n",
      "AUC: 0.7475\n",
      "Confusion Matrix:\n",
      "[[261  60]\n",
      " [ 97 208]]\n",
      "Accuracy Score: 0.7492012779552716\n",
      "AUC: 0.7583\n",
      "Confusion Matrix:\n",
      "[[266  68]\n",
      " [ 82 211]]\n",
      "Accuracy Score: 0.7607655502392344\n",
      "AUC: 0.7859\n",
      "Confusion Matrix:\n",
      "[[287  57]\n",
      " [ 74 208]]\n",
      "Accuracy Score: 0.7907348242811502\n",
      "AUC: 0.8146\n",
      "Confusion Matrix:\n",
      "[[264  59]\n",
      " [ 57 246]]\n",
      "Accuracy Score: 0.8146964856230032\n",
      "AUC: 0.8021\n",
      "Confusion Matrix:\n",
      "[[273  50]\n",
      " [ 73 230]]\n",
      "Accuracy Score: 0.8035143769968051\n",
      "AUC: 0.7492\n",
      "Confusion Matrix:\n",
      "[[261  60]\n",
      " [ 96 209]]\n",
      "Accuracy Score: 0.7507987220447284\n",
      "AUC: 0.7645\n",
      "Confusion Matrix:\n",
      "[[269  65]\n",
      " [ 81 212]]\n",
      "Accuracy Score: 0.7671451355661882\n",
      "AUC: 0.7816\n",
      "Confusion Matrix:\n",
      "[[284  60]\n",
      " [ 74 208]]\n",
      "Accuracy Score: 0.7859424920127795\n",
      "AUC: 0.8114\n",
      "Confusion Matrix:\n",
      "[[263  60]\n",
      " [ 58 245]]\n",
      "Accuracy Score: 0.8115015974440895\n",
      "AUC: 0.8054\n",
      "Confusion Matrix:\n",
      "[[273  50]\n",
      " [ 71 232]]\n",
      "Accuracy Score: 0.8067092651757188\n",
      "AUC: 0.7425\n",
      "Confusion Matrix:\n",
      "[[262  59]\n",
      " [101 204]]\n",
      "Accuracy Score: 0.744408945686901\n",
      "AUC: 0.7485\n",
      "Confusion Matrix:\n",
      "[[264  70]\n",
      " [ 86 207]]\n",
      "Accuracy Score: 0.7511961722488039\n",
      "AUC: 0.7842\n",
      "Confusion Matrix:\n",
      "[[287  57]\n",
      " [ 75 207]]\n",
      "Accuracy Score: 0.7891373801916933\n",
      "AUC: 0.8161\n",
      "Confusion Matrix:\n",
      "[[266  57]\n",
      " [ 58 245]]\n",
      "Accuracy Score: 0.8162939297124601\n",
      "AUC: 0.8020\n",
      "Confusion Matrix:\n",
      "[[274  49]\n",
      " [ 74 229]]\n",
      "Accuracy Score: 0.8035143769968051\n",
      "AUC: 0.7475\n",
      "Confusion Matrix:\n",
      "[[261  60]\n",
      " [ 97 208]]\n",
      "Accuracy Score: 0.7492012779552716\n",
      "AUC: 0.7517\n",
      "Confusion Matrix:\n",
      "[[265  69]\n",
      " [ 85 208]]\n",
      "Accuracy Score: 0.7543859649122807\n",
      "AUC: 0.7880\n",
      "Confusion Matrix:\n",
      "[[286  58]\n",
      " [ 72 210]]\n",
      "Accuracy Score: 0.792332268370607\n",
      "AUC: 0.8163\n",
      "Confusion Matrix:\n",
      "[[264  59]\n",
      " [ 56 247]]\n",
      "Accuracy Score: 0.8162939297124601\n",
      "AUC: 0.8038\n",
      "Confusion Matrix:\n",
      "[[273  50]\n",
      " [ 72 231]]\n",
      "Accuracy Score: 0.805111821086262\n",
      "AUC: 0.7476\n",
      "Confusion Matrix:\n",
      "[[260  61]\n",
      " [ 96 209]]\n",
      "Accuracy Score: 0.7492012779552716\n",
      "AUC: 0.7549\n",
      "Confusion Matrix:\n",
      "[[266  68]\n",
      " [ 84 209]]\n",
      "Accuracy Score: 0.7575757575757576\n",
      "AUC: 0.7695\n",
      "Confusion Matrix:\n",
      "[[283  61]\n",
      " [ 80 202]]\n",
      "Accuracy Score: 0.7747603833865815\n",
      "AUC: 0.8099\n",
      "Confusion Matrix:\n",
      "[[262  61]\n",
      " [ 58 245]]\n",
      "Accuracy Score: 0.8099041533546326\n",
      "AUC: 0.7974\n",
      "Confusion Matrix:\n",
      "[[271  52]\n",
      " [ 74 229]]\n",
      "Accuracy Score: 0.7987220447284346\n",
      "AUC: 0.7362\n",
      "Confusion Matrix:\n",
      "[[259  62]\n",
      " [102 203]]\n",
      "Accuracy Score: 0.7380191693290735\n",
      "AUC: 0.7692\n",
      "Confusion Matrix:\n",
      "[[279  55]\n",
      " [ 87 206]]\n",
      "Accuracy Score: 0.773524720893142\n",
      "AUC: 0.7468\n",
      "Confusion Matrix:\n",
      "[[282  62]\n",
      " [ 92 190]]\n",
      "Accuracy Score: 0.7539936102236422\n",
      "AUC: 0.7754\n",
      "Confusion Matrix:\n",
      "[[260  63]\n",
      " [ 77 226]]\n",
      "Accuracy Score: 0.7763578274760383\n",
      "AUC: 0.7732\n",
      "Confusion Matrix:\n",
      "[[266  57]\n",
      " [ 84 219]]\n",
      "Accuracy Score: 0.7747603833865815\n",
      "AUC: 0.7106\n",
      "Confusion Matrix:\n",
      "[[251  70]\n",
      " [110 195]]\n",
      "Accuracy Score: 0.7124600638977636\n",
      "AUC: 0.6789\n",
      "Confusion Matrix:\n",
      "[[110  15]\n",
      " [ 47  43]]\n",
      "Accuracy Score: 0.7116279069767442\n"
     ]
    },
    {
     "data": {
      "image/png": "[encoded data removed]",
      "text/plain": [
       "<Figure size 432x288 with 1 Axes>"
      ]
     },
     "metadata": {
      "needs_background": "light"
     },
     "output_type": "display_data"
    },
    {
     "name": "stdout",
     "output_type": "stream",
     "text": [
      "AUC: 0.6860\n",
      "Confusion Matrix:\n",
      "[[109  16]\n",
      " [ 45  45]]\n",
      "Accuracy Score: 0.7162790697674418\n"
     ]
    },
    {
     "data": {
      "image/png": "[encoded data removed]",
      "text/plain": [
       "<Figure size 432x288 with 1 Axes>"
      ]
     },
     "metadata": {
      "needs_background": "light"
     },
     "output_type": "display_data"
    },
    {
     "name": "stdout",
     "output_type": "stream",
     "text": [
      "AUC: 0.6071\n",
      "Confusion Matrix:\n",
      "[[99 26]\n",
      " [52 38]]\n",
      "Accuracy Score: 0.6372093023255814\n"
     ]
    },
    {
     "data": {
      "image/png": "[encoded data removed]",
      "text/plain": [
       "<Figure size 432x288 with 1 Axes>"
      ]
     },
     "metadata": {
      "needs_background": "light"
     },
     "output_type": "display_data"
    }
   ],
   "source": [
    "from sklearn.linear_model import LogisticRegression\n",
    "from sklearn.discriminant_analysis import LinearDiscriminantAnalysis\n",
    "from sklearn.neighbors import KNeighborsClassifier\n",
    "\n",
    "# Definir los hiperparámetros para cada método\n",
    "hiperparametros_rl = {\n",
    "    'lambdas': [0.1, 1, 10, 50],\n",
    "}\n",
    "\n",
    "hiperparametros_lda = {\n",
    "    'solver': 'lsqr',\n",
    "}\n",
    "\n",
    "hiperparametros_knn = {\n",
    "    'n_neighbors': 3,\n",
    "}\n",
    "\n",
    "# Lista de métodos y sus hiperparámetros\n",
    "metodos = [\n",
    "    {\n",
    "        'nombre': 'Regresión Logística',\n",
    "        'hiperparametros': hiperparametros_rl,\n",
    "    },\n",
    "    {\n",
    "        'nombre': 'Análisis de Discriminante Lineal',\n",
    "        'hiperparametros': hiperparametros_lda,\n",
    "    },\n",
    "    {\n",
    "        'nombre': 'KNN',\n",
    "        'hiperparametros': hiperparametros_knn,\n",
    "    },\n",
    "]\n",
    "\n",
    "# Utilizar la función evalua_multiples_metodos con datos de ejemplo\n",
    "resultados = evalua_multiples_metodos(X, y, metodos)"
   ]
  },
  {
   "cell_type": "code",
   "execution_count": 84,
   "id": "cc11eb22",
   "metadata": {},
   "outputs": [
    {
     "name": "stdout",
     "output_type": "stream",
     "text": [
      "        AUC       Confusion Matrix  Accuracy Score       ECM  \\\n",
      "0  0.678889  [[110, 15], [47, 43]]        0.711628  0.288372   \n",
      "1  0.686000  [[109, 16], [45, 45]]        0.716279  0.283721   \n",
      "2  0.607111   [[99, 26], [52, 38]]        0.637209  0.362791   \n",
      "\n",
      "                             Modelo                Hiperparámetros Metodo  \\\n",
      "0               Regresión Logística  {'lambdas': [0.1, 1, 10, 50]}  ridge   \n",
      "1  Análisis de Discriminante Lineal             {'solver': 'lsqr'}    NaN   \n",
      "2                               KNN             {'n_neighbors': 3}    NaN   \n",
      "\n",
      "   Hiperparámetro Óptimo  \n",
      "0                    1.0  \n",
      "1                    NaN  \n",
      "2                    NaN  \n"
     ]
    }
   ],
   "source": [
    "# Obtener el DataFrame del primer lugar de la tupla\n",
    "data_frame_resultados = resultados[0]\n",
    "\n",
    "# Obtener el valor que se encuentra en el segundo lugar de la tupla\n",
    "valor_hiperparametro_optimo = resultados[2]\n",
    "\n",
    "# Obtener el valor que se encuentra en el segundo lugar de la tupla\n",
    "mejor_metodo_res = resultados[1]\n",
    "\n",
    "if 'Regresión Logística' in data_frame_resultados['Modelo'].values:\n",
    "    # Encontrar la fila correspondiente al modelo 'Regresión Logística' y agregar el valor\n",
    "    fila_regresion_logistica = data_frame_resultados[data_frame_resultados['Modelo'] == 'Regresión Logística']\n",
    "    data_frame_resultados.loc[fila_regresion_logistica.index, 'Metodo'] = mejor_metodo_res\n",
    "else:\n",
    "    # Si no se encuentra el modelo 'Regresión Logística, configurar NaN en toda la columna\n",
    "    data_frame_resultados['Metodo'] = None\n",
    "\n",
    "# Verificar si el DataFrame contiene el modelo 'Regresión Logística' y agregar el valor al modelo adecuado\n",
    "if 'Regresión Logística' in data_frame_resultados['Modelo'].values:\n",
    "    # Encontrar la fila correspondiente al modelo 'Regresión Logística' y agregar el valor\n",
    "    fila_regresion_logistica = data_frame_resultados[data_frame_resultados['Modelo'] == 'Regresión Logística']\n",
    "    data_frame_resultados.loc[fila_regresion_logistica.index, 'Hiperparámetro Óptimo'] = valor_hiperparametro_optimo\n",
    "else:\n",
    "    # Si no se encuentra el modelo 'Regresión Logística, configurar NaN en toda la columna\n",
    "    data_frame_resultados['Hiperparámetro Óptimo'] = None\n",
    "\n",
    "    \n",
    "\n",
    "# Imprimir el DataFrame modificado\n",
    "print(data_frame_resultados)"
   ]
  },
  {
   "cell_type": "markdown",
   "id": "e2db386e",
   "metadata": {},
   "source": [
    "# Parte 3: Análisis de la base de hogares y cálculo de pobreza"
   ]
  },
  {
   "cell_type": "code",
   "execution_count": 60,
   "id": "2986c02a",
   "metadata": {},
   "outputs": [],
   "source": [
    "import pandas as pd\n",
    "import numpy as np\n",
    "#from ISLP import load_data\n",
    "\n",
    "from matplotlib import pyplot as plt\n",
    "\n",
    "from sklearn.model_selection import train_test_split\n",
    "from sklearn.linear_model import LinearRegression\n",
    "from sklearn.preprocessing import PolynomialFeatures \n",
    "from sklearn.metrics import mean_squared_error\n",
    "from sklearn.linear_model import LogisticRegression\n",
    "from sklearn.metrics import confusion_matrix, roc_curve, auc, accuracy_score\n",
    "import matplotlib.pyplot as plt\n",
    "from sklearn.linear_model import LogisticRegression\n",
    "from sklearn.datasets import load_breast_cancer\n",
    "from sklearn.model_selection import train_test_split\n",
    "from sklearn.model_selection import KFold\n",
    "from sklearn.discriminant_analysis import LinearDiscriminantAnalysis\n",
    "from sklearn.neighbors import KNeighborsClassifier"
   ]
  },
  {
   "cell_type": "code",
   "execution_count": 61,
   "id": "a9fff0a8",
   "metadata": {},
   "outputs": [
    {
     "name": "stdout",
     "output_type": "stream",
     "text": [
      "CODUSU\n",
      "ANO4_indv\n",
      "TRIMESTRE_indv\n",
      "NRO_HOGAR\n",
      "COMPONENTE\n",
      "H15\n",
      "REGION_indv\n",
      "MAS_500_indv\n",
      "AGLOMERADO_indv\n",
      "PONDERA_indv\n",
      "CH03\n",
      "CH04\n",
      "CH05\n",
      "CH06\n",
      "CH07\n",
      "CH08\n",
      "CH09\n",
      "CH10\n",
      "CH11\n",
      "CH12\n",
      "CH13\n",
      "CH14\n",
      "CH15\n",
      "CH16\n",
      "NIVEL_ED\n",
      "ESTADO\n",
      "CAT_OCUP\n",
      "CAT_INAC\n",
      "PP02C1\n",
      "PP02C2\n",
      "PP02C3\n",
      "PP02C4\n",
      "PP02C5\n",
      "PP02C6\n",
      "PP02C7\n",
      "PP02C8\n",
      "PP02E\n",
      "PP02H\n",
      "PP02I\n",
      "PP03C\n",
      "PP03D\n",
      "PP3E_TOT\n",
      "PP3F_TOT\n",
      "PP03G\n",
      "PP03H\n",
      "PP03I\n",
      "PP03J\n",
      "INTENSI\n",
      "PP04A\n",
      "PP04B_COD\n",
      "PP04B1\n",
      "PP04B2\n",
      "PP04B3_MES\n",
      "PP04B3_ANO\n",
      "PP04B3_DIA\n",
      "PP04C\n",
      "PP04C99\n",
      "PP04D_COD\n",
      "PP04G\n",
      "PP05B2_MES\n",
      "PP05B2_ANO\n",
      "PP05B2_DIA\n",
      "PP05C_1\n",
      "PP05C_2\n",
      "PP05C_3\n",
      "PP05E\n",
      "PP05F\n",
      "PP05H\n",
      "PP06A\n",
      "PP06C\n",
      "PP06D\n",
      "PP06E\n",
      "PP06H\n",
      "PP07A\n",
      "PP07C\n",
      "PP07D\n",
      "PP07E\n",
      "PP07F1\n",
      "PP07F2\n",
      "PP07F3\n",
      "PP07F4\n",
      "PP07F5\n",
      "PP07G1\n",
      "PP07G2\n",
      "PP07G3\n",
      "PP07G4\n",
      "PP07G_59\n",
      "PP07H\n",
      "PP07I\n",
      "PP07J\n",
      "PP07K\n",
      "PP08D1\n",
      "PP08D4\n",
      "PP08F1\n",
      "PP08F2\n",
      "PP08J1\n",
      "PP08J2\n",
      "PP08J3\n",
      "PP09A\n",
      "PP09B\n",
      "PP09C\n",
      "P21\n",
      "DECOCUR\n",
      "RDECOCUR\n",
      "GDECOCUR\n",
      "ADECOCUR\n",
      "PONDIIO\n",
      "TOT_P12\n",
      "P47T\n",
      "DECINDR\n",
      "RDECINDR\n",
      "GDECINDR\n",
      "ADECINDR\n",
      "PONDII\n",
      "V2_M\n",
      "V3_M\n",
      "V4_M\n",
      "V5_M\n",
      "V8_M\n",
      "V9_M\n",
      "V10_M\n",
      "V11_M\n",
      "V12_M\n",
      "V18_M\n",
      "V19_AM\n",
      "V21_M\n",
      "T_VI\n",
      "ITF_indv\n",
      "DECIFR_indv\n",
      "RDECIFR_indv\n",
      "GDECIFR_indv\n",
      "ADECIFR_indv\n",
      "IPCF_indv\n",
      "DECCFR_indv\n",
      "RDECCFR_indv\n",
      "GDECCFR_indv\n",
      "ADECCFR_indv\n",
      "PONDIH_indv\n",
      "ANO4_hogar\n",
      "TRIMESTRE_hogar\n",
      "REALIZADA\n",
      "REGION_hogar\n",
      "MAS_500_hogar\n",
      "AGLOMERADO_hogar\n",
      "PONDERA_hogar\n",
      "IV1\n",
      "IV2\n",
      "IV3\n",
      "IV4\n",
      "IV5\n",
      "IV6\n",
      "IV7\n",
      "IV8\n",
      "IV9\n",
      "IV10\n",
      "IV11\n",
      "IV12_1\n",
      "IV12_2\n",
      "IV12_3\n",
      "II1\n",
      "II2\n",
      "II3\n",
      "II3_1\n",
      "II4_1\n",
      "II4_2\n",
      "II4_3\n",
      "II5\n",
      "II5_1\n",
      "II6\n",
      "II6_1\n",
      "II7\n",
      "II8\n",
      "II9\n",
      "V1\n",
      "V2\n",
      "V21\n",
      "V22\n",
      "V3\n",
      "V4\n",
      "V5\n",
      "V6\n",
      "V7\n",
      "V8\n",
      "V9\n",
      "V10\n",
      "V11\n",
      "V12\n",
      "V13\n",
      "V14\n",
      "V15\n",
      "V16\n",
      "V17\n",
      "V18\n",
      "V19_A\n",
      "V19_B\n",
      "IX_TOT\n",
      "IX_MEN10\n",
      "IX_MAYEQ10\n",
      "ITF_hogar\n",
      "DECIFR_hogar\n",
      "RDECIFR_hogar\n",
      "GDECIFR_hogar\n",
      "ADECIFR_hogar\n",
      "IPCF_hogar\n",
      "DECCFR_hogar\n",
      "RDECCFR_hogar\n",
      "GDECCFR_hogar\n",
      "ADECCFR_hogar\n",
      "PONDIH_hogar\n",
      "VII1_1\n",
      "VII1_2\n",
      "VII2_1\n",
      "VII2_2\n",
      "VII2_3\n",
      "VII2_4\n",
      "adulto_equiv\n",
      "ad_equiv_hogar\n",
      "ingreso_necesario\n",
      "pobre\n"
     ]
    }
   ],
   "source": [
    "variables = respondieron.columns\n",
    "for variable in variables:\n",
    "   print(variable)"
   ]
  },
  {
   "cell_type": "code",
   "execution_count": 62,
   "id": "8fe00d55",
   "metadata": {},
   "outputs": [],
   "source": [
    "# Eliminar columnas específicas\n",
    "respondieron = respondieron.drop(columns=['CODUSU','ANO4_indv','TRIMESTRE_indv','REGION_indv', 'MAS_500_indv','ANO4_hogar','TRIMESTRE_hogar','REGION_hogar', 'MAS_500_hogar', 'CH05','CH14'])\n",
    "\n",
    "# Eliminar un rango de columnas: ingresos de la ocupación principal de los asalariados\n",
    "respondieron = respondieron.drop(columns=[col for col in respondieron.columns if col.startswith('PP08')])\n",
    "\n",
    "# Eliminar un rango de columnas: Ingresos de la ocupación principal de los trabajadores independientes\n",
    "respondieron = respondieron.drop(columns=[col for col in respondieron.columns if col.startswith('PP06')])\n",
    "\n",
    "# Ingresos de la ocupación principal\n",
    "start = respondieron.columns.get_loc('PP03C')\n",
    "end = respondieron.columns.get_loc('PONDIH_indv')\n",
    "\n",
    "columns_to_drop = respondieron.columns[start:end+1]\n",
    "respondieron = respondieron.drop(columns=columns_to_drop)\n",
    "\n",
    "# Ingresos de la ocupación principal\n",
    "start = respondieron.columns.get_loc('ITF_hogar')\n",
    "end = respondieron.columns.get_loc('PONDIH_hogar')\n",
    "\n",
    "columns_to_drop = respondieron.columns[start:end+1]\n",
    "respondieron = respondieron.drop(columns=columns_to_drop)\n",
    "\n",
    "# Ingresos de la ocupación principal\n",
    "start = respondieron.columns.get_loc('adulto_equiv')\n",
    "end = respondieron.columns.get_loc('ingreso_necesario')\n",
    "\n",
    "columns_to_drop = respondieron.columns[start:end+1]\n",
    "respondieron = respondieron.drop(columns=columns_to_drop)"
   ]
  },
  {
   "cell_type": "code",
   "execution_count": 63,
   "id": "0c210db7",
   "metadata": {},
   "outputs": [],
   "source": [
    "# Eliminar columnas específicas\n",
    "norespondieron = norespondieron.drop(columns=['CODUSU','ANO4_indv','TRIMESTRE_indv','REGION_indv', 'MAS_500_indv','ANO4_hogar','TRIMESTRE_hogar','REGION_hogar', 'MAS_500_hogar', 'CH05','CH14'])\n",
    "\n",
    "# Eliminar un rango de columnas: ingresos de la ocupación principal de los asalariados\n",
    "norespondieron = norespondieron.drop(columns=[col for col in norespondieron.columns if col.startswith('PP08')])\n",
    "\n",
    "# Eliminar un rango de columnas: Ingresos de la ocupación principal de los trabajadores independientes\n",
    "norespondieron = norespondieron.drop(columns=[col for col in norespondieron.columns if col.startswith('PP06')])\n",
    "\n",
    "# Ingresos de la ocupación principal\n",
    "start = norespondieron.columns.get_loc('P21')\n",
    "end = norespondieron.columns.get_loc('PONDIH_indv')\n",
    "\n",
    "columns_to_drop = norespondieron.columns[start:end+1]\n",
    "norespondieron = norespondieron.drop(columns=columns_to_drop)\n",
    "\n",
    "# Ingresos de la ocupación principal\n",
    "start = norespondieron.columns.get_loc('ITF_hogar')\n",
    "end = norespondieron.columns.get_loc('PONDIH_hogar')\n",
    "\n",
    "columns_to_drop = norespondieron.columns[start:end+1]\n",
    "norespondieron = norespondieron.drop(columns=columns_to_drop)\n",
    "\n",
    "# Ingresos de la ocupación principal\n",
    "start = norespondieron.columns.get_loc('adulto_equiv')\n",
    "end = norespondieron.columns.get_loc('ad_equiv_hogar')\n",
    "\n",
    "columns_to_drop = norespondieron.columns[start:end+1]\n",
    "norespondieron = norespondieron.drop(columns=columns_to_drop)"
   ]
  },
  {
   "cell_type": "code",
   "execution_count": null,
   "id": "ff37cff4",
   "metadata": {},
   "outputs": [],
   "source": [
    "variables = respondieron.columns\n",
    "for variable in variables:\n",
    "   print(variable)"
   ]
  },
  {
   "cell_type": "code",
   "execution_count": 64,
   "id": "63e2bab7",
   "metadata": {},
   "outputs": [
    {
     "name": "stdout",
     "output_type": "stream",
     "text": [
      "['CH08']\n"
     ]
    }
   ],
   "source": [
    "# To check before running the models\n",
    "# Obtener el nombre de las columnas que tienen al menos un NaN\n",
    "columnas_con_nas = respondieron.columns[respondieron.isna().any()].tolist()\n",
    "\n",
    "# Imprimir las columnas\n",
    "print(columnas_con_nas)\n"
   ]
  },
  {
   "cell_type": "code",
   "execution_count": 65,
   "id": "49a1c715",
   "metadata": {},
   "outputs": [],
   "source": [
    "# Eliminar las observaciones con NaN en 'column_name' directamente en el DataFrame original\n",
    "respondieron.dropna(subset=['CH08'], inplace=True)\n"
   ]
  },
  {
   "cell_type": "code",
   "execution_count": 66,
   "id": "46e8a116",
   "metadata": {},
   "outputs": [],
   "source": [
    "# Definimos la matriz de Xs \n",
    "X = respondieron.drop(['pobre'], axis=1)\n",
    "y = respondieron.pobre"
   ]
  },
  {
   "cell_type": "markdown",
   "id": "7384fff4",
   "metadata": {},
   "source": [
    "## Ejercicio 2"
   ]
  },
  {
   "cell_type": "code",
   "execution_count": 67,
   "id": "89b80265",
   "metadata": {},
   "outputs": [
    {
     "name": "stdout",
     "output_type": "stream",
     "text": [
      "AUC: 0.7517\n",
      "Confusion Matrix:\n",
      "[[265  69]\n",
      " [ 85 208]]\n",
      "Accuracy Score: 0.7543859649122807\n",
      "AUC: 0.7895\n",
      "Confusion Matrix:\n",
      "[[287  57]\n",
      " [ 72 210]]\n",
      "Accuracy Score: 0.7939297124600639\n",
      "AUC: 0.8162\n",
      "Confusion Matrix:\n",
      "[[265  58]\n",
      " [ 57 246]]\n",
      "Accuracy Score: 0.8162939297124601\n",
      "AUC: 0.8053\n",
      "Confusion Matrix:\n",
      "[[274  49]\n",
      " [ 72 231]]\n",
      "Accuracy Score: 0.8067092651757188\n",
      "AUC: 0.7475\n",
      "Confusion Matrix:\n",
      "[[261  60]\n",
      " [ 97 208]]\n",
      "Accuracy Score: 0.7492012779552716\n",
      "AUC: 0.7583\n",
      "Confusion Matrix:\n",
      "[[266  68]\n",
      " [ 82 211]]\n",
      "Accuracy Score: 0.7607655502392344\n",
      "AUC: 0.7859\n",
      "Confusion Matrix:\n",
      "[[287  57]\n",
      " [ 74 208]]\n",
      "Accuracy Score: 0.7907348242811502\n",
      "AUC: 0.8146\n",
      "Confusion Matrix:\n",
      "[[264  59]\n",
      " [ 57 246]]\n",
      "Accuracy Score: 0.8146964856230032\n",
      "AUC: 0.8021\n",
      "Confusion Matrix:\n",
      "[[273  50]\n",
      " [ 73 230]]\n",
      "Accuracy Score: 0.8035143769968051\n",
      "AUC: 0.7492\n",
      "Confusion Matrix:\n",
      "[[261  60]\n",
      " [ 96 209]]\n",
      "Accuracy Score: 0.7507987220447284\n",
      "AUC: 0.7645\n",
      "Confusion Matrix:\n",
      "[[269  65]\n",
      " [ 81 212]]\n",
      "Accuracy Score: 0.7671451355661882\n",
      "AUC: 0.7816\n",
      "Confusion Matrix:\n",
      "[[284  60]\n",
      " [ 74 208]]\n",
      "Accuracy Score: 0.7859424920127795\n",
      "AUC: 0.8114\n",
      "Confusion Matrix:\n",
      "[[263  60]\n",
      " [ 58 245]]\n",
      "Accuracy Score: 0.8115015974440895\n",
      "AUC: 0.8054\n",
      "Confusion Matrix:\n",
      "[[273  50]\n",
      " [ 71 232]]\n",
      "Accuracy Score: 0.8067092651757188\n",
      "AUC: 0.7425\n",
      "Confusion Matrix:\n",
      "[[262  59]\n",
      " [101 204]]\n",
      "Accuracy Score: 0.744408945686901\n",
      "AUC: 0.7517\n",
      "Confusion Matrix:\n",
      "[[265  69]\n",
      " [ 85 208]]\n",
      "Accuracy Score: 0.7543859649122807\n",
      "AUC: 0.7880\n",
      "Confusion Matrix:\n",
      "[[286  58]\n",
      " [ 72 210]]\n",
      "Accuracy Score: 0.792332268370607\n",
      "AUC: 0.8163\n",
      "Confusion Matrix:\n",
      "[[264  59]\n",
      " [ 56 247]]\n",
      "Accuracy Score: 0.8162939297124601\n",
      "AUC: 0.8038\n",
      "Confusion Matrix:\n",
      "[[273  50]\n",
      " [ 72 231]]\n",
      "Accuracy Score: 0.805111821086262\n",
      "AUC: 0.7476\n",
      "Confusion Matrix:\n",
      "[[260  61]\n",
      " [ 96 209]]\n",
      "Accuracy Score: 0.7492012779552716\n",
      "AUC: 0.7549\n",
      "Confusion Matrix:\n",
      "[[266  68]\n",
      " [ 84 209]]\n",
      "Accuracy Score: 0.7575757575757576\n",
      "AUC: 0.7695\n",
      "Confusion Matrix:\n",
      "[[283  61]\n",
      " [ 80 202]]\n",
      "Accuracy Score: 0.7747603833865815\n",
      "AUC: 0.8099\n",
      "Confusion Matrix:\n",
      "[[262  61]\n",
      " [ 58 245]]\n",
      "Accuracy Score: 0.8099041533546326\n",
      "AUC: 0.7974\n",
      "Confusion Matrix:\n",
      "[[271  52]\n",
      " [ 74 229]]\n",
      "Accuracy Score: 0.7987220447284346\n",
      "AUC: 0.7362\n",
      "Confusion Matrix:\n",
      "[[259  62]\n",
      " [102 203]]\n",
      "Accuracy Score: 0.7380191693290735\n",
      "AUC: 0.7692\n",
      "Confusion Matrix:\n",
      "[[279  55]\n",
      " [ 87 206]]\n",
      "Accuracy Score: 0.773524720893142\n",
      "AUC: 0.7468\n",
      "Confusion Matrix:\n",
      "[[282  62]\n",
      " [ 92 190]]\n",
      "Accuracy Score: 0.7539936102236422\n",
      "AUC: 0.7754\n",
      "Confusion Matrix:\n",
      "[[260  63]\n",
      " [ 77 226]]\n",
      "Accuracy Score: 0.7763578274760383\n",
      "AUC: 0.7732\n",
      "Confusion Matrix:\n",
      "[[266  57]\n",
      " [ 84 219]]\n",
      "Accuracy Score: 0.7747603833865815\n",
      "AUC: 0.7106\n",
      "Confusion Matrix:\n",
      "[[251  70]\n",
      " [110 195]]\n",
      "Accuracy Score: 0.7124600638977636\n",
      "AUC: 0.6789\n",
      "Confusion Matrix:\n",
      "[[110  15]\n",
      " [ 47  43]]\n",
      "Accuracy Score: 0.7116279069767442\n"
     ]
    },
    {
     "data": {
      "image/png": "[encoded data removed]",
      "text/plain": [
       "<Figure size 432x288 with 1 Axes>"
      ]
     },
     "metadata": {
      "needs_background": "light"
     },
     "output_type": "display_data"
    },
    {
     "name": "stdout",
     "output_type": "stream",
     "text": [
      "AUC: 0.6860\n",
      "Confusion Matrix:\n",
      "[[109  16]\n",
      " [ 45  45]]\n",
      "Accuracy Score: 0.7162790697674418\n"
     ]
    },
    {
     "data": {
      "image/png": "[encoded data removed]",
      "text/plain": [
       "<Figure size 432x288 with 1 Axes>"
      ]
     },
     "metadata": {
      "needs_background": "light"
     },
     "output_type": "display_data"
    },
    {
     "name": "stdout",
     "output_type": "stream",
     "text": [
      "AUC: 0.5978\n",
      "Confusion Matrix:\n",
      "[[105  20]\n",
      " [ 58  32]]\n",
      "Accuracy Score: 0.6372093023255814\n"
     ]
    },
    {
     "data": {
      "image/png": "[encoded data removed]",
      "text/plain": [
       "<Figure size 432x288 with 1 Axes>"
      ]
     },
     "metadata": {
      "needs_background": "light"
     },
     "output_type": "display_data"
    }
   ],
   "source": [
    "#Corran la funcion evalua multiples metodos (de la Parte 2) con la base respondieron, con \n",
    "# al menos un hiperparámetro para regularizar y al menos un valor de \\lambda. \n",
    "\n",
    "\n",
    "from sklearn.linear_model import LogisticRegression\n",
    "from sklearn.discriminant_analysis import LinearDiscriminantAnalysis\n",
    "from sklearn.neighbors import KNeighborsClassifier\n",
    "\n",
    "# Definir los hiperparámetros para cada método\n",
    "hiperparametros_rl = {\n",
    "    'lambdas': [ 1, 10, 50],\n",
    "}\n",
    "\n",
    "hiperparametros_lda = {\n",
    "    'solver': 'lsqr',\n",
    "}\n",
    "\n",
    "hiperparametros_knn = {\n",
    "    'n_neighbors': 5,\n",
    "}\n",
    "\n",
    "# Lista de métodos y sus hiperparámetros\n",
    "metodos = [\n",
    "    {\n",
    "        'nombre': 'Regresión Logística',\n",
    "        'hiperparametros': hiperparametros_rl,\n",
    "    },\n",
    "    {\n",
    "        'nombre': 'Análisis de Discriminante Lineal',\n",
    "        'hiperparametros': hiperparametros_lda,\n",
    "    },\n",
    "    {\n",
    "        'nombre': 'KNN',\n",
    "        'hiperparametros': hiperparametros_knn,\n",
    "    },\n",
    "]\n",
    "\n",
    "# Ahora llamamos a la función\n",
    "resultados_df=evalua_multiples_metodos(X, y, metodos)\n",
    "# Ver los resultados\n",
    "\n"
   ]
  },
  {
   "cell_type": "code",
   "execution_count": 68,
   "id": "b182e04e",
   "metadata": {},
   "outputs": [
    {
     "name": "stdout",
     "output_type": "stream",
     "text": [
      "        AUC       Confusion Matrix  Accuracy Score       ECM  \\\n",
      "0  0.620444   [[119, 6], [64, 26]]        0.674419  0.325581   \n",
      "1  0.686000  [[109, 16], [45, 45]]        0.716279  0.283721   \n",
      "2  0.607111   [[99, 26], [52, 38]]        0.637209  0.362791   \n",
      "\n",
      "                             Modelo  \\\n",
      "0               Regresión Logística   \n",
      "1  Análisis de Discriminante Lineal   \n",
      "2                               KNN   \n",
      "\n",
      "                                     Hiperparámetros Metodo  \\\n",
      "0  {'lambdas': [0.001, 0.01, 0.1, 1, 10, 50, 100,...  ridge   \n",
      "1                                 {'solver': 'lsqr'}    NaN   \n",
      "2                                 {'n_neighbors': 3}    NaN   \n",
      "\n",
      "   Hiperparámetro Óptimo  \n",
      "0                  100.0  \n",
      "1                    NaN  \n",
      "2                    NaN  \n"
     ]
    }
   ],
   "source": [
    "# Obtener el DataFrame del primer lugar de la tupla\n",
    "data_frame_resultados = resultados[0]\n",
    "\n",
    "# Obtener el valor que se encuentra en el segundo lugar de la tupla\n",
    "valor_hiperparametro_optimo = resultados[2]\n",
    "\n",
    "# Obtener el valor que se encuentra en el segundo lugar de la tupla\n",
    "mejor_metodo_res = resultados[1]\n",
    "\n",
    "if 'Regresión Logística' in data_frame_resultados['Modelo'].values:\n",
    "    # Encontrar la fila correspondiente al modelo 'Regresión Logística' y agregar el valor\n",
    "    fila_regresion_logistica = data_frame_resultados[data_frame_resultados['Modelo'] == 'Regresión Logística']\n",
    "    data_frame_resultados.loc[fila_regresion_logistica.index, 'Metodo'] = mejor_metodo_res\n",
    "else:\n",
    "    # Si no se encuentra el modelo 'Regresión Logística, configurar NaN en toda la columna\n",
    "    data_frame_resultados['Metodo'] = None\n",
    "\n",
    "# Verificar si el DataFrame contiene el modelo 'Regresión Logística' y agregar el valor al modelo adecuado\n",
    "if 'Regresión Logística' in data_frame_resultados['Modelo'].values:\n",
    "    # Encontrar la fila correspondiente al modelo 'Regresión Logística' y agregar el valor\n",
    "    fila_regresion_logistica = data_frame_resultados[data_frame_resultados['Modelo'] == 'Regresión Logística']\n",
    "    data_frame_resultados.loc[fila_regresion_logistica.index, 'Hiperparámetro Óptimo'] = valor_hiperparametro_optimo\n",
    "else:\n",
    "    # Si no se encuentra el modelo 'Regresión Logística, configurar NaN en toda la columna\n",
    "    data_frame_resultados['Hiperparámetro Óptimo'] = None\n",
    "\n",
    "    \n",
    "\n",
    "# Imprimir el DataFrame modificado\n",
    "print(data_frame_resultados)\n"
   ]
  },
  {
   "cell_type": "markdown",
   "id": "ca6b1c74",
   "metadata": {},
   "source": [
    "## Ejercicio 3"
   ]
  },
  {
   "cell_type": "markdown",
   "id": "6c6866f0",
   "metadata": {},
   "source": [
    "#### En el ejercicio de regularización, lambda actúa de manera similar tanto en regresión lineal como en regresión logística y clasificación. Lo que hace lambda es penalizar la minimización de la función de costo. La idea detrás de esto es reducir el overfitting: se establece un trade-off entre sesgar ligeramente nuestra estimación original en el conjunto de entrenamiento y reducir la varianza una vez que se aplica el modelo en el conjunto de prueba.Ahora bien, considerando que un valor alto de lambda hace que el modelo sea menos sensible a las variaciones en las variables explicativas, mientras que un valor bajo de lambda se acerca más a un modelo sin regularización, surge la pregunta de cómo elegir el valor adecuado de lambda. La mejor manera de abordar esta elección es mediante la validación cruzada, que implica probar distintos valores de lambda en un conjunto de entrenamiento y validación, eligiendo aquel que minimice la varianza en este último conjunto antes de evaluar el rendimiento en el conjunto de prueba.Es importante destacar que no se debe utilizar el conjunto de prueba para seleccionar el valor de lambda, ya que esto introduciría sesgo en la evaluación del rendimiento del modelo. Ajustar hiperparámetros en el conjunto de prueba haría que el modelo parezca funcionar mejor en datos no vistos de lo que sería en la práctica. En cambio, la validación cruzada nos permite evaluar diferentes valores de lambda en el conjunto de entrenamiento y validación sin involucrar el conjunto de prueba. Esto garantiza una estimación más realista del rendimiento del modelo en datos no vistos, ya que el conjunto de prueba se mantiene aislado y no se utiliza en la selección de hiperparámetros."
   ]
  },
  {
   "cell_type": "markdown",
   "id": "fe00351a",
   "metadata": {},
   "source": [
    "## Ejercicio 4"
   ]
  },
  {
   "cell_type": "markdown",
   "id": "4ddcec98",
   "metadata": {},
   "source": [
    "##### El método de K-fold cross-validation se utiliza para evaluar el rendimiento de modelos en machine learning dividiendo el conjunto de datos en K partes y probando iterativamente con una de ellas como conjunto de test y las demás como conjunto de entrenamiento.\n",
    "\n",
    "##### Problema de usar un K muy pequeño: La evaluación puede ser sensible a la partición específica de los datos, lo que podría llevar a sobreajustar el modelo a ciertas peculiaridades y no generalizar bien a otros datos no vistos. \n",
    "\n",
    "##### Problema de usar un K muy grande (p. ej., K=n, LOOCV): En el extremo, esto implica una validación cruzada \"leave-one-out,\" donde se deja una sola muestra como conjunto de test en cada iteración. Aunque proporciona estimaciones de rendimiento más estables, puede ser costoso en términos computacionales, especialmente en conjuntos de datos grandes.\n",
    "\n",
    "##### Cuando K=n (LOOCV), se estima el modelo n veces, una vez por cada muestra en el conjunto de datos, entrenando en todas las muestras excepto una en cada iteración, y dejando la observación individual como testeo. Esto proporciona una estimación precisa del rendimiento, pero puede ser computacionalmente costoso y propenso a alta varianza en los resultados de los modelos. La alta variabilidad en las estimaciones de rendimiento significa que los resultados de cada iteración de LOOCV pueden diferir considerablemente entre sí. Esto puede hacer que sea más difícil confiar en las estimaciones de rendimiento y comparar diferentes configuraciones de modelos o hiperparámetros."
   ]
  },
  {
   "cell_type": "markdown",
   "id": "c50682c7",
   "metadata": {},
   "source": [
    "## Ejercicio 5"
   ]
  },
  {
   "cell_type": "markdown",
   "id": "4b719696",
   "metadata": {},
   "source": [
    "#### Realicen un barrido en λ = 10^n con n ∈ {−5, −4, −3 . . . , +4, +5} y utilicen 10 fold CV para elegir el λ optimo en regresion logistica con Ridge y con LASSO.\n",
    "#### ¿Qué λ seleccionó en cada caso? Generen box-plots mostrando la distribución del error de predicci´on para cada λ. Cada box debe corresponder a un valor de λ y contener como observaciones el error medio de validaci´on para cada partici´on.\n",
    "#### Ademas, para la regularizacion LASSO, genere un box-plot similar, pero ahora graficando la proporci´on de variables ignoradas por el modelo en funci´on de λ, es decir la proporcion de variables para las cuales el coeficiente asociado es cero.\n"
   ]
  },
  {
   "cell_type": "markdown",
   "id": "60c53d47",
   "metadata": {},
   "source": [
    "### Primero identificamos el Lambda óptimo. "
   ]
  },
  {
   "cell_type": "code",
   "execution_count": 69,
   "id": "2e3a96a3",
   "metadata": {},
   "outputs": [],
   "source": [
    "lambda_values = [10**i for i in range(-5, 6)]\n",
    "configuraciones_lasso = []\n",
    "configuraciones_ridge = []\n",
    "\n",
    "for l in lambda_values:\n",
    "    # Para Lasso\n",
    "    config_l = {'penalty': 'l1', 'C': 1/l, 'solver': 'saga'}\n",
    "    configuraciones_lasso.append(config_l)\n",
    "    \n",
    "    # Para Ridge\n",
    "    config_r = {'penalty': 'l2', 'C': 1/l}\n",
    "    configuraciones_ridge.append(config_r) "
   ]
  },
  {
   "cell_type": "code",
   "execution_count": 70,
   "id": "3574e088",
   "metadata": {},
   "outputs": [
    {
     "name": "stdout",
     "output_type": "stream",
     "text": [
      "AUC: 0.7467\n",
      "Confusion Matrix:\n",
      "[[264  70]\n",
      " [ 87 206]]\n",
      "Accuracy Score: 0.7496012759170654\n",
      "AUC: 0.7842\n",
      "Confusion Matrix:\n",
      "[[287  57]\n",
      " [ 75 207]]\n",
      "Accuracy Score: 0.7891373801916933\n",
      "AUC: 0.8161\n",
      "Confusion Matrix:\n",
      "[[266  57]\n",
      " [ 58 245]]\n",
      "Accuracy Score: 0.8162939297124601\n",
      "AUC: 0.8020\n",
      "Confusion Matrix:\n",
      "[[274  49]\n",
      " [ 74 229]]\n",
      "Accuracy Score: 0.8035143769968051\n",
      "AUC: 0.7475\n",
      "Confusion Matrix:\n",
      "[[261  60]\n",
      " [ 97 208]]\n",
      "Accuracy Score: 0.7492012779552716\n",
      "AUC: 0.7485\n",
      "Confusion Matrix:\n",
      "[[264  70]\n",
      " [ 86 207]]\n",
      "Accuracy Score: 0.7511961722488039\n",
      "AUC: 0.7842\n",
      "Confusion Matrix:\n",
      "[[287  57]\n",
      " [ 75 207]]\n",
      "Accuracy Score: 0.7891373801916933\n",
      "AUC: 0.8161\n",
      "Confusion Matrix:\n",
      "[[266  57]\n",
      " [ 58 245]]\n",
      "Accuracy Score: 0.8162939297124601\n",
      "AUC: 0.8020\n",
      "Confusion Matrix:\n",
      "[[274  49]\n",
      " [ 74 229]]\n",
      "Accuracy Score: 0.8035143769968051\n",
      "AUC: 0.7475\n",
      "Confusion Matrix:\n",
      "[[261  60]\n",
      " [ 97 208]]\n",
      "Accuracy Score: 0.7492012779552716\n",
      "AUC: 0.7485\n",
      "Confusion Matrix:\n",
      "[[264  70]\n",
      " [ 86 207]]\n",
      "Accuracy Score: 0.7511961722488039\n",
      "AUC: 0.7842\n",
      "Confusion Matrix:\n",
      "[[287  57]\n",
      " [ 75 207]]\n",
      "Accuracy Score: 0.7891373801916933\n",
      "AUC: 0.8161\n",
      "Confusion Matrix:\n",
      "[[266  57]\n",
      " [ 58 245]]\n",
      "Accuracy Score: 0.8162939297124601\n",
      "AUC: 0.8005\n",
      "Confusion Matrix:\n",
      "[[273  50]\n",
      " [ 74 229]]\n",
      "Accuracy Score: 0.8019169329073482\n",
      "AUC: 0.7475\n",
      "Confusion Matrix:\n",
      "[[261  60]\n",
      " [ 97 208]]\n",
      "Accuracy Score: 0.7492012779552716\n",
      "AUC: 0.7467\n",
      "Confusion Matrix:\n",
      "[[264  70]\n",
      " [ 87 206]]\n",
      "Accuracy Score: 0.7496012759170654\n",
      "AUC: 0.7842\n",
      "Confusion Matrix:\n",
      "[[287  57]\n",
      " [ 75 207]]\n",
      "Accuracy Score: 0.7891373801916933\n",
      "AUC: 0.8144\n",
      "Confusion Matrix:\n",
      "[[266  57]\n",
      " [ 59 244]]\n",
      "Accuracy Score: 0.8146964856230032\n",
      "AUC: 0.8020\n",
      "Confusion Matrix:\n",
      "[[274  49]\n",
      " [ 74 229]]\n",
      "Accuracy Score: 0.8035143769968051\n",
      "AUC: 0.7475\n",
      "Confusion Matrix:\n",
      "[[261  60]\n",
      " [ 97 208]]\n",
      "Accuracy Score: 0.7492012779552716\n",
      "AUC: 0.7485\n",
      "Confusion Matrix:\n",
      "[[264  70]\n",
      " [ 86 207]]\n",
      "Accuracy Score: 0.7511961722488039\n",
      "AUC: 0.7842\n",
      "Confusion Matrix:\n",
      "[[287  57]\n",
      " [ 75 207]]\n",
      "Accuracy Score: 0.7891373801916933\n",
      "AUC: 0.8144\n",
      "Confusion Matrix:\n",
      "[[266  57]\n",
      " [ 59 244]]\n",
      "Accuracy Score: 0.8146964856230032\n",
      "AUC: 0.8020\n",
      "Confusion Matrix:\n",
      "[[274  49]\n",
      " [ 74 229]]\n",
      "Accuracy Score: 0.8035143769968051\n",
      "AUC: 0.7475\n",
      "Confusion Matrix:\n",
      "[[261  60]\n",
      " [ 97 208]]\n",
      "Accuracy Score: 0.7492012779552716\n",
      "AUC: 0.7517\n",
      "Confusion Matrix:\n",
      "[[265  69]\n",
      " [ 85 208]]\n",
      "Accuracy Score: 0.7543859649122807\n",
      "AUC: 0.7880\n",
      "Confusion Matrix:\n",
      "[[286  58]\n",
      " [ 72 210]]\n",
      "Accuracy Score: 0.792332268370607\n",
      "AUC: 0.8163\n",
      "Confusion Matrix:\n",
      "[[264  59]\n",
      " [ 56 247]]\n",
      "Accuracy Score: 0.8162939297124601\n",
      "AUC: 0.8038\n",
      "Confusion Matrix:\n",
      "[[273  50]\n",
      " [ 72 231]]\n",
      "Accuracy Score: 0.805111821086262\n",
      "AUC: 0.7476\n",
      "Confusion Matrix:\n",
      "[[260  61]\n",
      " [ 96 209]]\n",
      "Accuracy Score: 0.7492012779552716\n",
      "AUC: 0.7549\n",
      "Confusion Matrix:\n",
      "[[266  68]\n",
      " [ 84 209]]\n",
      "Accuracy Score: 0.7575757575757576\n",
      "AUC: 0.7695\n",
      "Confusion Matrix:\n",
      "[[283  61]\n",
      " [ 80 202]]\n",
      "Accuracy Score: 0.7747603833865815\n",
      "AUC: 0.8099\n",
      "Confusion Matrix:\n",
      "[[262  61]\n",
      " [ 58 245]]\n",
      "Accuracy Score: 0.8099041533546326\n",
      "AUC: 0.7974\n",
      "Confusion Matrix:\n",
      "[[271  52]\n",
      " [ 74 229]]\n",
      "Accuracy Score: 0.7987220447284346\n",
      "AUC: 0.7362\n",
      "Confusion Matrix:\n",
      "[[259  62]\n",
      " [102 203]]\n",
      "Accuracy Score: 0.7380191693290735\n",
      "AUC: 0.7468\n",
      "Confusion Matrix:\n",
      "[[272  62]\n",
      " [ 94 199]]\n",
      "Accuracy Score: 0.7511961722488039\n",
      "AUC: 0.7558\n",
      "Confusion Matrix:\n",
      "[[287  57]\n",
      " [ 91 191]]\n",
      "Accuracy Score: 0.7635782747603834\n",
      "AUC: 0.7683\n",
      "Confusion Matrix:\n",
      "[[265  58]\n",
      " [ 86 217]]\n",
      "Accuracy Score: 0.7699680511182109\n",
      "AUC: 0.7651\n",
      "Confusion Matrix:\n",
      "[[264  59]\n",
      " [ 87 216]]\n",
      "Accuracy Score: 0.7667731629392971\n",
      "AUC: 0.6970\n",
      "Confusion Matrix:\n",
      "[[257  64]\n",
      " [124 181]]\n",
      "Accuracy Score: 0.6996805111821086\n",
      "AUC: 0.5000\n",
      "Confusion Matrix:\n",
      "[[334   0]\n",
      " [293   0]]\n",
      "Accuracy Score: 0.532695374800638\n",
      "AUC: 0.5000\n",
      "Confusion Matrix:\n",
      "[[344   0]\n",
      " [282   0]]\n",
      "Accuracy Score: 0.549520766773163\n",
      "AUC: 0.5000\n",
      "Confusion Matrix:\n",
      "[[323   0]\n",
      " [303   0]]\n",
      "Accuracy Score: 0.5159744408945687\n",
      "AUC: 0.5000\n",
      "Confusion Matrix:\n",
      "[[323   0]\n",
      " [303   0]]\n",
      "Accuracy Score: 0.5159744408945687\n",
      "AUC: 0.5000\n",
      "Confusion Matrix:\n",
      "[[321   0]\n",
      " [305   0]]\n",
      "Accuracy Score: 0.512779552715655\n",
      "AUC: 0.5000\n",
      "Confusion Matrix:\n",
      "[[334   0]\n",
      " [293   0]]\n",
      "Accuracy Score: 0.532695374800638\n",
      "AUC: 0.5000\n",
      "Confusion Matrix:\n",
      "[[344   0]\n",
      " [282   0]]\n",
      "Accuracy Score: 0.549520766773163\n",
      "AUC: 0.5000\n",
      "Confusion Matrix:\n",
      "[[323   0]\n",
      " [303   0]]\n",
      "Accuracy Score: 0.5159744408945687\n",
      "AUC: 0.5000\n",
      "Confusion Matrix:\n",
      "[[323   0]\n",
      " [303   0]]\n",
      "Accuracy Score: 0.5159744408945687\n",
      "AUC: 0.5000\n",
      "Confusion Matrix:\n",
      "[[321   0]\n",
      " [305   0]]\n",
      "Accuracy Score: 0.512779552715655\n",
      "AUC: 0.5000\n",
      "Confusion Matrix:\n",
      "[[334   0]\n",
      " [293   0]]\n",
      "Accuracy Score: 0.532695374800638\n",
      "AUC: 0.5000\n",
      "Confusion Matrix:\n",
      "[[344   0]\n",
      " [282   0]]\n",
      "Accuracy Score: 0.549520766773163\n",
      "AUC: 0.5000\n",
      "Confusion Matrix:\n",
      "[[323   0]\n",
      " [303   0]]\n",
      "Accuracy Score: 0.5159744408945687\n",
      "AUC: 0.5000\n",
      "Confusion Matrix:\n",
      "[[323   0]\n",
      " [303   0]]\n",
      "Accuracy Score: 0.5159744408945687\n",
      "AUC: 0.5000\n",
      "Confusion Matrix:\n",
      "[[321   0]\n",
      " [305   0]]\n",
      "Accuracy Score: 0.512779552715655\n",
      "AUC: 0.7467\n",
      "Confusion Matrix:\n",
      "[[264  70]\n",
      " [ 87 206]]\n",
      "Accuracy Score: 0.7496012759170654\n",
      "AUC: 0.7842\n",
      "Confusion Matrix:\n",
      "[[287  57]\n",
      " [ 75 207]]\n",
      "Accuracy Score: 0.7891373801916933\n",
      "AUC: 0.8161\n",
      "Confusion Matrix:\n",
      "[[266  57]\n",
      " [ 58 245]]\n",
      "Accuracy Score: 0.8162939297124601\n",
      "AUC: 0.8005\n",
      "Confusion Matrix:\n",
      "[[273  50]\n",
      " [ 74 229]]\n",
      "Accuracy Score: 0.8019169329073482\n",
      "AUC: 0.7475\n",
      "Confusion Matrix:\n",
      "[[261  60]\n",
      " [ 97 208]]\n",
      "Accuracy Score: 0.7492012779552716\n",
      "AUC: 0.7467\n",
      "Confusion Matrix:\n",
      "[[264  70]\n",
      " [ 87 206]]\n",
      "Accuracy Score: 0.7496012759170654\n",
      "AUC: 0.7842\n",
      "Confusion Matrix:\n",
      "[[287  57]\n",
      " [ 75 207]]\n",
      "Accuracy Score: 0.7891373801916933\n",
      "AUC: 0.8161\n",
      "Confusion Matrix:\n",
      "[[266  57]\n",
      " [ 58 245]]\n",
      "Accuracy Score: 0.8162939297124601\n",
      "AUC: 0.8005\n",
      "Confusion Matrix:\n",
      "[[273  50]\n",
      " [ 74 229]]\n",
      "Accuracy Score: 0.8019169329073482\n",
      "AUC: 0.7475\n",
      "Confusion Matrix:\n",
      "[[261  60]\n",
      " [ 97 208]]\n",
      "Accuracy Score: 0.7492012779552716\n",
      "AUC: 0.7467\n",
      "Confusion Matrix:\n",
      "[[264  70]\n",
      " [ 87 206]]\n",
      "Accuracy Score: 0.7496012759170654\n",
      "AUC: 0.7842\n",
      "Confusion Matrix:\n",
      "[[287  57]\n",
      " [ 75 207]]\n",
      "Accuracy Score: 0.7891373801916933\n",
      "AUC: 0.8161\n",
      "Confusion Matrix:\n",
      "[[266  57]\n",
      " [ 58 245]]\n",
      "Accuracy Score: 0.8162939297124601\n",
      "AUC: 0.8005\n",
      "Confusion Matrix:\n",
      "[[273  50]\n",
      " [ 74 229]]\n",
      "Accuracy Score: 0.8019169329073482\n",
      "AUC: 0.7475\n",
      "Confusion Matrix:\n",
      "[[261  60]\n",
      " [ 97 208]]\n",
      "Accuracy Score: 0.7492012779552716\n",
      "AUC: 0.7467\n",
      "Confusion Matrix:\n",
      "[[264  70]\n",
      " [ 87 206]]\n",
      "Accuracy Score: 0.7496012759170654\n",
      "AUC: 0.7842\n",
      "Confusion Matrix:\n",
      "[[287  57]\n",
      " [ 75 207]]\n",
      "Accuracy Score: 0.7891373801916933\n",
      "AUC: 0.8161\n",
      "Confusion Matrix:\n",
      "[[266  57]\n",
      " [ 58 245]]\n",
      "Accuracy Score: 0.8162939297124601\n",
      "AUC: 0.8005\n",
      "Confusion Matrix:\n",
      "[[273  50]\n",
      " [ 74 229]]\n",
      "Accuracy Score: 0.8019169329073482\n",
      "AUC: 0.7475\n",
      "Confusion Matrix:\n",
      "[[261  60]\n",
      " [ 97 208]]\n",
      "Accuracy Score: 0.7492012779552716\n",
      "AUC: 0.7485\n",
      "Confusion Matrix:\n",
      "[[264  70]\n",
      " [ 86 207]]\n",
      "Accuracy Score: 0.7511961722488039\n",
      "AUC: 0.7827\n",
      "Confusion Matrix:\n",
      "[[286  58]\n",
      " [ 75 207]]\n",
      "Accuracy Score: 0.7875399361022364\n",
      "AUC: 0.8144\n",
      "Confusion Matrix:\n",
      "[[266  57]\n",
      " [ 59 244]]\n",
      "Accuracy Score: 0.8146964856230032\n",
      "AUC: 0.8037\n",
      "Confusion Matrix:\n",
      "[[274  49]\n",
      " [ 73 230]]\n",
      "Accuracy Score: 0.805111821086262\n",
      "AUC: 0.7475\n",
      "Confusion Matrix:\n",
      "[[261  60]\n",
      " [ 97 208]]\n",
      "Accuracy Score: 0.7492012779552716\n",
      "AUC: 0.7517\n",
      "Confusion Matrix:\n",
      "[[265  69]\n",
      " [ 85 208]]\n",
      "Accuracy Score: 0.7543859649122807\n",
      "AUC: 0.7895\n",
      "Confusion Matrix:\n",
      "[[287  57]\n",
      " [ 72 210]]\n",
      "Accuracy Score: 0.7939297124600639\n",
      "AUC: 0.8162\n",
      "Confusion Matrix:\n",
      "[[265  58]\n",
      " [ 57 246]]\n",
      "Accuracy Score: 0.8162939297124601\n",
      "AUC: 0.8053\n",
      "Confusion Matrix:\n",
      "[[274  49]\n",
      " [ 72 231]]\n",
      "Accuracy Score: 0.8067092651757188\n",
      "AUC: 0.7475\n",
      "Confusion Matrix:\n",
      "[[261  60]\n",
      " [ 97 208]]\n",
      "Accuracy Score: 0.7492012779552716\n",
      "AUC: 0.7583\n",
      "Confusion Matrix:\n",
      "[[266  68]\n",
      " [ 82 211]]\n",
      "Accuracy Score: 0.7607655502392344\n",
      "AUC: 0.7859\n",
      "Confusion Matrix:\n",
      "[[287  57]\n",
      " [ 74 208]]\n",
      "Accuracy Score: 0.7907348242811502\n",
      "AUC: 0.8146\n",
      "Confusion Matrix:\n",
      "[[264  59]\n",
      " [ 57 246]]\n",
      "Accuracy Score: 0.8146964856230032\n",
      "AUC: 0.8021\n",
      "Confusion Matrix:\n",
      "[[273  50]\n",
      " [ 73 230]]\n",
      "Accuracy Score: 0.8035143769968051\n",
      "AUC: 0.7492\n",
      "Confusion Matrix:\n",
      "[[261  60]\n",
      " [ 96 209]]\n",
      "Accuracy Score: 0.7507987220447284\n",
      "AUC: 0.7606\n",
      "Confusion Matrix:\n",
      "[[271  63]\n",
      " [ 85 208]]\n",
      "Accuracy Score: 0.7639553429027113\n",
      "AUC: 0.7745\n",
      "Confusion Matrix:\n",
      "[[284  60]\n",
      " [ 78 204]]\n",
      "Accuracy Score: 0.7795527156549521\n",
      "AUC: 0.8035\n",
      "Confusion Matrix:\n",
      "[[260  63]\n",
      " [ 60 243]]\n",
      "Accuracy Score: 0.8035143769968051\n",
      "AUC: 0.8134\n",
      "Confusion Matrix:\n",
      "[[276  47]\n",
      " [ 69 234]]\n",
      "Accuracy Score: 0.8146964856230032\n",
      "AUC: 0.7394\n",
      "Confusion Matrix:\n",
      "[[260  61]\n",
      " [101 204]]\n",
      "Accuracy Score: 0.7412140575079872\n"
     ]
    },
    {
     "name": "stdout",
     "output_type": "stream",
     "text": [
      "AUC: 0.7510\n",
      "Confusion Matrix:\n",
      "[[268  66]\n",
      " [ 88 205]]\n",
      "Accuracy Score: 0.7543859649122807\n",
      "AUC: 0.7540\n",
      "Confusion Matrix:\n",
      "[[276  68]\n",
      " [ 83 199]]\n",
      "Accuracy Score: 0.7587859424920128\n",
      "AUC: 0.7794\n",
      "Confusion Matrix:\n",
      "[[253  70]\n",
      " [ 68 235]]\n",
      "Accuracy Score: 0.7795527156549521\n",
      "AUC: 0.7894\n",
      "Confusion Matrix:\n",
      "[[268  55]\n",
      " [ 76 227]]\n",
      "Accuracy Score: 0.7907348242811502\n",
      "AUC: 0.7056\n",
      "Confusion Matrix:\n",
      "[[253  68]\n",
      " [115 190]]\n",
      "Accuracy Score: 0.707667731629393\n",
      "AUC: 0.7256\n",
      "Confusion Matrix:\n",
      "[[259  75]\n",
      " [ 95 198]]\n",
      "Accuracy Score: 0.7288676236044657\n",
      "AUC: 0.7219\n",
      "Confusion Matrix:\n",
      "[[260  84]\n",
      " [ 88 194]]\n",
      "Accuracy Score: 0.7252396166134185\n",
      "AUC: 0.7498\n",
      "Confusion Matrix:\n",
      "[[236  87]\n",
      " [ 70 233]]\n",
      "Accuracy Score: 0.7492012779552716\n",
      "AUC: 0.7566\n",
      "Confusion Matrix:\n",
      "[[250  73]\n",
      " [ 79 224]]\n",
      "Accuracy Score: 0.7571884984025559\n",
      "AUC: 0.6776\n",
      "Confusion Matrix:\n",
      "[[234  87]\n",
      " [114 191]]\n",
      "Accuracy Score: 0.6789137380191693\n",
      "AUC: 0.7126\n",
      "Confusion Matrix:\n",
      "[[256  78]\n",
      " [100 193]]\n",
      "Accuracy Score: 0.7161084529505582\n",
      "AUC: 0.7085\n",
      "Confusion Matrix:\n",
      "[[252  92]\n",
      " [ 89 193]]\n",
      "Accuracy Score: 0.7108626198083067\n",
      "AUC: 0.7275\n",
      "Confusion Matrix:\n",
      "[[228  95]\n",
      " [ 76 227]]\n",
      "Accuracy Score: 0.7268370607028753\n",
      "AUC: 0.7460\n",
      "Confusion Matrix:\n",
      "[[241  82]\n",
      " [ 77 226]]\n",
      "Accuracy Score: 0.7460063897763578\n",
      "AUC: 0.6715\n",
      "Confusion Matrix:\n",
      "[[229  92]\n",
      " [113 192]]\n",
      "Accuracy Score: 0.6725239616613419\n"
     ]
    }
   ],
   "source": [
    "config_opt_lasso = evalua_config([\"lasso\"],lambda_values, X, y)\n",
    "config_opt_ridge = evalua_config([\"ridge\"],lambda_values, X, y)"
   ]
  },
  {
   "cell_type": "code",
   "execution_count": 71,
   "id": "08798951",
   "metadata": {},
   "outputs": [
    {
     "name": "stdout",
     "output_type": "stream",
     "text": [
      "   Model Type        Lambda       ECM\n",
      "0       lasso       0.00001  0.218450\n",
      "1       lasso       0.00010  0.218131\n",
      "2       lasso       0.00100  0.218451\n",
      "3       lasso       0.01000  0.218770\n",
      "4       lasso       0.10000  0.218451\n",
      "5       lasso       1.00000  0.216535\n",
      "6       lasso      10.00000  0.224204\n",
      "7       lasso     100.00000  0.249761\n",
      "8       lasso    1000.00000  0.474611\n",
      "9       lasso   10000.00000  0.474611\n",
      "10      lasso  100000.00000  0.474611\n"
     ]
    }
   ],
   "source": [
    "print(config_opt_lasso)"
   ]
  },
  {
   "cell_type": "code",
   "execution_count": 105,
   "id": "137dfb12",
   "metadata": {},
   "outputs": [
    {
     "name": "stdout",
     "output_type": "stream",
     "text": [
      "Valor óptimo de lambda (Lasso): 1.0\n",
      "Valor óptimo de lambda (Ridge): 100.0\n"
     ]
    }
   ],
   "source": [
    "# Lambda con menor ECM para Lasso\n",
    "mejor_lambda_lasso = config_opt_lasso.loc[config_opt_lasso['ECM'].idxmin()]['Lambda']\n",
    "print(\"Valor óptimo de lambda (Lasso):\", mejor_lambda_lasso)\n",
    "# Lambda con menor ECM para Ridge\n",
    "mejor_lambda_lasso = config_opt_ridge.loc[config_opt_ridge['ECM'].idxmin()]['Lambda']\n",
    "print(\"Valor óptimo de lambda (Ridge):\", mejor_lambda_ridge)"
   ]
  },
  {
   "cell_type": "markdown",
   "id": "0298701e",
   "metadata": {},
   "source": [
    "#### Ahora armaremos tres gráficos. "
   ]
  },
  {
   "cell_type": "markdown",
   "id": "656d3736",
   "metadata": {},
   "source": [
    "## Gráfico 1: Distribución de ECM según el hiperparámetro Lambda, bajo el método Ridge"
   ]
  },
  {
   "cell_type": "code",
   "execution_count": null,
   "id": "0a872e24",
   "metadata": {},
   "outputs": [],
   "source": [
    "k = 10\n",
    "dist_ridge = []\n",
    "\n",
    "# Generaremos dos gráficos, uno por método. En cada gráfico, se muestra la distribución del error de predicción (definido como MSE) según el hiperparámetro lambda.\n",
    "for config in configuraciones_ridge:\n",
    "    modelo = LogisticRegression(max_iter=1000, **config)\n",
    "    resultados = cross_validation(modelo, k, X, y)\n",
    "    ecm_part = resultados[['Particion', 'MSE']]\n",
    "    dist_ridge.append(ecm_part)\n"
   ]
  },
  {
   "cell_type": "code",
   "execution_count": 85,
   "id": "5d2f9ff0",
   "metadata": {},
   "outputs": [
    {
     "name": "stdout",
     "output_type": "stream",
     "text": [
      "AUC: 0.7432\n",
      "Confusion Matrix:\n",
      "[[138  37]\n",
      " [ 42  97]]\n",
      "Accuracy Score: 0.7484076433121019\n",
      "AUC: 0.7532\n",
      "Confusion Matrix:\n",
      "[[128  31]\n",
      " [ 46 108]]\n",
      "Accuracy Score: 0.7539936102236422\n",
      "AUC: 0.7895\n",
      "Confusion Matrix:\n",
      "[[139  26]\n",
      " [ 39 109]]\n",
      "Accuracy Score: 0.792332268370607\n",
      "AUC: 0.7856\n",
      "Confusion Matrix:\n",
      "[[149  30]\n",
      " [ 35  99]]\n",
      "Accuracy Score: 0.792332268370607\n",
      "AUC: 0.8217\n",
      "Confusion Matrix:\n",
      "[[130  23]\n",
      " [ 33 127]]\n",
      "Accuracy Score: 0.8210862619808307\n",
      "AUC: 0.7817\n",
      "Confusion Matrix:\n",
      "[[135  35]\n",
      " [ 33 110]]\n",
      "Accuracy Score: 0.7827476038338658\n",
      "AUC: 0.7850\n",
      "Confusion Matrix:\n",
      "[[124  25]\n",
      " [ 43 121]]\n",
      "Accuracy Score: 0.7827476038338658\n",
      "AUC: 0.8059\n",
      "Confusion Matrix:\n",
      "[[144  30]\n",
      " [ 30 109]]\n",
      "Accuracy Score: 0.8083067092651757\n",
      "AUC: 0.7720\n",
      "Confusion Matrix:\n",
      "[[132  28]\n",
      " [ 43 110]]\n",
      "Accuracy Score: 0.7731629392971247\n",
      "AUC: 0.7232\n",
      "Confusion Matrix:\n",
      "[[128  33]\n",
      " [ 53  99]]\n",
      "Accuracy Score: 0.7252396166134185\n",
      "AUC: 0.7432\n",
      "Confusion Matrix:\n",
      "[[138  37]\n",
      " [ 42  97]]\n",
      "Accuracy Score: 0.7484076433121019\n",
      "AUC: 0.7532\n",
      "Confusion Matrix:\n",
      "[[128  31]\n",
      " [ 46 108]]\n",
      "Accuracy Score: 0.7539936102236422\n",
      "AUC: 0.7895\n",
      "Confusion Matrix:\n",
      "[[139  26]\n",
      " [ 39 109]]\n",
      "Accuracy Score: 0.792332268370607\n",
      "AUC: 0.7856\n",
      "Confusion Matrix:\n",
      "[[149  30]\n",
      " [ 35  99]]\n",
      "Accuracy Score: 0.792332268370607\n",
      "AUC: 0.8217\n",
      "Confusion Matrix:\n",
      "[[130  23]\n",
      " [ 33 127]]\n",
      "Accuracy Score: 0.8210862619808307\n",
      "AUC: 0.7817\n",
      "Confusion Matrix:\n",
      "[[135  35]\n",
      " [ 33 110]]\n",
      "Accuracy Score: 0.7827476038338658\n",
      "AUC: 0.7850\n",
      "Confusion Matrix:\n",
      "[[124  25]\n",
      " [ 43 121]]\n",
      "Accuracy Score: 0.7827476038338658\n",
      "AUC: 0.8059\n",
      "Confusion Matrix:\n",
      "[[144  30]\n",
      " [ 30 109]]\n",
      "Accuracy Score: 0.8083067092651757\n",
      "AUC: 0.7720\n",
      "Confusion Matrix:\n",
      "[[132  28]\n",
      " [ 43 110]]\n",
      "Accuracy Score: 0.7731629392971247\n",
      "AUC: 0.7232\n",
      "Confusion Matrix:\n",
      "[[128  33]\n",
      " [ 53  99]]\n",
      "Accuracy Score: 0.7252396166134185\n",
      "AUC: 0.7432\n",
      "Confusion Matrix:\n",
      "[[138  37]\n",
      " [ 42  97]]\n",
      "Accuracy Score: 0.7484076433121019\n",
      "AUC: 0.7532\n",
      "Confusion Matrix:\n",
      "[[128  31]\n",
      " [ 46 108]]\n",
      "Accuracy Score: 0.7539936102236422\n",
      "AUC: 0.7895\n",
      "Confusion Matrix:\n",
      "[[139  26]\n",
      " [ 39 109]]\n",
      "Accuracy Score: 0.792332268370607\n",
      "AUC: 0.7856\n",
      "Confusion Matrix:\n",
      "[[149  30]\n",
      " [ 35  99]]\n",
      "Accuracy Score: 0.792332268370607\n",
      "AUC: 0.8217\n",
      "Confusion Matrix:\n",
      "[[130  23]\n",
      " [ 33 127]]\n",
      "Accuracy Score: 0.8210862619808307\n",
      "AUC: 0.7817\n",
      "Confusion Matrix:\n",
      "[[135  35]\n",
      " [ 33 110]]\n",
      "Accuracy Score: 0.7827476038338658\n",
      "AUC: 0.7850\n",
      "Confusion Matrix:\n",
      "[[124  25]\n",
      " [ 43 121]]\n",
      "Accuracy Score: 0.7827476038338658\n",
      "AUC: 0.8059\n",
      "Confusion Matrix:\n",
      "[[144  30]\n",
      " [ 30 109]]\n",
      "Accuracy Score: 0.8083067092651757\n",
      "AUC: 0.7720\n",
      "Confusion Matrix:\n",
      "[[132  28]\n",
      " [ 43 110]]\n",
      "Accuracy Score: 0.7731629392971247\n",
      "AUC: 0.7232\n",
      "Confusion Matrix:\n",
      "[[128  33]\n",
      " [ 53  99]]\n",
      "Accuracy Score: 0.7252396166134185\n",
      "AUC: 0.7432\n",
      "Confusion Matrix:\n",
      "[[138  37]\n",
      " [ 42  97]]\n",
      "Accuracy Score: 0.7484076433121019\n",
      "AUC: 0.7532\n",
      "Confusion Matrix:\n",
      "[[128  31]\n",
      " [ 46 108]]\n",
      "Accuracy Score: 0.7539936102236422\n",
      "AUC: 0.7895\n",
      "Confusion Matrix:\n",
      "[[139  26]\n",
      " [ 39 109]]\n",
      "Accuracy Score: 0.792332268370607\n",
      "AUC: 0.7856\n",
      "Confusion Matrix:\n",
      "[[149  30]\n",
      " [ 35  99]]\n",
      "Accuracy Score: 0.792332268370607\n",
      "AUC: 0.8217\n",
      "Confusion Matrix:\n",
      "[[130  23]\n",
      " [ 33 127]]\n",
      "Accuracy Score: 0.8210862619808307\n",
      "AUC: 0.7817\n",
      "Confusion Matrix:\n",
      "[[135  35]\n",
      " [ 33 110]]\n",
      "Accuracy Score: 0.7827476038338658\n",
      "AUC: 0.7850\n",
      "Confusion Matrix:\n",
      "[[124  25]\n",
      " [ 43 121]]\n",
      "Accuracy Score: 0.7827476038338658\n",
      "AUC: 0.8059\n",
      "Confusion Matrix:\n",
      "[[144  30]\n",
      " [ 30 109]]\n",
      "Accuracy Score: 0.8083067092651757\n",
      "AUC: 0.7720\n",
      "Confusion Matrix:\n",
      "[[132  28]\n",
      " [ 43 110]]\n",
      "Accuracy Score: 0.7731629392971247\n",
      "AUC: 0.7232\n",
      "Confusion Matrix:\n",
      "[[128  33]\n",
      " [ 53  99]]\n",
      "Accuracy Score: 0.7252396166134185\n",
      "AUC: 0.7432\n",
      "Confusion Matrix:\n",
      "[[138  37]\n",
      " [ 42  97]]\n",
      "Accuracy Score: 0.7484076433121019\n",
      "AUC: 0.7596\n",
      "Confusion Matrix:\n",
      "[[129  30]\n",
      " [ 45 109]]\n",
      "Accuracy Score: 0.7603833865814696\n",
      "AUC: 0.7895\n",
      "Confusion Matrix:\n",
      "[[139  26]\n",
      " [ 39 109]]\n",
      "Accuracy Score: 0.792332268370607\n",
      "AUC: 0.7856\n",
      "Confusion Matrix:\n",
      "[[149  30]\n",
      " [ 35  99]]\n",
      "Accuracy Score: 0.792332268370607\n",
      "AUC: 0.8250\n",
      "Confusion Matrix:\n",
      "[[131  22]\n",
      " [ 33 127]]\n",
      "Accuracy Score: 0.8242811501597445\n",
      "AUC: 0.7817\n",
      "Confusion Matrix:\n",
      "[[135  35]\n",
      " [ 33 110]]\n",
      "Accuracy Score: 0.7827476038338658\n",
      "AUC: 0.7850\n",
      "Confusion Matrix:\n",
      "[[124  25]\n",
      " [ 43 121]]\n",
      "Accuracy Score: 0.7827476038338658\n",
      "AUC: 0.8116\n",
      "Confusion Matrix:\n",
      "[[146  28]\n",
      " [ 30 109]]\n",
      "Accuracy Score: 0.8146964856230032\n",
      "AUC: 0.7720\n",
      "Confusion Matrix:\n",
      "[[132  28]\n",
      " [ 43 110]]\n",
      "Accuracy Score: 0.7731629392971247\n",
      "AUC: 0.7232\n",
      "Confusion Matrix:\n",
      "[[128  33]\n",
      " [ 53  99]]\n",
      "Accuracy Score: 0.7252396166134185\n",
      "AUC: 0.7468\n",
      "Confusion Matrix:\n",
      "[[138  37]\n",
      " [ 41  98]]\n",
      "Accuracy Score: 0.7515923566878981\n",
      "AUC: 0.7627\n",
      "Confusion Matrix:\n",
      "[[130  29]\n",
      " [ 45 109]]\n",
      "Accuracy Score: 0.7635782747603834\n",
      "AUC: 0.7962\n",
      "Confusion Matrix:\n",
      "[[139  26]\n",
      " [ 37 111]]\n",
      "Accuracy Score: 0.7987220447284346\n",
      "AUC: 0.7893\n",
      "Confusion Matrix:\n",
      "[[149  30]\n",
      " [ 34 100]]\n",
      "Accuracy Score: 0.7955271565495208\n",
      "AUC: 0.8281\n",
      "Confusion Matrix:\n",
      "[[131  22]\n",
      " [ 32 128]]\n",
      "Accuracy Score: 0.8274760383386581\n",
      "AUC: 0.7822\n",
      "Confusion Matrix:\n",
      "[[134  36]\n",
      " [ 32 111]]\n",
      "Accuracy Score: 0.7827476038338658\n",
      "AUC: 0.7850\n",
      "Confusion Matrix:\n",
      "[[124  25]\n",
      " [ 43 121]]\n",
      "Accuracy Score: 0.7827476038338658\n",
      "AUC: 0.8181\n",
      "Confusion Matrix:\n",
      "[[147  27]\n",
      " [ 29 110]]\n",
      "Accuracy Score: 0.8210862619808307\n",
      "AUC: 0.7751\n",
      "Confusion Matrix:\n",
      "[[133  27]\n",
      " [ 43 110]]\n",
      "Accuracy Score: 0.7763578274760383\n",
      "AUC: 0.7232\n",
      "Confusion Matrix:\n",
      "[[128  33]\n",
      " [ 53  99]]\n",
      "Accuracy Score: 0.7252396166134185\n",
      "AUC: 0.7533\n",
      "Confusion Matrix:\n",
      "[[139  36]\n",
      " [ 40  99]]\n",
      "Accuracy Score: 0.7579617834394905\n",
      "AUC: 0.7597\n",
      "Confusion Matrix:\n",
      "[[128  31]\n",
      " [ 44 110]]\n",
      "Accuracy Score: 0.7603833865814696\n",
      "AUC: 0.7959\n",
      "Confusion Matrix:\n",
      "[[140  25]\n",
      " [ 38 110]]\n",
      "Accuracy Score: 0.7987220447284346\n",
      "AUC: 0.7791\n",
      "Confusion Matrix:\n",
      "[[148  31]\n",
      " [ 36  98]]\n",
      "Accuracy Score: 0.7859424920127795\n",
      "AUC: 0.8373\n",
      "Confusion Matrix:\n",
      "[[130  23]\n",
      " [ 28 132]]\n",
      "Accuracy Score: 0.8370607028753994\n",
      "AUC: 0.7922\n",
      "Confusion Matrix:\n",
      "[[135  35]\n",
      " [ 30 113]]\n",
      "Accuracy Score: 0.792332268370607\n",
      "AUC: 0.7847\n",
      "Confusion Matrix:\n",
      "[[123  26]\n",
      " [ 42 122]]\n",
      "Accuracy Score: 0.7827476038338658\n",
      "AUC: 0.8152\n",
      "Confusion Matrix:\n",
      "[[146  28]\n",
      " [ 29 110]]\n",
      "Accuracy Score: 0.8178913738019169\n",
      "AUC: 0.7751\n",
      "Confusion Matrix:\n",
      "[[133  27]\n",
      " [ 43 110]]\n",
      "Accuracy Score: 0.7763578274760383\n",
      "AUC: 0.7201\n",
      "Confusion Matrix:\n",
      "[[127  34]\n",
      " [ 53  99]]\n",
      "Accuracy Score: 0.7220447284345048\n",
      "AUC: 0.7554\n",
      "Confusion Matrix:\n",
      "[[141  34]\n",
      " [ 41  98]]\n",
      "Accuracy Score: 0.7611464968152867\n",
      "AUC: 0.7563\n",
      "Confusion Matrix:\n",
      "[[129  30]\n",
      " [ 46 108]]\n",
      "Accuracy Score: 0.7571884984025559\n",
      "AUC: 0.7868\n",
      "Confusion Matrix:\n",
      "[[137  28]\n",
      " [ 38 110]]\n",
      "Accuracy Score: 0.7891373801916933\n",
      "AUC: 0.7670\n",
      "Confusion Matrix:\n",
      "[[145  34]\n",
      " [ 37  97]]\n",
      "Accuracy Score: 0.7731629392971247\n",
      "AUC: 0.8183\n",
      "Confusion Matrix:\n",
      "[[128  25]\n",
      " [ 32 128]]\n",
      "Accuracy Score: 0.8178913738019169\n",
      "AUC: 0.8021\n",
      "Confusion Matrix:\n",
      "[[136  34]\n",
      " [ 28 115]]\n",
      "Accuracy Score: 0.8019169329073482\n",
      "AUC: 0.7945\n",
      "Confusion Matrix:\n",
      "[[125  24]\n",
      " [ 41 123]]\n",
      "Accuracy Score: 0.792332268370607\n",
      "AUC: 0.8246\n",
      "Confusion Matrix:\n",
      "[[148  26]\n",
      " [ 28 111]]\n",
      "Accuracy Score: 0.8274760383386581\n",
      "AUC: 0.7750\n",
      "Confusion Matrix:\n",
      "[[134  26]\n",
      " [ 44 109]]\n",
      "Accuracy Score: 0.7763578274760383\n",
      "AUC: 0.7036\n",
      "Confusion Matrix:\n",
      "[[127  34]\n",
      " [ 58  94]]\n",
      "Accuracy Score: 0.7060702875399361\n",
      "AUC: 0.7245\n",
      "Confusion Matrix:\n",
      "[[139  36]\n",
      " [ 48  91]]\n",
      "Accuracy Score: 0.732484076433121\n",
      "AUC: 0.7687\n",
      "Confusion Matrix:\n",
      "[[135  24]\n",
      " [ 48 106]]\n",
      "Accuracy Score: 0.7699680511182109\n",
      "AUC: 0.7405\n",
      "Confusion Matrix:\n",
      "[[134  31]\n",
      " [ 49  99]]\n",
      "Accuracy Score: 0.744408945686901\n",
      "AUC: 0.7735\n",
      "Confusion Matrix:\n",
      "[[150  29]\n",
      " [ 39  95]]\n",
      "Accuracy Score: 0.7827476038338658\n",
      "AUC: 0.8123\n",
      "Confusion Matrix:\n",
      "[[130  23]\n",
      " [ 36 124]]\n",
      "Accuracy Score: 0.8115015974440895\n",
      "AUC: 0.7787\n",
      "Confusion Matrix:\n",
      "[[134  36]\n",
      " [ 33 110]]\n",
      "Accuracy Score: 0.7795527156549521\n",
      "AUC: 0.7829\n",
      "Confusion Matrix:\n",
      "[[127  22]\n",
      " [ 47 117]]\n",
      "Accuracy Score: 0.7795527156549521\n",
      "AUC: 0.7979\n",
      "Confusion Matrix:\n",
      "[[150  24]\n",
      " [ 37 102]]\n",
      "Accuracy Score: 0.805111821086262\n",
      "AUC: 0.7423\n",
      "Confusion Matrix:\n",
      "[[134  26]\n",
      " [ 54  99]]\n",
      "Accuracy Score: 0.744408945686901\n",
      "AUC: 0.6775\n",
      "Confusion Matrix:\n",
      "[[126  35]\n",
      " [ 65  87]]\n",
      "Accuracy Score: 0.6805111821086262\n",
      "AUC: 0.6976\n",
      "Confusion Matrix:\n",
      "[[151  24]\n",
      " [ 65  74]]\n",
      "Accuracy Score: 0.7165605095541401\n",
      "AUC: 0.7032\n",
      "Confusion Matrix:\n",
      "[[140  19]\n",
      " [ 73  81]]\n",
      "Accuracy Score: 0.7060702875399361\n",
      "AUC: 0.6561\n",
      "Confusion Matrix:\n",
      "[[134  31]\n",
      " [ 74  74]]\n",
      "Accuracy Score: 0.6645367412140575\n",
      "AUC: 0.7259\n",
      "Confusion Matrix:\n",
      "[[145  34]\n",
      " [ 48  86]]\n",
      "Accuracy Score: 0.7380191693290735\n",
      "AUC: 0.7791\n"
     ]
    },
    {
     "name": "stdout",
     "output_type": "stream",
     "text": [
      "Confusion Matrix:\n",
      "[[138  15]\n",
      " [ 55 105]]\n",
      "Accuracy Score: 0.7763578274760383\n",
      "AUC: 0.7003\n",
      "Confusion Matrix:\n",
      "[[143  27]\n",
      " [ 63  80]]\n",
      "Accuracy Score: 0.7124600638977636\n",
      "AUC: 0.7326\n",
      "Confusion Matrix:\n",
      "[[132  17]\n",
      " [ 69  95]]\n",
      "Accuracy Score: 0.7252396166134185\n",
      "AUC: 0.7361\n",
      "Confusion Matrix:\n",
      "[[151  23]\n",
      " [ 55  84]]\n",
      "Accuracy Score: 0.7507987220447284\n",
      "AUC: 0.6769\n",
      "Confusion Matrix:\n",
      "[[134  26]\n",
      " [ 74  79]]\n",
      "Accuracy Score: 0.6805111821086262\n",
      "AUC: 0.6530\n",
      "Confusion Matrix:\n",
      "[[134  27]\n",
      " [ 80  72]]\n",
      "Accuracy Score: 0.65814696485623\n",
      "AUC: 0.5252\n",
      "Confusion Matrix:\n",
      "[[175   0]\n",
      " [132   7]]\n",
      "Accuracy Score: 0.5796178343949044\n",
      "AUC: 0.5130\n",
      "Confusion Matrix:\n",
      "[[159   0]\n",
      " [150   4]]\n",
      "Accuracy Score: 0.5207667731629393\n",
      "AUC: 0.5236\n",
      "Confusion Matrix:\n",
      "[[165   0]\n",
      " [141   7]]\n",
      "Accuracy Score: 0.549520766773163\n",
      "AUC: 0.5410\n",
      "Confusion Matrix:\n",
      "[[179   0]\n",
      " [123  11]]\n",
      "Accuracy Score: 0.6070287539936102\n",
      "AUC: 0.5219\n",
      "Confusion Matrix:\n",
      "[[153   0]\n",
      " [153   7]]\n",
      "Accuracy Score: 0.5111821086261981\n",
      "AUC: 0.5175\n",
      "Confusion Matrix:\n",
      "[[170   0]\n",
      " [138   5]]\n",
      "Accuracy Score: 0.5591054313099042\n",
      "AUC: 0.5091\n",
      "Confusion Matrix:\n",
      "[[149   0]\n",
      " [161   3]]\n",
      "Accuracy Score: 0.48562300319488816\n",
      "AUC: 0.5252\n",
      "Confusion Matrix:\n",
      "[[174   0]\n",
      " [132   7]]\n",
      "Accuracy Score: 0.5782747603833865\n",
      "AUC: 0.5196\n",
      "Confusion Matrix:\n",
      "[[160   0]\n",
      " [147   6]]\n",
      "Accuracy Score: 0.5303514376996805\n",
      "AUC: 0.5230\n",
      "Confusion Matrix:\n",
      "[[161   0]\n",
      " [145   7]]\n",
      "Accuracy Score: 0.536741214057508\n"
     ]
    },
    {
     "ename": "ValueError",
     "evalue": "Invalid RGBA argument: 'lightmagenta'",
     "output_type": "error",
     "traceback": [
      "\u001b[1;31m---------------------------------------------------------------------------\u001b[0m",
      "\u001b[1;31mValueError\u001b[0m                                Traceback (most recent call last)",
      "\u001b[1;32m<ipython-input-85-6b73870a3cb9>\u001b[0m in \u001b[0;36m<module>\u001b[1;34m\u001b[0m\n\u001b[0;32m     24\u001b[0m \u001b[0mcolors\u001b[0m \u001b[1;33m=\u001b[0m \u001b[1;33m[\u001b[0m\u001b[1;34m'lightblue'\u001b[0m\u001b[1;33m,\u001b[0m \u001b[1;34m'lightgreen'\u001b[0m\u001b[1;33m,\u001b[0m \u001b[1;34m'lightcoral'\u001b[0m\u001b[1;33m,\u001b[0m \u001b[1;34m'lightpink'\u001b[0m\u001b[1;33m,\u001b[0m \u001b[1;34m'lightyellow'\u001b[0m\u001b[1;33m,\u001b[0m \u001b[1;34m'lightgray'\u001b[0m\u001b[1;33m,\u001b[0m \u001b[1;34m'lightcyan'\u001b[0m\u001b[1;33m,\u001b[0m \u001b[1;34m'lightmagenta'\u001b[0m\u001b[1;33m,\u001b[0m \u001b[1;34m'lightsalmon'\u001b[0m\u001b[1;33m,\u001b[0m \u001b[1;34m'lightseagreen'\u001b[0m\u001b[1;33m]\u001b[0m\u001b[1;33m\u001b[0m\u001b[1;33m\u001b[0m\u001b[0m\n\u001b[0;32m     25\u001b[0m \u001b[1;32mfor\u001b[0m \u001b[0mpatch\u001b[0m\u001b[1;33m,\u001b[0m \u001b[0mcolor\u001b[0m \u001b[1;32min\u001b[0m \u001b[0mzip\u001b[0m\u001b[1;33m(\u001b[0m\u001b[0mboxplots\u001b[0m\u001b[1;33m[\u001b[0m\u001b[1;34m'boxes'\u001b[0m\u001b[1;33m]\u001b[0m\u001b[1;33m,\u001b[0m \u001b[0mcolors\u001b[0m\u001b[1;33m)\u001b[0m\u001b[1;33m:\u001b[0m\u001b[1;33m\u001b[0m\u001b[1;33m\u001b[0m\u001b[0m\n\u001b[1;32m---> 26\u001b[1;33m     \u001b[0mpatch\u001b[0m\u001b[1;33m.\u001b[0m\u001b[0mset_facecolor\u001b[0m\u001b[1;33m(\u001b[0m\u001b[0mcolor\u001b[0m\u001b[1;33m)\u001b[0m\u001b[1;33m\u001b[0m\u001b[1;33m\u001b[0m\u001b[0m\n\u001b[0m\u001b[0;32m     27\u001b[0m \u001b[1;33m\u001b[0m\u001b[0m\n\u001b[0;32m     28\u001b[0m \u001b[1;31m# Configurar el gráfico\u001b[0m\u001b[1;33m\u001b[0m\u001b[1;33m\u001b[0m\u001b[1;33m\u001b[0m\u001b[0m\n",
      "\u001b[1;32m~\\anaconda3\\lib\\site-packages\\matplotlib\\patches.py\u001b[0m in \u001b[0;36mset_facecolor\u001b[1;34m(self, color)\u001b[0m\n\u001b[0;32m    353\u001b[0m         \"\"\"\n\u001b[0;32m    354\u001b[0m         \u001b[0mself\u001b[0m\u001b[1;33m.\u001b[0m\u001b[0m_original_facecolor\u001b[0m \u001b[1;33m=\u001b[0m \u001b[0mcolor\u001b[0m\u001b[1;33m\u001b[0m\u001b[1;33m\u001b[0m\u001b[0m\n\u001b[1;32m--> 355\u001b[1;33m         \u001b[0mself\u001b[0m\u001b[1;33m.\u001b[0m\u001b[0m_set_facecolor\u001b[0m\u001b[1;33m(\u001b[0m\u001b[0mcolor\u001b[0m\u001b[1;33m)\u001b[0m\u001b[1;33m\u001b[0m\u001b[1;33m\u001b[0m\u001b[0m\n\u001b[0m\u001b[0;32m    356\u001b[0m \u001b[1;33m\u001b[0m\u001b[0m\n\u001b[0;32m    357\u001b[0m     \u001b[1;32mdef\u001b[0m \u001b[0mset_color\u001b[0m\u001b[1;33m(\u001b[0m\u001b[0mself\u001b[0m\u001b[1;33m,\u001b[0m \u001b[0mc\u001b[0m\u001b[1;33m)\u001b[0m\u001b[1;33m:\u001b[0m\u001b[1;33m\u001b[0m\u001b[1;33m\u001b[0m\u001b[0m\n",
      "\u001b[1;32m~\\anaconda3\\lib\\site-packages\\matplotlib\\patches.py\u001b[0m in \u001b[0;36m_set_facecolor\u001b[1;34m(self, color)\u001b[0m\n\u001b[0;32m    341\u001b[0m             \u001b[0mcolor\u001b[0m \u001b[1;33m=\u001b[0m \u001b[0mmpl\u001b[0m\u001b[1;33m.\u001b[0m\u001b[0mrcParams\u001b[0m\u001b[1;33m[\u001b[0m\u001b[1;34m'patch.facecolor'\u001b[0m\u001b[1;33m]\u001b[0m\u001b[1;33m\u001b[0m\u001b[1;33m\u001b[0m\u001b[0m\n\u001b[0;32m    342\u001b[0m         \u001b[0malpha\u001b[0m \u001b[1;33m=\u001b[0m \u001b[0mself\u001b[0m\u001b[1;33m.\u001b[0m\u001b[0m_alpha\u001b[0m \u001b[1;32mif\u001b[0m \u001b[0mself\u001b[0m\u001b[1;33m.\u001b[0m\u001b[0m_fill\u001b[0m \u001b[1;32melse\u001b[0m \u001b[1;36m0\u001b[0m\u001b[1;33m\u001b[0m\u001b[1;33m\u001b[0m\u001b[0m\n\u001b[1;32m--> 343\u001b[1;33m         \u001b[0mself\u001b[0m\u001b[1;33m.\u001b[0m\u001b[0m_facecolor\u001b[0m \u001b[1;33m=\u001b[0m \u001b[0mcolors\u001b[0m\u001b[1;33m.\u001b[0m\u001b[0mto_rgba\u001b[0m\u001b[1;33m(\u001b[0m\u001b[0mcolor\u001b[0m\u001b[1;33m,\u001b[0m \u001b[0malpha\u001b[0m\u001b[1;33m)\u001b[0m\u001b[1;33m\u001b[0m\u001b[1;33m\u001b[0m\u001b[0m\n\u001b[0m\u001b[0;32m    344\u001b[0m         \u001b[0mself\u001b[0m\u001b[1;33m.\u001b[0m\u001b[0mstale\u001b[0m \u001b[1;33m=\u001b[0m \u001b[1;32mTrue\u001b[0m\u001b[1;33m\u001b[0m\u001b[1;33m\u001b[0m\u001b[0m\n\u001b[0;32m    345\u001b[0m \u001b[1;33m\u001b[0m\u001b[0m\n",
      "\u001b[1;32m~\\anaconda3\\lib\\site-packages\\matplotlib\\colors.py\u001b[0m in \u001b[0;36mto_rgba\u001b[1;34m(c, alpha)\u001b[0m\n\u001b[0;32m    187\u001b[0m         \u001b[0mrgba\u001b[0m \u001b[1;33m=\u001b[0m \u001b[1;32mNone\u001b[0m\u001b[1;33m\u001b[0m\u001b[1;33m\u001b[0m\u001b[0m\n\u001b[0;32m    188\u001b[0m     \u001b[1;32mif\u001b[0m \u001b[0mrgba\u001b[0m \u001b[1;32mis\u001b[0m \u001b[1;32mNone\u001b[0m\u001b[1;33m:\u001b[0m  \u001b[1;31m# Suppress exception chaining of cache lookup failure.\u001b[0m\u001b[1;33m\u001b[0m\u001b[1;33m\u001b[0m\u001b[0m\n\u001b[1;32m--> 189\u001b[1;33m         \u001b[0mrgba\u001b[0m \u001b[1;33m=\u001b[0m \u001b[0m_to_rgba_no_colorcycle\u001b[0m\u001b[1;33m(\u001b[0m\u001b[0mc\u001b[0m\u001b[1;33m,\u001b[0m \u001b[0malpha\u001b[0m\u001b[1;33m)\u001b[0m\u001b[1;33m\u001b[0m\u001b[1;33m\u001b[0m\u001b[0m\n\u001b[0m\u001b[0;32m    190\u001b[0m         \u001b[1;32mtry\u001b[0m\u001b[1;33m:\u001b[0m\u001b[1;33m\u001b[0m\u001b[1;33m\u001b[0m\u001b[0m\n\u001b[0;32m    191\u001b[0m             \u001b[0m_colors_full_map\u001b[0m\u001b[1;33m.\u001b[0m\u001b[0mcache\u001b[0m\u001b[1;33m[\u001b[0m\u001b[0mc\u001b[0m\u001b[1;33m,\u001b[0m \u001b[0malpha\u001b[0m\u001b[1;33m]\u001b[0m \u001b[1;33m=\u001b[0m \u001b[0mrgba\u001b[0m\u001b[1;33m\u001b[0m\u001b[1;33m\u001b[0m\u001b[0m\n",
      "\u001b[1;32m~\\anaconda3\\lib\\site-packages\\matplotlib\\colors.py\u001b[0m in \u001b[0;36m_to_rgba_no_colorcycle\u001b[1;34m(c, alpha)\u001b[0m\n\u001b[0;32m    258\u001b[0m                     f\"Value must be within 0-1 range\")\n\u001b[0;32m    259\u001b[0m             \u001b[1;32mreturn\u001b[0m \u001b[0mc\u001b[0m\u001b[1;33m,\u001b[0m \u001b[0mc\u001b[0m\u001b[1;33m,\u001b[0m \u001b[0mc\u001b[0m\u001b[1;33m,\u001b[0m \u001b[0malpha\u001b[0m \u001b[1;32mif\u001b[0m \u001b[0malpha\u001b[0m \u001b[1;32mis\u001b[0m \u001b[1;32mnot\u001b[0m \u001b[1;32mNone\u001b[0m \u001b[1;32melse\u001b[0m \u001b[1;36m1.\u001b[0m\u001b[1;33m\u001b[0m\u001b[1;33m\u001b[0m\u001b[0m\n\u001b[1;32m--> 260\u001b[1;33m         \u001b[1;32mraise\u001b[0m \u001b[0mValueError\u001b[0m\u001b[1;33m(\u001b[0m\u001b[1;34mf\"Invalid RGBA argument: {orig_c!r}\"\u001b[0m\u001b[1;33m)\u001b[0m\u001b[1;33m\u001b[0m\u001b[1;33m\u001b[0m\u001b[0m\n\u001b[0m\u001b[0;32m    261\u001b[0m     \u001b[1;31m# tuple color.\u001b[0m\u001b[1;33m\u001b[0m\u001b[1;33m\u001b[0m\u001b[1;33m\u001b[0m\u001b[0m\n\u001b[0;32m    262\u001b[0m     \u001b[1;32mif\u001b[0m \u001b[1;32mnot\u001b[0m \u001b[0mnp\u001b[0m\u001b[1;33m.\u001b[0m\u001b[0miterable\u001b[0m\u001b[1;33m(\u001b[0m\u001b[0mc\u001b[0m\u001b[1;33m)\u001b[0m\u001b[1;33m:\u001b[0m\u001b[1;33m\u001b[0m\u001b[1;33m\u001b[0m\u001b[0m\n",
      "\u001b[1;31mValueError\u001b[0m: Invalid RGBA argument: 'lightmagenta'"
     ]
    },
    {
     "data": {
      "image/png": "[encoded data removed]",
      "text/plain": [
       "<Figure size 720x432 with 1 Axes>"
      ]
     },
     "metadata": {
      "needs_background": "light"
     },
     "output_type": "display_data"
    }
   ],
   "source": [
    "# Crear un gráfico con 10 boxplots\n",
    "fig, ax = plt.subplots(figsize=(10, 6))\n",
    "\n",
    "# Lista de etiquetas para los boxplots\n",
    "#labels = [f'DataFrame {i + 1}' for i in range(10)]\n",
    "\n",
    "# Recopilar todas las distribuciones de MSE\n",
    "mse_data = [ecm_part['MSE'].values for ecm_part in dist_ridge]\n",
    "\n",
    "# Crear los boxplots y agregarlos al gráfico\n",
    "boxplots = ax.boxplot(mse_data, patch_artist=True)\n",
    "\n",
    "# Personalizar los colores de los boxplots\n",
    "colors = ['lightblue', 'lightgreen', 'lightcoral', 'lightpink', 'lightyellow', 'lightgray', 'lightcyan', 'lightmagenta', 'lightsalmon', 'lightseagreen']\n",
    "for patch, color in zip(boxplots['boxes'], colors):\n",
    "    patch.set_facecolor(color)\n",
    "\n",
    "# Configurar el gráfico\n",
    "ax.set(title='Distribuciones de MSE, según el parámetro lambda', xlabel='Lambdas', ylabel='MSE')"
   ]
  },
  {
   "cell_type": "markdown",
   "id": "610af281",
   "metadata": {},
   "source": [
    "## Gráficos 2 y 3: Distribución de ECM y de proporción de variables con coeficiente igual a cero, según Lambda, bajo metodología LASSO"
   ]
  },
  {
   "cell_type": "code",
   "execution_count": 89,
   "id": "0710940b",
   "metadata": {},
   "outputs": [
    {
     "name": "stderr",
     "output_type": "stream",
     "text": [
      "C:\\Users\\Paula\\anaconda3\\lib\\site-packages\\sklearn\\linear_model\\_sag.py:328: ConvergenceWarning: The max_iter was reached which means the coef_ did not converge\n",
      "  warnings.warn(\"The max_iter was reached which means \"\n"
     ]
    },
    {
     "name": "stdout",
     "output_type": "stream",
     "text": [
      "AUC: 0.7468\n",
      "Confusion Matrix:\n",
      "[[138  37]\n",
      " [ 41  98]]\n",
      "Accuracy Score: 0.7515923566878981\n"
     ]
    },
    {
     "name": "stderr",
     "output_type": "stream",
     "text": [
      "C:\\Users\\Paula\\anaconda3\\lib\\site-packages\\sklearn\\linear_model\\_sag.py:328: ConvergenceWarning: The max_iter was reached which means the coef_ did not converge\n",
      "  warnings.warn(\"The max_iter was reached which means \"\n"
     ]
    },
    {
     "name": "stdout",
     "output_type": "stream",
     "text": [
      "AUC: 0.7659\n",
      "Confusion Matrix:\n",
      "[[130  29]\n",
      " [ 44 110]]\n",
      "Accuracy Score: 0.7667731629392971\n"
     ]
    },
    {
     "name": "stderr",
     "output_type": "stream",
     "text": [
      "C:\\Users\\Paula\\anaconda3\\lib\\site-packages\\sklearn\\linear_model\\_sag.py:328: ConvergenceWarning: The max_iter was reached which means the coef_ did not converge\n",
      "  warnings.warn(\"The max_iter was reached which means \"\n"
     ]
    },
    {
     "name": "stdout",
     "output_type": "stream",
     "text": [
      "AUC: 0.7992\n",
      "Confusion Matrix:\n",
      "[[140  25]\n",
      " [ 37 111]]\n",
      "Accuracy Score: 0.8019169329073482\n"
     ]
    },
    {
     "name": "stderr",
     "output_type": "stream",
     "text": [
      "C:\\Users\\Paula\\anaconda3\\lib\\site-packages\\sklearn\\linear_model\\_sag.py:328: ConvergenceWarning: The max_iter was reached which means the coef_ did not converge\n",
      "  warnings.warn(\"The max_iter was reached which means \"\n"
     ]
    },
    {
     "name": "stdout",
     "output_type": "stream",
     "text": [
      "AUC: 0.7865\n",
      "Confusion Matrix:\n",
      "[[148  31]\n",
      " [ 34 100]]\n",
      "Accuracy Score: 0.792332268370607\n"
     ]
    },
    {
     "name": "stderr",
     "output_type": "stream",
     "text": [
      "C:\\Users\\Paula\\anaconda3\\lib\\site-packages\\sklearn\\linear_model\\_sag.py:328: ConvergenceWarning: The max_iter was reached which means the coef_ did not converge\n",
      "  warnings.warn(\"The max_iter was reached which means \"\n"
     ]
    },
    {
     "name": "stdout",
     "output_type": "stream",
     "text": [
      "AUC: 0.8375\n",
      "Confusion Matrix:\n",
      "[[131  22]\n",
      " [ 29 131]]\n",
      "Accuracy Score: 0.8370607028753994\n"
     ]
    },
    {
     "name": "stderr",
     "output_type": "stream",
     "text": [
      "C:\\Users\\Paula\\anaconda3\\lib\\site-packages\\sklearn\\linear_model\\_sag.py:328: ConvergenceWarning: The max_iter was reached which means the coef_ did not converge\n",
      "  warnings.warn(\"The max_iter was reached which means \"\n"
     ]
    },
    {
     "name": "stdout",
     "output_type": "stream",
     "text": [
      "AUC: 0.7887\n",
      "Confusion Matrix:\n",
      "[[135  35]\n",
      " [ 31 112]]\n",
      "Accuracy Score: 0.7891373801916933\n"
     ]
    },
    {
     "name": "stderr",
     "output_type": "stream",
     "text": [
      "C:\\Users\\Paula\\anaconda3\\lib\\site-packages\\sklearn\\linear_model\\_sag.py:328: ConvergenceWarning: The max_iter was reached which means the coef_ did not converge\n",
      "  warnings.warn(\"The max_iter was reached which means \"\n"
     ]
    },
    {
     "name": "stdout",
     "output_type": "stream",
     "text": [
      "AUC: 0.7786\n",
      "Confusion Matrix:\n",
      "[[123  26]\n",
      " [ 44 120]]\n",
      "Accuracy Score: 0.7763578274760383\n"
     ]
    },
    {
     "name": "stderr",
     "output_type": "stream",
     "text": [
      "C:\\Users\\Paula\\anaconda3\\lib\\site-packages\\sklearn\\linear_model\\_sag.py:328: ConvergenceWarning: The max_iter was reached which means the coef_ did not converge\n",
      "  warnings.warn(\"The max_iter was reached which means \"\n"
     ]
    },
    {
     "name": "stdout",
     "output_type": "stream",
     "text": [
      "AUC: 0.8152\n",
      "Confusion Matrix:\n",
      "[[146  28]\n",
      " [ 29 110]]\n",
      "Accuracy Score: 0.8178913738019169\n"
     ]
    },
    {
     "name": "stderr",
     "output_type": "stream",
     "text": [
      "C:\\Users\\Paula\\anaconda3\\lib\\site-packages\\sklearn\\linear_model\\_sag.py:328: ConvergenceWarning: The max_iter was reached which means the coef_ did not converge\n",
      "  warnings.warn(\"The max_iter was reached which means \"\n"
     ]
    },
    {
     "name": "stdout",
     "output_type": "stream",
     "text": [
      "AUC: 0.7718\n",
      "Confusion Matrix:\n",
      "[[133  27]\n",
      " [ 44 109]]\n",
      "Accuracy Score: 0.7731629392971247\n"
     ]
    },
    {
     "name": "stderr",
     "output_type": "stream",
     "text": [
      "C:\\Users\\Paula\\anaconda3\\lib\\site-packages\\sklearn\\linear_model\\_sag.py:328: ConvergenceWarning: The max_iter was reached which means the coef_ did not converge\n",
      "  warnings.warn(\"The max_iter was reached which means \"\n"
     ]
    },
    {
     "name": "stdout",
     "output_type": "stream",
     "text": [
      "AUC: 0.7265\n",
      "Confusion Matrix:\n",
      "[[128  33]\n",
      " [ 52 100]]\n",
      "Accuracy Score: 0.7284345047923323\n"
     ]
    },
    {
     "name": "stderr",
     "output_type": "stream",
     "text": [
      "C:\\Users\\Paula\\anaconda3\\lib\\site-packages\\sklearn\\linear_model\\_sag.py:328: ConvergenceWarning: The max_iter was reached which means the coef_ did not converge\n",
      "  warnings.warn(\"The max_iter was reached which means \"\n"
     ]
    },
    {
     "name": "stdout",
     "output_type": "stream",
     "text": [
      "AUC: 0.7468\n",
      "Confusion Matrix:\n",
      "[[138  37]\n",
      " [ 41  98]]\n",
      "Accuracy Score: 0.7515923566878981\n"
     ]
    },
    {
     "name": "stderr",
     "output_type": "stream",
     "text": [
      "C:\\Users\\Paula\\anaconda3\\lib\\site-packages\\sklearn\\linear_model\\_sag.py:328: ConvergenceWarning: The max_iter was reached which means the coef_ did not converge\n",
      "  warnings.warn(\"The max_iter was reached which means \"\n"
     ]
    },
    {
     "name": "stdout",
     "output_type": "stream",
     "text": [
      "AUC: 0.7659\n",
      "Confusion Matrix:\n",
      "[[130  29]\n",
      " [ 44 110]]\n",
      "Accuracy Score: 0.7667731629392971\n"
     ]
    },
    {
     "name": "stderr",
     "output_type": "stream",
     "text": [
      "C:\\Users\\Paula\\anaconda3\\lib\\site-packages\\sklearn\\linear_model\\_sag.py:328: ConvergenceWarning: The max_iter was reached which means the coef_ did not converge\n",
      "  warnings.warn(\"The max_iter was reached which means \"\n"
     ]
    },
    {
     "name": "stdout",
     "output_type": "stream",
     "text": [
      "AUC: 0.7992\n",
      "Confusion Matrix:\n",
      "[[140  25]\n",
      " [ 37 111]]\n",
      "Accuracy Score: 0.8019169329073482\n"
     ]
    },
    {
     "name": "stderr",
     "output_type": "stream",
     "text": [
      "C:\\Users\\Paula\\anaconda3\\lib\\site-packages\\sklearn\\linear_model\\_sag.py:328: ConvergenceWarning: The max_iter was reached which means the coef_ did not converge\n",
      "  warnings.warn(\"The max_iter was reached which means \"\n"
     ]
    },
    {
     "name": "stdout",
     "output_type": "stream",
     "text": [
      "AUC: 0.7865\n",
      "Confusion Matrix:\n",
      "[[148  31]\n",
      " [ 34 100]]\n",
      "Accuracy Score: 0.792332268370607\n"
     ]
    },
    {
     "name": "stderr",
     "output_type": "stream",
     "text": [
      "C:\\Users\\Paula\\anaconda3\\lib\\site-packages\\sklearn\\linear_model\\_sag.py:328: ConvergenceWarning: The max_iter was reached which means the coef_ did not converge\n",
      "  warnings.warn(\"The max_iter was reached which means \"\n"
     ]
    },
    {
     "name": "stdout",
     "output_type": "stream",
     "text": [
      "AUC: 0.8375\n",
      "Confusion Matrix:\n",
      "[[131  22]\n",
      " [ 29 131]]\n",
      "Accuracy Score: 0.8370607028753994\n"
     ]
    },
    {
     "name": "stderr",
     "output_type": "stream",
     "text": [
      "C:\\Users\\Paula\\anaconda3\\lib\\site-packages\\sklearn\\linear_model\\_sag.py:328: ConvergenceWarning: The max_iter was reached which means the coef_ did not converge\n",
      "  warnings.warn(\"The max_iter was reached which means \"\n"
     ]
    },
    {
     "name": "stdout",
     "output_type": "stream",
     "text": [
      "AUC: 0.7887\n",
      "Confusion Matrix:\n",
      "[[135  35]\n",
      " [ 31 112]]\n",
      "Accuracy Score: 0.7891373801916933\n"
     ]
    },
    {
     "name": "stderr",
     "output_type": "stream",
     "text": [
      "C:\\Users\\Paula\\anaconda3\\lib\\site-packages\\sklearn\\linear_model\\_sag.py:328: ConvergenceWarning: The max_iter was reached which means the coef_ did not converge\n",
      "  warnings.warn(\"The max_iter was reached which means \"\n"
     ]
    },
    {
     "name": "stdout",
     "output_type": "stream",
     "text": [
      "AUC: 0.7786\n",
      "Confusion Matrix:\n",
      "[[123  26]\n",
      " [ 44 120]]\n",
      "Accuracy Score: 0.7763578274760383\n"
     ]
    },
    {
     "name": "stderr",
     "output_type": "stream",
     "text": [
      "C:\\Users\\Paula\\anaconda3\\lib\\site-packages\\sklearn\\linear_model\\_sag.py:328: ConvergenceWarning: The max_iter was reached which means the coef_ did not converge\n",
      "  warnings.warn(\"The max_iter was reached which means \"\n"
     ]
    },
    {
     "name": "stdout",
     "output_type": "stream",
     "text": [
      "AUC: 0.8152\n",
      "Confusion Matrix:\n",
      "[[146  28]\n",
      " [ 29 110]]\n",
      "Accuracy Score: 0.8178913738019169\n"
     ]
    },
    {
     "name": "stderr",
     "output_type": "stream",
     "text": [
      "C:\\Users\\Paula\\anaconda3\\lib\\site-packages\\sklearn\\linear_model\\_sag.py:328: ConvergenceWarning: The max_iter was reached which means the coef_ did not converge\n",
      "  warnings.warn(\"The max_iter was reached which means \"\n"
     ]
    },
    {
     "name": "stdout",
     "output_type": "stream",
     "text": [
      "AUC: 0.7718\n",
      "Confusion Matrix:\n",
      "[[133  27]\n",
      " [ 44 109]]\n",
      "Accuracy Score: 0.7731629392971247\n"
     ]
    },
    {
     "name": "stderr",
     "output_type": "stream",
     "text": [
      "C:\\Users\\Paula\\anaconda3\\lib\\site-packages\\sklearn\\linear_model\\_sag.py:328: ConvergenceWarning: The max_iter was reached which means the coef_ did not converge\n",
      "  warnings.warn(\"The max_iter was reached which means \"\n"
     ]
    },
    {
     "name": "stdout",
     "output_type": "stream",
     "text": [
      "AUC: 0.7265\n",
      "Confusion Matrix:\n",
      "[[128  33]\n",
      " [ 52 100]]\n",
      "Accuracy Score: 0.7284345047923323\n"
     ]
    },
    {
     "name": "stderr",
     "output_type": "stream",
     "text": [
      "C:\\Users\\Paula\\anaconda3\\lib\\site-packages\\sklearn\\linear_model\\_sag.py:328: ConvergenceWarning: The max_iter was reached which means the coef_ did not converge\n",
      "  warnings.warn(\"The max_iter was reached which means \"\n"
     ]
    },
    {
     "name": "stdout",
     "output_type": "stream",
     "text": [
      "AUC: 0.7468\n",
      "Confusion Matrix:\n",
      "[[138  37]\n",
      " [ 41  98]]\n",
      "Accuracy Score: 0.7515923566878981\n"
     ]
    },
    {
     "name": "stderr",
     "output_type": "stream",
     "text": [
      "C:\\Users\\Paula\\anaconda3\\lib\\site-packages\\sklearn\\linear_model\\_sag.py:328: ConvergenceWarning: The max_iter was reached which means the coef_ did not converge\n",
      "  warnings.warn(\"The max_iter was reached which means \"\n"
     ]
    },
    {
     "name": "stdout",
     "output_type": "stream",
     "text": [
      "AUC: 0.7659\n",
      "Confusion Matrix:\n",
      "[[130  29]\n",
      " [ 44 110]]\n",
      "Accuracy Score: 0.7667731629392971\n"
     ]
    },
    {
     "name": "stderr",
     "output_type": "stream",
     "text": [
      "C:\\Users\\Paula\\anaconda3\\lib\\site-packages\\sklearn\\linear_model\\_sag.py:328: ConvergenceWarning: The max_iter was reached which means the coef_ did not converge\n",
      "  warnings.warn(\"The max_iter was reached which means \"\n"
     ]
    },
    {
     "name": "stdout",
     "output_type": "stream",
     "text": [
      "AUC: 0.7992\n",
      "Confusion Matrix:\n",
      "[[140  25]\n",
      " [ 37 111]]\n",
      "Accuracy Score: 0.8019169329073482\n"
     ]
    },
    {
     "name": "stderr",
     "output_type": "stream",
     "text": [
      "C:\\Users\\Paula\\anaconda3\\lib\\site-packages\\sklearn\\linear_model\\_sag.py:328: ConvergenceWarning: The max_iter was reached which means the coef_ did not converge\n",
      "  warnings.warn(\"The max_iter was reached which means \"\n"
     ]
    },
    {
     "name": "stdout",
     "output_type": "stream",
     "text": [
      "AUC: 0.7865\n",
      "Confusion Matrix:\n",
      "[[148  31]\n",
      " [ 34 100]]\n",
      "Accuracy Score: 0.792332268370607\n"
     ]
    },
    {
     "name": "stderr",
     "output_type": "stream",
     "text": [
      "C:\\Users\\Paula\\anaconda3\\lib\\site-packages\\sklearn\\linear_model\\_sag.py:328: ConvergenceWarning: The max_iter was reached which means the coef_ did not converge\n",
      "  warnings.warn(\"The max_iter was reached which means \"\n"
     ]
    },
    {
     "name": "stdout",
     "output_type": "stream",
     "text": [
      "AUC: 0.8375\n",
      "Confusion Matrix:\n",
      "[[131  22]\n",
      " [ 29 131]]\n",
      "Accuracy Score: 0.8370607028753994\n"
     ]
    },
    {
     "name": "stderr",
     "output_type": "stream",
     "text": [
      "C:\\Users\\Paula\\anaconda3\\lib\\site-packages\\sklearn\\linear_model\\_sag.py:328: ConvergenceWarning: The max_iter was reached which means the coef_ did not converge\n",
      "  warnings.warn(\"The max_iter was reached which means \"\n"
     ]
    },
    {
     "name": "stdout",
     "output_type": "stream",
     "text": [
      "AUC: 0.7887\n",
      "Confusion Matrix:\n",
      "[[135  35]\n",
      " [ 31 112]]\n",
      "Accuracy Score: 0.7891373801916933\n"
     ]
    },
    {
     "name": "stderr",
     "output_type": "stream",
     "text": [
      "C:\\Users\\Paula\\anaconda3\\lib\\site-packages\\sklearn\\linear_model\\_sag.py:328: ConvergenceWarning: The max_iter was reached which means the coef_ did not converge\n",
      "  warnings.warn(\"The max_iter was reached which means \"\n"
     ]
    },
    {
     "name": "stdout",
     "output_type": "stream",
     "text": [
      "AUC: 0.7786\n",
      "Confusion Matrix:\n",
      "[[123  26]\n",
      " [ 44 120]]\n",
      "Accuracy Score: 0.7763578274760383\n"
     ]
    },
    {
     "name": "stderr",
     "output_type": "stream",
     "text": [
      "C:\\Users\\Paula\\anaconda3\\lib\\site-packages\\sklearn\\linear_model\\_sag.py:328: ConvergenceWarning: The max_iter was reached which means the coef_ did not converge\n",
      "  warnings.warn(\"The max_iter was reached which means \"\n"
     ]
    },
    {
     "name": "stdout",
     "output_type": "stream",
     "text": [
      "AUC: 0.8152\n",
      "Confusion Matrix:\n",
      "[[146  28]\n",
      " [ 29 110]]\n",
      "Accuracy Score: 0.8178913738019169\n"
     ]
    },
    {
     "name": "stderr",
     "output_type": "stream",
     "text": [
      "C:\\Users\\Paula\\anaconda3\\lib\\site-packages\\sklearn\\linear_model\\_sag.py:328: ConvergenceWarning: The max_iter was reached which means the coef_ did not converge\n",
      "  warnings.warn(\"The max_iter was reached which means \"\n"
     ]
    },
    {
     "name": "stdout",
     "output_type": "stream",
     "text": [
      "AUC: 0.7718\n",
      "Confusion Matrix:\n",
      "[[133  27]\n",
      " [ 44 109]]\n",
      "Accuracy Score: 0.7731629392971247\n"
     ]
    },
    {
     "name": "stderr",
     "output_type": "stream",
     "text": [
      "C:\\Users\\Paula\\anaconda3\\lib\\site-packages\\sklearn\\linear_model\\_sag.py:328: ConvergenceWarning: The max_iter was reached which means the coef_ did not converge\n",
      "  warnings.warn(\"The max_iter was reached which means \"\n"
     ]
    },
    {
     "name": "stdout",
     "output_type": "stream",
     "text": [
      "AUC: 0.7265\n",
      "Confusion Matrix:\n",
      "[[128  33]\n",
      " [ 52 100]]\n",
      "Accuracy Score: 0.7284345047923323\n"
     ]
    },
    {
     "name": "stderr",
     "output_type": "stream",
     "text": [
      "C:\\Users\\Paula\\anaconda3\\lib\\site-packages\\sklearn\\linear_model\\_sag.py:328: ConvergenceWarning: The max_iter was reached which means the coef_ did not converge\n",
      "  warnings.warn(\"The max_iter was reached which means \"\n"
     ]
    },
    {
     "name": "stdout",
     "output_type": "stream",
     "text": [
      "AUC: 0.7468\n",
      "Confusion Matrix:\n",
      "[[138  37]\n",
      " [ 41  98]]\n",
      "Accuracy Score: 0.7515923566878981\n"
     ]
    },
    {
     "name": "stderr",
     "output_type": "stream",
     "text": [
      "C:\\Users\\Paula\\anaconda3\\lib\\site-packages\\sklearn\\linear_model\\_sag.py:328: ConvergenceWarning: The max_iter was reached which means the coef_ did not converge\n",
      "  warnings.warn(\"The max_iter was reached which means \"\n"
     ]
    },
    {
     "name": "stdout",
     "output_type": "stream",
     "text": [
      "AUC: 0.7659\n",
      "Confusion Matrix:\n",
      "[[130  29]\n",
      " [ 44 110]]\n",
      "Accuracy Score: 0.7667731629392971\n"
     ]
    },
    {
     "name": "stderr",
     "output_type": "stream",
     "text": [
      "C:\\Users\\Paula\\anaconda3\\lib\\site-packages\\sklearn\\linear_model\\_sag.py:328: ConvergenceWarning: The max_iter was reached which means the coef_ did not converge\n",
      "  warnings.warn(\"The max_iter was reached which means \"\n"
     ]
    },
    {
     "name": "stdout",
     "output_type": "stream",
     "text": [
      "AUC: 0.7992\n",
      "Confusion Matrix:\n",
      "[[140  25]\n",
      " [ 37 111]]\n",
      "Accuracy Score: 0.8019169329073482\n"
     ]
    },
    {
     "name": "stderr",
     "output_type": "stream",
     "text": [
      "C:\\Users\\Paula\\anaconda3\\lib\\site-packages\\sklearn\\linear_model\\_sag.py:328: ConvergenceWarning: The max_iter was reached which means the coef_ did not converge\n",
      "  warnings.warn(\"The max_iter was reached which means \"\n"
     ]
    },
    {
     "name": "stdout",
     "output_type": "stream",
     "text": [
      "AUC: 0.7865\n",
      "Confusion Matrix:\n",
      "[[148  31]\n",
      " [ 34 100]]\n",
      "Accuracy Score: 0.792332268370607\n"
     ]
    },
    {
     "name": "stderr",
     "output_type": "stream",
     "text": [
      "C:\\Users\\Paula\\anaconda3\\lib\\site-packages\\sklearn\\linear_model\\_sag.py:328: ConvergenceWarning: The max_iter was reached which means the coef_ did not converge\n",
      "  warnings.warn(\"The max_iter was reached which means \"\n"
     ]
    },
    {
     "name": "stdout",
     "output_type": "stream",
     "text": [
      "AUC: 0.8375\n",
      "Confusion Matrix:\n",
      "[[131  22]\n",
      " [ 29 131]]\n",
      "Accuracy Score: 0.8370607028753994\n"
     ]
    },
    {
     "name": "stderr",
     "output_type": "stream",
     "text": [
      "C:\\Users\\Paula\\anaconda3\\lib\\site-packages\\sklearn\\linear_model\\_sag.py:328: ConvergenceWarning: The max_iter was reached which means the coef_ did not converge\n",
      "  warnings.warn(\"The max_iter was reached which means \"\n"
     ]
    },
    {
     "name": "stdout",
     "output_type": "stream",
     "text": [
      "AUC: 0.7887\n",
      "Confusion Matrix:\n",
      "[[135  35]\n",
      " [ 31 112]]\n",
      "Accuracy Score: 0.7891373801916933\n"
     ]
    },
    {
     "name": "stderr",
     "output_type": "stream",
     "text": [
      "C:\\Users\\Paula\\anaconda3\\lib\\site-packages\\sklearn\\linear_model\\_sag.py:328: ConvergenceWarning: The max_iter was reached which means the coef_ did not converge\n",
      "  warnings.warn(\"The max_iter was reached which means \"\n"
     ]
    },
    {
     "name": "stdout",
     "output_type": "stream",
     "text": [
      "AUC: 0.7786\n",
      "Confusion Matrix:\n",
      "[[123  26]\n",
      " [ 44 120]]\n",
      "Accuracy Score: 0.7763578274760383\n"
     ]
    },
    {
     "name": "stderr",
     "output_type": "stream",
     "text": [
      "C:\\Users\\Paula\\anaconda3\\lib\\site-packages\\sklearn\\linear_model\\_sag.py:328: ConvergenceWarning: The max_iter was reached which means the coef_ did not converge\n",
      "  warnings.warn(\"The max_iter was reached which means \"\n"
     ]
    },
    {
     "name": "stdout",
     "output_type": "stream",
     "text": [
      "AUC: 0.8152\n",
      "Confusion Matrix:\n",
      "[[146  28]\n",
      " [ 29 110]]\n",
      "Accuracy Score: 0.8178913738019169\n"
     ]
    },
    {
     "name": "stderr",
     "output_type": "stream",
     "text": [
      "C:\\Users\\Paula\\anaconda3\\lib\\site-packages\\sklearn\\linear_model\\_sag.py:328: ConvergenceWarning: The max_iter was reached which means the coef_ did not converge\n",
      "  warnings.warn(\"The max_iter was reached which means \"\n"
     ]
    },
    {
     "name": "stdout",
     "output_type": "stream",
     "text": [
      "AUC: 0.7718\n",
      "Confusion Matrix:\n",
      "[[133  27]\n",
      " [ 44 109]]\n",
      "Accuracy Score: 0.7731629392971247\n"
     ]
    },
    {
     "name": "stderr",
     "output_type": "stream",
     "text": [
      "C:\\Users\\Paula\\anaconda3\\lib\\site-packages\\sklearn\\linear_model\\_sag.py:328: ConvergenceWarning: The max_iter was reached which means the coef_ did not converge\n",
      "  warnings.warn(\"The max_iter was reached which means \"\n"
     ]
    },
    {
     "name": "stdout",
     "output_type": "stream",
     "text": [
      "AUC: 0.7265\n",
      "Confusion Matrix:\n",
      "[[128  33]\n",
      " [ 52 100]]\n",
      "Accuracy Score: 0.7284345047923323\n"
     ]
    },
    {
     "name": "stderr",
     "output_type": "stream",
     "text": [
      "C:\\Users\\Paula\\anaconda3\\lib\\site-packages\\sklearn\\linear_model\\_sag.py:328: ConvergenceWarning: The max_iter was reached which means the coef_ did not converge\n",
      "  warnings.warn(\"The max_iter was reached which means \"\n"
     ]
    },
    {
     "name": "stdout",
     "output_type": "stream",
     "text": [
      "AUC: 0.7468\n",
      "Confusion Matrix:\n",
      "[[138  37]\n",
      " [ 41  98]]\n",
      "Accuracy Score: 0.7515923566878981\n"
     ]
    },
    {
     "name": "stderr",
     "output_type": "stream",
     "text": [
      "C:\\Users\\Paula\\anaconda3\\lib\\site-packages\\sklearn\\linear_model\\_sag.py:328: ConvergenceWarning: The max_iter was reached which means the coef_ did not converge\n",
      "  warnings.warn(\"The max_iter was reached which means \"\n"
     ]
    },
    {
     "name": "stdout",
     "output_type": "stream",
     "text": [
      "AUC: 0.7659\n",
      "Confusion Matrix:\n",
      "[[130  29]\n",
      " [ 44 110]]\n",
      "Accuracy Score: 0.7667731629392971\n"
     ]
    },
    {
     "name": "stderr",
     "output_type": "stream",
     "text": [
      "C:\\Users\\Paula\\anaconda3\\lib\\site-packages\\sklearn\\linear_model\\_sag.py:328: ConvergenceWarning: The max_iter was reached which means the coef_ did not converge\n",
      "  warnings.warn(\"The max_iter was reached which means \"\n"
     ]
    },
    {
     "name": "stdout",
     "output_type": "stream",
     "text": [
      "AUC: 0.8023\n",
      "Confusion Matrix:\n",
      "[[141  24]\n",
      " [ 37 111]]\n",
      "Accuracy Score: 0.805111821086262\n"
     ]
    },
    {
     "name": "stderr",
     "output_type": "stream",
     "text": [
      "C:\\Users\\Paula\\anaconda3\\lib\\site-packages\\sklearn\\linear_model\\_sag.py:328: ConvergenceWarning: The max_iter was reached which means the coef_ did not converge\n",
      "  warnings.warn(\"The max_iter was reached which means \"\n"
     ]
    },
    {
     "name": "stdout",
     "output_type": "stream",
     "text": [
      "AUC: 0.7865\n",
      "Confusion Matrix:\n",
      "[[148  31]\n",
      " [ 34 100]]\n",
      "Accuracy Score: 0.792332268370607\n"
     ]
    },
    {
     "name": "stderr",
     "output_type": "stream",
     "text": [
      "C:\\Users\\Paula\\anaconda3\\lib\\site-packages\\sklearn\\linear_model\\_sag.py:328: ConvergenceWarning: The max_iter was reached which means the coef_ did not converge\n",
      "  warnings.warn(\"The max_iter was reached which means \"\n"
     ]
    },
    {
     "name": "stdout",
     "output_type": "stream",
     "text": [
      "AUC: 0.8375\n",
      "Confusion Matrix:\n",
      "[[131  22]\n",
      " [ 29 131]]\n",
      "Accuracy Score: 0.8370607028753994\n"
     ]
    },
    {
     "name": "stderr",
     "output_type": "stream",
     "text": [
      "C:\\Users\\Paula\\anaconda3\\lib\\site-packages\\sklearn\\linear_model\\_sag.py:328: ConvergenceWarning: The max_iter was reached which means the coef_ did not converge\n",
      "  warnings.warn(\"The max_iter was reached which means \"\n"
     ]
    },
    {
     "name": "stdout",
     "output_type": "stream",
     "text": [
      "AUC: 0.7887\n",
      "Confusion Matrix:\n",
      "[[135  35]\n",
      " [ 31 112]]\n",
      "Accuracy Score: 0.7891373801916933\n"
     ]
    },
    {
     "name": "stderr",
     "output_type": "stream",
     "text": [
      "C:\\Users\\Paula\\anaconda3\\lib\\site-packages\\sklearn\\linear_model\\_sag.py:328: ConvergenceWarning: The max_iter was reached which means the coef_ did not converge\n",
      "  warnings.warn(\"The max_iter was reached which means \"\n"
     ]
    },
    {
     "name": "stdout",
     "output_type": "stream",
     "text": [
      "AUC: 0.7786\n",
      "Confusion Matrix:\n",
      "[[123  26]\n",
      " [ 44 120]]\n",
      "Accuracy Score: 0.7763578274760383\n"
     ]
    },
    {
     "name": "stderr",
     "output_type": "stream",
     "text": [
      "C:\\Users\\Paula\\anaconda3\\lib\\site-packages\\sklearn\\linear_model\\_sag.py:328: ConvergenceWarning: The max_iter was reached which means the coef_ did not converge\n",
      "  warnings.warn(\"The max_iter was reached which means \"\n"
     ]
    },
    {
     "name": "stdout",
     "output_type": "stream",
     "text": [
      "AUC: 0.8152\n",
      "Confusion Matrix:\n",
      "[[146  28]\n",
      " [ 29 110]]\n",
      "Accuracy Score: 0.8178913738019169\n"
     ]
    },
    {
     "name": "stderr",
     "output_type": "stream",
     "text": [
      "C:\\Users\\Paula\\anaconda3\\lib\\site-packages\\sklearn\\linear_model\\_sag.py:328: ConvergenceWarning: The max_iter was reached which means the coef_ did not converge\n",
      "  warnings.warn(\"The max_iter was reached which means \"\n"
     ]
    },
    {
     "name": "stdout",
     "output_type": "stream",
     "text": [
      "AUC: 0.7718\n",
      "Confusion Matrix:\n",
      "[[133  27]\n",
      " [ 44 109]]\n",
      "Accuracy Score: 0.7731629392971247\n"
     ]
    },
    {
     "name": "stderr",
     "output_type": "stream",
     "text": [
      "C:\\Users\\Paula\\anaconda3\\lib\\site-packages\\sklearn\\linear_model\\_sag.py:328: ConvergenceWarning: The max_iter was reached which means the coef_ did not converge\n",
      "  warnings.warn(\"The max_iter was reached which means \"\n"
     ]
    },
    {
     "name": "stdout",
     "output_type": "stream",
     "text": [
      "AUC: 0.7265\n",
      "Confusion Matrix:\n",
      "[[128  33]\n",
      " [ 52 100]]\n",
      "Accuracy Score: 0.7284345047923323\n"
     ]
    },
    {
     "name": "stderr",
     "output_type": "stream",
     "text": [
      "C:\\Users\\Paula\\anaconda3\\lib\\site-packages\\sklearn\\linear_model\\_sag.py:328: ConvergenceWarning: The max_iter was reached which means the coef_ did not converge\n",
      "  warnings.warn(\"The max_iter was reached which means \"\n"
     ]
    },
    {
     "name": "stdout",
     "output_type": "stream",
     "text": [
      "AUC: 0.7504\n",
      "Confusion Matrix:\n",
      "[[138  37]\n",
      " [ 40  99]]\n",
      "Accuracy Score: 0.7547770700636943\n"
     ]
    },
    {
     "name": "stderr",
     "output_type": "stream",
     "text": [
      "C:\\Users\\Paula\\anaconda3\\lib\\site-packages\\sklearn\\linear_model\\_sag.py:328: ConvergenceWarning: The max_iter was reached which means the coef_ did not converge\n",
      "  warnings.warn(\"The max_iter was reached which means \"\n"
     ]
    },
    {
     "name": "stdout",
     "output_type": "stream",
     "text": [
      "AUC: 0.7628\n",
      "Confusion Matrix:\n",
      "[[129  30]\n",
      " [ 44 110]]\n",
      "Accuracy Score: 0.7635782747603834\n"
     ]
    },
    {
     "name": "stderr",
     "output_type": "stream",
     "text": [
      "C:\\Users\\Paula\\anaconda3\\lib\\site-packages\\sklearn\\linear_model\\_sag.py:328: ConvergenceWarning: The max_iter was reached which means the coef_ did not converge\n",
      "  warnings.warn(\"The max_iter was reached which means \"\n"
     ]
    },
    {
     "name": "stdout",
     "output_type": "stream",
     "text": [
      "AUC: 0.8023\n",
      "Confusion Matrix:\n",
      "[[141  24]\n",
      " [ 37 111]]\n",
      "Accuracy Score: 0.805111821086262\n"
     ]
    },
    {
     "name": "stderr",
     "output_type": "stream",
     "text": [
      "C:\\Users\\Paula\\anaconda3\\lib\\site-packages\\sklearn\\linear_model\\_sag.py:328: ConvergenceWarning: The max_iter was reached which means the coef_ did not converge\n",
      "  warnings.warn(\"The max_iter was reached which means \"\n"
     ]
    },
    {
     "name": "stdout",
     "output_type": "stream",
     "text": [
      "AUC: 0.7903\n",
      "Confusion Matrix:\n",
      "[[148  31]\n",
      " [ 33 101]]\n",
      "Accuracy Score: 0.7955271565495208\n"
     ]
    },
    {
     "name": "stderr",
     "output_type": "stream",
     "text": [
      "C:\\Users\\Paula\\anaconda3\\lib\\site-packages\\sklearn\\linear_model\\_sag.py:328: ConvergenceWarning: The max_iter was reached which means the coef_ did not converge\n",
      "  warnings.warn(\"The max_iter was reached which means \"\n"
     ]
    },
    {
     "name": "stdout",
     "output_type": "stream",
     "text": [
      "AUC: 0.8341\n",
      "Confusion Matrix:\n",
      "[[129  24]\n",
      " [ 28 132]]\n",
      "Accuracy Score: 0.8338658146964856\n"
     ]
    },
    {
     "name": "stderr",
     "output_type": "stream",
     "text": [
      "C:\\Users\\Paula\\anaconda3\\lib\\site-packages\\sklearn\\linear_model\\_sag.py:328: ConvergenceWarning: The max_iter was reached which means the coef_ did not converge\n",
      "  warnings.warn(\"The max_iter was reached which means \"\n"
     ]
    },
    {
     "name": "stdout",
     "output_type": "stream",
     "text": [
      "AUC: 0.7951\n",
      "Confusion Matrix:\n",
      "[[136  34]\n",
      " [ 30 113]]\n",
      "Accuracy Score: 0.7955271565495208\n"
     ]
    },
    {
     "name": "stderr",
     "output_type": "stream",
     "text": [
      "C:\\Users\\Paula\\anaconda3\\lib\\site-packages\\sklearn\\linear_model\\_sag.py:328: ConvergenceWarning: The max_iter was reached which means the coef_ did not converge\n",
      "  warnings.warn(\"The max_iter was reached which means \"\n"
     ]
    },
    {
     "name": "stdout",
     "output_type": "stream",
     "text": [
      "AUC: 0.7847\n",
      "Confusion Matrix:\n",
      "[[123  26]\n",
      " [ 42 122]]\n",
      "Accuracy Score: 0.7827476038338658\n"
     ]
    },
    {
     "name": "stderr",
     "output_type": "stream",
     "text": [
      "C:\\Users\\Paula\\anaconda3\\lib\\site-packages\\sklearn\\linear_model\\_sag.py:328: ConvergenceWarning: The max_iter was reached which means the coef_ did not converge\n",
      "  warnings.warn(\"The max_iter was reached which means \"\n"
     ]
    },
    {
     "name": "stdout",
     "output_type": "stream",
     "text": [
      "AUC: 0.8188\n",
      "Confusion Matrix:\n",
      "[[146  28]\n",
      " [ 28 111]]\n",
      "Accuracy Score: 0.8210862619808307\n"
     ]
    },
    {
     "name": "stderr",
     "output_type": "stream",
     "text": [
      "C:\\Users\\Paula\\anaconda3\\lib\\site-packages\\sklearn\\linear_model\\_sag.py:328: ConvergenceWarning: The max_iter was reached which means the coef_ did not converge\n",
      "  warnings.warn(\"The max_iter was reached which means \"\n"
     ]
    },
    {
     "name": "stdout",
     "output_type": "stream",
     "text": [
      "AUC: 0.7751\n",
      "Confusion Matrix:\n",
      "[[133  27]\n",
      " [ 43 110]]\n",
      "Accuracy Score: 0.7763578274760383\n"
     ]
    },
    {
     "name": "stderr",
     "output_type": "stream",
     "text": [
      "C:\\Users\\Paula\\anaconda3\\lib\\site-packages\\sklearn\\linear_model\\_sag.py:328: ConvergenceWarning: The max_iter was reached which means the coef_ did not converge\n",
      "  warnings.warn(\"The max_iter was reached which means \"\n"
     ]
    },
    {
     "name": "stdout",
     "output_type": "stream",
     "text": [
      "AUC: 0.7168\n",
      "Confusion Matrix:\n",
      "[[127  34]\n",
      " [ 54  98]]\n",
      "Accuracy Score: 0.7188498402555911\n"
     ]
    },
    {
     "name": "stderr",
     "output_type": "stream",
     "text": [
      "C:\\Users\\Paula\\anaconda3\\lib\\site-packages\\sklearn\\linear_model\\_sag.py:328: ConvergenceWarning: The max_iter was reached which means the coef_ did not converge\n",
      "  warnings.warn(\"The max_iter was reached which means \"\n"
     ]
    },
    {
     "name": "stdout",
     "output_type": "stream",
     "text": [
      "AUC: 0.7626\n",
      "Confusion Matrix:\n",
      "[[141  34]\n",
      " [ 39 100]]\n",
      "Accuracy Score: 0.767515923566879\n"
     ]
    },
    {
     "name": "stderr",
     "output_type": "stream",
     "text": [
      "C:\\Users\\Paula\\anaconda3\\lib\\site-packages\\sklearn\\linear_model\\_sag.py:328: ConvergenceWarning: The max_iter was reached which means the coef_ did not converge\n",
      "  warnings.warn(\"The max_iter was reached which means \"\n"
     ]
    },
    {
     "name": "stdout",
     "output_type": "stream",
     "text": [
      "AUC: 0.7628\n",
      "Confusion Matrix:\n",
      "[[129  30]\n",
      " [ 44 110]]\n",
      "Accuracy Score: 0.7635782747603834\n"
     ]
    },
    {
     "name": "stderr",
     "output_type": "stream",
     "text": [
      "C:\\Users\\Paula\\anaconda3\\lib\\site-packages\\sklearn\\linear_model\\_sag.py:328: ConvergenceWarning: The max_iter was reached which means the coef_ did not converge\n",
      "  warnings.warn(\"The max_iter was reached which means \"\n"
     ]
    },
    {
     "name": "stdout",
     "output_type": "stream",
     "text": [
      "AUC: 0.7793\n",
      "Confusion Matrix:\n",
      "[[139  26]\n",
      " [ 42 106]]\n",
      "Accuracy Score: 0.7827476038338658\n"
     ]
    },
    {
     "name": "stderr",
     "output_type": "stream",
     "text": [
      "C:\\Users\\Paula\\anaconda3\\lib\\site-packages\\sklearn\\linear_model\\_sag.py:328: ConvergenceWarning: The max_iter was reached which means the coef_ did not converge\n",
      "  warnings.warn(\"The max_iter was reached which means \"\n"
     ]
    },
    {
     "name": "stdout",
     "output_type": "stream",
     "text": [
      "AUC: 0.7632\n",
      "Confusion Matrix:\n",
      "[[145  34]\n",
      " [ 38  96]]\n",
      "Accuracy Score: 0.7699680511182109\n"
     ]
    },
    {
     "name": "stderr",
     "output_type": "stream",
     "text": [
      "C:\\Users\\Paula\\anaconda3\\lib\\site-packages\\sklearn\\linear_model\\_sag.py:328: ConvergenceWarning: The max_iter was reached which means the coef_ did not converge\n",
      "  warnings.warn(\"The max_iter was reached which means \"\n"
     ]
    },
    {
     "name": "stdout",
     "output_type": "stream",
     "text": [
      "AUC: 0.8244\n",
      "Confusion Matrix:\n",
      "[[127  26]\n",
      " [ 29 131]]\n",
      "Accuracy Score: 0.8242811501597445\n"
     ]
    },
    {
     "name": "stderr",
     "output_type": "stream",
     "text": [
      "C:\\Users\\Paula\\anaconda3\\lib\\site-packages\\sklearn\\linear_model\\_sag.py:328: ConvergenceWarning: The max_iter was reached which means the coef_ did not converge\n",
      "  warnings.warn(\"The max_iter was reached which means \"\n"
     ]
    },
    {
     "name": "stdout",
     "output_type": "stream",
     "text": [
      "AUC: 0.7922\n",
      "Confusion Matrix:\n",
      "[[135  35]\n",
      " [ 30 113]]\n",
      "Accuracy Score: 0.792332268370607\n"
     ]
    },
    {
     "name": "stderr",
     "output_type": "stream",
     "text": [
      "C:\\Users\\Paula\\anaconda3\\lib\\site-packages\\sklearn\\linear_model\\_sag.py:328: ConvergenceWarning: The max_iter was reached which means the coef_ did not converge\n",
      "  warnings.warn(\"The max_iter was reached which means \"\n"
     ]
    },
    {
     "name": "stdout",
     "output_type": "stream",
     "text": [
      "AUC: 0.7756\n",
      "Confusion Matrix:\n",
      "[[123  26]\n",
      " [ 45 119]]\n",
      "Accuracy Score: 0.7731629392971247\n"
     ]
    },
    {
     "name": "stderr",
     "output_type": "stream",
     "text": [
      "C:\\Users\\Paula\\anaconda3\\lib\\site-packages\\sklearn\\linear_model\\_sag.py:328: ConvergenceWarning: The max_iter was reached which means the coef_ did not converge\n",
      "  warnings.warn(\"The max_iter was reached which means \"\n"
     ]
    },
    {
     "name": "stdout",
     "output_type": "stream",
     "text": [
      "AUC: 0.8088\n",
      "Confusion Matrix:\n",
      "[[145  29]\n",
      " [ 30 109]]\n",
      "Accuracy Score: 0.8115015974440895\n"
     ]
    },
    {
     "name": "stderr",
     "output_type": "stream",
     "text": [
      "C:\\Users\\Paula\\anaconda3\\lib\\site-packages\\sklearn\\linear_model\\_sag.py:328: ConvergenceWarning: The max_iter was reached which means the coef_ did not converge\n",
      "  warnings.warn(\"The max_iter was reached which means \"\n"
     ]
    },
    {
     "name": "stdout",
     "output_type": "stream",
     "text": [
      "AUC: 0.7815\n",
      "Confusion Matrix:\n",
      "[[134  26]\n",
      " [ 42 111]]\n",
      "Accuracy Score: 0.7827476038338658\n"
     ]
    },
    {
     "name": "stderr",
     "output_type": "stream",
     "text": [
      "C:\\Users\\Paula\\anaconda3\\lib\\site-packages\\sklearn\\linear_model\\_sag.py:328: ConvergenceWarning: The max_iter was reached which means the coef_ did not converge\n",
      "  warnings.warn(\"The max_iter was reached which means \"\n"
     ]
    },
    {
     "name": "stdout",
     "output_type": "stream",
     "text": [
      "AUC: 0.7104\n",
      "Confusion Matrix:\n",
      "[[126  35]\n",
      " [ 55  97]]\n",
      "Accuracy Score: 0.7124600638977636\n",
      "AUC: 0.7309\n",
      "Confusion Matrix:\n",
      "[[140  35]\n",
      " [ 47  92]]\n",
      "Accuracy Score: 0.7388535031847133\n",
      "AUC: 0.7394\n",
      "Confusion Matrix:\n",
      "[[136  23]\n",
      " [ 58  96]]\n",
      "Accuracy Score: 0.7412140575079872\n",
      "AUC: 0.7580\n",
      "Confusion Matrix:\n",
      "[[142  23]\n",
      " [ 51  97]]\n",
      "Accuracy Score: 0.7635782747603834\n",
      "AUC: 0.7352\n",
      "Confusion Matrix:\n",
      "[[147  32]\n",
      " [ 47  87]]\n",
      "Accuracy Score: 0.7476038338658147\n",
      "AUC: 0.7910\n",
      "Confusion Matrix:\n",
      "[[134  19]\n",
      " [ 47 113]]\n",
      "Accuracy Score: 0.7891373801916933\n",
      "AUC: 0.7467\n",
      "Confusion Matrix:\n",
      "[[135  35]\n",
      " [ 43 100]]\n",
      "Accuracy Score: 0.7507987220447284\n",
      "AUC: 0.7338\n",
      "Confusion Matrix:\n",
      "[[126  23]\n",
      " [ 62 102]]\n",
      "Accuracy Score: 0.7284345047923323\n",
      "AUC: 0.7814\n",
      "Confusion Matrix:\n",
      "[[148  26]\n",
      " [ 40  99]]\n",
      "Accuracy Score: 0.7891373801916933\n",
      "AUC: 0.7485\n",
      "Confusion Matrix:\n",
      "[[136  24]\n",
      " [ 54  99]]\n",
      "Accuracy Score: 0.7507987220447284\n",
      "AUC: 0.6641\n",
      "Confusion Matrix:\n",
      "[[127  34]\n",
      " [ 70  82]]\n",
      "Accuracy Score: 0.6677316293929713\n",
      "AUC: 0.5000\n",
      "Confusion Matrix:\n",
      "[[175   0]\n",
      " [139   0]]\n",
      "Accuracy Score: 0.5573248407643312\n",
      "AUC: 0.5000\n",
      "Confusion Matrix:\n",
      "[[159   0]\n",
      " [154   0]]\n",
      "Accuracy Score: 0.5079872204472844\n",
      "AUC: 0.5000\n",
      "Confusion Matrix:\n",
      "[[165   0]\n",
      " [148   0]]\n",
      "Accuracy Score: 0.5271565495207667\n",
      "AUC: 0.5000\n",
      "Confusion Matrix:\n",
      "[[179   0]\n",
      " [134   0]]\n",
      "Accuracy Score: 0.5718849840255591\n",
      "AUC: 0.5000\n",
      "Confusion Matrix:\n",
      "[[153   0]\n",
      " [160   0]]\n",
      "Accuracy Score: 0.48881789137380194\n",
      "AUC: 0.5000\n",
      "Confusion Matrix:\n",
      "[[170   0]\n",
      " [143   0]]\n",
      "Accuracy Score: 0.5431309904153354\n",
      "AUC: 0.5000\n",
      "Confusion Matrix:\n",
      "[[149   0]\n",
      " [164   0]]\n",
      "Accuracy Score: 0.476038338658147\n",
      "AUC: 0.5000\n",
      "Confusion Matrix:\n",
      "[[174   0]\n",
      " [139   0]]\n",
      "Accuracy Score: 0.5559105431309904\n",
      "AUC: 0.5000\n",
      "Confusion Matrix:\n",
      "[[160   0]\n",
      " [153   0]]\n",
      "Accuracy Score: 0.5111821086261981\n",
      "AUC: 0.5000\n",
      "Confusion Matrix:\n",
      "[[161   0]\n",
      " [152   0]]\n",
      "Accuracy Score: 0.5143769968051118\n",
      "AUC: 0.5000\n",
      "Confusion Matrix:\n",
      "[[175   0]\n",
      " [139   0]]\n",
      "Accuracy Score: 0.5573248407643312\n",
      "AUC: 0.5000\n",
      "Confusion Matrix:\n",
      "[[159   0]\n",
      " [154   0]]\n",
      "Accuracy Score: 0.5079872204472844\n",
      "AUC: 0.5000\n",
      "Confusion Matrix:\n",
      "[[165   0]\n",
      " [148   0]]\n",
      "Accuracy Score: 0.5271565495207667\n",
      "AUC: 0.5000\n",
      "Confusion Matrix:\n",
      "[[179   0]\n",
      " [134   0]]\n",
      "Accuracy Score: 0.5718849840255591\n",
      "AUC: 0.5000\n",
      "Confusion Matrix:\n",
      "[[153   0]\n",
      " [160   0]]\n",
      "Accuracy Score: 0.48881789137380194\n",
      "AUC: 0.5000\n",
      "Confusion Matrix:\n",
      "[[170   0]\n",
      " [143   0]]\n",
      "Accuracy Score: 0.5431309904153354\n",
      "AUC: 0.5000\n",
      "Confusion Matrix:\n",
      "[[149   0]\n",
      " [164   0]]\n",
      "Accuracy Score: 0.476038338658147\n",
      "AUC: 0.5000\n",
      "Confusion Matrix:\n",
      "[[174   0]\n",
      " [139   0]]\n",
      "Accuracy Score: 0.5559105431309904\n",
      "AUC: 0.5000\n",
      "Confusion Matrix:\n",
      "[[160   0]\n",
      " [153   0]]\n",
      "Accuracy Score: 0.5111821086261981\n",
      "AUC: 0.5000\n",
      "Confusion Matrix:\n",
      "[[161   0]\n",
      " [152   0]]\n",
      "Accuracy Score: 0.5143769968051118\n",
      "AUC: 0.5000\n",
      "Confusion Matrix:\n",
      "[[175   0]\n",
      " [139   0]]\n",
      "Accuracy Score: 0.5573248407643312\n",
      "AUC: 0.5000\n",
      "Confusion Matrix:\n",
      "[[159   0]\n",
      " [154   0]]\n",
      "Accuracy Score: 0.5079872204472844\n",
      "AUC: 0.5000\n",
      "Confusion Matrix:\n",
      "[[165   0]\n",
      " [148   0]]\n",
      "Accuracy Score: 0.5271565495207667\n",
      "AUC: 0.5000\n",
      "Confusion Matrix:\n",
      "[[179   0]\n",
      " [134   0]]\n",
      "Accuracy Score: 0.5718849840255591\n",
      "AUC: 0.5000\n",
      "Confusion Matrix:\n",
      "[[153   0]\n",
      " [160   0]]\n",
      "Accuracy Score: 0.48881789137380194\n",
      "AUC: 0.5000\n",
      "Confusion Matrix:\n",
      "[[170   0]\n",
      " [143   0]]\n",
      "Accuracy Score: 0.5431309904153354\n",
      "AUC: 0.5000\n",
      "Confusion Matrix:\n",
      "[[149   0]\n",
      " [164   0]]\n",
      "Accuracy Score: 0.476038338658147\n",
      "AUC: 0.5000\n",
      "Confusion Matrix:\n",
      "[[174   0]\n",
      " [139   0]]\n",
      "Accuracy Score: 0.5559105431309904\n",
      "AUC: 0.5000\n",
      "Confusion Matrix:\n",
      "[[160   0]\n",
      " [153   0]]\n",
      "Accuracy Score: 0.5111821086261981\n",
      "AUC: 0.5000\n",
      "Confusion Matrix:\n",
      "[[161   0]\n",
      " [152   0]]\n",
      "Accuracy Score: 0.5143769968051118\n"
     ]
    }
   ],
   "source": [
    "# Primero, obtenemos la distribución del MSE por partición. \n",
    "k = 10\n",
    "dist_ecm_lasso = []\n",
    "dist_prop_lasso=[]\n",
    "for config in configuraciones_lasso:\n",
    "    modelo = LogisticRegression(max_iter=1000, **config)\n",
    "    resultados = cross_validation(modelo, k, X, y,coef=True)\n",
    "    ecm_part = resultados[['Particion', 'MSE']]\n",
    "    dist_ecm_lasso.append(ecm_part)\n",
    "    prop_part = resultados[['Particion','proporcion_variables_cero']]\n",
    "    dist_prop_lasso.append(prop_part) "
   ]
  },
  {
   "cell_type": "markdown",
   "id": "88172cba",
   "metadata": {},
   "source": [
    "### Gráfico 2"
   ]
  },
  {
   "cell_type": "code",
   "execution_count": 73,
   "id": "880db614",
   "metadata": {},
   "outputs": [
    {
     "name": "stderr",
     "output_type": "stream",
     "text": [
      "C:\\Users\\Paula\\anaconda3\\lib\\site-packages\\sklearn\\linear_model\\_sag.py:328: ConvergenceWarning: The max_iter was reached which means the coef_ did not converge\n",
      "  warnings.warn(\"The max_iter was reached which means \"\n"
     ]
    },
    {
     "name": "stdout",
     "output_type": "stream",
     "text": [
      "AUC: 0.7468\n",
      "Confusion Matrix:\n",
      "[[138  37]\n",
      " [ 41  98]]\n",
      "Accuracy Score: 0.7515923566878981\n"
     ]
    },
    {
     "name": "stderr",
     "output_type": "stream",
     "text": [
      "C:\\Users\\Paula\\anaconda3\\lib\\site-packages\\sklearn\\linear_model\\_sag.py:328: ConvergenceWarning: The max_iter was reached which means the coef_ did not converge\n",
      "  warnings.warn(\"The max_iter was reached which means \"\n"
     ]
    },
    {
     "name": "stdout",
     "output_type": "stream",
     "text": [
      "AUC: 0.7659\n",
      "Confusion Matrix:\n",
      "[[130  29]\n",
      " [ 44 110]]\n",
      "Accuracy Score: 0.7667731629392971\n"
     ]
    },
    {
     "name": "stderr",
     "output_type": "stream",
     "text": [
      "C:\\Users\\Paula\\anaconda3\\lib\\site-packages\\sklearn\\linear_model\\_sag.py:328: ConvergenceWarning: The max_iter was reached which means the coef_ did not converge\n",
      "  warnings.warn(\"The max_iter was reached which means \"\n"
     ]
    },
    {
     "name": "stdout",
     "output_type": "stream",
     "text": [
      "AUC: 0.7992\n",
      "Confusion Matrix:\n",
      "[[140  25]\n",
      " [ 37 111]]\n",
      "Accuracy Score: 0.8019169329073482\n"
     ]
    },
    {
     "name": "stderr",
     "output_type": "stream",
     "text": [
      "C:\\Users\\Paula\\anaconda3\\lib\\site-packages\\sklearn\\linear_model\\_sag.py:328: ConvergenceWarning: The max_iter was reached which means the coef_ did not converge\n",
      "  warnings.warn(\"The max_iter was reached which means \"\n"
     ]
    },
    {
     "name": "stdout",
     "output_type": "stream",
     "text": [
      "AUC: 0.7865\n",
      "Confusion Matrix:\n",
      "[[148  31]\n",
      " [ 34 100]]\n",
      "Accuracy Score: 0.792332268370607\n"
     ]
    },
    {
     "name": "stderr",
     "output_type": "stream",
     "text": [
      "C:\\Users\\Paula\\anaconda3\\lib\\site-packages\\sklearn\\linear_model\\_sag.py:328: ConvergenceWarning: The max_iter was reached which means the coef_ did not converge\n",
      "  warnings.warn(\"The max_iter was reached which means \"\n"
     ]
    },
    {
     "name": "stdout",
     "output_type": "stream",
     "text": [
      "AUC: 0.8375\n",
      "Confusion Matrix:\n",
      "[[131  22]\n",
      " [ 29 131]]\n",
      "Accuracy Score: 0.8370607028753994\n"
     ]
    },
    {
     "name": "stderr",
     "output_type": "stream",
     "text": [
      "C:\\Users\\Paula\\anaconda3\\lib\\site-packages\\sklearn\\linear_model\\_sag.py:328: ConvergenceWarning: The max_iter was reached which means the coef_ did not converge\n",
      "  warnings.warn(\"The max_iter was reached which means \"\n"
     ]
    },
    {
     "name": "stdout",
     "output_type": "stream",
     "text": [
      "AUC: 0.7887\n",
      "Confusion Matrix:\n",
      "[[135  35]\n",
      " [ 31 112]]\n",
      "Accuracy Score: 0.7891373801916933\n"
     ]
    },
    {
     "name": "stderr",
     "output_type": "stream",
     "text": [
      "C:\\Users\\Paula\\anaconda3\\lib\\site-packages\\sklearn\\linear_model\\_sag.py:328: ConvergenceWarning: The max_iter was reached which means the coef_ did not converge\n",
      "  warnings.warn(\"The max_iter was reached which means \"\n"
     ]
    },
    {
     "name": "stdout",
     "output_type": "stream",
     "text": [
      "AUC: 0.7786\n",
      "Confusion Matrix:\n",
      "[[123  26]\n",
      " [ 44 120]]\n",
      "Accuracy Score: 0.7763578274760383\n"
     ]
    },
    {
     "name": "stderr",
     "output_type": "stream",
     "text": [
      "C:\\Users\\Paula\\anaconda3\\lib\\site-packages\\sklearn\\linear_model\\_sag.py:328: ConvergenceWarning: The max_iter was reached which means the coef_ did not converge\n",
      "  warnings.warn(\"The max_iter was reached which means \"\n"
     ]
    },
    {
     "name": "stdout",
     "output_type": "stream",
     "text": [
      "AUC: 0.8152\n",
      "Confusion Matrix:\n",
      "[[146  28]\n",
      " [ 29 110]]\n",
      "Accuracy Score: 0.8178913738019169\n"
     ]
    },
    {
     "name": "stderr",
     "output_type": "stream",
     "text": [
      "C:\\Users\\Paula\\anaconda3\\lib\\site-packages\\sklearn\\linear_model\\_sag.py:328: ConvergenceWarning: The max_iter was reached which means the coef_ did not converge\n",
      "  warnings.warn(\"The max_iter was reached which means \"\n"
     ]
    },
    {
     "name": "stdout",
     "output_type": "stream",
     "text": [
      "AUC: 0.7718\n",
      "Confusion Matrix:\n",
      "[[133  27]\n",
      " [ 44 109]]\n",
      "Accuracy Score: 0.7731629392971247\n"
     ]
    },
    {
     "name": "stderr",
     "output_type": "stream",
     "text": [
      "C:\\Users\\Paula\\anaconda3\\lib\\site-packages\\sklearn\\linear_model\\_sag.py:328: ConvergenceWarning: The max_iter was reached which means the coef_ did not converge\n",
      "  warnings.warn(\"The max_iter was reached which means \"\n"
     ]
    },
    {
     "name": "stdout",
     "output_type": "stream",
     "text": [
      "AUC: 0.7265\n",
      "Confusion Matrix:\n",
      "[[128  33]\n",
      " [ 52 100]]\n",
      "Accuracy Score: 0.7284345047923323\n"
     ]
    },
    {
     "name": "stderr",
     "output_type": "stream",
     "text": [
      "C:\\Users\\Paula\\anaconda3\\lib\\site-packages\\sklearn\\linear_model\\_sag.py:328: ConvergenceWarning: The max_iter was reached which means the coef_ did not converge\n",
      "  warnings.warn(\"The max_iter was reached which means \"\n"
     ]
    },
    {
     "name": "stdout",
     "output_type": "stream",
     "text": [
      "AUC: 0.7468\n",
      "Confusion Matrix:\n",
      "[[138  37]\n",
      " [ 41  98]]\n",
      "Accuracy Score: 0.7515923566878981\n"
     ]
    },
    {
     "name": "stderr",
     "output_type": "stream",
     "text": [
      "C:\\Users\\Paula\\anaconda3\\lib\\site-packages\\sklearn\\linear_model\\_sag.py:328: ConvergenceWarning: The max_iter was reached which means the coef_ did not converge\n",
      "  warnings.warn(\"The max_iter was reached which means \"\n"
     ]
    },
    {
     "name": "stdout",
     "output_type": "stream",
     "text": [
      "AUC: 0.7659\n",
      "Confusion Matrix:\n",
      "[[130  29]\n",
      " [ 44 110]]\n",
      "Accuracy Score: 0.7667731629392971\n"
     ]
    },
    {
     "name": "stderr",
     "output_type": "stream",
     "text": [
      "C:\\Users\\Paula\\anaconda3\\lib\\site-packages\\sklearn\\linear_model\\_sag.py:328: ConvergenceWarning: The max_iter was reached which means the coef_ did not converge\n",
      "  warnings.warn(\"The max_iter was reached which means \"\n"
     ]
    },
    {
     "name": "stdout",
     "output_type": "stream",
     "text": [
      "AUC: 0.7992\n",
      "Confusion Matrix:\n",
      "[[140  25]\n",
      " [ 37 111]]\n",
      "Accuracy Score: 0.8019169329073482\n"
     ]
    },
    {
     "name": "stderr",
     "output_type": "stream",
     "text": [
      "C:\\Users\\Paula\\anaconda3\\lib\\site-packages\\sklearn\\linear_model\\_sag.py:328: ConvergenceWarning: The max_iter was reached which means the coef_ did not converge\n",
      "  warnings.warn(\"The max_iter was reached which means \"\n"
     ]
    },
    {
     "name": "stdout",
     "output_type": "stream",
     "text": [
      "AUC: 0.7865\n",
      "Confusion Matrix:\n",
      "[[148  31]\n",
      " [ 34 100]]\n",
      "Accuracy Score: 0.792332268370607\n"
     ]
    },
    {
     "name": "stderr",
     "output_type": "stream",
     "text": [
      "C:\\Users\\Paula\\anaconda3\\lib\\site-packages\\sklearn\\linear_model\\_sag.py:328: ConvergenceWarning: The max_iter was reached which means the coef_ did not converge\n",
      "  warnings.warn(\"The max_iter was reached which means \"\n"
     ]
    },
    {
     "name": "stdout",
     "output_type": "stream",
     "text": [
      "AUC: 0.8375\n",
      "Confusion Matrix:\n",
      "[[131  22]\n",
      " [ 29 131]]\n",
      "Accuracy Score: 0.8370607028753994\n"
     ]
    },
    {
     "name": "stderr",
     "output_type": "stream",
     "text": [
      "C:\\Users\\Paula\\anaconda3\\lib\\site-packages\\sklearn\\linear_model\\_sag.py:328: ConvergenceWarning: The max_iter was reached which means the coef_ did not converge\n",
      "  warnings.warn(\"The max_iter was reached which means \"\n"
     ]
    },
    {
     "name": "stdout",
     "output_type": "stream",
     "text": [
      "AUC: 0.7887\n",
      "Confusion Matrix:\n",
      "[[135  35]\n",
      " [ 31 112]]\n",
      "Accuracy Score: 0.7891373801916933\n"
     ]
    },
    {
     "name": "stderr",
     "output_type": "stream",
     "text": [
      "C:\\Users\\Paula\\anaconda3\\lib\\site-packages\\sklearn\\linear_model\\_sag.py:328: ConvergenceWarning: The max_iter was reached which means the coef_ did not converge\n",
      "  warnings.warn(\"The max_iter was reached which means \"\n"
     ]
    },
    {
     "name": "stdout",
     "output_type": "stream",
     "text": [
      "AUC: 0.7786\n",
      "Confusion Matrix:\n",
      "[[123  26]\n",
      " [ 44 120]]\n",
      "Accuracy Score: 0.7763578274760383\n"
     ]
    },
    {
     "name": "stderr",
     "output_type": "stream",
     "text": [
      "C:\\Users\\Paula\\anaconda3\\lib\\site-packages\\sklearn\\linear_model\\_sag.py:328: ConvergenceWarning: The max_iter was reached which means the coef_ did not converge\n",
      "  warnings.warn(\"The max_iter was reached which means \"\n"
     ]
    },
    {
     "name": "stdout",
     "output_type": "stream",
     "text": [
      "AUC: 0.8152\n",
      "Confusion Matrix:\n",
      "[[146  28]\n",
      " [ 29 110]]\n",
      "Accuracy Score: 0.8178913738019169\n"
     ]
    },
    {
     "name": "stderr",
     "output_type": "stream",
     "text": [
      "C:\\Users\\Paula\\anaconda3\\lib\\site-packages\\sklearn\\linear_model\\_sag.py:328: ConvergenceWarning: The max_iter was reached which means the coef_ did not converge\n",
      "  warnings.warn(\"The max_iter was reached which means \"\n"
     ]
    },
    {
     "name": "stdout",
     "output_type": "stream",
     "text": [
      "AUC: 0.7718\n",
      "Confusion Matrix:\n",
      "[[133  27]\n",
      " [ 44 109]]\n",
      "Accuracy Score: 0.7731629392971247\n"
     ]
    },
    {
     "name": "stderr",
     "output_type": "stream",
     "text": [
      "C:\\Users\\Paula\\anaconda3\\lib\\site-packages\\sklearn\\linear_model\\_sag.py:328: ConvergenceWarning: The max_iter was reached which means the coef_ did not converge\n",
      "  warnings.warn(\"The max_iter was reached which means \"\n"
     ]
    },
    {
     "name": "stdout",
     "output_type": "stream",
     "text": [
      "AUC: 0.7265\n",
      "Confusion Matrix:\n",
      "[[128  33]\n",
      " [ 52 100]]\n",
      "Accuracy Score: 0.7284345047923323\n"
     ]
    },
    {
     "name": "stderr",
     "output_type": "stream",
     "text": [
      "C:\\Users\\Paula\\anaconda3\\lib\\site-packages\\sklearn\\linear_model\\_sag.py:328: ConvergenceWarning: The max_iter was reached which means the coef_ did not converge\n",
      "  warnings.warn(\"The max_iter was reached which means \"\n"
     ]
    },
    {
     "name": "stdout",
     "output_type": "stream",
     "text": [
      "AUC: 0.7468\n",
      "Confusion Matrix:\n",
      "[[138  37]\n",
      " [ 41  98]]\n",
      "Accuracy Score: 0.7515923566878981\n"
     ]
    },
    {
     "name": "stderr",
     "output_type": "stream",
     "text": [
      "C:\\Users\\Paula\\anaconda3\\lib\\site-packages\\sklearn\\linear_model\\_sag.py:328: ConvergenceWarning: The max_iter was reached which means the coef_ did not converge\n",
      "  warnings.warn(\"The max_iter was reached which means \"\n"
     ]
    },
    {
     "name": "stdout",
     "output_type": "stream",
     "text": [
      "AUC: 0.7659\n",
      "Confusion Matrix:\n",
      "[[130  29]\n",
      " [ 44 110]]\n",
      "Accuracy Score: 0.7667731629392971\n"
     ]
    },
    {
     "name": "stderr",
     "output_type": "stream",
     "text": [
      "C:\\Users\\Paula\\anaconda3\\lib\\site-packages\\sklearn\\linear_model\\_sag.py:328: ConvergenceWarning: The max_iter was reached which means the coef_ did not converge\n",
      "  warnings.warn(\"The max_iter was reached which means \"\n"
     ]
    },
    {
     "name": "stdout",
     "output_type": "stream",
     "text": [
      "AUC: 0.7992\n",
      "Confusion Matrix:\n",
      "[[140  25]\n",
      " [ 37 111]]\n",
      "Accuracy Score: 0.8019169329073482\n"
     ]
    },
    {
     "name": "stderr",
     "output_type": "stream",
     "text": [
      "C:\\Users\\Paula\\anaconda3\\lib\\site-packages\\sklearn\\linear_model\\_sag.py:328: ConvergenceWarning: The max_iter was reached which means the coef_ did not converge\n",
      "  warnings.warn(\"The max_iter was reached which means \"\n"
     ]
    },
    {
     "name": "stdout",
     "output_type": "stream",
     "text": [
      "AUC: 0.7865\n",
      "Confusion Matrix:\n",
      "[[148  31]\n",
      " [ 34 100]]\n",
      "Accuracy Score: 0.792332268370607\n"
     ]
    },
    {
     "name": "stderr",
     "output_type": "stream",
     "text": [
      "C:\\Users\\Paula\\anaconda3\\lib\\site-packages\\sklearn\\linear_model\\_sag.py:328: ConvergenceWarning: The max_iter was reached which means the coef_ did not converge\n",
      "  warnings.warn(\"The max_iter was reached which means \"\n"
     ]
    },
    {
     "name": "stdout",
     "output_type": "stream",
     "text": [
      "AUC: 0.8375\n",
      "Confusion Matrix:\n",
      "[[131  22]\n",
      " [ 29 131]]\n",
      "Accuracy Score: 0.8370607028753994\n"
     ]
    },
    {
     "name": "stderr",
     "output_type": "stream",
     "text": [
      "C:\\Users\\Paula\\anaconda3\\lib\\site-packages\\sklearn\\linear_model\\_sag.py:328: ConvergenceWarning: The max_iter was reached which means the coef_ did not converge\n",
      "  warnings.warn(\"The max_iter was reached which means \"\n"
     ]
    },
    {
     "name": "stdout",
     "output_type": "stream",
     "text": [
      "AUC: 0.7887\n",
      "Confusion Matrix:\n",
      "[[135  35]\n",
      " [ 31 112]]\n",
      "Accuracy Score: 0.7891373801916933\n"
     ]
    },
    {
     "name": "stderr",
     "output_type": "stream",
     "text": [
      "C:\\Users\\Paula\\anaconda3\\lib\\site-packages\\sklearn\\linear_model\\_sag.py:328: ConvergenceWarning: The max_iter was reached which means the coef_ did not converge\n",
      "  warnings.warn(\"The max_iter was reached which means \"\n"
     ]
    },
    {
     "name": "stdout",
     "output_type": "stream",
     "text": [
      "AUC: 0.7786\n",
      "Confusion Matrix:\n",
      "[[123  26]\n",
      " [ 44 120]]\n",
      "Accuracy Score: 0.7763578274760383\n"
     ]
    },
    {
     "name": "stderr",
     "output_type": "stream",
     "text": [
      "C:\\Users\\Paula\\anaconda3\\lib\\site-packages\\sklearn\\linear_model\\_sag.py:328: ConvergenceWarning: The max_iter was reached which means the coef_ did not converge\n",
      "  warnings.warn(\"The max_iter was reached which means \"\n"
     ]
    },
    {
     "name": "stdout",
     "output_type": "stream",
     "text": [
      "AUC: 0.8152\n",
      "Confusion Matrix:\n",
      "[[146  28]\n",
      " [ 29 110]]\n",
      "Accuracy Score: 0.8178913738019169\n"
     ]
    },
    {
     "name": "stderr",
     "output_type": "stream",
     "text": [
      "C:\\Users\\Paula\\anaconda3\\lib\\site-packages\\sklearn\\linear_model\\_sag.py:328: ConvergenceWarning: The max_iter was reached which means the coef_ did not converge\n",
      "  warnings.warn(\"The max_iter was reached which means \"\n"
     ]
    },
    {
     "name": "stdout",
     "output_type": "stream",
     "text": [
      "AUC: 0.7718\n",
      "Confusion Matrix:\n",
      "[[133  27]\n",
      " [ 44 109]]\n",
      "Accuracy Score: 0.7731629392971247\n"
     ]
    },
    {
     "name": "stderr",
     "output_type": "stream",
     "text": [
      "C:\\Users\\Paula\\anaconda3\\lib\\site-packages\\sklearn\\linear_model\\_sag.py:328: ConvergenceWarning: The max_iter was reached which means the coef_ did not converge\n",
      "  warnings.warn(\"The max_iter was reached which means \"\n"
     ]
    },
    {
     "name": "stdout",
     "output_type": "stream",
     "text": [
      "AUC: 0.7265\n",
      "Confusion Matrix:\n",
      "[[128  33]\n",
      " [ 52 100]]\n",
      "Accuracy Score: 0.7284345047923323\n"
     ]
    },
    {
     "name": "stderr",
     "output_type": "stream",
     "text": [
      "C:\\Users\\Paula\\anaconda3\\lib\\site-packages\\sklearn\\linear_model\\_sag.py:328: ConvergenceWarning: The max_iter was reached which means the coef_ did not converge\n",
      "  warnings.warn(\"The max_iter was reached which means \"\n"
     ]
    },
    {
     "name": "stdout",
     "output_type": "stream",
     "text": [
      "AUC: 0.7468\n",
      "Confusion Matrix:\n",
      "[[138  37]\n",
      " [ 41  98]]\n",
      "Accuracy Score: 0.7515923566878981\n"
     ]
    },
    {
     "name": "stderr",
     "output_type": "stream",
     "text": [
      "C:\\Users\\Paula\\anaconda3\\lib\\site-packages\\sklearn\\linear_model\\_sag.py:328: ConvergenceWarning: The max_iter was reached which means the coef_ did not converge\n",
      "  warnings.warn(\"The max_iter was reached which means \"\n"
     ]
    },
    {
     "name": "stdout",
     "output_type": "stream",
     "text": [
      "AUC: 0.7659\n",
      "Confusion Matrix:\n",
      "[[130  29]\n",
      " [ 44 110]]\n",
      "Accuracy Score: 0.7667731629392971\n"
     ]
    },
    {
     "name": "stderr",
     "output_type": "stream",
     "text": [
      "C:\\Users\\Paula\\anaconda3\\lib\\site-packages\\sklearn\\linear_model\\_sag.py:328: ConvergenceWarning: The max_iter was reached which means the coef_ did not converge\n",
      "  warnings.warn(\"The max_iter was reached which means \"\n"
     ]
    },
    {
     "name": "stdout",
     "output_type": "stream",
     "text": [
      "AUC: 0.7992\n",
      "Confusion Matrix:\n",
      "[[140  25]\n",
      " [ 37 111]]\n",
      "Accuracy Score: 0.8019169329073482\n"
     ]
    },
    {
     "name": "stderr",
     "output_type": "stream",
     "text": [
      "C:\\Users\\Paula\\anaconda3\\lib\\site-packages\\sklearn\\linear_model\\_sag.py:328: ConvergenceWarning: The max_iter was reached which means the coef_ did not converge\n",
      "  warnings.warn(\"The max_iter was reached which means \"\n"
     ]
    },
    {
     "name": "stdout",
     "output_type": "stream",
     "text": [
      "AUC: 0.7865\n",
      "Confusion Matrix:\n",
      "[[148  31]\n",
      " [ 34 100]]\n",
      "Accuracy Score: 0.792332268370607\n"
     ]
    },
    {
     "name": "stderr",
     "output_type": "stream",
     "text": [
      "C:\\Users\\Paula\\anaconda3\\lib\\site-packages\\sklearn\\linear_model\\_sag.py:328: ConvergenceWarning: The max_iter was reached which means the coef_ did not converge\n",
      "  warnings.warn(\"The max_iter was reached which means \"\n"
     ]
    },
    {
     "name": "stdout",
     "output_type": "stream",
     "text": [
      "AUC: 0.8375\n",
      "Confusion Matrix:\n",
      "[[131  22]\n",
      " [ 29 131]]\n",
      "Accuracy Score: 0.8370607028753994\n"
     ]
    },
    {
     "name": "stderr",
     "output_type": "stream",
     "text": [
      "C:\\Users\\Paula\\anaconda3\\lib\\site-packages\\sklearn\\linear_model\\_sag.py:328: ConvergenceWarning: The max_iter was reached which means the coef_ did not converge\n",
      "  warnings.warn(\"The max_iter was reached which means \"\n"
     ]
    },
    {
     "name": "stdout",
     "output_type": "stream",
     "text": [
      "AUC: 0.7887\n",
      "Confusion Matrix:\n",
      "[[135  35]\n",
      " [ 31 112]]\n",
      "Accuracy Score: 0.7891373801916933\n"
     ]
    },
    {
     "name": "stderr",
     "output_type": "stream",
     "text": [
      "C:\\Users\\Paula\\anaconda3\\lib\\site-packages\\sklearn\\linear_model\\_sag.py:328: ConvergenceWarning: The max_iter was reached which means the coef_ did not converge\n",
      "  warnings.warn(\"The max_iter was reached which means \"\n"
     ]
    },
    {
     "name": "stdout",
     "output_type": "stream",
     "text": [
      "AUC: 0.7786\n",
      "Confusion Matrix:\n",
      "[[123  26]\n",
      " [ 44 120]]\n",
      "Accuracy Score: 0.7763578274760383\n"
     ]
    },
    {
     "name": "stderr",
     "output_type": "stream",
     "text": [
      "C:\\Users\\Paula\\anaconda3\\lib\\site-packages\\sklearn\\linear_model\\_sag.py:328: ConvergenceWarning: The max_iter was reached which means the coef_ did not converge\n",
      "  warnings.warn(\"The max_iter was reached which means \"\n"
     ]
    },
    {
     "name": "stdout",
     "output_type": "stream",
     "text": [
      "AUC: 0.8152\n",
      "Confusion Matrix:\n",
      "[[146  28]\n",
      " [ 29 110]]\n",
      "Accuracy Score: 0.8178913738019169\n"
     ]
    },
    {
     "name": "stderr",
     "output_type": "stream",
     "text": [
      "C:\\Users\\Paula\\anaconda3\\lib\\site-packages\\sklearn\\linear_model\\_sag.py:328: ConvergenceWarning: The max_iter was reached which means the coef_ did not converge\n",
      "  warnings.warn(\"The max_iter was reached which means \"\n"
     ]
    },
    {
     "name": "stdout",
     "output_type": "stream",
     "text": [
      "AUC: 0.7718\n",
      "Confusion Matrix:\n",
      "[[133  27]\n",
      " [ 44 109]]\n",
      "Accuracy Score: 0.7731629392971247\n"
     ]
    },
    {
     "name": "stderr",
     "output_type": "stream",
     "text": [
      "C:\\Users\\Paula\\anaconda3\\lib\\site-packages\\sklearn\\linear_model\\_sag.py:328: ConvergenceWarning: The max_iter was reached which means the coef_ did not converge\n",
      "  warnings.warn(\"The max_iter was reached which means \"\n"
     ]
    },
    {
     "name": "stdout",
     "output_type": "stream",
     "text": [
      "AUC: 0.7265\n",
      "Confusion Matrix:\n",
      "[[128  33]\n",
      " [ 52 100]]\n",
      "Accuracy Score: 0.7284345047923323\n"
     ]
    },
    {
     "name": "stderr",
     "output_type": "stream",
     "text": [
      "C:\\Users\\Paula\\anaconda3\\lib\\site-packages\\sklearn\\linear_model\\_sag.py:328: ConvergenceWarning: The max_iter was reached which means the coef_ did not converge\n",
      "  warnings.warn(\"The max_iter was reached which means \"\n"
     ]
    },
    {
     "name": "stdout",
     "output_type": "stream",
     "text": [
      "AUC: 0.7468\n",
      "Confusion Matrix:\n",
      "[[138  37]\n",
      " [ 41  98]]\n",
      "Accuracy Score: 0.7515923566878981\n"
     ]
    },
    {
     "name": "stderr",
     "output_type": "stream",
     "text": [
      "C:\\Users\\Paula\\anaconda3\\lib\\site-packages\\sklearn\\linear_model\\_sag.py:328: ConvergenceWarning: The max_iter was reached which means the coef_ did not converge\n",
      "  warnings.warn(\"The max_iter was reached which means \"\n"
     ]
    },
    {
     "name": "stdout",
     "output_type": "stream",
     "text": [
      "AUC: 0.7659\n",
      "Confusion Matrix:\n",
      "[[130  29]\n",
      " [ 44 110]]\n",
      "Accuracy Score: 0.7667731629392971\n"
     ]
    },
    {
     "name": "stderr",
     "output_type": "stream",
     "text": [
      "C:\\Users\\Paula\\anaconda3\\lib\\site-packages\\sklearn\\linear_model\\_sag.py:328: ConvergenceWarning: The max_iter was reached which means the coef_ did not converge\n",
      "  warnings.warn(\"The max_iter was reached which means \"\n"
     ]
    },
    {
     "name": "stdout",
     "output_type": "stream",
     "text": [
      "AUC: 0.8023\n",
      "Confusion Matrix:\n",
      "[[141  24]\n",
      " [ 37 111]]\n",
      "Accuracy Score: 0.805111821086262\n"
     ]
    },
    {
     "name": "stderr",
     "output_type": "stream",
     "text": [
      "C:\\Users\\Paula\\anaconda3\\lib\\site-packages\\sklearn\\linear_model\\_sag.py:328: ConvergenceWarning: The max_iter was reached which means the coef_ did not converge\n",
      "  warnings.warn(\"The max_iter was reached which means \"\n"
     ]
    },
    {
     "name": "stdout",
     "output_type": "stream",
     "text": [
      "AUC: 0.7865\n",
      "Confusion Matrix:\n",
      "[[148  31]\n",
      " [ 34 100]]\n",
      "Accuracy Score: 0.792332268370607\n"
     ]
    },
    {
     "name": "stderr",
     "output_type": "stream",
     "text": [
      "C:\\Users\\Paula\\anaconda3\\lib\\site-packages\\sklearn\\linear_model\\_sag.py:328: ConvergenceWarning: The max_iter was reached which means the coef_ did not converge\n",
      "  warnings.warn(\"The max_iter was reached which means \"\n"
     ]
    },
    {
     "name": "stdout",
     "output_type": "stream",
     "text": [
      "AUC: 0.8375\n",
      "Confusion Matrix:\n",
      "[[131  22]\n",
      " [ 29 131]]\n",
      "Accuracy Score: 0.8370607028753994\n"
     ]
    },
    {
     "name": "stderr",
     "output_type": "stream",
     "text": [
      "C:\\Users\\Paula\\anaconda3\\lib\\site-packages\\sklearn\\linear_model\\_sag.py:328: ConvergenceWarning: The max_iter was reached which means the coef_ did not converge\n",
      "  warnings.warn(\"The max_iter was reached which means \"\n"
     ]
    },
    {
     "name": "stdout",
     "output_type": "stream",
     "text": [
      "AUC: 0.7887\n",
      "Confusion Matrix:\n",
      "[[135  35]\n",
      " [ 31 112]]\n",
      "Accuracy Score: 0.7891373801916933\n"
     ]
    },
    {
     "name": "stderr",
     "output_type": "stream",
     "text": [
      "C:\\Users\\Paula\\anaconda3\\lib\\site-packages\\sklearn\\linear_model\\_sag.py:328: ConvergenceWarning: The max_iter was reached which means the coef_ did not converge\n",
      "  warnings.warn(\"The max_iter was reached which means \"\n"
     ]
    },
    {
     "name": "stdout",
     "output_type": "stream",
     "text": [
      "AUC: 0.7786\n",
      "Confusion Matrix:\n",
      "[[123  26]\n",
      " [ 44 120]]\n",
      "Accuracy Score: 0.7763578274760383\n"
     ]
    },
    {
     "name": "stderr",
     "output_type": "stream",
     "text": [
      "C:\\Users\\Paula\\anaconda3\\lib\\site-packages\\sklearn\\linear_model\\_sag.py:328: ConvergenceWarning: The max_iter was reached which means the coef_ did not converge\n",
      "  warnings.warn(\"The max_iter was reached which means \"\n"
     ]
    },
    {
     "name": "stdout",
     "output_type": "stream",
     "text": [
      "AUC: 0.8152\n",
      "Confusion Matrix:\n",
      "[[146  28]\n",
      " [ 29 110]]\n",
      "Accuracy Score: 0.8178913738019169\n"
     ]
    },
    {
     "name": "stderr",
     "output_type": "stream",
     "text": [
      "C:\\Users\\Paula\\anaconda3\\lib\\site-packages\\sklearn\\linear_model\\_sag.py:328: ConvergenceWarning: The max_iter was reached which means the coef_ did not converge\n",
      "  warnings.warn(\"The max_iter was reached which means \"\n"
     ]
    },
    {
     "name": "stdout",
     "output_type": "stream",
     "text": [
      "AUC: 0.7718\n",
      "Confusion Matrix:\n",
      "[[133  27]\n",
      " [ 44 109]]\n",
      "Accuracy Score: 0.7731629392971247\n"
     ]
    },
    {
     "name": "stderr",
     "output_type": "stream",
     "text": [
      "C:\\Users\\Paula\\anaconda3\\lib\\site-packages\\sklearn\\linear_model\\_sag.py:328: ConvergenceWarning: The max_iter was reached which means the coef_ did not converge\n",
      "  warnings.warn(\"The max_iter was reached which means \"\n"
     ]
    },
    {
     "name": "stdout",
     "output_type": "stream",
     "text": [
      "AUC: 0.7265\n",
      "Confusion Matrix:\n",
      "[[128  33]\n",
      " [ 52 100]]\n",
      "Accuracy Score: 0.7284345047923323\n"
     ]
    },
    {
     "name": "stderr",
     "output_type": "stream",
     "text": [
      "C:\\Users\\Paula\\anaconda3\\lib\\site-packages\\sklearn\\linear_model\\_sag.py:328: ConvergenceWarning: The max_iter was reached which means the coef_ did not converge\n",
      "  warnings.warn(\"The max_iter was reached which means \"\n"
     ]
    },
    {
     "name": "stdout",
     "output_type": "stream",
     "text": [
      "AUC: 0.7504\n",
      "Confusion Matrix:\n",
      "[[138  37]\n",
      " [ 40  99]]\n",
      "Accuracy Score: 0.7547770700636943\n"
     ]
    },
    {
     "name": "stderr",
     "output_type": "stream",
     "text": [
      "C:\\Users\\Paula\\anaconda3\\lib\\site-packages\\sklearn\\linear_model\\_sag.py:328: ConvergenceWarning: The max_iter was reached which means the coef_ did not converge\n",
      "  warnings.warn(\"The max_iter was reached which means \"\n"
     ]
    },
    {
     "name": "stdout",
     "output_type": "stream",
     "text": [
      "AUC: 0.7628\n",
      "Confusion Matrix:\n",
      "[[129  30]\n",
      " [ 44 110]]\n",
      "Accuracy Score: 0.7635782747603834\n"
     ]
    },
    {
     "name": "stderr",
     "output_type": "stream",
     "text": [
      "C:\\Users\\Paula\\anaconda3\\lib\\site-packages\\sklearn\\linear_model\\_sag.py:328: ConvergenceWarning: The max_iter was reached which means the coef_ did not converge\n",
      "  warnings.warn(\"The max_iter was reached which means \"\n"
     ]
    },
    {
     "name": "stdout",
     "output_type": "stream",
     "text": [
      "AUC: 0.8023\n",
      "Confusion Matrix:\n",
      "[[141  24]\n",
      " [ 37 111]]\n",
      "Accuracy Score: 0.805111821086262\n"
     ]
    },
    {
     "name": "stderr",
     "output_type": "stream",
     "text": [
      "C:\\Users\\Paula\\anaconda3\\lib\\site-packages\\sklearn\\linear_model\\_sag.py:328: ConvergenceWarning: The max_iter was reached which means the coef_ did not converge\n",
      "  warnings.warn(\"The max_iter was reached which means \"\n"
     ]
    },
    {
     "name": "stdout",
     "output_type": "stream",
     "text": [
      "AUC: 0.7903\n",
      "Confusion Matrix:\n",
      "[[148  31]\n",
      " [ 33 101]]\n",
      "Accuracy Score: 0.7955271565495208\n"
     ]
    },
    {
     "name": "stderr",
     "output_type": "stream",
     "text": [
      "C:\\Users\\Paula\\anaconda3\\lib\\site-packages\\sklearn\\linear_model\\_sag.py:328: ConvergenceWarning: The max_iter was reached which means the coef_ did not converge\n",
      "  warnings.warn(\"The max_iter was reached which means \"\n"
     ]
    },
    {
     "name": "stdout",
     "output_type": "stream",
     "text": [
      "AUC: 0.8341\n",
      "Confusion Matrix:\n",
      "[[129  24]\n",
      " [ 28 132]]\n",
      "Accuracy Score: 0.8338658146964856\n"
     ]
    },
    {
     "name": "stderr",
     "output_type": "stream",
     "text": [
      "C:\\Users\\Paula\\anaconda3\\lib\\site-packages\\sklearn\\linear_model\\_sag.py:328: ConvergenceWarning: The max_iter was reached which means the coef_ did not converge\n",
      "  warnings.warn(\"The max_iter was reached which means \"\n"
     ]
    },
    {
     "name": "stdout",
     "output_type": "stream",
     "text": [
      "AUC: 0.7951\n",
      "Confusion Matrix:\n",
      "[[136  34]\n",
      " [ 30 113]]\n",
      "Accuracy Score: 0.7955271565495208\n"
     ]
    },
    {
     "name": "stderr",
     "output_type": "stream",
     "text": [
      "C:\\Users\\Paula\\anaconda3\\lib\\site-packages\\sklearn\\linear_model\\_sag.py:328: ConvergenceWarning: The max_iter was reached which means the coef_ did not converge\n",
      "  warnings.warn(\"The max_iter was reached which means \"\n"
     ]
    },
    {
     "name": "stdout",
     "output_type": "stream",
     "text": [
      "AUC: 0.7847\n",
      "Confusion Matrix:\n",
      "[[123  26]\n",
      " [ 42 122]]\n",
      "Accuracy Score: 0.7827476038338658\n"
     ]
    },
    {
     "name": "stderr",
     "output_type": "stream",
     "text": [
      "C:\\Users\\Paula\\anaconda3\\lib\\site-packages\\sklearn\\linear_model\\_sag.py:328: ConvergenceWarning: The max_iter was reached which means the coef_ did not converge\n",
      "  warnings.warn(\"The max_iter was reached which means \"\n"
     ]
    },
    {
     "name": "stdout",
     "output_type": "stream",
     "text": [
      "AUC: 0.8188\n",
      "Confusion Matrix:\n",
      "[[146  28]\n",
      " [ 28 111]]\n",
      "Accuracy Score: 0.8210862619808307\n"
     ]
    },
    {
     "name": "stderr",
     "output_type": "stream",
     "text": [
      "C:\\Users\\Paula\\anaconda3\\lib\\site-packages\\sklearn\\linear_model\\_sag.py:328: ConvergenceWarning: The max_iter was reached which means the coef_ did not converge\n",
      "  warnings.warn(\"The max_iter was reached which means \"\n"
     ]
    },
    {
     "name": "stdout",
     "output_type": "stream",
     "text": [
      "AUC: 0.7751\n",
      "Confusion Matrix:\n",
      "[[133  27]\n",
      " [ 43 110]]\n",
      "Accuracy Score: 0.7763578274760383\n"
     ]
    },
    {
     "name": "stderr",
     "output_type": "stream",
     "text": [
      "C:\\Users\\Paula\\anaconda3\\lib\\site-packages\\sklearn\\linear_model\\_sag.py:328: ConvergenceWarning: The max_iter was reached which means the coef_ did not converge\n",
      "  warnings.warn(\"The max_iter was reached which means \"\n"
     ]
    },
    {
     "name": "stdout",
     "output_type": "stream",
     "text": [
      "AUC: 0.7168\n",
      "Confusion Matrix:\n",
      "[[127  34]\n",
      " [ 54  98]]\n",
      "Accuracy Score: 0.7188498402555911\n"
     ]
    },
    {
     "name": "stderr",
     "output_type": "stream",
     "text": [
      "C:\\Users\\Paula\\anaconda3\\lib\\site-packages\\sklearn\\linear_model\\_sag.py:328: ConvergenceWarning: The max_iter was reached which means the coef_ did not converge\n",
      "  warnings.warn(\"The max_iter was reached which means \"\n"
     ]
    },
    {
     "name": "stdout",
     "output_type": "stream",
     "text": [
      "AUC: 0.7626\n",
      "Confusion Matrix:\n",
      "[[141  34]\n",
      " [ 39 100]]\n",
      "Accuracy Score: 0.767515923566879\n"
     ]
    },
    {
     "name": "stderr",
     "output_type": "stream",
     "text": [
      "C:\\Users\\Paula\\anaconda3\\lib\\site-packages\\sklearn\\linear_model\\_sag.py:328: ConvergenceWarning: The max_iter was reached which means the coef_ did not converge\n",
      "  warnings.warn(\"The max_iter was reached which means \"\n"
     ]
    },
    {
     "name": "stdout",
     "output_type": "stream",
     "text": [
      "AUC: 0.7628\n",
      "Confusion Matrix:\n",
      "[[129  30]\n",
      " [ 44 110]]\n",
      "Accuracy Score: 0.7635782747603834\n"
     ]
    },
    {
     "name": "stderr",
     "output_type": "stream",
     "text": [
      "C:\\Users\\Paula\\anaconda3\\lib\\site-packages\\sklearn\\linear_model\\_sag.py:328: ConvergenceWarning: The max_iter was reached which means the coef_ did not converge\n",
      "  warnings.warn(\"The max_iter was reached which means \"\n"
     ]
    },
    {
     "name": "stdout",
     "output_type": "stream",
     "text": [
      "AUC: 0.7793\n",
      "Confusion Matrix:\n",
      "[[139  26]\n",
      " [ 42 106]]\n",
      "Accuracy Score: 0.7827476038338658\n"
     ]
    },
    {
     "name": "stderr",
     "output_type": "stream",
     "text": [
      "C:\\Users\\Paula\\anaconda3\\lib\\site-packages\\sklearn\\linear_model\\_sag.py:328: ConvergenceWarning: The max_iter was reached which means the coef_ did not converge\n",
      "  warnings.warn(\"The max_iter was reached which means \"\n"
     ]
    },
    {
     "name": "stdout",
     "output_type": "stream",
     "text": [
      "AUC: 0.7632\n",
      "Confusion Matrix:\n",
      "[[145  34]\n",
      " [ 38  96]]\n",
      "Accuracy Score: 0.7699680511182109\n"
     ]
    },
    {
     "name": "stderr",
     "output_type": "stream",
     "text": [
      "C:\\Users\\Paula\\anaconda3\\lib\\site-packages\\sklearn\\linear_model\\_sag.py:328: ConvergenceWarning: The max_iter was reached which means the coef_ did not converge\n",
      "  warnings.warn(\"The max_iter was reached which means \"\n"
     ]
    },
    {
     "name": "stdout",
     "output_type": "stream",
     "text": [
      "AUC: 0.8244\n",
      "Confusion Matrix:\n",
      "[[127  26]\n",
      " [ 29 131]]\n",
      "Accuracy Score: 0.8242811501597445\n"
     ]
    },
    {
     "name": "stderr",
     "output_type": "stream",
     "text": [
      "C:\\Users\\Paula\\anaconda3\\lib\\site-packages\\sklearn\\linear_model\\_sag.py:328: ConvergenceWarning: The max_iter was reached which means the coef_ did not converge\n",
      "  warnings.warn(\"The max_iter was reached which means \"\n"
     ]
    },
    {
     "name": "stdout",
     "output_type": "stream",
     "text": [
      "AUC: 0.7922\n",
      "Confusion Matrix:\n",
      "[[135  35]\n",
      " [ 30 113]]\n",
      "Accuracy Score: 0.792332268370607\n"
     ]
    },
    {
     "name": "stderr",
     "output_type": "stream",
     "text": [
      "C:\\Users\\Paula\\anaconda3\\lib\\site-packages\\sklearn\\linear_model\\_sag.py:328: ConvergenceWarning: The max_iter was reached which means the coef_ did not converge\n",
      "  warnings.warn(\"The max_iter was reached which means \"\n"
     ]
    },
    {
     "name": "stdout",
     "output_type": "stream",
     "text": [
      "AUC: 0.7756\n",
      "Confusion Matrix:\n",
      "[[123  26]\n",
      " [ 45 119]]\n",
      "Accuracy Score: 0.7731629392971247\n"
     ]
    },
    {
     "name": "stderr",
     "output_type": "stream",
     "text": [
      "C:\\Users\\Paula\\anaconda3\\lib\\site-packages\\sklearn\\linear_model\\_sag.py:328: ConvergenceWarning: The max_iter was reached which means the coef_ did not converge\n",
      "  warnings.warn(\"The max_iter was reached which means \"\n"
     ]
    },
    {
     "name": "stdout",
     "output_type": "stream",
     "text": [
      "AUC: 0.8088\n",
      "Confusion Matrix:\n",
      "[[145  29]\n",
      " [ 30 109]]\n",
      "Accuracy Score: 0.8115015974440895\n"
     ]
    },
    {
     "name": "stderr",
     "output_type": "stream",
     "text": [
      "C:\\Users\\Paula\\anaconda3\\lib\\site-packages\\sklearn\\linear_model\\_sag.py:328: ConvergenceWarning: The max_iter was reached which means the coef_ did not converge\n",
      "  warnings.warn(\"The max_iter was reached which means \"\n"
     ]
    },
    {
     "name": "stdout",
     "output_type": "stream",
     "text": [
      "AUC: 0.7815\n",
      "Confusion Matrix:\n",
      "[[134  26]\n",
      " [ 42 111]]\n",
      "Accuracy Score: 0.7827476038338658\n"
     ]
    },
    {
     "name": "stderr",
     "output_type": "stream",
     "text": [
      "C:\\Users\\Paula\\anaconda3\\lib\\site-packages\\sklearn\\linear_model\\_sag.py:328: ConvergenceWarning: The max_iter was reached which means the coef_ did not converge\n",
      "  warnings.warn(\"The max_iter was reached which means \"\n"
     ]
    },
    {
     "name": "stdout",
     "output_type": "stream",
     "text": [
      "AUC: 0.7104\n",
      "Confusion Matrix:\n",
      "[[126  35]\n",
      " [ 55  97]]\n",
      "Accuracy Score: 0.7124600638977636\n",
      "AUC: 0.7309\n",
      "Confusion Matrix:\n",
      "[[140  35]\n",
      " [ 47  92]]\n",
      "Accuracy Score: 0.7388535031847133\n",
      "AUC: 0.7394\n",
      "Confusion Matrix:\n",
      "[[136  23]\n",
      " [ 58  96]]\n",
      "Accuracy Score: 0.7412140575079872\n",
      "AUC: 0.7580\n",
      "Confusion Matrix:\n",
      "[[142  23]\n",
      " [ 51  97]]\n",
      "Accuracy Score: 0.7635782747603834\n",
      "AUC: 0.7352\n",
      "Confusion Matrix:\n",
      "[[147  32]\n",
      " [ 47  87]]\n",
      "Accuracy Score: 0.7476038338658147\n",
      "AUC: 0.7910\n",
      "Confusion Matrix:\n",
      "[[134  19]\n",
      " [ 47 113]]\n",
      "Accuracy Score: 0.7891373801916933\n",
      "AUC: 0.7467\n",
      "Confusion Matrix:\n",
      "[[135  35]\n",
      " [ 43 100]]\n",
      "Accuracy Score: 0.7507987220447284\n",
      "AUC: 0.7338\n",
      "Confusion Matrix:\n",
      "[[126  23]\n",
      " [ 62 102]]\n",
      "Accuracy Score: 0.7284345047923323\n",
      "AUC: 0.7814\n",
      "Confusion Matrix:\n",
      "[[148  26]\n",
      " [ 40  99]]\n",
      "Accuracy Score: 0.7891373801916933\n",
      "AUC: 0.7485\n",
      "Confusion Matrix:\n",
      "[[136  24]\n",
      " [ 54  99]]\n",
      "Accuracy Score: 0.7507987220447284\n",
      "AUC: 0.6641\n",
      "Confusion Matrix:\n",
      "[[127  34]\n",
      " [ 70  82]]\n",
      "Accuracy Score: 0.6677316293929713\n",
      "AUC: 0.5000\n",
      "Confusion Matrix:\n",
      "[[175   0]\n",
      " [139   0]]\n",
      "Accuracy Score: 0.5573248407643312\n",
      "AUC: 0.5000\n",
      "Confusion Matrix:\n",
      "[[159   0]\n",
      " [154   0]]\n",
      "Accuracy Score: 0.5079872204472844\n",
      "AUC: 0.5000\n",
      "Confusion Matrix:\n",
      "[[165   0]\n",
      " [148   0]]\n",
      "Accuracy Score: 0.5271565495207667\n",
      "AUC: 0.5000\n",
      "Confusion Matrix:\n",
      "[[179   0]\n",
      " [134   0]]\n",
      "Accuracy Score: 0.5718849840255591\n",
      "AUC: 0.5000\n",
      "Confusion Matrix:\n",
      "[[153   0]\n",
      " [160   0]]\n",
      "Accuracy Score: 0.48881789137380194\n",
      "AUC: 0.5000\n",
      "Confusion Matrix:\n",
      "[[170   0]\n",
      " [143   0]]\n",
      "Accuracy Score: 0.5431309904153354\n",
      "AUC: 0.5000\n",
      "Confusion Matrix:\n",
      "[[149   0]\n",
      " [164   0]]\n",
      "Accuracy Score: 0.476038338658147\n",
      "AUC: 0.5000\n",
      "Confusion Matrix:\n",
      "[[174   0]\n",
      " [139   0]]\n",
      "Accuracy Score: 0.5559105431309904\n",
      "AUC: 0.5000\n",
      "Confusion Matrix:\n",
      "[[160   0]\n",
      " [153   0]]\n",
      "Accuracy Score: 0.5111821086261981\n",
      "AUC: 0.5000\n",
      "Confusion Matrix:\n",
      "[[161   0]\n",
      " [152   0]]\n",
      "Accuracy Score: 0.5143769968051118\n",
      "AUC: 0.5000\n",
      "Confusion Matrix:\n",
      "[[175   0]\n",
      " [139   0]]\n",
      "Accuracy Score: 0.5573248407643312\n",
      "AUC: 0.5000\n",
      "Confusion Matrix:\n",
      "[[159   0]\n",
      " [154   0]]\n",
      "Accuracy Score: 0.5079872204472844\n",
      "AUC: 0.5000\n",
      "Confusion Matrix:\n",
      "[[165   0]\n",
      " [148   0]]\n",
      "Accuracy Score: 0.5271565495207667\n",
      "AUC: 0.5000\n",
      "Confusion Matrix:\n",
      "[[179   0]\n",
      " [134   0]]\n",
      "Accuracy Score: 0.5718849840255591\n",
      "AUC: 0.5000\n",
      "Confusion Matrix:\n",
      "[[153   0]\n",
      " [160   0]]\n",
      "Accuracy Score: 0.48881789137380194\n",
      "AUC: 0.5000\n",
      "Confusion Matrix:\n",
      "[[170   0]\n",
      " [143   0]]\n",
      "Accuracy Score: 0.5431309904153354\n",
      "AUC: 0.5000\n",
      "Confusion Matrix:\n",
      "[[149   0]\n",
      " [164   0]]\n",
      "Accuracy Score: 0.476038338658147\n",
      "AUC: 0.5000\n",
      "Confusion Matrix:\n",
      "[[174   0]\n",
      " [139   0]]\n",
      "Accuracy Score: 0.5559105431309904\n",
      "AUC: 0.5000\n",
      "Confusion Matrix:\n",
      "[[160   0]\n",
      " [153   0]]\n",
      "Accuracy Score: 0.5111821086261981\n",
      "AUC: 0.5000\n",
      "Confusion Matrix:\n",
      "[[161   0]\n",
      " [152   0]]\n",
      "Accuracy Score: 0.5143769968051118\n",
      "AUC: 0.5000\n",
      "Confusion Matrix:\n",
      "[[175   0]\n",
      " [139   0]]\n",
      "Accuracy Score: 0.5573248407643312\n",
      "AUC: 0.5000\n",
      "Confusion Matrix:\n",
      "[[159   0]\n",
      " [154   0]]\n",
      "Accuracy Score: 0.5079872204472844\n",
      "AUC: 0.5000\n",
      "Confusion Matrix:\n",
      "[[165   0]\n",
      " [148   0]]\n",
      "Accuracy Score: 0.5271565495207667\n",
      "AUC: 0.5000\n",
      "Confusion Matrix:\n",
      "[[179   0]\n",
      " [134   0]]\n",
      "Accuracy Score: 0.5718849840255591\n",
      "AUC: 0.5000\n",
      "Confusion Matrix:\n",
      "[[153   0]\n",
      " [160   0]]\n",
      "Accuracy Score: 0.48881789137380194\n",
      "AUC: 0.5000\n",
      "Confusion Matrix:\n",
      "[[170   0]\n",
      " [143   0]]\n",
      "Accuracy Score: 0.5431309904153354\n",
      "AUC: 0.5000\n",
      "Confusion Matrix:\n",
      "[[149   0]\n",
      " [164   0]]\n",
      "Accuracy Score: 0.476038338658147\n",
      "AUC: 0.5000\n",
      "Confusion Matrix:\n",
      "[[174   0]\n",
      " [139   0]]\n",
      "Accuracy Score: 0.5559105431309904\n",
      "AUC: 0.5000\n",
      "Confusion Matrix:\n",
      "[[160   0]\n",
      " [153   0]]\n",
      "Accuracy Score: 0.5111821086261981\n",
      "AUC: 0.5000\n",
      "Confusion Matrix:\n",
      "[[161   0]\n",
      " [152   0]]\n",
      "Accuracy Score: 0.5143769968051118\n"
     ]
    },
    {
     "ename": "ValueError",
     "evalue": "Invalid RGBA argument: 'lightmagenta'",
     "output_type": "error",
     "traceback": [
      "\u001b[1;31m---------------------------------------------------------------------------\u001b[0m",
      "\u001b[1;31mValueError\u001b[0m                                Traceback (most recent call last)",
      "\u001b[1;32m<ipython-input-73-c07bab22dfe1>\u001b[0m in \u001b[0;36m<module>\u001b[1;34m\u001b[0m\n\u001b[0;32m     20\u001b[0m \u001b[0mcolors\u001b[0m \u001b[1;33m=\u001b[0m \u001b[1;33m[\u001b[0m\u001b[1;34m'lightblue'\u001b[0m\u001b[1;33m,\u001b[0m \u001b[1;34m'lightgreen'\u001b[0m\u001b[1;33m,\u001b[0m \u001b[1;34m'lightcoral'\u001b[0m\u001b[1;33m,\u001b[0m \u001b[1;34m'lightpink'\u001b[0m\u001b[1;33m,\u001b[0m \u001b[1;34m'lightyellow'\u001b[0m\u001b[1;33m,\u001b[0m \u001b[1;34m'lightgray'\u001b[0m\u001b[1;33m,\u001b[0m \u001b[1;34m'lightcyan'\u001b[0m\u001b[1;33m,\u001b[0m \u001b[1;34m'lightmagenta'\u001b[0m\u001b[1;33m,\u001b[0m \u001b[1;34m'lightsalmon'\u001b[0m\u001b[1;33m,\u001b[0m \u001b[1;34m'lightseagreen'\u001b[0m\u001b[1;33m]\u001b[0m\u001b[1;33m\u001b[0m\u001b[1;33m\u001b[0m\u001b[0m\n\u001b[0;32m     21\u001b[0m \u001b[1;32mfor\u001b[0m \u001b[0mpatch\u001b[0m\u001b[1;33m,\u001b[0m \u001b[0mcolor\u001b[0m \u001b[1;32min\u001b[0m \u001b[0mzip\u001b[0m\u001b[1;33m(\u001b[0m\u001b[0mboxplots\u001b[0m\u001b[1;33m[\u001b[0m\u001b[1;34m'boxes'\u001b[0m\u001b[1;33m]\u001b[0m\u001b[1;33m,\u001b[0m \u001b[0mcolors\u001b[0m\u001b[1;33m)\u001b[0m\u001b[1;33m:\u001b[0m\u001b[1;33m\u001b[0m\u001b[1;33m\u001b[0m\u001b[0m\n\u001b[1;32m---> 22\u001b[1;33m     \u001b[0mpatch\u001b[0m\u001b[1;33m.\u001b[0m\u001b[0mset_facecolor\u001b[0m\u001b[1;33m(\u001b[0m\u001b[0mcolor\u001b[0m\u001b[1;33m)\u001b[0m\u001b[1;33m\u001b[0m\u001b[1;33m\u001b[0m\u001b[0m\n\u001b[0m\u001b[0;32m     23\u001b[0m \u001b[1;31m# Lista de etiquetas para los boxplots\u001b[0m\u001b[1;33m\u001b[0m\u001b[1;33m\u001b[0m\u001b[1;33m\u001b[0m\u001b[0m\n\u001b[0;32m     24\u001b[0m \u001b[0max\u001b[0m\u001b[1;33m.\u001b[0m\u001b[0mxaxis\u001b[0m\u001b[1;33m.\u001b[0m\u001b[0mset\u001b[0m\u001b[1;33m(\u001b[0m\u001b[0mticklabels\u001b[0m\u001b[1;33m=\u001b[0m\u001b[1;33m[\u001b[0m\u001b[1;36m0.00001\u001b[0m\u001b[1;33m,\u001b[0m\u001b[1;36m0.0001\u001b[0m\u001b[1;33m,\u001b[0m\u001b[1;36m0.001\u001b[0m\u001b[1;33m,\u001b[0m\u001b[1;36m0.01\u001b[0m\u001b[1;33m,\u001b[0m\u001b[1;36m0.1\u001b[0m\u001b[1;33m,\u001b[0m\u001b[1;36m1\u001b[0m\u001b[1;33m,\u001b[0m\u001b[1;36m10\u001b[0m\u001b[1;33m,\u001b[0m\u001b[1;36m100\u001b[0m\u001b[1;33m,\u001b[0m\u001b[1;36m1000\u001b[0m\u001b[1;33m,\u001b[0m\u001b[1;36m10000\u001b[0m\u001b[1;33m,\u001b[0m\u001b[1;36m100000\u001b[0m\u001b[1;33m]\u001b[0m\u001b[1;33m)\u001b[0m\u001b[1;33m\u001b[0m\u001b[1;33m\u001b[0m\u001b[0m\n",
      "\u001b[1;32m~\\anaconda3\\lib\\site-packages\\matplotlib\\patches.py\u001b[0m in \u001b[0;36mset_facecolor\u001b[1;34m(self, color)\u001b[0m\n\u001b[0;32m    353\u001b[0m         \"\"\"\n\u001b[0;32m    354\u001b[0m         \u001b[0mself\u001b[0m\u001b[1;33m.\u001b[0m\u001b[0m_original_facecolor\u001b[0m \u001b[1;33m=\u001b[0m \u001b[0mcolor\u001b[0m\u001b[1;33m\u001b[0m\u001b[1;33m\u001b[0m\u001b[0m\n\u001b[1;32m--> 355\u001b[1;33m         \u001b[0mself\u001b[0m\u001b[1;33m.\u001b[0m\u001b[0m_set_facecolor\u001b[0m\u001b[1;33m(\u001b[0m\u001b[0mcolor\u001b[0m\u001b[1;33m)\u001b[0m\u001b[1;33m\u001b[0m\u001b[1;33m\u001b[0m\u001b[0m\n\u001b[0m\u001b[0;32m    356\u001b[0m \u001b[1;33m\u001b[0m\u001b[0m\n\u001b[0;32m    357\u001b[0m     \u001b[1;32mdef\u001b[0m \u001b[0mset_color\u001b[0m\u001b[1;33m(\u001b[0m\u001b[0mself\u001b[0m\u001b[1;33m,\u001b[0m \u001b[0mc\u001b[0m\u001b[1;33m)\u001b[0m\u001b[1;33m:\u001b[0m\u001b[1;33m\u001b[0m\u001b[1;33m\u001b[0m\u001b[0m\n",
      "\u001b[1;32m~\\anaconda3\\lib\\site-packages\\matplotlib\\patches.py\u001b[0m in \u001b[0;36m_set_facecolor\u001b[1;34m(self, color)\u001b[0m\n\u001b[0;32m    341\u001b[0m             \u001b[0mcolor\u001b[0m \u001b[1;33m=\u001b[0m \u001b[0mmpl\u001b[0m\u001b[1;33m.\u001b[0m\u001b[0mrcParams\u001b[0m\u001b[1;33m[\u001b[0m\u001b[1;34m'patch.facecolor'\u001b[0m\u001b[1;33m]\u001b[0m\u001b[1;33m\u001b[0m\u001b[1;33m\u001b[0m\u001b[0m\n\u001b[0;32m    342\u001b[0m         \u001b[0malpha\u001b[0m \u001b[1;33m=\u001b[0m \u001b[0mself\u001b[0m\u001b[1;33m.\u001b[0m\u001b[0m_alpha\u001b[0m \u001b[1;32mif\u001b[0m \u001b[0mself\u001b[0m\u001b[1;33m.\u001b[0m\u001b[0m_fill\u001b[0m \u001b[1;32melse\u001b[0m \u001b[1;36m0\u001b[0m\u001b[1;33m\u001b[0m\u001b[1;33m\u001b[0m\u001b[0m\n\u001b[1;32m--> 343\u001b[1;33m         \u001b[0mself\u001b[0m\u001b[1;33m.\u001b[0m\u001b[0m_facecolor\u001b[0m \u001b[1;33m=\u001b[0m \u001b[0mcolors\u001b[0m\u001b[1;33m.\u001b[0m\u001b[0mto_rgba\u001b[0m\u001b[1;33m(\u001b[0m\u001b[0mcolor\u001b[0m\u001b[1;33m,\u001b[0m \u001b[0malpha\u001b[0m\u001b[1;33m)\u001b[0m\u001b[1;33m\u001b[0m\u001b[1;33m\u001b[0m\u001b[0m\n\u001b[0m\u001b[0;32m    344\u001b[0m         \u001b[0mself\u001b[0m\u001b[1;33m.\u001b[0m\u001b[0mstale\u001b[0m \u001b[1;33m=\u001b[0m \u001b[1;32mTrue\u001b[0m\u001b[1;33m\u001b[0m\u001b[1;33m\u001b[0m\u001b[0m\n\u001b[0;32m    345\u001b[0m \u001b[1;33m\u001b[0m\u001b[0m\n",
      "\u001b[1;32m~\\anaconda3\\lib\\site-packages\\matplotlib\\colors.py\u001b[0m in \u001b[0;36mto_rgba\u001b[1;34m(c, alpha)\u001b[0m\n\u001b[0;32m    187\u001b[0m         \u001b[0mrgba\u001b[0m \u001b[1;33m=\u001b[0m \u001b[1;32mNone\u001b[0m\u001b[1;33m\u001b[0m\u001b[1;33m\u001b[0m\u001b[0m\n\u001b[0;32m    188\u001b[0m     \u001b[1;32mif\u001b[0m \u001b[0mrgba\u001b[0m \u001b[1;32mis\u001b[0m \u001b[1;32mNone\u001b[0m\u001b[1;33m:\u001b[0m  \u001b[1;31m# Suppress exception chaining of cache lookup failure.\u001b[0m\u001b[1;33m\u001b[0m\u001b[1;33m\u001b[0m\u001b[0m\n\u001b[1;32m--> 189\u001b[1;33m         \u001b[0mrgba\u001b[0m \u001b[1;33m=\u001b[0m \u001b[0m_to_rgba_no_colorcycle\u001b[0m\u001b[1;33m(\u001b[0m\u001b[0mc\u001b[0m\u001b[1;33m,\u001b[0m \u001b[0malpha\u001b[0m\u001b[1;33m)\u001b[0m\u001b[1;33m\u001b[0m\u001b[1;33m\u001b[0m\u001b[0m\n\u001b[0m\u001b[0;32m    190\u001b[0m         \u001b[1;32mtry\u001b[0m\u001b[1;33m:\u001b[0m\u001b[1;33m\u001b[0m\u001b[1;33m\u001b[0m\u001b[0m\n\u001b[0;32m    191\u001b[0m             \u001b[0m_colors_full_map\u001b[0m\u001b[1;33m.\u001b[0m\u001b[0mcache\u001b[0m\u001b[1;33m[\u001b[0m\u001b[0mc\u001b[0m\u001b[1;33m,\u001b[0m \u001b[0malpha\u001b[0m\u001b[1;33m]\u001b[0m \u001b[1;33m=\u001b[0m \u001b[0mrgba\u001b[0m\u001b[1;33m\u001b[0m\u001b[1;33m\u001b[0m\u001b[0m\n",
      "\u001b[1;32m~\\anaconda3\\lib\\site-packages\\matplotlib\\colors.py\u001b[0m in \u001b[0;36m_to_rgba_no_colorcycle\u001b[1;34m(c, alpha)\u001b[0m\n\u001b[0;32m    258\u001b[0m                     f\"Value must be within 0-1 range\")\n\u001b[0;32m    259\u001b[0m             \u001b[1;32mreturn\u001b[0m \u001b[0mc\u001b[0m\u001b[1;33m,\u001b[0m \u001b[0mc\u001b[0m\u001b[1;33m,\u001b[0m \u001b[0mc\u001b[0m\u001b[1;33m,\u001b[0m \u001b[0malpha\u001b[0m \u001b[1;32mif\u001b[0m \u001b[0malpha\u001b[0m \u001b[1;32mis\u001b[0m \u001b[1;32mnot\u001b[0m \u001b[1;32mNone\u001b[0m \u001b[1;32melse\u001b[0m \u001b[1;36m1.\u001b[0m\u001b[1;33m\u001b[0m\u001b[1;33m\u001b[0m\u001b[0m\n\u001b[1;32m--> 260\u001b[1;33m         \u001b[1;32mraise\u001b[0m \u001b[0mValueError\u001b[0m\u001b[1;33m(\u001b[0m\u001b[1;34mf\"Invalid RGBA argument: {orig_c!r}\"\u001b[0m\u001b[1;33m)\u001b[0m\u001b[1;33m\u001b[0m\u001b[1;33m\u001b[0m\u001b[0m\n\u001b[0m\u001b[0;32m    261\u001b[0m     \u001b[1;31m# tuple color.\u001b[0m\u001b[1;33m\u001b[0m\u001b[1;33m\u001b[0m\u001b[1;33m\u001b[0m\u001b[0m\n\u001b[0;32m    262\u001b[0m     \u001b[1;32mif\u001b[0m \u001b[1;32mnot\u001b[0m \u001b[0mnp\u001b[0m\u001b[1;33m.\u001b[0m\u001b[0miterable\u001b[0m\u001b[1;33m(\u001b[0m\u001b[0mc\u001b[0m\u001b[1;33m)\u001b[0m\u001b[1;33m:\u001b[0m\u001b[1;33m\u001b[0m\u001b[1;33m\u001b[0m\u001b[0m\n",
      "\u001b[1;31mValueError\u001b[0m: Invalid RGBA argument: 'lightmagenta'"
     ]
    },
    {
     "data": {
      "image/png": "[encoded data removed]",
      "text/plain": [
       "<Figure size 720x432 with 1 Axes>"
      ]
     },
     "metadata": {
      "needs_background": "light"
     },
     "output_type": "display_data"
    }
   ],
   "source": [
    "# Crear un gráfico con 10 boxplots\n",
    "fig, ax = plt.subplots(figsize=(10, 6))\n",
    "# Recopilar todas las distribuciones de MSE\n",
    "mse_data = [ecm_part['MSE'].values for ecm_part in dist_ecm_lasso]\n",
    "\n",
    "# Crear los boxplots y agregarlos al gráfico\n",
    "boxplots = ax.boxplot(mse_data, patch_artist=True)\n",
    "\n",
    "# Personalizar los colores de los boxplots\n",
    "colors = ['lightblue', 'lightgreen', 'lightcoral', 'lightpink', 'lightyellow', 'lightgray', 'lightcyan', 'lightmagenta', 'lightsalmon', 'lightseagreen']\n",
    "for patch, color in zip(boxplots['boxes'], colors):\n",
    "    patch.set_facecolor(color)\n",
    "# Lista de etiquetas para los boxplots\n",
    "ax.xaxis.set(ticklabels=[0.00001,0.0001,0.001,0.01,0.1,1,10,100,1000,10000,100000])\n",
    "# Configurar el gráfico\n",
    "ax.set(title='Distribuciones de MSE, según el parámetro lambda', xlabel='Lambdas', ylabel='MSE')\n",
    "\n"
   ]
  },
  {
   "cell_type": "code",
   "execution_count": 92,
   "id": "b1c2124a",
   "metadata": {},
   "outputs": [
    {
     "ename": "ValueError",
     "evalue": "Invalid RGBA argument: 'lightmagenta'",
     "output_type": "error",
     "traceback": [
      "\u001b[1;31m---------------------------------------------------------------------------\u001b[0m",
      "\u001b[1;31mValueError\u001b[0m                                Traceback (most recent call last)",
      "\u001b[1;32m<ipython-input-92-0469cb5a2867>\u001b[0m in \u001b[0;36m<module>\u001b[1;34m\u001b[0m\n\u001b[0;32m     11\u001b[0m \u001b[0mcolors\u001b[0m \u001b[1;33m=\u001b[0m \u001b[1;33m[\u001b[0m\u001b[1;34m'lightblue'\u001b[0m\u001b[1;33m,\u001b[0m \u001b[1;34m'lightgreen'\u001b[0m\u001b[1;33m,\u001b[0m \u001b[1;34m'lightcoral'\u001b[0m\u001b[1;33m,\u001b[0m \u001b[1;34m'lightpink'\u001b[0m\u001b[1;33m,\u001b[0m \u001b[1;34m'lightyellow'\u001b[0m\u001b[1;33m,\u001b[0m \u001b[1;34m'lightgray'\u001b[0m\u001b[1;33m,\u001b[0m \u001b[1;34m'lightcyan'\u001b[0m\u001b[1;33m,\u001b[0m \u001b[1;34m'lightmagenta'\u001b[0m\u001b[1;33m,\u001b[0m \u001b[1;34m'lightsalmon'\u001b[0m\u001b[1;33m,\u001b[0m \u001b[1;34m'lightseagreen'\u001b[0m\u001b[1;33m]\u001b[0m\u001b[1;33m\u001b[0m\u001b[1;33m\u001b[0m\u001b[0m\n\u001b[0;32m     12\u001b[0m \u001b[1;32mfor\u001b[0m \u001b[0mpatch\u001b[0m\u001b[1;33m,\u001b[0m \u001b[0mcolor\u001b[0m \u001b[1;32min\u001b[0m \u001b[0mzip\u001b[0m\u001b[1;33m(\u001b[0m\u001b[0mboxplots\u001b[0m\u001b[1;33m[\u001b[0m\u001b[1;34m'boxes'\u001b[0m\u001b[1;33m]\u001b[0m\u001b[1;33m,\u001b[0m \u001b[0mcolors\u001b[0m\u001b[1;33m)\u001b[0m\u001b[1;33m:\u001b[0m\u001b[1;33m\u001b[0m\u001b[1;33m\u001b[0m\u001b[0m\n\u001b[1;32m---> 13\u001b[1;33m     \u001b[0mpatch\u001b[0m\u001b[1;33m.\u001b[0m\u001b[0mset_facecolor\u001b[0m\u001b[1;33m(\u001b[0m\u001b[0mcolor\u001b[0m\u001b[1;33m)\u001b[0m\u001b[1;33m\u001b[0m\u001b[1;33m\u001b[0m\u001b[0m\n\u001b[0m\u001b[0;32m     14\u001b[0m \u001b[1;31m# Lista de etiquetas para los boxplots\u001b[0m\u001b[1;33m\u001b[0m\u001b[1;33m\u001b[0m\u001b[1;33m\u001b[0m\u001b[0m\n\u001b[0;32m     15\u001b[0m \u001b[0max\u001b[0m\u001b[1;33m.\u001b[0m\u001b[0mxaxis\u001b[0m\u001b[1;33m.\u001b[0m\u001b[0mset\u001b[0m\u001b[1;33m(\u001b[0m\u001b[0mticklabels\u001b[0m\u001b[1;33m=\u001b[0m\u001b[1;33m[\u001b[0m\u001b[1;36m0.00001\u001b[0m\u001b[1;33m,\u001b[0m\u001b[1;36m0.0001\u001b[0m\u001b[1;33m,\u001b[0m\u001b[1;36m0.001\u001b[0m\u001b[1;33m,\u001b[0m\u001b[1;36m0.01\u001b[0m\u001b[1;33m,\u001b[0m\u001b[1;36m0.1\u001b[0m\u001b[1;33m,\u001b[0m\u001b[1;36m1\u001b[0m\u001b[1;33m,\u001b[0m\u001b[1;36m10\u001b[0m\u001b[1;33m,\u001b[0m\u001b[1;36m100\u001b[0m\u001b[1;33m,\u001b[0m\u001b[1;36m1000\u001b[0m\u001b[1;33m,\u001b[0m\u001b[1;36m10000\u001b[0m\u001b[1;33m,\u001b[0m\u001b[1;36m100000\u001b[0m\u001b[1;33m]\u001b[0m\u001b[1;33m)\u001b[0m\u001b[1;33m\u001b[0m\u001b[1;33m\u001b[0m\u001b[0m\n",
      "\u001b[1;32m~\\anaconda3\\lib\\site-packages\\matplotlib\\patches.py\u001b[0m in \u001b[0;36mset_facecolor\u001b[1;34m(self, color)\u001b[0m\n\u001b[0;32m    353\u001b[0m         \"\"\"\n\u001b[0;32m    354\u001b[0m         \u001b[0mself\u001b[0m\u001b[1;33m.\u001b[0m\u001b[0m_original_facecolor\u001b[0m \u001b[1;33m=\u001b[0m \u001b[0mcolor\u001b[0m\u001b[1;33m\u001b[0m\u001b[1;33m\u001b[0m\u001b[0m\n\u001b[1;32m--> 355\u001b[1;33m         \u001b[0mself\u001b[0m\u001b[1;33m.\u001b[0m\u001b[0m_set_facecolor\u001b[0m\u001b[1;33m(\u001b[0m\u001b[0mcolor\u001b[0m\u001b[1;33m)\u001b[0m\u001b[1;33m\u001b[0m\u001b[1;33m\u001b[0m\u001b[0m\n\u001b[0m\u001b[0;32m    356\u001b[0m \u001b[1;33m\u001b[0m\u001b[0m\n\u001b[0;32m    357\u001b[0m     \u001b[1;32mdef\u001b[0m \u001b[0mset_color\u001b[0m\u001b[1;33m(\u001b[0m\u001b[0mself\u001b[0m\u001b[1;33m,\u001b[0m \u001b[0mc\u001b[0m\u001b[1;33m)\u001b[0m\u001b[1;33m:\u001b[0m\u001b[1;33m\u001b[0m\u001b[1;33m\u001b[0m\u001b[0m\n",
      "\u001b[1;32m~\\anaconda3\\lib\\site-packages\\matplotlib\\patches.py\u001b[0m in \u001b[0;36m_set_facecolor\u001b[1;34m(self, color)\u001b[0m\n\u001b[0;32m    341\u001b[0m             \u001b[0mcolor\u001b[0m \u001b[1;33m=\u001b[0m \u001b[0mmpl\u001b[0m\u001b[1;33m.\u001b[0m\u001b[0mrcParams\u001b[0m\u001b[1;33m[\u001b[0m\u001b[1;34m'patch.facecolor'\u001b[0m\u001b[1;33m]\u001b[0m\u001b[1;33m\u001b[0m\u001b[1;33m\u001b[0m\u001b[0m\n\u001b[0;32m    342\u001b[0m         \u001b[0malpha\u001b[0m \u001b[1;33m=\u001b[0m \u001b[0mself\u001b[0m\u001b[1;33m.\u001b[0m\u001b[0m_alpha\u001b[0m \u001b[1;32mif\u001b[0m \u001b[0mself\u001b[0m\u001b[1;33m.\u001b[0m\u001b[0m_fill\u001b[0m \u001b[1;32melse\u001b[0m \u001b[1;36m0\u001b[0m\u001b[1;33m\u001b[0m\u001b[1;33m\u001b[0m\u001b[0m\n\u001b[1;32m--> 343\u001b[1;33m         \u001b[0mself\u001b[0m\u001b[1;33m.\u001b[0m\u001b[0m_facecolor\u001b[0m \u001b[1;33m=\u001b[0m \u001b[0mcolors\u001b[0m\u001b[1;33m.\u001b[0m\u001b[0mto_rgba\u001b[0m\u001b[1;33m(\u001b[0m\u001b[0mcolor\u001b[0m\u001b[1;33m,\u001b[0m \u001b[0malpha\u001b[0m\u001b[1;33m)\u001b[0m\u001b[1;33m\u001b[0m\u001b[1;33m\u001b[0m\u001b[0m\n\u001b[0m\u001b[0;32m    344\u001b[0m         \u001b[0mself\u001b[0m\u001b[1;33m.\u001b[0m\u001b[0mstale\u001b[0m \u001b[1;33m=\u001b[0m \u001b[1;32mTrue\u001b[0m\u001b[1;33m\u001b[0m\u001b[1;33m\u001b[0m\u001b[0m\n\u001b[0;32m    345\u001b[0m \u001b[1;33m\u001b[0m\u001b[0m\n",
      "\u001b[1;32m~\\anaconda3\\lib\\site-packages\\matplotlib\\colors.py\u001b[0m in \u001b[0;36mto_rgba\u001b[1;34m(c, alpha)\u001b[0m\n\u001b[0;32m    187\u001b[0m         \u001b[0mrgba\u001b[0m \u001b[1;33m=\u001b[0m \u001b[1;32mNone\u001b[0m\u001b[1;33m\u001b[0m\u001b[1;33m\u001b[0m\u001b[0m\n\u001b[0;32m    188\u001b[0m     \u001b[1;32mif\u001b[0m \u001b[0mrgba\u001b[0m \u001b[1;32mis\u001b[0m \u001b[1;32mNone\u001b[0m\u001b[1;33m:\u001b[0m  \u001b[1;31m# Suppress exception chaining of cache lookup failure.\u001b[0m\u001b[1;33m\u001b[0m\u001b[1;33m\u001b[0m\u001b[0m\n\u001b[1;32m--> 189\u001b[1;33m         \u001b[0mrgba\u001b[0m \u001b[1;33m=\u001b[0m \u001b[0m_to_rgba_no_colorcycle\u001b[0m\u001b[1;33m(\u001b[0m\u001b[0mc\u001b[0m\u001b[1;33m,\u001b[0m \u001b[0malpha\u001b[0m\u001b[1;33m)\u001b[0m\u001b[1;33m\u001b[0m\u001b[1;33m\u001b[0m\u001b[0m\n\u001b[0m\u001b[0;32m    190\u001b[0m         \u001b[1;32mtry\u001b[0m\u001b[1;33m:\u001b[0m\u001b[1;33m\u001b[0m\u001b[1;33m\u001b[0m\u001b[0m\n\u001b[0;32m    191\u001b[0m             \u001b[0m_colors_full_map\u001b[0m\u001b[1;33m.\u001b[0m\u001b[0mcache\u001b[0m\u001b[1;33m[\u001b[0m\u001b[0mc\u001b[0m\u001b[1;33m,\u001b[0m \u001b[0malpha\u001b[0m\u001b[1;33m]\u001b[0m \u001b[1;33m=\u001b[0m \u001b[0mrgba\u001b[0m\u001b[1;33m\u001b[0m\u001b[1;33m\u001b[0m\u001b[0m\n",
      "\u001b[1;32m~\\anaconda3\\lib\\site-packages\\matplotlib\\colors.py\u001b[0m in \u001b[0;36m_to_rgba_no_colorcycle\u001b[1;34m(c, alpha)\u001b[0m\n\u001b[0;32m    258\u001b[0m                     f\"Value must be within 0-1 range\")\n\u001b[0;32m    259\u001b[0m             \u001b[1;32mreturn\u001b[0m \u001b[0mc\u001b[0m\u001b[1;33m,\u001b[0m \u001b[0mc\u001b[0m\u001b[1;33m,\u001b[0m \u001b[0mc\u001b[0m\u001b[1;33m,\u001b[0m \u001b[0malpha\u001b[0m \u001b[1;32mif\u001b[0m \u001b[0malpha\u001b[0m \u001b[1;32mis\u001b[0m \u001b[1;32mnot\u001b[0m \u001b[1;32mNone\u001b[0m \u001b[1;32melse\u001b[0m \u001b[1;36m1.\u001b[0m\u001b[1;33m\u001b[0m\u001b[1;33m\u001b[0m\u001b[0m\n\u001b[1;32m--> 260\u001b[1;33m         \u001b[1;32mraise\u001b[0m \u001b[0mValueError\u001b[0m\u001b[1;33m(\u001b[0m\u001b[1;34mf\"Invalid RGBA argument: {orig_c!r}\"\u001b[0m\u001b[1;33m)\u001b[0m\u001b[1;33m\u001b[0m\u001b[1;33m\u001b[0m\u001b[0m\n\u001b[0m\u001b[0;32m    261\u001b[0m     \u001b[1;31m# tuple color.\u001b[0m\u001b[1;33m\u001b[0m\u001b[1;33m\u001b[0m\u001b[1;33m\u001b[0m\u001b[0m\n\u001b[0;32m    262\u001b[0m     \u001b[1;32mif\u001b[0m \u001b[1;32mnot\u001b[0m \u001b[0mnp\u001b[0m\u001b[1;33m.\u001b[0m\u001b[0miterable\u001b[0m\u001b[1;33m(\u001b[0m\u001b[0mc\u001b[0m\u001b[1;33m)\u001b[0m\u001b[1;33m:\u001b[0m\u001b[1;33m\u001b[0m\u001b[1;33m\u001b[0m\u001b[0m\n",
      "\u001b[1;31mValueError\u001b[0m: Invalid RGBA argument: 'lightmagenta'"
     ]
    },
    {
     "data": {
      "image/png": "[encoded data removed]",
      "text/plain": [
       "<Figure size 720x432 with 1 Axes>"
      ]
     },
     "metadata": {
      "needs_background": "light"
     },
     "output_type": "display_data"
    }
   ],
   "source": [
    "\n",
    "# Crear un gráfico con 10 boxplots\n",
    "fig, ax = plt.subplots(figsize=(10, 6))\n",
    "\n",
    "# Recopilar todas las distribuciones de MSE\n",
    "prop_data = [prop_part['proporcion_variables_cero'].values for prop_part in dist_prop_lasso]\n",
    "\n",
    "# Crear los boxplots y agregarlos al gráfico\n",
    "boxplots = ax.boxplot(prop_data, patch_artist=True)\n",
    "\n",
    "# Personalizar los colores de los boxplots\n",
    "colors = ['lightblue', 'lightgreen', 'lightcoral', 'lightpink', 'lightyellow', 'lightgray', 'lightcyan', 'lightmagenta', 'lightsalmon', 'lightseagreen']\n",
    "for patch, color in zip(boxplots['boxes'], colors):\n",
    "    patch.set_facecolor(color)\n",
    "# Lista de etiquetas para los boxplots\n",
    "ax.xaxis.set(ticklabels=[0.00001,0.0001,0.001,0.01,0.1,1,10,100,1000,10000,100000])\n",
    "# Configurar el gráfico\n",
    "ax.set(title='Distribuciones de proporción de coeficientes estimados iguales a 0, según el parámetro lambda', xlabel='Lambdas', ylabel='MSE')"
   ]
  },
  {
   "cell_type": "markdown",
   "id": "f970d1c3",
   "metadata": {},
   "source": [
    "##### ¿Qué variables estamos excluyendo bajo el Lambda óptimo en LASSO?"
   ]
  },
  {
   "cell_type": "code",
   "execution_count": 97,
   "id": "ed7073b4",
   "metadata": {},
   "outputs": [
    {
     "data": {
      "text/plain": [
       "1.0"
      ]
     },
     "execution_count": 97,
     "metadata": {},
     "output_type": "execute_result"
    }
   ],
   "source": [
    "mejor_lambda_lasso"
   ]
  },
  {
   "cell_type": "code",
   "execution_count": 101,
   "id": "4183f653",
   "metadata": {},
   "outputs": [
    {
     "name": "stdout",
     "output_type": "stream",
     "text": [
      "AUC: 0.6804\n",
      "Confusion Matrix:\n",
      "[[109  16]\n",
      " [ 46  44]]\n",
      "Accuracy Score: 0.7116279069767442\n",
      "{'AUC': 0.6804444444444445, 'Confusion Matrix': array([[109,  16],\n",
      "       [ 46,  44]], dtype=int64), 'Accuracy Score': 0.7116279069767442, 'ECM': 0.28837209302325584, 'Coeficientes': {'const': 1.3393862403818013, 'PassengerId': 0.00016395057570210532, 'Pclass': -1.0466542181015386, 'Age': -0.037867903178312845, 'SibSp': -0.26979376250427334, 'Parch': 0.19524307555092232, 'Fare': 0.0036912711748675235}, 'Proporción de Variables con Coeficiente Cero': 0.0}\n"
     ]
    }
   ],
   "source": [
    "# Definir el modelo\n",
    "modelo = LogisticRegression(penalty='l1', C=1, solver='liblinear')\n",
    "# Usar la función evalua_metodo\n",
    "resultados = evalua_metodo(modelo, X_train, y_train, X_test, y_test, plot=False,coef=True)\n",
    "print(resultados)"
   ]
  },
  {
   "cell_type": "markdown",
   "id": "1ebbd6b4",
   "metadata": {},
   "source": [
    "#### No excluimos ninguna variable bajo el lambda óptimo."
   ]
  },
  {
   "cell_type": "code",
   "execution_count": 104,
   "id": "f41ed303",
   "metadata": {},
   "outputs": [
    {
     "name": "stdout",
     "output_type": "stream",
     "text": [
      "AUC: 0.6860\n",
      "Confusion Matrix:\n",
      "[[109  16]\n",
      " [ 45  45]]\n",
      "Accuracy Score: 0.7162790697674418\n",
      "{'AUC': 0.686, 'Confusion Matrix': array([[109,  16],\n",
      "       [ 45,  45]], dtype=int64), 'Accuracy Score': 0.7162790697674418, 'ECM': 0.2837209302325581, 'Coeficientes': {'const': -2.066067723913618e-06, 'PassengerId': 8.676724356325793e-05, 'Pclass': -1.1406481559102466, 'Age': -0.04189853648368399, 'SibSp': -0.30073653186656, 'Parch': 0.2195041580175166, 'Fare': 0.0028205775731193175}, 'Proporción de Variables con Coeficiente Cero': 0.0}\n"
     ]
    }
   ],
   "source": [
    "# Definir el modelo\n",
    "modelo = LogisticRegression(max_iter=10000)\n",
    "# Usar la función evalua_metodo\n",
    "resultados = evalua_metodo(modelo, X_train, y_train, X_test, y_test, plot=False,coef=True)\n",
    "print(resultados)"
   ]
  },
  {
   "cell_type": "markdown",
   "id": "93e47838",
   "metadata": {},
   "source": [
    "## Ejercicio 6"
   ]
  },
  {
   "cell_type": "code",
   "execution_count": null,
   "id": "7289a672",
   "metadata": {},
   "outputs": [],
   "source": [
    "## Respondemos esto en el reporte"
   ]
  },
  {
   "cell_type": "markdown",
   "id": "8051b208",
   "metadata": {},
   "source": [
    "## Ejercicio 7"
   ]
  },
  {
   "cell_type": "code",
   "execution_count": null,
   "id": "29c1a567",
   "metadata": {},
   "outputs": [],
   "source": [
    "## No se si hacer full texto o si correr algo aqui"
   ]
  },
  {
   "cell_type": "markdown",
   "id": "72857e90",
   "metadata": {},
   "source": [
    "## Ejercicio 8"
   ]
  },
  {
   "cell_type": "code",
   "execution_count": null,
   "id": "3bf79410",
   "metadata": {},
   "outputs": [],
   "source": [
    "## No se si hacer full texto o si correr algo aqui"
   ]
  },
  {
   "cell_type": "markdown",
   "id": "54d82894",
   "metadata": {},
   "source": [
    "## Ejercicio 9"
   ]
  },
  {
   "cell_type": "code",
   "execution_count": null,
   "id": "26f8aaf4",
   "metadata": {},
   "outputs": [],
   "source": [
    "#Con el metodo que seleccionaron, predigan qué personas son pobres dentro de la base norespondieron. ¿Qu´e proporci´on de los hogares son pobres en esa\n",
    "#submuestra?"
   ]
  }
 ],
 "metadata": {
  "kernelspec": {
   "display_name": "Python 3 (ipykernel)",
   "language": "python",
   "name": "python3"
  },
  "language_info": {
   "codemirror_mode": {
    "name": "ipython",
    "version": 3
   },
   "file_extension": ".py",
   "mimetype": "text/x-python",
   "name": "python",
   "nbconvert_exporter": "python",
   "pygments_lexer": "ipython3",
   "version": "3.11.5"
  }
 },
 "nbformat": 4,
 "nbformat_minor": 5
}
