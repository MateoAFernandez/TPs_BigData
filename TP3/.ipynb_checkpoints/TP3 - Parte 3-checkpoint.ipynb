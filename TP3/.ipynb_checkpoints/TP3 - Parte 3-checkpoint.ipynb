{
 "cells": [
  {
   "cell_type": "markdown",
   "id": "adac6681",
   "metadata": {},
   "source": [
    "## Ejercicio 1"
   ]
  },
  {
   "cell_type": "markdown",
   "id": "bb5f8dc6",
   "metadata": {},
   "source": [
    "# Parte 3: Análisis de la base de hogares y cálculo de pobreza"
   ]
  },
  {
   "cell_type": "code",
   "execution_count": 3,
   "id": "338f7a95",
   "metadata": {},
   "outputs": [],
   "source": [
    "#Input: bases respondieron, norespondieron que vienen de la Parte 1."
   ]
  },
  {
   "cell_type": "code",
   "execution_count": null,
   "id": "39b6a3e9",
   "metadata": {},
   "outputs": [],
   "source": [
    "#Primero, eliminamos de ambas bases (respondieron, norespondieron) todas las variables\n",
    "#relacionadas a ingresos.\n",
    "\n",
    "\n",
    "#También eliminamos las columnas \"adulto equiv\", \"ad equiv hogar\" e \"ingreso_necesario\".\n"
   ]
  },
  {
   "cell_type": "code",
   "execution_count": null,
   "id": "46e8a116",
   "metadata": {},
   "outputs": [],
   "source": [
    "# Definimos la matriz de Xs (?)"
   ]
  },
  {
   "cell_type": "markdown",
   "id": "7384fff4",
   "metadata": {},
   "source": [
    "## Ejercicio 2"
   ]
  },
  {
   "cell_type": "code",
   "execution_count": null,
   "id": "89b80265",
   "metadata": {},
   "outputs": [],
   "source": [
    "#Corran la funcion evalua multiples metodos (de la Parte 2) con la base respondieron, con \n",
    "# al menos un hiperparámetro para regularizar y al menos un valor de \\lambda. \n",
    "\n"
   ]
  },
  {
   "cell_type": "markdown",
   "id": "ca6b1c74",
   "metadata": {},
   "source": [
    "## Ejercicio 3"
   ]
  },
  {
   "cell_type": "code",
   "execution_count": null,
   "id": "ee3e35c0",
   "metadata": {},
   "outputs": [],
   "source": [
    "# Respondemos esto en el reporte."
   ]
  },
  {
   "cell_type": "markdown",
   "id": "fe00351a",
   "metadata": {},
   "source": [
    "## Ejercicio 4"
   ]
  },
  {
   "cell_type": "code",
   "execution_count": null,
   "id": "c0553928",
   "metadata": {},
   "outputs": [],
   "source": [
    "# Respondemos esto en el reporte."
   ]
  },
  {
   "cell_type": "markdown",
   "id": "c50682c7",
   "metadata": {},
   "source": [
    "## Ejercicio 5"
   ]
  },
  {
   "cell_type": "code",
   "execution_count": null,
   "id": "25e61897",
   "metadata": {},
   "outputs": [],
   "source": [
    "## Haremos 10 boxplots para Ridge, y otros 10 más para Lasso (?) + lo de la proporción de\n",
    "## variables ignoradas (?)"
   ]
  },
  {
   "cell_type": "markdown",
   "id": "93e47838",
   "metadata": {},
   "source": [
    "## Ejercicio 6"
   ]
  },
  {
   "cell_type": "code",
   "execution_count": null,
   "id": "7289a672",
   "metadata": {},
   "outputs": [],
   "source": [
    "## Respondemos esto en el reporte"
   ]
  },
  {
   "cell_type": "markdown",
   "id": "8051b208",
   "metadata": {},
   "source": [
    "## Ejercicio 7"
   ]
  },
  {
   "cell_type": "code",
   "execution_count": null,
   "id": "29c1a567",
   "metadata": {},
   "outputs": [],
   "source": [
    "## No se si hacer full texto o si correr algo aqui"
   ]
  },
  {
   "cell_type": "markdown",
   "id": "72857e90",
   "metadata": {},
   "source": [
    "## Ejercicio 8"
   ]
  },
  {
   "cell_type": "code",
   "execution_count": null,
   "id": "3bf79410",
   "metadata": {},
   "outputs": [],
   "source": [
    "## No se si hacer full texto o si correr algo aqui"
   ]
  },
  {
   "cell_type": "markdown",
   "id": "54d82894",
   "metadata": {},
   "source": [
    "## Ejercicio 9"
   ]
  },
  {
   "cell_type": "code",
   "execution_count": null,
   "id": "26f8aaf4",
   "metadata": {},
   "outputs": [],
   "source": [
    "#Con el metodo que seleccionaron, predigan qu´e personas son pobres dentro de la base norespondieron. ¿Qu´e proporci´on de los hogares son pobres en esa\n",
    "#submuestra?"
   ]
  }
 ],
 "metadata": {
  "kernelspec": {
   "display_name": "Python 3",
   "language": "python",
   "name": "python3"
  },
  "language_info": {
   "codemirror_mode": {
    "name": "ipython",
    "version": 3
   },
   "file_extension": ".py",
   "mimetype": "text/x-python",
   "name": "python",
   "nbconvert_exporter": "python",
   "pygments_lexer": "ipython3",
   "version": "3.8.8"
  }
 },
 "nbformat": 4,
 "nbformat_minor": 5
}
