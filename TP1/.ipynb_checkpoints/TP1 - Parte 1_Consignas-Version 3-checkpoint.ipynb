{
 "cells": [
  {
   "cell_type": "markdown",
   "metadata": {
    "collapsed": true,
    "id": "Dh8MkXaG-c9Y"
   },
   "source": [
    "# Curso de Big Data\n",
    "\n",
    "## Trabajo Práctico 1 - Parte 1"
   ]
  },
  {
   "cell_type": "markdown",
   "metadata": {
    "id": "RhBlm6mZ-c9e"
   },
   "source": [
    "### Reglas de formato y presentación\n",
    "- El trabajo debe estar bien comentado (utilizando #) para que el código sea fácil de entender por sus compañeros y profesores.\n",
    "\n",
    "- El mismo debe ser completado en este Jupyter Notebook y entregado como tal, es decir en un archivo .ipynb\n"
   ]
  },
  {
   "cell_type": "markdown",
   "metadata": {
    "id": "ZEjGaa4U-c9g"
   },
   "source": [
    "### Fecha de entrega:\n",
    "Miércoles 4 de octubre a las 23:59hs"
   ]
  },
  {
   "cell_type": "markdown",
   "metadata": {
    "id": "N9TU2y7E-c9h"
   },
   "source": [
    "### Modalidad de entrega\n",
    "- Al finalizar el trabajo práctico deben hacer un último <i>commit</i> en su repositorio de GitHub con el mensaje “Entrega final del tp”. \n",
    "- Asegurense de haber creado una carpeta llamada TP1. Este Jupyter Notebook y el correspondiente al TP1 - Parte 2 deben estar dentro de esa carpeta.\n",
    "- También deben completar el link de su repositorio -para que pueda ser clonado y corregido- en la siguiente google sheet: https://docs.google.com/spreadsheets/d/11nJY1Frgla45sTgsPiSeOZM9iBM-XRWh/edit?usp=sharing&ouid=105815768529474116534&rtpof=true&sd=true\n",
    "- La última versión en el repositorio es la que será evaluada. Por lo que es importante que: \n",
    "    - No completen la google sheet hasta no haber terminado y estar seguros de que han hecho el <i>commit y push</i> a la versión final que quieren entregar. Debido a que se pueden tomar hasta 3 días de extensión a lo largo del curso, no se  corregirán sus tareas hasta no ver el link en la google sheet.\n",
    "    - No hagan nuevos <i>push</i> despues de haber entregado su versión final. Esto generaría confusión acerca de que versión es la que quieren que se les corrija. "
   ]
  },
  {
   "cell_type": "markdown",
   "metadata": {
    "id": "ZXbrPraa-c9i"
   },
   "source": [
    "#### Ejercicio 1\n",
    "Este ejercicio simplemente busca repasar lo que aprendimos sobre definición de variables. Definir dos variables con un nombre combinado (al menos dos palabras), una que se pueda crear y otra que tenga un nombre inaceptable (genera error). Explicar por qué ocurre el error."
   ]
  },
  {
   "cell_type": "code",
   "execution_count": 1,
   "metadata": {
    "id": "mb7PkXfN-c9j"
   },
   "outputs": [
    {
     "ename": "SyntaxError",
     "evalue": "invalid syntax (<ipython-input-1-24d569a191dc>, line 6)",
     "output_type": "error",
     "traceback": [
      "\u001b[1;36m  File \u001b[1;32m\"<ipython-input-1-24d569a191dc>\"\u001b[1;36m, line \u001b[1;32m6\u001b[0m\n\u001b[1;33m    indicc precio = 1\u001b[0m\n\u001b[1;37m           ^\u001b[0m\n\u001b[1;31mSyntaxError\u001b[0m\u001b[1;31m:\u001b[0m invalid syntax\n"
     ]
    }
   ],
   "source": [
    "# Caso A\n",
    "indc_precio = 1\n",
    "\n",
    "\n",
    "# Caso B (acá debería saltar un error)\n",
    "indicc precio = 1\n",
    "\n",
    "#Sintaxis inválida: No podemos definir una variable con un espacio.\n",
    "#Como reemplazo del espacio, podemos utilizar un guión bajo."
   ]
  },
  {
   "cell_type": "markdown",
   "metadata": {},
   "source": [
    "#### Ejercicio 2\n",
    "Importar módulos. Usando el módulo math impriman la tangente de 1. ¿Cuál es el resultado?\n",
    "Hagan este cálculo de dos formas: primero importando el módulo math y usando la función correspondiente y luego solo importando la función específica que precisan para el cálculo.\n"
   ]
  },
  {
   "cell_type": "code",
   "execution_count": 10,
   "metadata": {},
   "outputs": [
    {
     "name": "stdout",
     "output_type": "stream",
     "text": [
      "1.5574077246549023\n",
      "1.5574077246549023\n"
     ]
    }
   ],
   "source": [
    "# Caso A\n",
    "\n",
    "import math\n",
    "\n",
    "tan1 = math.tan(1)\n",
    "print(tan1)\n",
    "\n",
    "\n",
    "# Caso B\n",
    "\n",
    "from math import tan\n",
    "\n",
    "tan2 = tan(1)\n",
    "\n",
    "print(tan2)\n",
    "\n",
    "#Vemos que ambos funcionan de la misma manera y obtenemos el mismo resultado."
   ]
  },
  {
   "cell_type": "markdown",
   "metadata": {
    "id": "GlNh0fyv-c9l"
   },
   "source": [
    "#### Ejercicio 3 \n",
    "Este ejercicio trata sobre lograr el intercambio de valores entre dos variables utilizando una variable temporal para hacerlo. Las variables temporales y la sustitución de valores termina siendo útil en algunos loops. Los pasos a seguir son: (a) definir variables A y B (cuyos valores buscaremos invertir); (b) definir una variable temporal que resguarde el valor de B; (c) sustitución (asignar B igual a A y también A igual al valor original de B); (d) imprimir valores para verificar."
   ]
  },
  {
   "cell_type": "code",
   "execution_count": 11,
   "metadata": {
    "id": "uWalSYFC-c9m"
   },
   "outputs": [
    {
     "name": "stdout",
     "output_type": "stream",
     "text": [
      "2\n",
      "1\n"
     ]
    }
   ],
   "source": [
    "# a) Definir variables A y B, \n",
    "A = 1\n",
    "B = 2\n",
    "\n",
    "# b) Definir variable temporal \"tmp\" igual a B (la variable, no el valor)\n",
    "\n",
    "tmp = B\n",
    "\n",
    "\n",
    "# c) Ahora sustituir variables: variable B igual a variable A (la variable, no el\n",
    "# valor) y viceversa.\n",
    "\n",
    "B = A\n",
    "A = tmp\n",
    "\n",
    "# d) Verifiquemos resultados: imprimir variables A y B\n",
    "\n",
    "print(A)\n",
    "print(B)"
   ]
  },
  {
   "cell_type": "markdown",
   "metadata": {
    "id": "wXhAaRyN-c9p"
   },
   "source": [
    "#### Ejercicio 4\n",
    "En este ejercicio se busca poner en práctica el uso de range() en un for loop. \n",
    "\n",
    "Construir un for loop usando un range(). El range debe ser entre los valores que quieran (con una diferencia mínima de 15 entre start y stop), en incrementos de 3 unidades. Dentro del loop, implementar una sentencia condicional que imprima una leyenda indicando si el input es par o impar."
   ]
  },
  {
   "cell_type": "code",
   "execution_count": 12,
   "metadata": {
    "id": "_oE5sG0c-c9q"
   },
   "outputs": [
    {
     "name": "stdout",
     "output_type": "stream",
     "text": [
      "0 es un número par\n",
      "3 es un número impar\n",
      "6 es un número par\n",
      "9 es un número impar\n",
      "12 es un número par\n",
      "15 es un número impar\n",
      "18 es un número par\n",
      "21 es un número impar\n"
     ]
    }
   ],
   "source": [
    "# Resolver acá\n",
    "\n",
    "x = range(0,22,3)\n",
    "for n in x:\n",
    "    if n%2 == 0:\n",
    "        print(str(n) + \" es un número par\")\n",
    "    else:\n",
    "        print(str(n) + \" es un número impar\")\n",
    "        \n",
    "# Primero definimos x como una secuencia de numeros con un salto de 3\n",
    "# Comenzamos el loop llamando a cada valor pertenenciente a la secuencia que cumple con estas caracteristicas.\n",
    "# El loop chequea primero si el resto del numero dividido por 2 es 0, en cuyo caso el argumento sera verdadero e imprimirá que el numero es par.\n",
    "# Caso contrario, es decir, que el resto del numero dividido por 2 no sea 0, es decir, que no sea un numero par, imprimirá que el numero es impar."
   ]
  },
  {
   "cell_type": "markdown",
   "metadata": {
    "id": "h3g5bXUB-c9u"
   },
   "source": [
    "#### Ejercicio 5\n",
    "Para practicar el uso de condiciones lógicas y la definición de funciones, construir una función con una sentencia condicional que verifique si un año es bisiesto o no. Para que un año sea bisiesto debe cumplir una de dos condiciones:\n",
    "\n",
    "(a) que sea divisible por 400; o\n",
    "\n",
    "(b) que sea divisible por 4 y no sea divisible por 100\n",
    "\n",
    "Notar que son dos condiciones, donde la segunda condición tiene dos componentes. Prueben la función con 3 valores para verificar que funcione."
   ]
  },
  {
   "cell_type": "code",
   "execution_count": 13,
   "metadata": {
    "id": "7_MnILdz-c9v"
   },
   "outputs": [
    {
     "name": "stdout",
     "output_type": "stream",
     "text": [
      "2000 es un año bisiesto\n",
      "2001 NO es un año bisiesto\n",
      "2004 es un año bisiesto\n"
     ]
    }
   ],
   "source": [
    "# Resolver acá\n",
    "\n",
    "def bisiesto(number):\n",
    "    string=\"soy texto\"\n",
    "    if (number%400==0) or (number%4==0 and number%100!=0):\n",
    "        string=str(number) + \" es un año bisiesto\"\n",
    "    else:\n",
    "        string=str(number) + \" NO es un año bisiesto\"\n",
    "    return string\n",
    "\n",
    "print(bisiesto(2000))\n",
    "print(bisiesto(2001))\n",
    "print(bisiesto(2004))\n",
    "\n",
    "# Esta función indica si cierto año es bisiesto o no. Si el resto de la división del número por 400 es 0 ó si el resto de la división por 4 (pero no por 100) es 0,\n",
    "# la función determina que el año es bisiesto. De otro modo, reporta que no es bisiesto.\n"
   ]
  },
  {
   "cell_type": "markdown",
   "metadata": {
    "collapsed": true,
    "id": "P3a7bJkd-c9w"
   },
   "source": [
    "#### Ejercicio 6 \n",
    "Pongamos en práctica identificar el type() de cada variable. A continuación tenemos una lista con elementos de diferentes tipos. Construyan un for loop que itere sobre la lista e imprima un cartel indicando el tipo de dato u objeto que hay en cada caso."
   ]
  },
  {
   "cell_type": "code",
   "execution_count": 14,
   "metadata": {
    "id": "jDf4d_Wr-c9w"
   },
   "outputs": [],
   "source": [
    "mi_lista = [10, 34.5, 99999, 'abc', [1,2,3], ('ARG', 1810), {'pob': 45}, True]\n"
   ]
  },
  {
   "cell_type": "code",
   "execution_count": 15,
   "metadata": {
    "id": "SAJgEiNEFQAS"
   },
   "outputs": [
    {
     "name": "stdout",
     "output_type": "stream",
     "text": [
      "10 es <class 'int'>\n",
      "34.5 es <class 'float'>\n",
      "99999 es <class 'int'>\n",
      "abc es <class 'str'>\n",
      "[1, 2, 3] es <class 'list'>\n",
      "('ARG', 1810) es <class 'tuple'>\n",
      "{'pob': 45} es <class 'dict'>\n",
      "True es <class 'bool'>\n"
     ]
    }
   ],
   "source": [
    "# Resolver acá\n",
    "for element in range(len(mi_lista)):\n",
    "    print(str(mi_lista[element]) + \" es \" + str(type(mi_lista[element])))\n",
    "    \n",
    "# Con este bucle podemos ver cada elemento de una lista y su tipo."
   ]
  },
  {
   "cell_type": "markdown",
   "metadata": {
    "id": "y1lncitl-c9x"
   },
   "source": [
    "#### Ejercicio 7\n",
    "Ahora definan ustedes una nueva lista, en la que los primeros cuatro elementos sean palabras (strings), el quinto elemento no sea string, y el sexto sea string. Construyan un for loop que corra por la lista y que imprima la palabra y la longitud de la misma. Que el loop contenga una sentencia condicional que imprima un cartel \"Elemento no es un string: < el elemento > | < class del elemento >\" para los casos dónde el elemento evaluado no sea string."
   ]
  },
  {
   "cell_type": "code",
   "execution_count": 16,
   "metadata": {
    "id": "bFOk9Os0-c9x"
   },
   "outputs": [
    {
     "name": "stdout",
     "output_type": "stream",
     "text": [
      "hola. Su longitud es 4\n",
      "holaa. Su longitud es 5\n",
      "holaaa. Su longitud es 6\n",
      "holaaaa. Su longitud es 7\n",
      "Elemento no es un string: <10> | <class 'int'>\n",
      "holaaaaa. Su longitud es 8\n"
     ]
    }
   ],
   "source": [
    "# Modificaciones PA: Le puse el nombre al elemento en el \"else\" y le puse format para que quede más parecido a cómo lo pide el enunciado. \n",
    "# Resolver acá\n",
    "lista = ['hola', 'holaa', 'holaaa', 'holaaaa', 10, 'holaaaaa']\n",
    "\n",
    "for element in range(len(lista)):\n",
    "    if isinstance(lista[element], str):\n",
    "        print(lista[element] + \". Su longitud es \" + str(len(lista[element])))\n",
    "    else:\n",
    "        print('Elemento no es un string: <{}> | {}'.format(str(lista[element]), str(type(lista[element]))))\n",
    "# Este bucle nos muestra cada elemento string de una lista al igual que su longitud. Si el elemento no es string, nos muestra el elemento y su tipo.\n",
    "# El condicional utilizado nos permite determinar si el elemento a evaluar es string o no."
   ]
  },
  {
   "cell_type": "markdown",
   "metadata": {
    "id": "PUpxDz72-c9x"
   },
   "source": [
    "#### Ejercicio 8\n",
    "Argentina tiene una representación legislativa proporcional en la cual la cantidad de diputados se debería ajustar según el tamaño de población de cada provincia. Otra característica de la representación legislativa del país es que hay una cantidad mínima de diputados por provincia (5). Esto genera un desbalance en la cantidad de ciudadanos por cada representante en el Congreso entre provincias.\n",
    "\n",
    "A continuación preparamos algunos ejemplos, dividiendo la población de cada provincia (según estimación para el 2022) por la cantidad de representantes en el Congreso para esa misma jurisdicción. También armamos el equivalente para el total país y una lista con los valores provinciales.\n",
    "\n",
    "En este ejercicio les pedimos que construyan un for loop que itere sobre el diccionario definido y compare cada valor provincial contra el valor de proporcionalidad directa (la variable argentina). El loop debe imprimir una leyenda que indique si la provincia está sobrerepresentada, subrepresentada o con representación proporcional. Además, queremos que el mismo loop compare los valores de las provincias sobrerepresentadas y que guarde el valor de la provincia con mayor sobrerepresentación. Luego del loop impriman este valor así podemos ver que haya funcionado.\n",
    "\n",
    "Fuente para población: https://es.wikipedia.org/wiki/Demograf%C3%ADa_de_Argentina\n",
    "\n",
    "Fuente para representantes: https://es.wikipedia.org/wiki/C%C3%A1mara_de_Diputados_de_la_Naci%C3%B3n_Argentina"
   ]
  },
  {
   "cell_type": "code",
   "execution_count": 17,
   "metadata": {
    "id": "hd8Z5AHs-c9y"
   },
   "outputs": [],
   "source": [
    "# Valor de referencia: proporcionalidad\n",
    "argentina = 46044703 / 257\n",
    "\n",
    "# Creamos variables para una selección de jurisdicciones\n",
    "cordoba = 3978984 / 18\n",
    "santa_fe = 3556522 / 19\n",
    "mendoza = 2014533 / 10\n",
    "buenos_aires = 17569053 / 70\n",
    "entre_rios =  1426426 / 9\n",
    "santa_cruz = 333473 / 5\n",
    "formosa = 606041 / 5\n",
    "\n",
    "# Definimos el diccionario para iterar\n",
    "dict_provincias = {\n",
    "    \"Córdoba\": cordoba,\n",
    "    \"Santa Fe\": santa_fe,\n",
    "    \"Mendoza\": mendoza,\n",
    "    \"Buenos Aires\": buenos_aires,\n",
    "    \"Entre Ríos\": entre_rios,\n",
    "    \"Santa Cruz\": santa_cruz,\n",
    "    \"Formosa\": formosa\n",
    "}\n"
   ]
  },
  {
   "cell_type": "code",
   "execution_count": 18,
   "metadata": {
    "id": "fsEHnxiY-c9y",
    "scrolled": true
   },
   "outputs": [
    {
     "name": "stdout",
     "output_type": "stream",
     "text": [
      "Córdoba: SUBREREPRESENTADA. Su indice de representatividad es 221055 mientras que la medida de referencia es 179162\n",
      "Santa Fe: SUBREREPRESENTADA. Su indice de representatividad es 187185 mientras que la medida de referencia es 179162\n",
      "Mendoza: SUBREREPRESENTADA. Su indice de representatividad es 201453 mientras que la medida de referencia es 179162\n",
      "Buenos Aires: SUBREREPRESENTADA. Su indice de representatividad es 250986 mientras que la medida de referencia es 179162\n",
      "Entre Ríos: SOBREREPRESENTADA. Sus indice de representatividad es 158492 mientras que la medida de referencia es 179162\n",
      "Santa Cruz: SOBREREPRESENTADA. Sus indice de representatividad es 66695 mientras que la medida de referencia es 179162\n",
      "Formosa: SOBREREPRESENTADA. Sus indice de representatividad es 121208 mientras que la medida de referencia es 179162\n",
      "158491.77777777778\n"
     ]
    }
   ],
   "source": [
    "# Version original \n",
    "# Resolver acá\n",
    "sobrerep={}\n",
    "for key in dict_provincias:\n",
    "    if round(dict_provincias[key]) <= round(argentina):\n",
    "        print(key + \": SOBREREPRESENTADA. Sus indice de representatividad es \" + str(round(dict_provincias[key])) + \" mientras que la medida de referencia es \" + str(round(argentina)))\n",
    "        sobrerep[key] = dict_provincias[key]\n",
    "        maxrep= max(sobrerep.values())\n",
    "    else:\n",
    "        print(key + \": SUBREREPRESENTADA. Su indice de representatividad es \" + str(round(dict_provincias[key])) + \" mientras que la medida de referencia es \" + str(round(argentina)))\n",
    "print(maxrep)"
   ]
  },
  {
   "cell_type": "code",
   "execution_count": 19,
   "metadata": {},
   "outputs": [
    {
     "name": "stdout",
     "output_type": "stream",
     "text": [
      "Córdoba está SUBREREPRESENTADA. Cada disputado representa a 221055 personas. Bajo proporcionalidad, un diputado representaría a 179162 personas.\n",
      "Santa Fe está SUBREREPRESENTADA. Cada disputado representa a 187185 personas. Bajo proporcionalidad, un diputado representaría a 179162 personas.\n",
      "Mendoza está SUBREREPRESENTADA. Cada disputado representa a 201453 personas. Bajo proporcionalidad, un diputado representaría a 179162 personas.\n",
      "Buenos Aires está SUBREREPRESENTADA. Cada disputado representa a 250986 personas. Bajo proporcionalidad, un diputado representaría a 179162 personas.\n",
      "Entre Ríos está SOBREREPRESENTADA. Cada disputado representa a 158492 personas. Bajo proporcionalidad, un diputado representaría a 179162 personas.\n",
      "Santa Cruz está SOBREREPRESENTADA. Cada disputado representa a 66695 personas. Bajo proporcionalidad, un diputado representaría a 179162 personas.\n",
      "Formosa está SOBREREPRESENTADA. Cada disputado representa a 121208 personas. Bajo proporcionalidad, un diputado representaría a 179162 personas.\n",
      "66694.6\n"
     ]
    }
   ],
   "source": [
    "# Modificaciones PA: Hice 3 cambios\n",
    "# (1) Le cambié el wording con la idea que se entienda un poco más que significa el indice (cambialo si deseas para que se entienda aun mejor)\n",
    "# (2) le agregué la categoria de representacion proporcional al if. \n",
    "# (3) Cambié la funcion de sobrerep para que tomé el minimo valor porque entiendo que , a menor valor, mayor sobrerrepresentacion.\n",
    "\n",
    "#Version con cambios \n",
    "# Resolver acá\n",
    "sobrerep={}\n",
    "for key in dict_provincias:\n",
    "    if round(dict_provincias[key]) < round(argentina):\n",
    "        print(key + \" está SOBREREPRESENTADA. Cada disputado representa a \" + str(round(dict_provincias[key])) + \" personas. Bajo proporcionalidad, un diputado representaría a \" + str(round(argentina))+ \" personas.\")\n",
    "        sobrerep[key] = dict_provincias[key]\n",
    "        maxrep= min(sobrerep.values())\n",
    "    elif round(dict_provincias[key]) > round(argentina):\n",
    "        print(key + \" está SUBREREPRESENTADA. Cada disputado representa a \" + str(round(dict_provincias[key])) + \" personas. Bajo proporcionalidad, un diputado representaría a \" + str(round(argentina))+\" personas.\")\n",
    "    else:\n",
    "        print(key + \" tiene REPRESENTACIÓN PROPORCIONAL. Cada disputado representa a \" + str(round(dict_provincias[key])) + \" personas. Bajo proporcionalidad, un diputado representaría a \" + str(round(argentina))+\" personas.\")\n",
    "print(maxrep)\n",
    "# El bucle nos indica si cada provincia está subrepresentada, sobre-representada o proporcionalmente representada.\n",
    "# Si el disputado de una provincia representa a más personas que el valor de referencia, decimos que la provincia está subrepresentada.\n",
    "# Si el diputado representa a menos personas que el valor de referencia, la provincia está sobrerepresentada.\n",
    "# Si el número de personas representadas por diputado coincide con el valor de referencia, decimos que la representación de la provincia es proporcional a su número de personas.\n",
    "#  Al final reportamos el número de personas representadas por cada diputado en la provincia con mayor sobrerepresentación. Bajo esta lógica, la provincia con más sobrerrepresentación es la que tiene el menor número de personas representadas por diputado. "
   ]
  },
  {
   "cell_type": "markdown",
   "metadata": {
    "id": "GokZe5tV-c9z"
   },
   "source": [
    "#### Ejercicio 9\n",
    "Si buscáramos minimizar la subrepresentación de la provincia de Buenos Aires, ¿cuántos representantes debería tener según el Censo 2022? Usemos el mismo criterio de sub/sobrerepresentacion que en el ejercicio anterior: población sobre cantidad de representantes.\n",
    "\n",
    "Para responder esta pregunta construyan un while loop que incremente de a uno la cantidad de representantes de la Provincia hasta minimizar la subrepresentación. En cada iteración impriman un cartel que diga: \"Se agregó un representante, el total ahora es X\" dónde X es el número de representantes simulado."
   ]
  },
  {
   "cell_type": "code",
   "execution_count": 27,
   "metadata": {
    "id": "x9DvuXa_-c9z"
   },
   "outputs": [],
   "source": [
    "# Estos son los valores de la provincia\n",
    "representantes_pba = 70\n",
    "poblacion2010_pba = 17594428\n",
    "ba= poblacion2010_pba/representantes_pba\n",
    "\n",
    "# Y el valor de referencia nacional\n",
    "argentina = 46044703 / 257"
   ]
  },
  {
   "cell_type": "code",
   "execution_count": 29,
   "metadata": {
    "scrolled": true
   },
   "outputs": [
    {
     "name": "stdout",
     "output_type": "stream",
     "text": [
      "Se agregó un representante, el total ahora es 72\n",
      "Se agregó un representante, el total ahora es 73\n",
      "Se agregó un representante, el total ahora es 74\n",
      "Se agregó un representante, el total ahora es 75\n",
      "Se agregó un representante, el total ahora es 76\n",
      "Se agregó un representante, el total ahora es 77\n",
      "Se agregó un representante, el total ahora es 78\n",
      "Se agregó un representante, el total ahora es 79\n",
      "Se agregó un representante, el total ahora es 80\n",
      "Se agregó un representante, el total ahora es 81\n",
      "Se agregó un representante, el total ahora es 82\n",
      "Se agregó un representante, el total ahora es 83\n",
      "Se agregó un representante, el total ahora es 84\n",
      "Se agregó un representante, el total ahora es 85\n",
      "Se agregó un representante, el total ahora es 86\n",
      "Se agregó un representante, el total ahora es 87\n",
      "Se agregó un representante, el total ahora es 88\n",
      "Se agregó un representante, el total ahora es 89\n",
      "Se agregó un representante, el total ahora es 90\n",
      "Se agregó un representante, el total ahora es 91\n",
      "Se agregó un representante, el total ahora es 92\n",
      "Se agregó un representante, el total ahora es 93\n",
      "Se agregó un representante, el total ahora es 94\n",
      "Se agregó un representante, el total ahora es 95\n",
      "Se agregó un representante, el total ahora es 96\n",
      "Se agregó un representante, el total ahora es 97\n",
      "Se agregó un representante, el total ahora es 98\n",
      "Se agregó un representante, el total ahora es 99\n",
      "Se ha generado una sobrerepresentacion, por lo que nos quedamos con el N anterior: 98\n"
     ]
    }
   ],
   "source": [
    "# Resolver acá\n",
    "while ba >= argentina:\n",
    "    representantes_pba = representantes_pba+1\n",
    "    print(\"Se agregó un representante, el total ahora es \" + str(representantes_pba))\n",
    "    ba=poblacion2010_pba/representantes_pba\n",
    "    if ba < argentina:\n",
    "        print(\"Se ha generado una sobrerepresentacion, por lo que nos quedamos con el N anterior: \" + str(representantes_pba-1))\n",
    "\n",
    "    "
   ]
  },
  {
   "cell_type": "code",
   "execution_count": 22,
   "metadata": {},
   "outputs": [
    {
     "name": "stdout",
     "output_type": "stream",
     "text": [
      "179534.97959183675\n",
      "177721.49494949495\n",
      "el valor de referencia es 179162.26848249027\n"
     ]
    }
   ],
   "source": [
    "# Modificaciones PA \n",
    "\n",
    "print(poblacion2010_pba/98)\n",
    "print(poblacion2010_pba/99)\n",
    "print(\"el valor de referencia es \"+str(argentina))\n",
    "# Creo que debemos quedarnos con n=98 porque el representante numero 99 hace que se genere sobre-representacion y la diferencia entre \n",
    "# el indice con 99 y el valor de referencia es mayor que entre (indice con 98- valor de referencia).\n",
    "# No sé si incluir un \"if\" que pare si ya hay sobrerepresentacion y que , a partir de ello, le quite 1 representante a BA ó algo mas \n",
    "# elaborado que determine el número de representaciones segun si la desviacion al valor referencial es mayor con el último valor que probó vs con el anterior\n"
   ]
  },
  {
   "cell_type": "markdown",
   "metadata": {},
   "source": [
    "#### Ejercicio 10\n",
    "Construyan una función llamada suma que tome una cantidad variable de parámetros y devuelva el resultado de la suma."
   ]
  },
  {
   "cell_type": "code",
   "execution_count": 23,
   "metadata": {},
   "outputs": [
    {
     "name": "stdout",
     "output_type": "stream",
     "text": [
      "15\n",
      "6\n"
     ]
    }
   ],
   "source": [
    "# Resolver acá\n",
    "\n",
    "def suma(*args):\n",
    "    suma=0\n",
    "    for arg in args:\n",
    "        suma=suma+arg\n",
    "    return suma\n",
    "\n",
    "print(suma(1,2,3,4,5))\n",
    "print(suma(1,2,3))\n",
    "\n",
    "#Esta función devuelve la suma de los números que le brindemos. El usuario puede elegir la cantidad de números que desee sumar."
   ]
  },
  {
   "cell_type": "code",
   "execution_count": null,
   "metadata": {},
   "outputs": [],
   "source": []
  }
 ],
 "metadata": {
  "anaconda-cloud": {},
  "colab": {
   "name": "TP1 - Parte 1.ipynb",
   "provenance": []
  },
  "kernelspec": {
   "display_name": "Python 3 (ipykernel)",
   "language": "python",
   "name": "python3"
  },
  "language_info": {
   "codemirror_mode": {
    "name": "ipython",
    "version": 3
   },
   "file_extension": ".py",
   "mimetype": "text/x-python",
   "name": "python",
   "nbconvert_exporter": "python",
   "pygments_lexer": "ipython3",
   "version": "3.11.4"
  }
 },
 "nbformat": 4,
 "nbformat_minor": 1
}
